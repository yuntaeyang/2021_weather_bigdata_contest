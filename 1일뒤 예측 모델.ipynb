<!DOCTYPE html>
<html>
<head><meta charset="utf-8" />
<meta name="viewport" content="width=device-width, initial-scale=1.0">

<title>18.51-1일차</title><script src="https://cdnjs.cloudflare.com/ajax/libs/require.js/2.1.10/require.min.js"></script>




<style type="text/css">
    pre { line-height: 125%; }
td.linenos .normal { color: inherit; background-color: transparent; padding-left: 5px; padding-right: 5px; }
span.linenos { color: inherit; background-color: transparent; padding-left: 5px; padding-right: 5px; }
td.linenos .special { color: #000000; background-color: #ffffc0; padding-left: 5px; padding-right: 5px; }
span.linenos.special { color: #000000; background-color: #ffffc0; padding-left: 5px; padding-right: 5px; }
.highlight .hll { background-color: var(--jp-cell-editor-active-background) }
.highlight { background: var(--jp-cell-editor-background); color: var(--jp-mirror-editor-variable-color) }
.highlight .c { color: var(--jp-mirror-editor-comment-color); font-style: italic } /* Comment */
.highlight .err { color: var(--jp-mirror-editor-error-color) } /* Error */
.highlight .k { color: var(--jp-mirror-editor-keyword-color); font-weight: bold } /* Keyword */
.highlight .o { color: var(--jp-mirror-editor-operator-color); font-weight: bold } /* Operator */
.highlight .p { color: var(--jp-mirror-editor-punctuation-color) } /* Punctuation */
.highlight .ch { color: var(--jp-mirror-editor-comment-color); font-style: italic } /* Comment.Hashbang */
.highlight .cm { color: var(--jp-mirror-editor-comment-color); font-style: italic } /* Comment.Multiline */
.highlight .cp { color: var(--jp-mirror-editor-comment-color); font-style: italic } /* Comment.Preproc */
.highlight .cpf { color: var(--jp-mirror-editor-comment-color); font-style: italic } /* Comment.PreprocFile */
.highlight .c1 { color: var(--jp-mirror-editor-comment-color); font-style: italic } /* Comment.Single */
.highlight .cs { color: var(--jp-mirror-editor-comment-color); font-style: italic } /* Comment.Special */
.highlight .kc { color: var(--jp-mirror-editor-keyword-color); font-weight: bold } /* Keyword.Constant */
.highlight .kd { color: var(--jp-mirror-editor-keyword-color); font-weight: bold } /* Keyword.Declaration */
.highlight .kn { color: var(--jp-mirror-editor-keyword-color); font-weight: bold } /* Keyword.Namespace */
.highlight .kp { color: var(--jp-mirror-editor-keyword-color); font-weight: bold } /* Keyword.Pseudo */
.highlight .kr { color: var(--jp-mirror-editor-keyword-color); font-weight: bold } /* Keyword.Reserved */
.highlight .kt { color: var(--jp-mirror-editor-keyword-color); font-weight: bold } /* Keyword.Type */
.highlight .m { color: var(--jp-mirror-editor-number-color) } /* Literal.Number */
.highlight .s { color: var(--jp-mirror-editor-string-color) } /* Literal.String */
.highlight .ow { color: var(--jp-mirror-editor-operator-color); font-weight: bold } /* Operator.Word */
.highlight .w { color: var(--jp-mirror-editor-variable-color) } /* Text.Whitespace */
.highlight .mb { color: var(--jp-mirror-editor-number-color) } /* Literal.Number.Bin */
.highlight .mf { color: var(--jp-mirror-editor-number-color) } /* Literal.Number.Float */
.highlight .mh { color: var(--jp-mirror-editor-number-color) } /* Literal.Number.Hex */
.highlight .mi { color: var(--jp-mirror-editor-number-color) } /* Literal.Number.Integer */
.highlight .mo { color: var(--jp-mirror-editor-number-color) } /* Literal.Number.Oct */
.highlight .sa { color: var(--jp-mirror-editor-string-color) } /* Literal.String.Affix */
.highlight .sb { color: var(--jp-mirror-editor-string-color) } /* Literal.String.Backtick */
.highlight .sc { color: var(--jp-mirror-editor-string-color) } /* Literal.String.Char */
.highlight .dl { color: var(--jp-mirror-editor-string-color) } /* Literal.String.Delimiter */
.highlight .sd { color: var(--jp-mirror-editor-string-color) } /* Literal.String.Doc */
.highlight .s2 { color: var(--jp-mirror-editor-string-color) } /* Literal.String.Double */
.highlight .se { color: var(--jp-mirror-editor-string-color) } /* Literal.String.Escape */
.highlight .sh { color: var(--jp-mirror-editor-string-color) } /* Literal.String.Heredoc */
.highlight .si { color: var(--jp-mirror-editor-string-color) } /* Literal.String.Interpol */
.highlight .sx { color: var(--jp-mirror-editor-string-color) } /* Literal.String.Other */
.highlight .sr { color: var(--jp-mirror-editor-string-color) } /* Literal.String.Regex */
.highlight .s1 { color: var(--jp-mirror-editor-string-color) } /* Literal.String.Single */
.highlight .ss { color: var(--jp-mirror-editor-string-color) } /* Literal.String.Symbol */
.highlight .il { color: var(--jp-mirror-editor-number-color) } /* Literal.Number.Integer.Long */
  </style>



<style type="text/css">
/*-----------------------------------------------------------------------------
| Copyright (c) Jupyter Development Team.
| Distributed under the terms of the Modified BSD License.
|----------------------------------------------------------------------------*/

/*
 * Mozilla scrollbar styling
 */

/* use standard opaque scrollbars for most nodes */
[data-jp-theme-scrollbars='true'] {
  scrollbar-color: rgb(var(--jp-scrollbar-thumb-color))
    var(--jp-scrollbar-background-color);
}

/* for code nodes, use a transparent style of scrollbar. These selectors
 * will match lower in the tree, and so will override the above */
[data-jp-theme-scrollbars='true'] .CodeMirror-hscrollbar,
[data-jp-theme-scrollbars='true'] .CodeMirror-vscrollbar {
  scrollbar-color: rgba(var(--jp-scrollbar-thumb-color), 0.5) transparent;
}

/*
 * Webkit scrollbar styling
 */

/* use standard opaque scrollbars for most nodes */

[data-jp-theme-scrollbars='true'] ::-webkit-scrollbar,
[data-jp-theme-scrollbars='true'] ::-webkit-scrollbar-corner {
  background: var(--jp-scrollbar-background-color);
}

[data-jp-theme-scrollbars='true'] ::-webkit-scrollbar-thumb {
  background: rgb(var(--jp-scrollbar-thumb-color));
  border: var(--jp-scrollbar-thumb-margin) solid transparent;
  background-clip: content-box;
  border-radius: var(--jp-scrollbar-thumb-radius);
}

[data-jp-theme-scrollbars='true'] ::-webkit-scrollbar-track:horizontal {
  border-left: var(--jp-scrollbar-endpad) solid
    var(--jp-scrollbar-background-color);
  border-right: var(--jp-scrollbar-endpad) solid
    var(--jp-scrollbar-background-color);
}

[data-jp-theme-scrollbars='true'] ::-webkit-scrollbar-track:vertical {
  border-top: var(--jp-scrollbar-endpad) solid
    var(--jp-scrollbar-background-color);
  border-bottom: var(--jp-scrollbar-endpad) solid
    var(--jp-scrollbar-background-color);
}

/* for code nodes, use a transparent style of scrollbar */

[data-jp-theme-scrollbars='true'] .CodeMirror-hscrollbar::-webkit-scrollbar,
[data-jp-theme-scrollbars='true'] .CodeMirror-vscrollbar::-webkit-scrollbar,
[data-jp-theme-scrollbars='true']
  .CodeMirror-hscrollbar::-webkit-scrollbar-corner,
[data-jp-theme-scrollbars='true']
  .CodeMirror-vscrollbar::-webkit-scrollbar-corner {
  background-color: transparent;
}

[data-jp-theme-scrollbars='true']
  .CodeMirror-hscrollbar::-webkit-scrollbar-thumb,
[data-jp-theme-scrollbars='true']
  .CodeMirror-vscrollbar::-webkit-scrollbar-thumb {
  background: rgba(var(--jp-scrollbar-thumb-color), 0.5);
  border: var(--jp-scrollbar-thumb-margin) solid transparent;
  background-clip: content-box;
  border-radius: var(--jp-scrollbar-thumb-radius);
}

[data-jp-theme-scrollbars='true']
  .CodeMirror-hscrollbar::-webkit-scrollbar-track:horizontal {
  border-left: var(--jp-scrollbar-endpad) solid transparent;
  border-right: var(--jp-scrollbar-endpad) solid transparent;
}

[data-jp-theme-scrollbars='true']
  .CodeMirror-vscrollbar::-webkit-scrollbar-track:vertical {
  border-top: var(--jp-scrollbar-endpad) solid transparent;
  border-bottom: var(--jp-scrollbar-endpad) solid transparent;
}

/*
 * Phosphor
 */

.lm-ScrollBar[data-orientation='horizontal'] {
  min-height: 16px;
  max-height: 16px;
  min-width: 45px;
  border-top: 1px solid #a0a0a0;
}

.lm-ScrollBar[data-orientation='vertical'] {
  min-width: 16px;
  max-width: 16px;
  min-height: 45px;
  border-left: 1px solid #a0a0a0;
}

.lm-ScrollBar-button {
  background-color: #f0f0f0;
  background-position: center center;
  min-height: 15px;
  max-height: 15px;
  min-width: 15px;
  max-width: 15px;
}

.lm-ScrollBar-button:hover {
  background-color: #dadada;
}

.lm-ScrollBar-button.lm-mod-active {
  background-color: #cdcdcd;
}

.lm-ScrollBar-track {
  background: #f0f0f0;
}

.lm-ScrollBar-thumb {
  background: #cdcdcd;
}

.lm-ScrollBar-thumb:hover {
  background: #bababa;
}

.lm-ScrollBar-thumb.lm-mod-active {
  background: #a0a0a0;
}

.lm-ScrollBar[data-orientation='horizontal'] .lm-ScrollBar-thumb {
  height: 100%;
  min-width: 15px;
  border-left: 1px solid #a0a0a0;
  border-right: 1px solid #a0a0a0;
}

.lm-ScrollBar[data-orientation='vertical'] .lm-ScrollBar-thumb {
  width: 100%;
  min-height: 15px;
  border-top: 1px solid #a0a0a0;
  border-bottom: 1px solid #a0a0a0;
}

.lm-ScrollBar[data-orientation='horizontal']
  .lm-ScrollBar-button[data-action='decrement'] {
  background-image: var(--jp-icon-caret-left);
  background-size: 17px;
}

.lm-ScrollBar[data-orientation='horizontal']
  .lm-ScrollBar-button[data-action='increment'] {
  background-image: var(--jp-icon-caret-right);
  background-size: 17px;
}

.lm-ScrollBar[data-orientation='vertical']
  .lm-ScrollBar-button[data-action='decrement'] {
  background-image: var(--jp-icon-caret-up);
  background-size: 17px;
}

.lm-ScrollBar[data-orientation='vertical']
  .lm-ScrollBar-button[data-action='increment'] {
  background-image: var(--jp-icon-caret-down);
  background-size: 17px;
}

/*-----------------------------------------------------------------------------
| Copyright (c) Jupyter Development Team.
| Copyright (c) 2014-2017, PhosphorJS Contributors
|
| Distributed under the terms of the BSD 3-Clause License.
|
| The full license is in the file LICENSE, distributed with this software.
|----------------------------------------------------------------------------*/


/* <DEPRECATED> */ .p-Widget, /* </DEPRECATED> */
.lm-Widget {
  box-sizing: border-box;
  position: relative;
  overflow: hidden;
  cursor: default;
}


/* <DEPRECATED> */ .p-Widget.p-mod-hidden, /* </DEPRECATED> */
.lm-Widget.lm-mod-hidden {
  display: none !important;
}

/*-----------------------------------------------------------------------------
| Copyright (c) Jupyter Development Team.
| Copyright (c) 2014-2017, PhosphorJS Contributors
|
| Distributed under the terms of the BSD 3-Clause License.
|
| The full license is in the file LICENSE, distributed with this software.
|----------------------------------------------------------------------------*/


/* <DEPRECATED> */ .p-CommandPalette, /* </DEPRECATED> */
.lm-CommandPalette {
  display: flex;
  flex-direction: column;
  -webkit-user-select: none;
  -moz-user-select: none;
  -ms-user-select: none;
  user-select: none;
}


/* <DEPRECATED> */ .p-CommandPalette-search, /* </DEPRECATED> */
.lm-CommandPalette-search {
  flex: 0 0 auto;
}


/* <DEPRECATED> */ .p-CommandPalette-content, /* </DEPRECATED> */
.lm-CommandPalette-content {
  flex: 1 1 auto;
  margin: 0;
  padding: 0;
  min-height: 0;
  overflow: auto;
  list-style-type: none;
}


/* <DEPRECATED> */ .p-CommandPalette-header, /* </DEPRECATED> */
.lm-CommandPalette-header {
  overflow: hidden;
  white-space: nowrap;
  text-overflow: ellipsis;
}


/* <DEPRECATED> */ .p-CommandPalette-item, /* </DEPRECATED> */
.lm-CommandPalette-item {
  display: flex;
  flex-direction: row;
}


/* <DEPRECATED> */ .p-CommandPalette-itemIcon, /* </DEPRECATED> */
.lm-CommandPalette-itemIcon {
  flex: 0 0 auto;
}


/* <DEPRECATED> */ .p-CommandPalette-itemContent, /* </DEPRECATED> */
.lm-CommandPalette-itemContent {
  flex: 1 1 auto;
  overflow: hidden;
}


/* <DEPRECATED> */ .p-CommandPalette-itemShortcut, /* </DEPRECATED> */
.lm-CommandPalette-itemShortcut {
  flex: 0 0 auto;
}


/* <DEPRECATED> */ .p-CommandPalette-itemLabel, /* </DEPRECATED> */
.lm-CommandPalette-itemLabel {
  overflow: hidden;
  white-space: nowrap;
  text-overflow: ellipsis;
}

/*-----------------------------------------------------------------------------
| Copyright (c) Jupyter Development Team.
| Copyright (c) 2014-2017, PhosphorJS Contributors
|
| Distributed under the terms of the BSD 3-Clause License.
|
| The full license is in the file LICENSE, distributed with this software.
|----------------------------------------------------------------------------*/


/* <DEPRECATED> */ .p-DockPanel, /* </DEPRECATED> */
.lm-DockPanel {
  z-index: 0;
}


/* <DEPRECATED> */ .p-DockPanel-widget, /* </DEPRECATED> */
.lm-DockPanel-widget {
  z-index: 0;
}


/* <DEPRECATED> */ .p-DockPanel-tabBar, /* </DEPRECATED> */
.lm-DockPanel-tabBar {
  z-index: 1;
}


/* <DEPRECATED> */ .p-DockPanel-handle, /* </DEPRECATED> */
.lm-DockPanel-handle {
  z-index: 2;
}


/* <DEPRECATED> */ .p-DockPanel-handle.p-mod-hidden, /* </DEPRECATED> */
.lm-DockPanel-handle.lm-mod-hidden {
  display: none !important;
}


/* <DEPRECATED> */ .p-DockPanel-handle:after, /* </DEPRECATED> */
.lm-DockPanel-handle:after {
  position: absolute;
  top: 0;
  left: 0;
  width: 100%;
  height: 100%;
  content: '';
}


/* <DEPRECATED> */
.p-DockPanel-handle[data-orientation='horizontal'],
/* </DEPRECATED> */
.lm-DockPanel-handle[data-orientation='horizontal'] {
  cursor: ew-resize;
}


/* <DEPRECATED> */
.p-DockPanel-handle[data-orientation='vertical'],
/* </DEPRECATED> */
.lm-DockPanel-handle[data-orientation='vertical'] {
  cursor: ns-resize;
}


/* <DEPRECATED> */
.p-DockPanel-handle[data-orientation='horizontal']:after,
/* </DEPRECATED> */
.lm-DockPanel-handle[data-orientation='horizontal']:after {
  left: 50%;
  min-width: 8px;
  transform: translateX(-50%);
}


/* <DEPRECATED> */
.p-DockPanel-handle[data-orientation='vertical']:after,
/* </DEPRECATED> */
.lm-DockPanel-handle[data-orientation='vertical']:after {
  top: 50%;
  min-height: 8px;
  transform: translateY(-50%);
}


/* <DEPRECATED> */ .p-DockPanel-overlay, /* </DEPRECATED> */
.lm-DockPanel-overlay {
  z-index: 3;
  box-sizing: border-box;
  pointer-events: none;
}


/* <DEPRECATED> */ .p-DockPanel-overlay.p-mod-hidden, /* </DEPRECATED> */
.lm-DockPanel-overlay.lm-mod-hidden {
  display: none !important;
}

/*-----------------------------------------------------------------------------
| Copyright (c) Jupyter Development Team.
| Copyright (c) 2014-2017, PhosphorJS Contributors
|
| Distributed under the terms of the BSD 3-Clause License.
|
| The full license is in the file LICENSE, distributed with this software.
|----------------------------------------------------------------------------*/


/* <DEPRECATED> */ .p-Menu, /* </DEPRECATED> */
.lm-Menu {
  z-index: 10000;
  position: absolute;
  white-space: nowrap;
  overflow-x: hidden;
  overflow-y: auto;
  outline: none;
  -webkit-user-select: none;
  -moz-user-select: none;
  -ms-user-select: none;
  user-select: none;
}


/* <DEPRECATED> */ .p-Menu-content, /* </DEPRECATED> */
.lm-Menu-content {
  margin: 0;
  padding: 0;
  display: table;
  list-style-type: none;
}


/* <DEPRECATED> */ .p-Menu-item, /* </DEPRECATED> */
.lm-Menu-item {
  display: table-row;
}


/* <DEPRECATED> */
.p-Menu-item.p-mod-hidden,
.p-Menu-item.p-mod-collapsed,
/* </DEPRECATED> */
.lm-Menu-item.lm-mod-hidden,
.lm-Menu-item.lm-mod-collapsed {
  display: none !important;
}


/* <DEPRECATED> */
.p-Menu-itemIcon,
.p-Menu-itemSubmenuIcon,
/* </DEPRECATED> */
.lm-Menu-itemIcon,
.lm-Menu-itemSubmenuIcon {
  display: table-cell;
  text-align: center;
}


/* <DEPRECATED> */ .p-Menu-itemLabel, /* </DEPRECATED> */
.lm-Menu-itemLabel {
  display: table-cell;
  text-align: left;
}


/* <DEPRECATED> */ .p-Menu-itemShortcut, /* </DEPRECATED> */
.lm-Menu-itemShortcut {
  display: table-cell;
  text-align: right;
}

/*-----------------------------------------------------------------------------
| Copyright (c) Jupyter Development Team.
| Copyright (c) 2014-2017, PhosphorJS Contributors
|
| Distributed under the terms of the BSD 3-Clause License.
|
| The full license is in the file LICENSE, distributed with this software.
|----------------------------------------------------------------------------*/


/* <DEPRECATED> */ .p-MenuBar, /* </DEPRECATED> */
.lm-MenuBar {
  outline: none;
  -webkit-user-select: none;
  -moz-user-select: none;
  -ms-user-select: none;
  user-select: none;
}


/* <DEPRECATED> */ .p-MenuBar-content, /* </DEPRECATED> */
.lm-MenuBar-content {
  margin: 0;
  padding: 0;
  display: flex;
  flex-direction: row;
  list-style-type: none;
}


/* <DEPRECATED> */ .p--MenuBar-item, /* </DEPRECATED> */
.lm-MenuBar-item {
  box-sizing: border-box;
}


/* <DEPRECATED> */
.p-MenuBar-itemIcon,
.p-MenuBar-itemLabel,
/* </DEPRECATED> */
.lm-MenuBar-itemIcon,
.lm-MenuBar-itemLabel {
  display: inline-block;
}

/*-----------------------------------------------------------------------------
| Copyright (c) Jupyter Development Team.
| Copyright (c) 2014-2017, PhosphorJS Contributors
|
| Distributed under the terms of the BSD 3-Clause License.
|
| The full license is in the file LICENSE, distributed with this software.
|----------------------------------------------------------------------------*/


/* <DEPRECATED> */ .p-ScrollBar, /* </DEPRECATED> */
.lm-ScrollBar {
  display: flex;
  -webkit-user-select: none;
  -moz-user-select: none;
  -ms-user-select: none;
  user-select: none;
}


/* <DEPRECATED> */
.p-ScrollBar[data-orientation='horizontal'],
/* </DEPRECATED> */
.lm-ScrollBar[data-orientation='horizontal'] {
  flex-direction: row;
}


/* <DEPRECATED> */
.p-ScrollBar[data-orientation='vertical'],
/* </DEPRECATED> */
.lm-ScrollBar[data-orientation='vertical'] {
  flex-direction: column;
}


/* <DEPRECATED> */ .p-ScrollBar-button, /* </DEPRECATED> */
.lm-ScrollBar-button {
  box-sizing: border-box;
  flex: 0 0 auto;
}


/* <DEPRECATED> */ .p-ScrollBar-track, /* </DEPRECATED> */
.lm-ScrollBar-track {
  box-sizing: border-box;
  position: relative;
  overflow: hidden;
  flex: 1 1 auto;
}


/* <DEPRECATED> */ .p-ScrollBar-thumb, /* </DEPRECATED> */
.lm-ScrollBar-thumb {
  box-sizing: border-box;
  position: absolute;
}

/*-----------------------------------------------------------------------------
| Copyright (c) Jupyter Development Team.
| Copyright (c) 2014-2017, PhosphorJS Contributors
|
| Distributed under the terms of the BSD 3-Clause License.
|
| The full license is in the file LICENSE, distributed with this software.
|----------------------------------------------------------------------------*/


/* <DEPRECATED> */ .p-SplitPanel-child, /* </DEPRECATED> */
.lm-SplitPanel-child {
  z-index: 0;
}


/* <DEPRECATED> */ .p-SplitPanel-handle, /* </DEPRECATED> */
.lm-SplitPanel-handle {
  z-index: 1;
}


/* <DEPRECATED> */ .p-SplitPanel-handle.p-mod-hidden, /* </DEPRECATED> */
.lm-SplitPanel-handle.lm-mod-hidden {
  display: none !important;
}


/* <DEPRECATED> */ .p-SplitPanel-handle:after, /* </DEPRECATED> */
.lm-SplitPanel-handle:after {
  position: absolute;
  top: 0;
  left: 0;
  width: 100%;
  height: 100%;
  content: '';
}


/* <DEPRECATED> */
.p-SplitPanel[data-orientation='horizontal'] > .p-SplitPanel-handle,
/* </DEPRECATED> */
.lm-SplitPanel[data-orientation='horizontal'] > .lm-SplitPanel-handle {
  cursor: ew-resize;
}


/* <DEPRECATED> */
.p-SplitPanel[data-orientation='vertical'] > .p-SplitPanel-handle,
/* </DEPRECATED> */
.lm-SplitPanel[data-orientation='vertical'] > .lm-SplitPanel-handle {
  cursor: ns-resize;
}


/* <DEPRECATED> */
.p-SplitPanel[data-orientation='horizontal'] > .p-SplitPanel-handle:after,
/* </DEPRECATED> */
.lm-SplitPanel[data-orientation='horizontal'] > .lm-SplitPanel-handle:after {
  left: 50%;
  min-width: 8px;
  transform: translateX(-50%);
}


/* <DEPRECATED> */
.p-SplitPanel[data-orientation='vertical'] > .p-SplitPanel-handle:after,
/* </DEPRECATED> */
.lm-SplitPanel[data-orientation='vertical'] > .lm-SplitPanel-handle:after {
  top: 50%;
  min-height: 8px;
  transform: translateY(-50%);
}

/*-----------------------------------------------------------------------------
| Copyright (c) Jupyter Development Team.
| Copyright (c) 2014-2017, PhosphorJS Contributors
|
| Distributed under the terms of the BSD 3-Clause License.
|
| The full license is in the file LICENSE, distributed with this software.
|----------------------------------------------------------------------------*/


/* <DEPRECATED> */ .p-TabBar, /* </DEPRECATED> */
.lm-TabBar {
  display: flex;
  -webkit-user-select: none;
  -moz-user-select: none;
  -ms-user-select: none;
  user-select: none;
}


/* <DEPRECATED> */ .p-TabBar[data-orientation='horizontal'], /* </DEPRECATED> */
.lm-TabBar[data-orientation='horizontal'] {
  flex-direction: row;
}


/* <DEPRECATED> */ .p-TabBar[data-orientation='vertical'], /* </DEPRECATED> */
.lm-TabBar[data-orientation='vertical'] {
  flex-direction: column;
}


/* <DEPRECATED> */ .p-TabBar-content, /* </DEPRECATED> */
.lm-TabBar-content {
  margin: 0;
  padding: 0;
  display: flex;
  flex: 1 1 auto;
  list-style-type: none;
}


/* <DEPRECATED> */
.p-TabBar[data-orientation='horizontal'] > .p-TabBar-content,
/* </DEPRECATED> */
.lm-TabBar[data-orientation='horizontal'] > .lm-TabBar-content {
  flex-direction: row;
}


/* <DEPRECATED> */
.p-TabBar[data-orientation='vertical'] > .p-TabBar-content,
/* </DEPRECATED> */
.lm-TabBar[data-orientation='vertical'] > .lm-TabBar-content {
  flex-direction: column;
}


/* <DEPRECATED> */ .p-TabBar-tab, /* </DEPRECATED> */
.lm-TabBar-tab {
  display: flex;
  flex-direction: row;
  box-sizing: border-box;
  overflow: hidden;
}


/* <DEPRECATED> */
.p-TabBar-tabIcon,
.p-TabBar-tabCloseIcon,
/* </DEPRECATED> */
.lm-TabBar-tabIcon,
.lm-TabBar-tabCloseIcon {
  flex: 0 0 auto;
}


/* <DEPRECATED> */ .p-TabBar-tabLabel, /* </DEPRECATED> */
.lm-TabBar-tabLabel {
  flex: 1 1 auto;
  overflow: hidden;
  white-space: nowrap;
}


/* <DEPRECATED> */ .p-TabBar-tab.p-mod-hidden, /* </DEPRECATED> */
.lm-TabBar-tab.lm-mod-hidden {
  display: none !important;
}


/* <DEPRECATED> */ .p-TabBar.p-mod-dragging .p-TabBar-tab, /* </DEPRECATED> */
.lm-TabBar.lm-mod-dragging .lm-TabBar-tab {
  position: relative;
}


/* <DEPRECATED> */
.p-TabBar.p-mod-dragging[data-orientation='horizontal'] .p-TabBar-tab,
/* </DEPRECATED> */
.lm-TabBar.lm-mod-dragging[data-orientation='horizontal'] .lm-TabBar-tab {
  left: 0;
  transition: left 150ms ease;
}


/* <DEPRECATED> */
.p-TabBar.p-mod-dragging[data-orientation='vertical'] .p-TabBar-tab,
/* </DEPRECATED> */
.lm-TabBar.lm-mod-dragging[data-orientation='vertical'] .lm-TabBar-tab {
  top: 0;
  transition: top 150ms ease;
}


/* <DEPRECATED> */
.p-TabBar.p-mod-dragging .p-TabBar-tab.p-mod-dragging
/* </DEPRECATED> */
.lm-TabBar.lm-mod-dragging .lm-TabBar-tab.lm-mod-dragging {
  transition: none;
}

/*-----------------------------------------------------------------------------
| Copyright (c) Jupyter Development Team.
| Copyright (c) 2014-2017, PhosphorJS Contributors
|
| Distributed under the terms of the BSD 3-Clause License.
|
| The full license is in the file LICENSE, distributed with this software.
|----------------------------------------------------------------------------*/


/* <DEPRECATED> */ .p-TabPanel-tabBar, /* </DEPRECATED> */
.lm-TabPanel-tabBar {
  z-index: 1;
}


/* <DEPRECATED> */ .p-TabPanel-stackedPanel, /* </DEPRECATED> */
.lm-TabPanel-stackedPanel {
  z-index: 0;
}

/*-----------------------------------------------------------------------------
| Copyright (c) Jupyter Development Team.
| Copyright (c) 2014-2017, PhosphorJS Contributors
|
| Distributed under the terms of the BSD 3-Clause License.
|
| The full license is in the file LICENSE, distributed with this software.
|----------------------------------------------------------------------------*/

@charset "UTF-8";
/*!

Copyright 2015-present Palantir Technologies, Inc. All rights reserved.
Licensed under the Apache License, Version 2.0.

*/
html{
  -webkit-box-sizing:border-box;
          box-sizing:border-box; }

*,
*::before,
*::after{
  -webkit-box-sizing:inherit;
          box-sizing:inherit; }

body{
  text-transform:none;
  line-height:1.28581;
  letter-spacing:0;
  font-size:14px;
  font-weight:400;
  color:#182026;
  font-family:-apple-system, "BlinkMacSystemFont", "Segoe UI", "Roboto", "Oxygen", "Ubuntu", "Cantarell", "Open Sans", "Helvetica Neue", "Icons16", sans-serif; }

p{
  margin-top:0;
  margin-bottom:10px; }

small{
  font-size:12px; }

strong{
  font-weight:600; }

::-moz-selection{
  background:rgba(125, 188, 255, 0.6); }

::selection{
  background:rgba(125, 188, 255, 0.6); }
.bp3-heading{
  color:#182026;
  font-weight:600;
  margin:0 0 10px;
  padding:0; }
  .bp3-dark .bp3-heading{
    color:#f5f8fa; }

h1.bp3-heading, .bp3-running-text h1{
  line-height:40px;
  font-size:36px; }

h2.bp3-heading, .bp3-running-text h2{
  line-height:32px;
  font-size:28px; }

h3.bp3-heading, .bp3-running-text h3{
  line-height:25px;
  font-size:22px; }

h4.bp3-heading, .bp3-running-text h4{
  line-height:21px;
  font-size:18px; }

h5.bp3-heading, .bp3-running-text h5{
  line-height:19px;
  font-size:16px; }

h6.bp3-heading, .bp3-running-text h6{
  line-height:16px;
  font-size:14px; }
.bp3-ui-text{
  text-transform:none;
  line-height:1.28581;
  letter-spacing:0;
  font-size:14px;
  font-weight:400; }

.bp3-monospace-text{
  text-transform:none;
  font-family:monospace; }

.bp3-text-muted{
  color:#5c7080; }
  .bp3-dark .bp3-text-muted{
    color:#a7b6c2; }

.bp3-text-disabled{
  color:rgba(92, 112, 128, 0.6); }
  .bp3-dark .bp3-text-disabled{
    color:rgba(167, 182, 194, 0.6); }

.bp3-text-overflow-ellipsis{
  overflow:hidden;
  text-overflow:ellipsis;
  white-space:nowrap;
  word-wrap:normal; }
.bp3-running-text{
  line-height:1.5;
  font-size:14px; }
  .bp3-running-text h1{
    color:#182026;
    font-weight:600;
    margin-top:40px;
    margin-bottom:20px; }
    .bp3-dark .bp3-running-text h1{
      color:#f5f8fa; }
  .bp3-running-text h2{
    color:#182026;
    font-weight:600;
    margin-top:40px;
    margin-bottom:20px; }
    .bp3-dark .bp3-running-text h2{
      color:#f5f8fa; }
  .bp3-running-text h3{
    color:#182026;
    font-weight:600;
    margin-top:40px;
    margin-bottom:20px; }
    .bp3-dark .bp3-running-text h3{
      color:#f5f8fa; }
  .bp3-running-text h4{
    color:#182026;
    font-weight:600;
    margin-top:40px;
    margin-bottom:20px; }
    .bp3-dark .bp3-running-text h4{
      color:#f5f8fa; }
  .bp3-running-text h5{
    color:#182026;
    font-weight:600;
    margin-top:40px;
    margin-bottom:20px; }
    .bp3-dark .bp3-running-text h5{
      color:#f5f8fa; }
  .bp3-running-text h6{
    color:#182026;
    font-weight:600;
    margin-top:40px;
    margin-bottom:20px; }
    .bp3-dark .bp3-running-text h6{
      color:#f5f8fa; }
  .bp3-running-text hr{
    margin:20px 0;
    border:none;
    border-bottom:1px solid rgba(16, 22, 26, 0.15); }
    .bp3-dark .bp3-running-text hr{
      border-color:rgba(255, 255, 255, 0.15); }
  .bp3-running-text p{
    margin:0 0 10px;
    padding:0; }

.bp3-text-large{
  font-size:16px; }

.bp3-text-small{
  font-size:12px; }
a{
  text-decoration:none;
  color:#106ba3; }
  a:hover{
    cursor:pointer;
    text-decoration:underline;
    color:#106ba3; }
  a .bp3-icon, a .bp3-icon-standard, a .bp3-icon-large{
    color:inherit; }
  a code,
  .bp3-dark a code{
    color:inherit; }
  .bp3-dark a,
  .bp3-dark a:hover{
    color:#48aff0; }
    .bp3-dark a .bp3-icon, .bp3-dark a .bp3-icon-standard, .bp3-dark a .bp3-icon-large,
    .bp3-dark a:hover .bp3-icon,
    .bp3-dark a:hover .bp3-icon-standard,
    .bp3-dark a:hover .bp3-icon-large{
      color:inherit; }
.bp3-running-text code, .bp3-code{
  text-transform:none;
  font-family:monospace;
  border-radius:3px;
  -webkit-box-shadow:inset 0 0 0 1px rgba(16, 22, 26, 0.2);
          box-shadow:inset 0 0 0 1px rgba(16, 22, 26, 0.2);
  background:rgba(255, 255, 255, 0.7);
  padding:2px 5px;
  color:#5c7080;
  font-size:smaller; }
  .bp3-dark .bp3-running-text code, .bp3-running-text .bp3-dark code, .bp3-dark .bp3-code{
    -webkit-box-shadow:inset 0 0 0 1px rgba(16, 22, 26, 0.4);
            box-shadow:inset 0 0 0 1px rgba(16, 22, 26, 0.4);
    background:rgba(16, 22, 26, 0.3);
    color:#a7b6c2; }
  .bp3-running-text a > code, a > .bp3-code{
    color:#137cbd; }
    .bp3-dark .bp3-running-text a > code, .bp3-running-text .bp3-dark a > code, .bp3-dark a > .bp3-code{
      color:inherit; }

.bp3-running-text pre, .bp3-code-block{
  text-transform:none;
  font-family:monospace;
  display:block;
  margin:10px 0;
  border-radius:3px;
  -webkit-box-shadow:inset 0 0 0 1px rgba(16, 22, 26, 0.15);
          box-shadow:inset 0 0 0 1px rgba(16, 22, 26, 0.15);
  background:rgba(255, 255, 255, 0.7);
  padding:13px 15px 12px;
  line-height:1.4;
  color:#182026;
  font-size:13px;
  word-break:break-all;
  word-wrap:break-word; }
  .bp3-dark .bp3-running-text pre, .bp3-running-text .bp3-dark pre, .bp3-dark .bp3-code-block{
    -webkit-box-shadow:inset 0 0 0 1px rgba(16, 22, 26, 0.4);
            box-shadow:inset 0 0 0 1px rgba(16, 22, 26, 0.4);
    background:rgba(16, 22, 26, 0.3);
    color:#f5f8fa; }
  .bp3-running-text pre > code, .bp3-code-block > code{
    -webkit-box-shadow:none;
            box-shadow:none;
    background:none;
    padding:0;
    color:inherit;
    font-size:inherit; }

.bp3-running-text kbd, .bp3-key{
  display:-webkit-inline-box;
  display:-ms-inline-flexbox;
  display:inline-flex;
  -webkit-box-align:center;
      -ms-flex-align:center;
          align-items:center;
  -webkit-box-pack:center;
      -ms-flex-pack:center;
          justify-content:center;
  border-radius:3px;
  -webkit-box-shadow:0 0 0 1px rgba(16, 22, 26, 0.1), 0 0 0 rgba(16, 22, 26, 0), 0 1px 1px rgba(16, 22, 26, 0.2);
          box-shadow:0 0 0 1px rgba(16, 22, 26, 0.1), 0 0 0 rgba(16, 22, 26, 0), 0 1px 1px rgba(16, 22, 26, 0.2);
  background:#ffffff;
  min-width:24px;
  height:24px;
  padding:3px 6px;
  vertical-align:middle;
  line-height:24px;
  color:#5c7080;
  font-family:inherit;
  font-size:12px; }
  .bp3-running-text kbd .bp3-icon, .bp3-key .bp3-icon, .bp3-running-text kbd .bp3-icon-standard, .bp3-key .bp3-icon-standard, .bp3-running-text kbd .bp3-icon-large, .bp3-key .bp3-icon-large{
    margin-right:5px; }
  .bp3-dark .bp3-running-text kbd, .bp3-running-text .bp3-dark kbd, .bp3-dark .bp3-key{
    -webkit-box-shadow:0 0 0 1px rgba(16, 22, 26, 0.2), 0 0 0 rgba(16, 22, 26, 0), 0 1px 1px rgba(16, 22, 26, 0.4);
            box-shadow:0 0 0 1px rgba(16, 22, 26, 0.2), 0 0 0 rgba(16, 22, 26, 0), 0 1px 1px rgba(16, 22, 26, 0.4);
    background:#394b59;
    color:#a7b6c2; }
.bp3-running-text blockquote, .bp3-blockquote{
  margin:0 0 10px;
  border-left:solid 4px rgba(167, 182, 194, 0.5);
  padding:0 20px; }
  .bp3-dark .bp3-running-text blockquote, .bp3-running-text .bp3-dark blockquote, .bp3-dark .bp3-blockquote{
    border-color:rgba(115, 134, 148, 0.5); }
.bp3-running-text ul,
.bp3-running-text ol, .bp3-list{
  margin:10px 0;
  padding-left:30px; }
  .bp3-running-text ul li:not(:last-child), .bp3-running-text ol li:not(:last-child), .bp3-list li:not(:last-child){
    margin-bottom:5px; }
  .bp3-running-text ul ol, .bp3-running-text ol ol, .bp3-list ol,
  .bp3-running-text ul ul,
  .bp3-running-text ol ul,
  .bp3-list ul{
    margin-top:5px; }

.bp3-list-unstyled{
  margin:0;
  padding:0;
  list-style:none; }
  .bp3-list-unstyled li{
    padding:0; }
.bp3-rtl{
  text-align:right; }

.bp3-dark{
  color:#f5f8fa; }

:focus{
  outline:rgba(19, 124, 189, 0.6) auto 2px;
  outline-offset:2px;
  -moz-outline-radius:6px; }

.bp3-focus-disabled :focus{
  outline:none !important; }
  .bp3-focus-disabled :focus ~ .bp3-control-indicator{
    outline:none !important; }

.bp3-alert{
  max-width:400px;
  padding:20px; }

.bp3-alert-body{
  display:-webkit-box;
  display:-ms-flexbox;
  display:flex; }
  .bp3-alert-body .bp3-icon{
    margin-top:0;
    margin-right:20px;
    font-size:40px; }

.bp3-alert-footer{
  display:-webkit-box;
  display:-ms-flexbox;
  display:flex;
  -webkit-box-orient:horizontal;
  -webkit-box-direction:reverse;
      -ms-flex-direction:row-reverse;
          flex-direction:row-reverse;
  margin-top:10px; }
  .bp3-alert-footer .bp3-button{
    margin-left:10px; }
.bp3-breadcrumbs{
  display:-webkit-box;
  display:-ms-flexbox;
  display:flex;
  -ms-flex-wrap:wrap;
      flex-wrap:wrap;
  -webkit-box-align:center;
      -ms-flex-align:center;
          align-items:center;
  margin:0;
  cursor:default;
  height:30px;
  padding:0;
  list-style:none; }
  .bp3-breadcrumbs > li{
    display:-webkit-box;
    display:-ms-flexbox;
    display:flex;
    -webkit-box-align:center;
        -ms-flex-align:center;
            align-items:center; }
    .bp3-breadcrumbs > li::after{
      display:block;
      margin:0 5px;
      background:url("data:image/svg+xml,%3csvg xmlns='http://www.w3.org/2000/svg' viewBox='0 0 16 16'%3e%3cpath fill-rule='evenodd' clip-rule='evenodd' d='M10.71 7.29l-4-4a1.003 1.003 0 0 0-1.42 1.42L8.59 8 5.3 11.29c-.19.18-.3.43-.3.71a1.003 1.003 0 0 0 1.71.71l4-4c.18-.18.29-.43.29-.71 0-.28-.11-.53-.29-.71z' fill='%235C7080'/%3e%3c/svg%3e");
      width:16px;
      height:16px;
      content:""; }
    .bp3-breadcrumbs > li:last-of-type::after{
      display:none; }

.bp3-breadcrumb,
.bp3-breadcrumb-current,
.bp3-breadcrumbs-collapsed{
  display:-webkit-inline-box;
  display:-ms-inline-flexbox;
  display:inline-flex;
  -webkit-box-align:center;
      -ms-flex-align:center;
          align-items:center;
  font-size:16px; }

.bp3-breadcrumb,
.bp3-breadcrumbs-collapsed{
  color:#5c7080; }

.bp3-breadcrumb:hover{
  text-decoration:none; }

.bp3-breadcrumb.bp3-disabled{
  cursor:not-allowed;
  color:rgba(92, 112, 128, 0.6); }

.bp3-breadcrumb .bp3-icon{
  margin-right:5px; }

.bp3-breadcrumb-current{
  color:inherit;
  font-weight:600; }
  .bp3-breadcrumb-current .bp3-input{
    vertical-align:baseline;
    font-size:inherit;
    font-weight:inherit; }

.bp3-breadcrumbs-collapsed{
  margin-right:2px;
  border:none;
  border-radius:3px;
  background:#ced9e0;
  cursor:pointer;
  padding:1px 5px;
  vertical-align:text-bottom; }
  .bp3-breadcrumbs-collapsed::before{
    display:block;
    background:url("data:image/svg+xml,%3csvg xmlns='http://www.w3.org/2000/svg' viewBox='0 0 16 16'%3e%3cg fill='%235C7080'%3e%3ccircle cx='2' cy='8.03' r='2'/%3e%3ccircle cx='14' cy='8.03' r='2'/%3e%3ccircle cx='8' cy='8.03' r='2'/%3e%3c/g%3e%3c/svg%3e") center no-repeat;
    width:16px;
    height:16px;
    content:""; }
  .bp3-breadcrumbs-collapsed:hover{
    background:#bfccd6;
    text-decoration:none;
    color:#182026; }

.bp3-dark .bp3-breadcrumb,
.bp3-dark .bp3-breadcrumbs-collapsed{
  color:#a7b6c2; }

.bp3-dark .bp3-breadcrumbs > li::after{
  color:#a7b6c2; }

.bp3-dark .bp3-breadcrumb.bp3-disabled{
  color:rgba(167, 182, 194, 0.6); }

.bp3-dark .bp3-breadcrumb-current{
  color:#f5f8fa; }

.bp3-dark .bp3-breadcrumbs-collapsed{
  background:rgba(16, 22, 26, 0.4); }
  .bp3-dark .bp3-breadcrumbs-collapsed:hover{
    background:rgba(16, 22, 26, 0.6);
    color:#f5f8fa; }
.bp3-button{
  display:-webkit-inline-box;
  display:-ms-inline-flexbox;
  display:inline-flex;
  -webkit-box-orient:horizontal;
  -webkit-box-direction:normal;
      -ms-flex-direction:row;
          flex-direction:row;
  -webkit-box-align:center;
      -ms-flex-align:center;
          align-items:center;
  -webkit-box-pack:center;
      -ms-flex-pack:center;
          justify-content:center;
  border:none;
  border-radius:3px;
  cursor:pointer;
  padding:5px 10px;
  vertical-align:middle;
  text-align:left;
  font-size:14px;
  min-width:30px;
  min-height:30px; }
  .bp3-button > *{
    -webkit-box-flex:0;
        -ms-flex-positive:0;
            flex-grow:0;
    -ms-flex-negative:0;
        flex-shrink:0; }
  .bp3-button > .bp3-fill{
    -webkit-box-flex:1;
        -ms-flex-positive:1;
            flex-grow:1;
    -ms-flex-negative:1;
        flex-shrink:1; }
  .bp3-button::before,
  .bp3-button > *{
    margin-right:7px; }
  .bp3-button:empty::before,
  .bp3-button > :last-child{
    margin-right:0; }
  .bp3-button:empty{
    padding:0 !important; }
  .bp3-button:disabled, .bp3-button.bp3-disabled{
    cursor:not-allowed; }
  .bp3-button.bp3-fill{
    display:-webkit-box;
    display:-ms-flexbox;
    display:flex;
    width:100%; }
  .bp3-button.bp3-align-right,
  .bp3-align-right .bp3-button{
    text-align:right; }
  .bp3-button.bp3-align-left,
  .bp3-align-left .bp3-button{
    text-align:left; }
  .bp3-button:not([class*="bp3-intent-"]){
    -webkit-box-shadow:inset 0 0 0 1px rgba(16, 22, 26, 0.2), inset 0 -1px 0 rgba(16, 22, 26, 0.1);
            box-shadow:inset 0 0 0 1px rgba(16, 22, 26, 0.2), inset 0 -1px 0 rgba(16, 22, 26, 0.1);
    background-color:#f5f8fa;
    background-image:-webkit-gradient(linear, left top, left bottom, from(rgba(255, 255, 255, 0.8)), to(rgba(255, 255, 255, 0)));
    background-image:linear-gradient(to bottom, rgba(255, 255, 255, 0.8), rgba(255, 255, 255, 0));
    color:#182026; }
    .bp3-button:not([class*="bp3-intent-"]):hover{
      -webkit-box-shadow:inset 0 0 0 1px rgba(16, 22, 26, 0.2), inset 0 -1px 0 rgba(16, 22, 26, 0.1);
              box-shadow:inset 0 0 0 1px rgba(16, 22, 26, 0.2), inset 0 -1px 0 rgba(16, 22, 26, 0.1);
      background-clip:padding-box;
      background-color:#ebf1f5; }
    .bp3-button:not([class*="bp3-intent-"]):active, .bp3-button:not([class*="bp3-intent-"]).bp3-active{
      -webkit-box-shadow:inset 0 0 0 1px rgba(16, 22, 26, 0.2), inset 0 1px 2px rgba(16, 22, 26, 0.2);
              box-shadow:inset 0 0 0 1px rgba(16, 22, 26, 0.2), inset 0 1px 2px rgba(16, 22, 26, 0.2);
      background-color:#d8e1e8;
      background-image:none; }
    .bp3-button:not([class*="bp3-intent-"]):disabled, .bp3-button:not([class*="bp3-intent-"]).bp3-disabled{
      outline:none;
      -webkit-box-shadow:none;
              box-shadow:none;
      background-color:rgba(206, 217, 224, 0.5);
      background-image:none;
      cursor:not-allowed;
      color:rgba(92, 112, 128, 0.6); }
      .bp3-button:not([class*="bp3-intent-"]):disabled.bp3-active, .bp3-button:not([class*="bp3-intent-"]):disabled.bp3-active:hover, .bp3-button:not([class*="bp3-intent-"]).bp3-disabled.bp3-active, .bp3-button:not([class*="bp3-intent-"]).bp3-disabled.bp3-active:hover{
        background:rgba(206, 217, 224, 0.7); }
  .bp3-button.bp3-intent-primary{
    -webkit-box-shadow:inset 0 0 0 1px rgba(16, 22, 26, 0.4), inset 0 -1px 0 rgba(16, 22, 26, 0.2);
            box-shadow:inset 0 0 0 1px rgba(16, 22, 26, 0.4), inset 0 -1px 0 rgba(16, 22, 26, 0.2);
    background-color:#137cbd;
    background-image:-webkit-gradient(linear, left top, left bottom, from(rgba(255, 255, 255, 0.1)), to(rgba(255, 255, 255, 0)));
    background-image:linear-gradient(to bottom, rgba(255, 255, 255, 0.1), rgba(255, 255, 255, 0));
    color:#ffffff; }
    .bp3-button.bp3-intent-primary:hover, .bp3-button.bp3-intent-primary:active, .bp3-button.bp3-intent-primary.bp3-active{
      color:#ffffff; }
    .bp3-button.bp3-intent-primary:hover{
      -webkit-box-shadow:inset 0 0 0 1px rgba(16, 22, 26, 0.4), inset 0 -1px 0 rgba(16, 22, 26, 0.2);
              box-shadow:inset 0 0 0 1px rgba(16, 22, 26, 0.4), inset 0 -1px 0 rgba(16, 22, 26, 0.2);
      background-color:#106ba3; }
    .bp3-button.bp3-intent-primary:active, .bp3-button.bp3-intent-primary.bp3-active{
      -webkit-box-shadow:inset 0 0 0 1px rgba(16, 22, 26, 0.4), inset 0 1px 2px rgba(16, 22, 26, 0.2);
              box-shadow:inset 0 0 0 1px rgba(16, 22, 26, 0.4), inset 0 1px 2px rgba(16, 22, 26, 0.2);
      background-color:#0e5a8a;
      background-image:none; }
    .bp3-button.bp3-intent-primary:disabled, .bp3-button.bp3-intent-primary.bp3-disabled{
      border-color:transparent;
      -webkit-box-shadow:none;
              box-shadow:none;
      background-color:rgba(19, 124, 189, 0.5);
      background-image:none;
      color:rgba(255, 255, 255, 0.6); }
  .bp3-button.bp3-intent-success{
    -webkit-box-shadow:inset 0 0 0 1px rgba(16, 22, 26, 0.4), inset 0 -1px 0 rgba(16, 22, 26, 0.2);
            box-shadow:inset 0 0 0 1px rgba(16, 22, 26, 0.4), inset 0 -1px 0 rgba(16, 22, 26, 0.2);
    background-color:#0f9960;
    background-image:-webkit-gradient(linear, left top, left bottom, from(rgba(255, 255, 255, 0.1)), to(rgba(255, 255, 255, 0)));
    background-image:linear-gradient(to bottom, rgba(255, 255, 255, 0.1), rgba(255, 255, 255, 0));
    color:#ffffff; }
    .bp3-button.bp3-intent-success:hover, .bp3-button.bp3-intent-success:active, .bp3-button.bp3-intent-success.bp3-active{
      color:#ffffff; }
    .bp3-button.bp3-intent-success:hover{
      -webkit-box-shadow:inset 0 0 0 1px rgba(16, 22, 26, 0.4), inset 0 -1px 0 rgba(16, 22, 26, 0.2);
              box-shadow:inset 0 0 0 1px rgba(16, 22, 26, 0.4), inset 0 -1px 0 rgba(16, 22, 26, 0.2);
      background-color:#0d8050; }
    .bp3-button.bp3-intent-success:active, .bp3-button.bp3-intent-success.bp3-active{
      -webkit-box-shadow:inset 0 0 0 1px rgba(16, 22, 26, 0.4), inset 0 1px 2px rgba(16, 22, 26, 0.2);
              box-shadow:inset 0 0 0 1px rgba(16, 22, 26, 0.4), inset 0 1px 2px rgba(16, 22, 26, 0.2);
      background-color:#0a6640;
      background-image:none; }
    .bp3-button.bp3-intent-success:disabled, .bp3-button.bp3-intent-success.bp3-disabled{
      border-color:transparent;
      -webkit-box-shadow:none;
              box-shadow:none;
      background-color:rgba(15, 153, 96, 0.5);
      background-image:none;
      color:rgba(255, 255, 255, 0.6); }
  .bp3-button.bp3-intent-warning{
    -webkit-box-shadow:inset 0 0 0 1px rgba(16, 22, 26, 0.4), inset 0 -1px 0 rgba(16, 22, 26, 0.2);
            box-shadow:inset 0 0 0 1px rgba(16, 22, 26, 0.4), inset 0 -1px 0 rgba(16, 22, 26, 0.2);
    background-color:#d9822b;
    background-image:-webkit-gradient(linear, left top, left bottom, from(rgba(255, 255, 255, 0.1)), to(rgba(255, 255, 255, 0)));
    background-image:linear-gradient(to bottom, rgba(255, 255, 255, 0.1), rgba(255, 255, 255, 0));
    color:#ffffff; }
    .bp3-button.bp3-intent-warning:hover, .bp3-button.bp3-intent-warning:active, .bp3-button.bp3-intent-warning.bp3-active{
      color:#ffffff; }
    .bp3-button.bp3-intent-warning:hover{
      -webkit-box-shadow:inset 0 0 0 1px rgba(16, 22, 26, 0.4), inset 0 -1px 0 rgba(16, 22, 26, 0.2);
              box-shadow:inset 0 0 0 1px rgba(16, 22, 26, 0.4), inset 0 -1px 0 rgba(16, 22, 26, 0.2);
      background-color:#bf7326; }
    .bp3-button.bp3-intent-warning:active, .bp3-button.bp3-intent-warning.bp3-active{
      -webkit-box-shadow:inset 0 0 0 1px rgba(16, 22, 26, 0.4), inset 0 1px 2px rgba(16, 22, 26, 0.2);
              box-shadow:inset 0 0 0 1px rgba(16, 22, 26, 0.4), inset 0 1px 2px rgba(16, 22, 26, 0.2);
      background-color:#a66321;
      background-image:none; }
    .bp3-button.bp3-intent-warning:disabled, .bp3-button.bp3-intent-warning.bp3-disabled{
      border-color:transparent;
      -webkit-box-shadow:none;
              box-shadow:none;
      background-color:rgba(217, 130, 43, 0.5);
      background-image:none;
      color:rgba(255, 255, 255, 0.6); }
  .bp3-button.bp3-intent-danger{
    -webkit-box-shadow:inset 0 0 0 1px rgba(16, 22, 26, 0.4), inset 0 -1px 0 rgba(16, 22, 26, 0.2);
            box-shadow:inset 0 0 0 1px rgba(16, 22, 26, 0.4), inset 0 -1px 0 rgba(16, 22, 26, 0.2);
    background-color:#db3737;
    background-image:-webkit-gradient(linear, left top, left bottom, from(rgba(255, 255, 255, 0.1)), to(rgba(255, 255, 255, 0)));
    background-image:linear-gradient(to bottom, rgba(255, 255, 255, 0.1), rgba(255, 255, 255, 0));
    color:#ffffff; }
    .bp3-button.bp3-intent-danger:hover, .bp3-button.bp3-intent-danger:active, .bp3-button.bp3-intent-danger.bp3-active{
      color:#ffffff; }
    .bp3-button.bp3-intent-danger:hover{
      -webkit-box-shadow:inset 0 0 0 1px rgba(16, 22, 26, 0.4), inset 0 -1px 0 rgba(16, 22, 26, 0.2);
              box-shadow:inset 0 0 0 1px rgba(16, 22, 26, 0.4), inset 0 -1px 0 rgba(16, 22, 26, 0.2);
      background-color:#c23030; }
    .bp3-button.bp3-intent-danger:active, .bp3-button.bp3-intent-danger.bp3-active{
      -webkit-box-shadow:inset 0 0 0 1px rgba(16, 22, 26, 0.4), inset 0 1px 2px rgba(16, 22, 26, 0.2);
              box-shadow:inset 0 0 0 1px rgba(16, 22, 26, 0.4), inset 0 1px 2px rgba(16, 22, 26, 0.2);
      background-color:#a82a2a;
      background-image:none; }
    .bp3-button.bp3-intent-danger:disabled, .bp3-button.bp3-intent-danger.bp3-disabled{
      border-color:transparent;
      -webkit-box-shadow:none;
              box-shadow:none;
      background-color:rgba(219, 55, 55, 0.5);
      background-image:none;
      color:rgba(255, 255, 255, 0.6); }
  .bp3-button[class*="bp3-intent-"] .bp3-button-spinner .bp3-spinner-head{
    stroke:#ffffff; }
  .bp3-button.bp3-large,
  .bp3-large .bp3-button{
    min-width:40px;
    min-height:40px;
    padding:5px 15px;
    font-size:16px; }
    .bp3-button.bp3-large::before,
    .bp3-button.bp3-large > *,
    .bp3-large .bp3-button::before,
    .bp3-large .bp3-button > *{
      margin-right:10px; }
    .bp3-button.bp3-large:empty::before,
    .bp3-button.bp3-large > :last-child,
    .bp3-large .bp3-button:empty::before,
    .bp3-large .bp3-button > :last-child{
      margin-right:0; }
  .bp3-button.bp3-small,
  .bp3-small .bp3-button{
    min-width:24px;
    min-height:24px;
    padding:0 7px; }
  .bp3-button.bp3-loading{
    position:relative; }
    .bp3-button.bp3-loading[class*="bp3-icon-"]::before{
      visibility:hidden; }
    .bp3-button.bp3-loading .bp3-button-spinner{
      position:absolute;
      margin:0; }
    .bp3-button.bp3-loading > :not(.bp3-button-spinner){
      visibility:hidden; }
  .bp3-button[class*="bp3-icon-"]::before{
    line-height:1;
    font-family:"Icons16", sans-serif;
    font-size:16px;
    font-weight:400;
    font-style:normal;
    -moz-osx-font-smoothing:grayscale;
    -webkit-font-smoothing:antialiased;
    color:#5c7080; }
  .bp3-button .bp3-icon, .bp3-button .bp3-icon-standard, .bp3-button .bp3-icon-large{
    color:#5c7080; }
    .bp3-button .bp3-icon.bp3-align-right, .bp3-button .bp3-icon-standard.bp3-align-right, .bp3-button .bp3-icon-large.bp3-align-right{
      margin-left:7px; }
  .bp3-button .bp3-icon:first-child:last-child,
  .bp3-button .bp3-spinner + .bp3-icon:last-child{
    margin:0 -7px; }
  .bp3-dark .bp3-button:not([class*="bp3-intent-"]){
    -webkit-box-shadow:0 0 0 1px rgba(16, 22, 26, 0.4);
            box-shadow:0 0 0 1px rgba(16, 22, 26, 0.4);
    background-color:#394b59;
    background-image:-webkit-gradient(linear, left top, left bottom, from(rgba(255, 255, 255, 0.05)), to(rgba(255, 255, 255, 0)));
    background-image:linear-gradient(to bottom, rgba(255, 255, 255, 0.05), rgba(255, 255, 255, 0));
    color:#f5f8fa; }
    .bp3-dark .bp3-button:not([class*="bp3-intent-"]):hover, .bp3-dark .bp3-button:not([class*="bp3-intent-"]):active, .bp3-dark .bp3-button:not([class*="bp3-intent-"]).bp3-active{
      color:#f5f8fa; }
    .bp3-dark .bp3-button:not([class*="bp3-intent-"]):hover{
      -webkit-box-shadow:0 0 0 1px rgba(16, 22, 26, 0.4);
              box-shadow:0 0 0 1px rgba(16, 22, 26, 0.4);
      background-color:#30404d; }
    .bp3-dark .bp3-button:not([class*="bp3-intent-"]):active, .bp3-dark .bp3-button:not([class*="bp3-intent-"]).bp3-active{
      -webkit-box-shadow:0 0 0 1px rgba(16, 22, 26, 0.6), inset 0 1px 2px rgba(16, 22, 26, 0.2);
              box-shadow:0 0 0 1px rgba(16, 22, 26, 0.6), inset 0 1px 2px rgba(16, 22, 26, 0.2);
      background-color:#202b33;
      background-image:none; }
    .bp3-dark .bp3-button:not([class*="bp3-intent-"]):disabled, .bp3-dark .bp3-button:not([class*="bp3-intent-"]).bp3-disabled{
      -webkit-box-shadow:none;
              box-shadow:none;
      background-color:rgba(57, 75, 89, 0.5);
      background-image:none;
      color:rgba(167, 182, 194, 0.6); }
      .bp3-dark .bp3-button:not([class*="bp3-intent-"]):disabled.bp3-active, .bp3-dark .bp3-button:not([class*="bp3-intent-"]).bp3-disabled.bp3-active{
        background:rgba(57, 75, 89, 0.7); }
    .bp3-dark .bp3-button:not([class*="bp3-intent-"]) .bp3-button-spinner .bp3-spinner-head{
      background:rgba(16, 22, 26, 0.5);
      stroke:#8a9ba8; }
    .bp3-dark .bp3-button:not([class*="bp3-intent-"])[class*="bp3-icon-"]::before{
      color:#a7b6c2; }
    .bp3-dark .bp3-button:not([class*="bp3-intent-"]) .bp3-icon, .bp3-dark .bp3-button:not([class*="bp3-intent-"]) .bp3-icon-standard, .bp3-dark .bp3-button:not([class*="bp3-intent-"]) .bp3-icon-large{
      color:#a7b6c2; }
  .bp3-dark .bp3-button[class*="bp3-intent-"]{
    -webkit-box-shadow:0 0 0 1px rgba(16, 22, 26, 0.4);
            box-shadow:0 0 0 1px rgba(16, 22, 26, 0.4); }
    .bp3-dark .bp3-button[class*="bp3-intent-"]:hover{
      -webkit-box-shadow:0 0 0 1px rgba(16, 22, 26, 0.4);
              box-shadow:0 0 0 1px rgba(16, 22, 26, 0.4); }
    .bp3-dark .bp3-button[class*="bp3-intent-"]:active, .bp3-dark .bp3-button[class*="bp3-intent-"].bp3-active{
      -webkit-box-shadow:0 0 0 1px rgba(16, 22, 26, 0.4), inset 0 1px 2px rgba(16, 22, 26, 0.2);
              box-shadow:0 0 0 1px rgba(16, 22, 26, 0.4), inset 0 1px 2px rgba(16, 22, 26, 0.2); }
    .bp3-dark .bp3-button[class*="bp3-intent-"]:disabled, .bp3-dark .bp3-button[class*="bp3-intent-"].bp3-disabled{
      -webkit-box-shadow:none;
              box-shadow:none;
      background-image:none;
      color:rgba(255, 255, 255, 0.3); }
    .bp3-dark .bp3-button[class*="bp3-intent-"] .bp3-button-spinner .bp3-spinner-head{
      stroke:#8a9ba8; }
  .bp3-button:disabled::before,
  .bp3-button:disabled .bp3-icon, .bp3-button:disabled .bp3-icon-standard, .bp3-button:disabled .bp3-icon-large, .bp3-button.bp3-disabled::before,
  .bp3-button.bp3-disabled .bp3-icon, .bp3-button.bp3-disabled .bp3-icon-standard, .bp3-button.bp3-disabled .bp3-icon-large, .bp3-button[class*="bp3-intent-"]::before,
  .bp3-button[class*="bp3-intent-"] .bp3-icon, .bp3-button[class*="bp3-intent-"] .bp3-icon-standard, .bp3-button[class*="bp3-intent-"] .bp3-icon-large{
    color:inherit !important; }
  .bp3-button.bp3-minimal{
    -webkit-box-shadow:none;
            box-shadow:none;
    background:none; }
    .bp3-button.bp3-minimal:hover{
      -webkit-box-shadow:none;
              box-shadow:none;
      background:rgba(167, 182, 194, 0.3);
      text-decoration:none;
      color:#182026; }
    .bp3-button.bp3-minimal:active, .bp3-button.bp3-minimal.bp3-active{
      -webkit-box-shadow:none;
              box-shadow:none;
      background:rgba(115, 134, 148, 0.3);
      color:#182026; }
    .bp3-button.bp3-minimal:disabled, .bp3-button.bp3-minimal:disabled:hover, .bp3-button.bp3-minimal.bp3-disabled, .bp3-button.bp3-minimal.bp3-disabled:hover{
      background:none;
      cursor:not-allowed;
      color:rgba(92, 112, 128, 0.6); }
      .bp3-button.bp3-minimal:disabled.bp3-active, .bp3-button.bp3-minimal:disabled:hover.bp3-active, .bp3-button.bp3-minimal.bp3-disabled.bp3-active, .bp3-button.bp3-minimal.bp3-disabled:hover.bp3-active{
        background:rgba(115, 134, 148, 0.3); }
    .bp3-dark .bp3-button.bp3-minimal{
      -webkit-box-shadow:none;
              box-shadow:none;
      background:none;
      color:inherit; }
      .bp3-dark .bp3-button.bp3-minimal:hover, .bp3-dark .bp3-button.bp3-minimal:active, .bp3-dark .bp3-button.bp3-minimal.bp3-active{
        -webkit-box-shadow:none;
                box-shadow:none;
        background:none; }
      .bp3-dark .bp3-button.bp3-minimal:hover{
        background:rgba(138, 155, 168, 0.15); }
      .bp3-dark .bp3-button.bp3-minimal:active, .bp3-dark .bp3-button.bp3-minimal.bp3-active{
        background:rgba(138, 155, 168, 0.3);
        color:#f5f8fa; }
      .bp3-dark .bp3-button.bp3-minimal:disabled, .bp3-dark .bp3-button.bp3-minimal:disabled:hover, .bp3-dark .bp3-button.bp3-minimal.bp3-disabled, .bp3-dark .bp3-button.bp3-minimal.bp3-disabled:hover{
        background:none;
        cursor:not-allowed;
        color:rgba(167, 182, 194, 0.6); }
        .bp3-dark .bp3-button.bp3-minimal:disabled.bp3-active, .bp3-dark .bp3-button.bp3-minimal:disabled:hover.bp3-active, .bp3-dark .bp3-button.bp3-minimal.bp3-disabled.bp3-active, .bp3-dark .bp3-button.bp3-minimal.bp3-disabled:hover.bp3-active{
          background:rgba(138, 155, 168, 0.3); }
    .bp3-button.bp3-minimal.bp3-intent-primary{
      color:#106ba3; }
      .bp3-button.bp3-minimal.bp3-intent-primary:hover, .bp3-button.bp3-minimal.bp3-intent-primary:active, .bp3-button.bp3-minimal.bp3-intent-primary.bp3-active{
        -webkit-box-shadow:none;
                box-shadow:none;
        background:none;
        color:#106ba3; }
      .bp3-button.bp3-minimal.bp3-intent-primary:hover{
        background:rgba(19, 124, 189, 0.15);
        color:#106ba3; }
      .bp3-button.bp3-minimal.bp3-intent-primary:active, .bp3-button.bp3-minimal.bp3-intent-primary.bp3-active{
        background:rgba(19, 124, 189, 0.3);
        color:#106ba3; }
      .bp3-button.bp3-minimal.bp3-intent-primary:disabled, .bp3-button.bp3-minimal.bp3-intent-primary.bp3-disabled{
        background:none;
        color:rgba(16, 107, 163, 0.5); }
        .bp3-button.bp3-minimal.bp3-intent-primary:disabled.bp3-active, .bp3-button.bp3-minimal.bp3-intent-primary.bp3-disabled.bp3-active{
          background:rgba(19, 124, 189, 0.3); }
      .bp3-button.bp3-minimal.bp3-intent-primary .bp3-button-spinner .bp3-spinner-head{
        stroke:#106ba3; }
      .bp3-dark .bp3-button.bp3-minimal.bp3-intent-primary{
        color:#48aff0; }
        .bp3-dark .bp3-button.bp3-minimal.bp3-intent-primary:hover{
          background:rgba(19, 124, 189, 0.2);
          color:#48aff0; }
        .bp3-dark .bp3-button.bp3-minimal.bp3-intent-primary:active, .bp3-dark .bp3-button.bp3-minimal.bp3-intent-primary.bp3-active{
          background:rgba(19, 124, 189, 0.3);
          color:#48aff0; }
        .bp3-dark .bp3-button.bp3-minimal.bp3-intent-primary:disabled, .bp3-dark .bp3-button.bp3-minimal.bp3-intent-primary.bp3-disabled{
          background:none;
          color:rgba(72, 175, 240, 0.5); }
          .bp3-dark .bp3-button.bp3-minimal.bp3-intent-primary:disabled.bp3-active, .bp3-dark .bp3-button.bp3-minimal.bp3-intent-primary.bp3-disabled.bp3-active{
            background:rgba(19, 124, 189, 0.3); }
    .bp3-button.bp3-minimal.bp3-intent-success{
      color:#0d8050; }
      .bp3-button.bp3-minimal.bp3-intent-success:hover, .bp3-button.bp3-minimal.bp3-intent-success:active, .bp3-button.bp3-minimal.bp3-intent-success.bp3-active{
        -webkit-box-shadow:none;
                box-shadow:none;
        background:none;
        color:#0d8050; }
      .bp3-button.bp3-minimal.bp3-intent-success:hover{
        background:rgba(15, 153, 96, 0.15);
        color:#0d8050; }
      .bp3-button.bp3-minimal.bp3-intent-success:active, .bp3-button.bp3-minimal.bp3-intent-success.bp3-active{
        background:rgba(15, 153, 96, 0.3);
        color:#0d8050; }
      .bp3-button.bp3-minimal.bp3-intent-success:disabled, .bp3-button.bp3-minimal.bp3-intent-success.bp3-disabled{
        background:none;
        color:rgba(13, 128, 80, 0.5); }
        .bp3-button.bp3-minimal.bp3-intent-success:disabled.bp3-active, .bp3-button.bp3-minimal.bp3-intent-success.bp3-disabled.bp3-active{
          background:rgba(15, 153, 96, 0.3); }
      .bp3-button.bp3-minimal.bp3-intent-success .bp3-button-spinner .bp3-spinner-head{
        stroke:#0d8050; }
      .bp3-dark .bp3-button.bp3-minimal.bp3-intent-success{
        color:#3dcc91; }
        .bp3-dark .bp3-button.bp3-minimal.bp3-intent-success:hover{
          background:rgba(15, 153, 96, 0.2);
          color:#3dcc91; }
        .bp3-dark .bp3-button.bp3-minimal.bp3-intent-success:active, .bp3-dark .bp3-button.bp3-minimal.bp3-intent-success.bp3-active{
          background:rgba(15, 153, 96, 0.3);
          color:#3dcc91; }
        .bp3-dark .bp3-button.bp3-minimal.bp3-intent-success:disabled, .bp3-dark .bp3-button.bp3-minimal.bp3-intent-success.bp3-disabled{
          background:none;
          color:rgba(61, 204, 145, 0.5); }
          .bp3-dark .bp3-button.bp3-minimal.bp3-intent-success:disabled.bp3-active, .bp3-dark .bp3-button.bp3-minimal.bp3-intent-success.bp3-disabled.bp3-active{
            background:rgba(15, 153, 96, 0.3); }
    .bp3-button.bp3-minimal.bp3-intent-warning{
      color:#bf7326; }
      .bp3-button.bp3-minimal.bp3-intent-warning:hover, .bp3-button.bp3-minimal.bp3-intent-warning:active, .bp3-button.bp3-minimal.bp3-intent-warning.bp3-active{
        -webkit-box-shadow:none;
                box-shadow:none;
        background:none;
        color:#bf7326; }
      .bp3-button.bp3-minimal.bp3-intent-warning:hover{
        background:rgba(217, 130, 43, 0.15);
        color:#bf7326; }
      .bp3-button.bp3-minimal.bp3-intent-warning:active, .bp3-button.bp3-minimal.bp3-intent-warning.bp3-active{
        background:rgba(217, 130, 43, 0.3);
        color:#bf7326; }
      .bp3-button.bp3-minimal.bp3-intent-warning:disabled, .bp3-button.bp3-minimal.bp3-intent-warning.bp3-disabled{
        background:none;
        color:rgba(191, 115, 38, 0.5); }
        .bp3-button.bp3-minimal.bp3-intent-warning:disabled.bp3-active, .bp3-button.bp3-minimal.bp3-intent-warning.bp3-disabled.bp3-active{
          background:rgba(217, 130, 43, 0.3); }
      .bp3-button.bp3-minimal.bp3-intent-warning .bp3-button-spinner .bp3-spinner-head{
        stroke:#bf7326; }
      .bp3-dark .bp3-button.bp3-minimal.bp3-intent-warning{
        color:#ffb366; }
        .bp3-dark .bp3-button.bp3-minimal.bp3-intent-warning:hover{
          background:rgba(217, 130, 43, 0.2);
          color:#ffb366; }
        .bp3-dark .bp3-button.bp3-minimal.bp3-intent-warning:active, .bp3-dark .bp3-button.bp3-minimal.bp3-intent-warning.bp3-active{
          background:rgba(217, 130, 43, 0.3);
          color:#ffb366; }
        .bp3-dark .bp3-button.bp3-minimal.bp3-intent-warning:disabled, .bp3-dark .bp3-button.bp3-minimal.bp3-intent-warning.bp3-disabled{
          background:none;
          color:rgba(255, 179, 102, 0.5); }
          .bp3-dark .bp3-button.bp3-minimal.bp3-intent-warning:disabled.bp3-active, .bp3-dark .bp3-button.bp3-minimal.bp3-intent-warning.bp3-disabled.bp3-active{
            background:rgba(217, 130, 43, 0.3); }
    .bp3-button.bp3-minimal.bp3-intent-danger{
      color:#c23030; }
      .bp3-button.bp3-minimal.bp3-intent-danger:hover, .bp3-button.bp3-minimal.bp3-intent-danger:active, .bp3-button.bp3-minimal.bp3-intent-danger.bp3-active{
        -webkit-box-shadow:none;
                box-shadow:none;
        background:none;
        color:#c23030; }
      .bp3-button.bp3-minimal.bp3-intent-danger:hover{
        background:rgba(219, 55, 55, 0.15);
        color:#c23030; }
      .bp3-button.bp3-minimal.bp3-intent-danger:active, .bp3-button.bp3-minimal.bp3-intent-danger.bp3-active{
        background:rgba(219, 55, 55, 0.3);
        color:#c23030; }
      .bp3-button.bp3-minimal.bp3-intent-danger:disabled, .bp3-button.bp3-minimal.bp3-intent-danger.bp3-disabled{
        background:none;
        color:rgba(194, 48, 48, 0.5); }
        .bp3-button.bp3-minimal.bp3-intent-danger:disabled.bp3-active, .bp3-button.bp3-minimal.bp3-intent-danger.bp3-disabled.bp3-active{
          background:rgba(219, 55, 55, 0.3); }
      .bp3-button.bp3-minimal.bp3-intent-danger .bp3-button-spinner .bp3-spinner-head{
        stroke:#c23030; }
      .bp3-dark .bp3-button.bp3-minimal.bp3-intent-danger{
        color:#ff7373; }
        .bp3-dark .bp3-button.bp3-minimal.bp3-intent-danger:hover{
          background:rgba(219, 55, 55, 0.2);
          color:#ff7373; }
        .bp3-dark .bp3-button.bp3-minimal.bp3-intent-danger:active, .bp3-dark .bp3-button.bp3-minimal.bp3-intent-danger.bp3-active{
          background:rgba(219, 55, 55, 0.3);
          color:#ff7373; }
        .bp3-dark .bp3-button.bp3-minimal.bp3-intent-danger:disabled, .bp3-dark .bp3-button.bp3-minimal.bp3-intent-danger.bp3-disabled{
          background:none;
          color:rgba(255, 115, 115, 0.5); }
          .bp3-dark .bp3-button.bp3-minimal.bp3-intent-danger:disabled.bp3-active, .bp3-dark .bp3-button.bp3-minimal.bp3-intent-danger.bp3-disabled.bp3-active{
            background:rgba(219, 55, 55, 0.3); }

a.bp3-button{
  text-align:center;
  text-decoration:none;
  -webkit-transition:none;
  transition:none; }
  a.bp3-button, a.bp3-button:hover, a.bp3-button:active{
    color:#182026; }
  a.bp3-button.bp3-disabled{
    color:rgba(92, 112, 128, 0.6); }

.bp3-button-text{
  -webkit-box-flex:0;
      -ms-flex:0 1 auto;
          flex:0 1 auto; }

.bp3-button.bp3-align-left .bp3-button-text, .bp3-button.bp3-align-right .bp3-button-text,
.bp3-button-group.bp3-align-left .bp3-button-text,
.bp3-button-group.bp3-align-right .bp3-button-text{
  -webkit-box-flex:1;
      -ms-flex:1 1 auto;
          flex:1 1 auto; }
.bp3-button-group{
  display:-webkit-inline-box;
  display:-ms-inline-flexbox;
  display:inline-flex; }
  .bp3-button-group .bp3-button{
    -webkit-box-flex:0;
        -ms-flex:0 0 auto;
            flex:0 0 auto;
    position:relative;
    z-index:4; }
    .bp3-button-group .bp3-button:focus{
      z-index:5; }
    .bp3-button-group .bp3-button:hover{
      z-index:6; }
    .bp3-button-group .bp3-button:active, .bp3-button-group .bp3-button.bp3-active{
      z-index:7; }
    .bp3-button-group .bp3-button:disabled, .bp3-button-group .bp3-button.bp3-disabled{
      z-index:3; }
    .bp3-button-group .bp3-button[class*="bp3-intent-"]{
      z-index:9; }
      .bp3-button-group .bp3-button[class*="bp3-intent-"]:focus{
        z-index:10; }
      .bp3-button-group .bp3-button[class*="bp3-intent-"]:hover{
        z-index:11; }
      .bp3-button-group .bp3-button[class*="bp3-intent-"]:active, .bp3-button-group .bp3-button[class*="bp3-intent-"].bp3-active{
        z-index:12; }
      .bp3-button-group .bp3-button[class*="bp3-intent-"]:disabled, .bp3-button-group .bp3-button[class*="bp3-intent-"].bp3-disabled{
        z-index:8; }
  .bp3-button-group:not(.bp3-minimal) > .bp3-popover-wrapper:not(:first-child) .bp3-button,
  .bp3-button-group:not(.bp3-minimal) > .bp3-button:not(:first-child){
    border-top-left-radius:0;
    border-bottom-left-radius:0; }
  .bp3-button-group:not(.bp3-minimal) > .bp3-popover-wrapper:not(:last-child) .bp3-button,
  .bp3-button-group:not(.bp3-minimal) > .bp3-button:not(:last-child){
    margin-right:-1px;
    border-top-right-radius:0;
    border-bottom-right-radius:0; }
  .bp3-button-group.bp3-minimal .bp3-button{
    -webkit-box-shadow:none;
            box-shadow:none;
    background:none; }
    .bp3-button-group.bp3-minimal .bp3-button:hover{
      -webkit-box-shadow:none;
              box-shadow:none;
      background:rgba(167, 182, 194, 0.3);
      text-decoration:none;
      color:#182026; }
    .bp3-button-group.bp3-minimal .bp3-button:active, .bp3-button-group.bp3-minimal .bp3-button.bp3-active{
      -webkit-box-shadow:none;
              box-shadow:none;
      background:rgba(115, 134, 148, 0.3);
      color:#182026; }
    .bp3-button-group.bp3-minimal .bp3-button:disabled, .bp3-button-group.bp3-minimal .bp3-button:disabled:hover, .bp3-button-group.bp3-minimal .bp3-button.bp3-disabled, .bp3-button-group.bp3-minimal .bp3-button.bp3-disabled:hover{
      background:none;
      cursor:not-allowed;
      color:rgba(92, 112, 128, 0.6); }
      .bp3-button-group.bp3-minimal .bp3-button:disabled.bp3-active, .bp3-button-group.bp3-minimal .bp3-button:disabled:hover.bp3-active, .bp3-button-group.bp3-minimal .bp3-button.bp3-disabled.bp3-active, .bp3-button-group.bp3-minimal .bp3-button.bp3-disabled:hover.bp3-active{
        background:rgba(115, 134, 148, 0.3); }
    .bp3-dark .bp3-button-group.bp3-minimal .bp3-button{
      -webkit-box-shadow:none;
              box-shadow:none;
      background:none;
      color:inherit; }
      .bp3-dark .bp3-button-group.bp3-minimal .bp3-button:hover, .bp3-dark .bp3-button-group.bp3-minimal .bp3-button:active, .bp3-dark .bp3-button-group.bp3-minimal .bp3-button.bp3-active{
        -webkit-box-shadow:none;
                box-shadow:none;
        background:none; }
      .bp3-dark .bp3-button-group.bp3-minimal .bp3-button:hover{
        background:rgba(138, 155, 168, 0.15); }
      .bp3-dark .bp3-button-group.bp3-minimal .bp3-button:active, .bp3-dark .bp3-button-group.bp3-minimal .bp3-button.bp3-active{
        background:rgba(138, 155, 168, 0.3);
        color:#f5f8fa; }
      .bp3-dark .bp3-button-group.bp3-minimal .bp3-button:disabled, .bp3-dark .bp3-button-group.bp3-minimal .bp3-button:disabled:hover, .bp3-dark .bp3-button-group.bp3-minimal .bp3-button.bp3-disabled, .bp3-dark .bp3-button-group.bp3-minimal .bp3-button.bp3-disabled:hover{
        background:none;
        cursor:not-allowed;
        color:rgba(167, 182, 194, 0.6); }
        .bp3-dark .bp3-button-group.bp3-minimal .bp3-button:disabled.bp3-active, .bp3-dark .bp3-button-group.bp3-minimal .bp3-button:disabled:hover.bp3-active, .bp3-dark .bp3-button-group.bp3-minimal .bp3-button.bp3-disabled.bp3-active, .bp3-dark .bp3-button-group.bp3-minimal .bp3-button.bp3-disabled:hover.bp3-active{
          background:rgba(138, 155, 168, 0.3); }
    .bp3-button-group.bp3-minimal .bp3-button.bp3-intent-primary{
      color:#106ba3; }
      .bp3-button-group.bp3-minimal .bp3-button.bp3-intent-primary:hover, .bp3-button-group.bp3-minimal .bp3-button.bp3-intent-primary:active, .bp3-button-group.bp3-minimal .bp3-button.bp3-intent-primary.bp3-active{
        -webkit-box-shadow:none;
                box-shadow:none;
        background:none;
        color:#106ba3; }
      .bp3-button-group.bp3-minimal .bp3-button.bp3-intent-primary:hover{
        background:rgba(19, 124, 189, 0.15);
        color:#106ba3; }
      .bp3-button-group.bp3-minimal .bp3-button.bp3-intent-primary:active, .bp3-button-group.bp3-minimal .bp3-button.bp3-intent-primary.bp3-active{
        background:rgba(19, 124, 189, 0.3);
        color:#106ba3; }
      .bp3-button-group.bp3-minimal .bp3-button.bp3-intent-primary:disabled, .bp3-button-group.bp3-minimal .bp3-button.bp3-intent-primary.bp3-disabled{
        background:none;
        color:rgba(16, 107, 163, 0.5); }
        .bp3-button-group.bp3-minimal .bp3-button.bp3-intent-primary:disabled.bp3-active, .bp3-button-group.bp3-minimal .bp3-button.bp3-intent-primary.bp3-disabled.bp3-active{
          background:rgba(19, 124, 189, 0.3); }
      .bp3-button-group.bp3-minimal .bp3-button.bp3-intent-primary .bp3-button-spinner .bp3-spinner-head{
        stroke:#106ba3; }
      .bp3-dark .bp3-button-group.bp3-minimal .bp3-button.bp3-intent-primary{
        color:#48aff0; }
        .bp3-dark .bp3-button-group.bp3-minimal .bp3-button.bp3-intent-primary:hover{
          background:rgba(19, 124, 189, 0.2);
          color:#48aff0; }
        .bp3-dark .bp3-button-group.bp3-minimal .bp3-button.bp3-intent-primary:active, .bp3-dark .bp3-button-group.bp3-minimal .bp3-button.bp3-intent-primary.bp3-active{
          background:rgba(19, 124, 189, 0.3);
          color:#48aff0; }
        .bp3-dark .bp3-button-group.bp3-minimal .bp3-button.bp3-intent-primary:disabled, .bp3-dark .bp3-button-group.bp3-minimal .bp3-button.bp3-intent-primary.bp3-disabled{
          background:none;
          color:rgba(72, 175, 240, 0.5); }
          .bp3-dark .bp3-button-group.bp3-minimal .bp3-button.bp3-intent-primary:disabled.bp3-active, .bp3-dark .bp3-button-group.bp3-minimal .bp3-button.bp3-intent-primary.bp3-disabled.bp3-active{
            background:rgba(19, 124, 189, 0.3); }
    .bp3-button-group.bp3-minimal .bp3-button.bp3-intent-success{
      color:#0d8050; }
      .bp3-button-group.bp3-minimal .bp3-button.bp3-intent-success:hover, .bp3-button-group.bp3-minimal .bp3-button.bp3-intent-success:active, .bp3-button-group.bp3-minimal .bp3-button.bp3-intent-success.bp3-active{
        -webkit-box-shadow:none;
                box-shadow:none;
        background:none;
        color:#0d8050; }
      .bp3-button-group.bp3-minimal .bp3-button.bp3-intent-success:hover{
        background:rgba(15, 153, 96, 0.15);
        color:#0d8050; }
      .bp3-button-group.bp3-minimal .bp3-button.bp3-intent-success:active, .bp3-button-group.bp3-minimal .bp3-button.bp3-intent-success.bp3-active{
        background:rgba(15, 153, 96, 0.3);
        color:#0d8050; }
      .bp3-button-group.bp3-minimal .bp3-button.bp3-intent-success:disabled, .bp3-button-group.bp3-minimal .bp3-button.bp3-intent-success.bp3-disabled{
        background:none;
        color:rgba(13, 128, 80, 0.5); }
        .bp3-button-group.bp3-minimal .bp3-button.bp3-intent-success:disabled.bp3-active, .bp3-button-group.bp3-minimal .bp3-button.bp3-intent-success.bp3-disabled.bp3-active{
          background:rgba(15, 153, 96, 0.3); }
      .bp3-button-group.bp3-minimal .bp3-button.bp3-intent-success .bp3-button-spinner .bp3-spinner-head{
        stroke:#0d8050; }
      .bp3-dark .bp3-button-group.bp3-minimal .bp3-button.bp3-intent-success{
        color:#3dcc91; }
        .bp3-dark .bp3-button-group.bp3-minimal .bp3-button.bp3-intent-success:hover{
          background:rgba(15, 153, 96, 0.2);
          color:#3dcc91; }
        .bp3-dark .bp3-button-group.bp3-minimal .bp3-button.bp3-intent-success:active, .bp3-dark .bp3-button-group.bp3-minimal .bp3-button.bp3-intent-success.bp3-active{
          background:rgba(15, 153, 96, 0.3);
          color:#3dcc91; }
        .bp3-dark .bp3-button-group.bp3-minimal .bp3-button.bp3-intent-success:disabled, .bp3-dark .bp3-button-group.bp3-minimal .bp3-button.bp3-intent-success.bp3-disabled{
          background:none;
          color:rgba(61, 204, 145, 0.5); }
          .bp3-dark .bp3-button-group.bp3-minimal .bp3-button.bp3-intent-success:disabled.bp3-active, .bp3-dark .bp3-button-group.bp3-minimal .bp3-button.bp3-intent-success.bp3-disabled.bp3-active{
            background:rgba(15, 153, 96, 0.3); }
    .bp3-button-group.bp3-minimal .bp3-button.bp3-intent-warning{
      color:#bf7326; }
      .bp3-button-group.bp3-minimal .bp3-button.bp3-intent-warning:hover, .bp3-button-group.bp3-minimal .bp3-button.bp3-intent-warning:active, .bp3-button-group.bp3-minimal .bp3-button.bp3-intent-warning.bp3-active{
        -webkit-box-shadow:none;
                box-shadow:none;
        background:none;
        color:#bf7326; }
      .bp3-button-group.bp3-minimal .bp3-button.bp3-intent-warning:hover{
        background:rgba(217, 130, 43, 0.15);
        color:#bf7326; }
      .bp3-button-group.bp3-minimal .bp3-button.bp3-intent-warning:active, .bp3-button-group.bp3-minimal .bp3-button.bp3-intent-warning.bp3-active{
        background:rgba(217, 130, 43, 0.3);
        color:#bf7326; }
      .bp3-button-group.bp3-minimal .bp3-button.bp3-intent-warning:disabled, .bp3-button-group.bp3-minimal .bp3-button.bp3-intent-warning.bp3-disabled{
        background:none;
        color:rgba(191, 115, 38, 0.5); }
        .bp3-button-group.bp3-minimal .bp3-button.bp3-intent-warning:disabled.bp3-active, .bp3-button-group.bp3-minimal .bp3-button.bp3-intent-warning.bp3-disabled.bp3-active{
          background:rgba(217, 130, 43, 0.3); }
      .bp3-button-group.bp3-minimal .bp3-button.bp3-intent-warning .bp3-button-spinner .bp3-spinner-head{
        stroke:#bf7326; }
      .bp3-dark .bp3-button-group.bp3-minimal .bp3-button.bp3-intent-warning{
        color:#ffb366; }
        .bp3-dark .bp3-button-group.bp3-minimal .bp3-button.bp3-intent-warning:hover{
          background:rgba(217, 130, 43, 0.2);
          color:#ffb366; }
        .bp3-dark .bp3-button-group.bp3-minimal .bp3-button.bp3-intent-warning:active, .bp3-dark .bp3-button-group.bp3-minimal .bp3-button.bp3-intent-warning.bp3-active{
          background:rgba(217, 130, 43, 0.3);
          color:#ffb366; }
        .bp3-dark .bp3-button-group.bp3-minimal .bp3-button.bp3-intent-warning:disabled, .bp3-dark .bp3-button-group.bp3-minimal .bp3-button.bp3-intent-warning.bp3-disabled{
          background:none;
          color:rgba(255, 179, 102, 0.5); }
          .bp3-dark .bp3-button-group.bp3-minimal .bp3-button.bp3-intent-warning:disabled.bp3-active, .bp3-dark .bp3-button-group.bp3-minimal .bp3-button.bp3-intent-warning.bp3-disabled.bp3-active{
            background:rgba(217, 130, 43, 0.3); }
    .bp3-button-group.bp3-minimal .bp3-button.bp3-intent-danger{
      color:#c23030; }
      .bp3-button-group.bp3-minimal .bp3-button.bp3-intent-danger:hover, .bp3-button-group.bp3-minimal .bp3-button.bp3-intent-danger:active, .bp3-button-group.bp3-minimal .bp3-button.bp3-intent-danger.bp3-active{
        -webkit-box-shadow:none;
                box-shadow:none;
        background:none;
        color:#c23030; }
      .bp3-button-group.bp3-minimal .bp3-button.bp3-intent-danger:hover{
        background:rgba(219, 55, 55, 0.15);
        color:#c23030; }
      .bp3-button-group.bp3-minimal .bp3-button.bp3-intent-danger:active, .bp3-button-group.bp3-minimal .bp3-button.bp3-intent-danger.bp3-active{
        background:rgba(219, 55, 55, 0.3);
        color:#c23030; }
      .bp3-button-group.bp3-minimal .bp3-button.bp3-intent-danger:disabled, .bp3-button-group.bp3-minimal .bp3-button.bp3-intent-danger.bp3-disabled{
        background:none;
        color:rgba(194, 48, 48, 0.5); }
        .bp3-button-group.bp3-minimal .bp3-button.bp3-intent-danger:disabled.bp3-active, .bp3-button-group.bp3-minimal .bp3-button.bp3-intent-danger.bp3-disabled.bp3-active{
          background:rgba(219, 55, 55, 0.3); }
      .bp3-button-group.bp3-minimal .bp3-button.bp3-intent-danger .bp3-button-spinner .bp3-spinner-head{
        stroke:#c23030; }
      .bp3-dark .bp3-button-group.bp3-minimal .bp3-button.bp3-intent-danger{
        color:#ff7373; }
        .bp3-dark .bp3-button-group.bp3-minimal .bp3-button.bp3-intent-danger:hover{
          background:rgba(219, 55, 55, 0.2);
          color:#ff7373; }
        .bp3-dark .bp3-button-group.bp3-minimal .bp3-button.bp3-intent-danger:active, .bp3-dark .bp3-button-group.bp3-minimal .bp3-button.bp3-intent-danger.bp3-active{
          background:rgba(219, 55, 55, 0.3);
          color:#ff7373; }
        .bp3-dark .bp3-button-group.bp3-minimal .bp3-button.bp3-intent-danger:disabled, .bp3-dark .bp3-button-group.bp3-minimal .bp3-button.bp3-intent-danger.bp3-disabled{
          background:none;
          color:rgba(255, 115, 115, 0.5); }
          .bp3-dark .bp3-button-group.bp3-minimal .bp3-button.bp3-intent-danger:disabled.bp3-active, .bp3-dark .bp3-button-group.bp3-minimal .bp3-button.bp3-intent-danger.bp3-disabled.bp3-active{
            background:rgba(219, 55, 55, 0.3); }
  .bp3-button-group .bp3-popover-wrapper,
  .bp3-button-group .bp3-popover-target{
    display:-webkit-box;
    display:-ms-flexbox;
    display:flex;
    -webkit-box-flex:1;
        -ms-flex:1 1 auto;
            flex:1 1 auto; }
  .bp3-button-group.bp3-fill{
    display:-webkit-box;
    display:-ms-flexbox;
    display:flex;
    width:100%; }
  .bp3-button-group .bp3-button.bp3-fill,
  .bp3-button-group.bp3-fill .bp3-button:not(.bp3-fixed){
    -webkit-box-flex:1;
        -ms-flex:1 1 auto;
            flex:1 1 auto; }
  .bp3-button-group.bp3-vertical{
    -webkit-box-orient:vertical;
    -webkit-box-direction:normal;
        -ms-flex-direction:column;
            flex-direction:column;
    -webkit-box-align:stretch;
        -ms-flex-align:stretch;
            align-items:stretch;
    vertical-align:top; }
    .bp3-button-group.bp3-vertical.bp3-fill{
      width:unset;
      height:100%; }
    .bp3-button-group.bp3-vertical .bp3-button{
      margin-right:0 !important;
      width:100%; }
    .bp3-button-group.bp3-vertical:not(.bp3-minimal) > .bp3-popover-wrapper:first-child .bp3-button,
    .bp3-button-group.bp3-vertical:not(.bp3-minimal) > .bp3-button:first-child{
      border-radius:3px 3px 0 0; }
    .bp3-button-group.bp3-vertical:not(.bp3-minimal) > .bp3-popover-wrapper:last-child .bp3-button,
    .bp3-button-group.bp3-vertical:not(.bp3-minimal) > .bp3-button:last-child{
      border-radius:0 0 3px 3px; }
    .bp3-button-group.bp3-vertical:not(.bp3-minimal) > .bp3-popover-wrapper:not(:last-child) .bp3-button,
    .bp3-button-group.bp3-vertical:not(.bp3-minimal) > .bp3-button:not(:last-child){
      margin-bottom:-1px; }
  .bp3-button-group.bp3-align-left .bp3-button{
    text-align:left; }
  .bp3-dark .bp3-button-group:not(.bp3-minimal) > .bp3-popover-wrapper:not(:last-child) .bp3-button,
  .bp3-dark .bp3-button-group:not(.bp3-minimal) > .bp3-button:not(:last-child){
    margin-right:1px; }
  .bp3-dark .bp3-button-group.bp3-vertical > .bp3-popover-wrapper:not(:last-child) .bp3-button,
  .bp3-dark .bp3-button-group.bp3-vertical > .bp3-button:not(:last-child){
    margin-bottom:1px; }
.bp3-callout{
  line-height:1.5;
  font-size:14px;
  position:relative;
  border-radius:3px;
  background-color:rgba(138, 155, 168, 0.15);
  width:100%;
  padding:10px 12px 9px; }
  .bp3-callout[class*="bp3-icon-"]{
    padding-left:40px; }
    .bp3-callout[class*="bp3-icon-"]::before{
      line-height:1;
      font-family:"Icons20", sans-serif;
      font-size:20px;
      font-weight:400;
      font-style:normal;
      -moz-osx-font-smoothing:grayscale;
      -webkit-font-smoothing:antialiased;
      position:absolute;
      top:10px;
      left:10px;
      color:#5c7080; }
  .bp3-callout.bp3-callout-icon{
    padding-left:40px; }
    .bp3-callout.bp3-callout-icon > .bp3-icon:first-child{
      position:absolute;
      top:10px;
      left:10px;
      color:#5c7080; }
  .bp3-callout .bp3-heading{
    margin-top:0;
    margin-bottom:5px;
    line-height:20px; }
    .bp3-callout .bp3-heading:last-child{
      margin-bottom:0; }
  .bp3-dark .bp3-callout{
    background-color:rgba(138, 155, 168, 0.2); }
    .bp3-dark .bp3-callout[class*="bp3-icon-"]::before{
      color:#a7b6c2; }
  .bp3-callout.bp3-intent-primary{
    background-color:rgba(19, 124, 189, 0.15); }
    .bp3-callout.bp3-intent-primary[class*="bp3-icon-"]::before,
    .bp3-callout.bp3-intent-primary > .bp3-icon:first-child,
    .bp3-callout.bp3-intent-primary .bp3-heading{
      color:#106ba3; }
    .bp3-dark .bp3-callout.bp3-intent-primary{
      background-color:rgba(19, 124, 189, 0.25); }
      .bp3-dark .bp3-callout.bp3-intent-primary[class*="bp3-icon-"]::before,
      .bp3-dark .bp3-callout.bp3-intent-primary > .bp3-icon:first-child,
      .bp3-dark .bp3-callout.bp3-intent-primary .bp3-heading{
        color:#48aff0; }
  .bp3-callout.bp3-intent-success{
    background-color:rgba(15, 153, 96, 0.15); }
    .bp3-callout.bp3-intent-success[class*="bp3-icon-"]::before,
    .bp3-callout.bp3-intent-success > .bp3-icon:first-child,
    .bp3-callout.bp3-intent-success .bp3-heading{
      color:#0d8050; }
    .bp3-dark .bp3-callout.bp3-intent-success{
      background-color:rgba(15, 153, 96, 0.25); }
      .bp3-dark .bp3-callout.bp3-intent-success[class*="bp3-icon-"]::before,
      .bp3-dark .bp3-callout.bp3-intent-success > .bp3-icon:first-child,
      .bp3-dark .bp3-callout.bp3-intent-success .bp3-heading{
        color:#3dcc91; }
  .bp3-callout.bp3-intent-warning{
    background-color:rgba(217, 130, 43, 0.15); }
    .bp3-callout.bp3-intent-warning[class*="bp3-icon-"]::before,
    .bp3-callout.bp3-intent-warning > .bp3-icon:first-child,
    .bp3-callout.bp3-intent-warning .bp3-heading{
      color:#bf7326; }
    .bp3-dark .bp3-callout.bp3-intent-warning{
      background-color:rgba(217, 130, 43, 0.25); }
      .bp3-dark .bp3-callout.bp3-intent-warning[class*="bp3-icon-"]::before,
      .bp3-dark .bp3-callout.bp3-intent-warning > .bp3-icon:first-child,
      .bp3-dark .bp3-callout.bp3-intent-warning .bp3-heading{
        color:#ffb366; }
  .bp3-callout.bp3-intent-danger{
    background-color:rgba(219, 55, 55, 0.15); }
    .bp3-callout.bp3-intent-danger[class*="bp3-icon-"]::before,
    .bp3-callout.bp3-intent-danger > .bp3-icon:first-child,
    .bp3-callout.bp3-intent-danger .bp3-heading{
      color:#c23030; }
    .bp3-dark .bp3-callout.bp3-intent-danger{
      background-color:rgba(219, 55, 55, 0.25); }
      .bp3-dark .bp3-callout.bp3-intent-danger[class*="bp3-icon-"]::before,
      .bp3-dark .bp3-callout.bp3-intent-danger > .bp3-icon:first-child,
      .bp3-dark .bp3-callout.bp3-intent-danger .bp3-heading{
        color:#ff7373; }
  .bp3-running-text .bp3-callout{
    margin:20px 0; }
.bp3-card{
  border-radius:3px;
  -webkit-box-shadow:0 0 0 1px rgba(16, 22, 26, 0.15), 0 0 0 rgba(16, 22, 26, 0), 0 0 0 rgba(16, 22, 26, 0);
          box-shadow:0 0 0 1px rgba(16, 22, 26, 0.15), 0 0 0 rgba(16, 22, 26, 0), 0 0 0 rgba(16, 22, 26, 0);
  background-color:#ffffff;
  padding:20px;
  -webkit-transition:-webkit-transform 200ms cubic-bezier(0.4, 1, 0.75, 0.9), -webkit-box-shadow 200ms cubic-bezier(0.4, 1, 0.75, 0.9);
  transition:-webkit-transform 200ms cubic-bezier(0.4, 1, 0.75, 0.9), -webkit-box-shadow 200ms cubic-bezier(0.4, 1, 0.75, 0.9);
  transition:transform 200ms cubic-bezier(0.4, 1, 0.75, 0.9), box-shadow 200ms cubic-bezier(0.4, 1, 0.75, 0.9);
  transition:transform 200ms cubic-bezier(0.4, 1, 0.75, 0.9), box-shadow 200ms cubic-bezier(0.4, 1, 0.75, 0.9), -webkit-transform 200ms cubic-bezier(0.4, 1, 0.75, 0.9), -webkit-box-shadow 200ms cubic-bezier(0.4, 1, 0.75, 0.9); }
  .bp3-card.bp3-dark,
  .bp3-dark .bp3-card{
    -webkit-box-shadow:0 0 0 1px rgba(16, 22, 26, 0.4), 0 0 0 rgba(16, 22, 26, 0), 0 0 0 rgba(16, 22, 26, 0);
            box-shadow:0 0 0 1px rgba(16, 22, 26, 0.4), 0 0 0 rgba(16, 22, 26, 0), 0 0 0 rgba(16, 22, 26, 0);
    background-color:#30404d; }

.bp3-elevation-0{
  -webkit-box-shadow:0 0 0 1px rgba(16, 22, 26, 0.15), 0 0 0 rgba(16, 22, 26, 0), 0 0 0 rgba(16, 22, 26, 0);
          box-shadow:0 0 0 1px rgba(16, 22, 26, 0.15), 0 0 0 rgba(16, 22, 26, 0), 0 0 0 rgba(16, 22, 26, 0); }
  .bp3-elevation-0.bp3-dark,
  .bp3-dark .bp3-elevation-0{
    -webkit-box-shadow:0 0 0 1px rgba(16, 22, 26, 0.4), 0 0 0 rgba(16, 22, 26, 0), 0 0 0 rgba(16, 22, 26, 0);
            box-shadow:0 0 0 1px rgba(16, 22, 26, 0.4), 0 0 0 rgba(16, 22, 26, 0), 0 0 0 rgba(16, 22, 26, 0); }

.bp3-elevation-1{
  -webkit-box-shadow:0 0 0 1px rgba(16, 22, 26, 0.1), 0 0 0 rgba(16, 22, 26, 0), 0 1px 1px rgba(16, 22, 26, 0.2);
          box-shadow:0 0 0 1px rgba(16, 22, 26, 0.1), 0 0 0 rgba(16, 22, 26, 0), 0 1px 1px rgba(16, 22, 26, 0.2); }
  .bp3-elevation-1.bp3-dark,
  .bp3-dark .bp3-elevation-1{
    -webkit-box-shadow:0 0 0 1px rgba(16, 22, 26, 0.2), 0 0 0 rgba(16, 22, 26, 0), 0 1px 1px rgba(16, 22, 26, 0.4);
            box-shadow:0 0 0 1px rgba(16, 22, 26, 0.2), 0 0 0 rgba(16, 22, 26, 0), 0 1px 1px rgba(16, 22, 26, 0.4); }

.bp3-elevation-2{
  -webkit-box-shadow:0 0 0 1px rgba(16, 22, 26, 0.1), 0 1px 1px rgba(16, 22, 26, 0.2), 0 2px 6px rgba(16, 22, 26, 0.2);
          box-shadow:0 0 0 1px rgba(16, 22, 26, 0.1), 0 1px 1px rgba(16, 22, 26, 0.2), 0 2px 6px rgba(16, 22, 26, 0.2); }
  .bp3-elevation-2.bp3-dark,
  .bp3-dark .bp3-elevation-2{
    -webkit-box-shadow:0 0 0 1px rgba(16, 22, 26, 0.2), 0 1px 1px rgba(16, 22, 26, 0.4), 0 2px 6px rgba(16, 22, 26, 0.4);
            box-shadow:0 0 0 1px rgba(16, 22, 26, 0.2), 0 1px 1px rgba(16, 22, 26, 0.4), 0 2px 6px rgba(16, 22, 26, 0.4); }

.bp3-elevation-3{
  -webkit-box-shadow:0 0 0 1px rgba(16, 22, 26, 0.1), 0 2px 4px rgba(16, 22, 26, 0.2), 0 8px 24px rgba(16, 22, 26, 0.2);
          box-shadow:0 0 0 1px rgba(16, 22, 26, 0.1), 0 2px 4px rgba(16, 22, 26, 0.2), 0 8px 24px rgba(16, 22, 26, 0.2); }
  .bp3-elevation-3.bp3-dark,
  .bp3-dark .bp3-elevation-3{
    -webkit-box-shadow:0 0 0 1px rgba(16, 22, 26, 0.2), 0 2px 4px rgba(16, 22, 26, 0.4), 0 8px 24px rgba(16, 22, 26, 0.4);
            box-shadow:0 0 0 1px rgba(16, 22, 26, 0.2), 0 2px 4px rgba(16, 22, 26, 0.4), 0 8px 24px rgba(16, 22, 26, 0.4); }

.bp3-elevation-4{
  -webkit-box-shadow:0 0 0 1px rgba(16, 22, 26, 0.1), 0 4px 8px rgba(16, 22, 26, 0.2), 0 18px 46px 6px rgba(16, 22, 26, 0.2);
          box-shadow:0 0 0 1px rgba(16, 22, 26, 0.1), 0 4px 8px rgba(16, 22, 26, 0.2), 0 18px 46px 6px rgba(16, 22, 26, 0.2); }
  .bp3-elevation-4.bp3-dark,
  .bp3-dark .bp3-elevation-4{
    -webkit-box-shadow:0 0 0 1px rgba(16, 22, 26, 0.2), 0 4px 8px rgba(16, 22, 26, 0.4), 0 18px 46px 6px rgba(16, 22, 26, 0.4);
            box-shadow:0 0 0 1px rgba(16, 22, 26, 0.2), 0 4px 8px rgba(16, 22, 26, 0.4), 0 18px 46px 6px rgba(16, 22, 26, 0.4); }

.bp3-card.bp3-interactive:hover{
  -webkit-box-shadow:0 0 0 1px rgba(16, 22, 26, 0.1), 0 2px 4px rgba(16, 22, 26, 0.2), 0 8px 24px rgba(16, 22, 26, 0.2);
          box-shadow:0 0 0 1px rgba(16, 22, 26, 0.1), 0 2px 4px rgba(16, 22, 26, 0.2), 0 8px 24px rgba(16, 22, 26, 0.2);
  cursor:pointer; }
  .bp3-card.bp3-interactive:hover.bp3-dark,
  .bp3-dark .bp3-card.bp3-interactive:hover{
    -webkit-box-shadow:0 0 0 1px rgba(16, 22, 26, 0.2), 0 2px 4px rgba(16, 22, 26, 0.4), 0 8px 24px rgba(16, 22, 26, 0.4);
            box-shadow:0 0 0 1px rgba(16, 22, 26, 0.2), 0 2px 4px rgba(16, 22, 26, 0.4), 0 8px 24px rgba(16, 22, 26, 0.4); }

.bp3-card.bp3-interactive:active{
  opacity:0.9;
  -webkit-box-shadow:0 0 0 1px rgba(16, 22, 26, 0.1), 0 0 0 rgba(16, 22, 26, 0), 0 1px 1px rgba(16, 22, 26, 0.2);
          box-shadow:0 0 0 1px rgba(16, 22, 26, 0.1), 0 0 0 rgba(16, 22, 26, 0), 0 1px 1px rgba(16, 22, 26, 0.2);
  -webkit-transition-duration:0;
          transition-duration:0; }
  .bp3-card.bp3-interactive:active.bp3-dark,
  .bp3-dark .bp3-card.bp3-interactive:active{
    -webkit-box-shadow:0 0 0 1px rgba(16, 22, 26, 0.2), 0 0 0 rgba(16, 22, 26, 0), 0 1px 1px rgba(16, 22, 26, 0.4);
            box-shadow:0 0 0 1px rgba(16, 22, 26, 0.2), 0 0 0 rgba(16, 22, 26, 0), 0 1px 1px rgba(16, 22, 26, 0.4); }

.bp3-collapse{
  height:0;
  overflow-y:hidden;
  -webkit-transition:height 200ms cubic-bezier(0.4, 1, 0.75, 0.9);
  transition:height 200ms cubic-bezier(0.4, 1, 0.75, 0.9); }
  .bp3-collapse .bp3-collapse-body{
    -webkit-transition:-webkit-transform 200ms cubic-bezier(0.4, 1, 0.75, 0.9);
    transition:-webkit-transform 200ms cubic-bezier(0.4, 1, 0.75, 0.9);
    transition:transform 200ms cubic-bezier(0.4, 1, 0.75, 0.9);
    transition:transform 200ms cubic-bezier(0.4, 1, 0.75, 0.9), -webkit-transform 200ms cubic-bezier(0.4, 1, 0.75, 0.9); }
    .bp3-collapse .bp3-collapse-body[aria-hidden="true"]{
      display:none; }

.bp3-context-menu .bp3-popover-target{
  display:block; }

.bp3-context-menu-popover-target{
  position:fixed; }

.bp3-divider{
  margin:5px;
  border-right:1px solid rgba(16, 22, 26, 0.15);
  border-bottom:1px solid rgba(16, 22, 26, 0.15); }
  .bp3-dark .bp3-divider{
    border-color:rgba(16, 22, 26, 0.4); }
.bp3-dialog-container{
  opacity:1;
  -webkit-transform:scale(1);
          transform:scale(1);
  display:-webkit-box;
  display:-ms-flexbox;
  display:flex;
  -webkit-box-align:center;
      -ms-flex-align:center;
          align-items:center;
  -webkit-box-pack:center;
      -ms-flex-pack:center;
          justify-content:center;
  width:100%;
  min-height:100%;
  pointer-events:none;
  -webkit-user-select:none;
     -moz-user-select:none;
      -ms-user-select:none;
          user-select:none; }
  .bp3-dialog-container.bp3-overlay-enter > .bp3-dialog, .bp3-dialog-container.bp3-overlay-appear > .bp3-dialog{
    opacity:0;
    -webkit-transform:scale(0.5);
            transform:scale(0.5); }
  .bp3-dialog-container.bp3-overlay-enter-active > .bp3-dialog, .bp3-dialog-container.bp3-overlay-appear-active > .bp3-dialog{
    opacity:1;
    -webkit-transform:scale(1);
            transform:scale(1);
    -webkit-transition-property:opacity, -webkit-transform;
    transition-property:opacity, -webkit-transform;
    transition-property:opacity, transform;
    transition-property:opacity, transform, -webkit-transform;
    -webkit-transition-duration:300ms;
            transition-duration:300ms;
    -webkit-transition-timing-function:cubic-bezier(0.54, 1.12, 0.38, 1.11);
            transition-timing-function:cubic-bezier(0.54, 1.12, 0.38, 1.11);
    -webkit-transition-delay:0;
            transition-delay:0; }
  .bp3-dialog-container.bp3-overlay-exit > .bp3-dialog{
    opacity:1;
    -webkit-transform:scale(1);
            transform:scale(1); }
  .bp3-dialog-container.bp3-overlay-exit-active > .bp3-dialog{
    opacity:0;
    -webkit-transform:scale(0.5);
            transform:scale(0.5);
    -webkit-transition-property:opacity, -webkit-transform;
    transition-property:opacity, -webkit-transform;
    transition-property:opacity, transform;
    transition-property:opacity, transform, -webkit-transform;
    -webkit-transition-duration:300ms;
            transition-duration:300ms;
    -webkit-transition-timing-function:cubic-bezier(0.54, 1.12, 0.38, 1.11);
            transition-timing-function:cubic-bezier(0.54, 1.12, 0.38, 1.11);
    -webkit-transition-delay:0;
            transition-delay:0; }

.bp3-dialog{
  display:-webkit-box;
  display:-ms-flexbox;
  display:flex;
  -webkit-box-orient:vertical;
  -webkit-box-direction:normal;
      -ms-flex-direction:column;
          flex-direction:column;
  margin:30px 0;
  border-radius:6px;
  -webkit-box-shadow:0 0 0 1px rgba(16, 22, 26, 0.1), 0 4px 8px rgba(16, 22, 26, 0.2), 0 18px 46px 6px rgba(16, 22, 26, 0.2);
          box-shadow:0 0 0 1px rgba(16, 22, 26, 0.1), 0 4px 8px rgba(16, 22, 26, 0.2), 0 18px 46px 6px rgba(16, 22, 26, 0.2);
  background:#ebf1f5;
  width:500px;
  padding-bottom:20px;
  pointer-events:all;
  -webkit-user-select:text;
     -moz-user-select:text;
      -ms-user-select:text;
          user-select:text; }
  .bp3-dialog:focus{
    outline:0; }
  .bp3-dialog.bp3-dark,
  .bp3-dark .bp3-dialog{
    -webkit-box-shadow:0 0 0 1px rgba(16, 22, 26, 0.2), 0 4px 8px rgba(16, 22, 26, 0.4), 0 18px 46px 6px rgba(16, 22, 26, 0.4);
            box-shadow:0 0 0 1px rgba(16, 22, 26, 0.2), 0 4px 8px rgba(16, 22, 26, 0.4), 0 18px 46px 6px rgba(16, 22, 26, 0.4);
    background:#293742;
    color:#f5f8fa; }

.bp3-dialog-header{
  display:-webkit-box;
  display:-ms-flexbox;
  display:flex;
  -webkit-box-flex:0;
      -ms-flex:0 0 auto;
          flex:0 0 auto;
  -webkit-box-align:center;
      -ms-flex-align:center;
          align-items:center;
  border-radius:6px 6px 0 0;
  -webkit-box-shadow:0 1px 0 rgba(16, 22, 26, 0.15);
          box-shadow:0 1px 0 rgba(16, 22, 26, 0.15);
  background:#ffffff;
  min-height:40px;
  padding-right:5px;
  padding-left:20px; }
  .bp3-dialog-header .bp3-icon-large,
  .bp3-dialog-header .bp3-icon{
    -webkit-box-flex:0;
        -ms-flex:0 0 auto;
            flex:0 0 auto;
    margin-right:10px;
    color:#5c7080; }
  .bp3-dialog-header .bp3-heading{
    overflow:hidden;
    text-overflow:ellipsis;
    white-space:nowrap;
    word-wrap:normal;
    -webkit-box-flex:1;
        -ms-flex:1 1 auto;
            flex:1 1 auto;
    margin:0;
    line-height:inherit; }
    .bp3-dialog-header .bp3-heading:last-child{
      margin-right:20px; }
  .bp3-dark .bp3-dialog-header{
    -webkit-box-shadow:0 1px 0 rgba(16, 22, 26, 0.4);
            box-shadow:0 1px 0 rgba(16, 22, 26, 0.4);
    background:#30404d; }
    .bp3-dark .bp3-dialog-header .bp3-icon-large,
    .bp3-dark .bp3-dialog-header .bp3-icon{
      color:#a7b6c2; }

.bp3-dialog-body{
  -webkit-box-flex:1;
      -ms-flex:1 1 auto;
          flex:1 1 auto;
  margin:20px;
  line-height:18px; }

.bp3-dialog-footer{
  -webkit-box-flex:0;
      -ms-flex:0 0 auto;
          flex:0 0 auto;
  margin:0 20px; }

.bp3-dialog-footer-actions{
  display:-webkit-box;
  display:-ms-flexbox;
  display:flex;
  -webkit-box-pack:end;
      -ms-flex-pack:end;
          justify-content:flex-end; }
  .bp3-dialog-footer-actions .bp3-button{
    margin-left:10px; }
.bp3-drawer{
  display:-webkit-box;
  display:-ms-flexbox;
  display:flex;
  -webkit-box-orient:vertical;
  -webkit-box-direction:normal;
      -ms-flex-direction:column;
          flex-direction:column;
  margin:0;
  -webkit-box-shadow:0 0 0 1px rgba(16, 22, 26, 0.1), 0 4px 8px rgba(16, 22, 26, 0.2), 0 18px 46px 6px rgba(16, 22, 26, 0.2);
          box-shadow:0 0 0 1px rgba(16, 22, 26, 0.1), 0 4px 8px rgba(16, 22, 26, 0.2), 0 18px 46px 6px rgba(16, 22, 26, 0.2);
  background:#ffffff;
  padding:0; }
  .bp3-drawer:focus{
    outline:0; }
  .bp3-drawer.bp3-position-top{
    top:0;
    right:0;
    left:0;
    height:50%; }
    .bp3-drawer.bp3-position-top.bp3-overlay-enter, .bp3-drawer.bp3-position-top.bp3-overlay-appear{
      -webkit-transform:translateY(-100%);
              transform:translateY(-100%); }
    .bp3-drawer.bp3-position-top.bp3-overlay-enter-active, .bp3-drawer.bp3-position-top.bp3-overlay-appear-active{
      -webkit-transform:translateY(0);
              transform:translateY(0);
      -webkit-transition-property:-webkit-transform;
      transition-property:-webkit-transform;
      transition-property:transform;
      transition-property:transform, -webkit-transform;
      -webkit-transition-duration:200ms;
              transition-duration:200ms;
      -webkit-transition-timing-function:cubic-bezier(0.4, 1, 0.75, 0.9);
              transition-timing-function:cubic-bezier(0.4, 1, 0.75, 0.9);
      -webkit-transition-delay:0;
              transition-delay:0; }
    .bp3-drawer.bp3-position-top.bp3-overlay-exit{
      -webkit-transform:translateY(0);
              transform:translateY(0); }
    .bp3-drawer.bp3-position-top.bp3-overlay-exit-active{
      -webkit-transform:translateY(-100%);
              transform:translateY(-100%);
      -webkit-transition-property:-webkit-transform;
      transition-property:-webkit-transform;
      transition-property:transform;
      transition-property:transform, -webkit-transform;
      -webkit-transition-duration:100ms;
              transition-duration:100ms;
      -webkit-transition-timing-function:cubic-bezier(0.4, 1, 0.75, 0.9);
              transition-timing-function:cubic-bezier(0.4, 1, 0.75, 0.9);
      -webkit-transition-delay:0;
              transition-delay:0; }
  .bp3-drawer.bp3-position-bottom{
    right:0;
    bottom:0;
    left:0;
    height:50%; }
    .bp3-drawer.bp3-position-bottom.bp3-overlay-enter, .bp3-drawer.bp3-position-bottom.bp3-overlay-appear{
      -webkit-transform:translateY(100%);
              transform:translateY(100%); }
    .bp3-drawer.bp3-position-bottom.bp3-overlay-enter-active, .bp3-drawer.bp3-position-bottom.bp3-overlay-appear-active{
      -webkit-transform:translateY(0);
              transform:translateY(0);
      -webkit-transition-property:-webkit-transform;
      transition-property:-webkit-transform;
      transition-property:transform;
      transition-property:transform, -webkit-transform;
      -webkit-transition-duration:200ms;
              transition-duration:200ms;
      -webkit-transition-timing-function:cubic-bezier(0.4, 1, 0.75, 0.9);
              transition-timing-function:cubic-bezier(0.4, 1, 0.75, 0.9);
      -webkit-transition-delay:0;
              transition-delay:0; }
    .bp3-drawer.bp3-position-bottom.bp3-overlay-exit{
      -webkit-transform:translateY(0);
              transform:translateY(0); }
    .bp3-drawer.bp3-position-bottom.bp3-overlay-exit-active{
      -webkit-transform:translateY(100%);
              transform:translateY(100%);
      -webkit-transition-property:-webkit-transform;
      transition-property:-webkit-transform;
      transition-property:transform;
      transition-property:transform, -webkit-transform;
      -webkit-transition-duration:100ms;
              transition-duration:100ms;
      -webkit-transition-timing-function:cubic-bezier(0.4, 1, 0.75, 0.9);
              transition-timing-function:cubic-bezier(0.4, 1, 0.75, 0.9);
      -webkit-transition-delay:0;
              transition-delay:0; }
  .bp3-drawer.bp3-position-left{
    top:0;
    bottom:0;
    left:0;
    width:50%; }
    .bp3-drawer.bp3-position-left.bp3-overlay-enter, .bp3-drawer.bp3-position-left.bp3-overlay-appear{
      -webkit-transform:translateX(-100%);
              transform:translateX(-100%); }
    .bp3-drawer.bp3-position-left.bp3-overlay-enter-active, .bp3-drawer.bp3-position-left.bp3-overlay-appear-active{
      -webkit-transform:translateX(0);
              transform:translateX(0);
      -webkit-transition-property:-webkit-transform;
      transition-property:-webkit-transform;
      transition-property:transform;
      transition-property:transform, -webkit-transform;
      -webkit-transition-duration:200ms;
              transition-duration:200ms;
      -webkit-transition-timing-function:cubic-bezier(0.4, 1, 0.75, 0.9);
              transition-timing-function:cubic-bezier(0.4, 1, 0.75, 0.9);
      -webkit-transition-delay:0;
              transition-delay:0; }
    .bp3-drawer.bp3-position-left.bp3-overlay-exit{
      -webkit-transform:translateX(0);
              transform:translateX(0); }
    .bp3-drawer.bp3-position-left.bp3-overlay-exit-active{
      -webkit-transform:translateX(-100%);
              transform:translateX(-100%);
      -webkit-transition-property:-webkit-transform;
      transition-property:-webkit-transform;
      transition-property:transform;
      transition-property:transform, -webkit-transform;
      -webkit-transition-duration:100ms;
              transition-duration:100ms;
      -webkit-transition-timing-function:cubic-bezier(0.4, 1, 0.75, 0.9);
              transition-timing-function:cubic-bezier(0.4, 1, 0.75, 0.9);
      -webkit-transition-delay:0;
              transition-delay:0; }
  .bp3-drawer.bp3-position-right{
    top:0;
    right:0;
    bottom:0;
    width:50%; }
    .bp3-drawer.bp3-position-right.bp3-overlay-enter, .bp3-drawer.bp3-position-right.bp3-overlay-appear{
      -webkit-transform:translateX(100%);
              transform:translateX(100%); }
    .bp3-drawer.bp3-position-right.bp3-overlay-enter-active, .bp3-drawer.bp3-position-right.bp3-overlay-appear-active{
      -webkit-transform:translateX(0);
              transform:translateX(0);
      -webkit-transition-property:-webkit-transform;
      transition-property:-webkit-transform;
      transition-property:transform;
      transition-property:transform, -webkit-transform;
      -webkit-transition-duration:200ms;
              transition-duration:200ms;
      -webkit-transition-timing-function:cubic-bezier(0.4, 1, 0.75, 0.9);
              transition-timing-function:cubic-bezier(0.4, 1, 0.75, 0.9);
      -webkit-transition-delay:0;
              transition-delay:0; }
    .bp3-drawer.bp3-position-right.bp3-overlay-exit{
      -webkit-transform:translateX(0);
              transform:translateX(0); }
    .bp3-drawer.bp3-position-right.bp3-overlay-exit-active{
      -webkit-transform:translateX(100%);
              transform:translateX(100%);
      -webkit-transition-property:-webkit-transform;
      transition-property:-webkit-transform;
      transition-property:transform;
      transition-property:transform, -webkit-transform;
      -webkit-transition-duration:100ms;
              transition-duration:100ms;
      -webkit-transition-timing-function:cubic-bezier(0.4, 1, 0.75, 0.9);
              transition-timing-function:cubic-bezier(0.4, 1, 0.75, 0.9);
      -webkit-transition-delay:0;
              transition-delay:0; }
  .bp3-drawer:not(.bp3-position-top):not(.bp3-position-bottom):not(.bp3-position-left):not(
  .bp3-position-right):not(.bp3-vertical){
    top:0;
    right:0;
    bottom:0;
    width:50%; }
    .bp3-drawer:not(.bp3-position-top):not(.bp3-position-bottom):not(.bp3-position-left):not(
    .bp3-position-right):not(.bp3-vertical).bp3-overlay-enter, .bp3-drawer:not(.bp3-position-top):not(.bp3-position-bottom):not(.bp3-position-left):not(
    .bp3-position-right):not(.bp3-vertical).bp3-overlay-appear{
      -webkit-transform:translateX(100%);
              transform:translateX(100%); }
    .bp3-drawer:not(.bp3-position-top):not(.bp3-position-bottom):not(.bp3-position-left):not(
    .bp3-position-right):not(.bp3-vertical).bp3-overlay-enter-active, .bp3-drawer:not(.bp3-position-top):not(.bp3-position-bottom):not(.bp3-position-left):not(
    .bp3-position-right):not(.bp3-vertical).bp3-overlay-appear-active{
      -webkit-transform:translateX(0);
              transform:translateX(0);
      -webkit-transition-property:-webkit-transform;
      transition-property:-webkit-transform;
      transition-property:transform;
      transition-property:transform, -webkit-transform;
      -webkit-transition-duration:200ms;
              transition-duration:200ms;
      -webkit-transition-timing-function:cubic-bezier(0.4, 1, 0.75, 0.9);
              transition-timing-function:cubic-bezier(0.4, 1, 0.75, 0.9);
      -webkit-transition-delay:0;
              transition-delay:0; }
    .bp3-drawer:not(.bp3-position-top):not(.bp3-position-bottom):not(.bp3-position-left):not(
    .bp3-position-right):not(.bp3-vertical).bp3-overlay-exit{
      -webkit-transform:translateX(0);
              transform:translateX(0); }
    .bp3-drawer:not(.bp3-position-top):not(.bp3-position-bottom):not(.bp3-position-left):not(
    .bp3-position-right):not(.bp3-vertical).bp3-overlay-exit-active{
      -webkit-transform:translateX(100%);
              transform:translateX(100%);
      -webkit-transition-property:-webkit-transform;
      transition-property:-webkit-transform;
      transition-property:transform;
      transition-property:transform, -webkit-transform;
      -webkit-transition-duration:100ms;
              transition-duration:100ms;
      -webkit-transition-timing-function:cubic-bezier(0.4, 1, 0.75, 0.9);
              transition-timing-function:cubic-bezier(0.4, 1, 0.75, 0.9);
      -webkit-transition-delay:0;
              transition-delay:0; }
  .bp3-drawer:not(.bp3-position-top):not(.bp3-position-bottom):not(.bp3-position-left):not(
  .bp3-position-right).bp3-vertical{
    right:0;
    bottom:0;
    left:0;
    height:50%; }
    .bp3-drawer:not(.bp3-position-top):not(.bp3-position-bottom):not(.bp3-position-left):not(
    .bp3-position-right).bp3-vertical.bp3-overlay-enter, .bp3-drawer:not(.bp3-position-top):not(.bp3-position-bottom):not(.bp3-position-left):not(
    .bp3-position-right).bp3-vertical.bp3-overlay-appear{
      -webkit-transform:translateY(100%);
              transform:translateY(100%); }
    .bp3-drawer:not(.bp3-position-top):not(.bp3-position-bottom):not(.bp3-position-left):not(
    .bp3-position-right).bp3-vertical.bp3-overlay-enter-active, .bp3-drawer:not(.bp3-position-top):not(.bp3-position-bottom):not(.bp3-position-left):not(
    .bp3-position-right).bp3-vertical.bp3-overlay-appear-active{
      -webkit-transform:translateY(0);
              transform:translateY(0);
      -webkit-transition-property:-webkit-transform;
      transition-property:-webkit-transform;
      transition-property:transform;
      transition-property:transform, -webkit-transform;
      -webkit-transition-duration:200ms;
              transition-duration:200ms;
      -webkit-transition-timing-function:cubic-bezier(0.4, 1, 0.75, 0.9);
              transition-timing-function:cubic-bezier(0.4, 1, 0.75, 0.9);
      -webkit-transition-delay:0;
              transition-delay:0; }
    .bp3-drawer:not(.bp3-position-top):not(.bp3-position-bottom):not(.bp3-position-left):not(
    .bp3-position-right).bp3-vertical.bp3-overlay-exit{
      -webkit-transform:translateY(0);
              transform:translateY(0); }
    .bp3-drawer:not(.bp3-position-top):not(.bp3-position-bottom):not(.bp3-position-left):not(
    .bp3-position-right).bp3-vertical.bp3-overlay-exit-active{
      -webkit-transform:translateY(100%);
              transform:translateY(100%);
      -webkit-transition-property:-webkit-transform;
      transition-property:-webkit-transform;
      transition-property:transform;
      transition-property:transform, -webkit-transform;
      -webkit-transition-duration:100ms;
              transition-duration:100ms;
      -webkit-transition-timing-function:cubic-bezier(0.4, 1, 0.75, 0.9);
              transition-timing-function:cubic-bezier(0.4, 1, 0.75, 0.9);
      -webkit-transition-delay:0;
              transition-delay:0; }
  .bp3-drawer.bp3-dark,
  .bp3-dark .bp3-drawer{
    -webkit-box-shadow:0 0 0 1px rgba(16, 22, 26, 0.2), 0 4px 8px rgba(16, 22, 26, 0.4), 0 18px 46px 6px rgba(16, 22, 26, 0.4);
            box-shadow:0 0 0 1px rgba(16, 22, 26, 0.2), 0 4px 8px rgba(16, 22, 26, 0.4), 0 18px 46px 6px rgba(16, 22, 26, 0.4);
    background:#30404d;
    color:#f5f8fa; }

.bp3-drawer-header{
  display:-webkit-box;
  display:-ms-flexbox;
  display:flex;
  -webkit-box-flex:0;
      -ms-flex:0 0 auto;
          flex:0 0 auto;
  -webkit-box-align:center;
      -ms-flex-align:center;
          align-items:center;
  position:relative;
  border-radius:0;
  -webkit-box-shadow:0 1px 0 rgba(16, 22, 26, 0.15);
          box-shadow:0 1px 0 rgba(16, 22, 26, 0.15);
  min-height:40px;
  padding:5px;
  padding-left:20px; }
  .bp3-drawer-header .bp3-icon-large,
  .bp3-drawer-header .bp3-icon{
    -webkit-box-flex:0;
        -ms-flex:0 0 auto;
            flex:0 0 auto;
    margin-right:10px;
    color:#5c7080; }
  .bp3-drawer-header .bp3-heading{
    overflow:hidden;
    text-overflow:ellipsis;
    white-space:nowrap;
    word-wrap:normal;
    -webkit-box-flex:1;
        -ms-flex:1 1 auto;
            flex:1 1 auto;
    margin:0;
    line-height:inherit; }
    .bp3-drawer-header .bp3-heading:last-child{
      margin-right:20px; }
  .bp3-dark .bp3-drawer-header{
    -webkit-box-shadow:0 1px 0 rgba(16, 22, 26, 0.4);
            box-shadow:0 1px 0 rgba(16, 22, 26, 0.4); }
    .bp3-dark .bp3-drawer-header .bp3-icon-large,
    .bp3-dark .bp3-drawer-header .bp3-icon{
      color:#a7b6c2; }

.bp3-drawer-body{
  -webkit-box-flex:1;
      -ms-flex:1 1 auto;
          flex:1 1 auto;
  overflow:auto;
  line-height:18px; }

.bp3-drawer-footer{
  -webkit-box-flex:0;
      -ms-flex:0 0 auto;
          flex:0 0 auto;
  position:relative;
  -webkit-box-shadow:inset 0 1px 0 rgba(16, 22, 26, 0.15);
          box-shadow:inset 0 1px 0 rgba(16, 22, 26, 0.15);
  padding:10px 20px; }
  .bp3-dark .bp3-drawer-footer{
    -webkit-box-shadow:inset 0 1px 0 rgba(16, 22, 26, 0.4);
            box-shadow:inset 0 1px 0 rgba(16, 22, 26, 0.4); }
.bp3-editable-text{
  display:inline-block;
  position:relative;
  cursor:text;
  max-width:100%;
  vertical-align:top;
  white-space:nowrap; }
  .bp3-editable-text::before{
    position:absolute;
    top:-3px;
    right:-3px;
    bottom:-3px;
    left:-3px;
    border-radius:3px;
    content:"";
    -webkit-transition:background-color 100ms cubic-bezier(0.4, 1, 0.75, 0.9), -webkit-box-shadow 100ms cubic-bezier(0.4, 1, 0.75, 0.9);
    transition:background-color 100ms cubic-bezier(0.4, 1, 0.75, 0.9), -webkit-box-shadow 100ms cubic-bezier(0.4, 1, 0.75, 0.9);
    transition:background-color 100ms cubic-bezier(0.4, 1, 0.75, 0.9), box-shadow 100ms cubic-bezier(0.4, 1, 0.75, 0.9);
    transition:background-color 100ms cubic-bezier(0.4, 1, 0.75, 0.9), box-shadow 100ms cubic-bezier(0.4, 1, 0.75, 0.9), -webkit-box-shadow 100ms cubic-bezier(0.4, 1, 0.75, 0.9); }
  .bp3-editable-text:hover::before{
    -webkit-box-shadow:0 0 0 0 rgba(19, 124, 189, 0), 0 0 0 0 rgba(19, 124, 189, 0), inset 0 0 0 1px rgba(16, 22, 26, 0.15);
            box-shadow:0 0 0 0 rgba(19, 124, 189, 0), 0 0 0 0 rgba(19, 124, 189, 0), inset 0 0 0 1px rgba(16, 22, 26, 0.15); }
  .bp3-editable-text.bp3-editable-text-editing::before{
    -webkit-box-shadow:0 0 0 1px #137cbd, 0 0 0 3px rgba(19, 124, 189, 0.3), inset 0 1px 1px rgba(16, 22, 26, 0.2);
            box-shadow:0 0 0 1px #137cbd, 0 0 0 3px rgba(19, 124, 189, 0.3), inset 0 1px 1px rgba(16, 22, 26, 0.2);
    background-color:#ffffff; }
  .bp3-editable-text.bp3-disabled::before{
    -webkit-box-shadow:none;
            box-shadow:none; }
  .bp3-editable-text.bp3-intent-primary .bp3-editable-text-input,
  .bp3-editable-text.bp3-intent-primary .bp3-editable-text-content{
    color:#137cbd; }
  .bp3-editable-text.bp3-intent-primary:hover::before{
    -webkit-box-shadow:0 0 0 0 rgba(19, 124, 189, 0), 0 0 0 0 rgba(19, 124, 189, 0), inset 0 0 0 1px rgba(19, 124, 189, 0.4);
            box-shadow:0 0 0 0 rgba(19, 124, 189, 0), 0 0 0 0 rgba(19, 124, 189, 0), inset 0 0 0 1px rgba(19, 124, 189, 0.4); }
  .bp3-editable-text.bp3-intent-primary.bp3-editable-text-editing::before{
    -webkit-box-shadow:0 0 0 1px #137cbd, 0 0 0 3px rgba(19, 124, 189, 0.3), inset 0 1px 1px rgba(16, 22, 26, 0.2);
            box-shadow:0 0 0 1px #137cbd, 0 0 0 3px rgba(19, 124, 189, 0.3), inset 0 1px 1px rgba(16, 22, 26, 0.2); }
  .bp3-editable-text.bp3-intent-success .bp3-editable-text-input,
  .bp3-editable-text.bp3-intent-success .bp3-editable-text-content{
    color:#0f9960; }
  .bp3-editable-text.bp3-intent-success:hover::before{
    -webkit-box-shadow:0 0 0 0 rgba(15, 153, 96, 0), 0 0 0 0 rgba(15, 153, 96, 0), inset 0 0 0 1px rgba(15, 153, 96, 0.4);
            box-shadow:0 0 0 0 rgba(15, 153, 96, 0), 0 0 0 0 rgba(15, 153, 96, 0), inset 0 0 0 1px rgba(15, 153, 96, 0.4); }
  .bp3-editable-text.bp3-intent-success.bp3-editable-text-editing::before{
    -webkit-box-shadow:0 0 0 1px #0f9960, 0 0 0 3px rgba(15, 153, 96, 0.3), inset 0 1px 1px rgba(16, 22, 26, 0.2);
            box-shadow:0 0 0 1px #0f9960, 0 0 0 3px rgba(15, 153, 96, 0.3), inset 0 1px 1px rgba(16, 22, 26, 0.2); }
  .bp3-editable-text.bp3-intent-warning .bp3-editable-text-input,
  .bp3-editable-text.bp3-intent-warning .bp3-editable-text-content{
    color:#d9822b; }
  .bp3-editable-text.bp3-intent-warning:hover::before{
    -webkit-box-shadow:0 0 0 0 rgba(217, 130, 43, 0), 0 0 0 0 rgba(217, 130, 43, 0), inset 0 0 0 1px rgba(217, 130, 43, 0.4);
            box-shadow:0 0 0 0 rgba(217, 130, 43, 0), 0 0 0 0 rgba(217, 130, 43, 0), inset 0 0 0 1px rgba(217, 130, 43, 0.4); }
  .bp3-editable-text.bp3-intent-warning.bp3-editable-text-editing::before{
    -webkit-box-shadow:0 0 0 1px #d9822b, 0 0 0 3px rgba(217, 130, 43, 0.3), inset 0 1px 1px rgba(16, 22, 26, 0.2);
            box-shadow:0 0 0 1px #d9822b, 0 0 0 3px rgba(217, 130, 43, 0.3), inset 0 1px 1px rgba(16, 22, 26, 0.2); }
  .bp3-editable-text.bp3-intent-danger .bp3-editable-text-input,
  .bp3-editable-text.bp3-intent-danger .bp3-editable-text-content{
    color:#db3737; }
  .bp3-editable-text.bp3-intent-danger:hover::before{
    -webkit-box-shadow:0 0 0 0 rgba(219, 55, 55, 0), 0 0 0 0 rgba(219, 55, 55, 0), inset 0 0 0 1px rgba(219, 55, 55, 0.4);
            box-shadow:0 0 0 0 rgba(219, 55, 55, 0), 0 0 0 0 rgba(219, 55, 55, 0), inset 0 0 0 1px rgba(219, 55, 55, 0.4); }
  .bp3-editable-text.bp3-intent-danger.bp3-editable-text-editing::before{
    -webkit-box-shadow:0 0 0 1px #db3737, 0 0 0 3px rgba(219, 55, 55, 0.3), inset 0 1px 1px rgba(16, 22, 26, 0.2);
            box-shadow:0 0 0 1px #db3737, 0 0 0 3px rgba(219, 55, 55, 0.3), inset 0 1px 1px rgba(16, 22, 26, 0.2); }
  .bp3-dark .bp3-editable-text:hover::before{
    -webkit-box-shadow:0 0 0 0 rgba(19, 124, 189, 0), 0 0 0 0 rgba(19, 124, 189, 0), inset 0 0 0 1px rgba(255, 255, 255, 0.15);
            box-shadow:0 0 0 0 rgba(19, 124, 189, 0), 0 0 0 0 rgba(19, 124, 189, 0), inset 0 0 0 1px rgba(255, 255, 255, 0.15); }
  .bp3-dark .bp3-editable-text.bp3-editable-text-editing::before{
    -webkit-box-shadow:0 0 0 1px #137cbd, 0 0 0 3px rgba(19, 124, 189, 0.3), inset 0 0 0 1px rgba(16, 22, 26, 0.3), inset 0 1px 1px rgba(16, 22, 26, 0.4);
            box-shadow:0 0 0 1px #137cbd, 0 0 0 3px rgba(19, 124, 189, 0.3), inset 0 0 0 1px rgba(16, 22, 26, 0.3), inset 0 1px 1px rgba(16, 22, 26, 0.4);
    background-color:rgba(16, 22, 26, 0.3); }
  .bp3-dark .bp3-editable-text.bp3-disabled::before{
    -webkit-box-shadow:none;
            box-shadow:none; }
  .bp3-dark .bp3-editable-text.bp3-intent-primary .bp3-editable-text-content{
    color:#48aff0; }
  .bp3-dark .bp3-editable-text.bp3-intent-primary:hover::before{
    -webkit-box-shadow:0 0 0 0 rgba(72, 175, 240, 0), 0 0 0 0 rgba(72, 175, 240, 0), inset 0 0 0 1px rgba(72, 175, 240, 0.4);
            box-shadow:0 0 0 0 rgba(72, 175, 240, 0), 0 0 0 0 rgba(72, 175, 240, 0), inset 0 0 0 1px rgba(72, 175, 240, 0.4); }
  .bp3-dark .bp3-editable-text.bp3-intent-primary.bp3-editable-text-editing::before{
    -webkit-box-shadow:0 0 0 1px #48aff0, 0 0 0 3px rgba(72, 175, 240, 0.3), inset 0 0 0 1px rgba(16, 22, 26, 0.3), inset 0 1px 1px rgba(16, 22, 26, 0.4);
            box-shadow:0 0 0 1px #48aff0, 0 0 0 3px rgba(72, 175, 240, 0.3), inset 0 0 0 1px rgba(16, 22, 26, 0.3), inset 0 1px 1px rgba(16, 22, 26, 0.4); }
  .bp3-dark .bp3-editable-text.bp3-intent-success .bp3-editable-text-content{
    color:#3dcc91; }
  .bp3-dark .bp3-editable-text.bp3-intent-success:hover::before{
    -webkit-box-shadow:0 0 0 0 rgba(61, 204, 145, 0), 0 0 0 0 rgba(61, 204, 145, 0), inset 0 0 0 1px rgba(61, 204, 145, 0.4);
            box-shadow:0 0 0 0 rgba(61, 204, 145, 0), 0 0 0 0 rgba(61, 204, 145, 0), inset 0 0 0 1px rgba(61, 204, 145, 0.4); }
  .bp3-dark .bp3-editable-text.bp3-intent-success.bp3-editable-text-editing::before{
    -webkit-box-shadow:0 0 0 1px #3dcc91, 0 0 0 3px rgba(61, 204, 145, 0.3), inset 0 0 0 1px rgba(16, 22, 26, 0.3), inset 0 1px 1px rgba(16, 22, 26, 0.4);
            box-shadow:0 0 0 1px #3dcc91, 0 0 0 3px rgba(61, 204, 145, 0.3), inset 0 0 0 1px rgba(16, 22, 26, 0.3), inset 0 1px 1px rgba(16, 22, 26, 0.4); }
  .bp3-dark .bp3-editable-text.bp3-intent-warning .bp3-editable-text-content{
    color:#ffb366; }
  .bp3-dark .bp3-editable-text.bp3-intent-warning:hover::before{
    -webkit-box-shadow:0 0 0 0 rgba(255, 179, 102, 0), 0 0 0 0 rgba(255, 179, 102, 0), inset 0 0 0 1px rgba(255, 179, 102, 0.4);
            box-shadow:0 0 0 0 rgba(255, 179, 102, 0), 0 0 0 0 rgba(255, 179, 102, 0), inset 0 0 0 1px rgba(255, 179, 102, 0.4); }
  .bp3-dark .bp3-editable-text.bp3-intent-warning.bp3-editable-text-editing::before{
    -webkit-box-shadow:0 0 0 1px #ffb366, 0 0 0 3px rgba(255, 179, 102, 0.3), inset 0 0 0 1px rgba(16, 22, 26, 0.3), inset 0 1px 1px rgba(16, 22, 26, 0.4);
            box-shadow:0 0 0 1px #ffb366, 0 0 0 3px rgba(255, 179, 102, 0.3), inset 0 0 0 1px rgba(16, 22, 26, 0.3), inset 0 1px 1px rgba(16, 22, 26, 0.4); }
  .bp3-dark .bp3-editable-text.bp3-intent-danger .bp3-editable-text-content{
    color:#ff7373; }
  .bp3-dark .bp3-editable-text.bp3-intent-danger:hover::before{
    -webkit-box-shadow:0 0 0 0 rgba(255, 115, 115, 0), 0 0 0 0 rgba(255, 115, 115, 0), inset 0 0 0 1px rgba(255, 115, 115, 0.4);
            box-shadow:0 0 0 0 rgba(255, 115, 115, 0), 0 0 0 0 rgba(255, 115, 115, 0), inset 0 0 0 1px rgba(255, 115, 115, 0.4); }
  .bp3-dark .bp3-editable-text.bp3-intent-danger.bp3-editable-text-editing::before{
    -webkit-box-shadow:0 0 0 1px #ff7373, 0 0 0 3px rgba(255, 115, 115, 0.3), inset 0 0 0 1px rgba(16, 22, 26, 0.3), inset 0 1px 1px rgba(16, 22, 26, 0.4);
            box-shadow:0 0 0 1px #ff7373, 0 0 0 3px rgba(255, 115, 115, 0.3), inset 0 0 0 1px rgba(16, 22, 26, 0.3), inset 0 1px 1px rgba(16, 22, 26, 0.4); }

.bp3-editable-text-input,
.bp3-editable-text-content{
  display:inherit;
  position:relative;
  min-width:inherit;
  max-width:inherit;
  vertical-align:top;
  text-transform:inherit;
  letter-spacing:inherit;
  color:inherit;
  font:inherit;
  resize:none; }

.bp3-editable-text-input{
  border:none;
  -webkit-box-shadow:none;
          box-shadow:none;
  background:none;
  width:100%;
  padding:0;
  white-space:pre-wrap; }
  .bp3-editable-text-input::-webkit-input-placeholder{
    opacity:1;
    color:rgba(92, 112, 128, 0.6); }
  .bp3-editable-text-input::-moz-placeholder{
    opacity:1;
    color:rgba(92, 112, 128, 0.6); }
  .bp3-editable-text-input:-ms-input-placeholder{
    opacity:1;
    color:rgba(92, 112, 128, 0.6); }
  .bp3-editable-text-input::-ms-input-placeholder{
    opacity:1;
    color:rgba(92, 112, 128, 0.6); }
  .bp3-editable-text-input::placeholder{
    opacity:1;
    color:rgba(92, 112, 128, 0.6); }
  .bp3-editable-text-input:focus{
    outline:none; }
  .bp3-editable-text-input::-ms-clear{
    display:none; }

.bp3-editable-text-content{
  overflow:hidden;
  padding-right:2px;
  text-overflow:ellipsis;
  white-space:pre; }
  .bp3-editable-text-editing > .bp3-editable-text-content{
    position:absolute;
    left:0;
    visibility:hidden; }
  .bp3-editable-text-placeholder > .bp3-editable-text-content{
    color:rgba(92, 112, 128, 0.6); }
    .bp3-dark .bp3-editable-text-placeholder > .bp3-editable-text-content{
      color:rgba(167, 182, 194, 0.6); }

.bp3-editable-text.bp3-multiline{
  display:block; }
  .bp3-editable-text.bp3-multiline .bp3-editable-text-content{
    overflow:auto;
    white-space:pre-wrap;
    word-wrap:break-word; }
.bp3-control-group{
  -webkit-transform:translateZ(0);
          transform:translateZ(0);
  display:-webkit-box;
  display:-ms-flexbox;
  display:flex;
  -webkit-box-orient:horizontal;
  -webkit-box-direction:normal;
      -ms-flex-direction:row;
          flex-direction:row;
  -webkit-box-align:stretch;
      -ms-flex-align:stretch;
          align-items:stretch; }
  .bp3-control-group > *{
    -webkit-box-flex:0;
        -ms-flex-positive:0;
            flex-grow:0;
    -ms-flex-negative:0;
        flex-shrink:0; }
  .bp3-control-group > .bp3-fill{
    -webkit-box-flex:1;
        -ms-flex-positive:1;
            flex-grow:1;
    -ms-flex-negative:1;
        flex-shrink:1; }
  .bp3-control-group .bp3-button,
  .bp3-control-group .bp3-html-select,
  .bp3-control-group .bp3-input,
  .bp3-control-group .bp3-select{
    position:relative; }
  .bp3-control-group .bp3-input{
    z-index:2;
    border-radius:inherit; }
    .bp3-control-group .bp3-input:focus{
      z-index:14;
      border-radius:3px; }
    .bp3-control-group .bp3-input[class*="bp3-intent"]{
      z-index:13; }
      .bp3-control-group .bp3-input[class*="bp3-intent"]:focus{
        z-index:15; }
    .bp3-control-group .bp3-input[readonly], .bp3-control-group .bp3-input:disabled, .bp3-control-group .bp3-input.bp3-disabled{
      z-index:1; }
  .bp3-control-group .bp3-input-group[class*="bp3-intent"] .bp3-input{
    z-index:13; }
    .bp3-control-group .bp3-input-group[class*="bp3-intent"] .bp3-input:focus{
      z-index:15; }
  .bp3-control-group .bp3-button,
  .bp3-control-group .bp3-html-select select,
  .bp3-control-group .bp3-select select{
    -webkit-transform:translateZ(0);
            transform:translateZ(0);
    z-index:4;
    border-radius:inherit; }
    .bp3-control-group .bp3-button:focus,
    .bp3-control-group .bp3-html-select select:focus,
    .bp3-control-group .bp3-select select:focus{
      z-index:5; }
    .bp3-control-group .bp3-button:hover,
    .bp3-control-group .bp3-html-select select:hover,
    .bp3-control-group .bp3-select select:hover{
      z-index:6; }
    .bp3-control-group .bp3-button:active,
    .bp3-control-group .bp3-html-select select:active,
    .bp3-control-group .bp3-select select:active{
      z-index:7; }
    .bp3-control-group .bp3-button[readonly], .bp3-control-group .bp3-button:disabled, .bp3-control-group .bp3-button.bp3-disabled,
    .bp3-control-group .bp3-html-select select[readonly],
    .bp3-control-group .bp3-html-select select:disabled,
    .bp3-control-group .bp3-html-select select.bp3-disabled,
    .bp3-control-group .bp3-select select[readonly],
    .bp3-control-group .bp3-select select:disabled,
    .bp3-control-group .bp3-select select.bp3-disabled{
      z-index:3; }
    .bp3-control-group .bp3-button[class*="bp3-intent"],
    .bp3-control-group .bp3-html-select select[class*="bp3-intent"],
    .bp3-control-group .bp3-select select[class*="bp3-intent"]{
      z-index:9; }
      .bp3-control-group .bp3-button[class*="bp3-intent"]:focus,
      .bp3-control-group .bp3-html-select select[class*="bp3-intent"]:focus,
      .bp3-control-group .bp3-select select[class*="bp3-intent"]:focus{
        z-index:10; }
      .bp3-control-group .bp3-button[class*="bp3-intent"]:hover,
      .bp3-control-group .bp3-html-select select[class*="bp3-intent"]:hover,
      .bp3-control-group .bp3-select select[class*="bp3-intent"]:hover{
        z-index:11; }
      .bp3-control-group .bp3-button[class*="bp3-intent"]:active,
      .bp3-control-group .bp3-html-select select[class*="bp3-intent"]:active,
      .bp3-control-group .bp3-select select[class*="bp3-intent"]:active{
        z-index:12; }
      .bp3-control-group .bp3-button[class*="bp3-intent"][readonly], .bp3-control-group .bp3-button[class*="bp3-intent"]:disabled, .bp3-control-group .bp3-button[class*="bp3-intent"].bp3-disabled,
      .bp3-control-group .bp3-html-select select[class*="bp3-intent"][readonly],
      .bp3-control-group .bp3-html-select select[class*="bp3-intent"]:disabled,
      .bp3-control-group .bp3-html-select select[class*="bp3-intent"].bp3-disabled,
      .bp3-control-group .bp3-select select[class*="bp3-intent"][readonly],
      .bp3-control-group .bp3-select select[class*="bp3-intent"]:disabled,
      .bp3-control-group .bp3-select select[class*="bp3-intent"].bp3-disabled{
        z-index:8; }
  .bp3-control-group .bp3-input-group > .bp3-icon,
  .bp3-control-group .bp3-input-group > .bp3-button,
  .bp3-control-group .bp3-input-group > .bp3-input-action{
    z-index:16; }
  .bp3-control-group .bp3-select::after,
  .bp3-control-group .bp3-html-select::after,
  .bp3-control-group .bp3-select > .bp3-icon,
  .bp3-control-group .bp3-html-select > .bp3-icon{
    z-index:17; }
  .bp3-control-group:not(.bp3-vertical) > *{
    margin-right:-1px; }
  .bp3-dark .bp3-control-group:not(.bp3-vertical) > *{
    margin-right:0; }
  .bp3-dark .bp3-control-group:not(.bp3-vertical) > .bp3-button + .bp3-button{
    margin-left:1px; }
  .bp3-control-group .bp3-popover-wrapper,
  .bp3-control-group .bp3-popover-target{
    border-radius:inherit; }
  .bp3-control-group > :first-child{
    border-radius:3px 0 0 3px; }
  .bp3-control-group > :last-child{
    margin-right:0;
    border-radius:0 3px 3px 0; }
  .bp3-control-group > :only-child{
    margin-right:0;
    border-radius:3px; }
  .bp3-control-group .bp3-input-group .bp3-button{
    border-radius:3px; }
  .bp3-control-group > .bp3-fill{
    -webkit-box-flex:1;
        -ms-flex:1 1 auto;
            flex:1 1 auto; }
  .bp3-control-group.bp3-fill > *:not(.bp3-fixed){
    -webkit-box-flex:1;
        -ms-flex:1 1 auto;
            flex:1 1 auto; }
  .bp3-control-group.bp3-vertical{
    -webkit-box-orient:vertical;
    -webkit-box-direction:normal;
        -ms-flex-direction:column;
            flex-direction:column; }
    .bp3-control-group.bp3-vertical > *{
      margin-top:-1px; }
    .bp3-control-group.bp3-vertical > :first-child{
      margin-top:0;
      border-radius:3px 3px 0 0; }
    .bp3-control-group.bp3-vertical > :last-child{
      border-radius:0 0 3px 3px; }
.bp3-control{
  display:block;
  position:relative;
  margin-bottom:10px;
  cursor:pointer;
  text-transform:none; }
  .bp3-control input:checked ~ .bp3-control-indicator{
    -webkit-box-shadow:inset 0 0 0 1px rgba(16, 22, 26, 0.4), inset 0 -1px 0 rgba(16, 22, 26, 0.2);
            box-shadow:inset 0 0 0 1px rgba(16, 22, 26, 0.4), inset 0 -1px 0 rgba(16, 22, 26, 0.2);
    background-color:#137cbd;
    background-image:-webkit-gradient(linear, left top, left bottom, from(rgba(255, 255, 255, 0.1)), to(rgba(255, 255, 255, 0)));
    background-image:linear-gradient(to bottom, rgba(255, 255, 255, 0.1), rgba(255, 255, 255, 0));
    color:#ffffff; }
  .bp3-control:hover input:checked ~ .bp3-control-indicator{
    -webkit-box-shadow:inset 0 0 0 1px rgba(16, 22, 26, 0.4), inset 0 -1px 0 rgba(16, 22, 26, 0.2);
            box-shadow:inset 0 0 0 1px rgba(16, 22, 26, 0.4), inset 0 -1px 0 rgba(16, 22, 26, 0.2);
    background-color:#106ba3; }
  .bp3-control input:not(:disabled):active:checked ~ .bp3-control-indicator{
    -webkit-box-shadow:inset 0 0 0 1px rgba(16, 22, 26, 0.4), inset 0 1px 2px rgba(16, 22, 26, 0.2);
            box-shadow:inset 0 0 0 1px rgba(16, 22, 26, 0.4), inset 0 1px 2px rgba(16, 22, 26, 0.2);
    background:#0e5a8a; }
  .bp3-control input:disabled:checked ~ .bp3-control-indicator{
    -webkit-box-shadow:none;
            box-shadow:none;
    background:rgba(19, 124, 189, 0.5); }
  .bp3-dark .bp3-control input:checked ~ .bp3-control-indicator{
    -webkit-box-shadow:0 0 0 1px rgba(16, 22, 26, 0.4);
            box-shadow:0 0 0 1px rgba(16, 22, 26, 0.4); }
  .bp3-dark .bp3-control:hover input:checked ~ .bp3-control-indicator{
    -webkit-box-shadow:0 0 0 1px rgba(16, 22, 26, 0.4);
            box-shadow:0 0 0 1px rgba(16, 22, 26, 0.4);
    background-color:#106ba3; }
  .bp3-dark .bp3-control input:not(:disabled):active:checked ~ .bp3-control-indicator{
    -webkit-box-shadow:0 0 0 1px rgba(16, 22, 26, 0.4), inset 0 1px 2px rgba(16, 22, 26, 0.2);
            box-shadow:0 0 0 1px rgba(16, 22, 26, 0.4), inset 0 1px 2px rgba(16, 22, 26, 0.2);
    background-color:#0e5a8a; }
  .bp3-dark .bp3-control input:disabled:checked ~ .bp3-control-indicator{
    -webkit-box-shadow:none;
            box-shadow:none;
    background:rgba(14, 90, 138, 0.5); }
  .bp3-control:not(.bp3-align-right){
    padding-left:26px; }
    .bp3-control:not(.bp3-align-right) .bp3-control-indicator{
      margin-left:-26px; }
  .bp3-control.bp3-align-right{
    padding-right:26px; }
    .bp3-control.bp3-align-right .bp3-control-indicator{
      margin-right:-26px; }
  .bp3-control.bp3-disabled{
    cursor:not-allowed;
    color:rgba(92, 112, 128, 0.6); }
  .bp3-control.bp3-inline{
    display:inline-block;
    margin-right:20px; }
  .bp3-control input{
    position:absolute;
    top:0;
    left:0;
    opacity:0;
    z-index:-1; }
  .bp3-control .bp3-control-indicator{
    display:inline-block;
    position:relative;
    margin-top:-3px;
    margin-right:10px;
    border:none;
    -webkit-box-shadow:inset 0 0 0 1px rgba(16, 22, 26, 0.2), inset 0 -1px 0 rgba(16, 22, 26, 0.1);
            box-shadow:inset 0 0 0 1px rgba(16, 22, 26, 0.2), inset 0 -1px 0 rgba(16, 22, 26, 0.1);
    background-clip:padding-box;
    background-color:#f5f8fa;
    background-image:-webkit-gradient(linear, left top, left bottom, from(rgba(255, 255, 255, 0.8)), to(rgba(255, 255, 255, 0)));
    background-image:linear-gradient(to bottom, rgba(255, 255, 255, 0.8), rgba(255, 255, 255, 0));
    cursor:pointer;
    width:1em;
    height:1em;
    vertical-align:middle;
    font-size:16px;
    -webkit-user-select:none;
       -moz-user-select:none;
        -ms-user-select:none;
            user-select:none; }
    .bp3-control .bp3-control-indicator::before{
      display:block;
      width:1em;
      height:1em;
      content:""; }
  .bp3-control:hover .bp3-control-indicator{
    background-color:#ebf1f5; }
  .bp3-control input:not(:disabled):active ~ .bp3-control-indicator{
    -webkit-box-shadow:inset 0 0 0 1px rgba(16, 22, 26, 0.2), inset 0 1px 2px rgba(16, 22, 26, 0.2);
            box-shadow:inset 0 0 0 1px rgba(16, 22, 26, 0.2), inset 0 1px 2px rgba(16, 22, 26, 0.2);
    background:#d8e1e8; }
  .bp3-control input:disabled ~ .bp3-control-indicator{
    -webkit-box-shadow:none;
            box-shadow:none;
    background:rgba(206, 217, 224, 0.5);
    cursor:not-allowed; }
  .bp3-control input:focus ~ .bp3-control-indicator{
    outline:rgba(19, 124, 189, 0.6) auto 2px;
    outline-offset:2px;
    -moz-outline-radius:6px; }
  .bp3-control.bp3-align-right .bp3-control-indicator{
    float:right;
    margin-top:1px;
    margin-left:10px; }
  .bp3-control.bp3-large{
    font-size:16px; }
    .bp3-control.bp3-large:not(.bp3-align-right){
      padding-left:30px; }
      .bp3-control.bp3-large:not(.bp3-align-right) .bp3-control-indicator{
        margin-left:-30px; }
    .bp3-control.bp3-large.bp3-align-right{
      padding-right:30px; }
      .bp3-control.bp3-large.bp3-align-right .bp3-control-indicator{
        margin-right:-30px; }
    .bp3-control.bp3-large .bp3-control-indicator{
      font-size:20px; }
    .bp3-control.bp3-large.bp3-align-right .bp3-control-indicator{
      margin-top:0; }
  .bp3-control.bp3-checkbox input:indeterminate ~ .bp3-control-indicator{
    -webkit-box-shadow:inset 0 0 0 1px rgba(16, 22, 26, 0.4), inset 0 -1px 0 rgba(16, 22, 26, 0.2);
            box-shadow:inset 0 0 0 1px rgba(16, 22, 26, 0.4), inset 0 -1px 0 rgba(16, 22, 26, 0.2);
    background-color:#137cbd;
    background-image:-webkit-gradient(linear, left top, left bottom, from(rgba(255, 255, 255, 0.1)), to(rgba(255, 255, 255, 0)));
    background-image:linear-gradient(to bottom, rgba(255, 255, 255, 0.1), rgba(255, 255, 255, 0));
    color:#ffffff; }
  .bp3-control.bp3-checkbox:hover input:indeterminate ~ .bp3-control-indicator{
    -webkit-box-shadow:inset 0 0 0 1px rgba(16, 22, 26, 0.4), inset 0 -1px 0 rgba(16, 22, 26, 0.2);
            box-shadow:inset 0 0 0 1px rgba(16, 22, 26, 0.4), inset 0 -1px 0 rgba(16, 22, 26, 0.2);
    background-color:#106ba3; }
  .bp3-control.bp3-checkbox input:not(:disabled):active:indeterminate ~ .bp3-control-indicator{
    -webkit-box-shadow:inset 0 0 0 1px rgba(16, 22, 26, 0.4), inset 0 1px 2px rgba(16, 22, 26, 0.2);
            box-shadow:inset 0 0 0 1px rgba(16, 22, 26, 0.4), inset 0 1px 2px rgba(16, 22, 26, 0.2);
    background:#0e5a8a; }
  .bp3-control.bp3-checkbox input:disabled:indeterminate ~ .bp3-control-indicator{
    -webkit-box-shadow:none;
            box-shadow:none;
    background:rgba(19, 124, 189, 0.5); }
  .bp3-dark .bp3-control.bp3-checkbox input:indeterminate ~ .bp3-control-indicator{
    -webkit-box-shadow:0 0 0 1px rgba(16, 22, 26, 0.4);
            box-shadow:0 0 0 1px rgba(16, 22, 26, 0.4); }
  .bp3-dark .bp3-control.bp3-checkbox:hover input:indeterminate ~ .bp3-control-indicator{
    -webkit-box-shadow:0 0 0 1px rgba(16, 22, 26, 0.4);
            box-shadow:0 0 0 1px rgba(16, 22, 26, 0.4);
    background-color:#106ba3; }
  .bp3-dark .bp3-control.bp3-checkbox input:not(:disabled):active:indeterminate ~ .bp3-control-indicator{
    -webkit-box-shadow:0 0 0 1px rgba(16, 22, 26, 0.4), inset 0 1px 2px rgba(16, 22, 26, 0.2);
            box-shadow:0 0 0 1px rgba(16, 22, 26, 0.4), inset 0 1px 2px rgba(16, 22, 26, 0.2);
    background-color:#0e5a8a; }
  .bp3-dark .bp3-control.bp3-checkbox input:disabled:indeterminate ~ .bp3-control-indicator{
    -webkit-box-shadow:none;
            box-shadow:none;
    background:rgba(14, 90, 138, 0.5); }
  .bp3-control.bp3-checkbox .bp3-control-indicator{
    border-radius:3px; }
  .bp3-control.bp3-checkbox input:checked ~ .bp3-control-indicator::before{
    background-image:url("data:image/svg+xml,%3csvg xmlns='http://www.w3.org/2000/svg' viewBox='0 0 16 16'%3e%3cpath fill-rule='evenodd' clip-rule='evenodd' d='M12 5c-.28 0-.53.11-.71.29L7 9.59l-2.29-2.3a1.003 1.003 0 0 0-1.42 1.42l3 3c.18.18.43.29.71.29s.53-.11.71-.29l5-5A1.003 1.003 0 0 0 12 5z' fill='white'/%3e%3c/svg%3e"); }
  .bp3-control.bp3-checkbox input:indeterminate ~ .bp3-control-indicator::before{
    background-image:url("data:image/svg+xml,%3csvg xmlns='http://www.w3.org/2000/svg' viewBox='0 0 16 16'%3e%3cpath fill-rule='evenodd' clip-rule='evenodd' d='M11 7H5c-.55 0-1 .45-1 1s.45 1 1 1h6c.55 0 1-.45 1-1s-.45-1-1-1z' fill='white'/%3e%3c/svg%3e"); }
  .bp3-control.bp3-radio .bp3-control-indicator{
    border-radius:50%; }
  .bp3-control.bp3-radio input:checked ~ .bp3-control-indicator::before{
    background-image:radial-gradient(#ffffff, #ffffff 28%, transparent 32%); }
  .bp3-control.bp3-radio input:checked:disabled ~ .bp3-control-indicator::before{
    opacity:0.5; }
  .bp3-control.bp3-radio input:focus ~ .bp3-control-indicator{
    -moz-outline-radius:16px; }
  .bp3-control.bp3-switch input ~ .bp3-control-indicator{
    background:rgba(167, 182, 194, 0.5); }
  .bp3-control.bp3-switch:hover input ~ .bp3-control-indicator{
    background:rgba(115, 134, 148, 0.5); }
  .bp3-control.bp3-switch input:not(:disabled):active ~ .bp3-control-indicator{
    background:rgba(92, 112, 128, 0.5); }
  .bp3-control.bp3-switch input:disabled ~ .bp3-control-indicator{
    background:rgba(206, 217, 224, 0.5); }
    .bp3-control.bp3-switch input:disabled ~ .bp3-control-indicator::before{
      background:rgba(255, 255, 255, 0.8); }
  .bp3-control.bp3-switch input:checked ~ .bp3-control-indicator{
    background:#137cbd; }
  .bp3-control.bp3-switch:hover input:checked ~ .bp3-control-indicator{
    background:#106ba3; }
  .bp3-control.bp3-switch input:checked:not(:disabled):active ~ .bp3-control-indicator{
    background:#0e5a8a; }
  .bp3-control.bp3-switch input:checked:disabled ~ .bp3-control-indicator{
    background:rgba(19, 124, 189, 0.5); }
    .bp3-control.bp3-switch input:checked:disabled ~ .bp3-control-indicator::before{
      background:rgba(255, 255, 255, 0.8); }
  .bp3-control.bp3-switch:not(.bp3-align-right){
    padding-left:38px; }
    .bp3-control.bp3-switch:not(.bp3-align-right) .bp3-control-indicator{
      margin-left:-38px; }
  .bp3-control.bp3-switch.bp3-align-right{
    padding-right:38px; }
    .bp3-control.bp3-switch.bp3-align-right .bp3-control-indicator{
      margin-right:-38px; }
  .bp3-control.bp3-switch .bp3-control-indicator{
    border:none;
    border-radius:1.75em;
    -webkit-box-shadow:none !important;
            box-shadow:none !important;
    width:auto;
    min-width:1.75em;
    -webkit-transition:background-color 100ms cubic-bezier(0.4, 1, 0.75, 0.9);
    transition:background-color 100ms cubic-bezier(0.4, 1, 0.75, 0.9); }
    .bp3-control.bp3-switch .bp3-control-indicator::before{
      position:absolute;
      left:0;
      margin:2px;
      border-radius:50%;
      -webkit-box-shadow:0 0 0 1px rgba(16, 22, 26, 0.2), 0 1px 1px rgba(16, 22, 26, 0.2);
              box-shadow:0 0 0 1px rgba(16, 22, 26, 0.2), 0 1px 1px rgba(16, 22, 26, 0.2);
      background:#ffffff;
      width:calc(1em - 4px);
      height:calc(1em - 4px);
      -webkit-transition:left 100ms cubic-bezier(0.4, 1, 0.75, 0.9);
      transition:left 100ms cubic-bezier(0.4, 1, 0.75, 0.9); }
  .bp3-control.bp3-switch input:checked ~ .bp3-control-indicator::before{
    left:calc(100% - 1em); }
  .bp3-control.bp3-switch.bp3-large:not(.bp3-align-right){
    padding-left:45px; }
    .bp3-control.bp3-switch.bp3-large:not(.bp3-align-right) .bp3-control-indicator{
      margin-left:-45px; }
  .bp3-control.bp3-switch.bp3-large.bp3-align-right{
    padding-right:45px; }
    .bp3-control.bp3-switch.bp3-large.bp3-align-right .bp3-control-indicator{
      margin-right:-45px; }
  .bp3-dark .bp3-control.bp3-switch input ~ .bp3-control-indicator{
    background:rgba(16, 22, 26, 0.5); }
  .bp3-dark .bp3-control.bp3-switch:hover input ~ .bp3-control-indicator{
    background:rgba(16, 22, 26, 0.7); }
  .bp3-dark .bp3-control.bp3-switch input:not(:disabled):active ~ .bp3-control-indicator{
    background:rgba(16, 22, 26, 0.9); }
  .bp3-dark .bp3-control.bp3-switch input:disabled ~ .bp3-control-indicator{
    background:rgba(57, 75, 89, 0.5); }
    .bp3-dark .bp3-control.bp3-switch input:disabled ~ .bp3-control-indicator::before{
      background:rgba(16, 22, 26, 0.4); }
  .bp3-dark .bp3-control.bp3-switch input:checked ~ .bp3-control-indicator{
    background:#137cbd; }
  .bp3-dark .bp3-control.bp3-switch:hover input:checked ~ .bp3-control-indicator{
    background:#106ba3; }
  .bp3-dark .bp3-control.bp3-switch input:checked:not(:disabled):active ~ .bp3-control-indicator{
    background:#0e5a8a; }
  .bp3-dark .bp3-control.bp3-switch input:checked:disabled ~ .bp3-control-indicator{
    background:rgba(14, 90, 138, 0.5); }
    .bp3-dark .bp3-control.bp3-switch input:checked:disabled ~ .bp3-control-indicator::before{
      background:rgba(16, 22, 26, 0.4); }
  .bp3-dark .bp3-control.bp3-switch .bp3-control-indicator::before{
    -webkit-box-shadow:0 0 0 1px rgba(16, 22, 26, 0.4);
            box-shadow:0 0 0 1px rgba(16, 22, 26, 0.4);
    background:#394b59; }
  .bp3-dark .bp3-control.bp3-switch input:checked ~ .bp3-control-indicator::before{
    -webkit-box-shadow:inset 0 0 0 1px rgba(16, 22, 26, 0.4);
            box-shadow:inset 0 0 0 1px rgba(16, 22, 26, 0.4); }
  .bp3-control.bp3-switch .bp3-switch-inner-text{
    text-align:center;
    font-size:0.7em; }
  .bp3-control.bp3-switch .bp3-control-indicator-child:first-child{
    visibility:hidden;
    margin-right:1.2em;
    margin-left:0.5em;
    line-height:0; }
  .bp3-control.bp3-switch .bp3-control-indicator-child:last-child{
    visibility:visible;
    margin-right:0.5em;
    margin-left:1.2em;
    line-height:1em; }
  .bp3-control.bp3-switch input:checked ~ .bp3-control-indicator .bp3-control-indicator-child:first-child{
    visibility:visible;
    line-height:1em; }
  .bp3-control.bp3-switch input:checked ~ .bp3-control-indicator .bp3-control-indicator-child:last-child{
    visibility:hidden;
    line-height:0; }
  .bp3-dark .bp3-control{
    color:#f5f8fa; }
    .bp3-dark .bp3-control.bp3-disabled{
      color:rgba(167, 182, 194, 0.6); }
    .bp3-dark .bp3-control .bp3-control-indicator{
      -webkit-box-shadow:0 0 0 1px rgba(16, 22, 26, 0.4);
              box-shadow:0 0 0 1px rgba(16, 22, 26, 0.4);
      background-color:#394b59;
      background-image:-webkit-gradient(linear, left top, left bottom, from(rgba(255, 255, 255, 0.05)), to(rgba(255, 255, 255, 0)));
      background-image:linear-gradient(to bottom, rgba(255, 255, 255, 0.05), rgba(255, 255, 255, 0)); }
    .bp3-dark .bp3-control:hover .bp3-control-indicator{
      background-color:#30404d; }
    .bp3-dark .bp3-control input:not(:disabled):active ~ .bp3-control-indicator{
      -webkit-box-shadow:0 0 0 1px rgba(16, 22, 26, 0.6), inset 0 1px 2px rgba(16, 22, 26, 0.2);
              box-shadow:0 0 0 1px rgba(16, 22, 26, 0.6), inset 0 1px 2px rgba(16, 22, 26, 0.2);
      background:#202b33; }
    .bp3-dark .bp3-control input:disabled ~ .bp3-control-indicator{
      -webkit-box-shadow:none;
              box-shadow:none;
      background:rgba(57, 75, 89, 0.5);
      cursor:not-allowed; }
    .bp3-dark .bp3-control.bp3-checkbox input:disabled:checked ~ .bp3-control-indicator, .bp3-dark .bp3-control.bp3-checkbox input:disabled:indeterminate ~ .bp3-control-indicator{
      color:rgba(167, 182, 194, 0.6); }
.bp3-file-input{
  display:inline-block;
  position:relative;
  cursor:pointer;
  height:30px; }
  .bp3-file-input input{
    opacity:0;
    margin:0;
    min-width:200px; }
    .bp3-file-input input:disabled + .bp3-file-upload-input,
    .bp3-file-input input.bp3-disabled + .bp3-file-upload-input{
      -webkit-box-shadow:none;
              box-shadow:none;
      background:rgba(206, 217, 224, 0.5);
      cursor:not-allowed;
      color:rgba(92, 112, 128, 0.6);
      resize:none; }
      .bp3-file-input input:disabled + .bp3-file-upload-input::after,
      .bp3-file-input input.bp3-disabled + .bp3-file-upload-input::after{
        outline:none;
        -webkit-box-shadow:none;
                box-shadow:none;
        background-color:rgba(206, 217, 224, 0.5);
        background-image:none;
        cursor:not-allowed;
        color:rgba(92, 112, 128, 0.6); }
        .bp3-file-input input:disabled + .bp3-file-upload-input::after.bp3-active, .bp3-file-input input:disabled + .bp3-file-upload-input::after.bp3-active:hover,
        .bp3-file-input input.bp3-disabled + .bp3-file-upload-input::after.bp3-active,
        .bp3-file-input input.bp3-disabled + .bp3-file-upload-input::after.bp3-active:hover{
          background:rgba(206, 217, 224, 0.7); }
      .bp3-dark .bp3-file-input input:disabled + .bp3-file-upload-input, .bp3-dark
      .bp3-file-input input.bp3-disabled + .bp3-file-upload-input{
        -webkit-box-shadow:none;
                box-shadow:none;
        background:rgba(57, 75, 89, 0.5);
        color:rgba(167, 182, 194, 0.6); }
        .bp3-dark .bp3-file-input input:disabled + .bp3-file-upload-input::after, .bp3-dark
        .bp3-file-input input.bp3-disabled + .bp3-file-upload-input::after{
          -webkit-box-shadow:none;
                  box-shadow:none;
          background-color:rgba(57, 75, 89, 0.5);
          background-image:none;
          color:rgba(167, 182, 194, 0.6); }
          .bp3-dark .bp3-file-input input:disabled + .bp3-file-upload-input::after.bp3-active, .bp3-dark
          .bp3-file-input input.bp3-disabled + .bp3-file-upload-input::after.bp3-active{
            background:rgba(57, 75, 89, 0.7); }
  .bp3-file-input.bp3-file-input-has-selection .bp3-file-upload-input{
    color:#182026; }
  .bp3-dark .bp3-file-input.bp3-file-input-has-selection .bp3-file-upload-input{
    color:#f5f8fa; }
  .bp3-file-input.bp3-fill{
    width:100%; }
  .bp3-file-input.bp3-large,
  .bp3-large .bp3-file-input{
    height:40px; }
  .bp3-file-input .bp3-file-upload-input-custom-text::after{
    content:attr(bp3-button-text); }

.bp3-file-upload-input{
  outline:none;
  border:none;
  border-radius:3px;
  -webkit-box-shadow:0 0 0 0 rgba(19, 124, 189, 0), 0 0 0 0 rgba(19, 124, 189, 0), inset 0 0 0 1px rgba(16, 22, 26, 0.15), inset 0 1px 1px rgba(16, 22, 26, 0.2);
          box-shadow:0 0 0 0 rgba(19, 124, 189, 0), 0 0 0 0 rgba(19, 124, 189, 0), inset 0 0 0 1px rgba(16, 22, 26, 0.15), inset 0 1px 1px rgba(16, 22, 26, 0.2);
  background:#ffffff;
  height:30px;
  padding:0 10px;
  vertical-align:middle;
  line-height:30px;
  color:#182026;
  font-size:14px;
  font-weight:400;
  -webkit-transition:-webkit-box-shadow 100ms cubic-bezier(0.4, 1, 0.75, 0.9);
  transition:-webkit-box-shadow 100ms cubic-bezier(0.4, 1, 0.75, 0.9);
  transition:box-shadow 100ms cubic-bezier(0.4, 1, 0.75, 0.9);
  transition:box-shadow 100ms cubic-bezier(0.4, 1, 0.75, 0.9), -webkit-box-shadow 100ms cubic-bezier(0.4, 1, 0.75, 0.9);
  -webkit-appearance:none;
     -moz-appearance:none;
          appearance:none;
  overflow:hidden;
  text-overflow:ellipsis;
  white-space:nowrap;
  word-wrap:normal;
  position:absolute;
  top:0;
  right:0;
  left:0;
  padding-right:80px;
  color:rgba(92, 112, 128, 0.6);
  -webkit-user-select:none;
     -moz-user-select:none;
      -ms-user-select:none;
          user-select:none; }
  .bp3-file-upload-input::-webkit-input-placeholder{
    opacity:1;
    color:rgba(92, 112, 128, 0.6); }
  .bp3-file-upload-input::-moz-placeholder{
    opacity:1;
    color:rgba(92, 112, 128, 0.6); }
  .bp3-file-upload-input:-ms-input-placeholder{
    opacity:1;
    color:rgba(92, 112, 128, 0.6); }
  .bp3-file-upload-input::-ms-input-placeholder{
    opacity:1;
    color:rgba(92, 112, 128, 0.6); }
  .bp3-file-upload-input::placeholder{
    opacity:1;
    color:rgba(92, 112, 128, 0.6); }
  .bp3-file-upload-input:focus, .bp3-file-upload-input.bp3-active{
    -webkit-box-shadow:0 0 0 1px #137cbd, 0 0 0 3px rgba(19, 124, 189, 0.3), inset 0 1px 1px rgba(16, 22, 26, 0.2);
            box-shadow:0 0 0 1px #137cbd, 0 0 0 3px rgba(19, 124, 189, 0.3), inset 0 1px 1px rgba(16, 22, 26, 0.2); }
  .bp3-file-upload-input[type="search"], .bp3-file-upload-input.bp3-round{
    border-radius:30px;
    -webkit-box-sizing:border-box;
            box-sizing:border-box;
    padding-left:10px; }
  .bp3-file-upload-input[readonly]{
    -webkit-box-shadow:inset 0 0 0 1px rgba(16, 22, 26, 0.15);
            box-shadow:inset 0 0 0 1px rgba(16, 22, 26, 0.15); }
  .bp3-file-upload-input:disabled, .bp3-file-upload-input.bp3-disabled{
    -webkit-box-shadow:none;
            box-shadow:none;
    background:rgba(206, 217, 224, 0.5);
    cursor:not-allowed;
    color:rgba(92, 112, 128, 0.6);
    resize:none; }
  .bp3-file-upload-input::after{
    -webkit-box-shadow:inset 0 0 0 1px rgba(16, 22, 26, 0.2), inset 0 -1px 0 rgba(16, 22, 26, 0.1);
            box-shadow:inset 0 0 0 1px rgba(16, 22, 26, 0.2), inset 0 -1px 0 rgba(16, 22, 26, 0.1);
    background-color:#f5f8fa;
    background-image:-webkit-gradient(linear, left top, left bottom, from(rgba(255, 255, 255, 0.8)), to(rgba(255, 255, 255, 0)));
    background-image:linear-gradient(to bottom, rgba(255, 255, 255, 0.8), rgba(255, 255, 255, 0));
    color:#182026;
    min-width:24px;
    min-height:24px;
    overflow:hidden;
    text-overflow:ellipsis;
    white-space:nowrap;
    word-wrap:normal;
    position:absolute;
    top:0;
    right:0;
    margin:3px;
    border-radius:3px;
    width:70px;
    text-align:center;
    line-height:24px;
    content:"Browse"; }
    .bp3-file-upload-input::after:hover{
      -webkit-box-shadow:inset 0 0 0 1px rgba(16, 22, 26, 0.2), inset 0 -1px 0 rgba(16, 22, 26, 0.1);
              box-shadow:inset 0 0 0 1px rgba(16, 22, 26, 0.2), inset 0 -1px 0 rgba(16, 22, 26, 0.1);
      background-clip:padding-box;
      background-color:#ebf1f5; }
    .bp3-file-upload-input::after:active, .bp3-file-upload-input::after.bp3-active{
      -webkit-box-shadow:inset 0 0 0 1px rgba(16, 22, 26, 0.2), inset 0 1px 2px rgba(16, 22, 26, 0.2);
              box-shadow:inset 0 0 0 1px rgba(16, 22, 26, 0.2), inset 0 1px 2px rgba(16, 22, 26, 0.2);
      background-color:#d8e1e8;
      background-image:none; }
    .bp3-file-upload-input::after:disabled, .bp3-file-upload-input::after.bp3-disabled{
      outline:none;
      -webkit-box-shadow:none;
              box-shadow:none;
      background-color:rgba(206, 217, 224, 0.5);
      background-image:none;
      cursor:not-allowed;
      color:rgba(92, 112, 128, 0.6); }
      .bp3-file-upload-input::after:disabled.bp3-active, .bp3-file-upload-input::after:disabled.bp3-active:hover, .bp3-file-upload-input::after.bp3-disabled.bp3-active, .bp3-file-upload-input::after.bp3-disabled.bp3-active:hover{
        background:rgba(206, 217, 224, 0.7); }
  .bp3-file-upload-input:hover::after{
    -webkit-box-shadow:inset 0 0 0 1px rgba(16, 22, 26, 0.2), inset 0 -1px 0 rgba(16, 22, 26, 0.1);
            box-shadow:inset 0 0 0 1px rgba(16, 22, 26, 0.2), inset 0 -1px 0 rgba(16, 22, 26, 0.1);
    background-clip:padding-box;
    background-color:#ebf1f5; }
  .bp3-file-upload-input:active::after{
    -webkit-box-shadow:inset 0 0 0 1px rgba(16, 22, 26, 0.2), inset 0 1px 2px rgba(16, 22, 26, 0.2);
            box-shadow:inset 0 0 0 1px rgba(16, 22, 26, 0.2), inset 0 1px 2px rgba(16, 22, 26, 0.2);
    background-color:#d8e1e8;
    background-image:none; }
  .bp3-large .bp3-file-upload-input{
    height:40px;
    line-height:40px;
    font-size:16px;
    padding-right:95px; }
    .bp3-large .bp3-file-upload-input[type="search"], .bp3-large .bp3-file-upload-input.bp3-round{
      padding:0 15px; }
    .bp3-large .bp3-file-upload-input::after{
      min-width:30px;
      min-height:30px;
      margin:5px;
      width:85px;
      line-height:30px; }
  .bp3-dark .bp3-file-upload-input{
    -webkit-box-shadow:0 0 0 0 rgba(19, 124, 189, 0), 0 0 0 0 rgba(19, 124, 189, 0), 0 0 0 0 rgba(19, 124, 189, 0), inset 0 0 0 1px rgba(16, 22, 26, 0.3), inset 0 1px 1px rgba(16, 22, 26, 0.4);
            box-shadow:0 0 0 0 rgba(19, 124, 189, 0), 0 0 0 0 rgba(19, 124, 189, 0), 0 0 0 0 rgba(19, 124, 189, 0), inset 0 0 0 1px rgba(16, 22, 26, 0.3), inset 0 1px 1px rgba(16, 22, 26, 0.4);
    background:rgba(16, 22, 26, 0.3);
    color:#f5f8fa;
    color:rgba(167, 182, 194, 0.6); }
    .bp3-dark .bp3-file-upload-input::-webkit-input-placeholder{
      color:rgba(167, 182, 194, 0.6); }
    .bp3-dark .bp3-file-upload-input::-moz-placeholder{
      color:rgba(167, 182, 194, 0.6); }
    .bp3-dark .bp3-file-upload-input:-ms-input-placeholder{
      color:rgba(167, 182, 194, 0.6); }
    .bp3-dark .bp3-file-upload-input::-ms-input-placeholder{
      color:rgba(167, 182, 194, 0.6); }
    .bp3-dark .bp3-file-upload-input::placeholder{
      color:rgba(167, 182, 194, 0.6); }
    .bp3-dark .bp3-file-upload-input:focus{
      -webkit-box-shadow:0 0 0 1px #137cbd, 0 0 0 1px #137cbd, 0 0 0 3px rgba(19, 124, 189, 0.3), inset 0 0 0 1px rgba(16, 22, 26, 0.3), inset 0 1px 1px rgba(16, 22, 26, 0.4);
              box-shadow:0 0 0 1px #137cbd, 0 0 0 1px #137cbd, 0 0 0 3px rgba(19, 124, 189, 0.3), inset 0 0 0 1px rgba(16, 22, 26, 0.3), inset 0 1px 1px rgba(16, 22, 26, 0.4); }
    .bp3-dark .bp3-file-upload-input[readonly]{
      -webkit-box-shadow:inset 0 0 0 1px rgba(16, 22, 26, 0.4);
              box-shadow:inset 0 0 0 1px rgba(16, 22, 26, 0.4); }
    .bp3-dark .bp3-file-upload-input:disabled, .bp3-dark .bp3-file-upload-input.bp3-disabled{
      -webkit-box-shadow:none;
              box-shadow:none;
      background:rgba(57, 75, 89, 0.5);
      color:rgba(167, 182, 194, 0.6); }
    .bp3-dark .bp3-file-upload-input::after{
      -webkit-box-shadow:0 0 0 1px rgba(16, 22, 26, 0.4);
              box-shadow:0 0 0 1px rgba(16, 22, 26, 0.4);
      background-color:#394b59;
      background-image:-webkit-gradient(linear, left top, left bottom, from(rgba(255, 255, 255, 0.05)), to(rgba(255, 255, 255, 0)));
      background-image:linear-gradient(to bottom, rgba(255, 255, 255, 0.05), rgba(255, 255, 255, 0));
      color:#f5f8fa; }
      .bp3-dark .bp3-file-upload-input::after:hover, .bp3-dark .bp3-file-upload-input::after:active, .bp3-dark .bp3-file-upload-input::after.bp3-active{
        color:#f5f8fa; }
      .bp3-dark .bp3-file-upload-input::after:hover{
        -webkit-box-shadow:0 0 0 1px rgba(16, 22, 26, 0.4);
                box-shadow:0 0 0 1px rgba(16, 22, 26, 0.4);
        background-color:#30404d; }
      .bp3-dark .bp3-file-upload-input::after:active, .bp3-dark .bp3-file-upload-input::after.bp3-active{
        -webkit-box-shadow:0 0 0 1px rgba(16, 22, 26, 0.6), inset 0 1px 2px rgba(16, 22, 26, 0.2);
                box-shadow:0 0 0 1px rgba(16, 22, 26, 0.6), inset 0 1px 2px rgba(16, 22, 26, 0.2);
        background-color:#202b33;
        background-image:none; }
      .bp3-dark .bp3-file-upload-input::after:disabled, .bp3-dark .bp3-file-upload-input::after.bp3-disabled{
        -webkit-box-shadow:none;
                box-shadow:none;
        background-color:rgba(57, 75, 89, 0.5);
        background-image:none;
        color:rgba(167, 182, 194, 0.6); }
        .bp3-dark .bp3-file-upload-input::after:disabled.bp3-active, .bp3-dark .bp3-file-upload-input::after.bp3-disabled.bp3-active{
          background:rgba(57, 75, 89, 0.7); }
      .bp3-dark .bp3-file-upload-input::after .bp3-button-spinner .bp3-spinner-head{
        background:rgba(16, 22, 26, 0.5);
        stroke:#8a9ba8; }
    .bp3-dark .bp3-file-upload-input:hover::after{
      -webkit-box-shadow:0 0 0 1px rgba(16, 22, 26, 0.4);
              box-shadow:0 0 0 1px rgba(16, 22, 26, 0.4);
      background-color:#30404d; }
    .bp3-dark .bp3-file-upload-input:active::after{
      -webkit-box-shadow:0 0 0 1px rgba(16, 22, 26, 0.6), inset 0 1px 2px rgba(16, 22, 26, 0.2);
              box-shadow:0 0 0 1px rgba(16, 22, 26, 0.6), inset 0 1px 2px rgba(16, 22, 26, 0.2);
      background-color:#202b33;
      background-image:none; }

.bp3-file-upload-input::after{
  -webkit-box-shadow:inset 0 0 0 1px rgba(16, 22, 26, 0.2), inset 0 -1px 0 rgba(16, 22, 26, 0.1);
          box-shadow:inset 0 0 0 1px rgba(16, 22, 26, 0.2), inset 0 -1px 0 rgba(16, 22, 26, 0.1); }
.bp3-form-group{
  display:-webkit-box;
  display:-ms-flexbox;
  display:flex;
  -webkit-box-orient:vertical;
  -webkit-box-direction:normal;
      -ms-flex-direction:column;
          flex-direction:column;
  margin:0 0 15px; }
  .bp3-form-group label.bp3-label{
    margin-bottom:5px; }
  .bp3-form-group .bp3-control{
    margin-top:7px; }
  .bp3-form-group .bp3-form-helper-text{
    margin-top:5px;
    color:#5c7080;
    font-size:12px; }
  .bp3-form-group.bp3-intent-primary .bp3-form-helper-text{
    color:#106ba3; }
  .bp3-form-group.bp3-intent-success .bp3-form-helper-text{
    color:#0d8050; }
  .bp3-form-group.bp3-intent-warning .bp3-form-helper-text{
    color:#bf7326; }
  .bp3-form-group.bp3-intent-danger .bp3-form-helper-text{
    color:#c23030; }
  .bp3-form-group.bp3-inline{
    -webkit-box-orient:horizontal;
    -webkit-box-direction:normal;
        -ms-flex-direction:row;
            flex-direction:row;
    -webkit-box-align:start;
        -ms-flex-align:start;
            align-items:flex-start; }
    .bp3-form-group.bp3-inline.bp3-large label.bp3-label{
      margin:0 10px 0 0;
      line-height:40px; }
    .bp3-form-group.bp3-inline label.bp3-label{
      margin:0 10px 0 0;
      line-height:30px; }
  .bp3-form-group.bp3-disabled .bp3-label,
  .bp3-form-group.bp3-disabled .bp3-text-muted,
  .bp3-form-group.bp3-disabled .bp3-form-helper-text{
    color:rgba(92, 112, 128, 0.6) !important; }
  .bp3-dark .bp3-form-group.bp3-intent-primary .bp3-form-helper-text{
    color:#48aff0; }
  .bp3-dark .bp3-form-group.bp3-intent-success .bp3-form-helper-text{
    color:#3dcc91; }
  .bp3-dark .bp3-form-group.bp3-intent-warning .bp3-form-helper-text{
    color:#ffb366; }
  .bp3-dark .bp3-form-group.bp3-intent-danger .bp3-form-helper-text{
    color:#ff7373; }
  .bp3-dark .bp3-form-group .bp3-form-helper-text{
    color:#a7b6c2; }
  .bp3-dark .bp3-form-group.bp3-disabled .bp3-label,
  .bp3-dark .bp3-form-group.bp3-disabled .bp3-text-muted,
  .bp3-dark .bp3-form-group.bp3-disabled .bp3-form-helper-text{
    color:rgba(167, 182, 194, 0.6) !important; }
.bp3-input-group{
  display:block;
  position:relative; }
  .bp3-input-group .bp3-input{
    position:relative;
    width:100%; }
    .bp3-input-group .bp3-input:not(:first-child){
      padding-left:30px; }
    .bp3-input-group .bp3-input:not(:last-child){
      padding-right:30px; }
  .bp3-input-group .bp3-input-action,
  .bp3-input-group > .bp3-button,
  .bp3-input-group > .bp3-icon{
    position:absolute;
    top:0; }
    .bp3-input-group .bp3-input-action:first-child,
    .bp3-input-group > .bp3-button:first-child,
    .bp3-input-group > .bp3-icon:first-child{
      left:0; }
    .bp3-input-group .bp3-input-action:last-child,
    .bp3-input-group > .bp3-button:last-child,
    .bp3-input-group > .bp3-icon:last-child{
      right:0; }
  .bp3-input-group .bp3-button{
    min-width:24px;
    min-height:24px;
    margin:3px;
    padding:0 7px; }
    .bp3-input-group .bp3-button:empty{
      padding:0; }
  .bp3-input-group > .bp3-icon{
    z-index:1;
    color:#5c7080; }
    .bp3-input-group > .bp3-icon:empty{
      line-height:1;
      font-family:"Icons16", sans-serif;
      font-size:16px;
      font-weight:400;
      font-style:normal;
      -moz-osx-font-smoothing:grayscale;
      -webkit-font-smoothing:antialiased; }
  .bp3-input-group > .bp3-icon,
  .bp3-input-group .bp3-input-action > .bp3-spinner{
    margin:7px; }
  .bp3-input-group .bp3-tag{
    margin:5px; }
  .bp3-input-group .bp3-input:not(:focus) + .bp3-button.bp3-minimal:not(:hover):not(:focus),
  .bp3-input-group .bp3-input:not(:focus) + .bp3-input-action .bp3-button.bp3-minimal:not(:hover):not(:focus){
    color:#5c7080; }
    .bp3-dark .bp3-input-group .bp3-input:not(:focus) + .bp3-button.bp3-minimal:not(:hover):not(:focus), .bp3-dark
    .bp3-input-group .bp3-input:not(:focus) + .bp3-input-action .bp3-button.bp3-minimal:not(:hover):not(:focus){
      color:#a7b6c2; }
    .bp3-input-group .bp3-input:not(:focus) + .bp3-button.bp3-minimal:not(:hover):not(:focus) .bp3-icon, .bp3-input-group .bp3-input:not(:focus) + .bp3-button.bp3-minimal:not(:hover):not(:focus) .bp3-icon-standard, .bp3-input-group .bp3-input:not(:focus) + .bp3-button.bp3-minimal:not(:hover):not(:focus) .bp3-icon-large,
    .bp3-input-group .bp3-input:not(:focus) + .bp3-input-action .bp3-button.bp3-minimal:not(:hover):not(:focus) .bp3-icon,
    .bp3-input-group .bp3-input:not(:focus) + .bp3-input-action .bp3-button.bp3-minimal:not(:hover):not(:focus) .bp3-icon-standard,
    .bp3-input-group .bp3-input:not(:focus) + .bp3-input-action .bp3-button.bp3-minimal:not(:hover):not(:focus) .bp3-icon-large{
      color:#5c7080; }
  .bp3-input-group .bp3-input:not(:focus) + .bp3-button.bp3-minimal:disabled,
  .bp3-input-group .bp3-input:not(:focus) + .bp3-input-action .bp3-button.bp3-minimal:disabled{
    color:rgba(92, 112, 128, 0.6) !important; }
    .bp3-input-group .bp3-input:not(:focus) + .bp3-button.bp3-minimal:disabled .bp3-icon, .bp3-input-group .bp3-input:not(:focus) + .bp3-button.bp3-minimal:disabled .bp3-icon-standard, .bp3-input-group .bp3-input:not(:focus) + .bp3-button.bp3-minimal:disabled .bp3-icon-large,
    .bp3-input-group .bp3-input:not(:focus) + .bp3-input-action .bp3-button.bp3-minimal:disabled .bp3-icon,
    .bp3-input-group .bp3-input:not(:focus) + .bp3-input-action .bp3-button.bp3-minimal:disabled .bp3-icon-standard,
    .bp3-input-group .bp3-input:not(:focus) + .bp3-input-action .bp3-button.bp3-minimal:disabled .bp3-icon-large{
      color:rgba(92, 112, 128, 0.6) !important; }
  .bp3-input-group.bp3-disabled{
    cursor:not-allowed; }
    .bp3-input-group.bp3-disabled .bp3-icon{
      color:rgba(92, 112, 128, 0.6); }
  .bp3-input-group.bp3-large .bp3-button{
    min-width:30px;
    min-height:30px;
    margin:5px; }
  .bp3-input-group.bp3-large > .bp3-icon,
  .bp3-input-group.bp3-large .bp3-input-action > .bp3-spinner{
    margin:12px; }
  .bp3-input-group.bp3-large .bp3-input{
    height:40px;
    line-height:40px;
    font-size:16px; }
    .bp3-input-group.bp3-large .bp3-input[type="search"], .bp3-input-group.bp3-large .bp3-input.bp3-round{
      padding:0 15px; }
    .bp3-input-group.bp3-large .bp3-input:not(:first-child){
      padding-left:40px; }
    .bp3-input-group.bp3-large .bp3-input:not(:last-child){
      padding-right:40px; }
  .bp3-input-group.bp3-small .bp3-button{
    min-width:20px;
    min-height:20px;
    margin:2px; }
  .bp3-input-group.bp3-small .bp3-tag{
    min-width:20px;
    min-height:20px;
    margin:2px; }
  .bp3-input-group.bp3-small > .bp3-icon,
  .bp3-input-group.bp3-small .bp3-input-action > .bp3-spinner{
    margin:4px; }
  .bp3-input-group.bp3-small .bp3-input{
    height:24px;
    padding-right:8px;
    padding-left:8px;
    line-height:24px;
    font-size:12px; }
    .bp3-input-group.bp3-small .bp3-input[type="search"], .bp3-input-group.bp3-small .bp3-input.bp3-round{
      padding:0 12px; }
    .bp3-input-group.bp3-small .bp3-input:not(:first-child){
      padding-left:24px; }
    .bp3-input-group.bp3-small .bp3-input:not(:last-child){
      padding-right:24px; }
  .bp3-input-group.bp3-fill{
    -webkit-box-flex:1;
        -ms-flex:1 1 auto;
            flex:1 1 auto;
    width:100%; }
  .bp3-input-group.bp3-round .bp3-button,
  .bp3-input-group.bp3-round .bp3-input,
  .bp3-input-group.bp3-round .bp3-tag{
    border-radius:30px; }
  .bp3-dark .bp3-input-group .bp3-icon{
    color:#a7b6c2; }
  .bp3-dark .bp3-input-group.bp3-disabled .bp3-icon{
    color:rgba(167, 182, 194, 0.6); }
  .bp3-input-group.bp3-intent-primary .bp3-input{
    -webkit-box-shadow:0 0 0 0 rgba(19, 124, 189, 0), 0 0 0 0 rgba(19, 124, 189, 0), inset 0 0 0 1px #137cbd, inset 0 0 0 1px rgba(16, 22, 26, 0.15), inset 0 1px 1px rgba(16, 22, 26, 0.2);
            box-shadow:0 0 0 0 rgba(19, 124, 189, 0), 0 0 0 0 rgba(19, 124, 189, 0), inset 0 0 0 1px #137cbd, inset 0 0 0 1px rgba(16, 22, 26, 0.15), inset 0 1px 1px rgba(16, 22, 26, 0.2); }
    .bp3-input-group.bp3-intent-primary .bp3-input:focus{
      -webkit-box-shadow:0 0 0 1px #137cbd, 0 0 0 3px rgba(19, 124, 189, 0.3), inset 0 1px 1px rgba(16, 22, 26, 0.2);
              box-shadow:0 0 0 1px #137cbd, 0 0 0 3px rgba(19, 124, 189, 0.3), inset 0 1px 1px rgba(16, 22, 26, 0.2); }
    .bp3-input-group.bp3-intent-primary .bp3-input[readonly]{
      -webkit-box-shadow:inset 0 0 0 1px #137cbd;
              box-shadow:inset 0 0 0 1px #137cbd; }
    .bp3-input-group.bp3-intent-primary .bp3-input:disabled, .bp3-input-group.bp3-intent-primary .bp3-input.bp3-disabled{
      -webkit-box-shadow:none;
              box-shadow:none; }
  .bp3-input-group.bp3-intent-primary > .bp3-icon{
    color:#106ba3; }
    .bp3-dark .bp3-input-group.bp3-intent-primary > .bp3-icon{
      color:#48aff0; }
  .bp3-input-group.bp3-intent-success .bp3-input{
    -webkit-box-shadow:0 0 0 0 rgba(15, 153, 96, 0), 0 0 0 0 rgba(15, 153, 96, 0), inset 0 0 0 1px #0f9960, inset 0 0 0 1px rgba(16, 22, 26, 0.15), inset 0 1px 1px rgba(16, 22, 26, 0.2);
            box-shadow:0 0 0 0 rgba(15, 153, 96, 0), 0 0 0 0 rgba(15, 153, 96, 0), inset 0 0 0 1px #0f9960, inset 0 0 0 1px rgba(16, 22, 26, 0.15), inset 0 1px 1px rgba(16, 22, 26, 0.2); }
    .bp3-input-group.bp3-intent-success .bp3-input:focus{
      -webkit-box-shadow:0 0 0 1px #0f9960, 0 0 0 3px rgba(15, 153, 96, 0.3), inset 0 1px 1px rgba(16, 22, 26, 0.2);
              box-shadow:0 0 0 1px #0f9960, 0 0 0 3px rgba(15, 153, 96, 0.3), inset 0 1px 1px rgba(16, 22, 26, 0.2); }
    .bp3-input-group.bp3-intent-success .bp3-input[readonly]{
      -webkit-box-shadow:inset 0 0 0 1px #0f9960;
              box-shadow:inset 0 0 0 1px #0f9960; }
    .bp3-input-group.bp3-intent-success .bp3-input:disabled, .bp3-input-group.bp3-intent-success .bp3-input.bp3-disabled{
      -webkit-box-shadow:none;
              box-shadow:none; }
  .bp3-input-group.bp3-intent-success > .bp3-icon{
    color:#0d8050; }
    .bp3-dark .bp3-input-group.bp3-intent-success > .bp3-icon{
      color:#3dcc91; }
  .bp3-input-group.bp3-intent-warning .bp3-input{
    -webkit-box-shadow:0 0 0 0 rgba(217, 130, 43, 0), 0 0 0 0 rgba(217, 130, 43, 0), inset 0 0 0 1px #d9822b, inset 0 0 0 1px rgba(16, 22, 26, 0.15), inset 0 1px 1px rgba(16, 22, 26, 0.2);
            box-shadow:0 0 0 0 rgba(217, 130, 43, 0), 0 0 0 0 rgba(217, 130, 43, 0), inset 0 0 0 1px #d9822b, inset 0 0 0 1px rgba(16, 22, 26, 0.15), inset 0 1px 1px rgba(16, 22, 26, 0.2); }
    .bp3-input-group.bp3-intent-warning .bp3-input:focus{
      -webkit-box-shadow:0 0 0 1px #d9822b, 0 0 0 3px rgba(217, 130, 43, 0.3), inset 0 1px 1px rgba(16, 22, 26, 0.2);
              box-shadow:0 0 0 1px #d9822b, 0 0 0 3px rgba(217, 130, 43, 0.3), inset 0 1px 1px rgba(16, 22, 26, 0.2); }
    .bp3-input-group.bp3-intent-warning .bp3-input[readonly]{
      -webkit-box-shadow:inset 0 0 0 1px #d9822b;
              box-shadow:inset 0 0 0 1px #d9822b; }
    .bp3-input-group.bp3-intent-warning .bp3-input:disabled, .bp3-input-group.bp3-intent-warning .bp3-input.bp3-disabled{
      -webkit-box-shadow:none;
              box-shadow:none; }
  .bp3-input-group.bp3-intent-warning > .bp3-icon{
    color:#bf7326; }
    .bp3-dark .bp3-input-group.bp3-intent-warning > .bp3-icon{
      color:#ffb366; }
  .bp3-input-group.bp3-intent-danger .bp3-input{
    -webkit-box-shadow:0 0 0 0 rgba(219, 55, 55, 0), 0 0 0 0 rgba(219, 55, 55, 0), inset 0 0 0 1px #db3737, inset 0 0 0 1px rgba(16, 22, 26, 0.15), inset 0 1px 1px rgba(16, 22, 26, 0.2);
            box-shadow:0 0 0 0 rgba(219, 55, 55, 0), 0 0 0 0 rgba(219, 55, 55, 0), inset 0 0 0 1px #db3737, inset 0 0 0 1px rgba(16, 22, 26, 0.15), inset 0 1px 1px rgba(16, 22, 26, 0.2); }
    .bp3-input-group.bp3-intent-danger .bp3-input:focus{
      -webkit-box-shadow:0 0 0 1px #db3737, 0 0 0 3px rgba(219, 55, 55, 0.3), inset 0 1px 1px rgba(16, 22, 26, 0.2);
              box-shadow:0 0 0 1px #db3737, 0 0 0 3px rgba(219, 55, 55, 0.3), inset 0 1px 1px rgba(16, 22, 26, 0.2); }
    .bp3-input-group.bp3-intent-danger .bp3-input[readonly]{
      -webkit-box-shadow:inset 0 0 0 1px #db3737;
              box-shadow:inset 0 0 0 1px #db3737; }
    .bp3-input-group.bp3-intent-danger .bp3-input:disabled, .bp3-input-group.bp3-intent-danger .bp3-input.bp3-disabled{
      -webkit-box-shadow:none;
              box-shadow:none; }
  .bp3-input-group.bp3-intent-danger > .bp3-icon{
    color:#c23030; }
    .bp3-dark .bp3-input-group.bp3-intent-danger > .bp3-icon{
      color:#ff7373; }
.bp3-input{
  outline:none;
  border:none;
  border-radius:3px;
  -webkit-box-shadow:0 0 0 0 rgba(19, 124, 189, 0), 0 0 0 0 rgba(19, 124, 189, 0), inset 0 0 0 1px rgba(16, 22, 26, 0.15), inset 0 1px 1px rgba(16, 22, 26, 0.2);
          box-shadow:0 0 0 0 rgba(19, 124, 189, 0), 0 0 0 0 rgba(19, 124, 189, 0), inset 0 0 0 1px rgba(16, 22, 26, 0.15), inset 0 1px 1px rgba(16, 22, 26, 0.2);
  background:#ffffff;
  height:30px;
  padding:0 10px;
  vertical-align:middle;
  line-height:30px;
  color:#182026;
  font-size:14px;
  font-weight:400;
  -webkit-transition:-webkit-box-shadow 100ms cubic-bezier(0.4, 1, 0.75, 0.9);
  transition:-webkit-box-shadow 100ms cubic-bezier(0.4, 1, 0.75, 0.9);
  transition:box-shadow 100ms cubic-bezier(0.4, 1, 0.75, 0.9);
  transition:box-shadow 100ms cubic-bezier(0.4, 1, 0.75, 0.9), -webkit-box-shadow 100ms cubic-bezier(0.4, 1, 0.75, 0.9);
  -webkit-appearance:none;
     -moz-appearance:none;
          appearance:none; }
  .bp3-input::-webkit-input-placeholder{
    opacity:1;
    color:rgba(92, 112, 128, 0.6); }
  .bp3-input::-moz-placeholder{
    opacity:1;
    color:rgba(92, 112, 128, 0.6); }
  .bp3-input:-ms-input-placeholder{
    opacity:1;
    color:rgba(92, 112, 128, 0.6); }
  .bp3-input::-ms-input-placeholder{
    opacity:1;
    color:rgba(92, 112, 128, 0.6); }
  .bp3-input::placeholder{
    opacity:1;
    color:rgba(92, 112, 128, 0.6); }
  .bp3-input:focus, .bp3-input.bp3-active{
    -webkit-box-shadow:0 0 0 1px #137cbd, 0 0 0 3px rgba(19, 124, 189, 0.3), inset 0 1px 1px rgba(16, 22, 26, 0.2);
            box-shadow:0 0 0 1px #137cbd, 0 0 0 3px rgba(19, 124, 189, 0.3), inset 0 1px 1px rgba(16, 22, 26, 0.2); }
  .bp3-input[type="search"], .bp3-input.bp3-round{
    border-radius:30px;
    -webkit-box-sizing:border-box;
            box-sizing:border-box;
    padding-left:10px; }
  .bp3-input[readonly]{
    -webkit-box-shadow:inset 0 0 0 1px rgba(16, 22, 26, 0.15);
            box-shadow:inset 0 0 0 1px rgba(16, 22, 26, 0.15); }
  .bp3-input:disabled, .bp3-input.bp3-disabled{
    -webkit-box-shadow:none;
            box-shadow:none;
    background:rgba(206, 217, 224, 0.5);
    cursor:not-allowed;
    color:rgba(92, 112, 128, 0.6);
    resize:none; }
  .bp3-input.bp3-large{
    height:40px;
    line-height:40px;
    font-size:16px; }
    .bp3-input.bp3-large[type="search"], .bp3-input.bp3-large.bp3-round{
      padding:0 15px; }
  .bp3-input.bp3-small{
    height:24px;
    padding-right:8px;
    padding-left:8px;
    line-height:24px;
    font-size:12px; }
    .bp3-input.bp3-small[type="search"], .bp3-input.bp3-small.bp3-round{
      padding:0 12px; }
  .bp3-input.bp3-fill{
    -webkit-box-flex:1;
        -ms-flex:1 1 auto;
            flex:1 1 auto;
    width:100%; }
  .bp3-dark .bp3-input{
    -webkit-box-shadow:0 0 0 0 rgba(19, 124, 189, 0), 0 0 0 0 rgba(19, 124, 189, 0), 0 0 0 0 rgba(19, 124, 189, 0), inset 0 0 0 1px rgba(16, 22, 26, 0.3), inset 0 1px 1px rgba(16, 22, 26, 0.4);
            box-shadow:0 0 0 0 rgba(19, 124, 189, 0), 0 0 0 0 rgba(19, 124, 189, 0), 0 0 0 0 rgba(19, 124, 189, 0), inset 0 0 0 1px rgba(16, 22, 26, 0.3), inset 0 1px 1px rgba(16, 22, 26, 0.4);
    background:rgba(16, 22, 26, 0.3);
    color:#f5f8fa; }
    .bp3-dark .bp3-input::-webkit-input-placeholder{
      color:rgba(167, 182, 194, 0.6); }
    .bp3-dark .bp3-input::-moz-placeholder{
      color:rgba(167, 182, 194, 0.6); }
    .bp3-dark .bp3-input:-ms-input-placeholder{
      color:rgba(167, 182, 194, 0.6); }
    .bp3-dark .bp3-input::-ms-input-placeholder{
      color:rgba(167, 182, 194, 0.6); }
    .bp3-dark .bp3-input::placeholder{
      color:rgba(167, 182, 194, 0.6); }
    .bp3-dark .bp3-input:focus{
      -webkit-box-shadow:0 0 0 1px #137cbd, 0 0 0 1px #137cbd, 0 0 0 3px rgba(19, 124, 189, 0.3), inset 0 0 0 1px rgba(16, 22, 26, 0.3), inset 0 1px 1px rgba(16, 22, 26, 0.4);
              box-shadow:0 0 0 1px #137cbd, 0 0 0 1px #137cbd, 0 0 0 3px rgba(19, 124, 189, 0.3), inset 0 0 0 1px rgba(16, 22, 26, 0.3), inset 0 1px 1px rgba(16, 22, 26, 0.4); }
    .bp3-dark .bp3-input[readonly]{
      -webkit-box-shadow:inset 0 0 0 1px rgba(16, 22, 26, 0.4);
              box-shadow:inset 0 0 0 1px rgba(16, 22, 26, 0.4); }
    .bp3-dark .bp3-input:disabled, .bp3-dark .bp3-input.bp3-disabled{
      -webkit-box-shadow:none;
              box-shadow:none;
      background:rgba(57, 75, 89, 0.5);
      color:rgba(167, 182, 194, 0.6); }
  .bp3-input.bp3-intent-primary{
    -webkit-box-shadow:0 0 0 0 rgba(19, 124, 189, 0), 0 0 0 0 rgba(19, 124, 189, 0), inset 0 0 0 1px #137cbd, inset 0 0 0 1px rgba(16, 22, 26, 0.15), inset 0 1px 1px rgba(16, 22, 26, 0.2);
            box-shadow:0 0 0 0 rgba(19, 124, 189, 0), 0 0 0 0 rgba(19, 124, 189, 0), inset 0 0 0 1px #137cbd, inset 0 0 0 1px rgba(16, 22, 26, 0.15), inset 0 1px 1px rgba(16, 22, 26, 0.2); }
    .bp3-input.bp3-intent-primary:focus{
      -webkit-box-shadow:0 0 0 1px #137cbd, 0 0 0 3px rgba(19, 124, 189, 0.3), inset 0 1px 1px rgba(16, 22, 26, 0.2);
              box-shadow:0 0 0 1px #137cbd, 0 0 0 3px rgba(19, 124, 189, 0.3), inset 0 1px 1px rgba(16, 22, 26, 0.2); }
    .bp3-input.bp3-intent-primary[readonly]{
      -webkit-box-shadow:inset 0 0 0 1px #137cbd;
              box-shadow:inset 0 0 0 1px #137cbd; }
    .bp3-input.bp3-intent-primary:disabled, .bp3-input.bp3-intent-primary.bp3-disabled{
      -webkit-box-shadow:none;
              box-shadow:none; }
    .bp3-dark .bp3-input.bp3-intent-primary{
      -webkit-box-shadow:0 0 0 0 rgba(19, 124, 189, 0), 0 0 0 0 rgba(19, 124, 189, 0), 0 0 0 0 rgba(19, 124, 189, 0), inset 0 0 0 1px #137cbd, inset 0 0 0 1px rgba(16, 22, 26, 0.3), inset 0 1px 1px rgba(16, 22, 26, 0.4);
              box-shadow:0 0 0 0 rgba(19, 124, 189, 0), 0 0 0 0 rgba(19, 124, 189, 0), 0 0 0 0 rgba(19, 124, 189, 0), inset 0 0 0 1px #137cbd, inset 0 0 0 1px rgba(16, 22, 26, 0.3), inset 0 1px 1px rgba(16, 22, 26, 0.4); }
      .bp3-dark .bp3-input.bp3-intent-primary:focus{
        -webkit-box-shadow:0 0 0 1px #137cbd, 0 0 0 1px #137cbd, 0 0 0 3px rgba(19, 124, 189, 0.3), inset 0 0 0 1px rgba(16, 22, 26, 0.3), inset 0 1px 1px rgba(16, 22, 26, 0.4);
                box-shadow:0 0 0 1px #137cbd, 0 0 0 1px #137cbd, 0 0 0 3px rgba(19, 124, 189, 0.3), inset 0 0 0 1px rgba(16, 22, 26, 0.3), inset 0 1px 1px rgba(16, 22, 26, 0.4); }
      .bp3-dark .bp3-input.bp3-intent-primary[readonly]{
        -webkit-box-shadow:inset 0 0 0 1px #137cbd;
                box-shadow:inset 0 0 0 1px #137cbd; }
      .bp3-dark .bp3-input.bp3-intent-primary:disabled, .bp3-dark .bp3-input.bp3-intent-primary.bp3-disabled{
        -webkit-box-shadow:none;
                box-shadow:none; }
  .bp3-input.bp3-intent-success{
    -webkit-box-shadow:0 0 0 0 rgba(15, 153, 96, 0), 0 0 0 0 rgba(15, 153, 96, 0), inset 0 0 0 1px #0f9960, inset 0 0 0 1px rgba(16, 22, 26, 0.15), inset 0 1px 1px rgba(16, 22, 26, 0.2);
            box-shadow:0 0 0 0 rgba(15, 153, 96, 0), 0 0 0 0 rgba(15, 153, 96, 0), inset 0 0 0 1px #0f9960, inset 0 0 0 1px rgba(16, 22, 26, 0.15), inset 0 1px 1px rgba(16, 22, 26, 0.2); }
    .bp3-input.bp3-intent-success:focus{
      -webkit-box-shadow:0 0 0 1px #0f9960, 0 0 0 3px rgba(15, 153, 96, 0.3), inset 0 1px 1px rgba(16, 22, 26, 0.2);
              box-shadow:0 0 0 1px #0f9960, 0 0 0 3px rgba(15, 153, 96, 0.3), inset 0 1px 1px rgba(16, 22, 26, 0.2); }
    .bp3-input.bp3-intent-success[readonly]{
      -webkit-box-shadow:inset 0 0 0 1px #0f9960;
              box-shadow:inset 0 0 0 1px #0f9960; }
    .bp3-input.bp3-intent-success:disabled, .bp3-input.bp3-intent-success.bp3-disabled{
      -webkit-box-shadow:none;
              box-shadow:none; }
    .bp3-dark .bp3-input.bp3-intent-success{
      -webkit-box-shadow:0 0 0 0 rgba(15, 153, 96, 0), 0 0 0 0 rgba(15, 153, 96, 0), 0 0 0 0 rgba(15, 153, 96, 0), inset 0 0 0 1px #0f9960, inset 0 0 0 1px rgba(16, 22, 26, 0.3), inset 0 1px 1px rgba(16, 22, 26, 0.4);
              box-shadow:0 0 0 0 rgba(15, 153, 96, 0), 0 0 0 0 rgba(15, 153, 96, 0), 0 0 0 0 rgba(15, 153, 96, 0), inset 0 0 0 1px #0f9960, inset 0 0 0 1px rgba(16, 22, 26, 0.3), inset 0 1px 1px rgba(16, 22, 26, 0.4); }
      .bp3-dark .bp3-input.bp3-intent-success:focus{
        -webkit-box-shadow:0 0 0 1px #0f9960, 0 0 0 1px #0f9960, 0 0 0 3px rgba(15, 153, 96, 0.3), inset 0 0 0 1px rgba(16, 22, 26, 0.3), inset 0 1px 1px rgba(16, 22, 26, 0.4);
                box-shadow:0 0 0 1px #0f9960, 0 0 0 1px #0f9960, 0 0 0 3px rgba(15, 153, 96, 0.3), inset 0 0 0 1px rgba(16, 22, 26, 0.3), inset 0 1px 1px rgba(16, 22, 26, 0.4); }
      .bp3-dark .bp3-input.bp3-intent-success[readonly]{
        -webkit-box-shadow:inset 0 0 0 1px #0f9960;
                box-shadow:inset 0 0 0 1px #0f9960; }
      .bp3-dark .bp3-input.bp3-intent-success:disabled, .bp3-dark .bp3-input.bp3-intent-success.bp3-disabled{
        -webkit-box-shadow:none;
                box-shadow:none; }
  .bp3-input.bp3-intent-warning{
    -webkit-box-shadow:0 0 0 0 rgba(217, 130, 43, 0), 0 0 0 0 rgba(217, 130, 43, 0), inset 0 0 0 1px #d9822b, inset 0 0 0 1px rgba(16, 22, 26, 0.15), inset 0 1px 1px rgba(16, 22, 26, 0.2);
            box-shadow:0 0 0 0 rgba(217, 130, 43, 0), 0 0 0 0 rgba(217, 130, 43, 0), inset 0 0 0 1px #d9822b, inset 0 0 0 1px rgba(16, 22, 26, 0.15), inset 0 1px 1px rgba(16, 22, 26, 0.2); }
    .bp3-input.bp3-intent-warning:focus{
      -webkit-box-shadow:0 0 0 1px #d9822b, 0 0 0 3px rgba(217, 130, 43, 0.3), inset 0 1px 1px rgba(16, 22, 26, 0.2);
              box-shadow:0 0 0 1px #d9822b, 0 0 0 3px rgba(217, 130, 43, 0.3), inset 0 1px 1px rgba(16, 22, 26, 0.2); }
    .bp3-input.bp3-intent-warning[readonly]{
      -webkit-box-shadow:inset 0 0 0 1px #d9822b;
              box-shadow:inset 0 0 0 1px #d9822b; }
    .bp3-input.bp3-intent-warning:disabled, .bp3-input.bp3-intent-warning.bp3-disabled{
      -webkit-box-shadow:none;
              box-shadow:none; }
    .bp3-dark .bp3-input.bp3-intent-warning{
      -webkit-box-shadow:0 0 0 0 rgba(217, 130, 43, 0), 0 0 0 0 rgba(217, 130, 43, 0), 0 0 0 0 rgba(217, 130, 43, 0), inset 0 0 0 1px #d9822b, inset 0 0 0 1px rgba(16, 22, 26, 0.3), inset 0 1px 1px rgba(16, 22, 26, 0.4);
              box-shadow:0 0 0 0 rgba(217, 130, 43, 0), 0 0 0 0 rgba(217, 130, 43, 0), 0 0 0 0 rgba(217, 130, 43, 0), inset 0 0 0 1px #d9822b, inset 0 0 0 1px rgba(16, 22, 26, 0.3), inset 0 1px 1px rgba(16, 22, 26, 0.4); }
      .bp3-dark .bp3-input.bp3-intent-warning:focus{
        -webkit-box-shadow:0 0 0 1px #d9822b, 0 0 0 1px #d9822b, 0 0 0 3px rgba(217, 130, 43, 0.3), inset 0 0 0 1px rgba(16, 22, 26, 0.3), inset 0 1px 1px rgba(16, 22, 26, 0.4);
                box-shadow:0 0 0 1px #d9822b, 0 0 0 1px #d9822b, 0 0 0 3px rgba(217, 130, 43, 0.3), inset 0 0 0 1px rgba(16, 22, 26, 0.3), inset 0 1px 1px rgba(16, 22, 26, 0.4); }
      .bp3-dark .bp3-input.bp3-intent-warning[readonly]{
        -webkit-box-shadow:inset 0 0 0 1px #d9822b;
                box-shadow:inset 0 0 0 1px #d9822b; }
      .bp3-dark .bp3-input.bp3-intent-warning:disabled, .bp3-dark .bp3-input.bp3-intent-warning.bp3-disabled{
        -webkit-box-shadow:none;
                box-shadow:none; }
  .bp3-input.bp3-intent-danger{
    -webkit-box-shadow:0 0 0 0 rgba(219, 55, 55, 0), 0 0 0 0 rgba(219, 55, 55, 0), inset 0 0 0 1px #db3737, inset 0 0 0 1px rgba(16, 22, 26, 0.15), inset 0 1px 1px rgba(16, 22, 26, 0.2);
            box-shadow:0 0 0 0 rgba(219, 55, 55, 0), 0 0 0 0 rgba(219, 55, 55, 0), inset 0 0 0 1px #db3737, inset 0 0 0 1px rgba(16, 22, 26, 0.15), inset 0 1px 1px rgba(16, 22, 26, 0.2); }
    .bp3-input.bp3-intent-danger:focus{
      -webkit-box-shadow:0 0 0 1px #db3737, 0 0 0 3px rgba(219, 55, 55, 0.3), inset 0 1px 1px rgba(16, 22, 26, 0.2);
              box-shadow:0 0 0 1px #db3737, 0 0 0 3px rgba(219, 55, 55, 0.3), inset 0 1px 1px rgba(16, 22, 26, 0.2); }
    .bp3-input.bp3-intent-danger[readonly]{
      -webkit-box-shadow:inset 0 0 0 1px #db3737;
              box-shadow:inset 0 0 0 1px #db3737; }
    .bp3-input.bp3-intent-danger:disabled, .bp3-input.bp3-intent-danger.bp3-disabled{
      -webkit-box-shadow:none;
              box-shadow:none; }
    .bp3-dark .bp3-input.bp3-intent-danger{
      -webkit-box-shadow:0 0 0 0 rgba(219, 55, 55, 0), 0 0 0 0 rgba(219, 55, 55, 0), 0 0 0 0 rgba(219, 55, 55, 0), inset 0 0 0 1px #db3737, inset 0 0 0 1px rgba(16, 22, 26, 0.3), inset 0 1px 1px rgba(16, 22, 26, 0.4);
              box-shadow:0 0 0 0 rgba(219, 55, 55, 0), 0 0 0 0 rgba(219, 55, 55, 0), 0 0 0 0 rgba(219, 55, 55, 0), inset 0 0 0 1px #db3737, inset 0 0 0 1px rgba(16, 22, 26, 0.3), inset 0 1px 1px rgba(16, 22, 26, 0.4); }
      .bp3-dark .bp3-input.bp3-intent-danger:focus{
        -webkit-box-shadow:0 0 0 1px #db3737, 0 0 0 1px #db3737, 0 0 0 3px rgba(219, 55, 55, 0.3), inset 0 0 0 1px rgba(16, 22, 26, 0.3), inset 0 1px 1px rgba(16, 22, 26, 0.4);
                box-shadow:0 0 0 1px #db3737, 0 0 0 1px #db3737, 0 0 0 3px rgba(219, 55, 55, 0.3), inset 0 0 0 1px rgba(16, 22, 26, 0.3), inset 0 1px 1px rgba(16, 22, 26, 0.4); }
      .bp3-dark .bp3-input.bp3-intent-danger[readonly]{
        -webkit-box-shadow:inset 0 0 0 1px #db3737;
                box-shadow:inset 0 0 0 1px #db3737; }
      .bp3-dark .bp3-input.bp3-intent-danger:disabled, .bp3-dark .bp3-input.bp3-intent-danger.bp3-disabled{
        -webkit-box-shadow:none;
                box-shadow:none; }
  .bp3-input::-ms-clear{
    display:none; }
textarea.bp3-input{
  max-width:100%;
  padding:10px; }
  textarea.bp3-input, textarea.bp3-input.bp3-large, textarea.bp3-input.bp3-small{
    height:auto;
    line-height:inherit; }
  textarea.bp3-input.bp3-small{
    padding:8px; }
  .bp3-dark textarea.bp3-input{
    -webkit-box-shadow:0 0 0 0 rgba(19, 124, 189, 0), 0 0 0 0 rgba(19, 124, 189, 0), 0 0 0 0 rgba(19, 124, 189, 0), inset 0 0 0 1px rgba(16, 22, 26, 0.3), inset 0 1px 1px rgba(16, 22, 26, 0.4);
            box-shadow:0 0 0 0 rgba(19, 124, 189, 0), 0 0 0 0 rgba(19, 124, 189, 0), 0 0 0 0 rgba(19, 124, 189, 0), inset 0 0 0 1px rgba(16, 22, 26, 0.3), inset 0 1px 1px rgba(16, 22, 26, 0.4);
    background:rgba(16, 22, 26, 0.3);
    color:#f5f8fa; }
    .bp3-dark textarea.bp3-input::-webkit-input-placeholder{
      color:rgba(167, 182, 194, 0.6); }
    .bp3-dark textarea.bp3-input::-moz-placeholder{
      color:rgba(167, 182, 194, 0.6); }
    .bp3-dark textarea.bp3-input:-ms-input-placeholder{
      color:rgba(167, 182, 194, 0.6); }
    .bp3-dark textarea.bp3-input::-ms-input-placeholder{
      color:rgba(167, 182, 194, 0.6); }
    .bp3-dark textarea.bp3-input::placeholder{
      color:rgba(167, 182, 194, 0.6); }
    .bp3-dark textarea.bp3-input:focus{
      -webkit-box-shadow:0 0 0 1px #137cbd, 0 0 0 1px #137cbd, 0 0 0 3px rgba(19, 124, 189, 0.3), inset 0 0 0 1px rgba(16, 22, 26, 0.3), inset 0 1px 1px rgba(16, 22, 26, 0.4);
              box-shadow:0 0 0 1px #137cbd, 0 0 0 1px #137cbd, 0 0 0 3px rgba(19, 124, 189, 0.3), inset 0 0 0 1px rgba(16, 22, 26, 0.3), inset 0 1px 1px rgba(16, 22, 26, 0.4); }
    .bp3-dark textarea.bp3-input[readonly]{
      -webkit-box-shadow:inset 0 0 0 1px rgba(16, 22, 26, 0.4);
              box-shadow:inset 0 0 0 1px rgba(16, 22, 26, 0.4); }
    .bp3-dark textarea.bp3-input:disabled, .bp3-dark textarea.bp3-input.bp3-disabled{
      -webkit-box-shadow:none;
              box-shadow:none;
      background:rgba(57, 75, 89, 0.5);
      color:rgba(167, 182, 194, 0.6); }
label.bp3-label{
  display:block;
  margin-top:0;
  margin-bottom:15px; }
  label.bp3-label .bp3-html-select,
  label.bp3-label .bp3-input,
  label.bp3-label .bp3-select,
  label.bp3-label .bp3-slider,
  label.bp3-label .bp3-popover-wrapper{
    display:block;
    margin-top:5px;
    text-transform:none; }
  label.bp3-label .bp3-button-group{
    margin-top:5px; }
  label.bp3-label .bp3-select select,
  label.bp3-label .bp3-html-select select{
    width:100%;
    vertical-align:top;
    font-weight:400; }
  label.bp3-label.bp3-disabled,
  label.bp3-label.bp3-disabled .bp3-text-muted{
    color:rgba(92, 112, 128, 0.6); }
  label.bp3-label.bp3-inline{
    line-height:30px; }
    label.bp3-label.bp3-inline .bp3-html-select,
    label.bp3-label.bp3-inline .bp3-input,
    label.bp3-label.bp3-inline .bp3-input-group,
    label.bp3-label.bp3-inline .bp3-select,
    label.bp3-label.bp3-inline .bp3-popover-wrapper{
      display:inline-block;
      margin:0 0 0 5px;
      vertical-align:top; }
    label.bp3-label.bp3-inline .bp3-button-group{
      margin:0 0 0 5px; }
    label.bp3-label.bp3-inline .bp3-input-group .bp3-input{
      margin-left:0; }
    label.bp3-label.bp3-inline.bp3-large{
      line-height:40px; }
  label.bp3-label:not(.bp3-inline) .bp3-popover-target{
    display:block; }
  .bp3-dark label.bp3-label{
    color:#f5f8fa; }
    .bp3-dark label.bp3-label.bp3-disabled,
    .bp3-dark label.bp3-label.bp3-disabled .bp3-text-muted{
      color:rgba(167, 182, 194, 0.6); }
.bp3-numeric-input .bp3-button-group.bp3-vertical > .bp3-button{
  -webkit-box-flex:1;
      -ms-flex:1 1 14px;
          flex:1 1 14px;
  width:30px;
  min-height:0;
  padding:0; }
  .bp3-numeric-input .bp3-button-group.bp3-vertical > .bp3-button:first-child{
    border-radius:0 3px 0 0; }
  .bp3-numeric-input .bp3-button-group.bp3-vertical > .bp3-button:last-child{
    border-radius:0 0 3px 0; }

.bp3-numeric-input .bp3-button-group.bp3-vertical:first-child > .bp3-button:first-child{
  border-radius:3px 0 0 0; }

.bp3-numeric-input .bp3-button-group.bp3-vertical:first-child > .bp3-button:last-child{
  border-radius:0 0 0 3px; }

.bp3-numeric-input.bp3-large .bp3-button-group.bp3-vertical > .bp3-button{
  width:40px; }

form{
  display:block; }
.bp3-html-select select,
.bp3-select select{
  display:-webkit-inline-box;
  display:-ms-inline-flexbox;
  display:inline-flex;
  -webkit-box-orient:horizontal;
  -webkit-box-direction:normal;
      -ms-flex-direction:row;
          flex-direction:row;
  -webkit-box-align:center;
      -ms-flex-align:center;
          align-items:center;
  -webkit-box-pack:center;
      -ms-flex-pack:center;
          justify-content:center;
  border:none;
  border-radius:3px;
  cursor:pointer;
  padding:5px 10px;
  vertical-align:middle;
  text-align:left;
  font-size:14px;
  -webkit-box-shadow:inset 0 0 0 1px rgba(16, 22, 26, 0.2), inset 0 -1px 0 rgba(16, 22, 26, 0.1);
          box-shadow:inset 0 0 0 1px rgba(16, 22, 26, 0.2), inset 0 -1px 0 rgba(16, 22, 26, 0.1);
  background-color:#f5f8fa;
  background-image:-webkit-gradient(linear, left top, left bottom, from(rgba(255, 255, 255, 0.8)), to(rgba(255, 255, 255, 0)));
  background-image:linear-gradient(to bottom, rgba(255, 255, 255, 0.8), rgba(255, 255, 255, 0));
  color:#182026;
  border-radius:3px;
  width:100%;
  height:30px;
  padding:0 25px 0 10px;
  -moz-appearance:none;
  -webkit-appearance:none; }
  .bp3-html-select select > *, .bp3-select select > *{
    -webkit-box-flex:0;
        -ms-flex-positive:0;
            flex-grow:0;
    -ms-flex-negative:0;
        flex-shrink:0; }
  .bp3-html-select select > .bp3-fill, .bp3-select select > .bp3-fill{
    -webkit-box-flex:1;
        -ms-flex-positive:1;
            flex-grow:1;
    -ms-flex-negative:1;
        flex-shrink:1; }
  .bp3-html-select select::before,
  .bp3-select select::before, .bp3-html-select select > *, .bp3-select select > *{
    margin-right:7px; }
  .bp3-html-select select:empty::before,
  .bp3-select select:empty::before,
  .bp3-html-select select > :last-child,
  .bp3-select select > :last-child{
    margin-right:0; }
  .bp3-html-select select:hover,
  .bp3-select select:hover{
    -webkit-box-shadow:inset 0 0 0 1px rgba(16, 22, 26, 0.2), inset 0 -1px 0 rgba(16, 22, 26, 0.1);
            box-shadow:inset 0 0 0 1px rgba(16, 22, 26, 0.2), inset 0 -1px 0 rgba(16, 22, 26, 0.1);
    background-clip:padding-box;
    background-color:#ebf1f5; }
  .bp3-html-select select:active,
  .bp3-select select:active, .bp3-html-select select.bp3-active,
  .bp3-select select.bp3-active{
    -webkit-box-shadow:inset 0 0 0 1px rgba(16, 22, 26, 0.2), inset 0 1px 2px rgba(16, 22, 26, 0.2);
            box-shadow:inset 0 0 0 1px rgba(16, 22, 26, 0.2), inset 0 1px 2px rgba(16, 22, 26, 0.2);
    background-color:#d8e1e8;
    background-image:none; }
  .bp3-html-select select:disabled,
  .bp3-select select:disabled, .bp3-html-select select.bp3-disabled,
  .bp3-select select.bp3-disabled{
    outline:none;
    -webkit-box-shadow:none;
            box-shadow:none;
    background-color:rgba(206, 217, 224, 0.5);
    background-image:none;
    cursor:not-allowed;
    color:rgba(92, 112, 128, 0.6); }
    .bp3-html-select select:disabled.bp3-active,
    .bp3-select select:disabled.bp3-active, .bp3-html-select select:disabled.bp3-active:hover,
    .bp3-select select:disabled.bp3-active:hover, .bp3-html-select select.bp3-disabled.bp3-active,
    .bp3-select select.bp3-disabled.bp3-active, .bp3-html-select select.bp3-disabled.bp3-active:hover,
    .bp3-select select.bp3-disabled.bp3-active:hover{
      background:rgba(206, 217, 224, 0.7); }

.bp3-html-select.bp3-minimal select,
.bp3-select.bp3-minimal select{
  -webkit-box-shadow:none;
          box-shadow:none;
  background:none; }
  .bp3-html-select.bp3-minimal select:hover,
  .bp3-select.bp3-minimal select:hover{
    -webkit-box-shadow:none;
            box-shadow:none;
    background:rgba(167, 182, 194, 0.3);
    text-decoration:none;
    color:#182026; }
  .bp3-html-select.bp3-minimal select:active,
  .bp3-select.bp3-minimal select:active, .bp3-html-select.bp3-minimal select.bp3-active,
  .bp3-select.bp3-minimal select.bp3-active{
    -webkit-box-shadow:none;
            box-shadow:none;
    background:rgba(115, 134, 148, 0.3);
    color:#182026; }
  .bp3-html-select.bp3-minimal select:disabled,
  .bp3-select.bp3-minimal select:disabled, .bp3-html-select.bp3-minimal select:disabled:hover,
  .bp3-select.bp3-minimal select:disabled:hover, .bp3-html-select.bp3-minimal select.bp3-disabled,
  .bp3-select.bp3-minimal select.bp3-disabled, .bp3-html-select.bp3-minimal select.bp3-disabled:hover,
  .bp3-select.bp3-minimal select.bp3-disabled:hover{
    background:none;
    cursor:not-allowed;
    color:rgba(92, 112, 128, 0.6); }
    .bp3-html-select.bp3-minimal select:disabled.bp3-active,
    .bp3-select.bp3-minimal select:disabled.bp3-active, .bp3-html-select.bp3-minimal select:disabled:hover.bp3-active,
    .bp3-select.bp3-minimal select:disabled:hover.bp3-active, .bp3-html-select.bp3-minimal select.bp3-disabled.bp3-active,
    .bp3-select.bp3-minimal select.bp3-disabled.bp3-active, .bp3-html-select.bp3-minimal select.bp3-disabled:hover.bp3-active,
    .bp3-select.bp3-minimal select.bp3-disabled:hover.bp3-active{
      background:rgba(115, 134, 148, 0.3); }
  .bp3-dark .bp3-html-select.bp3-minimal select, .bp3-html-select.bp3-minimal .bp3-dark select,
  .bp3-dark .bp3-select.bp3-minimal select, .bp3-select.bp3-minimal .bp3-dark select{
    -webkit-box-shadow:none;
            box-shadow:none;
    background:none;
    color:inherit; }
    .bp3-dark .bp3-html-select.bp3-minimal select:hover, .bp3-html-select.bp3-minimal .bp3-dark select:hover,
    .bp3-dark .bp3-select.bp3-minimal select:hover, .bp3-select.bp3-minimal .bp3-dark select:hover, .bp3-dark .bp3-html-select.bp3-minimal select:active, .bp3-html-select.bp3-minimal .bp3-dark select:active,
    .bp3-dark .bp3-select.bp3-minimal select:active, .bp3-select.bp3-minimal .bp3-dark select:active, .bp3-dark .bp3-html-select.bp3-minimal select.bp3-active, .bp3-html-select.bp3-minimal .bp3-dark select.bp3-active,
    .bp3-dark .bp3-select.bp3-minimal select.bp3-active, .bp3-select.bp3-minimal .bp3-dark select.bp3-active{
      -webkit-box-shadow:none;
              box-shadow:none;
      background:none; }
    .bp3-dark .bp3-html-select.bp3-minimal select:hover, .bp3-html-select.bp3-minimal .bp3-dark select:hover,
    .bp3-dark .bp3-select.bp3-minimal select:hover, .bp3-select.bp3-minimal .bp3-dark select:hover{
      background:rgba(138, 155, 168, 0.15); }
    .bp3-dark .bp3-html-select.bp3-minimal select:active, .bp3-html-select.bp3-minimal .bp3-dark select:active,
    .bp3-dark .bp3-select.bp3-minimal select:active, .bp3-select.bp3-minimal .bp3-dark select:active, .bp3-dark .bp3-html-select.bp3-minimal select.bp3-active, .bp3-html-select.bp3-minimal .bp3-dark select.bp3-active,
    .bp3-dark .bp3-select.bp3-minimal select.bp3-active, .bp3-select.bp3-minimal .bp3-dark select.bp3-active{
      background:rgba(138, 155, 168, 0.3);
      color:#f5f8fa; }
    .bp3-dark .bp3-html-select.bp3-minimal select:disabled, .bp3-html-select.bp3-minimal .bp3-dark select:disabled,
    .bp3-dark .bp3-select.bp3-minimal select:disabled, .bp3-select.bp3-minimal .bp3-dark select:disabled, .bp3-dark .bp3-html-select.bp3-minimal select:disabled:hover, .bp3-html-select.bp3-minimal .bp3-dark select:disabled:hover,
    .bp3-dark .bp3-select.bp3-minimal select:disabled:hover, .bp3-select.bp3-minimal .bp3-dark select:disabled:hover, .bp3-dark .bp3-html-select.bp3-minimal select.bp3-disabled, .bp3-html-select.bp3-minimal .bp3-dark select.bp3-disabled,
    .bp3-dark .bp3-select.bp3-minimal select.bp3-disabled, .bp3-select.bp3-minimal .bp3-dark select.bp3-disabled, .bp3-dark .bp3-html-select.bp3-minimal select.bp3-disabled:hover, .bp3-html-select.bp3-minimal .bp3-dark select.bp3-disabled:hover,
    .bp3-dark .bp3-select.bp3-minimal select.bp3-disabled:hover, .bp3-select.bp3-minimal .bp3-dark select.bp3-disabled:hover{
      background:none;
      cursor:not-allowed;
      color:rgba(167, 182, 194, 0.6); }
      .bp3-dark .bp3-html-select.bp3-minimal select:disabled.bp3-active, .bp3-html-select.bp3-minimal .bp3-dark select:disabled.bp3-active,
      .bp3-dark .bp3-select.bp3-minimal select:disabled.bp3-active, .bp3-select.bp3-minimal .bp3-dark select:disabled.bp3-active, .bp3-dark .bp3-html-select.bp3-minimal select:disabled:hover.bp3-active, .bp3-html-select.bp3-minimal .bp3-dark select:disabled:hover.bp3-active,
      .bp3-dark .bp3-select.bp3-minimal select:disabled:hover.bp3-active, .bp3-select.bp3-minimal .bp3-dark select:disabled:hover.bp3-active, .bp3-dark .bp3-html-select.bp3-minimal select.bp3-disabled.bp3-active, .bp3-html-select.bp3-minimal .bp3-dark select.bp3-disabled.bp3-active,
      .bp3-dark .bp3-select.bp3-minimal select.bp3-disabled.bp3-active, .bp3-select.bp3-minimal .bp3-dark select.bp3-disabled.bp3-active, .bp3-dark .bp3-html-select.bp3-minimal select.bp3-disabled:hover.bp3-active, .bp3-html-select.bp3-minimal .bp3-dark select.bp3-disabled:hover.bp3-active,
      .bp3-dark .bp3-select.bp3-minimal select.bp3-disabled:hover.bp3-active, .bp3-select.bp3-minimal .bp3-dark select.bp3-disabled:hover.bp3-active{
        background:rgba(138, 155, 168, 0.3); }
  .bp3-html-select.bp3-minimal select.bp3-intent-primary,
  .bp3-select.bp3-minimal select.bp3-intent-primary{
    color:#106ba3; }
    .bp3-html-select.bp3-minimal select.bp3-intent-primary:hover,
    .bp3-select.bp3-minimal select.bp3-intent-primary:hover, .bp3-html-select.bp3-minimal select.bp3-intent-primary:active,
    .bp3-select.bp3-minimal select.bp3-intent-primary:active, .bp3-html-select.bp3-minimal select.bp3-intent-primary.bp3-active,
    .bp3-select.bp3-minimal select.bp3-intent-primary.bp3-active{
      -webkit-box-shadow:none;
              box-shadow:none;
      background:none;
      color:#106ba3; }
    .bp3-html-select.bp3-minimal select.bp3-intent-primary:hover,
    .bp3-select.bp3-minimal select.bp3-intent-primary:hover{
      background:rgba(19, 124, 189, 0.15);
      color:#106ba3; }
    .bp3-html-select.bp3-minimal select.bp3-intent-primary:active,
    .bp3-select.bp3-minimal select.bp3-intent-primary:active, .bp3-html-select.bp3-minimal select.bp3-intent-primary.bp3-active,
    .bp3-select.bp3-minimal select.bp3-intent-primary.bp3-active{
      background:rgba(19, 124, 189, 0.3);
      color:#106ba3; }
    .bp3-html-select.bp3-minimal select.bp3-intent-primary:disabled,
    .bp3-select.bp3-minimal select.bp3-intent-primary:disabled, .bp3-html-select.bp3-minimal select.bp3-intent-primary.bp3-disabled,
    .bp3-select.bp3-minimal select.bp3-intent-primary.bp3-disabled{
      background:none;
      color:rgba(16, 107, 163, 0.5); }
      .bp3-html-select.bp3-minimal select.bp3-intent-primary:disabled.bp3-active,
      .bp3-select.bp3-minimal select.bp3-intent-primary:disabled.bp3-active, .bp3-html-select.bp3-minimal select.bp3-intent-primary.bp3-disabled.bp3-active,
      .bp3-select.bp3-minimal select.bp3-intent-primary.bp3-disabled.bp3-active{
        background:rgba(19, 124, 189, 0.3); }
    .bp3-html-select.bp3-minimal select.bp3-intent-primary .bp3-button-spinner .bp3-spinner-head, .bp3-select.bp3-minimal select.bp3-intent-primary .bp3-button-spinner .bp3-spinner-head{
      stroke:#106ba3; }
    .bp3-dark .bp3-html-select.bp3-minimal select.bp3-intent-primary, .bp3-html-select.bp3-minimal .bp3-dark select.bp3-intent-primary,
    .bp3-dark .bp3-select.bp3-minimal select.bp3-intent-primary, .bp3-select.bp3-minimal .bp3-dark select.bp3-intent-primary{
      color:#48aff0; }
      .bp3-dark .bp3-html-select.bp3-minimal select.bp3-intent-primary:hover, .bp3-html-select.bp3-minimal .bp3-dark select.bp3-intent-primary:hover,
      .bp3-dark .bp3-select.bp3-minimal select.bp3-intent-primary:hover, .bp3-select.bp3-minimal .bp3-dark select.bp3-intent-primary:hover{
        background:rgba(19, 124, 189, 0.2);
        color:#48aff0; }
      .bp3-dark .bp3-html-select.bp3-minimal select.bp3-intent-primary:active, .bp3-html-select.bp3-minimal .bp3-dark select.bp3-intent-primary:active,
      .bp3-dark .bp3-select.bp3-minimal select.bp3-intent-primary:active, .bp3-select.bp3-minimal .bp3-dark select.bp3-intent-primary:active, .bp3-dark .bp3-html-select.bp3-minimal select.bp3-intent-primary.bp3-active, .bp3-html-select.bp3-minimal .bp3-dark select.bp3-intent-primary.bp3-active,
      .bp3-dark .bp3-select.bp3-minimal select.bp3-intent-primary.bp3-active, .bp3-select.bp3-minimal .bp3-dark select.bp3-intent-primary.bp3-active{
        background:rgba(19, 124, 189, 0.3);
        color:#48aff0; }
      .bp3-dark .bp3-html-select.bp3-minimal select.bp3-intent-primary:disabled, .bp3-html-select.bp3-minimal .bp3-dark select.bp3-intent-primary:disabled,
      .bp3-dark .bp3-select.bp3-minimal select.bp3-intent-primary:disabled, .bp3-select.bp3-minimal .bp3-dark select.bp3-intent-primary:disabled, .bp3-dark .bp3-html-select.bp3-minimal select.bp3-intent-primary.bp3-disabled, .bp3-html-select.bp3-minimal .bp3-dark select.bp3-intent-primary.bp3-disabled,
      .bp3-dark .bp3-select.bp3-minimal select.bp3-intent-primary.bp3-disabled, .bp3-select.bp3-minimal .bp3-dark select.bp3-intent-primary.bp3-disabled{
        background:none;
        color:rgba(72, 175, 240, 0.5); }
        .bp3-dark .bp3-html-select.bp3-minimal select.bp3-intent-primary:disabled.bp3-active, .bp3-html-select.bp3-minimal .bp3-dark select.bp3-intent-primary:disabled.bp3-active,
        .bp3-dark .bp3-select.bp3-minimal select.bp3-intent-primary:disabled.bp3-active, .bp3-select.bp3-minimal .bp3-dark select.bp3-intent-primary:disabled.bp3-active, .bp3-dark .bp3-html-select.bp3-minimal select.bp3-intent-primary.bp3-disabled.bp3-active, .bp3-html-select.bp3-minimal .bp3-dark select.bp3-intent-primary.bp3-disabled.bp3-active,
        .bp3-dark .bp3-select.bp3-minimal select.bp3-intent-primary.bp3-disabled.bp3-active, .bp3-select.bp3-minimal .bp3-dark select.bp3-intent-primary.bp3-disabled.bp3-active{
          background:rgba(19, 124, 189, 0.3); }
  .bp3-html-select.bp3-minimal select.bp3-intent-success,
  .bp3-select.bp3-minimal select.bp3-intent-success{
    color:#0d8050; }
    .bp3-html-select.bp3-minimal select.bp3-intent-success:hover,
    .bp3-select.bp3-minimal select.bp3-intent-success:hover, .bp3-html-select.bp3-minimal select.bp3-intent-success:active,
    .bp3-select.bp3-minimal select.bp3-intent-success:active, .bp3-html-select.bp3-minimal select.bp3-intent-success.bp3-active,
    .bp3-select.bp3-minimal select.bp3-intent-success.bp3-active{
      -webkit-box-shadow:none;
              box-shadow:none;
      background:none;
      color:#0d8050; }
    .bp3-html-select.bp3-minimal select.bp3-intent-success:hover,
    .bp3-select.bp3-minimal select.bp3-intent-success:hover{
      background:rgba(15, 153, 96, 0.15);
      color:#0d8050; }
    .bp3-html-select.bp3-minimal select.bp3-intent-success:active,
    .bp3-select.bp3-minimal select.bp3-intent-success:active, .bp3-html-select.bp3-minimal select.bp3-intent-success.bp3-active,
    .bp3-select.bp3-minimal select.bp3-intent-success.bp3-active{
      background:rgba(15, 153, 96, 0.3);
      color:#0d8050; }
    .bp3-html-select.bp3-minimal select.bp3-intent-success:disabled,
    .bp3-select.bp3-minimal select.bp3-intent-success:disabled, .bp3-html-select.bp3-minimal select.bp3-intent-success.bp3-disabled,
    .bp3-select.bp3-minimal select.bp3-intent-success.bp3-disabled{
      background:none;
      color:rgba(13, 128, 80, 0.5); }
      .bp3-html-select.bp3-minimal select.bp3-intent-success:disabled.bp3-active,
      .bp3-select.bp3-minimal select.bp3-intent-success:disabled.bp3-active, .bp3-html-select.bp3-minimal select.bp3-intent-success.bp3-disabled.bp3-active,
      .bp3-select.bp3-minimal select.bp3-intent-success.bp3-disabled.bp3-active{
        background:rgba(15, 153, 96, 0.3); }
    .bp3-html-select.bp3-minimal select.bp3-intent-success .bp3-button-spinner .bp3-spinner-head, .bp3-select.bp3-minimal select.bp3-intent-success .bp3-button-spinner .bp3-spinner-head{
      stroke:#0d8050; }
    .bp3-dark .bp3-html-select.bp3-minimal select.bp3-intent-success, .bp3-html-select.bp3-minimal .bp3-dark select.bp3-intent-success,
    .bp3-dark .bp3-select.bp3-minimal select.bp3-intent-success, .bp3-select.bp3-minimal .bp3-dark select.bp3-intent-success{
      color:#3dcc91; }
      .bp3-dark .bp3-html-select.bp3-minimal select.bp3-intent-success:hover, .bp3-html-select.bp3-minimal .bp3-dark select.bp3-intent-success:hover,
      .bp3-dark .bp3-select.bp3-minimal select.bp3-intent-success:hover, .bp3-select.bp3-minimal .bp3-dark select.bp3-intent-success:hover{
        background:rgba(15, 153, 96, 0.2);
        color:#3dcc91; }
      .bp3-dark .bp3-html-select.bp3-minimal select.bp3-intent-success:active, .bp3-html-select.bp3-minimal .bp3-dark select.bp3-intent-success:active,
      .bp3-dark .bp3-select.bp3-minimal select.bp3-intent-success:active, .bp3-select.bp3-minimal .bp3-dark select.bp3-intent-success:active, .bp3-dark .bp3-html-select.bp3-minimal select.bp3-intent-success.bp3-active, .bp3-html-select.bp3-minimal .bp3-dark select.bp3-intent-success.bp3-active,
      .bp3-dark .bp3-select.bp3-minimal select.bp3-intent-success.bp3-active, .bp3-select.bp3-minimal .bp3-dark select.bp3-intent-success.bp3-active{
        background:rgba(15, 153, 96, 0.3);
        color:#3dcc91; }
      .bp3-dark .bp3-html-select.bp3-minimal select.bp3-intent-success:disabled, .bp3-html-select.bp3-minimal .bp3-dark select.bp3-intent-success:disabled,
      .bp3-dark .bp3-select.bp3-minimal select.bp3-intent-success:disabled, .bp3-select.bp3-minimal .bp3-dark select.bp3-intent-success:disabled, .bp3-dark .bp3-html-select.bp3-minimal select.bp3-intent-success.bp3-disabled, .bp3-html-select.bp3-minimal .bp3-dark select.bp3-intent-success.bp3-disabled,
      .bp3-dark .bp3-select.bp3-minimal select.bp3-intent-success.bp3-disabled, .bp3-select.bp3-minimal .bp3-dark select.bp3-intent-success.bp3-disabled{
        background:none;
        color:rgba(61, 204, 145, 0.5); }
        .bp3-dark .bp3-html-select.bp3-minimal select.bp3-intent-success:disabled.bp3-active, .bp3-html-select.bp3-minimal .bp3-dark select.bp3-intent-success:disabled.bp3-active,
        .bp3-dark .bp3-select.bp3-minimal select.bp3-intent-success:disabled.bp3-active, .bp3-select.bp3-minimal .bp3-dark select.bp3-intent-success:disabled.bp3-active, .bp3-dark .bp3-html-select.bp3-minimal select.bp3-intent-success.bp3-disabled.bp3-active, .bp3-html-select.bp3-minimal .bp3-dark select.bp3-intent-success.bp3-disabled.bp3-active,
        .bp3-dark .bp3-select.bp3-minimal select.bp3-intent-success.bp3-disabled.bp3-active, .bp3-select.bp3-minimal .bp3-dark select.bp3-intent-success.bp3-disabled.bp3-active{
          background:rgba(15, 153, 96, 0.3); }
  .bp3-html-select.bp3-minimal select.bp3-intent-warning,
  .bp3-select.bp3-minimal select.bp3-intent-warning{
    color:#bf7326; }
    .bp3-html-select.bp3-minimal select.bp3-intent-warning:hover,
    .bp3-select.bp3-minimal select.bp3-intent-warning:hover, .bp3-html-select.bp3-minimal select.bp3-intent-warning:active,
    .bp3-select.bp3-minimal select.bp3-intent-warning:active, .bp3-html-select.bp3-minimal select.bp3-intent-warning.bp3-active,
    .bp3-select.bp3-minimal select.bp3-intent-warning.bp3-active{
      -webkit-box-shadow:none;
              box-shadow:none;
      background:none;
      color:#bf7326; }
    .bp3-html-select.bp3-minimal select.bp3-intent-warning:hover,
    .bp3-select.bp3-minimal select.bp3-intent-warning:hover{
      background:rgba(217, 130, 43, 0.15);
      color:#bf7326; }
    .bp3-html-select.bp3-minimal select.bp3-intent-warning:active,
    .bp3-select.bp3-minimal select.bp3-intent-warning:active, .bp3-html-select.bp3-minimal select.bp3-intent-warning.bp3-active,
    .bp3-select.bp3-minimal select.bp3-intent-warning.bp3-active{
      background:rgba(217, 130, 43, 0.3);
      color:#bf7326; }
    .bp3-html-select.bp3-minimal select.bp3-intent-warning:disabled,
    .bp3-select.bp3-minimal select.bp3-intent-warning:disabled, .bp3-html-select.bp3-minimal select.bp3-intent-warning.bp3-disabled,
    .bp3-select.bp3-minimal select.bp3-intent-warning.bp3-disabled{
      background:none;
      color:rgba(191, 115, 38, 0.5); }
      .bp3-html-select.bp3-minimal select.bp3-intent-warning:disabled.bp3-active,
      .bp3-select.bp3-minimal select.bp3-intent-warning:disabled.bp3-active, .bp3-html-select.bp3-minimal select.bp3-intent-warning.bp3-disabled.bp3-active,
      .bp3-select.bp3-minimal select.bp3-intent-warning.bp3-disabled.bp3-active{
        background:rgba(217, 130, 43, 0.3); }
    .bp3-html-select.bp3-minimal select.bp3-intent-warning .bp3-button-spinner .bp3-spinner-head, .bp3-select.bp3-minimal select.bp3-intent-warning .bp3-button-spinner .bp3-spinner-head{
      stroke:#bf7326; }
    .bp3-dark .bp3-html-select.bp3-minimal select.bp3-intent-warning, .bp3-html-select.bp3-minimal .bp3-dark select.bp3-intent-warning,
    .bp3-dark .bp3-select.bp3-minimal select.bp3-intent-warning, .bp3-select.bp3-minimal .bp3-dark select.bp3-intent-warning{
      color:#ffb366; }
      .bp3-dark .bp3-html-select.bp3-minimal select.bp3-intent-warning:hover, .bp3-html-select.bp3-minimal .bp3-dark select.bp3-intent-warning:hover,
      .bp3-dark .bp3-select.bp3-minimal select.bp3-intent-warning:hover, .bp3-select.bp3-minimal .bp3-dark select.bp3-intent-warning:hover{
        background:rgba(217, 130, 43, 0.2);
        color:#ffb366; }
      .bp3-dark .bp3-html-select.bp3-minimal select.bp3-intent-warning:active, .bp3-html-select.bp3-minimal .bp3-dark select.bp3-intent-warning:active,
      .bp3-dark .bp3-select.bp3-minimal select.bp3-intent-warning:active, .bp3-select.bp3-minimal .bp3-dark select.bp3-intent-warning:active, .bp3-dark .bp3-html-select.bp3-minimal select.bp3-intent-warning.bp3-active, .bp3-html-select.bp3-minimal .bp3-dark select.bp3-intent-warning.bp3-active,
      .bp3-dark .bp3-select.bp3-minimal select.bp3-intent-warning.bp3-active, .bp3-select.bp3-minimal .bp3-dark select.bp3-intent-warning.bp3-active{
        background:rgba(217, 130, 43, 0.3);
        color:#ffb366; }
      .bp3-dark .bp3-html-select.bp3-minimal select.bp3-intent-warning:disabled, .bp3-html-select.bp3-minimal .bp3-dark select.bp3-intent-warning:disabled,
      .bp3-dark .bp3-select.bp3-minimal select.bp3-intent-warning:disabled, .bp3-select.bp3-minimal .bp3-dark select.bp3-intent-warning:disabled, .bp3-dark .bp3-html-select.bp3-minimal select.bp3-intent-warning.bp3-disabled, .bp3-html-select.bp3-minimal .bp3-dark select.bp3-intent-warning.bp3-disabled,
      .bp3-dark .bp3-select.bp3-minimal select.bp3-intent-warning.bp3-disabled, .bp3-select.bp3-minimal .bp3-dark select.bp3-intent-warning.bp3-disabled{
        background:none;
        color:rgba(255, 179, 102, 0.5); }
        .bp3-dark .bp3-html-select.bp3-minimal select.bp3-intent-warning:disabled.bp3-active, .bp3-html-select.bp3-minimal .bp3-dark select.bp3-intent-warning:disabled.bp3-active,
        .bp3-dark .bp3-select.bp3-minimal select.bp3-intent-warning:disabled.bp3-active, .bp3-select.bp3-minimal .bp3-dark select.bp3-intent-warning:disabled.bp3-active, .bp3-dark .bp3-html-select.bp3-minimal select.bp3-intent-warning.bp3-disabled.bp3-active, .bp3-html-select.bp3-minimal .bp3-dark select.bp3-intent-warning.bp3-disabled.bp3-active,
        .bp3-dark .bp3-select.bp3-minimal select.bp3-intent-warning.bp3-disabled.bp3-active, .bp3-select.bp3-minimal .bp3-dark select.bp3-intent-warning.bp3-disabled.bp3-active{
          background:rgba(217, 130, 43, 0.3); }
  .bp3-html-select.bp3-minimal select.bp3-intent-danger,
  .bp3-select.bp3-minimal select.bp3-intent-danger{
    color:#c23030; }
    .bp3-html-select.bp3-minimal select.bp3-intent-danger:hover,
    .bp3-select.bp3-minimal select.bp3-intent-danger:hover, .bp3-html-select.bp3-minimal select.bp3-intent-danger:active,
    .bp3-select.bp3-minimal select.bp3-intent-danger:active, .bp3-html-select.bp3-minimal select.bp3-intent-danger.bp3-active,
    .bp3-select.bp3-minimal select.bp3-intent-danger.bp3-active{
      -webkit-box-shadow:none;
              box-shadow:none;
      background:none;
      color:#c23030; }
    .bp3-html-select.bp3-minimal select.bp3-intent-danger:hover,
    .bp3-select.bp3-minimal select.bp3-intent-danger:hover{
      background:rgba(219, 55, 55, 0.15);
      color:#c23030; }
    .bp3-html-select.bp3-minimal select.bp3-intent-danger:active,
    .bp3-select.bp3-minimal select.bp3-intent-danger:active, .bp3-html-select.bp3-minimal select.bp3-intent-danger.bp3-active,
    .bp3-select.bp3-minimal select.bp3-intent-danger.bp3-active{
      background:rgba(219, 55, 55, 0.3);
      color:#c23030; }
    .bp3-html-select.bp3-minimal select.bp3-intent-danger:disabled,
    .bp3-select.bp3-minimal select.bp3-intent-danger:disabled, .bp3-html-select.bp3-minimal select.bp3-intent-danger.bp3-disabled,
    .bp3-select.bp3-minimal select.bp3-intent-danger.bp3-disabled{
      background:none;
      color:rgba(194, 48, 48, 0.5); }
      .bp3-html-select.bp3-minimal select.bp3-intent-danger:disabled.bp3-active,
      .bp3-select.bp3-minimal select.bp3-intent-danger:disabled.bp3-active, .bp3-html-select.bp3-minimal select.bp3-intent-danger.bp3-disabled.bp3-active,
      .bp3-select.bp3-minimal select.bp3-intent-danger.bp3-disabled.bp3-active{
        background:rgba(219, 55, 55, 0.3); }
    .bp3-html-select.bp3-minimal select.bp3-intent-danger .bp3-button-spinner .bp3-spinner-head, .bp3-select.bp3-minimal select.bp3-intent-danger .bp3-button-spinner .bp3-spinner-head{
      stroke:#c23030; }
    .bp3-dark .bp3-html-select.bp3-minimal select.bp3-intent-danger, .bp3-html-select.bp3-minimal .bp3-dark select.bp3-intent-danger,
    .bp3-dark .bp3-select.bp3-minimal select.bp3-intent-danger, .bp3-select.bp3-minimal .bp3-dark select.bp3-intent-danger{
      color:#ff7373; }
      .bp3-dark .bp3-html-select.bp3-minimal select.bp3-intent-danger:hover, .bp3-html-select.bp3-minimal .bp3-dark select.bp3-intent-danger:hover,
      .bp3-dark .bp3-select.bp3-minimal select.bp3-intent-danger:hover, .bp3-select.bp3-minimal .bp3-dark select.bp3-intent-danger:hover{
        background:rgba(219, 55, 55, 0.2);
        color:#ff7373; }
      .bp3-dark .bp3-html-select.bp3-minimal select.bp3-intent-danger:active, .bp3-html-select.bp3-minimal .bp3-dark select.bp3-intent-danger:active,
      .bp3-dark .bp3-select.bp3-minimal select.bp3-intent-danger:active, .bp3-select.bp3-minimal .bp3-dark select.bp3-intent-danger:active, .bp3-dark .bp3-html-select.bp3-minimal select.bp3-intent-danger.bp3-active, .bp3-html-select.bp3-minimal .bp3-dark select.bp3-intent-danger.bp3-active,
      .bp3-dark .bp3-select.bp3-minimal select.bp3-intent-danger.bp3-active, .bp3-select.bp3-minimal .bp3-dark select.bp3-intent-danger.bp3-active{
        background:rgba(219, 55, 55, 0.3);
        color:#ff7373; }
      .bp3-dark .bp3-html-select.bp3-minimal select.bp3-intent-danger:disabled, .bp3-html-select.bp3-minimal .bp3-dark select.bp3-intent-danger:disabled,
      .bp3-dark .bp3-select.bp3-minimal select.bp3-intent-danger:disabled, .bp3-select.bp3-minimal .bp3-dark select.bp3-intent-danger:disabled, .bp3-dark .bp3-html-select.bp3-minimal select.bp3-intent-danger.bp3-disabled, .bp3-html-select.bp3-minimal .bp3-dark select.bp3-intent-danger.bp3-disabled,
      .bp3-dark .bp3-select.bp3-minimal select.bp3-intent-danger.bp3-disabled, .bp3-select.bp3-minimal .bp3-dark select.bp3-intent-danger.bp3-disabled{
        background:none;
        color:rgba(255, 115, 115, 0.5); }
        .bp3-dark .bp3-html-select.bp3-minimal select.bp3-intent-danger:disabled.bp3-active, .bp3-html-select.bp3-minimal .bp3-dark select.bp3-intent-danger:disabled.bp3-active,
        .bp3-dark .bp3-select.bp3-minimal select.bp3-intent-danger:disabled.bp3-active, .bp3-select.bp3-minimal .bp3-dark select.bp3-intent-danger:disabled.bp3-active, .bp3-dark .bp3-html-select.bp3-minimal select.bp3-intent-danger.bp3-disabled.bp3-active, .bp3-html-select.bp3-minimal .bp3-dark select.bp3-intent-danger.bp3-disabled.bp3-active,
        .bp3-dark .bp3-select.bp3-minimal select.bp3-intent-danger.bp3-disabled.bp3-active, .bp3-select.bp3-minimal .bp3-dark select.bp3-intent-danger.bp3-disabled.bp3-active{
          background:rgba(219, 55, 55, 0.3); }

.bp3-html-select.bp3-large select,
.bp3-select.bp3-large select{
  height:40px;
  padding-right:35px;
  font-size:16px; }

.bp3-dark .bp3-html-select select, .bp3-dark .bp3-select select{
  -webkit-box-shadow:0 0 0 1px rgba(16, 22, 26, 0.4);
          box-shadow:0 0 0 1px rgba(16, 22, 26, 0.4);
  background-color:#394b59;
  background-image:-webkit-gradient(linear, left top, left bottom, from(rgba(255, 255, 255, 0.05)), to(rgba(255, 255, 255, 0)));
  background-image:linear-gradient(to bottom, rgba(255, 255, 255, 0.05), rgba(255, 255, 255, 0));
  color:#f5f8fa; }
  .bp3-dark .bp3-html-select select:hover, .bp3-dark .bp3-select select:hover, .bp3-dark .bp3-html-select select:active, .bp3-dark .bp3-select select:active, .bp3-dark .bp3-html-select select.bp3-active, .bp3-dark .bp3-select select.bp3-active{
    color:#f5f8fa; }
  .bp3-dark .bp3-html-select select:hover, .bp3-dark .bp3-select select:hover{
    -webkit-box-shadow:0 0 0 1px rgba(16, 22, 26, 0.4);
            box-shadow:0 0 0 1px rgba(16, 22, 26, 0.4);
    background-color:#30404d; }
  .bp3-dark .bp3-html-select select:active, .bp3-dark .bp3-select select:active, .bp3-dark .bp3-html-select select.bp3-active, .bp3-dark .bp3-select select.bp3-active{
    -webkit-box-shadow:0 0 0 1px rgba(16, 22, 26, 0.6), inset 0 1px 2px rgba(16, 22, 26, 0.2);
            box-shadow:0 0 0 1px rgba(16, 22, 26, 0.6), inset 0 1px 2px rgba(16, 22, 26, 0.2);
    background-color:#202b33;
    background-image:none; }
  .bp3-dark .bp3-html-select select:disabled, .bp3-dark .bp3-select select:disabled, .bp3-dark .bp3-html-select select.bp3-disabled, .bp3-dark .bp3-select select.bp3-disabled{
    -webkit-box-shadow:none;
            box-shadow:none;
    background-color:rgba(57, 75, 89, 0.5);
    background-image:none;
    color:rgba(167, 182, 194, 0.6); }
    .bp3-dark .bp3-html-select select:disabled.bp3-active, .bp3-dark .bp3-select select:disabled.bp3-active, .bp3-dark .bp3-html-select select.bp3-disabled.bp3-active, .bp3-dark .bp3-select select.bp3-disabled.bp3-active{
      background:rgba(57, 75, 89, 0.7); }
  .bp3-dark .bp3-html-select select .bp3-button-spinner .bp3-spinner-head, .bp3-dark .bp3-select select .bp3-button-spinner .bp3-spinner-head{
    background:rgba(16, 22, 26, 0.5);
    stroke:#8a9ba8; }

.bp3-html-select select:disabled,
.bp3-select select:disabled{
  -webkit-box-shadow:none;
          box-shadow:none;
  background-color:rgba(206, 217, 224, 0.5);
  cursor:not-allowed;
  color:rgba(92, 112, 128, 0.6); }

.bp3-html-select .bp3-icon,
.bp3-select .bp3-icon, .bp3-select::after{
  position:absolute;
  top:7px;
  right:7px;
  color:#5c7080;
  pointer-events:none; }
  .bp3-html-select .bp3-disabled.bp3-icon,
  .bp3-select .bp3-disabled.bp3-icon, .bp3-disabled.bp3-select::after{
    color:rgba(92, 112, 128, 0.6); }
.bp3-html-select,
.bp3-select{
  display:inline-block;
  position:relative;
  vertical-align:middle;
  letter-spacing:normal; }
  .bp3-html-select select::-ms-expand,
  .bp3-select select::-ms-expand{
    display:none; }
  .bp3-html-select .bp3-icon,
  .bp3-select .bp3-icon{
    color:#5c7080; }
    .bp3-html-select .bp3-icon:hover,
    .bp3-select .bp3-icon:hover{
      color:#182026; }
    .bp3-dark .bp3-html-select .bp3-icon, .bp3-dark
    .bp3-select .bp3-icon{
      color:#a7b6c2; }
      .bp3-dark .bp3-html-select .bp3-icon:hover, .bp3-dark
      .bp3-select .bp3-icon:hover{
        color:#f5f8fa; }
  .bp3-html-select.bp3-large::after,
  .bp3-html-select.bp3-large .bp3-icon,
  .bp3-select.bp3-large::after,
  .bp3-select.bp3-large .bp3-icon{
    top:12px;
    right:12px; }
  .bp3-html-select.bp3-fill,
  .bp3-html-select.bp3-fill select,
  .bp3-select.bp3-fill,
  .bp3-select.bp3-fill select{
    width:100%; }
  .bp3-dark .bp3-html-select option, .bp3-dark
  .bp3-select option{
    background-color:#30404d;
    color:#f5f8fa; }
  .bp3-dark .bp3-html-select::after, .bp3-dark
  .bp3-select::after{
    color:#a7b6c2; }

.bp3-select::after{
  line-height:1;
  font-family:"Icons16", sans-serif;
  font-size:16px;
  font-weight:400;
  font-style:normal;
  -moz-osx-font-smoothing:grayscale;
  -webkit-font-smoothing:antialiased;
  content:""; }
.bp3-running-text table, table.bp3-html-table{
  border-spacing:0;
  font-size:14px; }
  .bp3-running-text table th, table.bp3-html-table th,
  .bp3-running-text table td,
  table.bp3-html-table td{
    padding:11px;
    vertical-align:top;
    text-align:left; }
  .bp3-running-text table th, table.bp3-html-table th{
    color:#182026;
    font-weight:600; }
  
  .bp3-running-text table td,
  table.bp3-html-table td{
    color:#182026; }
  .bp3-running-text table tbody tr:first-child th, table.bp3-html-table tbody tr:first-child th,
  .bp3-running-text table tbody tr:first-child td,
  table.bp3-html-table tbody tr:first-child td{
    -webkit-box-shadow:inset 0 1px 0 0 rgba(16, 22, 26, 0.15);
            box-shadow:inset 0 1px 0 0 rgba(16, 22, 26, 0.15); }
  .bp3-dark .bp3-running-text table th, .bp3-running-text .bp3-dark table th, .bp3-dark table.bp3-html-table th{
    color:#f5f8fa; }
  .bp3-dark .bp3-running-text table td, .bp3-running-text .bp3-dark table td, .bp3-dark table.bp3-html-table td{
    color:#f5f8fa; }
  .bp3-dark .bp3-running-text table tbody tr:first-child th, .bp3-running-text .bp3-dark table tbody tr:first-child th, .bp3-dark table.bp3-html-table tbody tr:first-child th,
  .bp3-dark .bp3-running-text table tbody tr:first-child td,
  .bp3-running-text .bp3-dark table tbody tr:first-child td,
  .bp3-dark table.bp3-html-table tbody tr:first-child td{
    -webkit-box-shadow:inset 0 1px 0 0 rgba(255, 255, 255, 0.15);
            box-shadow:inset 0 1px 0 0 rgba(255, 255, 255, 0.15); }

table.bp3-html-table.bp3-html-table-condensed th,
table.bp3-html-table.bp3-html-table-condensed td, table.bp3-html-table.bp3-small th,
table.bp3-html-table.bp3-small td{
  padding-top:6px;
  padding-bottom:6px; }

table.bp3-html-table.bp3-html-table-striped tbody tr:nth-child(odd) td{
  background:rgba(191, 204, 214, 0.15); }

table.bp3-html-table.bp3-html-table-bordered th:not(:first-child){
  -webkit-box-shadow:inset 1px 0 0 0 rgba(16, 22, 26, 0.15);
          box-shadow:inset 1px 0 0 0 rgba(16, 22, 26, 0.15); }

table.bp3-html-table.bp3-html-table-bordered tbody tr td{
  -webkit-box-shadow:inset 0 1px 0 0 rgba(16, 22, 26, 0.15);
          box-shadow:inset 0 1px 0 0 rgba(16, 22, 26, 0.15); }
  table.bp3-html-table.bp3-html-table-bordered tbody tr td:not(:first-child){
    -webkit-box-shadow:inset 1px 1px 0 0 rgba(16, 22, 26, 0.15);
            box-shadow:inset 1px 1px 0 0 rgba(16, 22, 26, 0.15); }

table.bp3-html-table.bp3-html-table-bordered.bp3-html-table-striped tbody tr:not(:first-child) td{
  -webkit-box-shadow:none;
          box-shadow:none; }
  table.bp3-html-table.bp3-html-table-bordered.bp3-html-table-striped tbody tr:not(:first-child) td:not(:first-child){
    -webkit-box-shadow:inset 1px 0 0 0 rgba(16, 22, 26, 0.15);
            box-shadow:inset 1px 0 0 0 rgba(16, 22, 26, 0.15); }

table.bp3-html-table.bp3-interactive tbody tr:hover td{
  background-color:rgba(191, 204, 214, 0.3);
  cursor:pointer; }

table.bp3-html-table.bp3-interactive tbody tr:active td{
  background-color:rgba(191, 204, 214, 0.4); }

.bp3-dark table.bp3-html-table.bp3-html-table-striped tbody tr:nth-child(odd) td{
  background:rgba(92, 112, 128, 0.15); }

.bp3-dark table.bp3-html-table.bp3-html-table-bordered th:not(:first-child){
  -webkit-box-shadow:inset 1px 0 0 0 rgba(255, 255, 255, 0.15);
          box-shadow:inset 1px 0 0 0 rgba(255, 255, 255, 0.15); }

.bp3-dark table.bp3-html-table.bp3-html-table-bordered tbody tr td{
  -webkit-box-shadow:inset 0 1px 0 0 rgba(255, 255, 255, 0.15);
          box-shadow:inset 0 1px 0 0 rgba(255, 255, 255, 0.15); }
  .bp3-dark table.bp3-html-table.bp3-html-table-bordered tbody tr td:not(:first-child){
    -webkit-box-shadow:inset 1px 1px 0 0 rgba(255, 255, 255, 0.15);
            box-shadow:inset 1px 1px 0 0 rgba(255, 255, 255, 0.15); }

.bp3-dark table.bp3-html-table.bp3-html-table-bordered.bp3-html-table-striped tbody tr:not(:first-child) td{
  -webkit-box-shadow:inset 1px 0 0 0 rgba(255, 255, 255, 0.15);
          box-shadow:inset 1px 0 0 0 rgba(255, 255, 255, 0.15); }
  .bp3-dark table.bp3-html-table.bp3-html-table-bordered.bp3-html-table-striped tbody tr:not(:first-child) td:first-child{
    -webkit-box-shadow:none;
            box-shadow:none; }

.bp3-dark table.bp3-html-table.bp3-interactive tbody tr:hover td{
  background-color:rgba(92, 112, 128, 0.3);
  cursor:pointer; }

.bp3-dark table.bp3-html-table.bp3-interactive tbody tr:active td{
  background-color:rgba(92, 112, 128, 0.4); }

.bp3-key-combo{
  display:-webkit-box;
  display:-ms-flexbox;
  display:flex;
  -webkit-box-orient:horizontal;
  -webkit-box-direction:normal;
      -ms-flex-direction:row;
          flex-direction:row;
  -webkit-box-align:center;
      -ms-flex-align:center;
          align-items:center; }
  .bp3-key-combo > *{
    -webkit-box-flex:0;
        -ms-flex-positive:0;
            flex-grow:0;
    -ms-flex-negative:0;
        flex-shrink:0; }
  .bp3-key-combo > .bp3-fill{
    -webkit-box-flex:1;
        -ms-flex-positive:1;
            flex-grow:1;
    -ms-flex-negative:1;
        flex-shrink:1; }
  .bp3-key-combo::before,
  .bp3-key-combo > *{
    margin-right:5px; }
  .bp3-key-combo:empty::before,
  .bp3-key-combo > :last-child{
    margin-right:0; }

.bp3-hotkey-dialog{
  top:40px;
  padding-bottom:0; }
  .bp3-hotkey-dialog .bp3-dialog-body{
    margin:0;
    padding:0; }
  .bp3-hotkey-dialog .bp3-hotkey-label{
    -webkit-box-flex:1;
        -ms-flex-positive:1;
            flex-grow:1; }

.bp3-hotkey-column{
  margin:auto;
  max-height:80vh;
  overflow-y:auto;
  padding:30px; }
  .bp3-hotkey-column .bp3-heading{
    margin-bottom:20px; }
    .bp3-hotkey-column .bp3-heading:not(:first-child){
      margin-top:40px; }

.bp3-hotkey{
  display:-webkit-box;
  display:-ms-flexbox;
  display:flex;
  -webkit-box-align:center;
      -ms-flex-align:center;
          align-items:center;
  -webkit-box-pack:justify;
      -ms-flex-pack:justify;
          justify-content:space-between;
  margin-right:0;
  margin-left:0; }
  .bp3-hotkey:not(:last-child){
    margin-bottom:10px; }
.bp3-icon{
  display:inline-block;
  -webkit-box-flex:0;
      -ms-flex:0 0 auto;
          flex:0 0 auto;
  vertical-align:text-bottom; }
  .bp3-icon:not(:empty)::before{
    content:"" !important;
    content:unset !important; }
  .bp3-icon > svg{
    display:block; }
    .bp3-icon > svg:not([fill]){
      fill:currentColor; }

.bp3-icon.bp3-intent-primary, .bp3-icon-standard.bp3-intent-primary, .bp3-icon-large.bp3-intent-primary{
  color:#106ba3; }
  .bp3-dark .bp3-icon.bp3-intent-primary, .bp3-dark .bp3-icon-standard.bp3-intent-primary, .bp3-dark .bp3-icon-large.bp3-intent-primary{
    color:#48aff0; }

.bp3-icon.bp3-intent-success, .bp3-icon-standard.bp3-intent-success, .bp3-icon-large.bp3-intent-success{
  color:#0d8050; }
  .bp3-dark .bp3-icon.bp3-intent-success, .bp3-dark .bp3-icon-standard.bp3-intent-success, .bp3-dark .bp3-icon-large.bp3-intent-success{
    color:#3dcc91; }

.bp3-icon.bp3-intent-warning, .bp3-icon-standard.bp3-intent-warning, .bp3-icon-large.bp3-intent-warning{
  color:#bf7326; }
  .bp3-dark .bp3-icon.bp3-intent-warning, .bp3-dark .bp3-icon-standard.bp3-intent-warning, .bp3-dark .bp3-icon-large.bp3-intent-warning{
    color:#ffb366; }

.bp3-icon.bp3-intent-danger, .bp3-icon-standard.bp3-intent-danger, .bp3-icon-large.bp3-intent-danger{
  color:#c23030; }
  .bp3-dark .bp3-icon.bp3-intent-danger, .bp3-dark .bp3-icon-standard.bp3-intent-danger, .bp3-dark .bp3-icon-large.bp3-intent-danger{
    color:#ff7373; }

span.bp3-icon-standard{
  line-height:1;
  font-family:"Icons16", sans-serif;
  font-size:16px;
  font-weight:400;
  font-style:normal;
  -moz-osx-font-smoothing:grayscale;
  -webkit-font-smoothing:antialiased;
  display:inline-block; }

span.bp3-icon-large{
  line-height:1;
  font-family:"Icons20", sans-serif;
  font-size:20px;
  font-weight:400;
  font-style:normal;
  -moz-osx-font-smoothing:grayscale;
  -webkit-font-smoothing:antialiased;
  display:inline-block; }

span.bp3-icon:empty{
  line-height:1;
  font-family:"Icons20";
  font-size:inherit;
  font-weight:400;
  font-style:normal; }
  span.bp3-icon:empty::before{
    -moz-osx-font-smoothing:grayscale;
    -webkit-font-smoothing:antialiased; }

.bp3-icon-add::before{
  content:""; }

.bp3-icon-add-column-left::before{
  content:""; }

.bp3-icon-add-column-right::before{
  content:""; }

.bp3-icon-add-row-bottom::before{
  content:""; }

.bp3-icon-add-row-top::before{
  content:""; }

.bp3-icon-add-to-artifact::before{
  content:""; }

.bp3-icon-add-to-folder::before{
  content:""; }

.bp3-icon-airplane::before{
  content:""; }

.bp3-icon-align-center::before{
  content:""; }

.bp3-icon-align-justify::before{
  content:""; }

.bp3-icon-align-left::before{
  content:""; }

.bp3-icon-align-right::before{
  content:""; }

.bp3-icon-alignment-bottom::before{
  content:""; }

.bp3-icon-alignment-horizontal-center::before{
  content:""; }

.bp3-icon-alignment-left::before{
  content:""; }

.bp3-icon-alignment-right::before{
  content:""; }

.bp3-icon-alignment-top::before{
  content:""; }

.bp3-icon-alignment-vertical-center::before{
  content:""; }

.bp3-icon-annotation::before{
  content:""; }

.bp3-icon-application::before{
  content:""; }

.bp3-icon-applications::before{
  content:""; }

.bp3-icon-archive::before{
  content:""; }

.bp3-icon-arrow-bottom-left::before{
  content:"↙"; }

.bp3-icon-arrow-bottom-right::before{
  content:"↘"; }

.bp3-icon-arrow-down::before{
  content:"↓"; }

.bp3-icon-arrow-left::before{
  content:"←"; }

.bp3-icon-arrow-right::before{
  content:"→"; }

.bp3-icon-arrow-top-left::before{
  content:"↖"; }

.bp3-icon-arrow-top-right::before{
  content:"↗"; }

.bp3-icon-arrow-up::before{
  content:"↑"; }

.bp3-icon-arrows-horizontal::before{
  content:"↔"; }

.bp3-icon-arrows-vertical::before{
  content:"↕"; }

.bp3-icon-asterisk::before{
  content:"*"; }

.bp3-icon-automatic-updates::before{
  content:""; }

.bp3-icon-badge::before{
  content:""; }

.bp3-icon-ban-circle::before{
  content:""; }

.bp3-icon-bank-account::before{
  content:""; }

.bp3-icon-barcode::before{
  content:""; }

.bp3-icon-blank::before{
  content:""; }

.bp3-icon-blocked-person::before{
  content:""; }

.bp3-icon-bold::before{
  content:""; }

.bp3-icon-book::before{
  content:""; }

.bp3-icon-bookmark::before{
  content:""; }

.bp3-icon-box::before{
  content:""; }

.bp3-icon-briefcase::before{
  content:""; }

.bp3-icon-bring-data::before{
  content:""; }

.bp3-icon-build::before{
  content:""; }

.bp3-icon-calculator::before{
  content:""; }

.bp3-icon-calendar::before{
  content:""; }

.bp3-icon-camera::before{
  content:""; }

.bp3-icon-caret-down::before{
  content:"⌄"; }

.bp3-icon-caret-left::before{
  content:"〈"; }

.bp3-icon-caret-right::before{
  content:"〉"; }

.bp3-icon-caret-up::before{
  content:"⌃"; }

.bp3-icon-cell-tower::before{
  content:""; }

.bp3-icon-changes::before{
  content:""; }

.bp3-icon-chart::before{
  content:""; }

.bp3-icon-chat::before{
  content:""; }

.bp3-icon-chevron-backward::before{
  content:""; }

.bp3-icon-chevron-down::before{
  content:""; }

.bp3-icon-chevron-forward::before{
  content:""; }

.bp3-icon-chevron-left::before{
  content:""; }

.bp3-icon-chevron-right::before{
  content:""; }

.bp3-icon-chevron-up::before{
  content:""; }

.bp3-icon-circle::before{
  content:""; }

.bp3-icon-circle-arrow-down::before{
  content:""; }

.bp3-icon-circle-arrow-left::before{
  content:""; }

.bp3-icon-circle-arrow-right::before{
  content:""; }

.bp3-icon-circle-arrow-up::before{
  content:""; }

.bp3-icon-citation::before{
  content:""; }

.bp3-icon-clean::before{
  content:""; }

.bp3-icon-clipboard::before{
  content:""; }

.bp3-icon-cloud::before{
  content:"☁"; }

.bp3-icon-cloud-download::before{
  content:""; }

.bp3-icon-cloud-upload::before{
  content:""; }

.bp3-icon-code::before{
  content:""; }

.bp3-icon-code-block::before{
  content:""; }

.bp3-icon-cog::before{
  content:""; }

.bp3-icon-collapse-all::before{
  content:""; }

.bp3-icon-column-layout::before{
  content:""; }

.bp3-icon-comment::before{
  content:""; }

.bp3-icon-comparison::before{
  content:""; }

.bp3-icon-compass::before{
  content:""; }

.bp3-icon-compressed::before{
  content:""; }

.bp3-icon-confirm::before{
  content:""; }

.bp3-icon-console::before{
  content:""; }

.bp3-icon-contrast::before{
  content:""; }

.bp3-icon-control::before{
  content:""; }

.bp3-icon-credit-card::before{
  content:""; }

.bp3-icon-cross::before{
  content:"✗"; }

.bp3-icon-crown::before{
  content:""; }

.bp3-icon-cube::before{
  content:""; }

.bp3-icon-cube-add::before{
  content:""; }

.bp3-icon-cube-remove::before{
  content:""; }

.bp3-icon-curved-range-chart::before{
  content:""; }

.bp3-icon-cut::before{
  content:""; }

.bp3-icon-dashboard::before{
  content:""; }

.bp3-icon-data-lineage::before{
  content:""; }

.bp3-icon-database::before{
  content:""; }

.bp3-icon-delete::before{
  content:""; }

.bp3-icon-delta::before{
  content:"Δ"; }

.bp3-icon-derive-column::before{
  content:""; }

.bp3-icon-desktop::before{
  content:""; }

.bp3-icon-diagram-tree::before{
  content:""; }

.bp3-icon-direction-left::before{
  content:""; }

.bp3-icon-direction-right::before{
  content:""; }

.bp3-icon-disable::before{
  content:""; }

.bp3-icon-document::before{
  content:""; }

.bp3-icon-document-open::before{
  content:""; }

.bp3-icon-document-share::before{
  content:""; }

.bp3-icon-dollar::before{
  content:"$"; }

.bp3-icon-dot::before{
  content:"•"; }

.bp3-icon-double-caret-horizontal::before{
  content:""; }

.bp3-icon-double-caret-vertical::before{
  content:""; }

.bp3-icon-double-chevron-down::before{
  content:""; }

.bp3-icon-double-chevron-left::before{
  content:""; }

.bp3-icon-double-chevron-right::before{
  content:""; }

.bp3-icon-double-chevron-up::before{
  content:""; }

.bp3-icon-doughnut-chart::before{
  content:""; }

.bp3-icon-download::before{
  content:""; }

.bp3-icon-drag-handle-horizontal::before{
  content:""; }

.bp3-icon-drag-handle-vertical::before{
  content:""; }

.bp3-icon-draw::before{
  content:""; }

.bp3-icon-drive-time::before{
  content:""; }

.bp3-icon-duplicate::before{
  content:""; }

.bp3-icon-edit::before{
  content:"✎"; }

.bp3-icon-eject::before{
  content:"⏏"; }

.bp3-icon-endorsed::before{
  content:""; }

.bp3-icon-envelope::before{
  content:"✉"; }

.bp3-icon-equals::before{
  content:""; }

.bp3-icon-eraser::before{
  content:""; }

.bp3-icon-error::before{
  content:""; }

.bp3-icon-euro::before{
  content:"€"; }

.bp3-icon-exchange::before{
  content:""; }

.bp3-icon-exclude-row::before{
  content:""; }

.bp3-icon-expand-all::before{
  content:""; }

.bp3-icon-export::before{
  content:""; }

.bp3-icon-eye-off::before{
  content:""; }

.bp3-icon-eye-on::before{
  content:""; }

.bp3-icon-eye-open::before{
  content:""; }

.bp3-icon-fast-backward::before{
  content:""; }

.bp3-icon-fast-forward::before{
  content:""; }

.bp3-icon-feed::before{
  content:""; }

.bp3-icon-feed-subscribed::before{
  content:""; }

.bp3-icon-film::before{
  content:""; }

.bp3-icon-filter::before{
  content:""; }

.bp3-icon-filter-keep::before{
  content:""; }

.bp3-icon-filter-list::before{
  content:""; }

.bp3-icon-filter-open::before{
  content:""; }

.bp3-icon-filter-remove::before{
  content:""; }

.bp3-icon-flag::before{
  content:"⚑"; }

.bp3-icon-flame::before{
  content:""; }

.bp3-icon-flash::before{
  content:""; }

.bp3-icon-floppy-disk::before{
  content:""; }

.bp3-icon-flow-branch::before{
  content:""; }

.bp3-icon-flow-end::before{
  content:""; }

.bp3-icon-flow-linear::before{
  content:""; }

.bp3-icon-flow-review::before{
  content:""; }

.bp3-icon-flow-review-branch::before{
  content:""; }

.bp3-icon-flows::before{
  content:""; }

.bp3-icon-folder-close::before{
  content:""; }

.bp3-icon-folder-new::before{
  content:""; }

.bp3-icon-folder-open::before{
  content:""; }

.bp3-icon-folder-shared::before{
  content:""; }

.bp3-icon-folder-shared-open::before{
  content:""; }

.bp3-icon-follower::before{
  content:""; }

.bp3-icon-following::before{
  content:""; }

.bp3-icon-font::before{
  content:""; }

.bp3-icon-fork::before{
  content:""; }

.bp3-icon-form::before{
  content:""; }

.bp3-icon-full-circle::before{
  content:""; }

.bp3-icon-full-stacked-chart::before{
  content:""; }

.bp3-icon-fullscreen::before{
  content:""; }

.bp3-icon-function::before{
  content:""; }

.bp3-icon-gantt-chart::before{
  content:""; }

.bp3-icon-geolocation::before{
  content:""; }

.bp3-icon-geosearch::before{
  content:""; }

.bp3-icon-git-branch::before{
  content:""; }

.bp3-icon-git-commit::before{
  content:""; }

.bp3-icon-git-merge::before{
  content:""; }

.bp3-icon-git-new-branch::before{
  content:""; }

.bp3-icon-git-pull::before{
  content:""; }

.bp3-icon-git-push::before{
  content:""; }

.bp3-icon-git-repo::before{
  content:""; }

.bp3-icon-glass::before{
  content:""; }

.bp3-icon-globe::before{
  content:""; }

.bp3-icon-globe-network::before{
  content:""; }

.bp3-icon-graph::before{
  content:""; }

.bp3-icon-graph-remove::before{
  content:""; }

.bp3-icon-greater-than::before{
  content:""; }

.bp3-icon-greater-than-or-equal-to::before{
  content:""; }

.bp3-icon-grid::before{
  content:""; }

.bp3-icon-grid-view::before{
  content:""; }

.bp3-icon-group-objects::before{
  content:""; }

.bp3-icon-grouped-bar-chart::before{
  content:""; }

.bp3-icon-hand::before{
  content:""; }

.bp3-icon-hand-down::before{
  content:""; }

.bp3-icon-hand-left::before{
  content:""; }

.bp3-icon-hand-right::before{
  content:""; }

.bp3-icon-hand-up::before{
  content:""; }

.bp3-icon-header::before{
  content:""; }

.bp3-icon-header-one::before{
  content:""; }

.bp3-icon-header-two::before{
  content:""; }

.bp3-icon-headset::before{
  content:""; }

.bp3-icon-heart::before{
  content:"♥"; }

.bp3-icon-heart-broken::before{
  content:""; }

.bp3-icon-heat-grid::before{
  content:""; }

.bp3-icon-heatmap::before{
  content:""; }

.bp3-icon-help::before{
  content:"?"; }

.bp3-icon-helper-management::before{
  content:""; }

.bp3-icon-highlight::before{
  content:""; }

.bp3-icon-history::before{
  content:""; }

.bp3-icon-home::before{
  content:"⌂"; }

.bp3-icon-horizontal-bar-chart::before{
  content:""; }

.bp3-icon-horizontal-bar-chart-asc::before{
  content:""; }

.bp3-icon-horizontal-bar-chart-desc::before{
  content:""; }

.bp3-icon-horizontal-distribution::before{
  content:""; }

.bp3-icon-id-number::before{
  content:""; }

.bp3-icon-image-rotate-left::before{
  content:""; }

.bp3-icon-image-rotate-right::before{
  content:""; }

.bp3-icon-import::before{
  content:""; }

.bp3-icon-inbox::before{
  content:""; }

.bp3-icon-inbox-filtered::before{
  content:""; }

.bp3-icon-inbox-geo::before{
  content:""; }

.bp3-icon-inbox-search::before{
  content:""; }

.bp3-icon-inbox-update::before{
  content:""; }

.bp3-icon-info-sign::before{
  content:"ℹ"; }

.bp3-icon-inheritance::before{
  content:""; }

.bp3-icon-inner-join::before{
  content:""; }

.bp3-icon-insert::before{
  content:""; }

.bp3-icon-intersection::before{
  content:""; }

.bp3-icon-ip-address::before{
  content:""; }

.bp3-icon-issue::before{
  content:""; }

.bp3-icon-issue-closed::before{
  content:""; }

.bp3-icon-issue-new::before{
  content:""; }

.bp3-icon-italic::before{
  content:""; }

.bp3-icon-join-table::before{
  content:""; }

.bp3-icon-key::before{
  content:""; }

.bp3-icon-key-backspace::before{
  content:""; }

.bp3-icon-key-command::before{
  content:""; }

.bp3-icon-key-control::before{
  content:""; }

.bp3-icon-key-delete::before{
  content:""; }

.bp3-icon-key-enter::before{
  content:""; }

.bp3-icon-key-escape::before{
  content:""; }

.bp3-icon-key-option::before{
  content:""; }

.bp3-icon-key-shift::before{
  content:""; }

.bp3-icon-key-tab::before{
  content:""; }

.bp3-icon-known-vehicle::before{
  content:""; }

.bp3-icon-label::before{
  content:""; }

.bp3-icon-layer::before{
  content:""; }

.bp3-icon-layers::before{
  content:""; }

.bp3-icon-layout::before{
  content:""; }

.bp3-icon-layout-auto::before{
  content:""; }

.bp3-icon-layout-balloon::before{
  content:""; }

.bp3-icon-layout-circle::before{
  content:""; }

.bp3-icon-layout-grid::before{
  content:""; }

.bp3-icon-layout-group-by::before{
  content:""; }

.bp3-icon-layout-hierarchy::before{
  content:""; }

.bp3-icon-layout-linear::before{
  content:""; }

.bp3-icon-layout-skew-grid::before{
  content:""; }

.bp3-icon-layout-sorted-clusters::before{
  content:""; }

.bp3-icon-learning::before{
  content:""; }

.bp3-icon-left-join::before{
  content:""; }

.bp3-icon-less-than::before{
  content:""; }

.bp3-icon-less-than-or-equal-to::before{
  content:""; }

.bp3-icon-lifesaver::before{
  content:""; }

.bp3-icon-lightbulb::before{
  content:""; }

.bp3-icon-link::before{
  content:""; }

.bp3-icon-list::before{
  content:"☰"; }

.bp3-icon-list-columns::before{
  content:""; }

.bp3-icon-list-detail-view::before{
  content:""; }

.bp3-icon-locate::before{
  content:""; }

.bp3-icon-lock::before{
  content:""; }

.bp3-icon-log-in::before{
  content:""; }

.bp3-icon-log-out::before{
  content:""; }

.bp3-icon-manual::before{
  content:""; }

.bp3-icon-manually-entered-data::before{
  content:""; }

.bp3-icon-map::before{
  content:""; }

.bp3-icon-map-create::before{
  content:""; }

.bp3-icon-map-marker::before{
  content:""; }

.bp3-icon-maximize::before{
  content:""; }

.bp3-icon-media::before{
  content:""; }

.bp3-icon-menu::before{
  content:""; }

.bp3-icon-menu-closed::before{
  content:""; }

.bp3-icon-menu-open::before{
  content:""; }

.bp3-icon-merge-columns::before{
  content:""; }

.bp3-icon-merge-links::before{
  content:""; }

.bp3-icon-minimize::before{
  content:""; }

.bp3-icon-minus::before{
  content:"−"; }

.bp3-icon-mobile-phone::before{
  content:""; }

.bp3-icon-mobile-video::before{
  content:""; }

.bp3-icon-moon::before{
  content:""; }

.bp3-icon-more::before{
  content:""; }

.bp3-icon-mountain::before{
  content:""; }

.bp3-icon-move::before{
  content:""; }

.bp3-icon-mugshot::before{
  content:""; }

.bp3-icon-multi-select::before{
  content:""; }

.bp3-icon-music::before{
  content:""; }

.bp3-icon-new-drawing::before{
  content:""; }

.bp3-icon-new-grid-item::before{
  content:""; }

.bp3-icon-new-layer::before{
  content:""; }

.bp3-icon-new-layers::before{
  content:""; }

.bp3-icon-new-link::before{
  content:""; }

.bp3-icon-new-object::before{
  content:""; }

.bp3-icon-new-person::before{
  content:""; }

.bp3-icon-new-prescription::before{
  content:""; }

.bp3-icon-new-text-box::before{
  content:""; }

.bp3-icon-ninja::before{
  content:""; }

.bp3-icon-not-equal-to::before{
  content:""; }

.bp3-icon-notifications::before{
  content:""; }

.bp3-icon-notifications-updated::before{
  content:""; }

.bp3-icon-numbered-list::before{
  content:""; }

.bp3-icon-numerical::before{
  content:""; }

.bp3-icon-office::before{
  content:""; }

.bp3-icon-offline::before{
  content:""; }

.bp3-icon-oil-field::before{
  content:""; }

.bp3-icon-one-column::before{
  content:""; }

.bp3-icon-outdated::before{
  content:""; }

.bp3-icon-page-layout::before{
  content:""; }

.bp3-icon-panel-stats::before{
  content:""; }

.bp3-icon-panel-table::before{
  content:""; }

.bp3-icon-paperclip::before{
  content:""; }

.bp3-icon-paragraph::before{
  content:""; }

.bp3-icon-path::before{
  content:""; }

.bp3-icon-path-search::before{
  content:""; }

.bp3-icon-pause::before{
  content:""; }

.bp3-icon-people::before{
  content:""; }

.bp3-icon-percentage::before{
  content:""; }

.bp3-icon-person::before{
  content:""; }

.bp3-icon-phone::before{
  content:"☎"; }

.bp3-icon-pie-chart::before{
  content:""; }

.bp3-icon-pin::before{
  content:""; }

.bp3-icon-pivot::before{
  content:""; }

.bp3-icon-pivot-table::before{
  content:""; }

.bp3-icon-play::before{
  content:""; }

.bp3-icon-plus::before{
  content:"+"; }

.bp3-icon-polygon-filter::before{
  content:""; }

.bp3-icon-power::before{
  content:""; }

.bp3-icon-predictive-analysis::before{
  content:""; }

.bp3-icon-prescription::before{
  content:""; }

.bp3-icon-presentation::before{
  content:""; }

.bp3-icon-print::before{
  content:"⎙"; }

.bp3-icon-projects::before{
  content:""; }

.bp3-icon-properties::before{
  content:""; }

.bp3-icon-property::before{
  content:""; }

.bp3-icon-publish-function::before{
  content:""; }

.bp3-icon-pulse::before{
  content:""; }

.bp3-icon-random::before{
  content:""; }

.bp3-icon-record::before{
  content:""; }

.bp3-icon-redo::before{
  content:""; }

.bp3-icon-refresh::before{
  content:""; }

.bp3-icon-regression-chart::before{
  content:""; }

.bp3-icon-remove::before{
  content:""; }

.bp3-icon-remove-column::before{
  content:""; }

.bp3-icon-remove-column-left::before{
  content:""; }

.bp3-icon-remove-column-right::before{
  content:""; }

.bp3-icon-remove-row-bottom::before{
  content:""; }

.bp3-icon-remove-row-top::before{
  content:""; }

.bp3-icon-repeat::before{
  content:""; }

.bp3-icon-reset::before{
  content:""; }

.bp3-icon-resolve::before{
  content:""; }

.bp3-icon-rig::before{
  content:""; }

.bp3-icon-right-join::before{
  content:""; }

.bp3-icon-ring::before{
  content:""; }

.bp3-icon-rotate-document::before{
  content:""; }

.bp3-icon-rotate-page::before{
  content:""; }

.bp3-icon-satellite::before{
  content:""; }

.bp3-icon-saved::before{
  content:""; }

.bp3-icon-scatter-plot::before{
  content:""; }

.bp3-icon-search::before{
  content:""; }

.bp3-icon-search-around::before{
  content:""; }

.bp3-icon-search-template::before{
  content:""; }

.bp3-icon-search-text::before{
  content:""; }

.bp3-icon-segmented-control::before{
  content:""; }

.bp3-icon-select::before{
  content:""; }

.bp3-icon-selection::before{
  content:"⦿"; }

.bp3-icon-send-to::before{
  content:""; }

.bp3-icon-send-to-graph::before{
  content:""; }

.bp3-icon-send-to-map::before{
  content:""; }

.bp3-icon-series-add::before{
  content:""; }

.bp3-icon-series-configuration::before{
  content:""; }

.bp3-icon-series-derived::before{
  content:""; }

.bp3-icon-series-filtered::before{
  content:""; }

.bp3-icon-series-search::before{
  content:""; }

.bp3-icon-settings::before{
  content:""; }

.bp3-icon-share::before{
  content:""; }

.bp3-icon-shield::before{
  content:""; }

.bp3-icon-shop::before{
  content:""; }

.bp3-icon-shopping-cart::before{
  content:""; }

.bp3-icon-signal-search::before{
  content:""; }

.bp3-icon-sim-card::before{
  content:""; }

.bp3-icon-slash::before{
  content:""; }

.bp3-icon-small-cross::before{
  content:""; }

.bp3-icon-small-minus::before{
  content:""; }

.bp3-icon-small-plus::before{
  content:""; }

.bp3-icon-small-tick::before{
  content:""; }

.bp3-icon-snowflake::before{
  content:""; }

.bp3-icon-social-media::before{
  content:""; }

.bp3-icon-sort::before{
  content:""; }

.bp3-icon-sort-alphabetical::before{
  content:""; }

.bp3-icon-sort-alphabetical-desc::before{
  content:""; }

.bp3-icon-sort-asc::before{
  content:""; }

.bp3-icon-sort-desc::before{
  content:""; }

.bp3-icon-sort-numerical::before{
  content:""; }

.bp3-icon-sort-numerical-desc::before{
  content:""; }

.bp3-icon-split-columns::before{
  content:""; }

.bp3-icon-square::before{
  content:""; }

.bp3-icon-stacked-chart::before{
  content:""; }

.bp3-icon-star::before{
  content:"★"; }

.bp3-icon-star-empty::before{
  content:"☆"; }

.bp3-icon-step-backward::before{
  content:""; }

.bp3-icon-step-chart::before{
  content:""; }

.bp3-icon-step-forward::before{
  content:""; }

.bp3-icon-stop::before{
  content:""; }

.bp3-icon-stopwatch::before{
  content:""; }

.bp3-icon-strikethrough::before{
  content:""; }

.bp3-icon-style::before{
  content:""; }

.bp3-icon-swap-horizontal::before{
  content:""; }

.bp3-icon-swap-vertical::before{
  content:""; }

.bp3-icon-symbol-circle::before{
  content:""; }

.bp3-icon-symbol-cross::before{
  content:""; }

.bp3-icon-symbol-diamond::before{
  content:""; }

.bp3-icon-symbol-square::before{
  content:""; }

.bp3-icon-symbol-triangle-down::before{
  content:""; }

.bp3-icon-symbol-triangle-up::before{
  content:""; }

.bp3-icon-tag::before{
  content:""; }

.bp3-icon-take-action::before{
  content:""; }

.bp3-icon-taxi::before{
  content:""; }

.bp3-icon-text-highlight::before{
  content:""; }

.bp3-icon-th::before{
  content:""; }

.bp3-icon-th-derived::before{
  content:""; }

.bp3-icon-th-disconnect::before{
  content:""; }

.bp3-icon-th-filtered::before{
  content:""; }

.bp3-icon-th-list::before{
  content:""; }

.bp3-icon-thumbs-down::before{
  content:""; }

.bp3-icon-thumbs-up::before{
  content:""; }

.bp3-icon-tick::before{
  content:"✓"; }

.bp3-icon-tick-circle::before{
  content:""; }

.bp3-icon-time::before{
  content:"⏲"; }

.bp3-icon-timeline-area-chart::before{
  content:""; }

.bp3-icon-timeline-bar-chart::before{
  content:""; }

.bp3-icon-timeline-events::before{
  content:""; }

.bp3-icon-timeline-line-chart::before{
  content:""; }

.bp3-icon-tint::before{
  content:""; }

.bp3-icon-torch::before{
  content:""; }

.bp3-icon-tractor::before{
  content:""; }

.bp3-icon-train::before{
  content:""; }

.bp3-icon-translate::before{
  content:""; }

.bp3-icon-trash::before{
  content:""; }

.bp3-icon-tree::before{
  content:""; }

.bp3-icon-trending-down::before{
  content:""; }

.bp3-icon-trending-up::before{
  content:""; }

.bp3-icon-truck::before{
  content:""; }

.bp3-icon-two-columns::before{
  content:""; }

.bp3-icon-unarchive::before{
  content:""; }

.bp3-icon-underline::before{
  content:"⎁"; }

.bp3-icon-undo::before{
  content:"⎌"; }

.bp3-icon-ungroup-objects::before{
  content:""; }

.bp3-icon-unknown-vehicle::before{
  content:""; }

.bp3-icon-unlock::before{
  content:""; }

.bp3-icon-unpin::before{
  content:""; }

.bp3-icon-unresolve::before{
  content:""; }

.bp3-icon-updated::before{
  content:""; }

.bp3-icon-upload::before{
  content:""; }

.bp3-icon-user::before{
  content:""; }

.bp3-icon-variable::before{
  content:""; }

.bp3-icon-vertical-bar-chart-asc::before{
  content:""; }

.bp3-icon-vertical-bar-chart-desc::before{
  content:""; }

.bp3-icon-vertical-distribution::before{
  content:""; }

.bp3-icon-video::before{
  content:""; }

.bp3-icon-volume-down::before{
  content:""; }

.bp3-icon-volume-off::before{
  content:""; }

.bp3-icon-volume-up::before{
  content:""; }

.bp3-icon-walk::before{
  content:""; }

.bp3-icon-warning-sign::before{
  content:""; }

.bp3-icon-waterfall-chart::before{
  content:""; }

.bp3-icon-widget::before{
  content:""; }

.bp3-icon-widget-button::before{
  content:""; }

.bp3-icon-widget-footer::before{
  content:""; }

.bp3-icon-widget-header::before{
  content:""; }

.bp3-icon-wrench::before{
  content:""; }

.bp3-icon-zoom-in::before{
  content:""; }

.bp3-icon-zoom-out::before{
  content:""; }

.bp3-icon-zoom-to-fit::before{
  content:""; }
.bp3-submenu > .bp3-popover-wrapper{
  display:block; }

.bp3-submenu .bp3-popover-target{
  display:block; }

.bp3-submenu.bp3-popover{
  -webkit-box-shadow:none;
          box-shadow:none;
  padding:0 5px; }
  .bp3-submenu.bp3-popover > .bp3-popover-content{
    -webkit-box-shadow:0 0 0 1px rgba(16, 22, 26, 0.1), 0 2px 4px rgba(16, 22, 26, 0.2), 0 8px 24px rgba(16, 22, 26, 0.2);
            box-shadow:0 0 0 1px rgba(16, 22, 26, 0.1), 0 2px 4px rgba(16, 22, 26, 0.2), 0 8px 24px rgba(16, 22, 26, 0.2); }
  .bp3-dark .bp3-submenu.bp3-popover, .bp3-submenu.bp3-popover.bp3-dark{
    -webkit-box-shadow:none;
            box-shadow:none; }
    .bp3-dark .bp3-submenu.bp3-popover > .bp3-popover-content, .bp3-submenu.bp3-popover.bp3-dark > .bp3-popover-content{
      -webkit-box-shadow:0 0 0 1px rgba(16, 22, 26, 0.2), 0 2px 4px rgba(16, 22, 26, 0.4), 0 8px 24px rgba(16, 22, 26, 0.4);
              box-shadow:0 0 0 1px rgba(16, 22, 26, 0.2), 0 2px 4px rgba(16, 22, 26, 0.4), 0 8px 24px rgba(16, 22, 26, 0.4); }
.bp3-menu{
  margin:0;
  border-radius:3px;
  background:#ffffff;
  min-width:180px;
  padding:5px;
  list-style:none;
  text-align:left;
  color:#182026; }

.bp3-menu-divider{
  display:block;
  margin:5px;
  border-top:1px solid rgba(16, 22, 26, 0.15); }
  .bp3-dark .bp3-menu-divider{
    border-top-color:rgba(255, 255, 255, 0.15); }

.bp3-menu-item{
  display:-webkit-box;
  display:-ms-flexbox;
  display:flex;
  -webkit-box-orient:horizontal;
  -webkit-box-direction:normal;
      -ms-flex-direction:row;
          flex-direction:row;
  -webkit-box-align:start;
      -ms-flex-align:start;
          align-items:flex-start;
  border-radius:2px;
  padding:5px 7px;
  text-decoration:none;
  line-height:20px;
  color:inherit;
  -webkit-user-select:none;
     -moz-user-select:none;
      -ms-user-select:none;
          user-select:none; }
  .bp3-menu-item > *{
    -webkit-box-flex:0;
        -ms-flex-positive:0;
            flex-grow:0;
    -ms-flex-negative:0;
        flex-shrink:0; }
  .bp3-menu-item > .bp3-fill{
    -webkit-box-flex:1;
        -ms-flex-positive:1;
            flex-grow:1;
    -ms-flex-negative:1;
        flex-shrink:1; }
  .bp3-menu-item::before,
  .bp3-menu-item > *{
    margin-right:7px; }
  .bp3-menu-item:empty::before,
  .bp3-menu-item > :last-child{
    margin-right:0; }
  .bp3-menu-item > .bp3-fill{
    word-break:break-word; }
  .bp3-menu-item:hover, .bp3-submenu .bp3-popover-target.bp3-popover-open > .bp3-menu-item{
    background-color:rgba(167, 182, 194, 0.3);
    cursor:pointer;
    text-decoration:none; }
  .bp3-menu-item.bp3-disabled{
    background-color:inherit;
    cursor:not-allowed;
    color:rgba(92, 112, 128, 0.6); }
  .bp3-dark .bp3-menu-item{
    color:inherit; }
    .bp3-dark .bp3-menu-item:hover, .bp3-dark .bp3-submenu .bp3-popover-target.bp3-popover-open > .bp3-menu-item, .bp3-submenu .bp3-dark .bp3-popover-target.bp3-popover-open > .bp3-menu-item{
      background-color:rgba(138, 155, 168, 0.15);
      color:inherit; }
    .bp3-dark .bp3-menu-item.bp3-disabled{
      background-color:inherit;
      color:rgba(167, 182, 194, 0.6); }
  .bp3-menu-item.bp3-intent-primary{
    color:#106ba3; }
    .bp3-menu-item.bp3-intent-primary .bp3-icon{
      color:inherit; }
    .bp3-menu-item.bp3-intent-primary::before, .bp3-menu-item.bp3-intent-primary::after,
    .bp3-menu-item.bp3-intent-primary .bp3-menu-item-label{
      color:#106ba3; }
    .bp3-menu-item.bp3-intent-primary:hover, .bp3-submenu .bp3-popover-target.bp3-popover-open > .bp3-intent-primary.bp3-menu-item, .bp3-menu-item.bp3-intent-primary.bp3-active{
      background-color:#137cbd; }
    .bp3-menu-item.bp3-intent-primary:active{
      background-color:#106ba3; }
    .bp3-menu-item.bp3-intent-primary:hover, .bp3-submenu .bp3-popover-target.bp3-popover-open > .bp3-intent-primary.bp3-menu-item, .bp3-menu-item.bp3-intent-primary:hover::before, .bp3-submenu .bp3-popover-target.bp3-popover-open > .bp3-intent-primary.bp3-menu-item::before, .bp3-menu-item.bp3-intent-primary:hover::after, .bp3-submenu .bp3-popover-target.bp3-popover-open > .bp3-intent-primary.bp3-menu-item::after,
    .bp3-menu-item.bp3-intent-primary:hover .bp3-menu-item-label,
    .bp3-submenu .bp3-popover-target.bp3-popover-open > .bp3-intent-primary.bp3-menu-item .bp3-menu-item-label, .bp3-menu-item.bp3-intent-primary:active, .bp3-menu-item.bp3-intent-primary:active::before, .bp3-menu-item.bp3-intent-primary:active::after,
    .bp3-menu-item.bp3-intent-primary:active .bp3-menu-item-label, .bp3-menu-item.bp3-intent-primary.bp3-active, .bp3-menu-item.bp3-intent-primary.bp3-active::before, .bp3-menu-item.bp3-intent-primary.bp3-active::after,
    .bp3-menu-item.bp3-intent-primary.bp3-active .bp3-menu-item-label{
      color:#ffffff; }
  .bp3-menu-item.bp3-intent-success{
    color:#0d8050; }
    .bp3-menu-item.bp3-intent-success .bp3-icon{
      color:inherit; }
    .bp3-menu-item.bp3-intent-success::before, .bp3-menu-item.bp3-intent-success::after,
    .bp3-menu-item.bp3-intent-success .bp3-menu-item-label{
      color:#0d8050; }
    .bp3-menu-item.bp3-intent-success:hover, .bp3-submenu .bp3-popover-target.bp3-popover-open > .bp3-intent-success.bp3-menu-item, .bp3-menu-item.bp3-intent-success.bp3-active{
      background-color:#0f9960; }
    .bp3-menu-item.bp3-intent-success:active{
      background-color:#0d8050; }
    .bp3-menu-item.bp3-intent-success:hover, .bp3-submenu .bp3-popover-target.bp3-popover-open > .bp3-intent-success.bp3-menu-item, .bp3-menu-item.bp3-intent-success:hover::before, .bp3-submenu .bp3-popover-target.bp3-popover-open > .bp3-intent-success.bp3-menu-item::before, .bp3-menu-item.bp3-intent-success:hover::after, .bp3-submenu .bp3-popover-target.bp3-popover-open > .bp3-intent-success.bp3-menu-item::after,
    .bp3-menu-item.bp3-intent-success:hover .bp3-menu-item-label,
    .bp3-submenu .bp3-popover-target.bp3-popover-open > .bp3-intent-success.bp3-menu-item .bp3-menu-item-label, .bp3-menu-item.bp3-intent-success:active, .bp3-menu-item.bp3-intent-success:active::before, .bp3-menu-item.bp3-intent-success:active::after,
    .bp3-menu-item.bp3-intent-success:active .bp3-menu-item-label, .bp3-menu-item.bp3-intent-success.bp3-active, .bp3-menu-item.bp3-intent-success.bp3-active::before, .bp3-menu-item.bp3-intent-success.bp3-active::after,
    .bp3-menu-item.bp3-intent-success.bp3-active .bp3-menu-item-label{
      color:#ffffff; }
  .bp3-menu-item.bp3-intent-warning{
    color:#bf7326; }
    .bp3-menu-item.bp3-intent-warning .bp3-icon{
      color:inherit; }
    .bp3-menu-item.bp3-intent-warning::before, .bp3-menu-item.bp3-intent-warning::after,
    .bp3-menu-item.bp3-intent-warning .bp3-menu-item-label{
      color:#bf7326; }
    .bp3-menu-item.bp3-intent-warning:hover, .bp3-submenu .bp3-popover-target.bp3-popover-open > .bp3-intent-warning.bp3-menu-item, .bp3-menu-item.bp3-intent-warning.bp3-active{
      background-color:#d9822b; }
    .bp3-menu-item.bp3-intent-warning:active{
      background-color:#bf7326; }
    .bp3-menu-item.bp3-intent-warning:hover, .bp3-submenu .bp3-popover-target.bp3-popover-open > .bp3-intent-warning.bp3-menu-item, .bp3-menu-item.bp3-intent-warning:hover::before, .bp3-submenu .bp3-popover-target.bp3-popover-open > .bp3-intent-warning.bp3-menu-item::before, .bp3-menu-item.bp3-intent-warning:hover::after, .bp3-submenu .bp3-popover-target.bp3-popover-open > .bp3-intent-warning.bp3-menu-item::after,
    .bp3-menu-item.bp3-intent-warning:hover .bp3-menu-item-label,
    .bp3-submenu .bp3-popover-target.bp3-popover-open > .bp3-intent-warning.bp3-menu-item .bp3-menu-item-label, .bp3-menu-item.bp3-intent-warning:active, .bp3-menu-item.bp3-intent-warning:active::before, .bp3-menu-item.bp3-intent-warning:active::after,
    .bp3-menu-item.bp3-intent-warning:active .bp3-menu-item-label, .bp3-menu-item.bp3-intent-warning.bp3-active, .bp3-menu-item.bp3-intent-warning.bp3-active::before, .bp3-menu-item.bp3-intent-warning.bp3-active::after,
    .bp3-menu-item.bp3-intent-warning.bp3-active .bp3-menu-item-label{
      color:#ffffff; }
  .bp3-menu-item.bp3-intent-danger{
    color:#c23030; }
    .bp3-menu-item.bp3-intent-danger .bp3-icon{
      color:inherit; }
    .bp3-menu-item.bp3-intent-danger::before, .bp3-menu-item.bp3-intent-danger::after,
    .bp3-menu-item.bp3-intent-danger .bp3-menu-item-label{
      color:#c23030; }
    .bp3-menu-item.bp3-intent-danger:hover, .bp3-submenu .bp3-popover-target.bp3-popover-open > .bp3-intent-danger.bp3-menu-item, .bp3-menu-item.bp3-intent-danger.bp3-active{
      background-color:#db3737; }
    .bp3-menu-item.bp3-intent-danger:active{
      background-color:#c23030; }
    .bp3-menu-item.bp3-intent-danger:hover, .bp3-submenu .bp3-popover-target.bp3-popover-open > .bp3-intent-danger.bp3-menu-item, .bp3-menu-item.bp3-intent-danger:hover::before, .bp3-submenu .bp3-popover-target.bp3-popover-open > .bp3-intent-danger.bp3-menu-item::before, .bp3-menu-item.bp3-intent-danger:hover::after, .bp3-submenu .bp3-popover-target.bp3-popover-open > .bp3-intent-danger.bp3-menu-item::after,
    .bp3-menu-item.bp3-intent-danger:hover .bp3-menu-item-label,
    .bp3-submenu .bp3-popover-target.bp3-popover-open > .bp3-intent-danger.bp3-menu-item .bp3-menu-item-label, .bp3-menu-item.bp3-intent-danger:active, .bp3-menu-item.bp3-intent-danger:active::before, .bp3-menu-item.bp3-intent-danger:active::after,
    .bp3-menu-item.bp3-intent-danger:active .bp3-menu-item-label, .bp3-menu-item.bp3-intent-danger.bp3-active, .bp3-menu-item.bp3-intent-danger.bp3-active::before, .bp3-menu-item.bp3-intent-danger.bp3-active::after,
    .bp3-menu-item.bp3-intent-danger.bp3-active .bp3-menu-item-label{
      color:#ffffff; }
  .bp3-menu-item::before{
    line-height:1;
    font-family:"Icons16", sans-serif;
    font-size:16px;
    font-weight:400;
    font-style:normal;
    -moz-osx-font-smoothing:grayscale;
    -webkit-font-smoothing:antialiased;
    margin-right:7px; }
  .bp3-menu-item::before,
  .bp3-menu-item > .bp3-icon{
    margin-top:2px;
    color:#5c7080; }
  .bp3-menu-item .bp3-menu-item-label{
    color:#5c7080; }
  .bp3-menu-item:hover, .bp3-submenu .bp3-popover-target.bp3-popover-open > .bp3-menu-item{
    color:inherit; }
  .bp3-menu-item.bp3-active, .bp3-menu-item:active{
    background-color:rgba(115, 134, 148, 0.3); }
  .bp3-menu-item.bp3-disabled{
    outline:none !important;
    background-color:inherit !important;
    cursor:not-allowed !important;
    color:rgba(92, 112, 128, 0.6) !important; }
    .bp3-menu-item.bp3-disabled::before,
    .bp3-menu-item.bp3-disabled > .bp3-icon,
    .bp3-menu-item.bp3-disabled .bp3-menu-item-label{
      color:rgba(92, 112, 128, 0.6) !important; }
  .bp3-large .bp3-menu-item{
    padding:9px 7px;
    line-height:22px;
    font-size:16px; }
    .bp3-large .bp3-menu-item .bp3-icon{
      margin-top:3px; }
    .bp3-large .bp3-menu-item::before{
      line-height:1;
      font-family:"Icons20", sans-serif;
      font-size:20px;
      font-weight:400;
      font-style:normal;
      -moz-osx-font-smoothing:grayscale;
      -webkit-font-smoothing:antialiased;
      margin-top:1px;
      margin-right:10px; }

button.bp3-menu-item{
  border:none;
  background:none;
  width:100%;
  text-align:left; }
.bp3-menu-header{
  display:block;
  margin:5px;
  border-top:1px solid rgba(16, 22, 26, 0.15);
  cursor:default;
  padding-left:2px; }
  .bp3-dark .bp3-menu-header{
    border-top-color:rgba(255, 255, 255, 0.15); }
  .bp3-menu-header:first-of-type{
    border-top:none; }
  .bp3-menu-header > h6{
    color:#182026;
    font-weight:600;
    overflow:hidden;
    text-overflow:ellipsis;
    white-space:nowrap;
    word-wrap:normal;
    margin:0;
    padding:10px 7px 0 1px;
    line-height:17px; }
    .bp3-dark .bp3-menu-header > h6{
      color:#f5f8fa; }
  .bp3-menu-header:first-of-type > h6{
    padding-top:0; }
  .bp3-large .bp3-menu-header > h6{
    padding-top:15px;
    padding-bottom:5px;
    font-size:18px; }
  .bp3-large .bp3-menu-header:first-of-type > h6{
    padding-top:0; }

.bp3-dark .bp3-menu{
  background:#30404d;
  color:#f5f8fa; }

.bp3-dark .bp3-menu-item.bp3-intent-primary{
  color:#48aff0; }
  .bp3-dark .bp3-menu-item.bp3-intent-primary .bp3-icon{
    color:inherit; }
  .bp3-dark .bp3-menu-item.bp3-intent-primary::before, .bp3-dark .bp3-menu-item.bp3-intent-primary::after,
  .bp3-dark .bp3-menu-item.bp3-intent-primary .bp3-menu-item-label{
    color:#48aff0; }
  .bp3-dark .bp3-menu-item.bp3-intent-primary:hover, .bp3-dark .bp3-submenu .bp3-popover-target.bp3-popover-open > .bp3-intent-primary.bp3-menu-item, .bp3-submenu .bp3-dark .bp3-popover-target.bp3-popover-open > .bp3-intent-primary.bp3-menu-item, .bp3-dark .bp3-menu-item.bp3-intent-primary.bp3-active{
    background-color:#137cbd; }
  .bp3-dark .bp3-menu-item.bp3-intent-primary:active{
    background-color:#106ba3; }
  .bp3-dark .bp3-menu-item.bp3-intent-primary:hover, .bp3-dark .bp3-submenu .bp3-popover-target.bp3-popover-open > .bp3-intent-primary.bp3-menu-item, .bp3-submenu .bp3-dark .bp3-popover-target.bp3-popover-open > .bp3-intent-primary.bp3-menu-item, .bp3-dark .bp3-menu-item.bp3-intent-primary:hover::before, .bp3-dark .bp3-submenu .bp3-popover-target.bp3-popover-open > .bp3-intent-primary.bp3-menu-item::before, .bp3-submenu .bp3-dark .bp3-popover-target.bp3-popover-open > .bp3-intent-primary.bp3-menu-item::before, .bp3-dark .bp3-menu-item.bp3-intent-primary:hover::after, .bp3-dark .bp3-submenu .bp3-popover-target.bp3-popover-open > .bp3-intent-primary.bp3-menu-item::after, .bp3-submenu .bp3-dark .bp3-popover-target.bp3-popover-open > .bp3-intent-primary.bp3-menu-item::after,
  .bp3-dark .bp3-menu-item.bp3-intent-primary:hover .bp3-menu-item-label,
  .bp3-dark .bp3-submenu .bp3-popover-target.bp3-popover-open > .bp3-intent-primary.bp3-menu-item .bp3-menu-item-label,
  .bp3-submenu .bp3-dark .bp3-popover-target.bp3-popover-open > .bp3-intent-primary.bp3-menu-item .bp3-menu-item-label, .bp3-dark .bp3-menu-item.bp3-intent-primary:active, .bp3-dark .bp3-menu-item.bp3-intent-primary:active::before, .bp3-dark .bp3-menu-item.bp3-intent-primary:active::after,
  .bp3-dark .bp3-menu-item.bp3-intent-primary:active .bp3-menu-item-label, .bp3-dark .bp3-menu-item.bp3-intent-primary.bp3-active, .bp3-dark .bp3-menu-item.bp3-intent-primary.bp3-active::before, .bp3-dark .bp3-menu-item.bp3-intent-primary.bp3-active::after,
  .bp3-dark .bp3-menu-item.bp3-intent-primary.bp3-active .bp3-menu-item-label{
    color:#ffffff; }

.bp3-dark .bp3-menu-item.bp3-intent-success{
  color:#3dcc91; }
  .bp3-dark .bp3-menu-item.bp3-intent-success .bp3-icon{
    color:inherit; }
  .bp3-dark .bp3-menu-item.bp3-intent-success::before, .bp3-dark .bp3-menu-item.bp3-intent-success::after,
  .bp3-dark .bp3-menu-item.bp3-intent-success .bp3-menu-item-label{
    color:#3dcc91; }
  .bp3-dark .bp3-menu-item.bp3-intent-success:hover, .bp3-dark .bp3-submenu .bp3-popover-target.bp3-popover-open > .bp3-intent-success.bp3-menu-item, .bp3-submenu .bp3-dark .bp3-popover-target.bp3-popover-open > .bp3-intent-success.bp3-menu-item, .bp3-dark .bp3-menu-item.bp3-intent-success.bp3-active{
    background-color:#0f9960; }
  .bp3-dark .bp3-menu-item.bp3-intent-success:active{
    background-color:#0d8050; }
  .bp3-dark .bp3-menu-item.bp3-intent-success:hover, .bp3-dark .bp3-submenu .bp3-popover-target.bp3-popover-open > .bp3-intent-success.bp3-menu-item, .bp3-submenu .bp3-dark .bp3-popover-target.bp3-popover-open > .bp3-intent-success.bp3-menu-item, .bp3-dark .bp3-menu-item.bp3-intent-success:hover::before, .bp3-dark .bp3-submenu .bp3-popover-target.bp3-popover-open > .bp3-intent-success.bp3-menu-item::before, .bp3-submenu .bp3-dark .bp3-popover-target.bp3-popover-open > .bp3-intent-success.bp3-menu-item::before, .bp3-dark .bp3-menu-item.bp3-intent-success:hover::after, .bp3-dark .bp3-submenu .bp3-popover-target.bp3-popover-open > .bp3-intent-success.bp3-menu-item::after, .bp3-submenu .bp3-dark .bp3-popover-target.bp3-popover-open > .bp3-intent-success.bp3-menu-item::after,
  .bp3-dark .bp3-menu-item.bp3-intent-success:hover .bp3-menu-item-label,
  .bp3-dark .bp3-submenu .bp3-popover-target.bp3-popover-open > .bp3-intent-success.bp3-menu-item .bp3-menu-item-label,
  .bp3-submenu .bp3-dark .bp3-popover-target.bp3-popover-open > .bp3-intent-success.bp3-menu-item .bp3-menu-item-label, .bp3-dark .bp3-menu-item.bp3-intent-success:active, .bp3-dark .bp3-menu-item.bp3-intent-success:active::before, .bp3-dark .bp3-menu-item.bp3-intent-success:active::after,
  .bp3-dark .bp3-menu-item.bp3-intent-success:active .bp3-menu-item-label, .bp3-dark .bp3-menu-item.bp3-intent-success.bp3-active, .bp3-dark .bp3-menu-item.bp3-intent-success.bp3-active::before, .bp3-dark .bp3-menu-item.bp3-intent-success.bp3-active::after,
  .bp3-dark .bp3-menu-item.bp3-intent-success.bp3-active .bp3-menu-item-label{
    color:#ffffff; }

.bp3-dark .bp3-menu-item.bp3-intent-warning{
  color:#ffb366; }
  .bp3-dark .bp3-menu-item.bp3-intent-warning .bp3-icon{
    color:inherit; }
  .bp3-dark .bp3-menu-item.bp3-intent-warning::before, .bp3-dark .bp3-menu-item.bp3-intent-warning::after,
  .bp3-dark .bp3-menu-item.bp3-intent-warning .bp3-menu-item-label{
    color:#ffb366; }
  .bp3-dark .bp3-menu-item.bp3-intent-warning:hover, .bp3-dark .bp3-submenu .bp3-popover-target.bp3-popover-open > .bp3-intent-warning.bp3-menu-item, .bp3-submenu .bp3-dark .bp3-popover-target.bp3-popover-open > .bp3-intent-warning.bp3-menu-item, .bp3-dark .bp3-menu-item.bp3-intent-warning.bp3-active{
    background-color:#d9822b; }
  .bp3-dark .bp3-menu-item.bp3-intent-warning:active{
    background-color:#bf7326; }
  .bp3-dark .bp3-menu-item.bp3-intent-warning:hover, .bp3-dark .bp3-submenu .bp3-popover-target.bp3-popover-open > .bp3-intent-warning.bp3-menu-item, .bp3-submenu .bp3-dark .bp3-popover-target.bp3-popover-open > .bp3-intent-warning.bp3-menu-item, .bp3-dark .bp3-menu-item.bp3-intent-warning:hover::before, .bp3-dark .bp3-submenu .bp3-popover-target.bp3-popover-open > .bp3-intent-warning.bp3-menu-item::before, .bp3-submenu .bp3-dark .bp3-popover-target.bp3-popover-open > .bp3-intent-warning.bp3-menu-item::before, .bp3-dark .bp3-menu-item.bp3-intent-warning:hover::after, .bp3-dark .bp3-submenu .bp3-popover-target.bp3-popover-open > .bp3-intent-warning.bp3-menu-item::after, .bp3-submenu .bp3-dark .bp3-popover-target.bp3-popover-open > .bp3-intent-warning.bp3-menu-item::after,
  .bp3-dark .bp3-menu-item.bp3-intent-warning:hover .bp3-menu-item-label,
  .bp3-dark .bp3-submenu .bp3-popover-target.bp3-popover-open > .bp3-intent-warning.bp3-menu-item .bp3-menu-item-label,
  .bp3-submenu .bp3-dark .bp3-popover-target.bp3-popover-open > .bp3-intent-warning.bp3-menu-item .bp3-menu-item-label, .bp3-dark .bp3-menu-item.bp3-intent-warning:active, .bp3-dark .bp3-menu-item.bp3-intent-warning:active::before, .bp3-dark .bp3-menu-item.bp3-intent-warning:active::after,
  .bp3-dark .bp3-menu-item.bp3-intent-warning:active .bp3-menu-item-label, .bp3-dark .bp3-menu-item.bp3-intent-warning.bp3-active, .bp3-dark .bp3-menu-item.bp3-intent-warning.bp3-active::before, .bp3-dark .bp3-menu-item.bp3-intent-warning.bp3-active::after,
  .bp3-dark .bp3-menu-item.bp3-intent-warning.bp3-active .bp3-menu-item-label{
    color:#ffffff; }

.bp3-dark .bp3-menu-item.bp3-intent-danger{
  color:#ff7373; }
  .bp3-dark .bp3-menu-item.bp3-intent-danger .bp3-icon{
    color:inherit; }
  .bp3-dark .bp3-menu-item.bp3-intent-danger::before, .bp3-dark .bp3-menu-item.bp3-intent-danger::after,
  .bp3-dark .bp3-menu-item.bp3-intent-danger .bp3-menu-item-label{
    color:#ff7373; }
  .bp3-dark .bp3-menu-item.bp3-intent-danger:hover, .bp3-dark .bp3-submenu .bp3-popover-target.bp3-popover-open > .bp3-intent-danger.bp3-menu-item, .bp3-submenu .bp3-dark .bp3-popover-target.bp3-popover-open > .bp3-intent-danger.bp3-menu-item, .bp3-dark .bp3-menu-item.bp3-intent-danger.bp3-active{
    background-color:#db3737; }
  .bp3-dark .bp3-menu-item.bp3-intent-danger:active{
    background-color:#c23030; }
  .bp3-dark .bp3-menu-item.bp3-intent-danger:hover, .bp3-dark .bp3-submenu .bp3-popover-target.bp3-popover-open > .bp3-intent-danger.bp3-menu-item, .bp3-submenu .bp3-dark .bp3-popover-target.bp3-popover-open > .bp3-intent-danger.bp3-menu-item, .bp3-dark .bp3-menu-item.bp3-intent-danger:hover::before, .bp3-dark .bp3-submenu .bp3-popover-target.bp3-popover-open > .bp3-intent-danger.bp3-menu-item::before, .bp3-submenu .bp3-dark .bp3-popover-target.bp3-popover-open > .bp3-intent-danger.bp3-menu-item::before, .bp3-dark .bp3-menu-item.bp3-intent-danger:hover::after, .bp3-dark .bp3-submenu .bp3-popover-target.bp3-popover-open > .bp3-intent-danger.bp3-menu-item::after, .bp3-submenu .bp3-dark .bp3-popover-target.bp3-popover-open > .bp3-intent-danger.bp3-menu-item::after,
  .bp3-dark .bp3-menu-item.bp3-intent-danger:hover .bp3-menu-item-label,
  .bp3-dark .bp3-submenu .bp3-popover-target.bp3-popover-open > .bp3-intent-danger.bp3-menu-item .bp3-menu-item-label,
  .bp3-submenu .bp3-dark .bp3-popover-target.bp3-popover-open > .bp3-intent-danger.bp3-menu-item .bp3-menu-item-label, .bp3-dark .bp3-menu-item.bp3-intent-danger:active, .bp3-dark .bp3-menu-item.bp3-intent-danger:active::before, .bp3-dark .bp3-menu-item.bp3-intent-danger:active::after,
  .bp3-dark .bp3-menu-item.bp3-intent-danger:active .bp3-menu-item-label, .bp3-dark .bp3-menu-item.bp3-intent-danger.bp3-active, .bp3-dark .bp3-menu-item.bp3-intent-danger.bp3-active::before, .bp3-dark .bp3-menu-item.bp3-intent-danger.bp3-active::after,
  .bp3-dark .bp3-menu-item.bp3-intent-danger.bp3-active .bp3-menu-item-label{
    color:#ffffff; }

.bp3-dark .bp3-menu-item::before,
.bp3-dark .bp3-menu-item > .bp3-icon{
  color:#a7b6c2; }

.bp3-dark .bp3-menu-item .bp3-menu-item-label{
  color:#a7b6c2; }

.bp3-dark .bp3-menu-item.bp3-active, .bp3-dark .bp3-menu-item:active{
  background-color:rgba(138, 155, 168, 0.3); }

.bp3-dark .bp3-menu-item.bp3-disabled{
  color:rgba(167, 182, 194, 0.6) !important; }
  .bp3-dark .bp3-menu-item.bp3-disabled::before,
  .bp3-dark .bp3-menu-item.bp3-disabled > .bp3-icon,
  .bp3-dark .bp3-menu-item.bp3-disabled .bp3-menu-item-label{
    color:rgba(167, 182, 194, 0.6) !important; }

.bp3-dark .bp3-menu-divider,
.bp3-dark .bp3-menu-header{
  border-color:rgba(255, 255, 255, 0.15); }

.bp3-dark .bp3-menu-header > h6{
  color:#f5f8fa; }

.bp3-label .bp3-menu{
  margin-top:5px; }
.bp3-navbar{
  position:relative;
  z-index:10;
  -webkit-box-shadow:0 0 0 1px rgba(16, 22, 26, 0.1), 0 0 0 rgba(16, 22, 26, 0), 0 1px 1px rgba(16, 22, 26, 0.2);
          box-shadow:0 0 0 1px rgba(16, 22, 26, 0.1), 0 0 0 rgba(16, 22, 26, 0), 0 1px 1px rgba(16, 22, 26, 0.2);
  background-color:#ffffff;
  width:100%;
  height:50px;
  padding:0 15px; }
  .bp3-navbar.bp3-dark,
  .bp3-dark .bp3-navbar{
    background-color:#394b59; }
  .bp3-navbar.bp3-dark{
    -webkit-box-shadow:inset 0 0 0 1px rgba(16, 22, 26, 0.2), 0 0 0 rgba(16, 22, 26, 0), 0 1px 1px rgba(16, 22, 26, 0.4);
            box-shadow:inset 0 0 0 1px rgba(16, 22, 26, 0.2), 0 0 0 rgba(16, 22, 26, 0), 0 1px 1px rgba(16, 22, 26, 0.4); }
  .bp3-dark .bp3-navbar{
    -webkit-box-shadow:0 0 0 1px rgba(16, 22, 26, 0.2), 0 0 0 rgba(16, 22, 26, 0), 0 1px 1px rgba(16, 22, 26, 0.4);
            box-shadow:0 0 0 1px rgba(16, 22, 26, 0.2), 0 0 0 rgba(16, 22, 26, 0), 0 1px 1px rgba(16, 22, 26, 0.4); }
  .bp3-navbar.bp3-fixed-top{
    position:fixed;
    top:0;
    right:0;
    left:0; }

.bp3-navbar-heading{
  margin-right:15px;
  font-size:16px; }

.bp3-navbar-group{
  display:-webkit-box;
  display:-ms-flexbox;
  display:flex;
  -webkit-box-align:center;
      -ms-flex-align:center;
          align-items:center;
  height:50px; }
  .bp3-navbar-group.bp3-align-left{
    float:left; }
  .bp3-navbar-group.bp3-align-right{
    float:right; }

.bp3-navbar-divider{
  margin:0 10px;
  border-left:1px solid rgba(16, 22, 26, 0.15);
  height:20px; }
  .bp3-dark .bp3-navbar-divider{
    border-left-color:rgba(255, 255, 255, 0.15); }
.bp3-non-ideal-state{
  display:-webkit-box;
  display:-ms-flexbox;
  display:flex;
  -webkit-box-orient:vertical;
  -webkit-box-direction:normal;
      -ms-flex-direction:column;
          flex-direction:column;
  -webkit-box-align:center;
      -ms-flex-align:center;
          align-items:center;
  -webkit-box-pack:center;
      -ms-flex-pack:center;
          justify-content:center;
  width:100%;
  height:100%;
  text-align:center; }
  .bp3-non-ideal-state > *{
    -webkit-box-flex:0;
        -ms-flex-positive:0;
            flex-grow:0;
    -ms-flex-negative:0;
        flex-shrink:0; }
  .bp3-non-ideal-state > .bp3-fill{
    -webkit-box-flex:1;
        -ms-flex-positive:1;
            flex-grow:1;
    -ms-flex-negative:1;
        flex-shrink:1; }
  .bp3-non-ideal-state::before,
  .bp3-non-ideal-state > *{
    margin-bottom:20px; }
  .bp3-non-ideal-state:empty::before,
  .bp3-non-ideal-state > :last-child{
    margin-bottom:0; }
  .bp3-non-ideal-state > *{
    max-width:400px; }

.bp3-non-ideal-state-visual{
  color:rgba(92, 112, 128, 0.6);
  font-size:60px; }
  .bp3-dark .bp3-non-ideal-state-visual{
    color:rgba(167, 182, 194, 0.6); }

.bp3-overflow-list{
  display:-webkit-box;
  display:-ms-flexbox;
  display:flex;
  -ms-flex-wrap:nowrap;
      flex-wrap:nowrap;
  min-width:0; }

.bp3-overflow-list-spacer{
  -ms-flex-negative:1;
      flex-shrink:1;
  width:1px; }

body.bp3-overlay-open{
  overflow:hidden; }

.bp3-overlay{
  position:static;
  top:0;
  right:0;
  bottom:0;
  left:0;
  z-index:20; }
  .bp3-overlay:not(.bp3-overlay-open){
    pointer-events:none; }
  .bp3-overlay.bp3-overlay-container{
    position:fixed;
    overflow:hidden; }
    .bp3-overlay.bp3-overlay-container.bp3-overlay-inline{
      position:absolute; }
  .bp3-overlay.bp3-overlay-scroll-container{
    position:fixed;
    overflow:auto; }
    .bp3-overlay.bp3-overlay-scroll-container.bp3-overlay-inline{
      position:absolute; }
  .bp3-overlay.bp3-overlay-inline{
    display:inline;
    overflow:visible; }

.bp3-overlay-content{
  position:fixed;
  z-index:20; }
  .bp3-overlay-inline .bp3-overlay-content,
  .bp3-overlay-scroll-container .bp3-overlay-content{
    position:absolute; }

.bp3-overlay-backdrop{
  position:fixed;
  top:0;
  right:0;
  bottom:0;
  left:0;
  opacity:1;
  z-index:20;
  background-color:rgba(16, 22, 26, 0.7);
  overflow:auto;
  -webkit-user-select:none;
     -moz-user-select:none;
      -ms-user-select:none;
          user-select:none; }
  .bp3-overlay-backdrop.bp3-overlay-enter, .bp3-overlay-backdrop.bp3-overlay-appear{
    opacity:0; }
  .bp3-overlay-backdrop.bp3-overlay-enter-active, .bp3-overlay-backdrop.bp3-overlay-appear-active{
    opacity:1;
    -webkit-transition-property:opacity;
    transition-property:opacity;
    -webkit-transition-duration:200ms;
            transition-duration:200ms;
    -webkit-transition-timing-function:cubic-bezier(0.4, 1, 0.75, 0.9);
            transition-timing-function:cubic-bezier(0.4, 1, 0.75, 0.9);
    -webkit-transition-delay:0;
            transition-delay:0; }
  .bp3-overlay-backdrop.bp3-overlay-exit{
    opacity:1; }
  .bp3-overlay-backdrop.bp3-overlay-exit-active{
    opacity:0;
    -webkit-transition-property:opacity;
    transition-property:opacity;
    -webkit-transition-duration:200ms;
            transition-duration:200ms;
    -webkit-transition-timing-function:cubic-bezier(0.4, 1, 0.75, 0.9);
            transition-timing-function:cubic-bezier(0.4, 1, 0.75, 0.9);
    -webkit-transition-delay:0;
            transition-delay:0; }
  .bp3-overlay-backdrop:focus{
    outline:none; }
  .bp3-overlay-inline .bp3-overlay-backdrop{
    position:absolute; }
.bp3-panel-stack{
  position:relative;
  overflow:hidden; }

.bp3-panel-stack-header{
  display:-webkit-box;
  display:-ms-flexbox;
  display:flex;
  -ms-flex-negative:0;
      flex-shrink:0;
  -webkit-box-align:center;
      -ms-flex-align:center;
          align-items:center;
  z-index:1;
  -webkit-box-shadow:0 1px rgba(16, 22, 26, 0.15);
          box-shadow:0 1px rgba(16, 22, 26, 0.15);
  height:30px; }
  .bp3-dark .bp3-panel-stack-header{
    -webkit-box-shadow:0 1px rgba(255, 255, 255, 0.15);
            box-shadow:0 1px rgba(255, 255, 255, 0.15); }
  .bp3-panel-stack-header > span{
    display:-webkit-box;
    display:-ms-flexbox;
    display:flex;
    -webkit-box-flex:1;
        -ms-flex:1;
            flex:1;
    -webkit-box-align:stretch;
        -ms-flex-align:stretch;
            align-items:stretch; }
  .bp3-panel-stack-header .bp3-heading{
    margin:0 5px; }

.bp3-button.bp3-panel-stack-header-back{
  margin-left:5px;
  padding-left:0;
  white-space:nowrap; }
  .bp3-button.bp3-panel-stack-header-back .bp3-icon{
    margin:0 2px; }

.bp3-panel-stack-view{
  position:absolute;
  top:0;
  right:0;
  bottom:0;
  left:0;
  display:-webkit-box;
  display:-ms-flexbox;
  display:flex;
  -webkit-box-orient:vertical;
  -webkit-box-direction:normal;
      -ms-flex-direction:column;
          flex-direction:column;
  margin-right:-1px;
  border-right:1px solid rgba(16, 22, 26, 0.15);
  background-color:#ffffff;
  overflow-y:auto; }
  .bp3-dark .bp3-panel-stack-view{
    background-color:#30404d; }

.bp3-panel-stack-push .bp3-panel-stack-enter, .bp3-panel-stack-push .bp3-panel-stack-appear{
  -webkit-transform:translateX(100%);
          transform:translateX(100%);
  opacity:0; }

.bp3-panel-stack-push .bp3-panel-stack-enter-active, .bp3-panel-stack-push .bp3-panel-stack-appear-active{
  -webkit-transform:translate(0%);
          transform:translate(0%);
  opacity:1;
  -webkit-transition-property:opacity, -webkit-transform;
  transition-property:opacity, -webkit-transform;
  transition-property:transform, opacity;
  transition-property:transform, opacity, -webkit-transform;
  -webkit-transition-duration:400ms;
          transition-duration:400ms;
  -webkit-transition-timing-function:ease;
          transition-timing-function:ease;
  -webkit-transition-delay:0;
          transition-delay:0; }

.bp3-panel-stack-push .bp3-panel-stack-exit{
  -webkit-transform:translate(0%);
          transform:translate(0%);
  opacity:1; }

.bp3-panel-stack-push .bp3-panel-stack-exit-active{
  -webkit-transform:translateX(-50%);
          transform:translateX(-50%);
  opacity:0;
  -webkit-transition-property:opacity, -webkit-transform;
  transition-property:opacity, -webkit-transform;
  transition-property:transform, opacity;
  transition-property:transform, opacity, -webkit-transform;
  -webkit-transition-duration:400ms;
          transition-duration:400ms;
  -webkit-transition-timing-function:ease;
          transition-timing-function:ease;
  -webkit-transition-delay:0;
          transition-delay:0; }

.bp3-panel-stack-pop .bp3-panel-stack-enter, .bp3-panel-stack-pop .bp3-panel-stack-appear{
  -webkit-transform:translateX(-50%);
          transform:translateX(-50%);
  opacity:0; }

.bp3-panel-stack-pop .bp3-panel-stack-enter-active, .bp3-panel-stack-pop .bp3-panel-stack-appear-active{
  -webkit-transform:translate(0%);
          transform:translate(0%);
  opacity:1;
  -webkit-transition-property:opacity, -webkit-transform;
  transition-property:opacity, -webkit-transform;
  transition-property:transform, opacity;
  transition-property:transform, opacity, -webkit-transform;
  -webkit-transition-duration:400ms;
          transition-duration:400ms;
  -webkit-transition-timing-function:ease;
          transition-timing-function:ease;
  -webkit-transition-delay:0;
          transition-delay:0; }

.bp3-panel-stack-pop .bp3-panel-stack-exit{
  -webkit-transform:translate(0%);
          transform:translate(0%);
  opacity:1; }

.bp3-panel-stack-pop .bp3-panel-stack-exit-active{
  -webkit-transform:translateX(100%);
          transform:translateX(100%);
  opacity:0;
  -webkit-transition-property:opacity, -webkit-transform;
  transition-property:opacity, -webkit-transform;
  transition-property:transform, opacity;
  transition-property:transform, opacity, -webkit-transform;
  -webkit-transition-duration:400ms;
          transition-duration:400ms;
  -webkit-transition-timing-function:ease;
          transition-timing-function:ease;
  -webkit-transition-delay:0;
          transition-delay:0; }
.bp3-popover{
  -webkit-box-shadow:0 0 0 1px rgba(16, 22, 26, 0.1), 0 2px 4px rgba(16, 22, 26, 0.2), 0 8px 24px rgba(16, 22, 26, 0.2);
          box-shadow:0 0 0 1px rgba(16, 22, 26, 0.1), 0 2px 4px rgba(16, 22, 26, 0.2), 0 8px 24px rgba(16, 22, 26, 0.2);
  -webkit-transform:scale(1);
          transform:scale(1);
  display:inline-block;
  z-index:20;
  border-radius:3px; }
  .bp3-popover .bp3-popover-arrow{
    position:absolute;
    width:30px;
    height:30px; }
    .bp3-popover .bp3-popover-arrow::before{
      margin:5px;
      width:20px;
      height:20px; }
  .bp3-tether-element-attached-bottom.bp3-tether-target-attached-top > .bp3-popover{
    margin-top:-17px;
    margin-bottom:17px; }
    .bp3-tether-element-attached-bottom.bp3-tether-target-attached-top > .bp3-popover > .bp3-popover-arrow{
      bottom:-11px; }
      .bp3-tether-element-attached-bottom.bp3-tether-target-attached-top > .bp3-popover > .bp3-popover-arrow svg{
        -webkit-transform:rotate(-90deg);
                transform:rotate(-90deg); }
  .bp3-tether-element-attached-left.bp3-tether-target-attached-right > .bp3-popover{
    margin-left:17px; }
    .bp3-tether-element-attached-left.bp3-tether-target-attached-right > .bp3-popover > .bp3-popover-arrow{
      left:-11px; }
      .bp3-tether-element-attached-left.bp3-tether-target-attached-right > .bp3-popover > .bp3-popover-arrow svg{
        -webkit-transform:rotate(0);
                transform:rotate(0); }
  .bp3-tether-element-attached-top.bp3-tether-target-attached-bottom > .bp3-popover{
    margin-top:17px; }
    .bp3-tether-element-attached-top.bp3-tether-target-attached-bottom > .bp3-popover > .bp3-popover-arrow{
      top:-11px; }
      .bp3-tether-element-attached-top.bp3-tether-target-attached-bottom > .bp3-popover > .bp3-popover-arrow svg{
        -webkit-transform:rotate(90deg);
                transform:rotate(90deg); }
  .bp3-tether-element-attached-right.bp3-tether-target-attached-left > .bp3-popover{
    margin-right:17px;
    margin-left:-17px; }
    .bp3-tether-element-attached-right.bp3-tether-target-attached-left > .bp3-popover > .bp3-popover-arrow{
      right:-11px; }
      .bp3-tether-element-attached-right.bp3-tether-target-attached-left > .bp3-popover > .bp3-popover-arrow svg{
        -webkit-transform:rotate(180deg);
                transform:rotate(180deg); }
  .bp3-tether-element-attached-middle > .bp3-popover > .bp3-popover-arrow{
    top:50%;
    -webkit-transform:translateY(-50%);
            transform:translateY(-50%); }
  .bp3-tether-element-attached-center > .bp3-popover > .bp3-popover-arrow{
    right:50%;
    -webkit-transform:translateX(50%);
            transform:translateX(50%); }
  .bp3-tether-element-attached-top.bp3-tether-target-attached-top > .bp3-popover > .bp3-popover-arrow{
    top:-0.3934px; }
  .bp3-tether-element-attached-right.bp3-tether-target-attached-right > .bp3-popover > .bp3-popover-arrow{
    right:-0.3934px; }
  .bp3-tether-element-attached-left.bp3-tether-target-attached-left > .bp3-popover > .bp3-popover-arrow{
    left:-0.3934px; }
  .bp3-tether-element-attached-bottom.bp3-tether-target-attached-bottom > .bp3-popover > .bp3-popover-arrow{
    bottom:-0.3934px; }
  .bp3-tether-element-attached-top.bp3-tether-element-attached-left > .bp3-popover{
    -webkit-transform-origin:top left;
            transform-origin:top left; }
  .bp3-tether-element-attached-top.bp3-tether-element-attached-center > .bp3-popover{
    -webkit-transform-origin:top center;
            transform-origin:top center; }
  .bp3-tether-element-attached-top.bp3-tether-element-attached-right > .bp3-popover{
    -webkit-transform-origin:top right;
            transform-origin:top right; }
  .bp3-tether-element-attached-middle.bp3-tether-element-attached-left > .bp3-popover{
    -webkit-transform-origin:center left;
            transform-origin:center left; }
  .bp3-tether-element-attached-middle.bp3-tether-element-attached-center > .bp3-popover{
    -webkit-transform-origin:center center;
            transform-origin:center center; }
  .bp3-tether-element-attached-middle.bp3-tether-element-attached-right > .bp3-popover{
    -webkit-transform-origin:center right;
            transform-origin:center right; }
  .bp3-tether-element-attached-bottom.bp3-tether-element-attached-left > .bp3-popover{
    -webkit-transform-origin:bottom left;
            transform-origin:bottom left; }
  .bp3-tether-element-attached-bottom.bp3-tether-element-attached-center > .bp3-popover{
    -webkit-transform-origin:bottom center;
            transform-origin:bottom center; }
  .bp3-tether-element-attached-bottom.bp3-tether-element-attached-right > .bp3-popover{
    -webkit-transform-origin:bottom right;
            transform-origin:bottom right; }
  .bp3-popover .bp3-popover-content{
    background:#ffffff;
    color:inherit; }
  .bp3-popover .bp3-popover-arrow::before{
    -webkit-box-shadow:1px 1px 6px rgba(16, 22, 26, 0.2);
            box-shadow:1px 1px 6px rgba(16, 22, 26, 0.2); }
  .bp3-popover .bp3-popover-arrow-border{
    fill:#10161a;
    fill-opacity:0.1; }
  .bp3-popover .bp3-popover-arrow-fill{
    fill:#ffffff; }
  .bp3-popover-enter > .bp3-popover, .bp3-popover-appear > .bp3-popover{
    -webkit-transform:scale(0.3);
            transform:scale(0.3); }
  .bp3-popover-enter-active > .bp3-popover, .bp3-popover-appear-active > .bp3-popover{
    -webkit-transform:scale(1);
            transform:scale(1);
    -webkit-transition-property:-webkit-transform;
    transition-property:-webkit-transform;
    transition-property:transform;
    transition-property:transform, -webkit-transform;
    -webkit-transition-duration:300ms;
            transition-duration:300ms;
    -webkit-transition-timing-function:cubic-bezier(0.54, 1.12, 0.38, 1.11);
            transition-timing-function:cubic-bezier(0.54, 1.12, 0.38, 1.11);
    -webkit-transition-delay:0;
            transition-delay:0; }
  .bp3-popover-exit > .bp3-popover{
    -webkit-transform:scale(1);
            transform:scale(1); }
  .bp3-popover-exit-active > .bp3-popover{
    -webkit-transform:scale(0.3);
            transform:scale(0.3);
    -webkit-transition-property:-webkit-transform;
    transition-property:-webkit-transform;
    transition-property:transform;
    transition-property:transform, -webkit-transform;
    -webkit-transition-duration:300ms;
            transition-duration:300ms;
    -webkit-transition-timing-function:cubic-bezier(0.54, 1.12, 0.38, 1.11);
            transition-timing-function:cubic-bezier(0.54, 1.12, 0.38, 1.11);
    -webkit-transition-delay:0;
            transition-delay:0; }
  .bp3-popover .bp3-popover-content{
    position:relative;
    border-radius:3px; }
  .bp3-popover.bp3-popover-content-sizing .bp3-popover-content{
    max-width:350px;
    padding:20px; }
  .bp3-popover-target + .bp3-overlay .bp3-popover.bp3-popover-content-sizing{
    width:350px; }
  .bp3-popover.bp3-minimal{
    margin:0 !important; }
    .bp3-popover.bp3-minimal .bp3-popover-arrow{
      display:none; }
    .bp3-popover.bp3-minimal.bp3-popover{
      -webkit-transform:scale(1);
              transform:scale(1); }
      .bp3-popover-enter > .bp3-popover.bp3-minimal.bp3-popover, .bp3-popover-appear > .bp3-popover.bp3-minimal.bp3-popover{
        -webkit-transform:scale(1);
                transform:scale(1); }
      .bp3-popover-enter-active > .bp3-popover.bp3-minimal.bp3-popover, .bp3-popover-appear-active > .bp3-popover.bp3-minimal.bp3-popover{
        -webkit-transform:scale(1);
                transform:scale(1);
        -webkit-transition-property:-webkit-transform;
        transition-property:-webkit-transform;
        transition-property:transform;
        transition-property:transform, -webkit-transform;
        -webkit-transition-duration:100ms;
                transition-duration:100ms;
        -webkit-transition-timing-function:cubic-bezier(0.4, 1, 0.75, 0.9);
                transition-timing-function:cubic-bezier(0.4, 1, 0.75, 0.9);
        -webkit-transition-delay:0;
                transition-delay:0; }
      .bp3-popover-exit > .bp3-popover.bp3-minimal.bp3-popover{
        -webkit-transform:scale(1);
                transform:scale(1); }
      .bp3-popover-exit-active > .bp3-popover.bp3-minimal.bp3-popover{
        -webkit-transform:scale(1);
                transform:scale(1);
        -webkit-transition-property:-webkit-transform;
        transition-property:-webkit-transform;
        transition-property:transform;
        transition-property:transform, -webkit-transform;
        -webkit-transition-duration:100ms;
                transition-duration:100ms;
        -webkit-transition-timing-function:cubic-bezier(0.4, 1, 0.75, 0.9);
                transition-timing-function:cubic-bezier(0.4, 1, 0.75, 0.9);
        -webkit-transition-delay:0;
                transition-delay:0; }
  .bp3-popover.bp3-dark,
  .bp3-dark .bp3-popover{
    -webkit-box-shadow:0 0 0 1px rgba(16, 22, 26, 0.2), 0 2px 4px rgba(16, 22, 26, 0.4), 0 8px 24px rgba(16, 22, 26, 0.4);
            box-shadow:0 0 0 1px rgba(16, 22, 26, 0.2), 0 2px 4px rgba(16, 22, 26, 0.4), 0 8px 24px rgba(16, 22, 26, 0.4); }
    .bp3-popover.bp3-dark .bp3-popover-content,
    .bp3-dark .bp3-popover .bp3-popover-content{
      background:#30404d;
      color:inherit; }
    .bp3-popover.bp3-dark .bp3-popover-arrow::before,
    .bp3-dark .bp3-popover .bp3-popover-arrow::before{
      -webkit-box-shadow:1px 1px 6px rgba(16, 22, 26, 0.4);
              box-shadow:1px 1px 6px rgba(16, 22, 26, 0.4); }
    .bp3-popover.bp3-dark .bp3-popover-arrow-border,
    .bp3-dark .bp3-popover .bp3-popover-arrow-border{
      fill:#10161a;
      fill-opacity:0.2; }
    .bp3-popover.bp3-dark .bp3-popover-arrow-fill,
    .bp3-dark .bp3-popover .bp3-popover-arrow-fill{
      fill:#30404d; }

.bp3-popover-arrow::before{
  display:block;
  position:absolute;
  -webkit-transform:rotate(45deg);
          transform:rotate(45deg);
  border-radius:2px;
  content:""; }

.bp3-tether-pinned .bp3-popover-arrow{
  display:none; }

.bp3-popover-backdrop{
  background:rgba(255, 255, 255, 0); }

.bp3-transition-container{
  opacity:1;
  display:-webkit-box;
  display:-ms-flexbox;
  display:flex;
  z-index:20; }
  .bp3-transition-container.bp3-popover-enter, .bp3-transition-container.bp3-popover-appear{
    opacity:0; }
  .bp3-transition-container.bp3-popover-enter-active, .bp3-transition-container.bp3-popover-appear-active{
    opacity:1;
    -webkit-transition-property:opacity;
    transition-property:opacity;
    -webkit-transition-duration:100ms;
            transition-duration:100ms;
    -webkit-transition-timing-function:cubic-bezier(0.4, 1, 0.75, 0.9);
            transition-timing-function:cubic-bezier(0.4, 1, 0.75, 0.9);
    -webkit-transition-delay:0;
            transition-delay:0; }
  .bp3-transition-container.bp3-popover-exit{
    opacity:1; }
  .bp3-transition-container.bp3-popover-exit-active{
    opacity:0;
    -webkit-transition-property:opacity;
    transition-property:opacity;
    -webkit-transition-duration:100ms;
            transition-duration:100ms;
    -webkit-transition-timing-function:cubic-bezier(0.4, 1, 0.75, 0.9);
            transition-timing-function:cubic-bezier(0.4, 1, 0.75, 0.9);
    -webkit-transition-delay:0;
            transition-delay:0; }
  .bp3-transition-container:focus{
    outline:none; }
  .bp3-transition-container.bp3-popover-leave .bp3-popover-content{
    pointer-events:none; }
  .bp3-transition-container[data-x-out-of-boundaries]{
    display:none; }

span.bp3-popover-target{
  display:inline-block; }

.bp3-popover-wrapper.bp3-fill{
  width:100%; }

.bp3-portal{
  position:absolute;
  top:0;
  right:0;
  left:0; }
@-webkit-keyframes linear-progress-bar-stripes{
  from{
    background-position:0 0; }
  to{
    background-position:30px 0; } }
@keyframes linear-progress-bar-stripes{
  from{
    background-position:0 0; }
  to{
    background-position:30px 0; } }

.bp3-progress-bar{
  display:block;
  position:relative;
  border-radius:40px;
  background:rgba(92, 112, 128, 0.2);
  width:100%;
  height:8px;
  overflow:hidden; }
  .bp3-progress-bar .bp3-progress-meter{
    position:absolute;
    border-radius:40px;
    background:linear-gradient(-45deg, rgba(255, 255, 255, 0.2) 25%, transparent 25%, transparent 50%, rgba(255, 255, 255, 0.2) 50%, rgba(255, 255, 255, 0.2) 75%, transparent 75%);
    background-color:rgba(92, 112, 128, 0.8);
    background-size:30px 30px;
    width:100%;
    height:100%;
    -webkit-transition:width 200ms cubic-bezier(0.4, 1, 0.75, 0.9);
    transition:width 200ms cubic-bezier(0.4, 1, 0.75, 0.9); }
  .bp3-progress-bar:not(.bp3-no-animation):not(.bp3-no-stripes) .bp3-progress-meter{
    animation:linear-progress-bar-stripes 300ms linear infinite reverse; }
  .bp3-progress-bar.bp3-no-stripes .bp3-progress-meter{
    background-image:none; }

.bp3-dark .bp3-progress-bar{
  background:rgba(16, 22, 26, 0.5); }
  .bp3-dark .bp3-progress-bar .bp3-progress-meter{
    background-color:#8a9ba8; }

.bp3-progress-bar.bp3-intent-primary .bp3-progress-meter{
  background-color:#137cbd; }

.bp3-progress-bar.bp3-intent-success .bp3-progress-meter{
  background-color:#0f9960; }

.bp3-progress-bar.bp3-intent-warning .bp3-progress-meter{
  background-color:#d9822b; }

.bp3-progress-bar.bp3-intent-danger .bp3-progress-meter{
  background-color:#db3737; }
@-webkit-keyframes skeleton-glow{
  from{
    border-color:rgba(206, 217, 224, 0.2);
    background:rgba(206, 217, 224, 0.2); }
  to{
    border-color:rgba(92, 112, 128, 0.2);
    background:rgba(92, 112, 128, 0.2); } }
@keyframes skeleton-glow{
  from{
    border-color:rgba(206, 217, 224, 0.2);
    background:rgba(206, 217, 224, 0.2); }
  to{
    border-color:rgba(92, 112, 128, 0.2);
    background:rgba(92, 112, 128, 0.2); } }
.bp3-skeleton{
  border-color:rgba(206, 217, 224, 0.2) !important;
  border-radius:2px;
  -webkit-box-shadow:none !important;
          box-shadow:none !important;
  background:rgba(206, 217, 224, 0.2);
  background-clip:padding-box !important;
  cursor:default;
  color:transparent !important;
  -webkit-animation:1000ms linear infinite alternate skeleton-glow;
          animation:1000ms linear infinite alternate skeleton-glow;
  pointer-events:none;
  -webkit-user-select:none;
     -moz-user-select:none;
      -ms-user-select:none;
          user-select:none; }
  .bp3-skeleton::before, .bp3-skeleton::after,
  .bp3-skeleton *{
    visibility:hidden !important; }
.bp3-slider{
  width:100%;
  min-width:150px;
  height:40px;
  position:relative;
  outline:none;
  cursor:default;
  -webkit-user-select:none;
     -moz-user-select:none;
      -ms-user-select:none;
          user-select:none; }
  .bp3-slider:hover{
    cursor:pointer; }
  .bp3-slider:active{
    cursor:-webkit-grabbing;
    cursor:grabbing; }
  .bp3-slider.bp3-disabled{
    opacity:0.5;
    cursor:not-allowed; }
  .bp3-slider.bp3-slider-unlabeled{
    height:16px; }

.bp3-slider-track,
.bp3-slider-progress{
  top:5px;
  right:0;
  left:0;
  height:6px;
  position:absolute; }

.bp3-slider-track{
  border-radius:3px;
  overflow:hidden; }

.bp3-slider-progress{
  background:rgba(92, 112, 128, 0.2); }
  .bp3-dark .bp3-slider-progress{
    background:rgba(16, 22, 26, 0.5); }
  .bp3-slider-progress.bp3-intent-primary{
    background-color:#137cbd; }
  .bp3-slider-progress.bp3-intent-success{
    background-color:#0f9960; }
  .bp3-slider-progress.bp3-intent-warning{
    background-color:#d9822b; }
  .bp3-slider-progress.bp3-intent-danger{
    background-color:#db3737; }

.bp3-slider-handle{
  -webkit-box-shadow:inset 0 0 0 1px rgba(16, 22, 26, 0.2), inset 0 -1px 0 rgba(16, 22, 26, 0.1);
          box-shadow:inset 0 0 0 1px rgba(16, 22, 26, 0.2), inset 0 -1px 0 rgba(16, 22, 26, 0.1);
  background-color:#f5f8fa;
  background-image:-webkit-gradient(linear, left top, left bottom, from(rgba(255, 255, 255, 0.8)), to(rgba(255, 255, 255, 0)));
  background-image:linear-gradient(to bottom, rgba(255, 255, 255, 0.8), rgba(255, 255, 255, 0));
  color:#182026;
  position:absolute;
  top:0;
  left:0;
  border-radius:3px;
  -webkit-box-shadow:0 0 0 1px rgba(16, 22, 26, 0.2), 0 1px 1px rgba(16, 22, 26, 0.2);
          box-shadow:0 0 0 1px rgba(16, 22, 26, 0.2), 0 1px 1px rgba(16, 22, 26, 0.2);
  cursor:pointer;
  width:16px;
  height:16px; }
  .bp3-slider-handle:hover{
    -webkit-box-shadow:inset 0 0 0 1px rgba(16, 22, 26, 0.2), inset 0 -1px 0 rgba(16, 22, 26, 0.1);
            box-shadow:inset 0 0 0 1px rgba(16, 22, 26, 0.2), inset 0 -1px 0 rgba(16, 22, 26, 0.1);
    background-clip:padding-box;
    background-color:#ebf1f5; }
  .bp3-slider-handle:active, .bp3-slider-handle.bp3-active{
    -webkit-box-shadow:inset 0 0 0 1px rgba(16, 22, 26, 0.2), inset 0 1px 2px rgba(16, 22, 26, 0.2);
            box-shadow:inset 0 0 0 1px rgba(16, 22, 26, 0.2), inset 0 1px 2px rgba(16, 22, 26, 0.2);
    background-color:#d8e1e8;
    background-image:none; }
  .bp3-slider-handle:disabled, .bp3-slider-handle.bp3-disabled{
    outline:none;
    -webkit-box-shadow:none;
            box-shadow:none;
    background-color:rgba(206, 217, 224, 0.5);
    background-image:none;
    cursor:not-allowed;
    color:rgba(92, 112, 128, 0.6); }
    .bp3-slider-handle:disabled.bp3-active, .bp3-slider-handle:disabled.bp3-active:hover, .bp3-slider-handle.bp3-disabled.bp3-active, .bp3-slider-handle.bp3-disabled.bp3-active:hover{
      background:rgba(206, 217, 224, 0.7); }
  .bp3-slider-handle:focus{
    z-index:1; }
  .bp3-slider-handle:hover{
    -webkit-box-shadow:inset 0 0 0 1px rgba(16, 22, 26, 0.2), inset 0 -1px 0 rgba(16, 22, 26, 0.1);
            box-shadow:inset 0 0 0 1px rgba(16, 22, 26, 0.2), inset 0 -1px 0 rgba(16, 22, 26, 0.1);
    background-clip:padding-box;
    background-color:#ebf1f5;
    z-index:2;
    -webkit-box-shadow:0 0 0 1px rgba(16, 22, 26, 0.2), 0 1px 1px rgba(16, 22, 26, 0.2);
            box-shadow:0 0 0 1px rgba(16, 22, 26, 0.2), 0 1px 1px rgba(16, 22, 26, 0.2);
    cursor:-webkit-grab;
    cursor:grab; }
  .bp3-slider-handle.bp3-active{
    -webkit-box-shadow:inset 0 0 0 1px rgba(16, 22, 26, 0.2), inset 0 1px 2px rgba(16, 22, 26, 0.2);
            box-shadow:inset 0 0 0 1px rgba(16, 22, 26, 0.2), inset 0 1px 2px rgba(16, 22, 26, 0.2);
    background-color:#d8e1e8;
    background-image:none;
    -webkit-box-shadow:0 0 0 1px rgba(16, 22, 26, 0.2), inset 0 1px 1px rgba(16, 22, 26, 0.1);
            box-shadow:0 0 0 1px rgba(16, 22, 26, 0.2), inset 0 1px 1px rgba(16, 22, 26, 0.1);
    cursor:-webkit-grabbing;
    cursor:grabbing; }
  .bp3-disabled .bp3-slider-handle{
    -webkit-box-shadow:none;
            box-shadow:none;
    background:#bfccd6;
    pointer-events:none; }
  .bp3-dark .bp3-slider-handle{
    -webkit-box-shadow:0 0 0 1px rgba(16, 22, 26, 0.4);
            box-shadow:0 0 0 1px rgba(16, 22, 26, 0.4);
    background-color:#394b59;
    background-image:-webkit-gradient(linear, left top, left bottom, from(rgba(255, 255, 255, 0.05)), to(rgba(255, 255, 255, 0)));
    background-image:linear-gradient(to bottom, rgba(255, 255, 255, 0.05), rgba(255, 255, 255, 0));
    color:#f5f8fa; }
    .bp3-dark .bp3-slider-handle:hover, .bp3-dark .bp3-slider-handle:active, .bp3-dark .bp3-slider-handle.bp3-active{
      color:#f5f8fa; }
    .bp3-dark .bp3-slider-handle:hover{
      -webkit-box-shadow:0 0 0 1px rgba(16, 22, 26, 0.4);
              box-shadow:0 0 0 1px rgba(16, 22, 26, 0.4);
      background-color:#30404d; }
    .bp3-dark .bp3-slider-handle:active, .bp3-dark .bp3-slider-handle.bp3-active{
      -webkit-box-shadow:0 0 0 1px rgba(16, 22, 26, 0.6), inset 0 1px 2px rgba(16, 22, 26, 0.2);
              box-shadow:0 0 0 1px rgba(16, 22, 26, 0.6), inset 0 1px 2px rgba(16, 22, 26, 0.2);
      background-color:#202b33;
      background-image:none; }
    .bp3-dark .bp3-slider-handle:disabled, .bp3-dark .bp3-slider-handle.bp3-disabled{
      -webkit-box-shadow:none;
              box-shadow:none;
      background-color:rgba(57, 75, 89, 0.5);
      background-image:none;
      color:rgba(167, 182, 194, 0.6); }
      .bp3-dark .bp3-slider-handle:disabled.bp3-active, .bp3-dark .bp3-slider-handle.bp3-disabled.bp3-active{
        background:rgba(57, 75, 89, 0.7); }
    .bp3-dark .bp3-slider-handle .bp3-button-spinner .bp3-spinner-head{
      background:rgba(16, 22, 26, 0.5);
      stroke:#8a9ba8; }
    .bp3-dark .bp3-slider-handle, .bp3-dark .bp3-slider-handle:hover{
      background-color:#394b59; }
    .bp3-dark .bp3-slider-handle.bp3-active{
      background-color:#293742; }
  .bp3-dark .bp3-disabled .bp3-slider-handle{
    border-color:#5c7080;
    -webkit-box-shadow:none;
            box-shadow:none;
    background:#5c7080; }
  .bp3-slider-handle .bp3-slider-label{
    margin-left:8px;
    border-radius:3px;
    -webkit-box-shadow:0 0 0 1px rgba(16, 22, 26, 0.1), 0 2px 4px rgba(16, 22, 26, 0.2), 0 8px 24px rgba(16, 22, 26, 0.2);
            box-shadow:0 0 0 1px rgba(16, 22, 26, 0.1), 0 2px 4px rgba(16, 22, 26, 0.2), 0 8px 24px rgba(16, 22, 26, 0.2);
    background:#394b59;
    color:#f5f8fa; }
    .bp3-dark .bp3-slider-handle .bp3-slider-label{
      -webkit-box-shadow:0 0 0 1px rgba(16, 22, 26, 0.2), 0 2px 4px rgba(16, 22, 26, 0.4), 0 8px 24px rgba(16, 22, 26, 0.4);
              box-shadow:0 0 0 1px rgba(16, 22, 26, 0.2), 0 2px 4px rgba(16, 22, 26, 0.4), 0 8px 24px rgba(16, 22, 26, 0.4);
      background:#e1e8ed;
      color:#394b59; }
    .bp3-disabled .bp3-slider-handle .bp3-slider-label{
      -webkit-box-shadow:none;
              box-shadow:none; }
  .bp3-slider-handle.bp3-start, .bp3-slider-handle.bp3-end{
    width:8px; }
  .bp3-slider-handle.bp3-start{
    border-top-right-radius:0;
    border-bottom-right-radius:0; }
  .bp3-slider-handle.bp3-end{
    margin-left:8px;
    border-top-left-radius:0;
    border-bottom-left-radius:0; }
    .bp3-slider-handle.bp3-end .bp3-slider-label{
      margin-left:0; }

.bp3-slider-label{
  -webkit-transform:translate(-50%, 20px);
          transform:translate(-50%, 20px);
  display:inline-block;
  position:absolute;
  padding:2px 5px;
  vertical-align:top;
  line-height:1;
  font-size:12px; }

.bp3-slider.bp3-vertical{
  width:40px;
  min-width:40px;
  height:150px; }
  .bp3-slider.bp3-vertical .bp3-slider-track,
  .bp3-slider.bp3-vertical .bp3-slider-progress{
    top:0;
    bottom:0;
    left:5px;
    width:6px;
    height:auto; }
  .bp3-slider.bp3-vertical .bp3-slider-progress{
    top:auto; }
  .bp3-slider.bp3-vertical .bp3-slider-label{
    -webkit-transform:translate(20px, 50%);
            transform:translate(20px, 50%); }
  .bp3-slider.bp3-vertical .bp3-slider-handle{
    top:auto; }
    .bp3-slider.bp3-vertical .bp3-slider-handle .bp3-slider-label{
      margin-top:-8px;
      margin-left:0; }
    .bp3-slider.bp3-vertical .bp3-slider-handle.bp3-end, .bp3-slider.bp3-vertical .bp3-slider-handle.bp3-start{
      margin-left:0;
      width:16px;
      height:8px; }
    .bp3-slider.bp3-vertical .bp3-slider-handle.bp3-start{
      border-top-left-radius:0;
      border-bottom-right-radius:3px; }
      .bp3-slider.bp3-vertical .bp3-slider-handle.bp3-start .bp3-slider-label{
        -webkit-transform:translate(20px);
                transform:translate(20px); }
    .bp3-slider.bp3-vertical .bp3-slider-handle.bp3-end{
      margin-bottom:8px;
      border-top-left-radius:3px;
      border-bottom-left-radius:0;
      border-bottom-right-radius:0; }

@-webkit-keyframes pt-spinner-animation{
  from{
    -webkit-transform:rotate(0deg);
            transform:rotate(0deg); }
  to{
    -webkit-transform:rotate(360deg);
            transform:rotate(360deg); } }

@keyframes pt-spinner-animation{
  from{
    -webkit-transform:rotate(0deg);
            transform:rotate(0deg); }
  to{
    -webkit-transform:rotate(360deg);
            transform:rotate(360deg); } }

.bp3-spinner{
  display:-webkit-box;
  display:-ms-flexbox;
  display:flex;
  -webkit-box-align:center;
      -ms-flex-align:center;
          align-items:center;
  -webkit-box-pack:center;
      -ms-flex-pack:center;
          justify-content:center;
  overflow:visible;
  vertical-align:middle; }
  .bp3-spinner svg{
    display:block; }
  .bp3-spinner path{
    fill-opacity:0; }
  .bp3-spinner .bp3-spinner-head{
    -webkit-transform-origin:center;
            transform-origin:center;
    -webkit-transition:stroke-dashoffset 200ms cubic-bezier(0.4, 1, 0.75, 0.9);
    transition:stroke-dashoffset 200ms cubic-bezier(0.4, 1, 0.75, 0.9);
    stroke:rgba(92, 112, 128, 0.8);
    stroke-linecap:round; }
  .bp3-spinner .bp3-spinner-track{
    stroke:rgba(92, 112, 128, 0.2); }

.bp3-spinner-animation{
  -webkit-animation:pt-spinner-animation 500ms linear infinite;
          animation:pt-spinner-animation 500ms linear infinite; }
  .bp3-no-spin > .bp3-spinner-animation{
    -webkit-animation:none;
            animation:none; }

.bp3-dark .bp3-spinner .bp3-spinner-head{
  stroke:#8a9ba8; }

.bp3-dark .bp3-spinner .bp3-spinner-track{
  stroke:rgba(16, 22, 26, 0.5); }

.bp3-spinner.bp3-intent-primary .bp3-spinner-head{
  stroke:#137cbd; }

.bp3-spinner.bp3-intent-success .bp3-spinner-head{
  stroke:#0f9960; }

.bp3-spinner.bp3-intent-warning .bp3-spinner-head{
  stroke:#d9822b; }

.bp3-spinner.bp3-intent-danger .bp3-spinner-head{
  stroke:#db3737; }
.bp3-tabs.bp3-vertical{
  display:-webkit-box;
  display:-ms-flexbox;
  display:flex; }
  .bp3-tabs.bp3-vertical > .bp3-tab-list{
    -webkit-box-orient:vertical;
    -webkit-box-direction:normal;
        -ms-flex-direction:column;
            flex-direction:column;
    -webkit-box-align:start;
        -ms-flex-align:start;
            align-items:flex-start; }
    .bp3-tabs.bp3-vertical > .bp3-tab-list .bp3-tab{
      border-radius:3px;
      width:100%;
      padding:0 10px; }
      .bp3-tabs.bp3-vertical > .bp3-tab-list .bp3-tab[aria-selected="true"]{
        -webkit-box-shadow:none;
                box-shadow:none;
        background-color:rgba(19, 124, 189, 0.2); }
    .bp3-tabs.bp3-vertical > .bp3-tab-list .bp3-tab-indicator-wrapper .bp3-tab-indicator{
      top:0;
      right:0;
      bottom:0;
      left:0;
      border-radius:3px;
      background-color:rgba(19, 124, 189, 0.2);
      height:auto; }
  .bp3-tabs.bp3-vertical > .bp3-tab-panel{
    margin-top:0;
    padding-left:20px; }

.bp3-tab-list{
  display:-webkit-box;
  display:-ms-flexbox;
  display:flex;
  -webkit-box-flex:0;
      -ms-flex:0 0 auto;
          flex:0 0 auto;
  -webkit-box-align:end;
      -ms-flex-align:end;
          align-items:flex-end;
  position:relative;
  margin:0;
  border:none;
  padding:0;
  list-style:none; }
  .bp3-tab-list > *:not(:last-child){
    margin-right:20px; }

.bp3-tab{
  overflow:hidden;
  text-overflow:ellipsis;
  white-space:nowrap;
  word-wrap:normal;
  -webkit-box-flex:0;
      -ms-flex:0 0 auto;
          flex:0 0 auto;
  position:relative;
  cursor:pointer;
  max-width:100%;
  vertical-align:top;
  line-height:30px;
  color:#182026;
  font-size:14px; }
  .bp3-tab a{
    display:block;
    text-decoration:none;
    color:inherit; }
  .bp3-tab-indicator-wrapper ~ .bp3-tab{
    -webkit-box-shadow:none !important;
            box-shadow:none !important;
    background-color:transparent !important; }
  .bp3-tab[aria-disabled="true"]{
    cursor:not-allowed;
    color:rgba(92, 112, 128, 0.6); }
  .bp3-tab[aria-selected="true"]{
    border-radius:0;
    -webkit-box-shadow:inset 0 -3px 0 #106ba3;
            box-shadow:inset 0 -3px 0 #106ba3; }
  .bp3-tab[aria-selected="true"], .bp3-tab:not([aria-disabled="true"]):hover{
    color:#106ba3; }
  .bp3-tab:focus{
    -moz-outline-radius:0; }
  .bp3-large > .bp3-tab{
    line-height:40px;
    font-size:16px; }

.bp3-tab-panel{
  margin-top:20px; }
  .bp3-tab-panel[aria-hidden="true"]{
    display:none; }

.bp3-tab-indicator-wrapper{
  position:absolute;
  top:0;
  left:0;
  -webkit-transform:translateX(0), translateY(0);
          transform:translateX(0), translateY(0);
  -webkit-transition:height, width, -webkit-transform;
  transition:height, width, -webkit-transform;
  transition:height, transform, width;
  transition:height, transform, width, -webkit-transform;
  -webkit-transition-duration:200ms;
          transition-duration:200ms;
  -webkit-transition-timing-function:cubic-bezier(0.4, 1, 0.75, 0.9);
          transition-timing-function:cubic-bezier(0.4, 1, 0.75, 0.9);
  pointer-events:none; }
  .bp3-tab-indicator-wrapper .bp3-tab-indicator{
    position:absolute;
    right:0;
    bottom:0;
    left:0;
    background-color:#106ba3;
    height:3px; }
  .bp3-tab-indicator-wrapper.bp3-no-animation{
    -webkit-transition:none;
    transition:none; }

.bp3-dark .bp3-tab{
  color:#f5f8fa; }
  .bp3-dark .bp3-tab[aria-disabled="true"]{
    color:rgba(167, 182, 194, 0.6); }
  .bp3-dark .bp3-tab[aria-selected="true"]{
    -webkit-box-shadow:inset 0 -3px 0 #48aff0;
            box-shadow:inset 0 -3px 0 #48aff0; }
  .bp3-dark .bp3-tab[aria-selected="true"], .bp3-dark .bp3-tab:not([aria-disabled="true"]):hover{
    color:#48aff0; }

.bp3-dark .bp3-tab-indicator{
  background-color:#48aff0; }

.bp3-flex-expander{
  -webkit-box-flex:1;
      -ms-flex:1 1;
          flex:1 1; }
.bp3-tag{
  display:-webkit-inline-box;
  display:-ms-inline-flexbox;
  display:inline-flex;
  -webkit-box-orient:horizontal;
  -webkit-box-direction:normal;
      -ms-flex-direction:row;
          flex-direction:row;
  -webkit-box-align:center;
      -ms-flex-align:center;
          align-items:center;
  position:relative;
  border:none;
  border-radius:3px;
  -webkit-box-shadow:none;
          box-shadow:none;
  background-color:#5c7080;
  min-width:20px;
  max-width:100%;
  min-height:20px;
  padding:2px 6px;
  line-height:16px;
  color:#f5f8fa;
  font-size:12px; }
  .bp3-tag.bp3-interactive{
    cursor:pointer; }
    .bp3-tag.bp3-interactive:hover{
      background-color:rgba(92, 112, 128, 0.85); }
    .bp3-tag.bp3-interactive.bp3-active, .bp3-tag.bp3-interactive:active{
      background-color:rgba(92, 112, 128, 0.7); }
  .bp3-tag > *{
    -webkit-box-flex:0;
        -ms-flex-positive:0;
            flex-grow:0;
    -ms-flex-negative:0;
        flex-shrink:0; }
  .bp3-tag > .bp3-fill{
    -webkit-box-flex:1;
        -ms-flex-positive:1;
            flex-grow:1;
    -ms-flex-negative:1;
        flex-shrink:1; }
  .bp3-tag::before,
  .bp3-tag > *{
    margin-right:4px; }
  .bp3-tag:empty::before,
  .bp3-tag > :last-child{
    margin-right:0; }
  .bp3-tag:focus{
    outline:rgba(19, 124, 189, 0.6) auto 2px;
    outline-offset:0;
    -moz-outline-radius:6px; }
  .bp3-tag.bp3-round{
    border-radius:30px;
    padding-right:8px;
    padding-left:8px; }
  .bp3-dark .bp3-tag{
    background-color:#bfccd6;
    color:#182026; }
    .bp3-dark .bp3-tag.bp3-interactive{
      cursor:pointer; }
      .bp3-dark .bp3-tag.bp3-interactive:hover{
        background-color:rgba(191, 204, 214, 0.85); }
      .bp3-dark .bp3-tag.bp3-interactive.bp3-active, .bp3-dark .bp3-tag.bp3-interactive:active{
        background-color:rgba(191, 204, 214, 0.7); }
    .bp3-dark .bp3-tag > .bp3-icon, .bp3-dark .bp3-tag .bp3-icon-standard, .bp3-dark .bp3-tag .bp3-icon-large{
      fill:currentColor; }
  .bp3-tag > .bp3-icon, .bp3-tag .bp3-icon-standard, .bp3-tag .bp3-icon-large{
    fill:#ffffff; }
  .bp3-tag.bp3-large,
  .bp3-large .bp3-tag{
    min-width:30px;
    min-height:30px;
    padding:0 10px;
    line-height:20px;
    font-size:14px; }
    .bp3-tag.bp3-large::before,
    .bp3-tag.bp3-large > *,
    .bp3-large .bp3-tag::before,
    .bp3-large .bp3-tag > *{
      margin-right:7px; }
    .bp3-tag.bp3-large:empty::before,
    .bp3-tag.bp3-large > :last-child,
    .bp3-large .bp3-tag:empty::before,
    .bp3-large .bp3-tag > :last-child{
      margin-right:0; }
    .bp3-tag.bp3-large.bp3-round,
    .bp3-large .bp3-tag.bp3-round{
      padding-right:12px;
      padding-left:12px; }
  .bp3-tag.bp3-intent-primary{
    background:#137cbd;
    color:#ffffff; }
    .bp3-tag.bp3-intent-primary.bp3-interactive{
      cursor:pointer; }
      .bp3-tag.bp3-intent-primary.bp3-interactive:hover{
        background-color:rgba(19, 124, 189, 0.85); }
      .bp3-tag.bp3-intent-primary.bp3-interactive.bp3-active, .bp3-tag.bp3-intent-primary.bp3-interactive:active{
        background-color:rgba(19, 124, 189, 0.7); }
  .bp3-tag.bp3-intent-success{
    background:#0f9960;
    color:#ffffff; }
    .bp3-tag.bp3-intent-success.bp3-interactive{
      cursor:pointer; }
      .bp3-tag.bp3-intent-success.bp3-interactive:hover{
        background-color:rgba(15, 153, 96, 0.85); }
      .bp3-tag.bp3-intent-success.bp3-interactive.bp3-active, .bp3-tag.bp3-intent-success.bp3-interactive:active{
        background-color:rgba(15, 153, 96, 0.7); }
  .bp3-tag.bp3-intent-warning{
    background:#d9822b;
    color:#ffffff; }
    .bp3-tag.bp3-intent-warning.bp3-interactive{
      cursor:pointer; }
      .bp3-tag.bp3-intent-warning.bp3-interactive:hover{
        background-color:rgba(217, 130, 43, 0.85); }
      .bp3-tag.bp3-intent-warning.bp3-interactive.bp3-active, .bp3-tag.bp3-intent-warning.bp3-interactive:active{
        background-color:rgba(217, 130, 43, 0.7); }
  .bp3-tag.bp3-intent-danger{
    background:#db3737;
    color:#ffffff; }
    .bp3-tag.bp3-intent-danger.bp3-interactive{
      cursor:pointer; }
      .bp3-tag.bp3-intent-danger.bp3-interactive:hover{
        background-color:rgba(219, 55, 55, 0.85); }
      .bp3-tag.bp3-intent-danger.bp3-interactive.bp3-active, .bp3-tag.bp3-intent-danger.bp3-interactive:active{
        background-color:rgba(219, 55, 55, 0.7); }
  .bp3-tag.bp3-fill{
    display:-webkit-box;
    display:-ms-flexbox;
    display:flex;
    width:100%; }
  .bp3-tag.bp3-minimal > .bp3-icon, .bp3-tag.bp3-minimal .bp3-icon-standard, .bp3-tag.bp3-minimal .bp3-icon-large{
    fill:#5c7080; }
  .bp3-tag.bp3-minimal:not([class*="bp3-intent-"]){
    background-color:rgba(138, 155, 168, 0.2);
    color:#182026; }
    .bp3-tag.bp3-minimal:not([class*="bp3-intent-"]).bp3-interactive{
      cursor:pointer; }
      .bp3-tag.bp3-minimal:not([class*="bp3-intent-"]).bp3-interactive:hover{
        background-color:rgba(92, 112, 128, 0.3); }
      .bp3-tag.bp3-minimal:not([class*="bp3-intent-"]).bp3-interactive.bp3-active, .bp3-tag.bp3-minimal:not([class*="bp3-intent-"]).bp3-interactive:active{
        background-color:rgba(92, 112, 128, 0.4); }
    .bp3-dark .bp3-tag.bp3-minimal:not([class*="bp3-intent-"]){
      color:#f5f8fa; }
      .bp3-dark .bp3-tag.bp3-minimal:not([class*="bp3-intent-"]).bp3-interactive{
        cursor:pointer; }
        .bp3-dark .bp3-tag.bp3-minimal:not([class*="bp3-intent-"]).bp3-interactive:hover{
          background-color:rgba(191, 204, 214, 0.3); }
        .bp3-dark .bp3-tag.bp3-minimal:not([class*="bp3-intent-"]).bp3-interactive.bp3-active, .bp3-dark .bp3-tag.bp3-minimal:not([class*="bp3-intent-"]).bp3-interactive:active{
          background-color:rgba(191, 204, 214, 0.4); }
      .bp3-dark .bp3-tag.bp3-minimal:not([class*="bp3-intent-"]) > .bp3-icon, .bp3-dark .bp3-tag.bp3-minimal:not([class*="bp3-intent-"]) .bp3-icon-standard, .bp3-dark .bp3-tag.bp3-minimal:not([class*="bp3-intent-"]) .bp3-icon-large{
        fill:#a7b6c2; }
  .bp3-tag.bp3-minimal.bp3-intent-primary{
    background-color:rgba(19, 124, 189, 0.15);
    color:#106ba3; }
    .bp3-tag.bp3-minimal.bp3-intent-primary.bp3-interactive{
      cursor:pointer; }
      .bp3-tag.bp3-minimal.bp3-intent-primary.bp3-interactive:hover{
        background-color:rgba(19, 124, 189, 0.25); }
      .bp3-tag.bp3-minimal.bp3-intent-primary.bp3-interactive.bp3-active, .bp3-tag.bp3-minimal.bp3-intent-primary.bp3-interactive:active{
        background-color:rgba(19, 124, 189, 0.35); }
    .bp3-tag.bp3-minimal.bp3-intent-primary > .bp3-icon, .bp3-tag.bp3-minimal.bp3-intent-primary .bp3-icon-standard, .bp3-tag.bp3-minimal.bp3-intent-primary .bp3-icon-large{
      fill:#137cbd; }
    .bp3-dark .bp3-tag.bp3-minimal.bp3-intent-primary{
      background-color:rgba(19, 124, 189, 0.25);
      color:#48aff0; }
      .bp3-dark .bp3-tag.bp3-minimal.bp3-intent-primary.bp3-interactive{
        cursor:pointer; }
        .bp3-dark .bp3-tag.bp3-minimal.bp3-intent-primary.bp3-interactive:hover{
          background-color:rgba(19, 124, 189, 0.35); }
        .bp3-dark .bp3-tag.bp3-minimal.bp3-intent-primary.bp3-interactive.bp3-active, .bp3-dark .bp3-tag.bp3-minimal.bp3-intent-primary.bp3-interactive:active{
          background-color:rgba(19, 124, 189, 0.45); }
  .bp3-tag.bp3-minimal.bp3-intent-success{
    background-color:rgba(15, 153, 96, 0.15);
    color:#0d8050; }
    .bp3-tag.bp3-minimal.bp3-intent-success.bp3-interactive{
      cursor:pointer; }
      .bp3-tag.bp3-minimal.bp3-intent-success.bp3-interactive:hover{
        background-color:rgba(15, 153, 96, 0.25); }
      .bp3-tag.bp3-minimal.bp3-intent-success.bp3-interactive.bp3-active, .bp3-tag.bp3-minimal.bp3-intent-success.bp3-interactive:active{
        background-color:rgba(15, 153, 96, 0.35); }
    .bp3-tag.bp3-minimal.bp3-intent-success > .bp3-icon, .bp3-tag.bp3-minimal.bp3-intent-success .bp3-icon-standard, .bp3-tag.bp3-minimal.bp3-intent-success .bp3-icon-large{
      fill:#0f9960; }
    .bp3-dark .bp3-tag.bp3-minimal.bp3-intent-success{
      background-color:rgba(15, 153, 96, 0.25);
      color:#3dcc91; }
      .bp3-dark .bp3-tag.bp3-minimal.bp3-intent-success.bp3-interactive{
        cursor:pointer; }
        .bp3-dark .bp3-tag.bp3-minimal.bp3-intent-success.bp3-interactive:hover{
          background-color:rgba(15, 153, 96, 0.35); }
        .bp3-dark .bp3-tag.bp3-minimal.bp3-intent-success.bp3-interactive.bp3-active, .bp3-dark .bp3-tag.bp3-minimal.bp3-intent-success.bp3-interactive:active{
          background-color:rgba(15, 153, 96, 0.45); }
  .bp3-tag.bp3-minimal.bp3-intent-warning{
    background-color:rgba(217, 130, 43, 0.15);
    color:#bf7326; }
    .bp3-tag.bp3-minimal.bp3-intent-warning.bp3-interactive{
      cursor:pointer; }
      .bp3-tag.bp3-minimal.bp3-intent-warning.bp3-interactive:hover{
        background-color:rgba(217, 130, 43, 0.25); }
      .bp3-tag.bp3-minimal.bp3-intent-warning.bp3-interactive.bp3-active, .bp3-tag.bp3-minimal.bp3-intent-warning.bp3-interactive:active{
        background-color:rgba(217, 130, 43, 0.35); }
    .bp3-tag.bp3-minimal.bp3-intent-warning > .bp3-icon, .bp3-tag.bp3-minimal.bp3-intent-warning .bp3-icon-standard, .bp3-tag.bp3-minimal.bp3-intent-warning .bp3-icon-large{
      fill:#d9822b; }
    .bp3-dark .bp3-tag.bp3-minimal.bp3-intent-warning{
      background-color:rgba(217, 130, 43, 0.25);
      color:#ffb366; }
      .bp3-dark .bp3-tag.bp3-minimal.bp3-intent-warning.bp3-interactive{
        cursor:pointer; }
        .bp3-dark .bp3-tag.bp3-minimal.bp3-intent-warning.bp3-interactive:hover{
          background-color:rgba(217, 130, 43, 0.35); }
        .bp3-dark .bp3-tag.bp3-minimal.bp3-intent-warning.bp3-interactive.bp3-active, .bp3-dark .bp3-tag.bp3-minimal.bp3-intent-warning.bp3-interactive:active{
          background-color:rgba(217, 130, 43, 0.45); }
  .bp3-tag.bp3-minimal.bp3-intent-danger{
    background-color:rgba(219, 55, 55, 0.15);
    color:#c23030; }
    .bp3-tag.bp3-minimal.bp3-intent-danger.bp3-interactive{
      cursor:pointer; }
      .bp3-tag.bp3-minimal.bp3-intent-danger.bp3-interactive:hover{
        background-color:rgba(219, 55, 55, 0.25); }
      .bp3-tag.bp3-minimal.bp3-intent-danger.bp3-interactive.bp3-active, .bp3-tag.bp3-minimal.bp3-intent-danger.bp3-interactive:active{
        background-color:rgba(219, 55, 55, 0.35); }
    .bp3-tag.bp3-minimal.bp3-intent-danger > .bp3-icon, .bp3-tag.bp3-minimal.bp3-intent-danger .bp3-icon-standard, .bp3-tag.bp3-minimal.bp3-intent-danger .bp3-icon-large{
      fill:#db3737; }
    .bp3-dark .bp3-tag.bp3-minimal.bp3-intent-danger{
      background-color:rgba(219, 55, 55, 0.25);
      color:#ff7373; }
      .bp3-dark .bp3-tag.bp3-minimal.bp3-intent-danger.bp3-interactive{
        cursor:pointer; }
        .bp3-dark .bp3-tag.bp3-minimal.bp3-intent-danger.bp3-interactive:hover{
          background-color:rgba(219, 55, 55, 0.35); }
        .bp3-dark .bp3-tag.bp3-minimal.bp3-intent-danger.bp3-interactive.bp3-active, .bp3-dark .bp3-tag.bp3-minimal.bp3-intent-danger.bp3-interactive:active{
          background-color:rgba(219, 55, 55, 0.45); }

.bp3-tag-remove{
  display:-webkit-box;
  display:-ms-flexbox;
  display:flex;
  opacity:0.5;
  margin-top:-2px;
  margin-right:-6px !important;
  margin-bottom:-2px;
  border:none;
  background:none;
  cursor:pointer;
  padding:2px;
  padding-left:0;
  color:inherit; }
  .bp3-tag-remove:hover{
    opacity:0.8;
    background:none;
    text-decoration:none; }
  .bp3-tag-remove:active{
    opacity:1; }
  .bp3-tag-remove:empty::before{
    line-height:1;
    font-family:"Icons16", sans-serif;
    font-size:16px;
    font-weight:400;
    font-style:normal;
    -moz-osx-font-smoothing:grayscale;
    -webkit-font-smoothing:antialiased;
    content:""; }
  .bp3-large .bp3-tag-remove{
    margin-right:-10px !important;
    padding:5px;
    padding-left:0; }
    .bp3-large .bp3-tag-remove:empty::before{
      line-height:1;
      font-family:"Icons20", sans-serif;
      font-size:20px;
      font-weight:400;
      font-style:normal; }
.bp3-tag-input{
  display:-webkit-box;
  display:-ms-flexbox;
  display:flex;
  -webkit-box-orient:horizontal;
  -webkit-box-direction:normal;
      -ms-flex-direction:row;
          flex-direction:row;
  -webkit-box-align:start;
      -ms-flex-align:start;
          align-items:flex-start;
  cursor:text;
  height:auto;
  min-height:30px;
  padding-right:0;
  padding-left:5px;
  line-height:inherit; }
  .bp3-tag-input > *{
    -webkit-box-flex:0;
        -ms-flex-positive:0;
            flex-grow:0;
    -ms-flex-negative:0;
        flex-shrink:0; }
  .bp3-tag-input > .bp3-tag-input-values{
    -webkit-box-flex:1;
        -ms-flex-positive:1;
            flex-grow:1;
    -ms-flex-negative:1;
        flex-shrink:1; }
  .bp3-tag-input .bp3-tag-input-icon{
    margin-top:7px;
    margin-right:7px;
    margin-left:2px;
    color:#5c7080; }
  .bp3-tag-input .bp3-tag-input-values{
    display:-webkit-box;
    display:-ms-flexbox;
    display:flex;
    -webkit-box-orient:horizontal;
    -webkit-box-direction:normal;
        -ms-flex-direction:row;
            flex-direction:row;
    -ms-flex-wrap:wrap;
        flex-wrap:wrap;
    -webkit-box-align:center;
        -ms-flex-align:center;
            align-items:center;
    -ms-flex-item-align:stretch;
        align-self:stretch;
    margin-top:5px;
    margin-right:7px;
    min-width:0; }
    .bp3-tag-input .bp3-tag-input-values > *{
      -webkit-box-flex:0;
          -ms-flex-positive:0;
              flex-grow:0;
      -ms-flex-negative:0;
          flex-shrink:0; }
    .bp3-tag-input .bp3-tag-input-values > .bp3-fill{
      -webkit-box-flex:1;
          -ms-flex-positive:1;
              flex-grow:1;
      -ms-flex-negative:1;
          flex-shrink:1; }
    .bp3-tag-input .bp3-tag-input-values::before,
    .bp3-tag-input .bp3-tag-input-values > *{
      margin-right:5px; }
    .bp3-tag-input .bp3-tag-input-values:empty::before,
    .bp3-tag-input .bp3-tag-input-values > :last-child{
      margin-right:0; }
    .bp3-tag-input .bp3-tag-input-values:first-child .bp3-input-ghost:first-child{
      padding-left:5px; }
    .bp3-tag-input .bp3-tag-input-values > *{
      margin-bottom:5px; }
  .bp3-tag-input .bp3-tag{
    overflow-wrap:break-word; }
    .bp3-tag-input .bp3-tag.bp3-active{
      outline:rgba(19, 124, 189, 0.6) auto 2px;
      outline-offset:0;
      -moz-outline-radius:6px; }
  .bp3-tag-input .bp3-input-ghost{
    -webkit-box-flex:1;
        -ms-flex:1 1 auto;
            flex:1 1 auto;
    width:80px;
    line-height:20px; }
    .bp3-tag-input .bp3-input-ghost:disabled, .bp3-tag-input .bp3-input-ghost.bp3-disabled{
      cursor:not-allowed; }
  .bp3-tag-input .bp3-button,
  .bp3-tag-input .bp3-spinner{
    margin:3px;
    margin-left:0; }
  .bp3-tag-input .bp3-button{
    min-width:24px;
    min-height:24px;
    padding:0 7px; }
  .bp3-tag-input.bp3-large{
    height:auto;
    min-height:40px; }
    .bp3-tag-input.bp3-large::before,
    .bp3-tag-input.bp3-large > *{
      margin-right:10px; }
    .bp3-tag-input.bp3-large:empty::before,
    .bp3-tag-input.bp3-large > :last-child{
      margin-right:0; }
    .bp3-tag-input.bp3-large .bp3-tag-input-icon{
      margin-top:10px;
      margin-left:5px; }
    .bp3-tag-input.bp3-large .bp3-input-ghost{
      line-height:30px; }
    .bp3-tag-input.bp3-large .bp3-button{
      min-width:30px;
      min-height:30px;
      padding:5px 10px;
      margin:5px;
      margin-left:0; }
    .bp3-tag-input.bp3-large .bp3-spinner{
      margin:8px;
      margin-left:0; }
  .bp3-tag-input.bp3-active{
    -webkit-box-shadow:0 0 0 1px #137cbd, 0 0 0 3px rgba(19, 124, 189, 0.3), inset 0 1px 1px rgba(16, 22, 26, 0.2);
            box-shadow:0 0 0 1px #137cbd, 0 0 0 3px rgba(19, 124, 189, 0.3), inset 0 1px 1px rgba(16, 22, 26, 0.2);
    background-color:#ffffff; }
    .bp3-tag-input.bp3-active.bp3-intent-primary{
      -webkit-box-shadow:0 0 0 1px #106ba3, 0 0 0 3px rgba(16, 107, 163, 0.3), inset 0 1px 1px rgba(16, 22, 26, 0.2);
              box-shadow:0 0 0 1px #106ba3, 0 0 0 3px rgba(16, 107, 163, 0.3), inset 0 1px 1px rgba(16, 22, 26, 0.2); }
    .bp3-tag-input.bp3-active.bp3-intent-success{
      -webkit-box-shadow:0 0 0 1px #0d8050, 0 0 0 3px rgba(13, 128, 80, 0.3), inset 0 1px 1px rgba(16, 22, 26, 0.2);
              box-shadow:0 0 0 1px #0d8050, 0 0 0 3px rgba(13, 128, 80, 0.3), inset 0 1px 1px rgba(16, 22, 26, 0.2); }
    .bp3-tag-input.bp3-active.bp3-intent-warning{
      -webkit-box-shadow:0 0 0 1px #bf7326, 0 0 0 3px rgba(191, 115, 38, 0.3), inset 0 1px 1px rgba(16, 22, 26, 0.2);
              box-shadow:0 0 0 1px #bf7326, 0 0 0 3px rgba(191, 115, 38, 0.3), inset 0 1px 1px rgba(16, 22, 26, 0.2); }
    .bp3-tag-input.bp3-active.bp3-intent-danger{
      -webkit-box-shadow:0 0 0 1px #c23030, 0 0 0 3px rgba(194, 48, 48, 0.3), inset 0 1px 1px rgba(16, 22, 26, 0.2);
              box-shadow:0 0 0 1px #c23030, 0 0 0 3px rgba(194, 48, 48, 0.3), inset 0 1px 1px rgba(16, 22, 26, 0.2); }
  .bp3-dark .bp3-tag-input .bp3-tag-input-icon, .bp3-tag-input.bp3-dark .bp3-tag-input-icon{
    color:#a7b6c2; }
  .bp3-dark .bp3-tag-input .bp3-input-ghost, .bp3-tag-input.bp3-dark .bp3-input-ghost{
    color:#f5f8fa; }
    .bp3-dark .bp3-tag-input .bp3-input-ghost::-webkit-input-placeholder, .bp3-tag-input.bp3-dark .bp3-input-ghost::-webkit-input-placeholder{
      color:rgba(167, 182, 194, 0.6); }
    .bp3-dark .bp3-tag-input .bp3-input-ghost::-moz-placeholder, .bp3-tag-input.bp3-dark .bp3-input-ghost::-moz-placeholder{
      color:rgba(167, 182, 194, 0.6); }
    .bp3-dark .bp3-tag-input .bp3-input-ghost:-ms-input-placeholder, .bp3-tag-input.bp3-dark .bp3-input-ghost:-ms-input-placeholder{
      color:rgba(167, 182, 194, 0.6); }
    .bp3-dark .bp3-tag-input .bp3-input-ghost::-ms-input-placeholder, .bp3-tag-input.bp3-dark .bp3-input-ghost::-ms-input-placeholder{
      color:rgba(167, 182, 194, 0.6); }
    .bp3-dark .bp3-tag-input .bp3-input-ghost::placeholder, .bp3-tag-input.bp3-dark .bp3-input-ghost::placeholder{
      color:rgba(167, 182, 194, 0.6); }
  .bp3-dark .bp3-tag-input.bp3-active, .bp3-tag-input.bp3-dark.bp3-active{
    -webkit-box-shadow:0 0 0 1px #137cbd, 0 0 0 1px #137cbd, 0 0 0 3px rgba(19, 124, 189, 0.3), inset 0 0 0 1px rgba(16, 22, 26, 0.3), inset 0 1px 1px rgba(16, 22, 26, 0.4);
            box-shadow:0 0 0 1px #137cbd, 0 0 0 1px #137cbd, 0 0 0 3px rgba(19, 124, 189, 0.3), inset 0 0 0 1px rgba(16, 22, 26, 0.3), inset 0 1px 1px rgba(16, 22, 26, 0.4);
    background-color:rgba(16, 22, 26, 0.3); }
    .bp3-dark .bp3-tag-input.bp3-active.bp3-intent-primary, .bp3-tag-input.bp3-dark.bp3-active.bp3-intent-primary{
      -webkit-box-shadow:0 0 0 1px #106ba3, 0 0 0 3px rgba(16, 107, 163, 0.3), inset 0 0 0 1px rgba(16, 22, 26, 0.3), inset 0 1px 1px rgba(16, 22, 26, 0.4);
              box-shadow:0 0 0 1px #106ba3, 0 0 0 3px rgba(16, 107, 163, 0.3), inset 0 0 0 1px rgba(16, 22, 26, 0.3), inset 0 1px 1px rgba(16, 22, 26, 0.4); }
    .bp3-dark .bp3-tag-input.bp3-active.bp3-intent-success, .bp3-tag-input.bp3-dark.bp3-active.bp3-intent-success{
      -webkit-box-shadow:0 0 0 1px #0d8050, 0 0 0 3px rgba(13, 128, 80, 0.3), inset 0 0 0 1px rgba(16, 22, 26, 0.3), inset 0 1px 1px rgba(16, 22, 26, 0.4);
              box-shadow:0 0 0 1px #0d8050, 0 0 0 3px rgba(13, 128, 80, 0.3), inset 0 0 0 1px rgba(16, 22, 26, 0.3), inset 0 1px 1px rgba(16, 22, 26, 0.4); }
    .bp3-dark .bp3-tag-input.bp3-active.bp3-intent-warning, .bp3-tag-input.bp3-dark.bp3-active.bp3-intent-warning{
      -webkit-box-shadow:0 0 0 1px #bf7326, 0 0 0 3px rgba(191, 115, 38, 0.3), inset 0 0 0 1px rgba(16, 22, 26, 0.3), inset 0 1px 1px rgba(16, 22, 26, 0.4);
              box-shadow:0 0 0 1px #bf7326, 0 0 0 3px rgba(191, 115, 38, 0.3), inset 0 0 0 1px rgba(16, 22, 26, 0.3), inset 0 1px 1px rgba(16, 22, 26, 0.4); }
    .bp3-dark .bp3-tag-input.bp3-active.bp3-intent-danger, .bp3-tag-input.bp3-dark.bp3-active.bp3-intent-danger{
      -webkit-box-shadow:0 0 0 1px #c23030, 0 0 0 3px rgba(194, 48, 48, 0.3), inset 0 0 0 1px rgba(16, 22, 26, 0.3), inset 0 1px 1px rgba(16, 22, 26, 0.4);
              box-shadow:0 0 0 1px #c23030, 0 0 0 3px rgba(194, 48, 48, 0.3), inset 0 0 0 1px rgba(16, 22, 26, 0.3), inset 0 1px 1px rgba(16, 22, 26, 0.4); }

.bp3-input-ghost{
  border:none;
  -webkit-box-shadow:none;
          box-shadow:none;
  background:none;
  padding:0; }
  .bp3-input-ghost::-webkit-input-placeholder{
    opacity:1;
    color:rgba(92, 112, 128, 0.6); }
  .bp3-input-ghost::-moz-placeholder{
    opacity:1;
    color:rgba(92, 112, 128, 0.6); }
  .bp3-input-ghost:-ms-input-placeholder{
    opacity:1;
    color:rgba(92, 112, 128, 0.6); }
  .bp3-input-ghost::-ms-input-placeholder{
    opacity:1;
    color:rgba(92, 112, 128, 0.6); }
  .bp3-input-ghost::placeholder{
    opacity:1;
    color:rgba(92, 112, 128, 0.6); }
  .bp3-input-ghost:focus{
    outline:none !important; }
.bp3-toast{
  display:-webkit-box;
  display:-ms-flexbox;
  display:flex;
  -webkit-box-align:start;
      -ms-flex-align:start;
          align-items:flex-start;
  position:relative !important;
  margin:20px 0 0;
  border-radius:3px;
  -webkit-box-shadow:0 0 0 1px rgba(16, 22, 26, 0.1), 0 2px 4px rgba(16, 22, 26, 0.2), 0 8px 24px rgba(16, 22, 26, 0.2);
          box-shadow:0 0 0 1px rgba(16, 22, 26, 0.1), 0 2px 4px rgba(16, 22, 26, 0.2), 0 8px 24px rgba(16, 22, 26, 0.2);
  background-color:#ffffff;
  min-width:300px;
  max-width:500px;
  pointer-events:all; }
  .bp3-toast.bp3-toast-enter, .bp3-toast.bp3-toast-appear{
    -webkit-transform:translateY(-40px);
            transform:translateY(-40px); }
  .bp3-toast.bp3-toast-enter-active, .bp3-toast.bp3-toast-appear-active{
    -webkit-transform:translateY(0);
            transform:translateY(0);
    -webkit-transition-property:-webkit-transform;
    transition-property:-webkit-transform;
    transition-property:transform;
    transition-property:transform, -webkit-transform;
    -webkit-transition-duration:300ms;
            transition-duration:300ms;
    -webkit-transition-timing-function:cubic-bezier(0.54, 1.12, 0.38, 1.11);
            transition-timing-function:cubic-bezier(0.54, 1.12, 0.38, 1.11);
    -webkit-transition-delay:0;
            transition-delay:0; }
  .bp3-toast.bp3-toast-enter ~ .bp3-toast, .bp3-toast.bp3-toast-appear ~ .bp3-toast{
    -webkit-transform:translateY(-40px);
            transform:translateY(-40px); }
  .bp3-toast.bp3-toast-enter-active ~ .bp3-toast, .bp3-toast.bp3-toast-appear-active ~ .bp3-toast{
    -webkit-transform:translateY(0);
            transform:translateY(0);
    -webkit-transition-property:-webkit-transform;
    transition-property:-webkit-transform;
    transition-property:transform;
    transition-property:transform, -webkit-transform;
    -webkit-transition-duration:300ms;
            transition-duration:300ms;
    -webkit-transition-timing-function:cubic-bezier(0.54, 1.12, 0.38, 1.11);
            transition-timing-function:cubic-bezier(0.54, 1.12, 0.38, 1.11);
    -webkit-transition-delay:0;
            transition-delay:0; }
  .bp3-toast.bp3-toast-exit{
    opacity:1;
    -webkit-filter:blur(0);
            filter:blur(0); }
  .bp3-toast.bp3-toast-exit-active{
    opacity:0;
    -webkit-filter:blur(10px);
            filter:blur(10px);
    -webkit-transition-property:opacity, -webkit-filter;
    transition-property:opacity, -webkit-filter;
    transition-property:opacity, filter;
    transition-property:opacity, filter, -webkit-filter;
    -webkit-transition-duration:300ms;
            transition-duration:300ms;
    -webkit-transition-timing-function:cubic-bezier(0.4, 1, 0.75, 0.9);
            transition-timing-function:cubic-bezier(0.4, 1, 0.75, 0.9);
    -webkit-transition-delay:0;
            transition-delay:0; }
  .bp3-toast.bp3-toast-exit ~ .bp3-toast{
    -webkit-transform:translateY(0);
            transform:translateY(0); }
  .bp3-toast.bp3-toast-exit-active ~ .bp3-toast{
    -webkit-transform:translateY(-40px);
            transform:translateY(-40px);
    -webkit-transition-property:-webkit-transform;
    transition-property:-webkit-transform;
    transition-property:transform;
    transition-property:transform, -webkit-transform;
    -webkit-transition-duration:100ms;
            transition-duration:100ms;
    -webkit-transition-timing-function:cubic-bezier(0.4, 1, 0.75, 0.9);
            transition-timing-function:cubic-bezier(0.4, 1, 0.75, 0.9);
    -webkit-transition-delay:50ms;
            transition-delay:50ms; }
  .bp3-toast .bp3-button-group{
    -webkit-box-flex:0;
        -ms-flex:0 0 auto;
            flex:0 0 auto;
    padding:5px;
    padding-left:0; }
  .bp3-toast > .bp3-icon{
    margin:12px;
    margin-right:0;
    color:#5c7080; }
  .bp3-toast.bp3-dark,
  .bp3-dark .bp3-toast{
    -webkit-box-shadow:0 0 0 1px rgba(16, 22, 26, 0.2), 0 2px 4px rgba(16, 22, 26, 0.4), 0 8px 24px rgba(16, 22, 26, 0.4);
            box-shadow:0 0 0 1px rgba(16, 22, 26, 0.2), 0 2px 4px rgba(16, 22, 26, 0.4), 0 8px 24px rgba(16, 22, 26, 0.4);
    background-color:#394b59; }
    .bp3-toast.bp3-dark > .bp3-icon,
    .bp3-dark .bp3-toast > .bp3-icon{
      color:#a7b6c2; }
  .bp3-toast[class*="bp3-intent-"] a{
    color:rgba(255, 255, 255, 0.7); }
    .bp3-toast[class*="bp3-intent-"] a:hover{
      color:#ffffff; }
  .bp3-toast[class*="bp3-intent-"] > .bp3-icon{
    color:#ffffff; }
  .bp3-toast[class*="bp3-intent-"] .bp3-button, .bp3-toast[class*="bp3-intent-"] .bp3-button::before,
  .bp3-toast[class*="bp3-intent-"] .bp3-button .bp3-icon, .bp3-toast[class*="bp3-intent-"] .bp3-button:active{
    color:rgba(255, 255, 255, 0.7) !important; }
  .bp3-toast[class*="bp3-intent-"] .bp3-button:focus{
    outline-color:rgba(255, 255, 255, 0.5); }
  .bp3-toast[class*="bp3-intent-"] .bp3-button:hover{
    background-color:rgba(255, 255, 255, 0.15) !important;
    color:#ffffff !important; }
  .bp3-toast[class*="bp3-intent-"] .bp3-button:active{
    background-color:rgba(255, 255, 255, 0.3) !important;
    color:#ffffff !important; }
  .bp3-toast[class*="bp3-intent-"] .bp3-button::after{
    background:rgba(255, 255, 255, 0.3) !important; }
  .bp3-toast.bp3-intent-primary{
    background-color:#137cbd;
    color:#ffffff; }
  .bp3-toast.bp3-intent-success{
    background-color:#0f9960;
    color:#ffffff; }
  .bp3-toast.bp3-intent-warning{
    background-color:#d9822b;
    color:#ffffff; }
  .bp3-toast.bp3-intent-danger{
    background-color:#db3737;
    color:#ffffff; }

.bp3-toast-message{
  -webkit-box-flex:1;
      -ms-flex:1 1 auto;
          flex:1 1 auto;
  padding:11px;
  word-break:break-word; }

.bp3-toast-container{
  display:-webkit-box !important;
  display:-ms-flexbox !important;
  display:flex !important;
  -webkit-box-orient:vertical;
  -webkit-box-direction:normal;
      -ms-flex-direction:column;
          flex-direction:column;
  -webkit-box-align:center;
      -ms-flex-align:center;
          align-items:center;
  position:fixed;
  right:0;
  left:0;
  z-index:40;
  overflow:hidden;
  padding:0 20px 20px;
  pointer-events:none; }
  .bp3-toast-container.bp3-toast-container-top{
    top:0;
    bottom:auto; }
  .bp3-toast-container.bp3-toast-container-bottom{
    -webkit-box-orient:vertical;
    -webkit-box-direction:reverse;
        -ms-flex-direction:column-reverse;
            flex-direction:column-reverse;
    top:auto;
    bottom:0; }
  .bp3-toast-container.bp3-toast-container-left{
    -webkit-box-align:start;
        -ms-flex-align:start;
            align-items:flex-start; }
  .bp3-toast-container.bp3-toast-container-right{
    -webkit-box-align:end;
        -ms-flex-align:end;
            align-items:flex-end; }

.bp3-toast-container-bottom .bp3-toast.bp3-toast-enter:not(.bp3-toast-enter-active),
.bp3-toast-container-bottom .bp3-toast.bp3-toast-enter:not(.bp3-toast-enter-active) ~ .bp3-toast, .bp3-toast-container-bottom .bp3-toast.bp3-toast-appear:not(.bp3-toast-appear-active),
.bp3-toast-container-bottom .bp3-toast.bp3-toast-appear:not(.bp3-toast-appear-active) ~ .bp3-toast,
.bp3-toast-container-bottom .bp3-toast.bp3-toast-leave-active ~ .bp3-toast{
  -webkit-transform:translateY(60px);
          transform:translateY(60px); }
.bp3-tooltip{
  -webkit-box-shadow:0 0 0 1px rgba(16, 22, 26, 0.1), 0 2px 4px rgba(16, 22, 26, 0.2), 0 8px 24px rgba(16, 22, 26, 0.2);
          box-shadow:0 0 0 1px rgba(16, 22, 26, 0.1), 0 2px 4px rgba(16, 22, 26, 0.2), 0 8px 24px rgba(16, 22, 26, 0.2);
  -webkit-transform:scale(1);
          transform:scale(1); }
  .bp3-tooltip .bp3-popover-arrow{
    position:absolute;
    width:22px;
    height:22px; }
    .bp3-tooltip .bp3-popover-arrow::before{
      margin:4px;
      width:14px;
      height:14px; }
  .bp3-tether-element-attached-bottom.bp3-tether-target-attached-top > .bp3-tooltip{
    margin-top:-11px;
    margin-bottom:11px; }
    .bp3-tether-element-attached-bottom.bp3-tether-target-attached-top > .bp3-tooltip > .bp3-popover-arrow{
      bottom:-8px; }
      .bp3-tether-element-attached-bottom.bp3-tether-target-attached-top > .bp3-tooltip > .bp3-popover-arrow svg{
        -webkit-transform:rotate(-90deg);
                transform:rotate(-90deg); }
  .bp3-tether-element-attached-left.bp3-tether-target-attached-right > .bp3-tooltip{
    margin-left:11px; }
    .bp3-tether-element-attached-left.bp3-tether-target-attached-right > .bp3-tooltip > .bp3-popover-arrow{
      left:-8px; }
      .bp3-tether-element-attached-left.bp3-tether-target-attached-right > .bp3-tooltip > .bp3-popover-arrow svg{
        -webkit-transform:rotate(0);
                transform:rotate(0); }
  .bp3-tether-element-attached-top.bp3-tether-target-attached-bottom > .bp3-tooltip{
    margin-top:11px; }
    .bp3-tether-element-attached-top.bp3-tether-target-attached-bottom > .bp3-tooltip > .bp3-popover-arrow{
      top:-8px; }
      .bp3-tether-element-attached-top.bp3-tether-target-attached-bottom > .bp3-tooltip > .bp3-popover-arrow svg{
        -webkit-transform:rotate(90deg);
                transform:rotate(90deg); }
  .bp3-tether-element-attached-right.bp3-tether-target-attached-left > .bp3-tooltip{
    margin-right:11px;
    margin-left:-11px; }
    .bp3-tether-element-attached-right.bp3-tether-target-attached-left > .bp3-tooltip > .bp3-popover-arrow{
      right:-8px; }
      .bp3-tether-element-attached-right.bp3-tether-target-attached-left > .bp3-tooltip > .bp3-popover-arrow svg{
        -webkit-transform:rotate(180deg);
                transform:rotate(180deg); }
  .bp3-tether-element-attached-middle > .bp3-tooltip > .bp3-popover-arrow{
    top:50%;
    -webkit-transform:translateY(-50%);
            transform:translateY(-50%); }
  .bp3-tether-element-attached-center > .bp3-tooltip > .bp3-popover-arrow{
    right:50%;
    -webkit-transform:translateX(50%);
            transform:translateX(50%); }
  .bp3-tether-element-attached-top.bp3-tether-target-attached-top > .bp3-tooltip > .bp3-popover-arrow{
    top:-0.22183px; }
  .bp3-tether-element-attached-right.bp3-tether-target-attached-right > .bp3-tooltip > .bp3-popover-arrow{
    right:-0.22183px; }
  .bp3-tether-element-attached-left.bp3-tether-target-attached-left > .bp3-tooltip > .bp3-popover-arrow{
    left:-0.22183px; }
  .bp3-tether-element-attached-bottom.bp3-tether-target-attached-bottom > .bp3-tooltip > .bp3-popover-arrow{
    bottom:-0.22183px; }
  .bp3-tether-element-attached-top.bp3-tether-element-attached-left > .bp3-tooltip{
    -webkit-transform-origin:top left;
            transform-origin:top left; }
  .bp3-tether-element-attached-top.bp3-tether-element-attached-center > .bp3-tooltip{
    -webkit-transform-origin:top center;
            transform-origin:top center; }
  .bp3-tether-element-attached-top.bp3-tether-element-attached-right > .bp3-tooltip{
    -webkit-transform-origin:top right;
            transform-origin:top right; }
  .bp3-tether-element-attached-middle.bp3-tether-element-attached-left > .bp3-tooltip{
    -webkit-transform-origin:center left;
            transform-origin:center left; }
  .bp3-tether-element-attached-middle.bp3-tether-element-attached-center > .bp3-tooltip{
    -webkit-transform-origin:center center;
            transform-origin:center center; }
  .bp3-tether-element-attached-middle.bp3-tether-element-attached-right > .bp3-tooltip{
    -webkit-transform-origin:center right;
            transform-origin:center right; }
  .bp3-tether-element-attached-bottom.bp3-tether-element-attached-left > .bp3-tooltip{
    -webkit-transform-origin:bottom left;
            transform-origin:bottom left; }
  .bp3-tether-element-attached-bottom.bp3-tether-element-attached-center > .bp3-tooltip{
    -webkit-transform-origin:bottom center;
            transform-origin:bottom center; }
  .bp3-tether-element-attached-bottom.bp3-tether-element-attached-right > .bp3-tooltip{
    -webkit-transform-origin:bottom right;
            transform-origin:bottom right; }
  .bp3-tooltip .bp3-popover-content{
    background:#394b59;
    color:#f5f8fa; }
  .bp3-tooltip .bp3-popover-arrow::before{
    -webkit-box-shadow:1px 1px 6px rgba(16, 22, 26, 0.2);
            box-shadow:1px 1px 6px rgba(16, 22, 26, 0.2); }
  .bp3-tooltip .bp3-popover-arrow-border{
    fill:#10161a;
    fill-opacity:0.1; }
  .bp3-tooltip .bp3-popover-arrow-fill{
    fill:#394b59; }
  .bp3-popover-enter > .bp3-tooltip, .bp3-popover-appear > .bp3-tooltip{
    -webkit-transform:scale(0.8);
            transform:scale(0.8); }
  .bp3-popover-enter-active > .bp3-tooltip, .bp3-popover-appear-active > .bp3-tooltip{
    -webkit-transform:scale(1);
            transform:scale(1);
    -webkit-transition-property:-webkit-transform;
    transition-property:-webkit-transform;
    transition-property:transform;
    transition-property:transform, -webkit-transform;
    -webkit-transition-duration:100ms;
            transition-duration:100ms;
    -webkit-transition-timing-function:cubic-bezier(0.4, 1, 0.75, 0.9);
            transition-timing-function:cubic-bezier(0.4, 1, 0.75, 0.9);
    -webkit-transition-delay:0;
            transition-delay:0; }
  .bp3-popover-exit > .bp3-tooltip{
    -webkit-transform:scale(1);
            transform:scale(1); }
  .bp3-popover-exit-active > .bp3-tooltip{
    -webkit-transform:scale(0.8);
            transform:scale(0.8);
    -webkit-transition-property:-webkit-transform;
    transition-property:-webkit-transform;
    transition-property:transform;
    transition-property:transform, -webkit-transform;
    -webkit-transition-duration:100ms;
            transition-duration:100ms;
    -webkit-transition-timing-function:cubic-bezier(0.4, 1, 0.75, 0.9);
            transition-timing-function:cubic-bezier(0.4, 1, 0.75, 0.9);
    -webkit-transition-delay:0;
            transition-delay:0; }
  .bp3-tooltip .bp3-popover-content{
    padding:10px 12px; }
  .bp3-tooltip.bp3-dark,
  .bp3-dark .bp3-tooltip{
    -webkit-box-shadow:0 0 0 1px rgba(16, 22, 26, 0.2), 0 2px 4px rgba(16, 22, 26, 0.4), 0 8px 24px rgba(16, 22, 26, 0.4);
            box-shadow:0 0 0 1px rgba(16, 22, 26, 0.2), 0 2px 4px rgba(16, 22, 26, 0.4), 0 8px 24px rgba(16, 22, 26, 0.4); }
    .bp3-tooltip.bp3-dark .bp3-popover-content,
    .bp3-dark .bp3-tooltip .bp3-popover-content{
      background:#e1e8ed;
      color:#394b59; }
    .bp3-tooltip.bp3-dark .bp3-popover-arrow::before,
    .bp3-dark .bp3-tooltip .bp3-popover-arrow::before{
      -webkit-box-shadow:1px 1px 6px rgba(16, 22, 26, 0.4);
              box-shadow:1px 1px 6px rgba(16, 22, 26, 0.4); }
    .bp3-tooltip.bp3-dark .bp3-popover-arrow-border,
    .bp3-dark .bp3-tooltip .bp3-popover-arrow-border{
      fill:#10161a;
      fill-opacity:0.2; }
    .bp3-tooltip.bp3-dark .bp3-popover-arrow-fill,
    .bp3-dark .bp3-tooltip .bp3-popover-arrow-fill{
      fill:#e1e8ed; }
  .bp3-tooltip.bp3-intent-primary .bp3-popover-content{
    background:#137cbd;
    color:#ffffff; }
  .bp3-tooltip.bp3-intent-primary .bp3-popover-arrow-fill{
    fill:#137cbd; }
  .bp3-tooltip.bp3-intent-success .bp3-popover-content{
    background:#0f9960;
    color:#ffffff; }
  .bp3-tooltip.bp3-intent-success .bp3-popover-arrow-fill{
    fill:#0f9960; }
  .bp3-tooltip.bp3-intent-warning .bp3-popover-content{
    background:#d9822b;
    color:#ffffff; }
  .bp3-tooltip.bp3-intent-warning .bp3-popover-arrow-fill{
    fill:#d9822b; }
  .bp3-tooltip.bp3-intent-danger .bp3-popover-content{
    background:#db3737;
    color:#ffffff; }
  .bp3-tooltip.bp3-intent-danger .bp3-popover-arrow-fill{
    fill:#db3737; }

.bp3-tooltip-indicator{
  border-bottom:dotted 1px;
  cursor:help; }
.bp3-tree .bp3-icon, .bp3-tree .bp3-icon-standard, .bp3-tree .bp3-icon-large{
  color:#5c7080; }
  .bp3-tree .bp3-icon.bp3-intent-primary, .bp3-tree .bp3-icon-standard.bp3-intent-primary, .bp3-tree .bp3-icon-large.bp3-intent-primary{
    color:#137cbd; }
  .bp3-tree .bp3-icon.bp3-intent-success, .bp3-tree .bp3-icon-standard.bp3-intent-success, .bp3-tree .bp3-icon-large.bp3-intent-success{
    color:#0f9960; }
  .bp3-tree .bp3-icon.bp3-intent-warning, .bp3-tree .bp3-icon-standard.bp3-intent-warning, .bp3-tree .bp3-icon-large.bp3-intent-warning{
    color:#d9822b; }
  .bp3-tree .bp3-icon.bp3-intent-danger, .bp3-tree .bp3-icon-standard.bp3-intent-danger, .bp3-tree .bp3-icon-large.bp3-intent-danger{
    color:#db3737; }

.bp3-tree-node-list{
  margin:0;
  padding-left:0;
  list-style:none; }

.bp3-tree-root{
  position:relative;
  background-color:transparent;
  cursor:default;
  padding-left:0; }

.bp3-tree-node-content-0{
  padding-left:0px; }

.bp3-tree-node-content-1{
  padding-left:23px; }

.bp3-tree-node-content-2{
  padding-left:46px; }

.bp3-tree-node-content-3{
  padding-left:69px; }

.bp3-tree-node-content-4{
  padding-left:92px; }

.bp3-tree-node-content-5{
  padding-left:115px; }

.bp3-tree-node-content-6{
  padding-left:138px; }

.bp3-tree-node-content-7{
  padding-left:161px; }

.bp3-tree-node-content-8{
  padding-left:184px; }

.bp3-tree-node-content-9{
  padding-left:207px; }

.bp3-tree-node-content-10{
  padding-left:230px; }

.bp3-tree-node-content-11{
  padding-left:253px; }

.bp3-tree-node-content-12{
  padding-left:276px; }

.bp3-tree-node-content-13{
  padding-left:299px; }

.bp3-tree-node-content-14{
  padding-left:322px; }

.bp3-tree-node-content-15{
  padding-left:345px; }

.bp3-tree-node-content-16{
  padding-left:368px; }

.bp3-tree-node-content-17{
  padding-left:391px; }

.bp3-tree-node-content-18{
  padding-left:414px; }

.bp3-tree-node-content-19{
  padding-left:437px; }

.bp3-tree-node-content-20{
  padding-left:460px; }

.bp3-tree-node-content{
  display:-webkit-box;
  display:-ms-flexbox;
  display:flex;
  -webkit-box-align:center;
      -ms-flex-align:center;
          align-items:center;
  width:100%;
  height:30px;
  padding-right:5px; }
  .bp3-tree-node-content:hover{
    background-color:rgba(191, 204, 214, 0.4); }

.bp3-tree-node-caret,
.bp3-tree-node-caret-none{
  min-width:30px; }

.bp3-tree-node-caret{
  color:#5c7080;
  -webkit-transform:rotate(0deg);
          transform:rotate(0deg);
  cursor:pointer;
  padding:7px;
  -webkit-transition:-webkit-transform 200ms cubic-bezier(0.4, 1, 0.75, 0.9);
  transition:-webkit-transform 200ms cubic-bezier(0.4, 1, 0.75, 0.9);
  transition:transform 200ms cubic-bezier(0.4, 1, 0.75, 0.9);
  transition:transform 200ms cubic-bezier(0.4, 1, 0.75, 0.9), -webkit-transform 200ms cubic-bezier(0.4, 1, 0.75, 0.9); }
  .bp3-tree-node-caret:hover{
    color:#182026; }
  .bp3-dark .bp3-tree-node-caret{
    color:#a7b6c2; }
    .bp3-dark .bp3-tree-node-caret:hover{
      color:#f5f8fa; }
  .bp3-tree-node-caret.bp3-tree-node-caret-open{
    -webkit-transform:rotate(90deg);
            transform:rotate(90deg); }
  .bp3-tree-node-caret.bp3-icon-standard::before{
    content:""; }

.bp3-tree-node-icon{
  position:relative;
  margin-right:7px; }

.bp3-tree-node-label{
  overflow:hidden;
  text-overflow:ellipsis;
  white-space:nowrap;
  word-wrap:normal;
  -webkit-box-flex:1;
      -ms-flex:1 1 auto;
          flex:1 1 auto;
  position:relative;
  -webkit-user-select:none;
     -moz-user-select:none;
      -ms-user-select:none;
          user-select:none; }
  .bp3-tree-node-label span{
    display:inline; }

.bp3-tree-node-secondary-label{
  padding:0 5px;
  -webkit-user-select:none;
     -moz-user-select:none;
      -ms-user-select:none;
          user-select:none; }
  .bp3-tree-node-secondary-label .bp3-popover-wrapper,
  .bp3-tree-node-secondary-label .bp3-popover-target{
    display:-webkit-box;
    display:-ms-flexbox;
    display:flex;
    -webkit-box-align:center;
        -ms-flex-align:center;
            align-items:center; }

.bp3-tree-node.bp3-disabled .bp3-tree-node-content{
  background-color:inherit;
  cursor:not-allowed;
  color:rgba(92, 112, 128, 0.6); }

.bp3-tree-node.bp3-disabled .bp3-tree-node-caret,
.bp3-tree-node.bp3-disabled .bp3-tree-node-icon{
  cursor:not-allowed;
  color:rgba(92, 112, 128, 0.6); }

.bp3-tree-node.bp3-tree-node-selected > .bp3-tree-node-content{
  background-color:#137cbd; }
  .bp3-tree-node.bp3-tree-node-selected > .bp3-tree-node-content,
  .bp3-tree-node.bp3-tree-node-selected > .bp3-tree-node-content .bp3-icon, .bp3-tree-node.bp3-tree-node-selected > .bp3-tree-node-content .bp3-icon-standard, .bp3-tree-node.bp3-tree-node-selected > .bp3-tree-node-content .bp3-icon-large{
    color:#ffffff; }
  .bp3-tree-node.bp3-tree-node-selected > .bp3-tree-node-content .bp3-tree-node-caret::before{
    color:rgba(255, 255, 255, 0.7); }
  .bp3-tree-node.bp3-tree-node-selected > .bp3-tree-node-content .bp3-tree-node-caret:hover::before{
    color:#ffffff; }

.bp3-dark .bp3-tree-node-content:hover{
  background-color:rgba(92, 112, 128, 0.3); }

.bp3-dark .bp3-tree .bp3-icon, .bp3-dark .bp3-tree .bp3-icon-standard, .bp3-dark .bp3-tree .bp3-icon-large{
  color:#a7b6c2; }
  .bp3-dark .bp3-tree .bp3-icon.bp3-intent-primary, .bp3-dark .bp3-tree .bp3-icon-standard.bp3-intent-primary, .bp3-dark .bp3-tree .bp3-icon-large.bp3-intent-primary{
    color:#137cbd; }
  .bp3-dark .bp3-tree .bp3-icon.bp3-intent-success, .bp3-dark .bp3-tree .bp3-icon-standard.bp3-intent-success, .bp3-dark .bp3-tree .bp3-icon-large.bp3-intent-success{
    color:#0f9960; }
  .bp3-dark .bp3-tree .bp3-icon.bp3-intent-warning, .bp3-dark .bp3-tree .bp3-icon-standard.bp3-intent-warning, .bp3-dark .bp3-tree .bp3-icon-large.bp3-intent-warning{
    color:#d9822b; }
  .bp3-dark .bp3-tree .bp3-icon.bp3-intent-danger, .bp3-dark .bp3-tree .bp3-icon-standard.bp3-intent-danger, .bp3-dark .bp3-tree .bp3-icon-large.bp3-intent-danger{
    color:#db3737; }

.bp3-dark .bp3-tree-node.bp3-tree-node-selected > .bp3-tree-node-content{
  background-color:#137cbd; }
/*!

Copyright 2017-present Palantir Technologies, Inc. All rights reserved.
Licensed under the Apache License, Version 2.0.

*/
.bp3-omnibar{
  -webkit-filter:blur(0);
          filter:blur(0);
  opacity:1;
  top:20vh;
  left:calc(50% - 250px);
  z-index:21;
  border-radius:3px;
  -webkit-box-shadow:0 0 0 1px rgba(16, 22, 26, 0.1), 0 4px 8px rgba(16, 22, 26, 0.2), 0 18px 46px 6px rgba(16, 22, 26, 0.2);
          box-shadow:0 0 0 1px rgba(16, 22, 26, 0.1), 0 4px 8px rgba(16, 22, 26, 0.2), 0 18px 46px 6px rgba(16, 22, 26, 0.2);
  background-color:#ffffff;
  width:500px; }
  .bp3-omnibar.bp3-overlay-enter, .bp3-omnibar.bp3-overlay-appear{
    -webkit-filter:blur(20px);
            filter:blur(20px);
    opacity:0.2; }
  .bp3-omnibar.bp3-overlay-enter-active, .bp3-omnibar.bp3-overlay-appear-active{
    -webkit-filter:blur(0);
            filter:blur(0);
    opacity:1;
    -webkit-transition-property:opacity, -webkit-filter;
    transition-property:opacity, -webkit-filter;
    transition-property:filter, opacity;
    transition-property:filter, opacity, -webkit-filter;
    -webkit-transition-duration:200ms;
            transition-duration:200ms;
    -webkit-transition-timing-function:cubic-bezier(0.4, 1, 0.75, 0.9);
            transition-timing-function:cubic-bezier(0.4, 1, 0.75, 0.9);
    -webkit-transition-delay:0;
            transition-delay:0; }
  .bp3-omnibar.bp3-overlay-exit{
    -webkit-filter:blur(0);
            filter:blur(0);
    opacity:1; }
  .bp3-omnibar.bp3-overlay-exit-active{
    -webkit-filter:blur(20px);
            filter:blur(20px);
    opacity:0.2;
    -webkit-transition-property:opacity, -webkit-filter;
    transition-property:opacity, -webkit-filter;
    transition-property:filter, opacity;
    transition-property:filter, opacity, -webkit-filter;
    -webkit-transition-duration:200ms;
            transition-duration:200ms;
    -webkit-transition-timing-function:cubic-bezier(0.4, 1, 0.75, 0.9);
            transition-timing-function:cubic-bezier(0.4, 1, 0.75, 0.9);
    -webkit-transition-delay:0;
            transition-delay:0; }
  .bp3-omnibar .bp3-input{
    border-radius:0;
    background-color:transparent; }
    .bp3-omnibar .bp3-input, .bp3-omnibar .bp3-input:focus{
      -webkit-box-shadow:none;
              box-shadow:none; }
  .bp3-omnibar .bp3-menu{
    border-radius:0;
    -webkit-box-shadow:inset 0 1px 0 rgba(16, 22, 26, 0.15);
            box-shadow:inset 0 1px 0 rgba(16, 22, 26, 0.15);
    background-color:transparent;
    max-height:calc(60vh - 40px);
    overflow:auto; }
    .bp3-omnibar .bp3-menu:empty{
      display:none; }
  .bp3-dark .bp3-omnibar, .bp3-omnibar.bp3-dark{
    -webkit-box-shadow:0 0 0 1px rgba(16, 22, 26, 0.2), 0 4px 8px rgba(16, 22, 26, 0.4), 0 18px 46px 6px rgba(16, 22, 26, 0.4);
            box-shadow:0 0 0 1px rgba(16, 22, 26, 0.2), 0 4px 8px rgba(16, 22, 26, 0.4), 0 18px 46px 6px rgba(16, 22, 26, 0.4);
    background-color:#30404d; }

.bp3-omnibar-overlay .bp3-overlay-backdrop{
  background-color:rgba(16, 22, 26, 0.2); }

.bp3-select-popover .bp3-popover-content{
  padding:5px; }

.bp3-select-popover .bp3-input-group{
  margin-bottom:0; }

.bp3-select-popover .bp3-menu{
  max-width:400px;
  max-height:300px;
  overflow:auto;
  padding:0; }
  .bp3-select-popover .bp3-menu:not(:first-child){
    padding-top:5px; }

.bp3-multi-select{
  min-width:150px; }

.bp3-multi-select-popover .bp3-menu{
  max-width:400px;
  max-height:300px;
  overflow:auto; }

.bp3-select-popover .bp3-popover-content{
  padding:5px; }

.bp3-select-popover .bp3-input-group{
  margin-bottom:0; }

.bp3-select-popover .bp3-menu{
  max-width:400px;
  max-height:300px;
  overflow:auto;
  padding:0; }
  .bp3-select-popover .bp3-menu:not(:first-child){
    padding-top:5px; }
/*-----------------------------------------------------------------------------
| Copyright (c) Jupyter Development Team.
| Distributed under the terms of the Modified BSD License.
|----------------------------------------------------------------------------*/

/* This file was auto-generated by ensureUiComponents() in @jupyterlab/buildutils */

/**
 * (DEPRECATED) Support for consuming icons as CSS background images
 */

/* Icons urls */

:root {
  --jp-icon-add: url(data:image/svg+xml;base64,PHN2ZyB4bWxucz0iaHR0cDovL3d3dy53My5vcmcvMjAwMC9zdmciIHdpZHRoPSIxNiIgdmlld0JveD0iMCAwIDI0IDI0Ij4KICA8ZyBjbGFzcz0ianAtaWNvbjMiIGZpbGw9IiM2MTYxNjEiPgogICAgPHBhdGggZD0iTTE5IDEzaC02djZoLTJ2LTZINXYtMmg2VjVoMnY2aDZ2MnoiLz4KICA8L2c+Cjwvc3ZnPgo=);
  --jp-icon-bug: url(data:image/svg+xml;base64,PHN2ZyB2aWV3Qm94PSIwIDAgMjQgMjQiIHdpZHRoPSIxNiIgeG1sbnM9Imh0dHA6Ly93d3cudzMub3JnLzIwMDAvc3ZnIj4KICA8ZyBjbGFzcz0ianAtaWNvbjMiIGZpbGw9IiM2MTYxNjEiPgogICAgPHBhdGggZD0iTTIwIDhoLTIuODFjLS40NS0uNzgtMS4wNy0xLjQ1LTEuODItMS45NkwxNyA0LjQxIDE1LjU5IDNsLTIuMTcgMi4xN0MxMi45NiA1LjA2IDEyLjQ5IDUgMTIgNWMtLjQ5IDAtLjk2LjA2LTEuNDEuMTdMOC40MSAzIDcgNC40MWwxLjYyIDEuNjNDNy44OCA2LjU1IDcuMjYgNy4yMiA2LjgxIDhINHYyaDIuMDljLS4wNS4zMy0uMDkuNjYtLjA5IDF2MUg0djJoMnYxYzAgLjM0LjA0LjY3LjA5IDFINHYyaDIuODFjMS4wNCAxLjc5IDIuOTcgMyA1LjE5IDNzNC4xNS0xLjIxIDUuMTktM0gyMHYtMmgtMi4wOWMuMDUtLjMzLjA5LS42Ni4wOS0xdi0xaDJ2LTJoLTJ2LTFjMC0uMzQtLjA0LS42Ny0uMDktMUgyMFY4em0tNiA4aC00di0yaDR2MnptMC00aC00di0yaDR2MnoiLz4KICA8L2c+Cjwvc3ZnPgo=);
  --jp-icon-build: url(data:image/svg+xml;base64,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);
  --jp-icon-caret-down-empty-thin: url(data:image/svg+xml;base64,PHN2ZyB4bWxucz0iaHR0cDovL3d3dy53My5vcmcvMjAwMC9zdmciIHdpZHRoPSIxNiIgdmlld0JveD0iMCAwIDIwIDIwIj4KCTxnIGNsYXNzPSJqcC1pY29uMyIgZmlsbD0iIzYxNjE2MSIgc2hhcGUtcmVuZGVyaW5nPSJnZW9tZXRyaWNQcmVjaXNpb24iPgoJCTxwb2x5Z29uIGNsYXNzPSJzdDEiIHBvaW50cz0iOS45LDEzLjYgMy42LDcuNCA0LjQsNi42IDkuOSwxMi4yIDE1LjQsNi43IDE2LjEsNy40ICIvPgoJPC9nPgo8L3N2Zz4K);
  --jp-icon-caret-down-empty: url(data:image/svg+xml;base64,PHN2ZyB4bWxucz0iaHR0cDovL3d3dy53My5vcmcvMjAwMC9zdmciIHdpZHRoPSIxNiIgdmlld0JveD0iMCAwIDE4IDE4Ij4KICA8ZyBjbGFzcz0ianAtaWNvbjMiIGZpbGw9IiM2MTYxNjEiIHNoYXBlLXJlbmRlcmluZz0iZ2VvbWV0cmljUHJlY2lzaW9uIj4KICAgIDxwYXRoIGQ9Ik01LjIsNS45TDksOS43bDMuOC0zLjhsMS4yLDEuMmwtNC45LDVsLTQuOS01TDUuMiw1Ljl6Ii8+CiAgPC9nPgo8L3N2Zz4K);
  --jp-icon-caret-down: url(data:image/svg+xml;base64,PHN2ZyB4bWxucz0iaHR0cDovL3d3dy53My5vcmcvMjAwMC9zdmciIHdpZHRoPSIxNiIgdmlld0JveD0iMCAwIDE4IDE4Ij4KICA8ZyBjbGFzcz0ianAtaWNvbjMiIGZpbGw9IiM2MTYxNjEiIHNoYXBlLXJlbmRlcmluZz0iZ2VvbWV0cmljUHJlY2lzaW9uIj4KICAgIDxwYXRoIGQ9Ik01LjIsNy41TDksMTEuMmwzLjgtMy44SDUuMnoiLz4KICA8L2c+Cjwvc3ZnPgo=);
  --jp-icon-caret-left: url(data:image/svg+xml;base64,PHN2ZyB4bWxucz0iaHR0cDovL3d3dy53My5vcmcvMjAwMC9zdmciIHdpZHRoPSIxNiIgdmlld0JveD0iMCAwIDE4IDE4Ij4KCTxnIGNsYXNzPSJqcC1pY29uMyIgZmlsbD0iIzYxNjE2MSIgc2hhcGUtcmVuZGVyaW5nPSJnZW9tZXRyaWNQcmVjaXNpb24iPgoJCTxwYXRoIGQ9Ik0xMC44LDEyLjhMNy4xLDlsMy44LTMuOGwwLDcuNkgxMC44eiIvPgogIDwvZz4KPC9zdmc+Cg==);
  --jp-icon-caret-right: url(data:image/svg+xml;base64,PHN2ZyB4bWxucz0iaHR0cDovL3d3dy53My5vcmcvMjAwMC9zdmciIHdpZHRoPSIxNiIgdmlld0JveD0iMCAwIDE4IDE4Ij4KICA8ZyBjbGFzcz0ianAtaWNvbjMiIGZpbGw9IiM2MTYxNjEiIHNoYXBlLXJlbmRlcmluZz0iZ2VvbWV0cmljUHJlY2lzaW9uIj4KICAgIDxwYXRoIGQ9Ik03LjIsNS4yTDEwLjksOWwtMy44LDMuOFY1LjJINy4yeiIvPgogIDwvZz4KPC9zdmc+Cg==);
  --jp-icon-caret-up-empty-thin: url(data:image/svg+xml;base64,PHN2ZyB4bWxucz0iaHR0cDovL3d3dy53My5vcmcvMjAwMC9zdmciIHdpZHRoPSIxNiIgdmlld0JveD0iMCAwIDIwIDIwIj4KCTxnIGNsYXNzPSJqcC1pY29uMyIgZmlsbD0iIzYxNjE2MSIgc2hhcGUtcmVuZGVyaW5nPSJnZW9tZXRyaWNQcmVjaXNpb24iPgoJCTxwb2x5Z29uIGNsYXNzPSJzdDEiIHBvaW50cz0iMTUuNCwxMy4zIDkuOSw3LjcgNC40LDEzLjIgMy42LDEyLjUgOS45LDYuMyAxNi4xLDEyLjYgIi8+Cgk8L2c+Cjwvc3ZnPgo=);
  --jp-icon-caret-up: url(data:image/svg+xml;base64,PHN2ZyB4bWxucz0iaHR0cDovL3d3dy53My5vcmcvMjAwMC9zdmciIHdpZHRoPSIxNiIgdmlld0JveD0iMCAwIDE4IDE4Ij4KCTxnIGNsYXNzPSJqcC1pY29uMyIgZmlsbD0iIzYxNjE2MSIgc2hhcGUtcmVuZGVyaW5nPSJnZW9tZXRyaWNQcmVjaXNpb24iPgoJCTxwYXRoIGQ9Ik01LjIsMTAuNUw5LDYuOGwzLjgsMy44SDUuMnoiLz4KICA8L2c+Cjwvc3ZnPgo=);
  --jp-icon-case-sensitive: url(data:image/svg+xml;base64,PHN2ZyB4bWxucz0iaHR0cDovL3d3dy53My5vcmcvMjAwMC9zdmciIHdpZHRoPSIxNiIgdmlld0JveD0iMCAwIDIwIDIwIj4KICA8ZyBjbGFzcz0ianAtaWNvbjIiIGZpbGw9IiM0MTQxNDEiPgogICAgPHJlY3QgeD0iMiIgeT0iMiIgd2lkdGg9IjE2IiBoZWlnaHQ9IjE2Ii8+CiAgPC9nPgogIDxnIGNsYXNzPSJqcC1pY29uLWFjY2VudDIiIGZpbGw9IiNGRkYiPgogICAgPHBhdGggZD0iTTcuNiw4aDAuOWwzLjUsOGgtMS4xTDEwLDE0SDZsLTAuOSwySDRMNy42LDh6IE04LDkuMUw2LjQsMTNoMy4yTDgsOS4xeiIvPgogICAgPHBhdGggZD0iTTE2LjYsOS44Yy0wLjIsMC4xLTAuNCwwLjEtMC43LDAuMWMtMC4yLDAtMC40LTAuMS0wLjYtMC4yYy0wLjEtMC4xLTAuMi0wLjQtMC4yLTAuNyBjLTAuMywwLjMtMC42LDAuNS0wLjksMC43Yy0wLjMsMC4xLTAuNywwLjItMS4xLDAuMmMtMC4zLDAtMC41LDAtMC43LTAuMWMtMC4yLTAuMS0wLjQtMC4yLTAuNi0wLjNjLTAuMi0wLjEtMC4zLTAuMy0wLjQtMC41IGMtMC4xLTAuMi0wLjEtMC40LTAuMS0wLjdjMC0wLjMsMC4xLTAuNiwwLjItMC44YzAuMS0wLjIsMC4zLTAuNCwwLjQtMC41QzEyLDcsMTIuMiw2LjksMTIuNSw2LjhjMC4yLTAuMSwwLjUtMC4xLDAuNy0wLjIgYzAuMy0wLjEsMC41LTAuMSwwLjctMC4xYzAuMiwwLDAuNC0wLjEsMC42LTAuMWMwLjIsMCwwLjMtMC4xLDAuNC0wLjJjMC4xLTAuMSwwLjItMC4yLDAuMi0wLjRjMC0xLTEuMS0xLTEuMy0xIGMtMC40LDAtMS40LDAtMS40LDEuMmgtMC45YzAtMC40LDAuMS0wLjcsMC4yLTFjMC4xLTAuMiwwLjMtMC40LDAuNS0wLjZjMC4yLTAuMiwwLjUtMC4zLDAuOC0wLjNDMTMuMyw0LDEzLjYsNCwxMy45LDQgYzAuMywwLDAuNSwwLDAuOCwwLjFjMC4zLDAsMC41LDAuMSwwLjcsMC4yYzAuMiwwLjEsMC40LDAuMywwLjUsMC41QzE2LDUsMTYsNS4yLDE2LDUuNnYyLjljMCwwLjIsMCwwLjQsMCwwLjUgYzAsMC4xLDAuMSwwLjIsMC4zLDAuMmMwLjEsMCwwLjIsMCwwLjMsMFY5Ljh6IE0xNS4yLDYuOWMtMS4yLDAuNi0zLjEsMC4yLTMuMSwxLjRjMCwxLjQsMy4xLDEsMy4xLTAuNVY2Ljl6Ii8+CiAgPC9nPgo8L3N2Zz4K);
  --jp-icon-check: url(data:image/svg+xml;base64,PHN2ZyB4bWxucz0iaHR0cDovL3d3dy53My5vcmcvMjAwMC9zdmciIHdpZHRoPSIxNiIgdmlld0JveD0iMCAwIDI0IDI0Ij4KICA8ZyBjbGFzcz0ianAtaWNvbjMiIGZpbGw9IiM2MTYxNjEiPgogICAgPHBhdGggZD0iTTkgMTYuMTdMNC44MyAxMmwtMS40MiAxLjQxTDkgMTkgMjEgN2wtMS40MS0xLjQxeiIvPgogIDwvZz4KPC9zdmc+Cg==);
  --jp-icon-circle-empty: url(data:image/svg+xml;base64,PHN2ZyB4bWxucz0iaHR0cDovL3d3dy53My5vcmcvMjAwMC9zdmciIHdpZHRoPSIxNiIgdmlld0JveD0iMCAwIDI0IDI0Ij4KICA8ZyBjbGFzcz0ianAtaWNvbjMiIGZpbGw9IiM2MTYxNjEiPgogICAgPHBhdGggZD0iTTEyIDJDNi40NyAyIDIgNi40NyAyIDEyczQuNDcgMTAgMTAgMTAgMTAtNC40NyAxMC0xMFMxNy41MyAyIDEyIDJ6bTAgMThjLTQuNDEgMC04LTMuNTktOC04czMuNTktOCA4LTggOCAzLjU5IDggOC0zLjU5IDgtOCA4eiIvPgogIDwvZz4KPC9zdmc+Cg==);
  --jp-icon-circle: url(data:image/svg+xml;base64,PHN2ZyB2aWV3Qm94PSIwIDAgMTggMTgiIHdpZHRoPSIxNiIgeG1sbnM9Imh0dHA6Ly93d3cudzMub3JnLzIwMDAvc3ZnIj4KICA8ZyBjbGFzcz0ianAtaWNvbjMiIGZpbGw9IiM2MTYxNjEiPgogICAgPGNpcmNsZSBjeD0iOSIgY3k9IjkiIHI9IjgiLz4KICA8L2c+Cjwvc3ZnPgo=);
  --jp-icon-clear: url(data:image/svg+xml;base64,PHN2ZyB4bWxucz0iaHR0cDovL3d3dy53My5vcmcvMjAwMC9zdmciIHdpZHRoPSIxNiIgdmlld0JveD0iMCAwIDI0IDI0Ij4KICA8bWFzayBpZD0iZG9udXRIb2xlIj4KICAgIDxyZWN0IHdpZHRoPSIyNCIgaGVpZ2h0PSIyNCIgZmlsbD0id2hpdGUiIC8+CiAgICA8Y2lyY2xlIGN4PSIxMiIgY3k9IjEyIiByPSI4IiBmaWxsPSJibGFjayIvPgogIDwvbWFzaz4KCiAgPGcgY2xhc3M9ImpwLWljb24zIiBmaWxsPSIjNjE2MTYxIj4KICAgIDxyZWN0IGhlaWdodD0iMTgiIHdpZHRoPSIyIiB4PSIxMSIgeT0iMyIgdHJhbnNmb3JtPSJyb3RhdGUoMzE1LCAxMiwgMTIpIi8+CiAgICA8Y2lyY2xlIGN4PSIxMiIgY3k9IjEyIiByPSIxMCIgbWFzaz0idXJsKCNkb251dEhvbGUpIi8+CiAgPC9nPgo8L3N2Zz4K);
  --jp-icon-close: url(data:image/svg+xml;base64,PHN2ZyB2aWV3Qm94PSIwIDAgMjQgMjQiIHdpZHRoPSIxNiIgeG1sbnM9Imh0dHA6Ly93d3cudzMub3JnLzIwMDAvc3ZnIj4KICA8ZyBjbGFzcz0ianAtaWNvbi1ub25lIGpwLWljb24tc2VsZWN0YWJsZS1pbnZlcnNlIGpwLWljb24zLWhvdmVyIiBmaWxsPSJub25lIj4KICAgIDxjaXJjbGUgY3g9IjEyIiBjeT0iMTIiIHI9IjExIi8+CiAgPC9nPgoKICA8ZyBjbGFzcz0ianAtaWNvbjMganAtaWNvbi1zZWxlY3RhYmxlIGpwLWljb24tYWNjZW50Mi1ob3ZlciIgZmlsbD0iIzYxNjE2MSI+CiAgICA8cGF0aCBkPSJNMTkgNi40MUwxNy41OSA1IDEyIDEwLjU5IDYuNDEgNSA1IDYuNDEgMTAuNTkgMTIgNSAxNy41OSA2LjQxIDE5IDEyIDEzLjQxIDE3LjU5IDE5IDE5IDE3LjU5IDEzLjQxIDEyeiIvPgogIDwvZz4KCiAgPGcgY2xhc3M9ImpwLWljb24tbm9uZSBqcC1pY29uLWJ1c3kiIGZpbGw9Im5vbmUiPgogICAgPGNpcmNsZSBjeD0iMTIiIGN5PSIxMiIgcj0iNyIvPgogIDwvZz4KPC9zdmc+Cg==);
  --jp-icon-console: url(data:image/svg+xml;base64,PHN2ZyB4bWxucz0iaHR0cDovL3d3dy53My5vcmcvMjAwMC9zdmciIHdpZHRoPSIxNiIgdmlld0JveD0iMCAwIDIwMCAyMDAiPgogIDxnIGNsYXNzPSJqcC1pY29uLWJyYW5kMSBqcC1pY29uLXNlbGVjdGFibGUiIGZpbGw9IiMwMjg4RDEiPgogICAgPHBhdGggZD0iTTIwIDE5LjhoMTYwdjE1OS45SDIweiIvPgogIDwvZz4KICA8ZyBjbGFzcz0ianAtaWNvbi1zZWxlY3RhYmxlLWludmVyc2UiIGZpbGw9IiNmZmYiPgogICAgPHBhdGggZD0iTTEwNSAxMjcuM2g0MHYxMi44aC00MHpNNTEuMSA3N0w3NCA5OS45bC0yMy4zIDIzLjMgMTAuNSAxMC41IDIzLjMtMjMuM0w5NSA5OS45IDg0LjUgODkuNCA2MS42IDY2LjV6Ii8+CiAgPC9nPgo8L3N2Zz4K);
  --jp-icon-copy: url(data:image/svg+xml;base64,PHN2ZyB2aWV3Qm94PSIwIDAgMTggMTgiIHdpZHRoPSIxNiIgeG1sbnM9Imh0dHA6Ly93d3cudzMub3JnLzIwMDAvc3ZnIj4KICA8ZyBjbGFzcz0ianAtaWNvbjMiIGZpbGw9IiM2MTYxNjEiPgogICAgPHBhdGggZD0iTTExLjksMUgzLjJDMi40LDEsMS43LDEuNywxLjcsMi41djEwLjJoMS41VjIuNWg4LjdWMXogTTE0LjEsMy45aC04Yy0wLjgsMC0xLjUsMC43LTEuNSwxLjV2MTAuMmMwLDAuOCwwLjcsMS41LDEuNSwxLjVoOCBjMC44LDAsMS41LTAuNywxLjUtMS41VjUuNEMxNS41LDQuNiwxNC45LDMuOSwxNC4xLDMuOXogTTE0LjEsMTUuNWgtOFY1LjRoOFYxNS41eiIvPgogIDwvZz4KPC9zdmc+Cg==);
  --jp-icon-cut: url(data:image/svg+xml;base64,PHN2ZyB2aWV3Qm94PSIwIDAgMjQgMjQiIHdpZHRoPSIxNiIgeG1sbnM9Imh0dHA6Ly93d3cudzMub3JnLzIwMDAvc3ZnIj4KICA8ZyBjbGFzcz0ianAtaWNvbjMiIGZpbGw9IiM2MTYxNjEiPgogICAgPHBhdGggZD0iTTkuNjQgNy42NGMuMjMtLjUuMzYtMS4wNS4zNi0xLjY0IDAtMi4yMS0xLjc5LTQtNC00UzIgMy43OSAyIDZzMS43OSA0IDQgNGMuNTkgMCAxLjE0LS4xMyAxLjY0LS4zNkwxMCAxMmwtMi4zNiAyLjM2QzcuMTQgMTQuMTMgNi41OSAxNCA2IDE0Yy0yLjIxIDAtNCAxLjc5LTQgNHMxLjc5IDQgNCA0IDQtMS43OSA0LTRjMC0uNTktLjEzLTEuMTQtLjM2LTEuNjRMMTIgMTRsNyA3aDN2LTFMOS42NCA3LjY0ek02IDhjLTEuMSAwLTItLjg5LTItMnMuOS0yIDItMiAyIC44OSAyIDItLjkgMi0yIDJ6bTAgMTJjLTEuMSAwLTItLjg5LTItMnMuOS0yIDItMiAyIC44OSAyIDItLjkgMi0yIDJ6bTYtNy41Yy0uMjggMC0uNS0uMjItLjUtLjVzLjIyLS41LjUtLjUuNS4yMi41LjUtLjIyLjUtLjUuNXpNMTkgM2wtNiA2IDIgMiA3LTdWM3oiLz4KICA8L2c+Cjwvc3ZnPgo=);
  --jp-icon-download: url(data:image/svg+xml;base64,PHN2ZyB2aWV3Qm94PSIwIDAgMjQgMjQiIHdpZHRoPSIxNiIgeG1sbnM9Imh0dHA6Ly93d3cudzMub3JnLzIwMDAvc3ZnIj4KICA8ZyBjbGFzcz0ianAtaWNvbjMiIGZpbGw9IiM2MTYxNjEiPgogICAgPHBhdGggZD0iTTE5IDloLTRWM0g5djZINWw3IDcgNy03ek01IDE4djJoMTR2LTJINXoiLz4KICA8L2c+Cjwvc3ZnPgo=);
  --jp-icon-edit: url(data:image/svg+xml;base64,PHN2ZyB2aWV3Qm94PSIwIDAgMjQgMjQiIHdpZHRoPSIxNiIgeG1sbnM9Imh0dHA6Ly93d3cudzMub3JnLzIwMDAvc3ZnIj4KICA8ZyBjbGFzcz0ianAtaWNvbjMiIGZpbGw9IiM2MTYxNjEiPgogICAgPHBhdGggZD0iTTMgMTcuMjVWMjFoMy43NUwxNy44MSA5Ljk0bC0zLjc1LTMuNzVMMyAxNy4yNXpNMjAuNzEgNy4wNGMuMzktLjM5LjM5LTEuMDIgMC0xLjQxbC0yLjM0LTIuMzRjLS4zOS0uMzktMS4wMi0uMzktMS40MSAwbC0xLjgzIDEuODMgMy43NSAzLjc1IDEuODMtMS44M3oiLz4KICA8L2c+Cjwvc3ZnPgo=);
  --jp-icon-ellipses: url(data:image/svg+xml;base64,PHN2ZyB2aWV3Qm94PSIwIDAgMjQgMjQiIHdpZHRoPSIxNiIgeG1sbnM9Imh0dHA6Ly93d3cudzMub3JnLzIwMDAvc3ZnIj4KICA8ZyBjbGFzcz0ianAtaWNvbjMiIGZpbGw9IiM2MTYxNjEiPgogICAgPGNpcmNsZSBjeD0iNSIgY3k9IjEyIiByPSIyIi8+CiAgICA8Y2lyY2xlIGN4PSIxMiIgY3k9IjEyIiByPSIyIi8+CiAgICA8Y2lyY2xlIGN4PSIxOSIgY3k9IjEyIiByPSIyIi8+CiAgPC9nPgo8L3N2Zz4K);
  --jp-icon-extension: url(data:image/svg+xml;base64,PHN2ZyB4bWxucz0iaHR0cDovL3d3dy53My5vcmcvMjAwMC9zdmciIHdpZHRoPSIxNiIgdmlld0JveD0iMCAwIDI0IDI0Ij4KICA8ZyBjbGFzcz0ianAtaWNvbjMiIGZpbGw9IiM2MTYxNjEiPgogICAgPHBhdGggZD0iTTIwLjUgMTFIMTlWN2MwLTEuMS0uOS0yLTItMmgtNFYzLjVDMTMgMi4xMiAxMS44OCAxIDEwLjUgMVM4IDIuMTIgOCAzLjVWNUg0Yy0xLjEgMC0xLjk5LjktMS45OSAydjMuOEgzLjVjMS40OSAwIDIuNyAxLjIxIDIuNyAyLjdzLTEuMjEgMi43LTIuNyAyLjdIMlYyMGMwIDEuMS45IDIgMiAyaDMuOHYtMS41YzAtMS40OSAxLjIxLTIuNyAyLjctMi43IDEuNDkgMCAyLjcgMS4yMSAyLjcgMi43VjIySDE3YzEuMSAwIDItLjkgMi0ydi00aDEuNWMxLjM4IDAgMi41LTEuMTIgMi41LTIuNVMyMS44OCAxMSAyMC41IDExeiIvPgogIDwvZz4KPC9zdmc+Cg==);
  --jp-icon-fast-forward: url(data:image/svg+xml;base64,PHN2ZyB4bWxucz0iaHR0cDovL3d3dy53My5vcmcvMjAwMC9zdmciIHdpZHRoPSIyNCIgaGVpZ2h0PSIyNCIgdmlld0JveD0iMCAwIDI0IDI0Ij4KICAgIDxnIGNsYXNzPSJqcC1pY29uMyIgZmlsbD0iIzYxNjE2MSI+CiAgICAgICAgPHBhdGggZD0iTTQgMThsOC41LTZMNCA2djEyem05LTEydjEybDguNS02TDEzIDZ6Ii8+CiAgICA8L2c+Cjwvc3ZnPgo=);
  --jp-icon-file-upload: url(data:image/svg+xml;base64,PHN2ZyB4bWxucz0iaHR0cDovL3d3dy53My5vcmcvMjAwMC9zdmciIHdpZHRoPSIxNiIgdmlld0JveD0iMCAwIDI0IDI0Ij4KICA8ZyBjbGFzcz0ianAtaWNvbjMiIGZpbGw9IiM2MTYxNjEiPgogICAgPHBhdGggZD0iTTkgMTZoNnYtNmg0bC03LTctNyA3aDR6bS00IDJoMTR2Mkg1eiIvPgogIDwvZz4KPC9zdmc+Cg==);
  --jp-icon-file: url(data:image/svg+xml;base64,PHN2ZyB4bWxucz0iaHR0cDovL3d3dy53My5vcmcvMjAwMC9zdmciIHdpZHRoPSIxNiIgdmlld0JveD0iMCAwIDIyIDIyIj4KICA8cGF0aCBjbGFzcz0ianAtaWNvbjMganAtaWNvbi1zZWxlY3RhYmxlIiBmaWxsPSIjNjE2MTYxIiBkPSJNMTkuMyA4LjJsLTUuNS01LjVjLS4zLS4zLS43LS41LTEuMi0uNUgzLjljLS44LjEtMS42LjktMS42IDEuOHYxNC4xYzAgLjkuNyAxLjYgMS42IDEuNmgxNC4yYy45IDAgMS42LS43IDEuNi0xLjZWOS40Yy4xLS41LS4xLS45LS40LTEuMnptLTUuOC0zLjNsMy40IDMuNmgtMy40VjQuOXptMy45IDEyLjdINC43Yy0uMSAwLS4yIDAtLjItLjJWNC43YzAtLjIuMS0uMy4yLS4zaDcuMnY0LjRzMCAuOC4zIDEuMWMuMy4zIDEuMS4zIDEuMS4zaDQuM3Y3LjJzLS4xLjItLjIuMnoiLz4KPC9zdmc+Cg==);
  --jp-icon-filter-list: url(data:image/svg+xml;base64,PHN2ZyB4bWxucz0iaHR0cDovL3d3dy53My5vcmcvMjAwMC9zdmciIHdpZHRoPSIxNiIgdmlld0JveD0iMCAwIDI0IDI0Ij4KICA8ZyBjbGFzcz0ianAtaWNvbjMiIGZpbGw9IiM2MTYxNjEiPgogICAgPHBhdGggZD0iTTEwIDE4aDR2LTJoLTR2MnpNMyA2djJoMThWNkgzem0zIDdoMTJ2LTJINnYyeiIvPgogIDwvZz4KPC9zdmc+Cg==);
  --jp-icon-folder: url(data:image/svg+xml;base64,PHN2ZyB4bWxucz0iaHR0cDovL3d3dy53My5vcmcvMjAwMC9zdmciIHdpZHRoPSIxNiIgdmlld0JveD0iMCAwIDI0IDI0Ij4KICA8cGF0aCBjbGFzcz0ianAtaWNvbjMganAtaWNvbi1zZWxlY3RhYmxlIiBmaWxsPSIjNjE2MTYxIiBkPSJNMTAgNEg0Yy0xLjEgMC0xLjk5LjktMS45OSAyTDIgMThjMCAxLjEuOSAyIDIgMmgxNmMxLjEgMCAyLS45IDItMlY4YzAtMS4xLS45LTItMi0yaC04bC0yLTJ6Ii8+Cjwvc3ZnPgo=);
  --jp-icon-html5: url(data:image/svg+xml;base64,PHN2ZyB4bWxucz0iaHR0cDovL3d3dy53My5vcmcvMjAwMC9zdmciIHdpZHRoPSIxNiIgdmlld0JveD0iMCAwIDUxMiA1MTIiPgogIDxwYXRoIGNsYXNzPSJqcC1pY29uMCBqcC1pY29uLXNlbGVjdGFibGUiIGZpbGw9IiMwMDAiIGQ9Ik0xMDguNCAwaDIzdjIyLjhoMjEuMlYwaDIzdjY5aC0yM1Y0NmgtMjF2MjNoLTIzLjJNMjA2IDIzaC0yMC4zVjBoNjMuN3YyM0gyMjl2NDZoLTIzbTUzLjUtNjloMjQuMWwxNC44IDI0LjNMMzEzLjIgMGgyNC4xdjY5aC0yM1YzNC44bC0xNi4xIDI0LjgtMTYuMS0yNC44VjY5aC0yMi42bTg5LjItNjloMjN2NDYuMmgzMi42VjY5aC01NS42Ii8+CiAgPHBhdGggY2xhc3M9ImpwLWljb24tc2VsZWN0YWJsZSIgZmlsbD0iI2U0NGQyNiIgZD0iTTEwNy42IDQ3MWwtMzMtMzcwLjRoMzYyLjhsLTMzIDM3MC4yTDI1NS43IDUxMiIvPgogIDxwYXRoIGNsYXNzPSJqcC1pY29uLXNlbGVjdGFibGUiIGZpbGw9IiNmMTY1MjkiIGQ9Ik0yNTYgNDgwLjVWMTMxaDE0OC4zTDM3NiA0NDciLz4KICA8cGF0aCBjbGFzcz0ianAtaWNvbi1zZWxlY3RhYmxlLWludmVyc2UiIGZpbGw9IiNlYmViZWIiIGQ9Ik0xNDIgMTc2LjNoMTE0djQ1LjRoLTY0LjJsNC4yIDQ2LjVoNjB2NDUuM0gxNTQuNG0yIDIyLjhIMjAybDMuMiAzNi4zIDUwLjggMTMuNnY0Ny40bC05My4yLTI2Ii8+CiAgPHBhdGggY2xhc3M9ImpwLWljb24tc2VsZWN0YWJsZS1pbnZlcnNlIiBmaWxsPSIjZmZmIiBkPSJNMzY5LjYgMTc2LjNIMjU1Ljh2NDUuNGgxMDkuNm0tNC4xIDQ2LjVIMjU1Ljh2NDUuNGg1NmwtNS4zIDU5LTUwLjcgMTMuNnY0Ny4ybDkzLTI1LjgiLz4KPC9zdmc+Cg==);
  --jp-icon-image: url(data:image/svg+xml;base64,PHN2ZyB4bWxucz0iaHR0cDovL3d3dy53My5vcmcvMjAwMC9zdmciIHdpZHRoPSIxNiIgdmlld0JveD0iMCAwIDIyIDIyIj4KICA8cGF0aCBjbGFzcz0ianAtaWNvbi1icmFuZDQganAtaWNvbi1zZWxlY3RhYmxlLWludmVyc2UiIGZpbGw9IiNGRkYiIGQ9Ik0yLjIgMi4yaDE3LjV2MTcuNUgyLjJ6Ii8+CiAgPHBhdGggY2xhc3M9ImpwLWljb24tYnJhbmQwIGpwLWljb24tc2VsZWN0YWJsZSIgZmlsbD0iIzNGNTFCNSIgZD0iTTIuMiAyLjJ2MTcuNWgxNy41bC4xLTE3LjVIMi4yem0xMi4xIDIuMmMxLjIgMCAyLjIgMSAyLjIgMi4ycy0xIDIuMi0yLjIgMi4yLTIuMi0xLTIuMi0yLjIgMS0yLjIgMi4yLTIuMnpNNC40IDE3LjZsMy4zLTguOCAzLjMgNi42IDIuMi0zLjIgNC40IDUuNEg0LjR6Ii8+Cjwvc3ZnPgo=);
  --jp-icon-inspector: url(data:image/svg+xml;base64,PHN2ZyB4bWxucz0iaHR0cDovL3d3dy53My5vcmcvMjAwMC9zdmciIHdpZHRoPSIxNiIgdmlld0JveD0iMCAwIDI0IDI0Ij4KICA8cGF0aCBjbGFzcz0ianAtaWNvbjMganAtaWNvbi1zZWxlY3RhYmxlIiBmaWxsPSIjNjE2MTYxIiBkPSJNMjAgNEg0Yy0xLjEgMC0xLjk5LjktMS45OSAyTDIgMThjMCAxLjEuOSAyIDIgMmgxNmMxLjEgMCAyLS45IDItMlY2YzAtMS4xLS45LTItMi0yem0tNSAxNEg0di00aDExdjR6bTAtNUg0VjloMTF2NHptNSA1aC00VjloNHY5eiIvPgo8L3N2Zz4K);
  --jp-icon-json: url(data:image/svg+xml;base64,PHN2ZyB4bWxucz0iaHR0cDovL3d3dy53My5vcmcvMjAwMC9zdmciIHdpZHRoPSIxNiIgdmlld0JveD0iMCAwIDIyIDIyIj4KICA8ZyBjbGFzcz0ianAtaWNvbi13YXJuMSBqcC1pY29uLXNlbGVjdGFibGUiIGZpbGw9IiNGOUE4MjUiPgogICAgPHBhdGggZD0iTTIwLjIgMTEuOGMtMS42IDAtMS43LjUtMS43IDEgMCAuNC4xLjkuMSAxLjMuMS41LjEuOS4xIDEuMyAwIDEuNy0xLjQgMi4zLTMuNSAyLjNoLS45di0xLjloLjVjMS4xIDAgMS40IDAgMS40LS44IDAtLjMgMC0uNi0uMS0xIDAtLjQtLjEtLjgtLjEtMS4yIDAtMS4zIDAtMS44IDEuMy0yLTEuMy0uMi0xLjMtLjctMS4zLTIgMC0uNC4xLS44LjEtMS4yLjEtLjQuMS0uNy4xLTEgMC0uOC0uNC0uNy0xLjQtLjhoLS41VjQuMWguOWMyLjIgMCAzLjUuNyAzLjUgMi4zIDAgLjQtLjEuOS0uMSAxLjMtLjEuNS0uMS45LS4xIDEuMyAwIC41LjIgMSAxLjcgMXYxLjh6TTEuOCAxMC4xYzEuNiAwIDEuNy0uNSAxLjctMSAwLS40LS4xLS45LS4xLTEuMy0uMS0uNS0uMS0uOS0uMS0xLjMgMC0xLjYgMS40LTIuMyAzLjUtMi4zaC45djEuOWgtLjVjLTEgMC0xLjQgMC0xLjQuOCAwIC4zIDAgLjYuMSAxIDAgLjIuMS42LjEgMSAwIDEuMyAwIDEuOC0xLjMgMkM2IDExLjIgNiAxMS43IDYgMTNjMCAuNC0uMS44LS4xIDEuMi0uMS4zLS4xLjctLjEgMSAwIC44LjMuOCAxLjQuOGguNXYxLjloLS45Yy0yLjEgMC0zLjUtLjYtMy41LTIuMyAwLS40LjEtLjkuMS0xLjMuMS0uNS4xLS45LjEtMS4zIDAtLjUtLjItMS0xLjctMXYtMS45eiIvPgogICAgPGNpcmNsZSBjeD0iMTEiIGN5PSIxMy44IiByPSIyLjEiLz4KICAgIDxjaXJjbGUgY3g9IjExIiBjeT0iOC4yIiByPSIyLjEiLz4KICA8L2c+Cjwvc3ZnPgo=);
  --jp-icon-jupyter-favicon: url(data:image/svg+xml;base64,PHN2ZyB3aWR0aD0iMTUyIiBoZWlnaHQ9IjE2NSIgdmlld0JveD0iMCAwIDE1MiAxNjUiIHZlcnNpb249IjEuMSIgeG1sbnM9Imh0dHA6Ly93d3cudzMub3JnLzIwMDAvc3ZnIj4KICA8ZyBjbGFzcz0ianAtaWNvbi13YXJuMCIgZmlsbD0iI0YzNzcyNiI+CiAgICA8cGF0aCB0cmFuc2Zvcm09InRyYW5zbGF0ZSgwLjA3ODk0NywgMTEwLjU4MjkyNykiIGQ9Ik03NS45NDIyODQyLDI5LjU4MDQ1NjEgQzQzLjMwMjM5NDcsMjkuNTgwNDU2MSAxNC43OTY3ODMyLDE3LjY1MzQ2MzQgMCwwIEM1LjUxMDgzMjExLDE1Ljg0MDY4MjkgMTUuNzgxNTM4OSwyOS41NjY3NzMyIDI5LjM5MDQ5NDcsMzkuMjc4NDE3MSBDNDIuOTk5Nyw0OC45ODk4NTM3IDU5LjI3MzcsNTQuMjA2NzgwNSA3NS45NjA1Nzg5LDU0LjIwNjc4MDUgQzkyLjY0NzQ1NzksNTQuMjA2NzgwNSAxMDguOTIxNDU4LDQ4Ljk4OTg1MzcgMTIyLjUzMDY2MywzOS4yNzg0MTcxIEMxMzYuMTM5NDUzLDI5LjU2Njc3MzIgMTQ2LjQxMDI4NCwxNS44NDA2ODI5IDE1MS45MjExNTgsMCBDMTM3LjA4Nzg2OCwxNy42NTM0NjM0IDEwOC41ODI1ODksMjkuNTgwNDU2MSA3NS45NDIyODQyLDI5LjU4MDQ1NjEgTDc1Ljk0MjI4NDIsMjkuNTgwNDU2MSBaIiAvPgogICAgPHBhdGggdHJhbnNmb3JtPSJ0cmFuc2xhdGUoMC4wMzczNjgsIDAuNzA0ODc4KSIgZD0iTTc1Ljk3ODQ1NzksMjQuNjI2NDA3MyBDMTA4LjYxODc2MywyNC42MjY0MDczIDEzNy4xMjQ0NTgsMzYuNTUzNDQxNSAxNTEuOTIxMTU4LDU0LjIwNjc4MDUgQzE0Ni40MTAyODQsMzguMzY2MjIyIDEzNi4xMzk0NTMsMjQuNjQwMTMxNyAxMjIuNTMwNjYzLDE0LjkyODQ4NzggQzEwOC45MjE0NTgsNS4yMTY4NDM5IDkyLjY0NzQ1NzksMCA3NS45NjA1Nzg5LDAgQzU5LjI3MzcsMCA0Mi45OTk3LDUuMjE2ODQzOSAyOS4zOTA0OTQ3LDE0LjkyODQ4NzggQzE1Ljc4MTUzODksMjQuNjQwMTMxNyA1LjUxMDgzMjExLDM4LjM2NjIyMiAwLDU0LjIwNjc4MDUgQzE0LjgzMzA4MTYsMzYuNTg5OTI5MyA0My4zMzg1Njg0LDI0LjYyNjQwNzMgNzUuOTc4NDU3OSwyNC42MjY0MDczIEw3NS45Nzg0NTc5LDI0LjYyNjQwNzMgWiIgLz4KICA8L2c+Cjwvc3ZnPgo=);
  --jp-icon-jupyter: url(data:image/svg+xml;base64,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);
  --jp-icon-jupyterlab-wordmark: url(data:image/svg+xml;base64,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);
  --jp-icon-kernel: url(data:image/svg+xml;base64,PHN2ZyB4bWxucz0iaHR0cDovL3d3dy53My5vcmcvMjAwMC9zdmciIHdpZHRoPSIxNiIgdmlld0JveD0iMCAwIDI0IDI0Ij4KICAgIDxwYXRoIGNsYXNzPSJqcC1pY29uMiIgZmlsbD0iIzYxNjE2MSIgZD0iTTE1IDlIOXY2aDZWOXptLTIgNGgtMnYtMmgydjJ6bTgtMlY5aC0yVjdjMC0xLjEtLjktMi0yLTJoLTJWM2gtMnYyaC0yVjNIOXYySDdjLTEuMSAwLTIgLjktMiAydjJIM3YyaDJ2MkgzdjJoMnYyYzAgMS4xLjkgMiAyIDJoMnYyaDJ2LTJoMnYyaDJ2LTJoMmMxLjEgMCAyLS45IDItMnYtMmgydi0yaC0ydi0yaDJ6bS00IDZIN1Y3aDEwdjEweiIvPgo8L3N2Zz4K);
  --jp-icon-keyboard: url(data:image/svg+xml;base64,PHN2ZyB4bWxucz0iaHR0cDovL3d3dy53My5vcmcvMjAwMC9zdmciIHdpZHRoPSIxNiIgdmlld0JveD0iMCAwIDI0IDI0Ij4KICA8cGF0aCBjbGFzcz0ianAtaWNvbjMganAtaWNvbi1zZWxlY3RhYmxlIiBmaWxsPSIjNjE2MTYxIiBkPSJNMjAgNUg0Yy0xLjEgMC0xLjk5LjktMS45OSAyTDIgMTdjMCAxLjEuOSAyIDIgMmgxNmMxLjEgMCAyLS45IDItMlY3YzAtMS4xLS45LTItMi0yem0tOSAzaDJ2MmgtMlY4em0wIDNoMnYyaC0ydi0yek04IDhoMnYySDhWOHptMCAzaDJ2Mkg4di0yem0tMSAySDV2LTJoMnYyem0wLTNINVY4aDJ2MnptOSA3SDh2LTJoOHYyem0wLTRoLTJ2LTJoMnYyem0wLTNoLTJWOGgydjJ6bTMgM2gtMnYtMmgydjJ6bTAtM2gtMlY4aDJ2MnoiLz4KPC9zdmc+Cg==);
  --jp-icon-launcher: url(data:image/svg+xml;base64,PHN2ZyB4bWxucz0iaHR0cDovL3d3dy53My5vcmcvMjAwMC9zdmciIHdpZHRoPSIxNiIgdmlld0JveD0iMCAwIDI0IDI0Ij4KICA8cGF0aCBjbGFzcz0ianAtaWNvbjMganAtaWNvbi1zZWxlY3RhYmxlIiBmaWxsPSIjNjE2MTYxIiBkPSJNMTkgMTlINVY1aDdWM0g1YTIgMiAwIDAwLTIgMnYxNGEyIDIgMCAwMDIgMmgxNGMxLjEgMCAyLS45IDItMnYtN2gtMnY3ek0xNCAzdjJoMy41OWwtOS44MyA5LjgzIDEuNDEgMS40MUwxOSA2LjQxVjEwaDJWM2gtN3oiLz4KPC9zdmc+Cg==);
  --jp-icon-line-form: url(data:image/svg+xml;base64,PHN2ZyB4bWxucz0iaHR0cDovL3d3dy53My5vcmcvMjAwMC9zdmciIHdpZHRoPSIxNiIgdmlld0JveD0iMCAwIDI0IDI0Ij4KICAgIDxwYXRoIGZpbGw9IndoaXRlIiBkPSJNNS44OCA0LjEyTDEzLjc2IDEybC03Ljg4IDcuODhMOCAyMmwxMC0xMEw4IDJ6Ii8+Cjwvc3ZnPgo=);
  --jp-icon-link: url(data:image/svg+xml;base64,PHN2ZyB2aWV3Qm94PSIwIDAgMjQgMjQiIHdpZHRoPSIxNiIgeG1sbnM9Imh0dHA6Ly93d3cudzMub3JnLzIwMDAvc3ZnIj4KICA8ZyBjbGFzcz0ianAtaWNvbjMiIGZpbGw9IiM2MTYxNjEiPgogICAgPHBhdGggZD0iTTMuOSAxMmMwLTEuNzEgMS4zOS0zLjEgMy4xLTMuMWg0VjdIN2MtMi43NiAwLTUgMi4yNC01IDVzMi4yNCA1IDUgNWg0di0xLjlIN2MtMS43MSAwLTMuMS0xLjM5LTMuMS0zLjF6TTggMTNoOHYtMkg4djJ6bTktNmgtNHYxLjloNGMxLjcxIDAgMy4xIDEuMzkgMy4xIDMuMXMtMS4zOSAzLjEtMy4xIDMuMWgtNFYxN2g0YzIuNzYgMCA1LTIuMjQgNS01cy0yLjI0LTUtNS01eiIvPgogIDwvZz4KPC9zdmc+Cg==);
  --jp-icon-list: url(data:image/svg+xml;base64,PHN2ZyB4bWxucz0iaHR0cDovL3d3dy53My5vcmcvMjAwMC9zdmciIHdpZHRoPSIxNiIgdmlld0JveD0iMCAwIDI0IDI0Ij4KICAgIDxwYXRoIGNsYXNzPSJqcC1pY29uMiBqcC1pY29uLXNlbGVjdGFibGUiIGZpbGw9IiM2MTYxNjEiIGQ9Ik0xOSA1djE0SDVWNWgxNG0xLjEtMkgzLjljLS41IDAtLjkuNC0uOS45djE2LjJjMCAuNC40LjkuOS45aDE2LjJjLjQgMCAuOS0uNS45LS45VjMuOWMwLS41LS41LS45LS45LS45ek0xMSA3aDZ2MmgtNlY3em0wIDRoNnYyaC02di0yem0wIDRoNnYyaC02ek03IDdoMnYySDd6bTAgNGgydjJIN3ptMCA0aDJ2Mkg3eiIvPgo8L3N2Zz4=);
  --jp-icon-listings-info: url(data:image/svg+xml;base64,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);
  --jp-icon-markdown: url(data:image/svg+xml;base64,PHN2ZyB4bWxucz0iaHR0cDovL3d3dy53My5vcmcvMjAwMC9zdmciIHdpZHRoPSIxNiIgdmlld0JveD0iMCAwIDIyIDIyIj4KICA8cGF0aCBjbGFzcz0ianAtaWNvbi1jb250cmFzdDAganAtaWNvbi1zZWxlY3RhYmxlIiBmaWxsPSIjN0IxRkEyIiBkPSJNNSAxNC45aDEybC02LjEgNnptOS40LTYuOGMwLTEuMy0uMS0yLjktLjEtNC41LS40IDEuNC0uOSAyLjktMS4zIDQuM2wtMS4zIDQuM2gtMkw4LjUgNy45Yy0uNC0xLjMtLjctMi45LTEtNC4zLS4xIDEuNi0uMSAzLjItLjIgNC42TDcgMTIuNEg0LjhsLjctMTFoMy4zTDEwIDVjLjQgMS4yLjcgMi43IDEgMy45LjMtMS4yLjctMi42IDEtMy45bDEuMi0zLjdoMy4zbC42IDExaC0yLjRsLS4zLTQuMnoiLz4KPC9zdmc+Cg==);
  --jp-icon-new-folder: url(data:image/svg+xml;base64,PHN2ZyB4bWxucz0iaHR0cDovL3d3dy53My5vcmcvMjAwMC9zdmciIHdpZHRoPSIxNiIgdmlld0JveD0iMCAwIDI0IDI0Ij4KICA8ZyBjbGFzcz0ianAtaWNvbjMiIGZpbGw9IiM2MTYxNjEiPgogICAgPHBhdGggZD0iTTIwIDZoLThsLTItMkg0Yy0xLjExIDAtMS45OS44OS0xLjk5IDJMMiAxOGMwIDEuMTEuODkgMiAyIDJoMTZjMS4xMSAwIDItLjg5IDItMlY4YzAtMS4xMS0uODktMi0yLTJ6bS0xIDhoLTN2M2gtMnYtM2gtM3YtMmgzVjloMnYzaDN2MnoiLz4KICA8L2c+Cjwvc3ZnPgo=);
  --jp-icon-not-trusted: url(data:image/svg+xml;base64,PHN2ZyBmaWxsPSJub25lIiB4bWxucz0iaHR0cDovL3d3dy53My5vcmcvMjAwMC9zdmciIHdpZHRoPSIxNiIgdmlld0JveD0iMCAwIDI1IDI1Ij4KICAgIDxwYXRoIGNsYXNzPSJqcC1pY29uMiIgc3Ryb2tlPSIjMzMzMzMzIiBzdHJva2Utd2lkdGg9IjIiIHRyYW5zZm9ybT0idHJhbnNsYXRlKDMgMykiIGQ9Ik0xLjg2MDk0IDExLjQ0MDlDMC44MjY0NDggOC43NzAyNyAwLjg2Mzc3OSA2LjA1NzY0IDEuMjQ5MDcgNC4xOTkzMkMyLjQ4MjA2IDMuOTMzNDcgNC4wODA2OCAzLjQwMzQ3IDUuNjAxMDIgMi44NDQ5QzcuMjM1NDkgMi4yNDQ0IDguODU2NjYgMS41ODE1IDkuOTg3NiAxLjA5NTM5QzExLjA1OTcgMS41ODM0MSAxMi42MDk0IDIuMjQ0NCAxNC4yMTggMi44NDMzOUMxNS43NTAzIDMuNDEzOTQgMTcuMzk5NSAzLjk1MjU4IDE4Ljc1MzkgNC4yMTM4NUMxOS4xMzY0IDYuMDcxNzcgMTkuMTcwOSA4Ljc3NzIyIDE4LjEzOSAxMS40NDA5QzE3LjAzMDMgMTQuMzAzMiAxNC42NjY4IDE3LjE4NDQgOS45OTk5OSAxOC45MzU0QzUuMzMzMTkgMTcuMTg0NCAyLjk2OTY4IDE0LjMwMzIgMS44NjA5NCAxMS40NDA5WiIvPgogICAgPHBhdGggY2xhc3M9ImpwLWljb24yIiBzdHJva2U9IiMzMzMzMzMiIHN0cm9rZS13aWR0aD0iMiIgdHJhbnNmb3JtPSJ0cmFuc2xhdGUoOS4zMTU5MiA5LjMyMDMxKSIgZD0iTTcuMzY4NDIgMEwwIDcuMzY0NzkiLz4KICAgIDxwYXRoIGNsYXNzPSJqcC1pY29uMiIgc3Ryb2tlPSIjMzMzMzMzIiBzdHJva2Utd2lkdGg9IjIiIHRyYW5zZm9ybT0idHJhbnNsYXRlKDkuMzE1OTIgMTYuNjgzNikgc2NhbGUoMSAtMSkiIGQ9Ik03LjM2ODQyIDBMMCA3LjM2NDc5Ii8+Cjwvc3ZnPgo=);
  --jp-icon-notebook: url(data:image/svg+xml;base64,PHN2ZyB4bWxucz0iaHR0cDovL3d3dy53My5vcmcvMjAwMC9zdmciIHdpZHRoPSIxNiIgdmlld0JveD0iMCAwIDIyIDIyIj4KICA8ZyBjbGFzcz0ianAtaWNvbi13YXJuMCBqcC1pY29uLXNlbGVjdGFibGUiIGZpbGw9IiNFRjZDMDAiPgogICAgPHBhdGggZD0iTTE4LjcgMy4zdjE1LjRIMy4zVjMuM2gxNS40bTEuNS0xLjVIMS44djE4LjNoMTguM2wuMS0xOC4zeiIvPgogICAgPHBhdGggZD0iTTE2LjUgMTYuNWwtNS40LTQuMy01LjYgNC4zdi0xMWgxMXoiLz4KICA8L2c+Cjwvc3ZnPgo=);
  --jp-icon-palette: url(data:image/svg+xml;base64,PHN2ZyB4bWxucz0iaHR0cDovL3d3dy53My5vcmcvMjAwMC9zdmciIHdpZHRoPSIxNiIgdmlld0JveD0iMCAwIDI0IDI0Ij4KICA8ZyBjbGFzcz0ianAtaWNvbjMiIGZpbGw9IiM2MTYxNjEiPgogICAgPHBhdGggZD0iTTE4IDEzVjIwSDRWNkg5LjAyQzkuMDcgNS4yOSA5LjI0IDQuNjIgOS41IDRINEMyLjkgNCAyIDQuOSAyIDZWMjBDMiAyMS4xIDIuOSAyMiA0IDIySDE4QzE5LjEgMjIgMjAgMjEuMSAyMCAyMFYxNUwxOCAxM1pNMTkuMyA4Ljg5QzE5Ljc0IDguMTkgMjAgNy4zOCAyMCA2LjVDMjAgNC4wMSAxNy45OSAyIDE1LjUgMkMxMy4wMSAyIDExIDQuMDEgMTEgNi41QzExIDguOTkgMTMuMDEgMTEgMTUuNDkgMTFDMTYuMzcgMTEgMTcuMTkgMTAuNzQgMTcuODggMTAuM0wyMSAxMy40MkwyMi40MiAxMkwxOS4zIDguODlaTTE1LjUgOUMxNC4xMiA5IDEzIDcuODggMTMgNi41QzEzIDUuMTIgMTQuMTIgNCAxNS41IDRDMTYuODggNCAxOCA1LjEyIDE4IDYuNUMxOCA3Ljg4IDE2Ljg4IDkgMTUuNSA5WiIvPgogICAgPHBhdGggZmlsbC1ydWxlPSJldmVub2RkIiBjbGlwLXJ1bGU9ImV2ZW5vZGQiIGQ9Ik00IDZIOS4wMTg5NEM5LjAwNjM5IDYuMTY1MDIgOSA2LjMzMTc2IDkgNi41QzkgOC44MTU3NyAxMC4yMTEgMTAuODQ4NyAxMi4wMzQzIDEySDlWMTRIMTZWMTIuOTgxMUMxNi41NzAzIDEyLjkzNzcgMTcuMTIgMTIuODIwNyAxNy42Mzk2IDEyLjYzOTZMMTggMTNWMjBINFY2Wk04IDhINlYxMEg4VjhaTTYgMTJIOFYxNEg2VjEyWk04IDE2SDZWMThIOFYxNlpNOSAxNkgxNlYxOEg5VjE2WiIvPgogIDwvZz4KPC9zdmc+Cg==);
  --jp-icon-paste: url(data:image/svg+xml;base64,PHN2ZyBoZWlnaHQ9IjI0IiB2aWV3Qm94PSIwIDAgMjQgMjQiIHdpZHRoPSIyNCIgeG1sbnM9Imh0dHA6Ly93d3cudzMub3JnLzIwMDAvc3ZnIj4KICAgIDxnIGNsYXNzPSJqcC1pY29uMyIgZmlsbD0iIzYxNjE2MSI+CiAgICAgICAgPHBhdGggZD0iTTE5IDJoLTQuMThDMTQuNC44NCAxMy4zIDAgMTIgMGMtMS4zIDAtMi40Ljg0LTIuODIgMkg1Yy0xLjEgMC0yIC45LTIgMnYxNmMwIDEuMS45IDIgMiAyaDE0YzEuMSAwIDItLjkgMi0yVjRjMC0xLjEtLjktMi0yLTJ6bS03IDBjLjU1IDAgMSAuNDUgMSAxcy0uNDUgMS0xIDEtMS0uNDUtMS0xIC40NS0xIDEtMXptNyAxOEg1VjRoMnYzaDEwVjRoMnYxNnoiLz4KICAgIDwvZz4KPC9zdmc+Cg==);
  --jp-icon-python: url(data:image/svg+xml;base64,PHN2ZyB4bWxucz0iaHR0cDovL3d3dy53My5vcmcvMjAwMC9zdmciIHdpZHRoPSIxNiIgdmlld0JveD0iMCAwIDIyIDIyIj4KICA8ZyBjbGFzcz0ianAtaWNvbi1icmFuZDAganAtaWNvbi1zZWxlY3RhYmxlIiBmaWxsPSIjMEQ0N0ExIj4KICAgIDxwYXRoIGQ9Ik0xMS4xIDYuOVY1LjhINi45YzAtLjUgMC0xLjMuMi0xLjYuNC0uNy44LTEuMSAxLjctMS40IDEuNy0uMyAyLjUtLjMgMy45LS4xIDEgLjEgMS45LjkgMS45IDEuOXY0LjJjMCAuNS0uOSAxLjYtMiAxLjZIOC44Yy0xLjUgMC0yLjQgMS40LTIuNCAyLjh2Mi4ySDQuN0MzLjUgMTUuMSAzIDE0IDMgMTMuMVY5Yy0uMS0xIC42LTIgMS44LTIgMS41LS4xIDYuMy0uMSA2LjMtLjF6Ii8+CiAgICA8cGF0aCBkPSJNMTAuOSAxNS4xdjEuMWg0LjJjMCAuNSAwIDEuMy0uMiAxLjYtLjQuNy0uOCAxLjEtMS43IDEuNC0xLjcuMy0yLjUuMy0zLjkuMS0xLS4xLTEuOS0uOS0xLjktMS45di00LjJjMC0uNS45LTEuNiAyLTEuNmgzLjhjMS41IDAgMi40LTEuNCAyLjQtMi44VjYuNmgxLjdDMTguNSA2LjkgMTkgOCAxOSA4LjlWMTNjMCAxLS43IDIuMS0xLjkgMi4xaC02LjJ6Ii8+CiAgPC9nPgo8L3N2Zz4K);
  --jp-icon-r-kernel: url(data:image/svg+xml;base64,PHN2ZyB4bWxucz0iaHR0cDovL3d3dy53My5vcmcvMjAwMC9zdmciIHdpZHRoPSIxNiIgdmlld0JveD0iMCAwIDIyIDIyIj4KICA8cGF0aCBjbGFzcz0ianAtaWNvbi1jb250cmFzdDMganAtaWNvbi1zZWxlY3RhYmxlIiBmaWxsPSIjMjE5NkYzIiBkPSJNNC40IDIuNWMxLjItLjEgMi45LS4zIDQuOS0uMyAyLjUgMCA0LjEuNCA1LjIgMS4zIDEgLjcgMS41IDEuOSAxLjUgMy41IDAgMi0xLjQgMy41LTIuOSA0LjEgMS4yLjQgMS43IDEuNiAyLjIgMyAuNiAxLjkgMSAzLjkgMS4zIDQuNmgtMy44Yy0uMy0uNC0uOC0xLjctMS4yLTMuN3MtMS4yLTIuNi0yLjYtMi42aC0uOXY2LjRINC40VjIuNXptMy43IDYuOWgxLjRjMS45IDAgMi45LS45IDIuOS0yLjNzLTEtMi4zLTIuOC0yLjNjLS43IDAtMS4zIDAtMS42LjJ2NC41aC4xdi0uMXoiLz4KPC9zdmc+Cg==);
  --jp-icon-react: url(data:image/svg+xml;base64,PHN2ZyB4bWxucz0iaHR0cDovL3d3dy53My5vcmcvMjAwMC9zdmciIHdpZHRoPSIxNiIgdmlld0JveD0iMTUwIDE1MCA1NDEuOSAyOTUuMyI+CiAgPGcgY2xhc3M9ImpwLWljb24tYnJhbmQyIGpwLWljb24tc2VsZWN0YWJsZSIgZmlsbD0iIzYxREFGQiI+CiAgICA8cGF0aCBkPSJNNjY2LjMgMjk2LjVjMC0zMi41LTQwLjctNjMuMy0xMDMuMS04Mi40IDE0LjQtNjMuNiA4LTExNC4yLTIwLjItMTMwLjQtNi41LTMuOC0xNC4xLTUuNi0yMi40LTUuNnYyMi4zYzQuNiAwIDguMy45IDExLjQgMi42IDEzLjYgNy44IDE5LjUgMzcuNSAxNC45IDc1LjctMS4xIDkuNC0yLjkgMTkuMy01LjEgMjkuNC0xOS42LTQuOC00MS04LjUtNjMuNS0xMC45LTEzLjUtMTguNS0yNy41LTM1LjMtNDEuNi01MCAzMi42LTMwLjMgNjMuMi00Ni45IDg0LTQ2LjlWNzhjLTI3LjUgMC02My41IDE5LjYtOTkuOSA1My42LTM2LjQtMzMuOC03Mi40LTUzLjItOTkuOS01My4ydjIyLjNjMjAuNyAwIDUxLjQgMTYuNSA4NCA0Ni42LTE0IDE0LjctMjggMzEuNC00MS4zIDQ5LjktMjIuNiAyLjQtNDQgNi4xLTYzLjYgMTEtMi4zLTEwLTQtMTkuNy01LjItMjktNC43LTM4LjIgMS4xLTY3LjkgMTQuNi03NS44IDMtMS44IDYuOS0yLjYgMTEuNS0yLjZWNzguNWMtOC40IDAtMTYgMS44LTIyLjYgNS42LTI4LjEgMTYuMi0zNC40IDY2LjctMTkuOSAxMzAuMS02Mi4yIDE5LjItMTAyLjcgNDkuOS0xMDIuNyA4Mi4zIDAgMzIuNSA0MC43IDYzLjMgMTAzLjEgODIuNC0xNC40IDYzLjYtOCAxMTQuMiAyMC4yIDEzMC40IDYuNSAzLjggMTQuMSA1LjYgMjIuNSA1LjYgMjcuNSAwIDYzLjUtMTkuNiA5OS45LTUzLjYgMzYuNCAzMy44IDcyLjQgNTMuMiA5OS45IDUzLjIgOC40IDAgMTYtMS44IDIyLjYtNS42IDI4LjEtMTYuMiAzNC40LTY2LjcgMTkuOS0xMzAuMSA2Mi0xOS4xIDEwMi41LTQ5LjkgMTAyLjUtODIuM3ptLTEzMC4yLTY2LjdjLTMuNyAxMi45LTguMyAyNi4yLTEzLjUgMzkuNS00LjEtOC04LjQtMTYtMTMuMS0yNC00LjYtOC05LjUtMTUuOC0xNC40LTIzLjQgMTQuMiAyLjEgMjcuOSA0LjcgNDEgNy45em0tNDUuOCAxMDYuNWMtNy44IDEzLjUtMTUuOCAyNi4zLTI0LjEgMzguMi0xNC45IDEuMy0zMCAyLTQ1LjIgMi0xNS4xIDAtMzAuMi0uNy00NS0xLjktOC4zLTExLjktMTYuNC0yNC42LTI0LjItMzgtNy42LTEzLjEtMTQuNS0yNi40LTIwLjgtMzkuOCA2LjItMTMuNCAxMy4yLTI2LjggMjAuNy0zOS45IDcuOC0xMy41IDE1LjgtMjYuMyAyNC4xLTM4LjIgMTQuOS0xLjMgMzAtMiA0NS4yLTIgMTUuMSAwIDMwLjIuNyA0NSAxLjkgOC4zIDExLjkgMTYuNCAyNC42IDI0LjIgMzggNy42IDEzLjEgMTQuNSAyNi40IDIwLjggMzkuOC02LjMgMTMuNC0xMy4yIDI2LjgtMjAuNyAzOS45em0zMi4zLTEzYzUuNCAxMy40IDEwIDI2LjggMTMuOCAzOS44LTEzLjEgMy4yLTI2LjkgNS45LTQxLjIgOCA0LjktNy43IDkuOC0xNS42IDE0LjQtMjMuNyA0LjYtOCA4LjktMTYuMSAxMy0yNC4xek00MjEuMiA0MzBjLTkuMy05LjYtMTguNi0yMC4zLTI3LjgtMzIgOSAuNCAxOC4yLjcgMjcuNS43IDkuNCAwIDE4LjctLjIgMjcuOC0uNy05IDExLjctMTguMyAyMi40LTI3LjUgMzJ6bS03NC40LTU4LjljLTE0LjItMi4xLTI3LjktNC43LTQxLTcuOSAzLjctMTIuOSA4LjMtMjYuMiAxMy41LTM5LjUgNC4xIDggOC40IDE2IDEzLjEgMjQgNC43IDggOS41IDE1LjggMTQuNCAyMy40ek00MjAuNyAxNjNjOS4zIDkuNiAxOC42IDIwLjMgMjcuOCAzMi05LS40LTE4LjItLjctMjcuNS0uNy05LjQgMC0xOC43LjItMjcuOC43IDktMTEuNyAxOC4zLTIyLjQgMjcuNS0zMnptLTc0IDU4LjljLTQuOSA3LjctOS44IDE1LjYtMTQuNCAyMy43LTQuNiA4LTguOSAxNi0xMyAyNC01LjQtMTMuNC0xMC0yNi44LTEzLjgtMzkuOCAxMy4xLTMuMSAyNi45LTUuOCA0MS4yLTcuOXptLTkwLjUgMTI1LjJjLTM1LjQtMTUuMS01OC4zLTM0LjktNTguMy01MC42IDAtMTUuNyAyMi45LTM1LjYgNTguMy01MC42IDguNi0zLjcgMTgtNyAyNy43LTEwLjEgNS43IDE5LjYgMTMuMiA0MCAyMi41IDYwLjktOS4yIDIwLjgtMTYuNiA0MS4xLTIyLjIgNjAuNi05LjktMy4xLTE5LjMtNi41LTI4LTEwLjJ6TTMxMCA0OTBjLTEzLjYtNy44LTE5LjUtMzcuNS0xNC45LTc1LjcgMS4xLTkuNCAyLjktMTkuMyA1LjEtMjkuNCAxOS42IDQuOCA0MSA4LjUgNjMuNSAxMC45IDEzLjUgMTguNSAyNy41IDM1LjMgNDEuNiA1MC0zMi42IDMwLjMtNjMuMiA0Ni45LTg0IDQ2LjktNC41LS4xLTguMy0xLTExLjMtMi43em0yMzcuMi03Ni4yYzQuNyAzOC4yLTEuMSA2Ny45LTE0LjYgNzUuOC0zIDEuOC02LjkgMi42LTExLjUgMi42LTIwLjcgMC01MS40LTE2LjUtODQtNDYuNiAxNC0xNC43IDI4LTMxLjQgNDEuMy00OS45IDIyLjYtMi40IDQ0LTYuMSA2My42LTExIDIuMyAxMC4xIDQuMSAxOS44IDUuMiAyOS4xem0zOC41LTY2LjdjLTguNiAzLjctMTggNy0yNy43IDEwLjEtNS43LTE5LjYtMTMuMi00MC0yMi41LTYwLjkgOS4yLTIwLjggMTYuNi00MS4xIDIyLjItNjAuNiA5LjkgMy4xIDE5LjMgNi41IDI4LjEgMTAuMiAzNS40IDE1LjEgNTguMyAzNC45IDU4LjMgNTAuNi0uMSAxNS43LTIzIDM1LjYtNTguNCA1MC42ek0zMjAuOCA3OC40eiIvPgogICAgPGNpcmNsZSBjeD0iNDIwLjkiIGN5PSIyOTYuNSIgcj0iNDUuNyIvPgogIDwvZz4KPC9zdmc+Cg==);
  --jp-icon-refresh: url(data:image/svg+xml;base64,PHN2ZyB4bWxucz0iaHR0cDovL3d3dy53My5vcmcvMjAwMC9zdmciIHdpZHRoPSIxNiIgdmlld0JveD0iMCAwIDE4IDE4Ij4KICAgIDxnIGNsYXNzPSJqcC1pY29uMyIgZmlsbD0iIzYxNjE2MSI+CiAgICAgICAgPHBhdGggZD0iTTkgMTMuNWMtMi40OSAwLTQuNS0yLjAxLTQuNS00LjVTNi41MSA0LjUgOSA0LjVjMS4yNCAwIDIuMzYuNTIgMy4xNyAxLjMzTDEwIDhoNVYzbC0xLjc2IDEuNzZDMTIuMTUgMy42OCAxMC42NiAzIDkgMyA1LjY5IDMgMy4wMSA1LjY5IDMuMDEgOVM1LjY5IDE1IDkgMTVjMi45NyAwIDUuNDMtMi4xNiA1LjktNWgtMS41MmMtLjQ2IDItMi4yNCAzLjUtNC4zOCAzLjV6Ii8+CiAgICA8L2c+Cjwvc3ZnPgo=);
  --jp-icon-regex: url(data:image/svg+xml;base64,PHN2ZyB4bWxucz0iaHR0cDovL3d3dy53My5vcmcvMjAwMC9zdmciIHdpZHRoPSIxNiIgdmlld0JveD0iMCAwIDIwIDIwIj4KICA8ZyBjbGFzcz0ianAtaWNvbjIiIGZpbGw9IiM0MTQxNDEiPgogICAgPHJlY3QgeD0iMiIgeT0iMiIgd2lkdGg9IjE2IiBoZWlnaHQ9IjE2Ii8+CiAgPC9nPgoKICA8ZyBjbGFzcz0ianAtaWNvbi1hY2NlbnQyIiBmaWxsPSIjRkZGIj4KICAgIDxjaXJjbGUgY2xhc3M9InN0MiIgY3g9IjUuNSIgY3k9IjE0LjUiIHI9IjEuNSIvPgogICAgPHJlY3QgeD0iMTIiIHk9IjQiIGNsYXNzPSJzdDIiIHdpZHRoPSIxIiBoZWlnaHQ9IjgiLz4KICAgIDxyZWN0IHg9IjguNSIgeT0iNy41IiB0cmFuc2Zvcm09Im1hdHJpeCgwLjg2NiAtMC41IDAuNSAwLjg2NiAtMi4zMjU1IDcuMzIxOSkiIGNsYXNzPSJzdDIiIHdpZHRoPSI4IiBoZWlnaHQ9IjEiLz4KICAgIDxyZWN0IHg9IjEyIiB5PSI0IiB0cmFuc2Zvcm09Im1hdHJpeCgwLjUgLTAuODY2IDAuODY2IDAuNSAtMC42Nzc5IDE0LjgyNTIpIiBjbGFzcz0ic3QyIiB3aWR0aD0iMSIgaGVpZ2h0PSI4Ii8+CiAgPC9nPgo8L3N2Zz4K);
  --jp-icon-run: url(data:image/svg+xml;base64,PHN2ZyBoZWlnaHQ9IjI0IiB2aWV3Qm94PSIwIDAgMjQgMjQiIHdpZHRoPSIyNCIgeG1sbnM9Imh0dHA6Ly93d3cudzMub3JnLzIwMDAvc3ZnIj4KICAgIDxnIGNsYXNzPSJqcC1pY29uMyIgZmlsbD0iIzYxNjE2MSI+CiAgICAgICAgPHBhdGggZD0iTTggNXYxNGwxMS03eiIvPgogICAgPC9nPgo8L3N2Zz4K);
  --jp-icon-running: url(data:image/svg+xml;base64,PHN2ZyB4bWxucz0iaHR0cDovL3d3dy53My5vcmcvMjAwMC9zdmciIHdpZHRoPSIxNiIgdmlld0JveD0iMCAwIDUxMiA1MTIiPgogIDxnIGNsYXNzPSJqcC1pY29uMyIgZmlsbD0iIzYxNjE2MSI+CiAgICA8cGF0aCBkPSJNMjU2IDhDMTE5IDggOCAxMTkgOCAyNTZzMTExIDI0OCAyNDggMjQ4IDI0OC0xMTEgMjQ4LTI0OFMzOTMgOCAyNTYgOHptOTYgMzI4YzAgOC44LTcuMiAxNi0xNiAxNkgxNzZjLTguOCAwLTE2LTcuMi0xNi0xNlYxNzZjMC04LjggNy4yLTE2IDE2LTE2aDE2MGM4LjggMCAxNiA3LjIgMTYgMTZ2MTYweiIvPgogIDwvZz4KPC9zdmc+Cg==);
  --jp-icon-save: url(data:image/svg+xml;base64,PHN2ZyBoZWlnaHQ9IjI0IiB2aWV3Qm94PSIwIDAgMjQgMjQiIHdpZHRoPSIyNCIgeG1sbnM9Imh0dHA6Ly93d3cudzMub3JnLzIwMDAvc3ZnIj4KICAgIDxnIGNsYXNzPSJqcC1pY29uMyIgZmlsbD0iIzYxNjE2MSI+CiAgICAgICAgPHBhdGggZD0iTTE3IDNINWMtMS4xMSAwLTIgLjktMiAydjE0YzAgMS4xLjg5IDIgMiAyaDE0YzEuMSAwIDItLjkgMi0yVjdsLTQtNHptLTUgMTZjLTEuNjYgMC0zLTEuMzQtMy0zczEuMzQtMyAzLTMgMyAxLjM0IDMgMy0xLjM0IDMtMyAzem0zLTEwSDVWNWgxMHY0eiIvPgogICAgPC9nPgo8L3N2Zz4K);
  --jp-icon-search: url(data:image/svg+xml;base64,PHN2ZyB2aWV3Qm94PSIwIDAgMTggMTgiIHdpZHRoPSIxNiIgeG1sbnM9Imh0dHA6Ly93d3cudzMub3JnLzIwMDAvc3ZnIj4KICA8ZyBjbGFzcz0ianAtaWNvbjMiIGZpbGw9IiM2MTYxNjEiPgogICAgPHBhdGggZD0iTTEyLjEsMTAuOWgtMC43bC0wLjItMC4yYzAuOC0wLjksMS4zLTIuMiwxLjMtMy41YzAtMy0yLjQtNS40LTUuNC01LjRTMS44LDQuMiwxLjgsNy4xczIuNCw1LjQsNS40LDUuNCBjMS4zLDAsMi41LTAuNSwzLjUtMS4zbDAuMiwwLjJ2MC43bDQuMSw0LjFsMS4yLTEuMkwxMi4xLDEwLjl6IE03LjEsMTAuOWMtMi4xLDAtMy43LTEuNy0zLjctMy43czEuNy0zLjcsMy43LTMuN3MzLjcsMS43LDMuNywzLjcgUzkuMiwxMC45LDcuMSwxMC45eiIvPgogIDwvZz4KPC9zdmc+Cg==);
  --jp-icon-settings: url(data:image/svg+xml;base64,PHN2ZyB4bWxucz0iaHR0cDovL3d3dy53My5vcmcvMjAwMC9zdmciIHdpZHRoPSIxNiIgdmlld0JveD0iMCAwIDI0IDI0Ij4KICA8cGF0aCBjbGFzcz0ianAtaWNvbjMganAtaWNvbi1zZWxlY3RhYmxlIiBmaWxsPSIjNjE2MTYxIiBkPSJNMTkuNDMgMTIuOThjLjA0LS4zMi4wNy0uNjQuMDctLjk4cy0uMDMtLjY2LS4wNy0uOThsMi4xMS0xLjY1Yy4xOS0uMTUuMjQtLjQyLjEyLS42NGwtMi0zLjQ2Yy0uMTItLjIyLS4zOS0uMy0uNjEtLjIybC0yLjQ5IDFjLS41Mi0uNC0xLjA4LS43My0xLjY5LS45OGwtLjM4LTIuNjVBLjQ4OC40ODggMCAwMDE0IDJoLTRjLS4yNSAwLS40Ni4xOC0uNDkuNDJsLS4zOCAyLjY1Yy0uNjEuMjUtMS4xNy41OS0xLjY5Ljk4bC0yLjQ5LTFjLS4yMy0uMDktLjQ5IDAtLjYxLjIybC0yIDMuNDZjLS4xMy4yMi0uMDcuNDkuMTIuNjRsMi4xMSAxLjY1Yy0uMDQuMzItLjA3LjY1LS4wNy45OHMuMDMuNjYuMDcuOThsLTIuMTEgMS42NWMtLjE5LjE1LS4yNC40Mi0uMTIuNjRsMiAzLjQ2Yy4xMi4yMi4zOS4zLjYxLjIybDIuNDktMWMuNTIuNCAxLjA4LjczIDEuNjkuOThsLjM4IDIuNjVjLjAzLjI0LjI0LjQyLjQ5LjQyaDRjLjI1IDAgLjQ2LS4xOC40OS0uNDJsLjM4LTIuNjVjLjYxLS4yNSAxLjE3LS41OSAxLjY5LS45OGwyLjQ5IDFjLjIzLjA5LjQ5IDAgLjYxLS4yMmwyLTMuNDZjLjEyLS4yMi4wNy0uNDktLjEyLS42NGwtMi4xMS0xLjY1ek0xMiAxNS41Yy0xLjkzIDAtMy41LTEuNTctMy41LTMuNXMxLjU3LTMuNSAzLjUtMy41IDMuNSAxLjU3IDMuNSAzLjUtMS41NyAzLjUtMy41IDMuNXoiLz4KPC9zdmc+Cg==);
  --jp-icon-spreadsheet: url(data:image/svg+xml;base64,PHN2ZyB4bWxucz0iaHR0cDovL3d3dy53My5vcmcvMjAwMC9zdmciIHdpZHRoPSIxNiIgdmlld0JveD0iMCAwIDIyIDIyIj4KICA8cGF0aCBjbGFzcz0ianAtaWNvbi1jb250cmFzdDEganAtaWNvbi1zZWxlY3RhYmxlIiBmaWxsPSIjNENBRjUwIiBkPSJNMi4yIDIuMnYxNy42aDE3LjZWMi4ySDIuMnptMTUuNCA3LjdoLTUuNVY0LjRoNS41djUuNXpNOS45IDQuNHY1LjVINC40VjQuNGg1LjV6bS01LjUgNy43aDUuNXY1LjVINC40di01LjV6bTcuNyA1LjV2LTUuNWg1LjV2NS41aC01LjV6Ii8+Cjwvc3ZnPgo=);
  --jp-icon-stop: url(data:image/svg+xml;base64,PHN2ZyBoZWlnaHQ9IjI0IiB2aWV3Qm94PSIwIDAgMjQgMjQiIHdpZHRoPSIyNCIgeG1sbnM9Imh0dHA6Ly93d3cudzMub3JnLzIwMDAvc3ZnIj4KICAgIDxnIGNsYXNzPSJqcC1pY29uMyIgZmlsbD0iIzYxNjE2MSI+CiAgICAgICAgPHBhdGggZD0iTTAgMGgyNHYyNEgweiIgZmlsbD0ibm9uZSIvPgogICAgICAgIDxwYXRoIGQ9Ik02IDZoMTJ2MTJINnoiLz4KICAgIDwvZz4KPC9zdmc+Cg==);
  --jp-icon-tab: url(data:image/svg+xml;base64,PHN2ZyB4bWxucz0iaHR0cDovL3d3dy53My5vcmcvMjAwMC9zdmciIHdpZHRoPSIxNiIgdmlld0JveD0iMCAwIDI0IDI0Ij4KICA8ZyBjbGFzcz0ianAtaWNvbjMiIGZpbGw9IiM2MTYxNjEiPgogICAgPHBhdGggZD0iTTIxIDNIM2MtMS4xIDAtMiAuOS0yIDJ2MTRjMCAxLjEuOSAyIDIgMmgxOGMxLjEgMCAyLS45IDItMlY1YzAtMS4xLS45LTItMi0yem0wIDE2SDNWNWgxMHY0aDh2MTB6Ii8+CiAgPC9nPgo8L3N2Zz4K);
  --jp-icon-terminal: url(data:image/svg+xml;base64,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);
  --jp-icon-text-editor: url(data:image/svg+xml;base64,PHN2ZyB4bWxucz0iaHR0cDovL3d3dy53My5vcmcvMjAwMC9zdmciIHdpZHRoPSIxNiIgdmlld0JveD0iMCAwIDI0IDI0Ij4KICA8cGF0aCBjbGFzcz0ianAtaWNvbjMganAtaWNvbi1zZWxlY3RhYmxlIiBmaWxsPSIjNjE2MTYxIiBkPSJNMTUgMTVIM3YyaDEydi0yem0wLThIM3YyaDEyVjd6TTMgMTNoMTh2LTJIM3Yyem0wIDhoMTh2LTJIM3Yyek0zIDN2MmgxOFYzSDN6Ii8+Cjwvc3ZnPgo=);
  --jp-icon-trusted: url(data:image/svg+xml;base64,PHN2ZyBmaWxsPSJub25lIiB4bWxucz0iaHR0cDovL3d3dy53My5vcmcvMjAwMC9zdmciIHdpZHRoPSIxNiIgdmlld0JveD0iMCAwIDI0IDI1Ij4KICAgIDxwYXRoIGNsYXNzPSJqcC1pY29uMiIgc3Ryb2tlPSIjMzMzMzMzIiBzdHJva2Utd2lkdGg9IjIiIHRyYW5zZm9ybT0idHJhbnNsYXRlKDIgMykiIGQ9Ik0xLjg2MDk0IDExLjQ0MDlDMC44MjY0NDggOC43NzAyNyAwLjg2Mzc3OSA2LjA1NzY0IDEuMjQ5MDcgNC4xOTkzMkMyLjQ4MjA2IDMuOTMzNDcgNC4wODA2OCAzLjQwMzQ3IDUuNjAxMDIgMi44NDQ5QzcuMjM1NDkgMi4yNDQ0IDguODU2NjYgMS41ODE1IDkuOTg3NiAxLjA5NTM5QzExLjA1OTcgMS41ODM0MSAxMi42MDk0IDIuMjQ0NCAxNC4yMTggMi44NDMzOUMxNS43NTAzIDMuNDEzOTQgMTcuMzk5NSAzLjk1MjU4IDE4Ljc1MzkgNC4yMTM4NUMxOS4xMzY0IDYuMDcxNzcgMTkuMTcwOSA4Ljc3NzIyIDE4LjEzOSAxMS40NDA5QzE3LjAzMDMgMTQuMzAzMiAxNC42NjY4IDE3LjE4NDQgOS45OTk5OSAxOC45MzU0QzUuMzMzMiAxNy4xODQ0IDIuOTY5NjggMTQuMzAzMiAxLjg2MDk0IDExLjQ0MDlaIi8+CiAgICA8cGF0aCBjbGFzcz0ianAtaWNvbjIiIGZpbGw9IiMzMzMzMzMiIHN0cm9rZT0iIzMzMzMzMyIgdHJhbnNmb3JtPSJ0cmFuc2xhdGUoOCA5Ljg2NzE5KSIgZD0iTTIuODYwMTUgNC44NjUzNUwwLjcyNjU0OSAyLjk5OTU5TDAgMy42MzA0NUwyLjg2MDE1IDYuMTMxNTdMOCAwLjYzMDg3Mkw3LjI3ODU3IDBMMi44NjAxNSA0Ljg2NTM1WiIvPgo8L3N2Zz4K);
  --jp-icon-undo: url(data:image/svg+xml;base64,PHN2ZyB2aWV3Qm94PSIwIDAgMjQgMjQiIHdpZHRoPSIxNiIgeG1sbnM9Imh0dHA6Ly93d3cudzMub3JnLzIwMDAvc3ZnIj4KICA8ZyBjbGFzcz0ianAtaWNvbjMiIGZpbGw9IiM2MTYxNjEiPgogICAgPHBhdGggZD0iTTEyLjUgOGMtMi42NSAwLTUuMDUuOTktNi45IDIuNkwyIDd2OWg5bC0zLjYyLTMuNjJjMS4zOS0xLjE2IDMuMTYtMS44OCA1LjEyLTEuODggMy41NCAwIDYuNTUgMi4zMSA3LjYgNS41bDIuMzctLjc4QzIxLjA4IDExLjAzIDE3LjE1IDggMTIuNSA4eiIvPgogIDwvZz4KPC9zdmc+Cg==);
  --jp-icon-vega: url(data:image/svg+xml;base64,PHN2ZyB4bWxucz0iaHR0cDovL3d3dy53My5vcmcvMjAwMC9zdmciIHdpZHRoPSIxNiIgdmlld0JveD0iMCAwIDIyIDIyIj4KICA8ZyBjbGFzcz0ianAtaWNvbjEganAtaWNvbi1zZWxlY3RhYmxlIiBmaWxsPSIjMjEyMTIxIj4KICAgIDxwYXRoIGQ9Ik0xMC42IDUuNGwyLjItMy4ySDIuMnY3LjNsNC02LjZ6Ii8+CiAgICA8cGF0aCBkPSJNMTUuOCAyLjJsLTQuNCA2LjZMNyA2LjNsLTQuOCA4djUuNWgxNy42VjIuMmgtNHptLTcgMTUuNEg1LjV2LTQuNGgzLjN2NC40em00LjQgMEg5LjhWOS44aDMuNHY3Ljh6bTQuNCAwaC0zLjRWNi41aDMuNHYxMS4xeiIvPgogIDwvZz4KPC9zdmc+Cg==);
  --jp-icon-yaml: url(data:image/svg+xml;base64,PHN2ZyB4bWxucz0iaHR0cDovL3d3dy53My5vcmcvMjAwMC9zdmciIHdpZHRoPSIxNiIgdmlld0JveD0iMCAwIDIyIDIyIj4KICA8ZyBjbGFzcz0ianAtaWNvbi1jb250cmFzdDIganAtaWNvbi1zZWxlY3RhYmxlIiBmaWxsPSIjRDgxQjYwIj4KICAgIDxwYXRoIGQ9Ik03LjIgMTguNnYtNS40TDMgNS42aDMuM2wxLjQgMy4xYy4zLjkuNiAxLjYgMSAyLjUuMy0uOC42LTEuNiAxLTIuNWwxLjQtMy4xaDMuNGwtNC40IDcuNnY1LjVsLTIuOS0uMXoiLz4KICAgIDxjaXJjbGUgY2xhc3M9InN0MCIgY3g9IjE3LjYiIGN5PSIxNi41IiByPSIyLjEiLz4KICAgIDxjaXJjbGUgY2xhc3M9InN0MCIgY3g9IjE3LjYiIGN5PSIxMSIgcj0iMi4xIi8+CiAgPC9nPgo8L3N2Zz4K);
}

/* Icon CSS class declarations */

.jp-AddIcon {
  background-image: var(--jp-icon-add);
}
.jp-BugIcon {
  background-image: var(--jp-icon-bug);
}
.jp-BuildIcon {
  background-image: var(--jp-icon-build);
}
.jp-CaretDownEmptyIcon {
  background-image: var(--jp-icon-caret-down-empty);
}
.jp-CaretDownEmptyThinIcon {
  background-image: var(--jp-icon-caret-down-empty-thin);
}
.jp-CaretDownIcon {
  background-image: var(--jp-icon-caret-down);
}
.jp-CaretLeftIcon {
  background-image: var(--jp-icon-caret-left);
}
.jp-CaretRightIcon {
  background-image: var(--jp-icon-caret-right);
}
.jp-CaretUpEmptyThinIcon {
  background-image: var(--jp-icon-caret-up-empty-thin);
}
.jp-CaretUpIcon {
  background-image: var(--jp-icon-caret-up);
}
.jp-CaseSensitiveIcon {
  background-image: var(--jp-icon-case-sensitive);
}
.jp-CheckIcon {
  background-image: var(--jp-icon-check);
}
.jp-CircleEmptyIcon {
  background-image: var(--jp-icon-circle-empty);
}
.jp-CircleIcon {
  background-image: var(--jp-icon-circle);
}
.jp-ClearIcon {
  background-image: var(--jp-icon-clear);
}
.jp-CloseIcon {
  background-image: var(--jp-icon-close);
}
.jp-ConsoleIcon {
  background-image: var(--jp-icon-console);
}
.jp-CopyIcon {
  background-image: var(--jp-icon-copy);
}
.jp-CutIcon {
  background-image: var(--jp-icon-cut);
}
.jp-DownloadIcon {
  background-image: var(--jp-icon-download);
}
.jp-EditIcon {
  background-image: var(--jp-icon-edit);
}
.jp-EllipsesIcon {
  background-image: var(--jp-icon-ellipses);
}
.jp-ExtensionIcon {
  background-image: var(--jp-icon-extension);
}
.jp-FastForwardIcon {
  background-image: var(--jp-icon-fast-forward);
}
.jp-FileIcon {
  background-image: var(--jp-icon-file);
}
.jp-FileUploadIcon {
  background-image: var(--jp-icon-file-upload);
}
.jp-FilterListIcon {
  background-image: var(--jp-icon-filter-list);
}
.jp-FolderIcon {
  background-image: var(--jp-icon-folder);
}
.jp-Html5Icon {
  background-image: var(--jp-icon-html5);
}
.jp-ImageIcon {
  background-image: var(--jp-icon-image);
}
.jp-InspectorIcon {
  background-image: var(--jp-icon-inspector);
}
.jp-JsonIcon {
  background-image: var(--jp-icon-json);
}
.jp-JupyterFaviconIcon {
  background-image: var(--jp-icon-jupyter-favicon);
}
.jp-JupyterIcon {
  background-image: var(--jp-icon-jupyter);
}
.jp-JupyterlabWordmarkIcon {
  background-image: var(--jp-icon-jupyterlab-wordmark);
}
.jp-KernelIcon {
  background-image: var(--jp-icon-kernel);
}
.jp-KeyboardIcon {
  background-image: var(--jp-icon-keyboard);
}
.jp-LauncherIcon {
  background-image: var(--jp-icon-launcher);
}
.jp-LineFormIcon {
  background-image: var(--jp-icon-line-form);
}
.jp-LinkIcon {
  background-image: var(--jp-icon-link);
}
.jp-ListIcon {
  background-image: var(--jp-icon-list);
}
.jp-ListingsInfoIcon {
  background-image: var(--jp-icon-listings-info);
}
.jp-MarkdownIcon {
  background-image: var(--jp-icon-markdown);
}
.jp-NewFolderIcon {
  background-image: var(--jp-icon-new-folder);
}
.jp-NotTrustedIcon {
  background-image: var(--jp-icon-not-trusted);
}
.jp-NotebookIcon {
  background-image: var(--jp-icon-notebook);
}
.jp-PaletteIcon {
  background-image: var(--jp-icon-palette);
}
.jp-PasteIcon {
  background-image: var(--jp-icon-paste);
}
.jp-PythonIcon {
  background-image: var(--jp-icon-python);
}
.jp-RKernelIcon {
  background-image: var(--jp-icon-r-kernel);
}
.jp-ReactIcon {
  background-image: var(--jp-icon-react);
}
.jp-RefreshIcon {
  background-image: var(--jp-icon-refresh);
}
.jp-RegexIcon {
  background-image: var(--jp-icon-regex);
}
.jp-RunIcon {
  background-image: var(--jp-icon-run);
}
.jp-RunningIcon {
  background-image: var(--jp-icon-running);
}
.jp-SaveIcon {
  background-image: var(--jp-icon-save);
}
.jp-SearchIcon {
  background-image: var(--jp-icon-search);
}
.jp-SettingsIcon {
  background-image: var(--jp-icon-settings);
}
.jp-SpreadsheetIcon {
  background-image: var(--jp-icon-spreadsheet);
}
.jp-StopIcon {
  background-image: var(--jp-icon-stop);
}
.jp-TabIcon {
  background-image: var(--jp-icon-tab);
}
.jp-TerminalIcon {
  background-image: var(--jp-icon-terminal);
}
.jp-TextEditorIcon {
  background-image: var(--jp-icon-text-editor);
}
.jp-TrustedIcon {
  background-image: var(--jp-icon-trusted);
}
.jp-UndoIcon {
  background-image: var(--jp-icon-undo);
}
.jp-VegaIcon {
  background-image: var(--jp-icon-vega);
}
.jp-YamlIcon {
  background-image: var(--jp-icon-yaml);
}

/*-----------------------------------------------------------------------------
| Copyright (c) Jupyter Development Team.
| Distributed under the terms of the Modified BSD License.
|----------------------------------------------------------------------------*/

/**
 * (DEPRECATED) Support for consuming icons as CSS background images
 */

:root {
  --jp-icon-search-white: url(data:image/svg+xml;base64,PHN2ZyB2aWV3Qm94PSIwIDAgMTggMTgiIHdpZHRoPSIxNiIgeG1sbnM9Imh0dHA6Ly93d3cudzMub3JnLzIwMDAvc3ZnIj4KICA8ZyBjbGFzcz0ianAtaWNvbjMiIGZpbGw9IiM2MTYxNjEiPgogICAgPHBhdGggZD0iTTEyLjEsMTAuOWgtMC43bC0wLjItMC4yYzAuOC0wLjksMS4zLTIuMiwxLjMtMy41YzAtMy0yLjQtNS40LTUuNC01LjRTMS44LDQuMiwxLjgsNy4xczIuNCw1LjQsNS40LDUuNCBjMS4zLDAsMi41LTAuNSwzLjUtMS4zbDAuMiwwLjJ2MC43bDQuMSw0LjFsMS4yLTEuMkwxMi4xLDEwLjl6IE03LjEsMTAuOWMtMi4xLDAtMy43LTEuNy0zLjctMy43czEuNy0zLjcsMy43LTMuN3MzLjcsMS43LDMuNywzLjcgUzkuMiwxMC45LDcuMSwxMC45eiIvPgogIDwvZz4KPC9zdmc+Cg==);
}

.jp-Icon,
.jp-MaterialIcon {
  background-position: center;
  background-repeat: no-repeat;
  background-size: 16px;
  min-width: 16px;
  min-height: 16px;
}

.jp-Icon-cover {
  background-position: center;
  background-repeat: no-repeat;
  background-size: cover;
}

/**
 * (DEPRECATED) Support for specific CSS icon sizes
 */

.jp-Icon-16 {
  background-size: 16px;
  min-width: 16px;
  min-height: 16px;
}

.jp-Icon-18 {
  background-size: 18px;
  min-width: 18px;
  min-height: 18px;
}

.jp-Icon-20 {
  background-size: 20px;
  min-width: 20px;
  min-height: 20px;
}

/*-----------------------------------------------------------------------------
| Copyright (c) Jupyter Development Team.
| Distributed under the terms of the Modified BSD License.
|----------------------------------------------------------------------------*/

/**
 * Support for icons as inline SVG HTMLElements
 */

/* recolor the primary elements of an icon */
.jp-icon0[fill] {
  fill: var(--jp-inverse-layout-color0);
}
.jp-icon1[fill] {
  fill: var(--jp-inverse-layout-color1);
}
.jp-icon2[fill] {
  fill: var(--jp-inverse-layout-color2);
}
.jp-icon3[fill] {
  fill: var(--jp-inverse-layout-color3);
}
.jp-icon4[fill] {
  fill: var(--jp-inverse-layout-color4);
}

.jp-icon0[stroke] {
  stroke: var(--jp-inverse-layout-color0);
}
.jp-icon1[stroke] {
  stroke: var(--jp-inverse-layout-color1);
}
.jp-icon2[stroke] {
  stroke: var(--jp-inverse-layout-color2);
}
.jp-icon3[stroke] {
  stroke: var(--jp-inverse-layout-color3);
}
.jp-icon4[stroke] {
  stroke: var(--jp-inverse-layout-color4);
}
/* recolor the accent elements of an icon */
.jp-icon-accent0[fill] {
  fill: var(--jp-layout-color0);
}
.jp-icon-accent1[fill] {
  fill: var(--jp-layout-color1);
}
.jp-icon-accent2[fill] {
  fill: var(--jp-layout-color2);
}
.jp-icon-accent3[fill] {
  fill: var(--jp-layout-color3);
}
.jp-icon-accent4[fill] {
  fill: var(--jp-layout-color4);
}

.jp-icon-accent0[stroke] {
  stroke: var(--jp-layout-color0);
}
.jp-icon-accent1[stroke] {
  stroke: var(--jp-layout-color1);
}
.jp-icon-accent2[stroke] {
  stroke: var(--jp-layout-color2);
}
.jp-icon-accent3[stroke] {
  stroke: var(--jp-layout-color3);
}
.jp-icon-accent4[stroke] {
  stroke: var(--jp-layout-color4);
}
/* set the color of an icon to transparent */
.jp-icon-none[fill] {
  fill: none;
}

.jp-icon-none[stroke] {
  stroke: none;
}
/* brand icon colors. Same for light and dark */
.jp-icon-brand0[fill] {
  fill: var(--jp-brand-color0);
}
.jp-icon-brand1[fill] {
  fill: var(--jp-brand-color1);
}
.jp-icon-brand2[fill] {
  fill: var(--jp-brand-color2);
}
.jp-icon-brand3[fill] {
  fill: var(--jp-brand-color3);
}
.jp-icon-brand4[fill] {
  fill: var(--jp-brand-color4);
}

.jp-icon-brand0[stroke] {
  stroke: var(--jp-brand-color0);
}
.jp-icon-brand1[stroke] {
  stroke: var(--jp-brand-color1);
}
.jp-icon-brand2[stroke] {
  stroke: var(--jp-brand-color2);
}
.jp-icon-brand3[stroke] {
  stroke: var(--jp-brand-color3);
}
.jp-icon-brand4[stroke] {
  stroke: var(--jp-brand-color4);
}
/* warn icon colors. Same for light and dark */
.jp-icon-warn0[fill] {
  fill: var(--jp-warn-color0);
}
.jp-icon-warn1[fill] {
  fill: var(--jp-warn-color1);
}
.jp-icon-warn2[fill] {
  fill: var(--jp-warn-color2);
}
.jp-icon-warn3[fill] {
  fill: var(--jp-warn-color3);
}

.jp-icon-warn0[stroke] {
  stroke: var(--jp-warn-color0);
}
.jp-icon-warn1[stroke] {
  stroke: var(--jp-warn-color1);
}
.jp-icon-warn2[stroke] {
  stroke: var(--jp-warn-color2);
}
.jp-icon-warn3[stroke] {
  stroke: var(--jp-warn-color3);
}
/* icon colors that contrast well with each other and most backgrounds */
.jp-icon-contrast0[fill] {
  fill: var(--jp-icon-contrast-color0);
}
.jp-icon-contrast1[fill] {
  fill: var(--jp-icon-contrast-color1);
}
.jp-icon-contrast2[fill] {
  fill: var(--jp-icon-contrast-color2);
}
.jp-icon-contrast3[fill] {
  fill: var(--jp-icon-contrast-color3);
}

.jp-icon-contrast0[stroke] {
  stroke: var(--jp-icon-contrast-color0);
}
.jp-icon-contrast1[stroke] {
  stroke: var(--jp-icon-contrast-color1);
}
.jp-icon-contrast2[stroke] {
  stroke: var(--jp-icon-contrast-color2);
}
.jp-icon-contrast3[stroke] {
  stroke: var(--jp-icon-contrast-color3);
}

/* CSS for icons in selected items in the settings editor */
#setting-editor .jp-PluginList .jp-mod-selected .jp-icon-selectable[fill] {
  fill: #fff;
}
#setting-editor
  .jp-PluginList
  .jp-mod-selected
  .jp-icon-selectable-inverse[fill] {
  fill: var(--jp-brand-color1);
}

/* CSS for icons in selected filebrowser listing items */
.jp-DirListing-item.jp-mod-selected .jp-icon-selectable[fill] {
  fill: #fff;
}
.jp-DirListing-item.jp-mod-selected .jp-icon-selectable-inverse[fill] {
  fill: var(--jp-brand-color1);
}

/* CSS for icons in selected tabs in the sidebar tab manager */
#tab-manager .lm-TabBar-tab.jp-mod-active .jp-icon-selectable[fill] {
  fill: #fff;
}

#tab-manager .lm-TabBar-tab.jp-mod-active .jp-icon-selectable-inverse[fill] {
  fill: var(--jp-brand-color1);
}
#tab-manager
  .lm-TabBar-tab.jp-mod-active
  .jp-icon-hover
  :hover
  .jp-icon-selectable[fill] {
  fill: var(--jp-brand-color1);
}

#tab-manager
  .lm-TabBar-tab.jp-mod-active
  .jp-icon-hover
  :hover
  .jp-icon-selectable-inverse[fill] {
  fill: #fff;
}

/**
 * TODO: come up with non css-hack solution for showing the busy icon on top
 *  of the close icon
 * CSS for complex behavior of close icon of tabs in the sidebar tab manager
 */
#tab-manager
  .lm-TabBar-tab.jp-mod-dirty
  > .lm-TabBar-tabCloseIcon
  > :not(:hover)
  > .jp-icon3[fill] {
  fill: none;
}
#tab-manager
  .lm-TabBar-tab.jp-mod-dirty
  > .lm-TabBar-tabCloseIcon
  > :not(:hover)
  > .jp-icon-busy[fill] {
  fill: var(--jp-inverse-layout-color3);
}

#tab-manager
  .lm-TabBar-tab.jp-mod-dirty.jp-mod-active
  > .lm-TabBar-tabCloseIcon
  > :not(:hover)
  > .jp-icon-busy[fill] {
  fill: #fff;
}

/**
* TODO: come up with non css-hack solution for showing the busy icon on top
*  of the close icon
* CSS for complex behavior of close icon of tabs in the main area tabbar
*/
.lm-DockPanel-tabBar
  .lm-TabBar-tab.lm-mod-closable.jp-mod-dirty
  > .lm-TabBar-tabCloseIcon
  > :not(:hover)
  > .jp-icon3[fill] {
  fill: none;
}
.lm-DockPanel-tabBar
  .lm-TabBar-tab.lm-mod-closable.jp-mod-dirty
  > .lm-TabBar-tabCloseIcon
  > :not(:hover)
  > .jp-icon-busy[fill] {
  fill: var(--jp-inverse-layout-color3);
}

/* CSS for icons in status bar */
#jp-main-statusbar .jp-mod-selected .jp-icon-selectable[fill] {
  fill: #fff;
}

#jp-main-statusbar .jp-mod-selected .jp-icon-selectable-inverse[fill] {
  fill: var(--jp-brand-color1);
}
/* special handling for splash icon CSS. While the theme CSS reloads during
   splash, the splash icon can loose theming. To prevent that, we set a
   default for its color variable */
:root {
  --jp-warn-color0: var(--md-orange-700);
}

/* not sure what to do with this one, used in filebrowser listing */
.jp-DragIcon {
  margin-right: 4px;
}

/*-----------------------------------------------------------------------------
| Copyright (c) Jupyter Development Team.
| Distributed under the terms of the Modified BSD License.
|----------------------------------------------------------------------------*/

/**
 * Support for alt colors for icons as inline SVG HTMLElements
 */

/* alt recolor the primary elements of an icon */
.jp-icon-alt .jp-icon0[fill] {
  fill: var(--jp-layout-color0);
}
.jp-icon-alt .jp-icon1[fill] {
  fill: var(--jp-layout-color1);
}
.jp-icon-alt .jp-icon2[fill] {
  fill: var(--jp-layout-color2);
}
.jp-icon-alt .jp-icon3[fill] {
  fill: var(--jp-layout-color3);
}
.jp-icon-alt .jp-icon4[fill] {
  fill: var(--jp-layout-color4);
}

.jp-icon-alt .jp-icon0[stroke] {
  stroke: var(--jp-layout-color0);
}
.jp-icon-alt .jp-icon1[stroke] {
  stroke: var(--jp-layout-color1);
}
.jp-icon-alt .jp-icon2[stroke] {
  stroke: var(--jp-layout-color2);
}
.jp-icon-alt .jp-icon3[stroke] {
  stroke: var(--jp-layout-color3);
}
.jp-icon-alt .jp-icon4[stroke] {
  stroke: var(--jp-layout-color4);
}

/* alt recolor the accent elements of an icon */
.jp-icon-alt .jp-icon-accent0[fill] {
  fill: var(--jp-inverse-layout-color0);
}
.jp-icon-alt .jp-icon-accent1[fill] {
  fill: var(--jp-inverse-layout-color1);
}
.jp-icon-alt .jp-icon-accent2[fill] {
  fill: var(--jp-inverse-layout-color2);
}
.jp-icon-alt .jp-icon-accent3[fill] {
  fill: var(--jp-inverse-layout-color3);
}
.jp-icon-alt .jp-icon-accent4[fill] {
  fill: var(--jp-inverse-layout-color4);
}

.jp-icon-alt .jp-icon-accent0[stroke] {
  stroke: var(--jp-inverse-layout-color0);
}
.jp-icon-alt .jp-icon-accent1[stroke] {
  stroke: var(--jp-inverse-layout-color1);
}
.jp-icon-alt .jp-icon-accent2[stroke] {
  stroke: var(--jp-inverse-layout-color2);
}
.jp-icon-alt .jp-icon-accent3[stroke] {
  stroke: var(--jp-inverse-layout-color3);
}
.jp-icon-alt .jp-icon-accent4[stroke] {
  stroke: var(--jp-inverse-layout-color4);
}

/*-----------------------------------------------------------------------------
| Copyright (c) Jupyter Development Team.
| Distributed under the terms of the Modified BSD License.
|----------------------------------------------------------------------------*/

.jp-icon-hoverShow:not(:hover) svg {
  display: none !important;
}

/**
 * Support for hover colors for icons as inline SVG HTMLElements
 */

/**
 * regular colors
 */

/* recolor the primary elements of an icon */
.jp-icon-hover :hover .jp-icon0-hover[fill] {
  fill: var(--jp-inverse-layout-color0);
}
.jp-icon-hover :hover .jp-icon1-hover[fill] {
  fill: var(--jp-inverse-layout-color1);
}
.jp-icon-hover :hover .jp-icon2-hover[fill] {
  fill: var(--jp-inverse-layout-color2);
}
.jp-icon-hover :hover .jp-icon3-hover[fill] {
  fill: var(--jp-inverse-layout-color3);
}
.jp-icon-hover :hover .jp-icon4-hover[fill] {
  fill: var(--jp-inverse-layout-color4);
}

.jp-icon-hover :hover .jp-icon0-hover[stroke] {
  stroke: var(--jp-inverse-layout-color0);
}
.jp-icon-hover :hover .jp-icon1-hover[stroke] {
  stroke: var(--jp-inverse-layout-color1);
}
.jp-icon-hover :hover .jp-icon2-hover[stroke] {
  stroke: var(--jp-inverse-layout-color2);
}
.jp-icon-hover :hover .jp-icon3-hover[stroke] {
  stroke: var(--jp-inverse-layout-color3);
}
.jp-icon-hover :hover .jp-icon4-hover[stroke] {
  stroke: var(--jp-inverse-layout-color4);
}

/* recolor the accent elements of an icon */
.jp-icon-hover :hover .jp-icon-accent0-hover[fill] {
  fill: var(--jp-layout-color0);
}
.jp-icon-hover :hover .jp-icon-accent1-hover[fill] {
  fill: var(--jp-layout-color1);
}
.jp-icon-hover :hover .jp-icon-accent2-hover[fill] {
  fill: var(--jp-layout-color2);
}
.jp-icon-hover :hover .jp-icon-accent3-hover[fill] {
  fill: var(--jp-layout-color3);
}
.jp-icon-hover :hover .jp-icon-accent4-hover[fill] {
  fill: var(--jp-layout-color4);
}

.jp-icon-hover :hover .jp-icon-accent0-hover[stroke] {
  stroke: var(--jp-layout-color0);
}
.jp-icon-hover :hover .jp-icon-accent1-hover[stroke] {
  stroke: var(--jp-layout-color1);
}
.jp-icon-hover :hover .jp-icon-accent2-hover[stroke] {
  stroke: var(--jp-layout-color2);
}
.jp-icon-hover :hover .jp-icon-accent3-hover[stroke] {
  stroke: var(--jp-layout-color3);
}
.jp-icon-hover :hover .jp-icon-accent4-hover[stroke] {
  stroke: var(--jp-layout-color4);
}

/* set the color of an icon to transparent */
.jp-icon-hover :hover .jp-icon-none-hover[fill] {
  fill: none;
}

.jp-icon-hover :hover .jp-icon-none-hover[stroke] {
  stroke: none;
}

/**
 * inverse colors
 */

/* inverse recolor the primary elements of an icon */
.jp-icon-hover.jp-icon-alt :hover .jp-icon0-hover[fill] {
  fill: var(--jp-layout-color0);
}
.jp-icon-hover.jp-icon-alt :hover .jp-icon1-hover[fill] {
  fill: var(--jp-layout-color1);
}
.jp-icon-hover.jp-icon-alt :hover .jp-icon2-hover[fill] {
  fill: var(--jp-layout-color2);
}
.jp-icon-hover.jp-icon-alt :hover .jp-icon3-hover[fill] {
  fill: var(--jp-layout-color3);
}
.jp-icon-hover.jp-icon-alt :hover .jp-icon4-hover[fill] {
  fill: var(--jp-layout-color4);
}

.jp-icon-hover.jp-icon-alt :hover .jp-icon0-hover[stroke] {
  stroke: var(--jp-layout-color0);
}
.jp-icon-hover.jp-icon-alt :hover .jp-icon1-hover[stroke] {
  stroke: var(--jp-layout-color1);
}
.jp-icon-hover.jp-icon-alt :hover .jp-icon2-hover[stroke] {
  stroke: var(--jp-layout-color2);
}
.jp-icon-hover.jp-icon-alt :hover .jp-icon3-hover[stroke] {
  stroke: var(--jp-layout-color3);
}
.jp-icon-hover.jp-icon-alt :hover .jp-icon4-hover[stroke] {
  stroke: var(--jp-layout-color4);
}

/* inverse recolor the accent elements of an icon */
.jp-icon-hover.jp-icon-alt :hover .jp-icon-accent0-hover[fill] {
  fill: var(--jp-inverse-layout-color0);
}
.jp-icon-hover.jp-icon-alt :hover .jp-icon-accent1-hover[fill] {
  fill: var(--jp-inverse-layout-color1);
}
.jp-icon-hover.jp-icon-alt :hover .jp-icon-accent2-hover[fill] {
  fill: var(--jp-inverse-layout-color2);
}
.jp-icon-hover.jp-icon-alt :hover .jp-icon-accent3-hover[fill] {
  fill: var(--jp-inverse-layout-color3);
}
.jp-icon-hover.jp-icon-alt :hover .jp-icon-accent4-hover[fill] {
  fill: var(--jp-inverse-layout-color4);
}

.jp-icon-hover.jp-icon-alt :hover .jp-icon-accent0-hover[stroke] {
  stroke: var(--jp-inverse-layout-color0);
}
.jp-icon-hover.jp-icon-alt :hover .jp-icon-accent1-hover[stroke] {
  stroke: var(--jp-inverse-layout-color1);
}
.jp-icon-hover.jp-icon-alt :hover .jp-icon-accent2-hover[stroke] {
  stroke: var(--jp-inverse-layout-color2);
}
.jp-icon-hover.jp-icon-alt :hover .jp-icon-accent3-hover[stroke] {
  stroke: var(--jp-inverse-layout-color3);
}
.jp-icon-hover.jp-icon-alt :hover .jp-icon-accent4-hover[stroke] {
  stroke: var(--jp-inverse-layout-color4);
}

/*-----------------------------------------------------------------------------
| Copyright (c) Jupyter Development Team.
| Distributed under the terms of the Modified BSD License.
|----------------------------------------------------------------------------*/

/* Sibling imports */

/* Override Blueprint's _reset.scss styles */
html {
  box-sizing: unset;
}

*,
*::before,
*::after {
  box-sizing: unset;
}

body {
  color: unset;
  font-family: var(--jp-ui-font-family);
}

p {
  margin-top: unset;
  margin-bottom: unset;
}

small {
  font-size: unset;
}

strong {
  font-weight: unset;
}

/* Override Blueprint's _typography.scss styles */
a {
  text-decoration: unset;
  color: unset;
}
a:hover {
  text-decoration: unset;
  color: unset;
}

/* Override Blueprint's _accessibility.scss styles */
:focus {
  outline: unset;
  outline-offset: unset;
  -moz-outline-radius: unset;
}

/* Styles for ui-components */
.jp-Button {
  border-radius: var(--jp-border-radius);
  padding: 0px 12px;
  font-size: var(--jp-ui-font-size1);
}

/* Use our own theme for hover styles */
button.jp-Button.bp3-button.bp3-minimal:hover {
  background-color: var(--jp-layout-color2);
}
.jp-Button.minimal {
  color: unset !important;
}

.jp-Button.jp-ToolbarButtonComponent {
  text-transform: none;
}

.jp-InputGroup input {
  box-sizing: border-box;
  border-radius: 0;
  background-color: transparent;
  color: var(--jp-ui-font-color0);
  box-shadow: inset 0 0 0 var(--jp-border-width) var(--jp-input-border-color);
}

.jp-InputGroup input:focus {
  box-shadow: inset 0 0 0 var(--jp-border-width)
      var(--jp-input-active-box-shadow-color),
    inset 0 0 0 3px var(--jp-input-active-box-shadow-color);
}

.jp-InputGroup input::placeholder,
input::placeholder {
  color: var(--jp-ui-font-color3);
}

.jp-BPIcon {
  display: inline-block;
  vertical-align: middle;
  margin: auto;
}

/* Stop blueprint futzing with our icon fills */
.bp3-icon.jp-BPIcon > svg:not([fill]) {
  fill: var(--jp-inverse-layout-color3);
}

.jp-InputGroupAction {
  padding: 6px;
}

.jp-HTMLSelect.jp-DefaultStyle select {
  background-color: initial;
  border: none;
  border-radius: 0;
  box-shadow: none;
  color: var(--jp-ui-font-color0);
  display: block;
  font-size: var(--jp-ui-font-size1);
  height: 24px;
  line-height: 14px;
  padding: 0 25px 0 10px;
  text-align: left;
  -moz-appearance: none;
  -webkit-appearance: none;
}

/* Use our own theme for hover and option styles */
.jp-HTMLSelect.jp-DefaultStyle select:hover,
.jp-HTMLSelect.jp-DefaultStyle select > option {
  background-color: var(--jp-layout-color2);
  color: var(--jp-ui-font-color0);
}
select {
  box-sizing: border-box;
}

/*-----------------------------------------------------------------------------
| Copyright (c) Jupyter Development Team.
| Distributed under the terms of the Modified BSD License.
|----------------------------------------------------------------------------*/

/* This file was auto-generated by ensurePackage() in @jupyterlab/buildutils */

/*-----------------------------------------------------------------------------
| Copyright (c) Jupyter Development Team.
| Distributed under the terms of the Modified BSD License.
|----------------------------------------------------------------------------*/

.jp-Collapse {
  display: flex;
  flex-direction: column;
  align-items: stretch;
  border-top: 1px solid var(--jp-border-color2);
  border-bottom: 1px solid var(--jp-border-color2);
}

.jp-Collapse-header {
  padding: 1px 12px;
  color: var(--jp-ui-font-color1);
  background-color: var(--jp-layout-color1);
  font-size: var(--jp-ui-font-size2);
}

.jp-Collapse-header:hover {
  background-color: var(--jp-layout-color2);
}

.jp-Collapse-contents {
  padding: 0px 12px 0px 12px;
  background-color: var(--jp-layout-color1);
  color: var(--jp-ui-font-color1);
  overflow: auto;
}

/*-----------------------------------------------------------------------------
| Copyright (c) Jupyter Development Team.
| Distributed under the terms of the Modified BSD License.
|----------------------------------------------------------------------------*/

/*-----------------------------------------------------------------------------
| Variables
|----------------------------------------------------------------------------*/

:root {
  --jp-private-commandpalette-search-height: 28px;
}

/*-----------------------------------------------------------------------------
| Overall styles
|----------------------------------------------------------------------------*/

.lm-CommandPalette {
  padding-bottom: 0px;
  color: var(--jp-ui-font-color1);
  background: var(--jp-layout-color1);
  /* This is needed so that all font sizing of children done in ems is
   * relative to this base size */
  font-size: var(--jp-ui-font-size1);
}

/*-----------------------------------------------------------------------------
| Search
|----------------------------------------------------------------------------*/

.lm-CommandPalette-search {
  padding: 4px;
  background-color: var(--jp-layout-color1);
  z-index: 2;
}

.lm-CommandPalette-wrapper {
  overflow: overlay;
  padding: 0px 9px;
  background-color: var(--jp-input-active-background);
  height: 30px;
  box-shadow: inset 0 0 0 var(--jp-border-width) var(--jp-input-border-color);
}

.lm-CommandPalette.lm-mod-focused .lm-CommandPalette-wrapper {
  box-shadow: inset 0 0 0 1px var(--jp-input-active-box-shadow-color),
    inset 0 0 0 3px var(--jp-input-active-box-shadow-color);
}

.lm-CommandPalette-wrapper::after {
  content: ' ';
  color: white;
  background-color: var(--jp-brand-color1);
  position: absolute;
  top: 4px;
  right: 4px;
  height: 30px;
  width: 10px;
  padding: 0px 10px;
  background-image: var(--jp-icon-search-white);
  background-size: 20px;
  background-repeat: no-repeat;
  background-position: center;
}

.lm-CommandPalette-input {
  background: transparent;
  width: calc(100% - 18px);
  float: left;
  border: none;
  outline: none;
  font-size: var(--jp-ui-font-size1);
  color: var(--jp-ui-font-color0);
  line-height: var(--jp-private-commandpalette-search-height);
}

.lm-CommandPalette-input::-webkit-input-placeholder,
.lm-CommandPalette-input::-moz-placeholder,
.lm-CommandPalette-input:-ms-input-placeholder {
  color: var(--jp-ui-font-color3);
  font-size: var(--jp-ui-font-size1);
}

/*-----------------------------------------------------------------------------
| Results
|----------------------------------------------------------------------------*/

.lm-CommandPalette-header:first-child {
  margin-top: 0px;
}

.lm-CommandPalette-header {
  border-bottom: solid var(--jp-border-width) var(--jp-border-color2);
  color: var(--jp-ui-font-color1);
  cursor: pointer;
  display: flex;
  font-size: var(--jp-ui-font-size0);
  font-weight: 600;
  letter-spacing: 1px;
  margin-top: 8px;
  padding: 8px 0 8px 12px;
  text-transform: uppercase;
}

.lm-CommandPalette-header.lm-mod-active {
  background: var(--jp-layout-color2);
}

.lm-CommandPalette-header > mark {
  background-color: transparent;
  font-weight: bold;
  color: var(--jp-ui-font-color1);
}

.lm-CommandPalette-item {
  padding: 4px 12px 4px 4px;
  color: var(--jp-ui-font-color1);
  font-size: var(--jp-ui-font-size1);
  font-weight: 400;
  display: flex;
}

.lm-CommandPalette-item.lm-mod-disabled {
  color: var(--jp-ui-font-color3);
}

.lm-CommandPalette-item.lm-mod-active {
  background: var(--jp-layout-color3);
}

.lm-CommandPalette-item.lm-mod-active:hover:not(.lm-mod-disabled) {
  background: var(--jp-layout-color4);
}

.lm-CommandPalette-item:hover:not(.lm-mod-active):not(.lm-mod-disabled) {
  background: var(--jp-layout-color2);
}

.lm-CommandPalette-itemContent {
  overflow: hidden;
}

.lm-CommandPalette-itemLabel > mark {
  color: var(--jp-ui-font-color0);
  background-color: transparent;
  font-weight: bold;
}

.lm-CommandPalette-item.lm-mod-disabled mark {
  color: var(--jp-ui-font-color3);
}

.lm-CommandPalette-item .lm-CommandPalette-itemIcon {
  margin: 0 4px 0 0;
  position: relative;
  width: 16px;
  top: 2px;
  flex: 0 0 auto;
}

.lm-CommandPalette-item.lm-mod-disabled .lm-CommandPalette-itemIcon {
  opacity: 0.4;
}

.lm-CommandPalette-item .lm-CommandPalette-itemShortcut {
  flex: 0 0 auto;
}

.lm-CommandPalette-itemCaption {
  display: none;
}

.lm-CommandPalette-content {
  background-color: var(--jp-layout-color1);
}

.lm-CommandPalette-content:empty:after {
  content: 'No results';
  margin: auto;
  margin-top: 20px;
  width: 100px;
  display: block;
  font-size: var(--jp-ui-font-size2);
  font-family: var(--jp-ui-font-family);
  font-weight: lighter;
}

.lm-CommandPalette-emptyMessage {
  text-align: center;
  margin-top: 24px;
  line-height: 1.32;
  padding: 0px 8px;
  color: var(--jp-content-font-color3);
}

/*-----------------------------------------------------------------------------
| Copyright (c) 2014-2017, Jupyter Development Team.
|
| Distributed under the terms of the Modified BSD License.
|----------------------------------------------------------------------------*/

.jp-Dialog {
  position: absolute;
  z-index: 10000;
  display: flex;
  flex-direction: column;
  align-items: center;
  justify-content: center;
  top: 0px;
  left: 0px;
  margin: 0;
  padding: 0;
  width: 100%;
  height: 100%;
  background: var(--jp-dialog-background);
}

.jp-Dialog-content {
  display: flex;
  flex-direction: column;
  margin-left: auto;
  margin-right: auto;
  background: var(--jp-layout-color1);
  padding: 24px;
  padding-bottom: 12px;
  min-width: 300px;
  min-height: 150px;
  max-width: 1000px;
  max-height: 500px;
  box-sizing: border-box;
  box-shadow: var(--jp-elevation-z20);
  word-wrap: break-word;
  border-radius: var(--jp-border-radius);
  /* This is needed so that all font sizing of children done in ems is
   * relative to this base size */
  font-size: var(--jp-ui-font-size1);
  color: var(--jp-ui-font-color1);
}

.jp-Dialog-button {
  overflow: visible;
}

button.jp-Dialog-button:focus {
  outline: 1px solid var(--jp-brand-color1);
  outline-offset: 4px;
  -moz-outline-radius: 0px;
}

button.jp-Dialog-button:focus::-moz-focus-inner {
  border: 0;
}

.jp-Dialog-header {
  flex: 0 0 auto;
  padding-bottom: 12px;
  font-size: var(--jp-ui-font-size3);
  font-weight: 400;
  color: var(--jp-ui-font-color0);
}

.jp-Dialog-body {
  display: flex;
  flex-direction: column;
  flex: 1 1 auto;
  font-size: var(--jp-ui-font-size1);
  background: var(--jp-layout-color1);
  overflow: auto;
}

.jp-Dialog-footer {
  display: flex;
  flex-direction: row;
  justify-content: flex-end;
  flex: 0 0 auto;
  margin-left: -12px;
  margin-right: -12px;
  padding: 12px;
}

.jp-Dialog-title {
  overflow: hidden;
  white-space: nowrap;
  text-overflow: ellipsis;
}

.jp-Dialog-body > .jp-select-wrapper {
  width: 100%;
}

.jp-Dialog-body > button {
  padding: 0px 16px;
}

.jp-Dialog-body > label {
  line-height: 1.4;
  color: var(--jp-ui-font-color0);
}

.jp-Dialog-button.jp-mod-styled:not(:last-child) {
  margin-right: 12px;
}

/*-----------------------------------------------------------------------------
| Copyright (c) 2014-2016, Jupyter Development Team.
|
| Distributed under the terms of the Modified BSD License.
|----------------------------------------------------------------------------*/

.jp-HoverBox {
  position: fixed;
}

.jp-HoverBox.jp-mod-outofview {
  display: none;
}

/*-----------------------------------------------------------------------------
| Copyright (c) Jupyter Development Team.
| Distributed under the terms of the Modified BSD License.
|----------------------------------------------------------------------------*/

.jp-IFrame {
  width: 100%;
  height: 100%;
}

.jp-IFrame > iframe {
  border: none;
}

/*
When drag events occur, `p-mod-override-cursor` is added to the body.
Because iframes steal all cursor events, the following two rules are necessary
to suppress pointer events while resize drags are occurring. There may be a
better solution to this problem.
*/
body.lm-mod-override-cursor .jp-IFrame {
  position: relative;
}

body.lm-mod-override-cursor .jp-IFrame:before {
  content: '';
  position: absolute;
  top: 0;
  left: 0;
  right: 0;
  bottom: 0;
  background: transparent;
}

/*-----------------------------------------------------------------------------
| Copyright (c) 2014-2016, Jupyter Development Team.
|
| Distributed under the terms of the Modified BSD License.
|----------------------------------------------------------------------------*/

.jp-MainAreaWidget > :focus {
  outline: none;
}

/**
 * google-material-color v1.2.6
 * https://github.com/danlevan/google-material-color
 */
:root {
  --md-red-50: #ffebee;
  --md-red-100: #ffcdd2;
  --md-red-200: #ef9a9a;
  --md-red-300: #e57373;
  --md-red-400: #ef5350;
  --md-red-500: #f44336;
  --md-red-600: #e53935;
  --md-red-700: #d32f2f;
  --md-red-800: #c62828;
  --md-red-900: #b71c1c;
  --md-red-A100: #ff8a80;
  --md-red-A200: #ff5252;
  --md-red-A400: #ff1744;
  --md-red-A700: #d50000;

  --md-pink-50: #fce4ec;
  --md-pink-100: #f8bbd0;
  --md-pink-200: #f48fb1;
  --md-pink-300: #f06292;
  --md-pink-400: #ec407a;
  --md-pink-500: #e91e63;
  --md-pink-600: #d81b60;
  --md-pink-700: #c2185b;
  --md-pink-800: #ad1457;
  --md-pink-900: #880e4f;
  --md-pink-A100: #ff80ab;
  --md-pink-A200: #ff4081;
  --md-pink-A400: #f50057;
  --md-pink-A700: #c51162;

  --md-purple-50: #f3e5f5;
  --md-purple-100: #e1bee7;
  --md-purple-200: #ce93d8;
  --md-purple-300: #ba68c8;
  --md-purple-400: #ab47bc;
  --md-purple-500: #9c27b0;
  --md-purple-600: #8e24aa;
  --md-purple-700: #7b1fa2;
  --md-purple-800: #6a1b9a;
  --md-purple-900: #4a148c;
  --md-purple-A100: #ea80fc;
  --md-purple-A200: #e040fb;
  --md-purple-A400: #d500f9;
  --md-purple-A700: #aa00ff;

  --md-deep-purple-50: #ede7f6;
  --md-deep-purple-100: #d1c4e9;
  --md-deep-purple-200: #b39ddb;
  --md-deep-purple-300: #9575cd;
  --md-deep-purple-400: #7e57c2;
  --md-deep-purple-500: #673ab7;
  --md-deep-purple-600: #5e35b1;
  --md-deep-purple-700: #512da8;
  --md-deep-purple-800: #4527a0;
  --md-deep-purple-900: #311b92;
  --md-deep-purple-A100: #b388ff;
  --md-deep-purple-A200: #7c4dff;
  --md-deep-purple-A400: #651fff;
  --md-deep-purple-A700: #6200ea;

  --md-indigo-50: #e8eaf6;
  --md-indigo-100: #c5cae9;
  --md-indigo-200: #9fa8da;
  --md-indigo-300: #7986cb;
  --md-indigo-400: #5c6bc0;
  --md-indigo-500: #3f51b5;
  --md-indigo-600: #3949ab;
  --md-indigo-700: #303f9f;
  --md-indigo-800: #283593;
  --md-indigo-900: #1a237e;
  --md-indigo-A100: #8c9eff;
  --md-indigo-A200: #536dfe;
  --md-indigo-A400: #3d5afe;
  --md-indigo-A700: #304ffe;

  --md-blue-50: #e3f2fd;
  --md-blue-100: #bbdefb;
  --md-blue-200: #90caf9;
  --md-blue-300: #64b5f6;
  --md-blue-400: #42a5f5;
  --md-blue-500: #2196f3;
  --md-blue-600: #1e88e5;
  --md-blue-700: #1976d2;
  --md-blue-800: #1565c0;
  --md-blue-900: #0d47a1;
  --md-blue-A100: #82b1ff;
  --md-blue-A200: #448aff;
  --md-blue-A400: #2979ff;
  --md-blue-A700: #2962ff;

  --md-light-blue-50: #e1f5fe;
  --md-light-blue-100: #b3e5fc;
  --md-light-blue-200: #81d4fa;
  --md-light-blue-300: #4fc3f7;
  --md-light-blue-400: #29b6f6;
  --md-light-blue-500: #03a9f4;
  --md-light-blue-600: #039be5;
  --md-light-blue-700: #0288d1;
  --md-light-blue-800: #0277bd;
  --md-light-blue-900: #01579b;
  --md-light-blue-A100: #80d8ff;
  --md-light-blue-A200: #40c4ff;
  --md-light-blue-A400: #00b0ff;
  --md-light-blue-A700: #0091ea;

  --md-cyan-50: #e0f7fa;
  --md-cyan-100: #b2ebf2;
  --md-cyan-200: #80deea;
  --md-cyan-300: #4dd0e1;
  --md-cyan-400: #26c6da;
  --md-cyan-500: #00bcd4;
  --md-cyan-600: #00acc1;
  --md-cyan-700: #0097a7;
  --md-cyan-800: #00838f;
  --md-cyan-900: #006064;
  --md-cyan-A100: #84ffff;
  --md-cyan-A200: #18ffff;
  --md-cyan-A400: #00e5ff;
  --md-cyan-A700: #00b8d4;

  --md-teal-50: #e0f2f1;
  --md-teal-100: #b2dfdb;
  --md-teal-200: #80cbc4;
  --md-teal-300: #4db6ac;
  --md-teal-400: #26a69a;
  --md-teal-500: #009688;
  --md-teal-600: #00897b;
  --md-teal-700: #00796b;
  --md-teal-800: #00695c;
  --md-teal-900: #004d40;
  --md-teal-A100: #a7ffeb;
  --md-teal-A200: #64ffda;
  --md-teal-A400: #1de9b6;
  --md-teal-A700: #00bfa5;

  --md-green-50: #e8f5e9;
  --md-green-100: #c8e6c9;
  --md-green-200: #a5d6a7;
  --md-green-300: #81c784;
  --md-green-400: #66bb6a;
  --md-green-500: #4caf50;
  --md-green-600: #43a047;
  --md-green-700: #388e3c;
  --md-green-800: #2e7d32;
  --md-green-900: #1b5e20;
  --md-green-A100: #b9f6ca;
  --md-green-A200: #69f0ae;
  --md-green-A400: #00e676;
  --md-green-A700: #00c853;

  --md-light-green-50: #f1f8e9;
  --md-light-green-100: #dcedc8;
  --md-light-green-200: #c5e1a5;
  --md-light-green-300: #aed581;
  --md-light-green-400: #9ccc65;
  --md-light-green-500: #8bc34a;
  --md-light-green-600: #7cb342;
  --md-light-green-700: #689f38;
  --md-light-green-800: #558b2f;
  --md-light-green-900: #33691e;
  --md-light-green-A100: #ccff90;
  --md-light-green-A200: #b2ff59;
  --md-light-green-A400: #76ff03;
  --md-light-green-A700: #64dd17;

  --md-lime-50: #f9fbe7;
  --md-lime-100: #f0f4c3;
  --md-lime-200: #e6ee9c;
  --md-lime-300: #dce775;
  --md-lime-400: #d4e157;
  --md-lime-500: #cddc39;
  --md-lime-600: #c0ca33;
  --md-lime-700: #afb42b;
  --md-lime-800: #9e9d24;
  --md-lime-900: #827717;
  --md-lime-A100: #f4ff81;
  --md-lime-A200: #eeff41;
  --md-lime-A400: #c6ff00;
  --md-lime-A700: #aeea00;

  --md-yellow-50: #fffde7;
  --md-yellow-100: #fff9c4;
  --md-yellow-200: #fff59d;
  --md-yellow-300: #fff176;
  --md-yellow-400: #ffee58;
  --md-yellow-500: #ffeb3b;
  --md-yellow-600: #fdd835;
  --md-yellow-700: #fbc02d;
  --md-yellow-800: #f9a825;
  --md-yellow-900: #f57f17;
  --md-yellow-A100: #ffff8d;
  --md-yellow-A200: #ffff00;
  --md-yellow-A400: #ffea00;
  --md-yellow-A700: #ffd600;

  --md-amber-50: #fff8e1;
  --md-amber-100: #ffecb3;
  --md-amber-200: #ffe082;
  --md-amber-300: #ffd54f;
  --md-amber-400: #ffca28;
  --md-amber-500: #ffc107;
  --md-amber-600: #ffb300;
  --md-amber-700: #ffa000;
  --md-amber-800: #ff8f00;
  --md-amber-900: #ff6f00;
  --md-amber-A100: #ffe57f;
  --md-amber-A200: #ffd740;
  --md-amber-A400: #ffc400;
  --md-amber-A700: #ffab00;

  --md-orange-50: #fff3e0;
  --md-orange-100: #ffe0b2;
  --md-orange-200: #ffcc80;
  --md-orange-300: #ffb74d;
  --md-orange-400: #ffa726;
  --md-orange-500: #ff9800;
  --md-orange-600: #fb8c00;
  --md-orange-700: #f57c00;
  --md-orange-800: #ef6c00;
  --md-orange-900: #e65100;
  --md-orange-A100: #ffd180;
  --md-orange-A200: #ffab40;
  --md-orange-A400: #ff9100;
  --md-orange-A700: #ff6d00;

  --md-deep-orange-50: #fbe9e7;
  --md-deep-orange-100: #ffccbc;
  --md-deep-orange-200: #ffab91;
  --md-deep-orange-300: #ff8a65;
  --md-deep-orange-400: #ff7043;
  --md-deep-orange-500: #ff5722;
  --md-deep-orange-600: #f4511e;
  --md-deep-orange-700: #e64a19;
  --md-deep-orange-800: #d84315;
  --md-deep-orange-900: #bf360c;
  --md-deep-orange-A100: #ff9e80;
  --md-deep-orange-A200: #ff6e40;
  --md-deep-orange-A400: #ff3d00;
  --md-deep-orange-A700: #dd2c00;

  --md-brown-50: #efebe9;
  --md-brown-100: #d7ccc8;
  --md-brown-200: #bcaaa4;
  --md-brown-300: #a1887f;
  --md-brown-400: #8d6e63;
  --md-brown-500: #795548;
  --md-brown-600: #6d4c41;
  --md-brown-700: #5d4037;
  --md-brown-800: #4e342e;
  --md-brown-900: #3e2723;

  --md-grey-50: #fafafa;
  --md-grey-100: #f5f5f5;
  --md-grey-200: #eeeeee;
  --md-grey-300: #e0e0e0;
  --md-grey-400: #bdbdbd;
  --md-grey-500: #9e9e9e;
  --md-grey-600: #757575;
  --md-grey-700: #616161;
  --md-grey-800: #424242;
  --md-grey-900: #212121;

  --md-blue-grey-50: #eceff1;
  --md-blue-grey-100: #cfd8dc;
  --md-blue-grey-200: #b0bec5;
  --md-blue-grey-300: #90a4ae;
  --md-blue-grey-400: #78909c;
  --md-blue-grey-500: #607d8b;
  --md-blue-grey-600: #546e7a;
  --md-blue-grey-700: #455a64;
  --md-blue-grey-800: #37474f;
  --md-blue-grey-900: #263238;
}

/*-----------------------------------------------------------------------------
| Copyright (c) 2017, Jupyter Development Team.
|
| Distributed under the terms of the Modified BSD License.
|----------------------------------------------------------------------------*/

.jp-Spinner {
  position: absolute;
  display: flex;
  justify-content: center;
  align-items: center;
  z-index: 10;
  left: 0;
  top: 0;
  width: 100%;
  height: 100%;
  background: var(--jp-layout-color0);
  outline: none;
}

.jp-SpinnerContent {
  font-size: 10px;
  margin: 50px auto;
  text-indent: -9999em;
  width: 3em;
  height: 3em;
  border-radius: 50%;
  background: var(--jp-brand-color3);
  background: linear-gradient(
    to right,
    #f37626 10%,
    rgba(255, 255, 255, 0) 42%
  );
  position: relative;
  animation: load3 1s infinite linear, fadeIn 1s;
}

.jp-SpinnerContent:before {
  width: 50%;
  height: 50%;
  background: #f37626;
  border-radius: 100% 0 0 0;
  position: absolute;
  top: 0;
  left: 0;
  content: '';
}

.jp-SpinnerContent:after {
  background: var(--jp-layout-color0);
  width: 75%;
  height: 75%;
  border-radius: 50%;
  content: '';
  margin: auto;
  position: absolute;
  top: 0;
  left: 0;
  bottom: 0;
  right: 0;
}

@keyframes fadeIn {
  0% {
    opacity: 0;
  }
  100% {
    opacity: 1;
  }
}

@keyframes load3 {
  0% {
    transform: rotate(0deg);
  }
  100% {
    transform: rotate(360deg);
  }
}

/*-----------------------------------------------------------------------------
| Copyright (c) 2014-2017, Jupyter Development Team.
|
| Distributed under the terms of the Modified BSD License.
|----------------------------------------------------------------------------*/

button.jp-mod-styled {
  font-size: var(--jp-ui-font-size1);
  color: var(--jp-ui-font-color0);
  border: none;
  box-sizing: border-box;
  text-align: center;
  line-height: 32px;
  height: 32px;
  padding: 0px 12px;
  letter-spacing: 0.8px;
  outline: none;
  appearance: none;
  -webkit-appearance: none;
  -moz-appearance: none;
}

input.jp-mod-styled {
  background: var(--jp-input-background);
  height: 28px;
  box-sizing: border-box;
  border: var(--jp-border-width) solid var(--jp-border-color1);
  padding-left: 7px;
  padding-right: 7px;
  font-size: var(--jp-ui-font-size2);
  color: var(--jp-ui-font-color0);
  outline: none;
  appearance: none;
  -webkit-appearance: none;
  -moz-appearance: none;
}

input.jp-mod-styled:focus {
  border: var(--jp-border-width) solid var(--md-blue-500);
  box-shadow: inset 0 0 4px var(--md-blue-300);
}

.jp-select-wrapper {
  display: flex;
  position: relative;
  flex-direction: column;
  padding: 1px;
  background-color: var(--jp-layout-color1);
  height: 28px;
  box-sizing: border-box;
  margin-bottom: 12px;
}

.jp-select-wrapper.jp-mod-focused select.jp-mod-styled {
  border: var(--jp-border-width) solid var(--jp-input-active-border-color);
  box-shadow: var(--jp-input-box-shadow);
  background-color: var(--jp-input-active-background);
}

select.jp-mod-styled:hover {
  background-color: var(--jp-layout-color1);
  cursor: pointer;
  color: var(--jp-ui-font-color0);
  background-color: var(--jp-input-hover-background);
  box-shadow: inset 0 0px 1px rgba(0, 0, 0, 0.5);
}

select.jp-mod-styled {
  flex: 1 1 auto;
  height: 32px;
  width: 100%;
  font-size: var(--jp-ui-font-size2);
  background: var(--jp-input-background);
  color: var(--jp-ui-font-color0);
  padding: 0 25px 0 8px;
  border: var(--jp-border-width) solid var(--jp-input-border-color);
  border-radius: 0px;
  outline: none;
  appearance: none;
  -webkit-appearance: none;
  -moz-appearance: none;
}

/*-----------------------------------------------------------------------------
| Copyright (c) 2014-2016, Jupyter Development Team.
|
| Distributed under the terms of the Modified BSD License.
|----------------------------------------------------------------------------*/

:root {
  --jp-private-toolbar-height: calc(
    28px + var(--jp-border-width)
  ); /* leave 28px for content */
}

.jp-Toolbar {
  color: var(--jp-ui-font-color1);
  flex: 0 0 auto;
  display: flex;
  flex-direction: row;
  border-bottom: var(--jp-border-width) solid var(--jp-toolbar-border-color);
  box-shadow: var(--jp-toolbar-box-shadow);
  background: var(--jp-toolbar-background);
  min-height: var(--jp-toolbar-micro-height);
  padding: 2px;
  z-index: 1;
}

/* Toolbar items */

.jp-Toolbar > .jp-Toolbar-item.jp-Toolbar-spacer {
  flex-grow: 1;
  flex-shrink: 1;
}

.jp-Toolbar-item.jp-Toolbar-kernelStatus {
  display: inline-block;
  width: 32px;
  background-repeat: no-repeat;
  background-position: center;
  background-size: 16px;
}

.jp-Toolbar > .jp-Toolbar-item {
  flex: 0 0 auto;
  display: flex;
  padding-left: 1px;
  padding-right: 1px;
  font-size: var(--jp-ui-font-size1);
  line-height: var(--jp-private-toolbar-height);
  height: 100%;
}

/* Toolbar buttons */

/* This is the div we use to wrap the react component into a Widget */
div.jp-ToolbarButton {
  color: transparent;
  border: none;
  box-sizing: border-box;
  outline: none;
  appearance: none;
  -webkit-appearance: none;
  -moz-appearance: none;
  padding: 0px;
  margin: 0px;
}

button.jp-ToolbarButtonComponent {
  background: var(--jp-layout-color1);
  border: none;
  box-sizing: border-box;
  outline: none;
  appearance: none;
  -webkit-appearance: none;
  -moz-appearance: none;
  padding: 0px 6px;
  margin: 0px;
  height: 24px;
  border-radius: var(--jp-border-radius);
  display: flex;
  align-items: center;
  text-align: center;
  font-size: 14px;
  min-width: unset;
  min-height: unset;
}

button.jp-ToolbarButtonComponent:disabled {
  opacity: 0.4;
}

button.jp-ToolbarButtonComponent span {
  padding: 0px;
  flex: 0 0 auto;
}

button.jp-ToolbarButtonComponent .jp-ToolbarButtonComponent-label {
  font-size: var(--jp-ui-font-size1);
  line-height: 100%;
  padding-left: 2px;
  color: var(--jp-ui-font-color1);
}

/*-----------------------------------------------------------------------------
| Copyright (c) 2014-2017, Jupyter Development Team.
|
| Distributed under the terms of the Modified BSD License.
|----------------------------------------------------------------------------*/

/*-----------------------------------------------------------------------------
| Copyright (c) Jupyter Development Team.
| Distributed under the terms of the Modified BSD License.
|----------------------------------------------------------------------------*/

/* This file was auto-generated by ensurePackage() in @jupyterlab/buildutils */

/*-----------------------------------------------------------------------------
| Copyright (c) Jupyter Development Team.
| Copyright (c) 2014-2017, PhosphorJS Contributors
|
| Distributed under the terms of the BSD 3-Clause License.
|
| The full license is in the file LICENSE, distributed with this software.
|----------------------------------------------------------------------------*/


/* <DEPRECATED> */ body.p-mod-override-cursor *, /* </DEPRECATED> */
body.lm-mod-override-cursor * {
  cursor: inherit !important;
}

/*-----------------------------------------------------------------------------
| Copyright (c) 2014-2016, Jupyter Development Team.
|
| Distributed under the terms of the Modified BSD License.
|----------------------------------------------------------------------------*/

.jp-JSONEditor {
  display: flex;
  flex-direction: column;
  width: 100%;
}

.jp-JSONEditor-host {
  flex: 1 1 auto;
  border: var(--jp-border-width) solid var(--jp-input-border-color);
  border-radius: 0px;
  background: var(--jp-layout-color0);
  min-height: 50px;
  padding: 1px;
}

.jp-JSONEditor.jp-mod-error .jp-JSONEditor-host {
  border-color: red;
  outline-color: red;
}

.jp-JSONEditor-header {
  display: flex;
  flex: 1 0 auto;
  padding: 0 0 0 12px;
}

.jp-JSONEditor-header label {
  flex: 0 0 auto;
}

.jp-JSONEditor-commitButton {
  height: 16px;
  width: 16px;
  background-size: 18px;
  background-repeat: no-repeat;
  background-position: center;
}

.jp-JSONEditor-host.jp-mod-focused {
  background-color: var(--jp-input-active-background);
  border: 1px solid var(--jp-input-active-border-color);
  box-shadow: var(--jp-input-box-shadow);
}

.jp-Editor.jp-mod-dropTarget {
  border: var(--jp-border-width) solid var(--jp-input-active-border-color);
  box-shadow: var(--jp-input-box-shadow);
}

/*-----------------------------------------------------------------------------
| Copyright (c) Jupyter Development Team.
| Distributed under the terms of the Modified BSD License.
|----------------------------------------------------------------------------*/

/* This file was auto-generated by ensurePackage() in @jupyterlab/buildutils */

/*-----------------------------------------------------------------------------
| Copyright (c) Jupyter Development Team.
| Distributed under the terms of the Modified BSD License.
|----------------------------------------------------------------------------*/

/* BASICS */

.CodeMirror {
  /* Set height, width, borders, and global font properties here */
  font-family: monospace;
  height: 300px;
  color: black;
  direction: ltr;
}

/* PADDING */

.CodeMirror-lines {
  padding: 4px 0; /* Vertical padding around content */
}
.CodeMirror pre.CodeMirror-line,
.CodeMirror pre.CodeMirror-line-like {
  padding: 0 4px; /* Horizontal padding of content */
}

.CodeMirror-scrollbar-filler, .CodeMirror-gutter-filler {
  background-color: white; /* The little square between H and V scrollbars */
}

/* GUTTER */

.CodeMirror-gutters {
  border-right: 1px solid #ddd;
  background-color: #f7f7f7;
  white-space: nowrap;
}
.CodeMirror-linenumbers {}
.CodeMirror-linenumber {
  padding: 0 3px 0 5px;
  min-width: 20px;
  text-align: right;
  color: #999;
  white-space: nowrap;
}

.CodeMirror-guttermarker { color: black; }
.CodeMirror-guttermarker-subtle { color: #999; }

/* CURSOR */

.CodeMirror-cursor {
  border-left: 1px solid black;
  border-right: none;
  width: 0;
}
/* Shown when moving in bi-directional text */
.CodeMirror div.CodeMirror-secondarycursor {
  border-left: 1px solid silver;
}
.cm-fat-cursor .CodeMirror-cursor {
  width: auto;
  border: 0 !important;
  background: #7e7;
}
.cm-fat-cursor div.CodeMirror-cursors {
  z-index: 1;
}
.cm-fat-cursor-mark {
  background-color: rgba(20, 255, 20, 0.5);
  -webkit-animation: blink 1.06s steps(1) infinite;
  -moz-animation: blink 1.06s steps(1) infinite;
  animation: blink 1.06s steps(1) infinite;
}
.cm-animate-fat-cursor {
  width: auto;
  border: 0;
  -webkit-animation: blink 1.06s steps(1) infinite;
  -moz-animation: blink 1.06s steps(1) infinite;
  animation: blink 1.06s steps(1) infinite;
  background-color: #7e7;
}
@-moz-keyframes blink {
  0% {}
  50% { background-color: transparent; }
  100% {}
}
@-webkit-keyframes blink {
  0% {}
  50% { background-color: transparent; }
  100% {}
}
@keyframes blink {
  0% {}
  50% { background-color: transparent; }
  100% {}
}

/* Can style cursor different in overwrite (non-insert) mode */
.CodeMirror-overwrite .CodeMirror-cursor {}

.cm-tab { display: inline-block; text-decoration: inherit; }

.CodeMirror-rulers {
  position: absolute;
  left: 0; right: 0; top: -50px; bottom: 0;
  overflow: hidden;
}
.CodeMirror-ruler {
  border-left: 1px solid #ccc;
  top: 0; bottom: 0;
  position: absolute;
}

/* DEFAULT THEME */

.cm-s-default .cm-header {color: blue;}
.cm-s-default .cm-quote {color: #090;}
.cm-negative {color: #d44;}
.cm-positive {color: #292;}
.cm-header, .cm-strong {font-weight: bold;}
.cm-em {font-style: italic;}
.cm-link {text-decoration: underline;}
.cm-strikethrough {text-decoration: line-through;}

.cm-s-default .cm-keyword {color: #708;}
.cm-s-default .cm-atom {color: #219;}
.cm-s-default .cm-number {color: #164;}
.cm-s-default .cm-def {color: #00f;}
.cm-s-default .cm-variable,
.cm-s-default .cm-punctuation,
.cm-s-default .cm-property,
.cm-s-default .cm-operator {}
.cm-s-default .cm-variable-2 {color: #05a;}
.cm-s-default .cm-variable-3, .cm-s-default .cm-type {color: #085;}
.cm-s-default .cm-comment {color: #a50;}
.cm-s-default .cm-string {color: #a11;}
.cm-s-default .cm-string-2 {color: #f50;}
.cm-s-default .cm-meta {color: #555;}
.cm-s-default .cm-qualifier {color: #555;}
.cm-s-default .cm-builtin {color: #30a;}
.cm-s-default .cm-bracket {color: #997;}
.cm-s-default .cm-tag {color: #170;}
.cm-s-default .cm-attribute {color: #00c;}
.cm-s-default .cm-hr {color: #999;}
.cm-s-default .cm-link {color: #00c;}

.cm-s-default .cm-error {color: #f00;}
.cm-invalidchar {color: #f00;}

.CodeMirror-composing { border-bottom: 2px solid; }

/* Default styles for common addons */

div.CodeMirror span.CodeMirror-matchingbracket {color: #0b0;}
div.CodeMirror span.CodeMirror-nonmatchingbracket {color: #a22;}
.CodeMirror-matchingtag { background: rgba(255, 150, 0, .3); }
.CodeMirror-activeline-background {background: #e8f2ff;}

/* STOP */

/* The rest of this file contains styles related to the mechanics of
   the editor. You probably shouldn't touch them. */

.CodeMirror {
  position: relative;
  overflow: hidden;
  background: white;
}

.CodeMirror-scroll {
  overflow: scroll !important; /* Things will break if this is overridden */
  /* 30px is the magic margin used to hide the element's real scrollbars */
  /* See overflow: hidden in .CodeMirror */
  margin-bottom: -30px; margin-right: -30px;
  padding-bottom: 30px;
  height: 100%;
  outline: none; /* Prevent dragging from highlighting the element */
  position: relative;
}
.CodeMirror-sizer {
  position: relative;
  border-right: 30px solid transparent;
}

/* The fake, visible scrollbars. Used to force redraw during scrolling
   before actual scrolling happens, thus preventing shaking and
   flickering artifacts. */
.CodeMirror-vscrollbar, .CodeMirror-hscrollbar, .CodeMirror-scrollbar-filler, .CodeMirror-gutter-filler {
  position: absolute;
  z-index: 6;
  display: none;
}
.CodeMirror-vscrollbar {
  right: 0; top: 0;
  overflow-x: hidden;
  overflow-y: scroll;
}
.CodeMirror-hscrollbar {
  bottom: 0; left: 0;
  overflow-y: hidden;
  overflow-x: scroll;
}
.CodeMirror-scrollbar-filler {
  right: 0; bottom: 0;
}
.CodeMirror-gutter-filler {
  left: 0; bottom: 0;
}

.CodeMirror-gutters {
  position: absolute; left: 0; top: 0;
  min-height: 100%;
  z-index: 3;
}
.CodeMirror-gutter {
  white-space: normal;
  height: 100%;
  display: inline-block;
  vertical-align: top;
  margin-bottom: -30px;
}
.CodeMirror-gutter-wrapper {
  position: absolute;
  z-index: 4;
  background: none !important;
  border: none !important;
}
.CodeMirror-gutter-background {
  position: absolute;
  top: 0; bottom: 0;
  z-index: 4;
}
.CodeMirror-gutter-elt {
  position: absolute;
  cursor: default;
  z-index: 4;
}
.CodeMirror-gutter-wrapper ::selection { background-color: transparent }
.CodeMirror-gutter-wrapper ::-moz-selection { background-color: transparent }

.CodeMirror-lines {
  cursor: text;
  min-height: 1px; /* prevents collapsing before first draw */
}
.CodeMirror pre.CodeMirror-line,
.CodeMirror pre.CodeMirror-line-like {
  /* Reset some styles that the rest of the page might have set */
  -moz-border-radius: 0; -webkit-border-radius: 0; border-radius: 0;
  border-width: 0;
  background: transparent;
  font-family: inherit;
  font-size: inherit;
  margin: 0;
  white-space: pre;
  word-wrap: normal;
  line-height: inherit;
  color: inherit;
  z-index: 2;
  position: relative;
  overflow: visible;
  -webkit-tap-highlight-color: transparent;
  -webkit-font-variant-ligatures: contextual;
  font-variant-ligatures: contextual;
}
.CodeMirror-wrap pre.CodeMirror-line,
.CodeMirror-wrap pre.CodeMirror-line-like {
  word-wrap: break-word;
  white-space: pre-wrap;
  word-break: normal;
}

.CodeMirror-linebackground {
  position: absolute;
  left: 0; right: 0; top: 0; bottom: 0;
  z-index: 0;
}

.CodeMirror-linewidget {
  position: relative;
  z-index: 2;
  padding: 0.1px; /* Force widget margins to stay inside of the container */
}

.CodeMirror-widget {}

.CodeMirror-rtl pre { direction: rtl; }

.CodeMirror-code {
  outline: none;
}

/* Force content-box sizing for the elements where we expect it */
.CodeMirror-scroll,
.CodeMirror-sizer,
.CodeMirror-gutter,
.CodeMirror-gutters,
.CodeMirror-linenumber {
  -moz-box-sizing: content-box;
  box-sizing: content-box;
}

.CodeMirror-measure {
  position: absolute;
  width: 100%;
  height: 0;
  overflow: hidden;
  visibility: hidden;
}

.CodeMirror-cursor {
  position: absolute;
  pointer-events: none;
}
.CodeMirror-measure pre { position: static; }

div.CodeMirror-cursors {
  visibility: hidden;
  position: relative;
  z-index: 3;
}
div.CodeMirror-dragcursors {
  visibility: visible;
}

.CodeMirror-focused div.CodeMirror-cursors {
  visibility: visible;
}

.CodeMirror-selected { background: #d9d9d9; }
.CodeMirror-focused .CodeMirror-selected { background: #d7d4f0; }
.CodeMirror-crosshair { cursor: crosshair; }
.CodeMirror-line::selection, .CodeMirror-line > span::selection, .CodeMirror-line > span > span::selection { background: #d7d4f0; }
.CodeMirror-line::-moz-selection, .CodeMirror-line > span::-moz-selection, .CodeMirror-line > span > span::-moz-selection { background: #d7d4f0; }

.cm-searching {
  background-color: #ffa;
  background-color: rgba(255, 255, 0, .4);
}

/* Used to force a border model for a node */
.cm-force-border { padding-right: .1px; }

@media print {
  /* Hide the cursor when printing */
  .CodeMirror div.CodeMirror-cursors {
    visibility: hidden;
  }
}

/* See issue #2901 */
.cm-tab-wrap-hack:after { content: ''; }

/* Help users use markselection to safely style text background */
span.CodeMirror-selectedtext { background: none; }

.CodeMirror-dialog {
  position: absolute;
  left: 0; right: 0;
  background: inherit;
  z-index: 15;
  padding: .1em .8em;
  overflow: hidden;
  color: inherit;
}

.CodeMirror-dialog-top {
  border-bottom: 1px solid #eee;
  top: 0;
}

.CodeMirror-dialog-bottom {
  border-top: 1px solid #eee;
  bottom: 0;
}

.CodeMirror-dialog input {
  border: none;
  outline: none;
  background: transparent;
  width: 20em;
  color: inherit;
  font-family: monospace;
}

.CodeMirror-dialog button {
  font-size: 70%;
}

.CodeMirror-foldmarker {
  color: blue;
  text-shadow: #b9f 1px 1px 2px, #b9f -1px -1px 2px, #b9f 1px -1px 2px, #b9f -1px 1px 2px;
  font-family: arial;
  line-height: .3;
  cursor: pointer;
}
.CodeMirror-foldgutter {
  width: .7em;
}
.CodeMirror-foldgutter-open,
.CodeMirror-foldgutter-folded {
  cursor: pointer;
}
.CodeMirror-foldgutter-open:after {
  content: "\25BE";
}
.CodeMirror-foldgutter-folded:after {
  content: "\25B8";
}

/*
  Name:       material
  Author:     Mattia Astorino (http://github.com/equinusocio)
  Website:    https://material-theme.site/
*/

.cm-s-material.CodeMirror {
  background-color: #263238;
  color: #EEFFFF;
}

.cm-s-material .CodeMirror-gutters {
  background: #263238;
  color: #546E7A;
  border: none;
}

.cm-s-material .CodeMirror-guttermarker,
.cm-s-material .CodeMirror-guttermarker-subtle,
.cm-s-material .CodeMirror-linenumber {
  color: #546E7A;
}

.cm-s-material .CodeMirror-cursor {
  border-left: 1px solid #FFCC00;
}

.cm-s-material div.CodeMirror-selected {
  background: rgba(128, 203, 196, 0.2);
}

.cm-s-material.CodeMirror-focused div.CodeMirror-selected {
  background: rgba(128, 203, 196, 0.2);
}

.cm-s-material .CodeMirror-line::selection,
.cm-s-material .CodeMirror-line>span::selection,
.cm-s-material .CodeMirror-line>span>span::selection {
  background: rgba(128, 203, 196, 0.2);
}

.cm-s-material .CodeMirror-line::-moz-selection,
.cm-s-material .CodeMirror-line>span::-moz-selection,
.cm-s-material .CodeMirror-line>span>span::-moz-selection {
  background: rgba(128, 203, 196, 0.2);
}

.cm-s-material .CodeMirror-activeline-background {
  background: rgba(0, 0, 0, 0.5);
}

.cm-s-material .cm-keyword {
  color: #C792EA;
}

.cm-s-material .cm-operator {
  color: #89DDFF;
}

.cm-s-material .cm-variable-2 {
  color: #EEFFFF;
}

.cm-s-material .cm-variable-3,
.cm-s-material .cm-type {
  color: #f07178;
}

.cm-s-material .cm-builtin {
  color: #FFCB6B;
}

.cm-s-material .cm-atom {
  color: #F78C6C;
}

.cm-s-material .cm-number {
  color: #FF5370;
}

.cm-s-material .cm-def {
  color: #82AAFF;
}

.cm-s-material .cm-string {
  color: #C3E88D;
}

.cm-s-material .cm-string-2 {
  color: #f07178;
}

.cm-s-material .cm-comment {
  color: #546E7A;
}

.cm-s-material .cm-variable {
  color: #f07178;
}

.cm-s-material .cm-tag {
  color: #FF5370;
}

.cm-s-material .cm-meta {
  color: #FFCB6B;
}

.cm-s-material .cm-attribute {
  color: #C792EA;
}

.cm-s-material .cm-property {
  color: #C792EA;
}

.cm-s-material .cm-qualifier {
  color: #DECB6B;
}

.cm-s-material .cm-variable-3,
.cm-s-material .cm-type {
  color: #DECB6B;
}


.cm-s-material .cm-error {
  color: rgba(255, 255, 255, 1.0);
  background-color: #FF5370;
}

.cm-s-material .CodeMirror-matchingbracket {
  text-decoration: underline;
  color: white !important;
}
/**
 * "
 *  Using Zenburn color palette from the Emacs Zenburn Theme
 *  https://github.com/bbatsov/zenburn-emacs/blob/master/zenburn-theme.el
 *
 *  Also using parts of https://github.com/xavi/coderay-lighttable-theme
 * "
 * From: https://github.com/wisenomad/zenburn-lighttable-theme/blob/master/zenburn.css
 */

.cm-s-zenburn .CodeMirror-gutters { background: #3f3f3f !important; }
.cm-s-zenburn .CodeMirror-foldgutter-open, .CodeMirror-foldgutter-folded { color: #999; }
.cm-s-zenburn .CodeMirror-cursor { border-left: 1px solid white; }
.cm-s-zenburn { background-color: #3f3f3f; color: #dcdccc; }
.cm-s-zenburn span.cm-builtin { color: #dcdccc; font-weight: bold; }
.cm-s-zenburn span.cm-comment { color: #7f9f7f; }
.cm-s-zenburn span.cm-keyword { color: #f0dfaf; font-weight: bold; }
.cm-s-zenburn span.cm-atom { color: #bfebbf; }
.cm-s-zenburn span.cm-def { color: #dcdccc; }
.cm-s-zenburn span.cm-variable { color: #dfaf8f; }
.cm-s-zenburn span.cm-variable-2 { color: #dcdccc; }
.cm-s-zenburn span.cm-string { color: #cc9393; }
.cm-s-zenburn span.cm-string-2 { color: #cc9393; }
.cm-s-zenburn span.cm-number { color: #dcdccc; }
.cm-s-zenburn span.cm-tag { color: #93e0e3; }
.cm-s-zenburn span.cm-property { color: #dfaf8f; }
.cm-s-zenburn span.cm-attribute { color: #dfaf8f; }
.cm-s-zenburn span.cm-qualifier { color: #7cb8bb; }
.cm-s-zenburn span.cm-meta { color: #f0dfaf; }
.cm-s-zenburn span.cm-header { color: #f0efd0; }
.cm-s-zenburn span.cm-operator { color: #f0efd0; }
.cm-s-zenburn span.CodeMirror-matchingbracket { box-sizing: border-box; background: transparent; border-bottom: 1px solid; }
.cm-s-zenburn span.CodeMirror-nonmatchingbracket { border-bottom: 1px solid; background: none; }
.cm-s-zenburn .CodeMirror-activeline { background: #000000; }
.cm-s-zenburn .CodeMirror-activeline-background { background: #000000; }
.cm-s-zenburn div.CodeMirror-selected { background: #545454; }
.cm-s-zenburn .CodeMirror-focused div.CodeMirror-selected { background: #4f4f4f; }

.cm-s-abcdef.CodeMirror { background: #0f0f0f; color: #defdef; }
.cm-s-abcdef div.CodeMirror-selected { background: #515151; }
.cm-s-abcdef .CodeMirror-line::selection, .cm-s-abcdef .CodeMirror-line > span::selection, .cm-s-abcdef .CodeMirror-line > span > span::selection { background: rgba(56, 56, 56, 0.99); }
.cm-s-abcdef .CodeMirror-line::-moz-selection, .cm-s-abcdef .CodeMirror-line > span::-moz-selection, .cm-s-abcdef .CodeMirror-line > span > span::-moz-selection { background: rgba(56, 56, 56, 0.99); }
.cm-s-abcdef .CodeMirror-gutters { background: #555; border-right: 2px solid #314151; }
.cm-s-abcdef .CodeMirror-guttermarker { color: #222; }
.cm-s-abcdef .CodeMirror-guttermarker-subtle { color: azure; }
.cm-s-abcdef .CodeMirror-linenumber { color: #FFFFFF; }
.cm-s-abcdef .CodeMirror-cursor { border-left: 1px solid #00FF00; }

.cm-s-abcdef span.cm-keyword { color: darkgoldenrod; font-weight: bold; }
.cm-s-abcdef span.cm-atom { color: #77F; }
.cm-s-abcdef span.cm-number { color: violet; }
.cm-s-abcdef span.cm-def { color: #fffabc; }
.cm-s-abcdef span.cm-variable { color: #abcdef; }
.cm-s-abcdef span.cm-variable-2 { color: #cacbcc; }
.cm-s-abcdef span.cm-variable-3, .cm-s-abcdef span.cm-type { color: #def; }
.cm-s-abcdef span.cm-property { color: #fedcba; }
.cm-s-abcdef span.cm-operator { color: #ff0; }
.cm-s-abcdef span.cm-comment { color: #7a7b7c; font-style: italic;}
.cm-s-abcdef span.cm-string { color: #2b4; }
.cm-s-abcdef span.cm-meta { color: #C9F; }
.cm-s-abcdef span.cm-qualifier { color: #FFF700; }
.cm-s-abcdef span.cm-builtin { color: #30aabc; }
.cm-s-abcdef span.cm-bracket { color: #8a8a8a; }
.cm-s-abcdef span.cm-tag { color: #FFDD44; }
.cm-s-abcdef span.cm-attribute { color: #DDFF00; }
.cm-s-abcdef span.cm-error { color: #FF0000; }
.cm-s-abcdef span.cm-header { color: aquamarine; font-weight: bold; }
.cm-s-abcdef span.cm-link { color: blueviolet; }

.cm-s-abcdef .CodeMirror-activeline-background { background: #314151; }

/*

    Name:       Base16 Default Light
    Author:     Chris Kempson (http://chriskempson.com)

    CodeMirror template by Jan T. Sott (https://github.com/idleberg/base16-codemirror)
    Original Base16 color scheme by Chris Kempson (https://github.com/chriskempson/base16)

*/

.cm-s-base16-light.CodeMirror { background: #f5f5f5; color: #202020; }
.cm-s-base16-light div.CodeMirror-selected { background: #e0e0e0; }
.cm-s-base16-light .CodeMirror-line::selection, .cm-s-base16-light .CodeMirror-line > span::selection, .cm-s-base16-light .CodeMirror-line > span > span::selection { background: #e0e0e0; }
.cm-s-base16-light .CodeMirror-line::-moz-selection, .cm-s-base16-light .CodeMirror-line > span::-moz-selection, .cm-s-base16-light .CodeMirror-line > span > span::-moz-selection { background: #e0e0e0; }
.cm-s-base16-light .CodeMirror-gutters { background: #f5f5f5; border-right: 0px; }
.cm-s-base16-light .CodeMirror-guttermarker { color: #ac4142; }
.cm-s-base16-light .CodeMirror-guttermarker-subtle { color: #b0b0b0; }
.cm-s-base16-light .CodeMirror-linenumber { color: #b0b0b0; }
.cm-s-base16-light .CodeMirror-cursor { border-left: 1px solid #505050; }

.cm-s-base16-light span.cm-comment { color: #8f5536; }
.cm-s-base16-light span.cm-atom { color: #aa759f; }
.cm-s-base16-light span.cm-number { color: #aa759f; }

.cm-s-base16-light span.cm-property, .cm-s-base16-light span.cm-attribute { color: #90a959; }
.cm-s-base16-light span.cm-keyword { color: #ac4142; }
.cm-s-base16-light span.cm-string { color: #f4bf75; }

.cm-s-base16-light span.cm-variable { color: #90a959; }
.cm-s-base16-light span.cm-variable-2 { color: #6a9fb5; }
.cm-s-base16-light span.cm-def { color: #d28445; }
.cm-s-base16-light span.cm-bracket { color: #202020; }
.cm-s-base16-light span.cm-tag { color: #ac4142; }
.cm-s-base16-light span.cm-link { color: #aa759f; }
.cm-s-base16-light span.cm-error { background: #ac4142; color: #505050; }

.cm-s-base16-light .CodeMirror-activeline-background { background: #DDDCDC; }
.cm-s-base16-light .CodeMirror-matchingbracket { color: #f5f5f5 !important; background-color: #6A9FB5 !important}

/*

    Name:       Base16 Default Dark
    Author:     Chris Kempson (http://chriskempson.com)

    CodeMirror template by Jan T. Sott (https://github.com/idleberg/base16-codemirror)
    Original Base16 color scheme by Chris Kempson (https://github.com/chriskempson/base16)

*/

.cm-s-base16-dark.CodeMirror { background: #151515; color: #e0e0e0; }
.cm-s-base16-dark div.CodeMirror-selected { background: #303030; }
.cm-s-base16-dark .CodeMirror-line::selection, .cm-s-base16-dark .CodeMirror-line > span::selection, .cm-s-base16-dark .CodeMirror-line > span > span::selection { background: rgba(48, 48, 48, .99); }
.cm-s-base16-dark .CodeMirror-line::-moz-selection, .cm-s-base16-dark .CodeMirror-line > span::-moz-selection, .cm-s-base16-dark .CodeMirror-line > span > span::-moz-selection { background: rgba(48, 48, 48, .99); }
.cm-s-base16-dark .CodeMirror-gutters { background: #151515; border-right: 0px; }
.cm-s-base16-dark .CodeMirror-guttermarker { color: #ac4142; }
.cm-s-base16-dark .CodeMirror-guttermarker-subtle { color: #505050; }
.cm-s-base16-dark .CodeMirror-linenumber { color: #505050; }
.cm-s-base16-dark .CodeMirror-cursor { border-left: 1px solid #b0b0b0; }

.cm-s-base16-dark span.cm-comment { color: #8f5536; }
.cm-s-base16-dark span.cm-atom { color: #aa759f; }
.cm-s-base16-dark span.cm-number { color: #aa759f; }

.cm-s-base16-dark span.cm-property, .cm-s-base16-dark span.cm-attribute { color: #90a959; }
.cm-s-base16-dark span.cm-keyword { color: #ac4142; }
.cm-s-base16-dark span.cm-string { color: #f4bf75; }

.cm-s-base16-dark span.cm-variable { color: #90a959; }
.cm-s-base16-dark span.cm-variable-2 { color: #6a9fb5; }
.cm-s-base16-dark span.cm-def { color: #d28445; }
.cm-s-base16-dark span.cm-bracket { color: #e0e0e0; }
.cm-s-base16-dark span.cm-tag { color: #ac4142; }
.cm-s-base16-dark span.cm-link { color: #aa759f; }
.cm-s-base16-dark span.cm-error { background: #ac4142; color: #b0b0b0; }

.cm-s-base16-dark .CodeMirror-activeline-background { background: #202020; }
.cm-s-base16-dark .CodeMirror-matchingbracket { text-decoration: underline; color: white !important; }

/*

    Name:       dracula
    Author:     Michael Kaminsky (http://github.com/mkaminsky11)

    Original dracula color scheme by Zeno Rocha (https://github.com/zenorocha/dracula-theme)

*/


.cm-s-dracula.CodeMirror, .cm-s-dracula .CodeMirror-gutters {
  background-color: #282a36 !important;
  color: #f8f8f2 !important;
  border: none;
}
.cm-s-dracula .CodeMirror-gutters { color: #282a36; }
.cm-s-dracula .CodeMirror-cursor { border-left: solid thin #f8f8f0; }
.cm-s-dracula .CodeMirror-linenumber { color: #6D8A88; }
.cm-s-dracula .CodeMirror-selected { background: rgba(255, 255, 255, 0.10); }
.cm-s-dracula .CodeMirror-line::selection, .cm-s-dracula .CodeMirror-line > span::selection, .cm-s-dracula .CodeMirror-line > span > span::selection { background: rgba(255, 255, 255, 0.10); }
.cm-s-dracula .CodeMirror-line::-moz-selection, .cm-s-dracula .CodeMirror-line > span::-moz-selection, .cm-s-dracula .CodeMirror-line > span > span::-moz-selection { background: rgba(255, 255, 255, 0.10); }
.cm-s-dracula span.cm-comment { color: #6272a4; }
.cm-s-dracula span.cm-string, .cm-s-dracula span.cm-string-2 { color: #f1fa8c; }
.cm-s-dracula span.cm-number { color: #bd93f9; }
.cm-s-dracula span.cm-variable { color: #50fa7b; }
.cm-s-dracula span.cm-variable-2 { color: white; }
.cm-s-dracula span.cm-def { color: #50fa7b; }
.cm-s-dracula span.cm-operator { color: #ff79c6; }
.cm-s-dracula span.cm-keyword { color: #ff79c6; }
.cm-s-dracula span.cm-atom { color: #bd93f9; }
.cm-s-dracula span.cm-meta { color: #f8f8f2; }
.cm-s-dracula span.cm-tag { color: #ff79c6; }
.cm-s-dracula span.cm-attribute { color: #50fa7b; }
.cm-s-dracula span.cm-qualifier { color: #50fa7b; }
.cm-s-dracula span.cm-property { color: #66d9ef; }
.cm-s-dracula span.cm-builtin { color: #50fa7b; }
.cm-s-dracula span.cm-variable-3, .cm-s-dracula span.cm-type { color: #ffb86c; }

.cm-s-dracula .CodeMirror-activeline-background { background: rgba(255,255,255,0.1); }
.cm-s-dracula .CodeMirror-matchingbracket { text-decoration: underline; color: white !important; }

/*

    Name:       Hopscotch
    Author:     Jan T. Sott

    CodeMirror template by Jan T. Sott (https://github.com/idleberg/base16-codemirror)
    Original Base16 color scheme by Chris Kempson (https://github.com/chriskempson/base16)

*/

.cm-s-hopscotch.CodeMirror {background: #322931; color: #d5d3d5;}
.cm-s-hopscotch div.CodeMirror-selected {background: #433b42 !important;}
.cm-s-hopscotch .CodeMirror-gutters {background: #322931; border-right: 0px;}
.cm-s-hopscotch .CodeMirror-linenumber {color: #797379;}
.cm-s-hopscotch .CodeMirror-cursor {border-left: 1px solid #989498 !important;}

.cm-s-hopscotch span.cm-comment {color: #b33508;}
.cm-s-hopscotch span.cm-atom {color: #c85e7c;}
.cm-s-hopscotch span.cm-number {color: #c85e7c;}

.cm-s-hopscotch span.cm-property, .cm-s-hopscotch span.cm-attribute {color: #8fc13e;}
.cm-s-hopscotch span.cm-keyword {color: #dd464c;}
.cm-s-hopscotch span.cm-string {color: #fdcc59;}

.cm-s-hopscotch span.cm-variable {color: #8fc13e;}
.cm-s-hopscotch span.cm-variable-2 {color: #1290bf;}
.cm-s-hopscotch span.cm-def {color: #fd8b19;}
.cm-s-hopscotch span.cm-error {background: #dd464c; color: #989498;}
.cm-s-hopscotch span.cm-bracket {color: #d5d3d5;}
.cm-s-hopscotch span.cm-tag {color: #dd464c;}
.cm-s-hopscotch span.cm-link {color: #c85e7c;}

.cm-s-hopscotch .CodeMirror-matchingbracket { text-decoration: underline; color: white !important;}
.cm-s-hopscotch .CodeMirror-activeline-background { background: #302020; }

/****************************************************************/
/*   Based on mbonaci's Brackets mbo theme                      */
/*   https://github.com/mbonaci/global/blob/master/Mbo.tmTheme  */
/*   Create your own: http://tmtheme-editor.herokuapp.com       */
/****************************************************************/

.cm-s-mbo.CodeMirror { background: #2c2c2c; color: #ffffec; }
.cm-s-mbo div.CodeMirror-selected { background: #716C62; }
.cm-s-mbo .CodeMirror-line::selection, .cm-s-mbo .CodeMirror-line > span::selection, .cm-s-mbo .CodeMirror-line > span > span::selection { background: rgba(113, 108, 98, .99); }
.cm-s-mbo .CodeMirror-line::-moz-selection, .cm-s-mbo .CodeMirror-line > span::-moz-selection, .cm-s-mbo .CodeMirror-line > span > span::-moz-selection { background: rgba(113, 108, 98, .99); }
.cm-s-mbo .CodeMirror-gutters { background: #4e4e4e; border-right: 0px; }
.cm-s-mbo .CodeMirror-guttermarker { color: white; }
.cm-s-mbo .CodeMirror-guttermarker-subtle { color: grey; }
.cm-s-mbo .CodeMirror-linenumber { color: #dadada; }
.cm-s-mbo .CodeMirror-cursor { border-left: 1px solid #ffffec; }

.cm-s-mbo span.cm-comment { color: #95958a; }
.cm-s-mbo span.cm-atom { color: #00a8c6; }
.cm-s-mbo span.cm-number { color: #00a8c6; }

.cm-s-mbo span.cm-property, .cm-s-mbo span.cm-attribute { color: #9ddfe9; }
.cm-s-mbo span.cm-keyword { color: #ffb928; }
.cm-s-mbo span.cm-string { color: #ffcf6c; }
.cm-s-mbo span.cm-string.cm-property { color: #ffffec; }

.cm-s-mbo span.cm-variable { color: #ffffec; }
.cm-s-mbo span.cm-variable-2 { color: #00a8c6; }
.cm-s-mbo span.cm-def { color: #ffffec; }
.cm-s-mbo span.cm-bracket { color: #fffffc; font-weight: bold; }
.cm-s-mbo span.cm-tag { color: #9ddfe9; }
.cm-s-mbo span.cm-link { color: #f54b07; }
.cm-s-mbo span.cm-error { border-bottom: #636363; color: #ffffec; }
.cm-s-mbo span.cm-qualifier { color: #ffffec; }

.cm-s-mbo .CodeMirror-activeline-background { background: #494b41; }
.cm-s-mbo .CodeMirror-matchingbracket { color: #ffb928 !important; }
.cm-s-mbo .CodeMirror-matchingtag { background: rgba(255, 255, 255, .37); }

/*
  MDN-LIKE Theme - Mozilla
  Ported to CodeMirror by Peter Kroon <plakroon@gmail.com>
  Report bugs/issues here: https://github.com/codemirror/CodeMirror/issues
  GitHub: @peterkroon

  The mdn-like theme is inspired on the displayed code examples at: https://developer.mozilla.org/en-US/docs/Web/CSS/animation

*/
.cm-s-mdn-like.CodeMirror { color: #999; background-color: #fff; }
.cm-s-mdn-like div.CodeMirror-selected { background: #cfc; }
.cm-s-mdn-like .CodeMirror-line::selection, .cm-s-mdn-like .CodeMirror-line > span::selection, .cm-s-mdn-like .CodeMirror-line > span > span::selection { background: #cfc; }
.cm-s-mdn-like .CodeMirror-line::-moz-selection, .cm-s-mdn-like .CodeMirror-line > span::-moz-selection, .cm-s-mdn-like .CodeMirror-line > span > span::-moz-selection { background: #cfc; }

.cm-s-mdn-like .CodeMirror-gutters { background: #f8f8f8; border-left: 6px solid rgba(0,83,159,0.65); color: #333; }
.cm-s-mdn-like .CodeMirror-linenumber { color: #aaa; padding-left: 8px; }
.cm-s-mdn-like .CodeMirror-cursor { border-left: 2px solid #222; }

.cm-s-mdn-like .cm-keyword { color: #6262FF; }
.cm-s-mdn-like .cm-atom { color: #F90; }
.cm-s-mdn-like .cm-number { color:  #ca7841; }
.cm-s-mdn-like .cm-def { color: #8DA6CE; }
.cm-s-mdn-like span.cm-variable-2, .cm-s-mdn-like span.cm-tag { color: #690; }
.cm-s-mdn-like span.cm-variable-3, .cm-s-mdn-like span.cm-def, .cm-s-mdn-like span.cm-type { color: #07a; }

.cm-s-mdn-like .cm-variable { color: #07a; }
.cm-s-mdn-like .cm-property { color: #905; }
.cm-s-mdn-like .cm-qualifier { color: #690; }

.cm-s-mdn-like .cm-operator { color: #cda869; }
.cm-s-mdn-like .cm-comment { color:#777; font-weight:normal; }
.cm-s-mdn-like .cm-string { color:#07a; font-style:italic; }
.cm-s-mdn-like .cm-string-2 { color:#bd6b18; } /*?*/
.cm-s-mdn-like .cm-meta { color: #000; } /*?*/
.cm-s-mdn-like .cm-builtin { color: #9B7536; } /*?*/
.cm-s-mdn-like .cm-tag { color: #997643; }
.cm-s-mdn-like .cm-attribute { color: #d6bb6d; } /*?*/
.cm-s-mdn-like .cm-header { color: #FF6400; }
.cm-s-mdn-like .cm-hr { color: #AEAEAE; }
.cm-s-mdn-like .cm-link { color:#ad9361; font-style:italic; text-decoration:none; }
.cm-s-mdn-like .cm-error { border-bottom: 1px solid red; }

div.cm-s-mdn-like .CodeMirror-activeline-background { background: #efefff; }
div.cm-s-mdn-like span.CodeMirror-matchingbracket { outline:1px solid grey; color: inherit; }

.cm-s-mdn-like.CodeMirror { background-image: url(data:image/png;base64,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); }

/*

    Name:       seti
    Author:     Michael Kaminsky (http://github.com/mkaminsky11)

    Original seti color scheme by Jesse Weed (https://github.com/jesseweed/seti-syntax)

*/


.cm-s-seti.CodeMirror {
  background-color: #151718 !important;
  color: #CFD2D1 !important;
  border: none;
}
.cm-s-seti .CodeMirror-gutters {
  color: #404b53;
  background-color: #0E1112;
  border: none;
}
.cm-s-seti .CodeMirror-cursor { border-left: solid thin #f8f8f0; }
.cm-s-seti .CodeMirror-linenumber { color: #6D8A88; }
.cm-s-seti.CodeMirror-focused div.CodeMirror-selected { background: rgba(255, 255, 255, 0.10); }
.cm-s-seti .CodeMirror-line::selection, .cm-s-seti .CodeMirror-line > span::selection, .cm-s-seti .CodeMirror-line > span > span::selection { background: rgba(255, 255, 255, 0.10); }
.cm-s-seti .CodeMirror-line::-moz-selection, .cm-s-seti .CodeMirror-line > span::-moz-selection, .cm-s-seti .CodeMirror-line > span > span::-moz-selection { background: rgba(255, 255, 255, 0.10); }
.cm-s-seti span.cm-comment { color: #41535b; }
.cm-s-seti span.cm-string, .cm-s-seti span.cm-string-2 { color: #55b5db; }
.cm-s-seti span.cm-number { color: #cd3f45; }
.cm-s-seti span.cm-variable { color: #55b5db; }
.cm-s-seti span.cm-variable-2 { color: #a074c4; }
.cm-s-seti span.cm-def { color: #55b5db; }
.cm-s-seti span.cm-keyword { color: #ff79c6; }
.cm-s-seti span.cm-operator { color: #9fca56; }
.cm-s-seti span.cm-keyword { color: #e6cd69; }
.cm-s-seti span.cm-atom { color: #cd3f45; }
.cm-s-seti span.cm-meta { color: #55b5db; }
.cm-s-seti span.cm-tag { color: #55b5db; }
.cm-s-seti span.cm-attribute { color: #9fca56; }
.cm-s-seti span.cm-qualifier { color: #9fca56; }
.cm-s-seti span.cm-property { color: #a074c4; }
.cm-s-seti span.cm-variable-3, .cm-s-seti span.cm-type { color: #9fca56; }
.cm-s-seti span.cm-builtin { color: #9fca56; }
.cm-s-seti .CodeMirror-activeline-background { background: #101213; }
.cm-s-seti .CodeMirror-matchingbracket { text-decoration: underline; color: white !important; }

/*
Solarized theme for code-mirror
http://ethanschoonover.com/solarized
*/

/*
Solarized color palette
http://ethanschoonover.com/solarized/img/solarized-palette.png
*/

.solarized.base03 { color: #002b36; }
.solarized.base02 { color: #073642; }
.solarized.base01 { color: #586e75; }
.solarized.base00 { color: #657b83; }
.solarized.base0 { color: #839496; }
.solarized.base1 { color: #93a1a1; }
.solarized.base2 { color: #eee8d5; }
.solarized.base3  { color: #fdf6e3; }
.solarized.solar-yellow  { color: #b58900; }
.solarized.solar-orange  { color: #cb4b16; }
.solarized.solar-red { color: #dc322f; }
.solarized.solar-magenta { color: #d33682; }
.solarized.solar-violet  { color: #6c71c4; }
.solarized.solar-blue { color: #268bd2; }
.solarized.solar-cyan { color: #2aa198; }
.solarized.solar-green { color: #859900; }

/* Color scheme for code-mirror */

.cm-s-solarized {
  line-height: 1.45em;
  color-profile: sRGB;
  rendering-intent: auto;
}
.cm-s-solarized.cm-s-dark {
  color: #839496;
  background-color: #002b36;
  text-shadow: #002b36 0 1px;
}
.cm-s-solarized.cm-s-light {
  background-color: #fdf6e3;
  color: #657b83;
  text-shadow: #eee8d5 0 1px;
}

.cm-s-solarized .CodeMirror-widget {
  text-shadow: none;
}

.cm-s-solarized .cm-header { color: #586e75; }
.cm-s-solarized .cm-quote { color: #93a1a1; }

.cm-s-solarized .cm-keyword { color: #cb4b16; }
.cm-s-solarized .cm-atom { color: #d33682; }
.cm-s-solarized .cm-number { color: #d33682; }
.cm-s-solarized .cm-def { color: #2aa198; }

.cm-s-solarized .cm-variable { color: #839496; }
.cm-s-solarized .cm-variable-2 { color: #b58900; }
.cm-s-solarized .cm-variable-3, .cm-s-solarized .cm-type { color: #6c71c4; }

.cm-s-solarized .cm-property { color: #2aa198; }
.cm-s-solarized .cm-operator { color: #6c71c4; }

.cm-s-solarized .cm-comment { color: #586e75; font-style:italic; }

.cm-s-solarized .cm-string { color: #859900; }
.cm-s-solarized .cm-string-2 { color: #b58900; }

.cm-s-solarized .cm-meta { color: #859900; }
.cm-s-solarized .cm-qualifier { color: #b58900; }
.cm-s-solarized .cm-builtin { color: #d33682; }
.cm-s-solarized .cm-bracket { color: #cb4b16; }
.cm-s-solarized .CodeMirror-matchingbracket { color: #859900; }
.cm-s-solarized .CodeMirror-nonmatchingbracket { color: #dc322f; }
.cm-s-solarized .cm-tag { color: #93a1a1; }
.cm-s-solarized .cm-attribute { color: #2aa198; }
.cm-s-solarized .cm-hr {
  color: transparent;
  border-top: 1px solid #586e75;
  display: block;
}
.cm-s-solarized .cm-link { color: #93a1a1; cursor: pointer; }
.cm-s-solarized .cm-special { color: #6c71c4; }
.cm-s-solarized .cm-em {
  color: #999;
  text-decoration: underline;
  text-decoration-style: dotted;
}
.cm-s-solarized .cm-error,
.cm-s-solarized .cm-invalidchar {
  color: #586e75;
  border-bottom: 1px dotted #dc322f;
}

.cm-s-solarized.cm-s-dark div.CodeMirror-selected { background: #073642; }
.cm-s-solarized.cm-s-dark.CodeMirror ::selection { background: rgba(7, 54, 66, 0.99); }
.cm-s-solarized.cm-s-dark .CodeMirror-line::-moz-selection, .cm-s-dark .CodeMirror-line > span::-moz-selection, .cm-s-dark .CodeMirror-line > span > span::-moz-selection { background: rgba(7, 54, 66, 0.99); }

.cm-s-solarized.cm-s-light div.CodeMirror-selected { background: #eee8d5; }
.cm-s-solarized.cm-s-light .CodeMirror-line::selection, .cm-s-light .CodeMirror-line > span::selection, .cm-s-light .CodeMirror-line > span > span::selection { background: #eee8d5; }
.cm-s-solarized.cm-s-light .CodeMirror-line::-moz-selection, .cm-s-ligh .CodeMirror-line > span::-moz-selection, .cm-s-ligh .CodeMirror-line > span > span::-moz-selection { background: #eee8d5; }

/* Editor styling */



/* Little shadow on the view-port of the buffer view */
.cm-s-solarized.CodeMirror {
  -moz-box-shadow: inset 7px 0 12px -6px #000;
  -webkit-box-shadow: inset 7px 0 12px -6px #000;
  box-shadow: inset 7px 0 12px -6px #000;
}

/* Remove gutter border */
.cm-s-solarized .CodeMirror-gutters {
  border-right: 0;
}

/* Gutter colors and line number styling based of color scheme (dark / light) */

/* Dark */
.cm-s-solarized.cm-s-dark .CodeMirror-gutters {
  background-color: #073642;
}

.cm-s-solarized.cm-s-dark .CodeMirror-linenumber {
  color: #586e75;
  text-shadow: #021014 0 -1px;
}

/* Light */
.cm-s-solarized.cm-s-light .CodeMirror-gutters {
  background-color: #eee8d5;
}

.cm-s-solarized.cm-s-light .CodeMirror-linenumber {
  color: #839496;
}

/* Common */
.cm-s-solarized .CodeMirror-linenumber {
  padding: 0 5px;
}
.cm-s-solarized .CodeMirror-guttermarker-subtle { color: #586e75; }
.cm-s-solarized.cm-s-dark .CodeMirror-guttermarker { color: #ddd; }
.cm-s-solarized.cm-s-light .CodeMirror-guttermarker { color: #cb4b16; }

.cm-s-solarized .CodeMirror-gutter .CodeMirror-gutter-text {
  color: #586e75;
}

/* Cursor */
.cm-s-solarized .CodeMirror-cursor { border-left: 1px solid #819090; }

/* Fat cursor */
.cm-s-solarized.cm-s-light.cm-fat-cursor .CodeMirror-cursor { background: #77ee77; }
.cm-s-solarized.cm-s-light .cm-animate-fat-cursor { background-color: #77ee77; }
.cm-s-solarized.cm-s-dark.cm-fat-cursor .CodeMirror-cursor { background: #586e75; }
.cm-s-solarized.cm-s-dark .cm-animate-fat-cursor { background-color: #586e75; }

/* Active line */
.cm-s-solarized.cm-s-dark .CodeMirror-activeline-background {
  background: rgba(255, 255, 255, 0.06);
}
.cm-s-solarized.cm-s-light .CodeMirror-activeline-background {
  background: rgba(0, 0, 0, 0.06);
}

.cm-s-the-matrix.CodeMirror { background: #000000; color: #00FF00; }
.cm-s-the-matrix div.CodeMirror-selected { background: #2D2D2D; }
.cm-s-the-matrix .CodeMirror-line::selection, .cm-s-the-matrix .CodeMirror-line > span::selection, .cm-s-the-matrix .CodeMirror-line > span > span::selection { background: rgba(45, 45, 45, 0.99); }
.cm-s-the-matrix .CodeMirror-line::-moz-selection, .cm-s-the-matrix .CodeMirror-line > span::-moz-selection, .cm-s-the-matrix .CodeMirror-line > span > span::-moz-selection { background: rgba(45, 45, 45, 0.99); }
.cm-s-the-matrix .CodeMirror-gutters { background: #060; border-right: 2px solid #00FF00; }
.cm-s-the-matrix .CodeMirror-guttermarker { color: #0f0; }
.cm-s-the-matrix .CodeMirror-guttermarker-subtle { color: white; }
.cm-s-the-matrix .CodeMirror-linenumber { color: #FFFFFF; }
.cm-s-the-matrix .CodeMirror-cursor { border-left: 1px solid #00FF00; }

.cm-s-the-matrix span.cm-keyword { color: #008803; font-weight: bold; }
.cm-s-the-matrix span.cm-atom { color: #3FF; }
.cm-s-the-matrix span.cm-number { color: #FFB94F; }
.cm-s-the-matrix span.cm-def { color: #99C; }
.cm-s-the-matrix span.cm-variable { color: #F6C; }
.cm-s-the-matrix span.cm-variable-2 { color: #C6F; }
.cm-s-the-matrix span.cm-variable-3, .cm-s-the-matrix span.cm-type { color: #96F; }
.cm-s-the-matrix span.cm-property { color: #62FFA0; }
.cm-s-the-matrix span.cm-operator { color: #999; }
.cm-s-the-matrix span.cm-comment { color: #CCCCCC; }
.cm-s-the-matrix span.cm-string { color: #39C; }
.cm-s-the-matrix span.cm-meta { color: #C9F; }
.cm-s-the-matrix span.cm-qualifier { color: #FFF700; }
.cm-s-the-matrix span.cm-builtin { color: #30a; }
.cm-s-the-matrix span.cm-bracket { color: #cc7; }
.cm-s-the-matrix span.cm-tag { color: #FFBD40; }
.cm-s-the-matrix span.cm-attribute { color: #FFF700; }
.cm-s-the-matrix span.cm-error { color: #FF0000; }

.cm-s-the-matrix .CodeMirror-activeline-background { background: #040; }

/*
Copyright (C) 2011 by MarkLogic Corporation
Author: Mike Brevoort <mike@brevoort.com>

Permission is hereby granted, free of charge, to any person obtaining a copy
of this software and associated documentation files (the "Software"), to deal
in the Software without restriction, including without limitation the rights
to use, copy, modify, merge, publish, distribute, sublicense, and/or sell
copies of the Software, and to permit persons to whom the Software is
furnished to do so, subject to the following conditions:

The above copyright notice and this permission notice shall be included in
all copies or substantial portions of the Software.

THE SOFTWARE IS PROVIDED "AS IS", WITHOUT WARRANTY OF ANY KIND, EXPRESS OR
IMPLIED, INCLUDING BUT NOT LIMITED TO THE WARRANTIES OF MERCHANTABILITY,
FITNESS FOR A PARTICULAR PURPOSE AND NONINFRINGEMENT. IN NO EVENT SHALL THE
AUTHORS OR COPYRIGHT HOLDERS BE LIABLE FOR ANY CLAIM, DAMAGES OR OTHER
LIABILITY, WHETHER IN AN ACTION OF CONTRACT, TORT OR OTHERWISE, ARISING FROM,
OUT OF OR IN CONNECTION WITH THE SOFTWARE OR THE USE OR OTHER DEALINGS IN
THE SOFTWARE.
*/
.cm-s-xq-light span.cm-keyword { line-height: 1em; font-weight: bold; color: #5A5CAD; }
.cm-s-xq-light span.cm-atom { color: #6C8CD5; }
.cm-s-xq-light span.cm-number { color: #164; }
.cm-s-xq-light span.cm-def { text-decoration:underline; }
.cm-s-xq-light span.cm-variable { color: black; }
.cm-s-xq-light span.cm-variable-2 { color:black; }
.cm-s-xq-light span.cm-variable-3, .cm-s-xq-light span.cm-type { color: black; }
.cm-s-xq-light span.cm-property {}
.cm-s-xq-light span.cm-operator {}
.cm-s-xq-light span.cm-comment { color: #0080FF; font-style: italic; }
.cm-s-xq-light span.cm-string { color: red; }
.cm-s-xq-light span.cm-meta { color: yellow; }
.cm-s-xq-light span.cm-qualifier { color: grey; }
.cm-s-xq-light span.cm-builtin { color: #7EA656; }
.cm-s-xq-light span.cm-bracket { color: #cc7; }
.cm-s-xq-light span.cm-tag { color: #3F7F7F; }
.cm-s-xq-light span.cm-attribute { color: #7F007F; }
.cm-s-xq-light span.cm-error { color: #f00; }

.cm-s-xq-light .CodeMirror-activeline-background { background: #e8f2ff; }
.cm-s-xq-light .CodeMirror-matchingbracket { outline:1px solid grey;color:black !important;background:yellow; }

/*-----------------------------------------------------------------------------
| Copyright (c) Jupyter Development Team.
| Distributed under the terms of the Modified BSD License.
|----------------------------------------------------------------------------*/

.CodeMirror {
  line-height: var(--jp-code-line-height);
  font-size: var(--jp-code-font-size);
  font-family: var(--jp-code-font-family);
  border: 0;
  border-radius: 0;
  height: auto;
  /* Changed to auto to autogrow */
}

.CodeMirror pre {
  padding: 0 var(--jp-code-padding);
}

.jp-CodeMirrorEditor[data-type='inline'] .CodeMirror-dialog {
  background-color: var(--jp-layout-color0);
  color: var(--jp-content-font-color1);
}

/* This causes https://github.com/jupyter/jupyterlab/issues/522 */
/* May not cause it not because we changed it! */
.CodeMirror-lines {
  padding: var(--jp-code-padding) 0;
}

.CodeMirror-linenumber {
  padding: 0 8px;
}

.jp-CodeMirrorEditor-static {
  margin: var(--jp-code-padding);
}

.jp-CodeMirrorEditor,
.jp-CodeMirrorEditor-static {
  cursor: text;
}

.jp-CodeMirrorEditor[data-type='inline'] .CodeMirror-cursor {
  border-left: var(--jp-code-cursor-width0) solid var(--jp-editor-cursor-color);
}

/* When zoomed out 67% and 33% on a screen of 1440 width x 900 height */
@media screen and (min-width: 2138px) and (max-width: 4319px) {
  .jp-CodeMirrorEditor[data-type='inline'] .CodeMirror-cursor {
    border-left: var(--jp-code-cursor-width1) solid
      var(--jp-editor-cursor-color);
  }
}

/* When zoomed out less than 33% */
@media screen and (min-width: 4320px) {
  .jp-CodeMirrorEditor[data-type='inline'] .CodeMirror-cursor {
    border-left: var(--jp-code-cursor-width2) solid
      var(--jp-editor-cursor-color);
  }
}

.CodeMirror.jp-mod-readOnly .CodeMirror-cursor {
  display: none;
}

.CodeMirror-gutters {
  border-right: 1px solid var(--jp-border-color2);
  background-color: var(--jp-layout-color0);
}

.jp-CollaboratorCursor {
  border-left: 5px solid transparent;
  border-right: 5px solid transparent;
  border-top: none;
  border-bottom: 3px solid;
  background-clip: content-box;
  margin-left: -5px;
  margin-right: -5px;
}

.CodeMirror-selectedtext.cm-searching {
  background-color: var(--jp-search-selected-match-background-color) !important;
  color: var(--jp-search-selected-match-color) !important;
}

.cm-searching {
  background-color: var(
    --jp-search-unselected-match-background-color
  ) !important;
  color: var(--jp-search-unselected-match-color) !important;
}

.CodeMirror-focused .CodeMirror-selected {
  background-color: var(--jp-editor-selected-focused-background);
}

.CodeMirror-selected {
  background-color: var(--jp-editor-selected-background);
}

.jp-CollaboratorCursor-hover {
  position: absolute;
  z-index: 1;
  transform: translateX(-50%);
  color: white;
  border-radius: 3px;
  padding-left: 4px;
  padding-right: 4px;
  padding-top: 1px;
  padding-bottom: 1px;
  text-align: center;
  font-size: var(--jp-ui-font-size1);
  white-space: nowrap;
}

.jp-CodeMirror-ruler {
  border-left: 1px dashed var(--jp-border-color2);
}

/**
 * Here is our jupyter theme for CodeMirror syntax highlighting
 * This is used in our marked.js syntax highlighting and CodeMirror itself
 * The string "jupyter" is set in ../codemirror/widget.DEFAULT_CODEMIRROR_THEME
 * This came from the classic notebook, which came form highlight.js/GitHub
 */

/**
 * CodeMirror themes are handling the background/color in this way. This works
 * fine for CodeMirror editors outside the notebook, but the notebook styles
 * these things differently.
 */
.CodeMirror.cm-s-jupyter {
  background: var(--jp-layout-color0);
  color: var(--jp-content-font-color1);
}

/* In the notebook, we want this styling to be handled by its container */
.jp-CodeConsole .CodeMirror.cm-s-jupyter,
.jp-Notebook .CodeMirror.cm-s-jupyter {
  background: transparent;
}

.cm-s-jupyter .CodeMirror-cursor {
  border-left: var(--jp-code-cursor-width0) solid var(--jp-editor-cursor-color);
}
.cm-s-jupyter span.cm-keyword {
  color: var(--jp-mirror-editor-keyword-color);
  font-weight: bold;
}
.cm-s-jupyter span.cm-atom {
  color: var(--jp-mirror-editor-atom-color);
}
.cm-s-jupyter span.cm-number {
  color: var(--jp-mirror-editor-number-color);
}
.cm-s-jupyter span.cm-def {
  color: var(--jp-mirror-editor-def-color);
}
.cm-s-jupyter span.cm-variable {
  color: var(--jp-mirror-editor-variable-color);
}
.cm-s-jupyter span.cm-variable-2 {
  color: var(--jp-mirror-editor-variable-2-color);
}
.cm-s-jupyter span.cm-variable-3 {
  color: var(--jp-mirror-editor-variable-3-color);
}
.cm-s-jupyter span.cm-punctuation {
  color: var(--jp-mirror-editor-punctuation-color);
}
.cm-s-jupyter span.cm-property {
  color: var(--jp-mirror-editor-property-color);
}
.cm-s-jupyter span.cm-operator {
  color: var(--jp-mirror-editor-operator-color);
  font-weight: bold;
}
.cm-s-jupyter span.cm-comment {
  color: var(--jp-mirror-editor-comment-color);
  font-style: italic;
}
.cm-s-jupyter span.cm-string {
  color: var(--jp-mirror-editor-string-color);
}
.cm-s-jupyter span.cm-string-2 {
  color: var(--jp-mirror-editor-string-2-color);
}
.cm-s-jupyter span.cm-meta {
  color: var(--jp-mirror-editor-meta-color);
}
.cm-s-jupyter span.cm-qualifier {
  color: var(--jp-mirror-editor-qualifier-color);
}
.cm-s-jupyter span.cm-builtin {
  color: var(--jp-mirror-editor-builtin-color);
}
.cm-s-jupyter span.cm-bracket {
  color: var(--jp-mirror-editor-bracket-color);
}
.cm-s-jupyter span.cm-tag {
  color: var(--jp-mirror-editor-tag-color);
}
.cm-s-jupyter span.cm-attribute {
  color: var(--jp-mirror-editor-attribute-color);
}
.cm-s-jupyter span.cm-header {
  color: var(--jp-mirror-editor-header-color);
}
.cm-s-jupyter span.cm-quote {
  color: var(--jp-mirror-editor-quote-color);
}
.cm-s-jupyter span.cm-link {
  color: var(--jp-mirror-editor-link-color);
}
.cm-s-jupyter span.cm-error {
  color: var(--jp-mirror-editor-error-color);
}
.cm-s-jupyter span.cm-hr {
  color: #999;
}

.cm-s-jupyter span.cm-tab {
  background: url(data:image/png;base64,iVBORw0KGgoAAAANSUhEUgAAADAAAAAMCAYAAAAkuj5RAAAAAXNSR0IArs4c6QAAAGFJREFUSMft1LsRQFAQheHPowAKoACx3IgEKtaEHujDjORSgWTH/ZOdnZOcM/sgk/kFFWY0qV8foQwS4MKBCS3qR6ixBJvElOobYAtivseIE120FaowJPN75GMu8j/LfMwNjh4HUpwg4LUAAAAASUVORK5CYII=);
  background-position: right;
  background-repeat: no-repeat;
}

.cm-s-jupyter .CodeMirror-activeline-background,
.cm-s-jupyter .CodeMirror-gutter {
  background-color: var(--jp-layout-color2);
}

/*-----------------------------------------------------------------------------
| Copyright (c) Jupyter Development Team.
| Distributed under the terms of the Modified BSD License.
|----------------------------------------------------------------------------*/

/* This file was auto-generated by ensurePackage() in @jupyterlab/buildutils */

/*-----------------------------------------------------------------------------
| Copyright (c) Jupyter Development Team.
| Distributed under the terms of the Modified BSD License.
|----------------------------------------------------------------------------*/

/*-----------------------------------------------------------------------------
| RenderedText
|----------------------------------------------------------------------------*/

.jp-RenderedText {
  text-align: left;
  padding-left: var(--jp-code-padding);
  line-height: var(--jp-code-line-height);
  font-family: var(--jp-code-font-family);
}

.jp-RenderedText pre,
.jp-RenderedJavaScript pre,
.jp-RenderedHTMLCommon pre {
  color: var(--jp-content-font-color1);
  font-size: var(--jp-code-font-size);
  border: none;
  margin: 0px;
  padding: 0px;
  line-height: normal;
}

.jp-RenderedText pre a:link {
  text-decoration: none;
  color: var(--jp-content-link-color);
}
.jp-RenderedText pre a:hover {
  text-decoration: underline;
  color: var(--jp-content-link-color);
}
.jp-RenderedText pre a:visited {
  text-decoration: none;
  color: var(--jp-content-link-color);
}

/* console foregrounds and backgrounds */
.jp-RenderedText pre .ansi-black-fg {
  color: #3e424d;
}
.jp-RenderedText pre .ansi-red-fg {
  color: #e75c58;
}
.jp-RenderedText pre .ansi-green-fg {
  color: #00a250;
}
.jp-RenderedText pre .ansi-yellow-fg {
  color: #ddb62b;
}
.jp-RenderedText pre .ansi-blue-fg {
  color: #208ffb;
}
.jp-RenderedText pre .ansi-magenta-fg {
  color: #d160c4;
}
.jp-RenderedText pre .ansi-cyan-fg {
  color: #60c6c8;
}
.jp-RenderedText pre .ansi-white-fg {
  color: #c5c1b4;
}

.jp-RenderedText pre .ansi-black-bg {
  background-color: #3e424d;
}
.jp-RenderedText pre .ansi-red-bg {
  background-color: #e75c58;
}
.jp-RenderedText pre .ansi-green-bg {
  background-color: #00a250;
}
.jp-RenderedText pre .ansi-yellow-bg {
  background-color: #ddb62b;
}
.jp-RenderedText pre .ansi-blue-bg {
  background-color: #208ffb;
}
.jp-RenderedText pre .ansi-magenta-bg {
  background-color: #d160c4;
}
.jp-RenderedText pre .ansi-cyan-bg {
  background-color: #60c6c8;
}
.jp-RenderedText pre .ansi-white-bg {
  background-color: #c5c1b4;
}

.jp-RenderedText pre .ansi-black-intense-fg {
  color: #282c36;
}
.jp-RenderedText pre .ansi-red-intense-fg {
  color: #b22b31;
}
.jp-RenderedText pre .ansi-green-intense-fg {
  color: #007427;
}
.jp-RenderedText pre .ansi-yellow-intense-fg {
  color: #b27d12;
}
.jp-RenderedText pre .ansi-blue-intense-fg {
  color: #0065ca;
}
.jp-RenderedText pre .ansi-magenta-intense-fg {
  color: #a03196;
}
.jp-RenderedText pre .ansi-cyan-intense-fg {
  color: #258f8f;
}
.jp-RenderedText pre .ansi-white-intense-fg {
  color: #a1a6b2;
}

.jp-RenderedText pre .ansi-black-intense-bg {
  background-color: #282c36;
}
.jp-RenderedText pre .ansi-red-intense-bg {
  background-color: #b22b31;
}
.jp-RenderedText pre .ansi-green-intense-bg {
  background-color: #007427;
}
.jp-RenderedText pre .ansi-yellow-intense-bg {
  background-color: #b27d12;
}
.jp-RenderedText pre .ansi-blue-intense-bg {
  background-color: #0065ca;
}
.jp-RenderedText pre .ansi-magenta-intense-bg {
  background-color: #a03196;
}
.jp-RenderedText pre .ansi-cyan-intense-bg {
  background-color: #258f8f;
}
.jp-RenderedText pre .ansi-white-intense-bg {
  background-color: #a1a6b2;
}

.jp-RenderedText pre .ansi-default-inverse-fg {
  color: var(--jp-ui-inverse-font-color0);
}
.jp-RenderedText pre .ansi-default-inverse-bg {
  background-color: var(--jp-inverse-layout-color0);
}

.jp-RenderedText pre .ansi-bold {
  font-weight: bold;
}
.jp-RenderedText pre .ansi-underline {
  text-decoration: underline;
}

.jp-RenderedText[data-mime-type='application/vnd.jupyter.stderr'] {
  background: var(--jp-rendermime-error-background);
  padding-top: var(--jp-code-padding);
}

/*-----------------------------------------------------------------------------
| RenderedLatex
|----------------------------------------------------------------------------*/

.jp-RenderedLatex {
  color: var(--jp-content-font-color1);
  font-size: var(--jp-content-font-size1);
  line-height: var(--jp-content-line-height);
}

/* Left-justify outputs.*/
.jp-OutputArea-output.jp-RenderedLatex {
  padding: var(--jp-code-padding);
  text-align: left;
}

/*-----------------------------------------------------------------------------
| RenderedHTML
|----------------------------------------------------------------------------*/

.jp-RenderedHTMLCommon {
  color: var(--jp-content-font-color1);
  font-family: var(--jp-content-font-family);
  font-size: var(--jp-content-font-size1);
  line-height: var(--jp-content-line-height);
  /* Give a bit more R padding on Markdown text to keep line lengths reasonable */
  padding-right: 20px;
}

.jp-RenderedHTMLCommon em {
  font-style: italic;
}

.jp-RenderedHTMLCommon strong {
  font-weight: bold;
}

.jp-RenderedHTMLCommon u {
  text-decoration: underline;
}

.jp-RenderedHTMLCommon a:link {
  text-decoration: none;
  color: var(--jp-content-link-color);
}

.jp-RenderedHTMLCommon a:hover {
  text-decoration: underline;
  color: var(--jp-content-link-color);
}

.jp-RenderedHTMLCommon a:visited {
  text-decoration: none;
  color: var(--jp-content-link-color);
}

/* Headings */

.jp-RenderedHTMLCommon h1,
.jp-RenderedHTMLCommon h2,
.jp-RenderedHTMLCommon h3,
.jp-RenderedHTMLCommon h4,
.jp-RenderedHTMLCommon h5,
.jp-RenderedHTMLCommon h6 {
  line-height: var(--jp-content-heading-line-height);
  font-weight: var(--jp-content-heading-font-weight);
  font-style: normal;
  margin: var(--jp-content-heading-margin-top) 0
    var(--jp-content-heading-margin-bottom) 0;
}

.jp-RenderedHTMLCommon h1:first-child,
.jp-RenderedHTMLCommon h2:first-child,
.jp-RenderedHTMLCommon h3:first-child,
.jp-RenderedHTMLCommon h4:first-child,
.jp-RenderedHTMLCommon h5:first-child,
.jp-RenderedHTMLCommon h6:first-child {
  margin-top: calc(0.5 * var(--jp-content-heading-margin-top));
}

.jp-RenderedHTMLCommon h1:last-child,
.jp-RenderedHTMLCommon h2:last-child,
.jp-RenderedHTMLCommon h3:last-child,
.jp-RenderedHTMLCommon h4:last-child,
.jp-RenderedHTMLCommon h5:last-child,
.jp-RenderedHTMLCommon h6:last-child {
  margin-bottom: calc(0.5 * var(--jp-content-heading-margin-bottom));
}

.jp-RenderedHTMLCommon h1 {
  font-size: var(--jp-content-font-size5);
}

.jp-RenderedHTMLCommon h2 {
  font-size: var(--jp-content-font-size4);
}

.jp-RenderedHTMLCommon h3 {
  font-size: var(--jp-content-font-size3);
}

.jp-RenderedHTMLCommon h4 {
  font-size: var(--jp-content-font-size2);
}

.jp-RenderedHTMLCommon h5 {
  font-size: var(--jp-content-font-size1);
}

.jp-RenderedHTMLCommon h6 {
  font-size: var(--jp-content-font-size0);
}

/* Lists */

.jp-RenderedHTMLCommon ul:not(.list-inline),
.jp-RenderedHTMLCommon ol:not(.list-inline) {
  padding-left: 2em;
}

.jp-RenderedHTMLCommon ul {
  list-style: disc;
}

.jp-RenderedHTMLCommon ul ul {
  list-style: square;
}

.jp-RenderedHTMLCommon ul ul ul {
  list-style: circle;
}

.jp-RenderedHTMLCommon ol {
  list-style: decimal;
}

.jp-RenderedHTMLCommon ol ol {
  list-style: upper-alpha;
}

.jp-RenderedHTMLCommon ol ol ol {
  list-style: lower-alpha;
}

.jp-RenderedHTMLCommon ol ol ol ol {
  list-style: lower-roman;
}

.jp-RenderedHTMLCommon ol ol ol ol ol {
  list-style: decimal;
}

.jp-RenderedHTMLCommon ol,
.jp-RenderedHTMLCommon ul {
  margin-bottom: 1em;
}

.jp-RenderedHTMLCommon ul ul,
.jp-RenderedHTMLCommon ul ol,
.jp-RenderedHTMLCommon ol ul,
.jp-RenderedHTMLCommon ol ol {
  margin-bottom: 0em;
}

.jp-RenderedHTMLCommon hr {
  color: var(--jp-border-color2);
  background-color: var(--jp-border-color1);
  margin-top: 1em;
  margin-bottom: 1em;
}

.jp-RenderedHTMLCommon > pre {
  margin: 1.5em 2em;
}

.jp-RenderedHTMLCommon pre,
.jp-RenderedHTMLCommon code {
  border: 0;
  background-color: var(--jp-layout-color0);
  color: var(--jp-content-font-color1);
  font-family: var(--jp-code-font-family);
  font-size: inherit;
  line-height: var(--jp-code-line-height);
  padding: 0;
  white-space: pre-wrap;
}

.jp-RenderedHTMLCommon :not(pre) > code {
  background-color: var(--jp-layout-color2);
  padding: 1px 5px;
}

/* Tables */

.jp-RenderedHTMLCommon table {
  border-collapse: collapse;
  border-spacing: 0;
  border: none;
  color: var(--jp-ui-font-color1);
  font-size: 12px;
  table-layout: fixed;
  margin-left: auto;
  margin-right: auto;
}

.jp-RenderedHTMLCommon thead {
  border-bottom: var(--jp-border-width) solid var(--jp-border-color1);
  vertical-align: bottom;
}

.jp-RenderedHTMLCommon td,
.jp-RenderedHTMLCommon th,
.jp-RenderedHTMLCommon tr {
  vertical-align: middle;
  padding: 0.5em 0.5em;
  line-height: normal;
  white-space: normal;
  max-width: none;
  border: none;
}

.jp-RenderedMarkdown.jp-RenderedHTMLCommon td,
.jp-RenderedMarkdown.jp-RenderedHTMLCommon th {
  max-width: none;
}

:not(.jp-RenderedMarkdown).jp-RenderedHTMLCommon td,
:not(.jp-RenderedMarkdown).jp-RenderedHTMLCommon th,
:not(.jp-RenderedMarkdown).jp-RenderedHTMLCommon tr {
  text-align: right;
}

.jp-RenderedHTMLCommon th {
  font-weight: bold;
}

.jp-RenderedHTMLCommon tbody tr:nth-child(odd) {
  background: var(--jp-layout-color0);
}

.jp-RenderedHTMLCommon tbody tr:nth-child(even) {
  background: var(--jp-rendermime-table-row-background);
}

.jp-RenderedHTMLCommon tbody tr:hover {
  background: var(--jp-rendermime-table-row-hover-background);
}

.jp-RenderedHTMLCommon table {
  margin-bottom: 1em;
}

.jp-RenderedHTMLCommon p {
  text-align: left;
  margin: 0px;
}

.jp-RenderedHTMLCommon p {
  margin-bottom: 1em;
}

.jp-RenderedHTMLCommon img {
  -moz-force-broken-image-icon: 1;
}

/* Restrict to direct children as other images could be nested in other content. */
.jp-RenderedHTMLCommon > img {
  display: block;
  margin-left: 0;
  margin-right: 0;
  margin-bottom: 1em;
}

/* Change color behind transparent images if they need it... */
[data-jp-theme-light='false'] .jp-RenderedImage img.jp-needs-light-background {
  background-color: var(--jp-inverse-layout-color1);
}
[data-jp-theme-light='true'] .jp-RenderedImage img.jp-needs-dark-background {
  background-color: var(--jp-inverse-layout-color1);
}
/* ...or leave it untouched if they don't */
[data-jp-theme-light='false'] .jp-RenderedImage img.jp-needs-dark-background {
}
[data-jp-theme-light='true'] .jp-RenderedImage img.jp-needs-light-background {
}

.jp-RenderedHTMLCommon img,
.jp-RenderedImage img,
.jp-RenderedHTMLCommon svg,
.jp-RenderedSVG svg {
  max-width: 100%;
  height: auto;
}

.jp-RenderedHTMLCommon img.jp-mod-unconfined,
.jp-RenderedImage img.jp-mod-unconfined,
.jp-RenderedHTMLCommon svg.jp-mod-unconfined,
.jp-RenderedSVG svg.jp-mod-unconfined {
  max-width: none;
}

.jp-RenderedHTMLCommon .alert {
  padding: var(--jp-notebook-padding);
  border: var(--jp-border-width) solid transparent;
  border-radius: var(--jp-border-radius);
  margin-bottom: 1em;
}

.jp-RenderedHTMLCommon .alert-info {
  color: var(--jp-info-color0);
  background-color: var(--jp-info-color3);
  border-color: var(--jp-info-color2);
}
.jp-RenderedHTMLCommon .alert-info hr {
  border-color: var(--jp-info-color3);
}
.jp-RenderedHTMLCommon .alert-info > p:last-child,
.jp-RenderedHTMLCommon .alert-info > ul:last-child {
  margin-bottom: 0;
}

.jp-RenderedHTMLCommon .alert-warning {
  color: var(--jp-warn-color0);
  background-color: var(--jp-warn-color3);
  border-color: var(--jp-warn-color2);
}
.jp-RenderedHTMLCommon .alert-warning hr {
  border-color: var(--jp-warn-color3);
}
.jp-RenderedHTMLCommon .alert-warning > p:last-child,
.jp-RenderedHTMLCommon .alert-warning > ul:last-child {
  margin-bottom: 0;
}

.jp-RenderedHTMLCommon .alert-success {
  color: var(--jp-success-color0);
  background-color: var(--jp-success-color3);
  border-color: var(--jp-success-color2);
}
.jp-RenderedHTMLCommon .alert-success hr {
  border-color: var(--jp-success-color3);
}
.jp-RenderedHTMLCommon .alert-success > p:last-child,
.jp-RenderedHTMLCommon .alert-success > ul:last-child {
  margin-bottom: 0;
}

.jp-RenderedHTMLCommon .alert-danger {
  color: var(--jp-error-color0);
  background-color: var(--jp-error-color3);
  border-color: var(--jp-error-color2);
}
.jp-RenderedHTMLCommon .alert-danger hr {
  border-color: var(--jp-error-color3);
}
.jp-RenderedHTMLCommon .alert-danger > p:last-child,
.jp-RenderedHTMLCommon .alert-danger > ul:last-child {
  margin-bottom: 0;
}

.jp-RenderedHTMLCommon blockquote {
  margin: 1em 2em;
  padding: 0 1em;
  border-left: 5px solid var(--jp-border-color2);
}

a.jp-InternalAnchorLink {
  visibility: hidden;
  margin-left: 8px;
  color: var(--md-blue-800);
}

h1:hover .jp-InternalAnchorLink,
h2:hover .jp-InternalAnchorLink,
h3:hover .jp-InternalAnchorLink,
h4:hover .jp-InternalAnchorLink,
h5:hover .jp-InternalAnchorLink,
h6:hover .jp-InternalAnchorLink {
  visibility: visible;
}

.jp-RenderedHTMLCommon kbd {
  background-color: var(--jp-rendermime-table-row-background);
  border: 1px solid var(--jp-border-color0);
  border-bottom-color: var(--jp-border-color2);
  border-radius: 3px;
  box-shadow: inset 0 -1px 0 rgba(0, 0, 0, 0.25);
  display: inline-block;
  font-size: 0.8em;
  line-height: 1em;
  padding: 0.2em 0.5em;
}

/* Most direct children of .jp-RenderedHTMLCommon have a margin-bottom of 1.0.
 * At the bottom of cells this is a bit too much as there is also spacing
 * between cells. Going all the way to 0 gets too tight between markdown and
 * code cells.
 */
.jp-RenderedHTMLCommon > *:last-child {
  margin-bottom: 0.5em;
}

/*-----------------------------------------------------------------------------
| Copyright (c) Jupyter Development Team.
| Distributed under the terms of the Modified BSD License.
|----------------------------------------------------------------------------*/

/* This file was auto-generated by ensurePackage() in @jupyterlab/buildutils */

/*-----------------------------------------------------------------------------
| Copyright (c) Jupyter Development Team.
| Distributed under the terms of the Modified BSD License.
|----------------------------------------------------------------------------*/

/*-----------------------------------------------------------------------------
| Copyright (c) Jupyter Development Team.
| Distributed under the terms of the Modified BSD License.
|----------------------------------------------------------------------------*/

.jp-MimeDocument {
  outline: none;
}

/*-----------------------------------------------------------------------------
| Copyright (c) Jupyter Development Team.
| Distributed under the terms of the Modified BSD License.
|----------------------------------------------------------------------------*/

/* This file was auto-generated by ensurePackage() in @jupyterlab/buildutils */

/*-----------------------------------------------------------------------------
| Copyright (c) Jupyter Development Team.
| Distributed under the terms of the Modified BSD License.
|----------------------------------------------------------------------------*/

/*-----------------------------------------------------------------------------
| Copyright (c) Jupyter Development Team.
| Distributed under the terms of the Modified BSD License.
|----------------------------------------------------------------------------*/

/*-----------------------------------------------------------------------------
| Variables
|----------------------------------------------------------------------------*/

:root {
  --jp-private-filebrowser-button-height: 28px;
  --jp-private-filebrowser-button-width: 48px;
}

/*-----------------------------------------------------------------------------
| Copyright (c) Jupyter Development Team.
| Distributed under the terms of the Modified BSD License.
|----------------------------------------------------------------------------*/

.jp-FileBrowser {
  display: flex;
  flex-direction: column;
  color: var(--jp-ui-font-color1);
  background: var(--jp-layout-color1);
  /* This is needed so that all font sizing of children done in ems is
   * relative to this base size */
  font-size: var(--jp-ui-font-size1);
}

.jp-FileBrowser-toolbar.jp-Toolbar {
  border-bottom: none;
  height: auto;
  margin: var(--jp-toolbar-header-margin);
  box-shadow: none;
}

.jp-BreadCrumbs {
  flex: 0 0 auto;
  margin: 4px 12px;
}

.jp-BreadCrumbs-item {
  margin: 0px 2px;
  padding: 0px 2px;
  border-radius: var(--jp-border-radius);
  cursor: pointer;
}

.jp-BreadCrumbs-item:hover {
  background-color: var(--jp-layout-color2);
}

.jp-BreadCrumbs-item:first-child {
  margin-left: 0px;
}

.jp-BreadCrumbs-item.jp-mod-dropTarget {
  background-color: var(--jp-brand-color2);
  opacity: 0.7;
}

/*-----------------------------------------------------------------------------
| Buttons
|----------------------------------------------------------------------------*/

.jp-FileBrowser-toolbar.jp-Toolbar {
  padding: 0px;
}

.jp-FileBrowser-toolbar.jp-Toolbar {
  justify-content: space-evenly;
}

.jp-FileBrowser-toolbar.jp-Toolbar .jp-Toolbar-item {
  flex: 1;
}

.jp-FileBrowser-toolbar.jp-Toolbar .jp-ToolbarButtonComponent {
  width: 100%;
}

/*-----------------------------------------------------------------------------
| DirListing
|----------------------------------------------------------------------------*/

.jp-DirListing {
  flex: 1 1 auto;
  display: flex;
  flex-direction: column;
  outline: 0;
}

.jp-DirListing-header {
  flex: 0 0 auto;
  display: flex;
  flex-direction: row;
  overflow: hidden;
  border-top: var(--jp-border-width) solid var(--jp-border-color2);
  border-bottom: var(--jp-border-width) solid var(--jp-border-color1);
  box-shadow: var(--jp-toolbar-box-shadow);
  z-index: 2;
}

.jp-DirListing-headerItem {
  padding: 4px 12px 2px 12px;
  font-weight: 500;
}

.jp-DirListing-headerItem:hover {
  background: var(--jp-layout-color2);
}

.jp-DirListing-headerItem.jp-id-name {
  flex: 1 0 84px;
}

.jp-DirListing-headerItem.jp-id-modified {
  flex: 0 0 112px;
  border-left: var(--jp-border-width) solid var(--jp-border-color2);
  text-align: right;
}

.jp-DirListing-narrow .jp-id-modified,
.jp-DirListing-narrow .jp-DirListing-itemModified {
  display: none;
}

.jp-DirListing-headerItem.jp-mod-selected {
  font-weight: 600;
}

/* increase specificity to override bundled default */
.jp-DirListing-content {
  flex: 1 1 auto;
  margin: 0;
  padding: 0;
  list-style-type: none;
  overflow: auto;
  background-color: var(--jp-layout-color1);
}

/* Style the directory listing content when a user drops a file to upload */
.jp-DirListing.jp-mod-native-drop .jp-DirListing-content {
  outline: 5px dashed rgba(128, 128, 128, 0.5);
  outline-offset: -10px;
  cursor: copy;
}

.jp-DirListing-item {
  display: flex;
  flex-direction: row;
  padding: 4px 12px;
  -webkit-user-select: none;
  -moz-user-select: none;
  -ms-user-select: none;
  user-select: none;
}

.jp-DirListing-item.jp-mod-selected {
  color: white;
  background: var(--jp-brand-color1);
}

.jp-DirListing-item.jp-mod-dropTarget {
  background: var(--jp-brand-color3);
}

.jp-DirListing-item:hover:not(.jp-mod-selected) {
  background: var(--jp-layout-color2);
}

.jp-DirListing-itemIcon {
  flex: 0 0 20px;
  margin-right: 4px;
}

.jp-DirListing-itemText {
  flex: 1 0 64px;
  white-space: nowrap;
  overflow: hidden;
  text-overflow: ellipsis;
  user-select: none;
}

.jp-DirListing-itemModified {
  flex: 0 0 125px;
  text-align: right;
}

.jp-DirListing-editor {
  flex: 1 0 64px;
  outline: none;
  border: none;
}

.jp-DirListing-item.jp-mod-running .jp-DirListing-itemIcon:before {
  color: limegreen;
  content: '\25CF';
  font-size: 8px;
  position: absolute;
  left: -8px;
}

.jp-DirListing-item.lm-mod-drag-image,
.jp-DirListing-item.jp-mod-selected.lm-mod-drag-image {
  font-size: var(--jp-ui-font-size1);
  padding-left: 4px;
  margin-left: 4px;
  width: 160px;
  background-color: var(--jp-ui-inverse-font-color2);
  box-shadow: var(--jp-elevation-z2);
  border-radius: 0px;
  color: var(--jp-ui-font-color1);
  transform: translateX(-40%) translateY(-58%);
}

.jp-DirListing-deadSpace {
  flex: 1 1 auto;
  margin: 0;
  padding: 0;
  list-style-type: none;
  overflow: auto;
  background-color: var(--jp-layout-color1);
}

.jp-Document {
  min-width: 120px;
  min-height: 120px;
  outline: none;
}

.jp-FileDialog.jp-mod-conflict input {
  color: red;
}

.jp-FileDialog .jp-new-name-title {
  margin-top: 12px;
}

/*-----------------------------------------------------------------------------
| Copyright (c) Jupyter Development Team.
| Distributed under the terms of the Modified BSD License.
|----------------------------------------------------------------------------*/

/* This file was auto-generated by ensurePackage() in @jupyterlab/buildutils */

/*-----------------------------------------------------------------------------
| Copyright (c) Jupyter Development Team.
| Distributed under the terms of the Modified BSD License.
|----------------------------------------------------------------------------*/

/*-----------------------------------------------------------------------------
| Private CSS variables
|----------------------------------------------------------------------------*/

:root {
}

/*-----------------------------------------------------------------------------
| Main OutputArea
| OutputArea has a list of Outputs
|----------------------------------------------------------------------------*/

.jp-OutputArea {
  overflow-y: auto;
}

.jp-OutputArea-child {
  display: flex;
  flex-direction: row;
}

.jp-OutputPrompt {
  flex: 0 0 var(--jp-cell-prompt-width);
  color: var(--jp-cell-outprompt-font-color);
  font-family: var(--jp-cell-prompt-font-family);
  padding: var(--jp-code-padding);
  letter-spacing: var(--jp-cell-prompt-letter-spacing);
  line-height: var(--jp-code-line-height);
  font-size: var(--jp-code-font-size);
  border: var(--jp-border-width) solid transparent;
  opacity: var(--jp-cell-prompt-opacity);
  /* Right align prompt text, don't wrap to handle large prompt numbers */
  text-align: right;
  white-space: nowrap;
  overflow: hidden;
  text-overflow: ellipsis;
  /* Disable text selection */
  -webkit-user-select: none;
  -moz-user-select: none;
  -ms-user-select: none;
  user-select: none;
}

.jp-OutputArea-output {
  height: auto;
  overflow: auto;
  user-select: text;
  -moz-user-select: text;
  -webkit-user-select: text;
  -ms-user-select: text;
}

.jp-OutputArea-child .jp-OutputArea-output {
  flex-grow: 1;
  flex-shrink: 1;
}

/**
 * Isolated output.
 */
.jp-OutputArea-output.jp-mod-isolated {
  width: 100%;
  display: block;
}

/*
When drag events occur, `p-mod-override-cursor` is added to the body.
Because iframes steal all cursor events, the following two rules are necessary
to suppress pointer events while resize drags are occurring. There may be a
better solution to this problem.
*/
body.lm-mod-override-cursor .jp-OutputArea-output.jp-mod-isolated {
  position: relative;
}

body.lm-mod-override-cursor .jp-OutputArea-output.jp-mod-isolated:before {
  content: '';
  position: absolute;
  top: 0;
  left: 0;
  right: 0;
  bottom: 0;
  background: transparent;
}

/* pre */

.jp-OutputArea-output pre {
  border: none;
  margin: 0px;
  padding: 0px;
  overflow-x: auto;
  overflow-y: auto;
  word-break: break-all;
  word-wrap: break-word;
  white-space: pre-wrap;
}

/* tables */

.jp-OutputArea-output.jp-RenderedHTMLCommon table {
  margin-left: 0;
  margin-right: 0;
}

/* description lists */

.jp-OutputArea-output dl,
.jp-OutputArea-output dt,
.jp-OutputArea-output dd {
  display: block;
}

.jp-OutputArea-output dl {
  width: 100%;
  overflow: hidden;
  padding: 0;
  margin: 0;
}

.jp-OutputArea-output dt {
  font-weight: bold;
  float: left;
  width: 20%;
  padding: 0;
  margin: 0;
}

.jp-OutputArea-output dd {
  float: left;
  width: 80%;
  padding: 0;
  margin: 0;
}

/* Hide the gutter in case of
 *  - nested output areas (e.g. in the case of output widgets)
 *  - mirrored output areas
 */
.jp-OutputArea .jp-OutputArea .jp-OutputArea-prompt {
  display: none;
}

/*-----------------------------------------------------------------------------
| executeResult is added to any Output-result for the display of the object
| returned by a cell
|----------------------------------------------------------------------------*/

.jp-OutputArea-output.jp-OutputArea-executeResult {
  margin-left: 0px;
  flex: 1 1 auto;
}

.jp-OutputArea-executeResult.jp-RenderedText {
  padding-top: var(--jp-code-padding);
}

/*-----------------------------------------------------------------------------
| The Stdin output
|----------------------------------------------------------------------------*/

.jp-OutputArea-stdin {
  line-height: var(--jp-code-line-height);
  padding-top: var(--jp-code-padding);
  display: flex;
}

.jp-Stdin-prompt {
  color: var(--jp-content-font-color0);
  padding-right: var(--jp-code-padding);
  vertical-align: baseline;
  flex: 0 0 auto;
}

.jp-Stdin-input {
  font-family: var(--jp-code-font-family);
  font-size: inherit;
  color: inherit;
  background-color: inherit;
  width: 42%;
  min-width: 200px;
  /* make sure input baseline aligns with prompt */
  vertical-align: baseline;
  /* padding + margin = 0.5em between prompt and cursor */
  padding: 0em 0.25em;
  margin: 0em 0.25em;
  flex: 0 0 70%;
}

.jp-Stdin-input:focus {
  box-shadow: none;
}

/*-----------------------------------------------------------------------------
| Output Area View
|----------------------------------------------------------------------------*/

.jp-LinkedOutputView .jp-OutputArea {
  height: 100%;
  display: block;
}

.jp-LinkedOutputView .jp-OutputArea-output:only-child {
  height: 100%;
}

/*-----------------------------------------------------------------------------
| Copyright (c) Jupyter Development Team.
| Distributed under the terms of the Modified BSD License.
|----------------------------------------------------------------------------*/

/* This file was auto-generated by ensurePackage() in @jupyterlab/buildutils */

/*-----------------------------------------------------------------------------
| Copyright (c) Jupyter Development Team.
| Distributed under the terms of the Modified BSD License.
|----------------------------------------------------------------------------*/

.jp-Collapser {
  flex: 0 0 var(--jp-cell-collapser-width);
  padding: 0px;
  margin: 0px;
  border: none;
  outline: none;
  background: transparent;
  border-radius: var(--jp-border-radius);
  opacity: 1;
}

.jp-Collapser-child {
  display: block;
  width: 100%;
  box-sizing: border-box;
  /* height: 100% doesn't work because the height of its parent is computed from content */
  position: absolute;
  top: 0px;
  bottom: 0px;
}

/*-----------------------------------------------------------------------------
| Copyright (c) Jupyter Development Team.
| Distributed under the terms of the Modified BSD License.
|----------------------------------------------------------------------------*/

/*-----------------------------------------------------------------------------
| Header/Footer
|----------------------------------------------------------------------------*/

/* Hidden by zero height by default */
.jp-CellHeader,
.jp-CellFooter {
  height: 0px;
  width: 100%;
  padding: 0px;
  margin: 0px;
  border: none;
  outline: none;
  background: transparent;
}

/*-----------------------------------------------------------------------------
| Copyright (c) Jupyter Development Team.
| Distributed under the terms of the Modified BSD License.
|----------------------------------------------------------------------------*/

/*-----------------------------------------------------------------------------
| Input
|----------------------------------------------------------------------------*/

/* All input areas */
.jp-InputArea {
  display: flex;
  flex-direction: row;
}

.jp-InputArea-editor {
  flex: 1 1 auto;
}

.jp-InputArea-editor {
  /* This is the non-active, default styling */
  border: var(--jp-border-width) solid var(--jp-cell-editor-border-color);
  border-radius: 0px;
  background: var(--jp-cell-editor-background);
}

.jp-InputPrompt {
  flex: 0 0 var(--jp-cell-prompt-width);
  color: var(--jp-cell-inprompt-font-color);
  font-family: var(--jp-cell-prompt-font-family);
  padding: var(--jp-code-padding);
  letter-spacing: var(--jp-cell-prompt-letter-spacing);
  opacity: var(--jp-cell-prompt-opacity);
  line-height: var(--jp-code-line-height);
  font-size: var(--jp-code-font-size);
  border: var(--jp-border-width) solid transparent;
  opacity: var(--jp-cell-prompt-opacity);
  /* Right align prompt text, don't wrap to handle large prompt numbers */
  text-align: right;
  white-space: nowrap;
  overflow: hidden;
  text-overflow: ellipsis;
  /* Disable text selection */
  -webkit-user-select: none;
  -moz-user-select: none;
  -ms-user-select: none;
  user-select: none;
}

/*-----------------------------------------------------------------------------
| Copyright (c) Jupyter Development Team.
| Distributed under the terms of the Modified BSD License.
|----------------------------------------------------------------------------*/

/*-----------------------------------------------------------------------------
| Placeholder
|----------------------------------------------------------------------------*/

.jp-Placeholder {
  display: flex;
  flex-direction: row;
  flex: 1 1 auto;
}

.jp-Placeholder-prompt {
  box-sizing: border-box;
}

.jp-Placeholder-content {
  flex: 1 1 auto;
  border: none;
  background: transparent;
  height: 20px;
  box-sizing: border-box;
}

.jp-Placeholder-content .jp-MoreHorizIcon {
  width: 32px;
  height: 16px;
  border: 1px solid transparent;
  border-radius: var(--jp-border-radius);
}

.jp-Placeholder-content .jp-MoreHorizIcon:hover {
  border: 1px solid var(--jp-border-color1);
  box-shadow: 0px 0px 2px 0px rgba(0, 0, 0, 0.25);
  background-color: var(--jp-layout-color0);
}

/*-----------------------------------------------------------------------------
| Copyright (c) Jupyter Development Team.
| Distributed under the terms of the Modified BSD License.
|----------------------------------------------------------------------------*/

/*-----------------------------------------------------------------------------
| Private CSS variables
|----------------------------------------------------------------------------*/

:root {
  --jp-private-cell-scrolling-output-offset: 5px;
}

/*-----------------------------------------------------------------------------
| Cell
|----------------------------------------------------------------------------*/

.jp-Cell {
  padding: var(--jp-cell-padding);
  margin: 0px;
  border: none;
  outline: none;
  background: transparent;
}

/*-----------------------------------------------------------------------------
| Common input/output
|----------------------------------------------------------------------------*/

.jp-Cell-inputWrapper,
.jp-Cell-outputWrapper {
  display: flex;
  flex-direction: row;
  padding: 0px;
  margin: 0px;
  /* Added to reveal the box-shadow on the input and output collapsers. */
  overflow: visible;
}

/* Only input/output areas inside cells */
.jp-Cell-inputArea,
.jp-Cell-outputArea {
  flex: 1 1 auto;
}

/*-----------------------------------------------------------------------------
| Collapser
|----------------------------------------------------------------------------*/

/* Make the output collapser disappear when there is not output, but do so
 * in a manner that leaves it in the layout and preserves its width.
 */
.jp-Cell.jp-mod-noOutputs .jp-Cell-outputCollapser {
  border: none !important;
  background: transparent !important;
}

.jp-Cell:not(.jp-mod-noOutputs) .jp-Cell-outputCollapser {
  min-height: var(--jp-cell-collapser-min-height);
}

/*-----------------------------------------------------------------------------
| Output
|----------------------------------------------------------------------------*/

/* Put a space between input and output when there IS output */
.jp-Cell:not(.jp-mod-noOutputs) .jp-Cell-outputWrapper {
  margin-top: 5px;
}

/* Text output with the Out[] prompt needs a top padding to match the
 * alignment of the Out[] prompt itself.
 */
.jp-OutputArea-executeResult .jp-RenderedText.jp-OutputArea-output {
  padding-top: var(--jp-code-padding);
}

.jp-CodeCell.jp-mod-outputsScrolled .jp-Cell-outputArea {
  overflow-y: auto;
  max-height: 200px;
  box-shadow: inset 0 0 6px 2px rgba(0, 0, 0, 0.3);
  margin-left: var(--jp-private-cell-scrolling-output-offset);
}

.jp-CodeCell.jp-mod-outputsScrolled .jp-OutputArea-prompt {
  flex: 0 0
    calc(
      var(--jp-cell-prompt-width) -
        var(--jp-private-cell-scrolling-output-offset)
    );
}

/*-----------------------------------------------------------------------------
| CodeCell
|----------------------------------------------------------------------------*/

/*-----------------------------------------------------------------------------
| MarkdownCell
|----------------------------------------------------------------------------*/

.jp-MarkdownOutput {
  flex: 1 1 auto;
  margin-top: 0;
  margin-bottom: 0;
  padding-left: var(--jp-code-padding);
}

.jp-MarkdownOutput.jp-RenderedHTMLCommon {
  overflow: auto;
}

/*-----------------------------------------------------------------------------
| Copyright (c) Jupyter Development Team.
| Distributed under the terms of the Modified BSD License.
|----------------------------------------------------------------------------*/

/*-----------------------------------------------------------------------------
| Copyright (c) Jupyter Development Team.
| Distributed under the terms of the Modified BSD License.
|----------------------------------------------------------------------------*/

/* This file was auto-generated by ensurePackage() in @jupyterlab/buildutils */

/*-----------------------------------------------------------------------------
| Copyright (c) Jupyter Development Team.
| Distributed under the terms of the Modified BSD License.
|----------------------------------------------------------------------------*/

/*-----------------------------------------------------------------------------
| Variables
|----------------------------------------------------------------------------*/

/*-----------------------------------------------------------------------------

/*-----------------------------------------------------------------------------
| Styles
|----------------------------------------------------------------------------*/

.jp-NotebookPanel-toolbar {
  padding: 2px;
}

.jp-Toolbar-item.jp-Notebook-toolbarCellType .jp-select-wrapper.jp-mod-focused {
  border: none;
  box-shadow: none;
}

.jp-Notebook-toolbarCellTypeDropdown select {
  height: 24px;
  font-size: var(--jp-ui-font-size1);
  line-height: 14px;
  border-radius: 0;
  display: block;
}

.jp-Notebook-toolbarCellTypeDropdown span {
  top: 5px !important;
}

/*-----------------------------------------------------------------------------
| Copyright (c) Jupyter Development Team.
| Distributed under the terms of the Modified BSD License.
|----------------------------------------------------------------------------*/

/*-----------------------------------------------------------------------------
| Private CSS variables
|----------------------------------------------------------------------------*/

:root {
  --jp-private-notebook-dragImage-width: 304px;
  --jp-private-notebook-dragImage-height: 36px;
  --jp-private-notebook-selected-color: var(--md-blue-400);
  --jp-private-notebook-active-color: var(--md-green-400);
}

/*-----------------------------------------------------------------------------
| Imports
|----------------------------------------------------------------------------*/

/*-----------------------------------------------------------------------------
| Notebook
|----------------------------------------------------------------------------*/

.jp-NotebookPanel {
  display: block;
  height: 100%;
}

.jp-NotebookPanel.jp-Document {
  min-width: 240px;
  min-height: 120px;
}

.jp-Notebook {
  padding: var(--jp-notebook-padding);
  outline: none;
  overflow: auto;
  background: var(--jp-layout-color0);
}

.jp-Notebook.jp-mod-scrollPastEnd::after {
  display: block;
  content: '';
  min-height: var(--jp-notebook-scroll-padding);
}

.jp-Notebook .jp-Cell {
  overflow: visible;
}

.jp-Notebook .jp-Cell .jp-InputPrompt {
  cursor: move;
}

/*-----------------------------------------------------------------------------
| Notebook state related styling
|
| The notebook and cells each have states, here are the possibilities:
|
| - Notebook
|   - Command
|   - Edit
| - Cell
|   - None
|   - Active (only one can be active)
|   - Selected (the cells actions are applied to)
|   - Multiselected (when multiple selected, the cursor)
|   - No outputs
|----------------------------------------------------------------------------*/

/* Command or edit modes */

.jp-Notebook .jp-Cell:not(.jp-mod-active) .jp-InputPrompt {
  opacity: var(--jp-cell-prompt-not-active-opacity);
  color: var(--jp-cell-prompt-not-active-font-color);
}

.jp-Notebook .jp-Cell:not(.jp-mod-active) .jp-OutputPrompt {
  opacity: var(--jp-cell-prompt-not-active-opacity);
  color: var(--jp-cell-prompt-not-active-font-color);
}

/* cell is active */
.jp-Notebook .jp-Cell.jp-mod-active .jp-Collapser {
  background: var(--jp-brand-color1);
}

/* collapser is hovered */
.jp-Notebook .jp-Cell .jp-Collapser:hover {
  box-shadow: var(--jp-elevation-z2);
  background: var(--jp-brand-color1);
  opacity: var(--jp-cell-collapser-not-active-hover-opacity);
}

/* cell is active and collapser is hovered */
.jp-Notebook .jp-Cell.jp-mod-active .jp-Collapser:hover {
  background: var(--jp-brand-color0);
  opacity: 1;
}

/* Command mode */

.jp-Notebook.jp-mod-commandMode .jp-Cell.jp-mod-selected {
  background: var(--jp-notebook-multiselected-color);
}

.jp-Notebook.jp-mod-commandMode
  .jp-Cell.jp-mod-active.jp-mod-selected:not(.jp-mod-multiSelected) {
  background: transparent;
}

/* Edit mode */

.jp-Notebook.jp-mod-editMode .jp-Cell.jp-mod-active .jp-InputArea-editor {
  border: var(--jp-border-width) solid var(--jp-cell-editor-active-border-color);
  box-shadow: var(--jp-input-box-shadow);
  background-color: var(--jp-cell-editor-active-background);
}

/*-----------------------------------------------------------------------------
| Notebook drag and drop
|----------------------------------------------------------------------------*/

.jp-Notebook-cell.jp-mod-dropSource {
  opacity: 0.5;
}

.jp-Notebook-cell.jp-mod-dropTarget,
.jp-Notebook.jp-mod-commandMode
  .jp-Notebook-cell.jp-mod-active.jp-mod-selected.jp-mod-dropTarget {
  border-top-color: var(--jp-private-notebook-selected-color);
  border-top-style: solid;
  border-top-width: 2px;
}

.jp-dragImage {
  display: flex;
  flex-direction: row;
  width: var(--jp-private-notebook-dragImage-width);
  height: var(--jp-private-notebook-dragImage-height);
  border: var(--jp-border-width) solid var(--jp-cell-editor-border-color);
  background: var(--jp-cell-editor-background);
  overflow: visible;
}

.jp-dragImage-singlePrompt {
  box-shadow: 2px 2px 4px 0px rgba(0, 0, 0, 0.12);
}

.jp-dragImage .jp-dragImage-content {
  flex: 1 1 auto;
  z-index: 2;
  font-size: var(--jp-code-font-size);
  font-family: var(--jp-code-font-family);
  line-height: var(--jp-code-line-height);
  padding: var(--jp-code-padding);
  border: var(--jp-border-width) solid var(--jp-cell-editor-border-color);
  background: var(--jp-cell-editor-background-color);
  color: var(--jp-content-font-color3);
  text-align: left;
  margin: 4px 4px 4px 0px;
}

.jp-dragImage .jp-dragImage-prompt {
  flex: 0 0 auto;
  min-width: 36px;
  color: var(--jp-cell-inprompt-font-color);
  padding: var(--jp-code-padding);
  padding-left: 12px;
  font-family: var(--jp-cell-prompt-font-family);
  letter-spacing: var(--jp-cell-prompt-letter-spacing);
  line-height: 1.9;
  font-size: var(--jp-code-font-size);
  border: var(--jp-border-width) solid transparent;
}

.jp-dragImage-multipleBack {
  z-index: -1;
  position: absolute;
  height: 32px;
  width: 300px;
  top: 8px;
  left: 8px;
  background: var(--jp-layout-color2);
  border: var(--jp-border-width) solid var(--jp-input-border-color);
  box-shadow: 2px 2px 4px 0px rgba(0, 0, 0, 0.12);
}

/*-----------------------------------------------------------------------------
| Cell toolbar
|----------------------------------------------------------------------------*/

.jp-NotebookTools {
  display: block;
  min-width: var(--jp-sidebar-min-width);
  color: var(--jp-ui-font-color1);
  background: var(--jp-layout-color1);
  /* This is needed so that all font sizing of children done in ems is
    * relative to this base size */
  font-size: var(--jp-ui-font-size1);
  overflow: auto;
}

.jp-NotebookTools-tool {
  padding: 0px 12px 0 12px;
}

.jp-ActiveCellTool {
  padding: 12px;
  background-color: var(--jp-layout-color1);
  border-top: none !important;
}

.jp-ActiveCellTool .jp-InputArea-prompt {
  flex: 0 0 auto;
  padding-left: 0px;
}

.jp-ActiveCellTool .jp-InputArea-editor {
  flex: 1 1 auto;
  background: var(--jp-cell-editor-background);
  border-color: var(--jp-cell-editor-border-color);
}

.jp-ActiveCellTool .jp-InputArea-editor .CodeMirror {
  background: transparent;
}

.jp-MetadataEditorTool {
  flex-direction: column;
  padding: 12px 0px 12px 0px;
}

.jp-RankedPanel > :not(:first-child) {
  margin-top: 12px;
}

.jp-KeySelector select.jp-mod-styled {
  font-size: var(--jp-ui-font-size1);
  color: var(--jp-ui-font-color0);
  border: var(--jp-border-width) solid var(--jp-border-color1);
}

.jp-KeySelector label,
.jp-MetadataEditorTool label {
  line-height: 1.4;
}

/*-----------------------------------------------------------------------------
| Presentation Mode (.jp-mod-presentationMode)
|----------------------------------------------------------------------------*/

.jp-mod-presentationMode .jp-Notebook {
  --jp-content-font-size1: var(--jp-content-presentation-font-size1);
  --jp-code-font-size: var(--jp-code-presentation-font-size);
}

.jp-mod-presentationMode .jp-Notebook .jp-Cell .jp-InputPrompt,
.jp-mod-presentationMode .jp-Notebook .jp-Cell .jp-OutputPrompt {
  flex: 0 0 110px;
}

/*-----------------------------------------------------------------------------
| Copyright (c) Jupyter Development Team.
| Distributed under the terms of the Modified BSD License.
|----------------------------------------------------------------------------*/

/* This file was auto-generated by ensurePackage() in @jupyterlab/buildutils */

/*-----------------------------------------------------------------------------
| Copyright (c) Jupyter Development Team.
| Distributed under the terms of the Modified BSD License.
|----------------------------------------------------------------------------*/

</style>

    <style type="text/css">
/*-----------------------------------------------------------------------------
| Copyright (c) Jupyter Development Team.
| Distributed under the terms of the Modified BSD License.
|----------------------------------------------------------------------------*/

/*
The following CSS variables define the main, public API for styling JupyterLab.
These variables should be used by all plugins wherever possible. In other
words, plugins should not define custom colors, sizes, etc unless absolutely
necessary. This enables users to change the visual theme of JupyterLab
by changing these variables.

Many variables appear in an ordered sequence (0,1,2,3). These sequences
are designed to work well together, so for example, `--jp-border-color1` should
be used with `--jp-layout-color1`. The numbers have the following meanings:

* 0: super-primary, reserved for special emphasis
* 1: primary, most important under normal situations
* 2: secondary, next most important under normal situations
* 3: tertiary, next most important under normal situations

Throughout JupyterLab, we are mostly following principles from Google's
Material Design when selecting colors. We are not, however, following
all of MD as it is not optimized for dense, information rich UIs.
*/

:root {
  /* Elevation
   *
   * We style box-shadows using Material Design's idea of elevation. These particular numbers are taken from here:
   *
   * https://github.com/material-components/material-components-web
   * https://material-components-web.appspot.com/elevation.html
   */

  --jp-shadow-base-lightness: 0;
  --jp-shadow-umbra-color: rgba(
    var(--jp-shadow-base-lightness),
    var(--jp-shadow-base-lightness),
    var(--jp-shadow-base-lightness),
    0.2
  );
  --jp-shadow-penumbra-color: rgba(
    var(--jp-shadow-base-lightness),
    var(--jp-shadow-base-lightness),
    var(--jp-shadow-base-lightness),
    0.14
  );
  --jp-shadow-ambient-color: rgba(
    var(--jp-shadow-base-lightness),
    var(--jp-shadow-base-lightness),
    var(--jp-shadow-base-lightness),
    0.12
  );
  --jp-elevation-z0: none;
  --jp-elevation-z1: 0px 2px 1px -1px var(--jp-shadow-umbra-color),
    0px 1px 1px 0px var(--jp-shadow-penumbra-color),
    0px 1px 3px 0px var(--jp-shadow-ambient-color);
  --jp-elevation-z2: 0px 3px 1px -2px var(--jp-shadow-umbra-color),
    0px 2px 2px 0px var(--jp-shadow-penumbra-color),
    0px 1px 5px 0px var(--jp-shadow-ambient-color);
  --jp-elevation-z4: 0px 2px 4px -1px var(--jp-shadow-umbra-color),
    0px 4px 5px 0px var(--jp-shadow-penumbra-color),
    0px 1px 10px 0px var(--jp-shadow-ambient-color);
  --jp-elevation-z6: 0px 3px 5px -1px var(--jp-shadow-umbra-color),
    0px 6px 10px 0px var(--jp-shadow-penumbra-color),
    0px 1px 18px 0px var(--jp-shadow-ambient-color);
  --jp-elevation-z8: 0px 5px 5px -3px var(--jp-shadow-umbra-color),
    0px 8px 10px 1px var(--jp-shadow-penumbra-color),
    0px 3px 14px 2px var(--jp-shadow-ambient-color);
  --jp-elevation-z12: 0px 7px 8px -4px var(--jp-shadow-umbra-color),
    0px 12px 17px 2px var(--jp-shadow-penumbra-color),
    0px 5px 22px 4px var(--jp-shadow-ambient-color);
  --jp-elevation-z16: 0px 8px 10px -5px var(--jp-shadow-umbra-color),
    0px 16px 24px 2px var(--jp-shadow-penumbra-color),
    0px 6px 30px 5px var(--jp-shadow-ambient-color);
  --jp-elevation-z20: 0px 10px 13px -6px var(--jp-shadow-umbra-color),
    0px 20px 31px 3px var(--jp-shadow-penumbra-color),
    0px 8px 38px 7px var(--jp-shadow-ambient-color);
  --jp-elevation-z24: 0px 11px 15px -7px var(--jp-shadow-umbra-color),
    0px 24px 38px 3px var(--jp-shadow-penumbra-color),
    0px 9px 46px 8px var(--jp-shadow-ambient-color);

  /* Borders
   *
   * The following variables, specify the visual styling of borders in JupyterLab.
   */

  --jp-border-width: 1px;
  --jp-border-color0: var(--md-grey-400);
  --jp-border-color1: var(--md-grey-400);
  --jp-border-color2: var(--md-grey-300);
  --jp-border-color3: var(--md-grey-200);
  --jp-border-radius: 2px;

  /* UI Fonts
   *
   * The UI font CSS variables are used for the typography all of the JupyterLab
   * user interface elements that are not directly user generated content.
   *
   * The font sizing here is done assuming that the body font size of --jp-ui-font-size1
   * is applied to a parent element. When children elements, such as headings, are sized
   * in em all things will be computed relative to that body size.
   */

  --jp-ui-font-scale-factor: 1.2;
  --jp-ui-font-size0: 0.83333em;
  --jp-ui-font-size1: 13px; /* Base font size */
  --jp-ui-font-size2: 1.2em;
  --jp-ui-font-size3: 1.44em;

  --jp-ui-font-family: -apple-system, BlinkMacSystemFont, 'Segoe UI', Helvetica,
    Arial, sans-serif, 'Apple Color Emoji', 'Segoe UI Emoji', 'Segoe UI Symbol';

  /*
   * Use these font colors against the corresponding main layout colors.
   * In a light theme, these go from dark to light.
   */

  /* Defaults use Material Design specification */
  --jp-ui-font-color0: rgba(0, 0, 0, 1);
  --jp-ui-font-color1: rgba(0, 0, 0, 0.87);
  --jp-ui-font-color2: rgba(0, 0, 0, 0.54);
  --jp-ui-font-color3: rgba(0, 0, 0, 0.38);

  /*
   * Use these against the brand/accent/warn/error colors.
   * These will typically go from light to darker, in both a dark and light theme.
   */

  --jp-ui-inverse-font-color0: rgba(255, 255, 255, 1);
  --jp-ui-inverse-font-color1: rgba(255, 255, 255, 1);
  --jp-ui-inverse-font-color2: rgba(255, 255, 255, 0.7);
  --jp-ui-inverse-font-color3: rgba(255, 255, 255, 0.5);

  /* Content Fonts
   *
   * Content font variables are used for typography of user generated content.
   *
   * The font sizing here is done assuming that the body font size of --jp-content-font-size1
   * is applied to a parent element. When children elements, such as headings, are sized
   * in em all things will be computed relative to that body size.
   */

  --jp-content-line-height: 1.6;
  --jp-content-font-scale-factor: 1.2;
  --jp-content-font-size0: 0.83333em;
  --jp-content-font-size1: 14px; /* Base font size */
  --jp-content-font-size2: 1.2em;
  --jp-content-font-size3: 1.44em;
  --jp-content-font-size4: 1.728em;
  --jp-content-font-size5: 2.0736em;

  /* This gives a magnification of about 125% in presentation mode over normal. */
  --jp-content-presentation-font-size1: 17px;

  --jp-content-heading-line-height: 1;
  --jp-content-heading-margin-top: 1.2em;
  --jp-content-heading-margin-bottom: 0.8em;
  --jp-content-heading-font-weight: 500;

  /* Defaults use Material Design specification */
  --jp-content-font-color0: rgba(0, 0, 0, 1);
  --jp-content-font-color1: rgba(0, 0, 0, 0.87);
  --jp-content-font-color2: rgba(0, 0, 0, 0.54);
  --jp-content-font-color3: rgba(0, 0, 0, 0.38);

  --jp-content-link-color: var(--md-blue-700);

  --jp-content-font-family: -apple-system, BlinkMacSystemFont, 'Segoe UI',
    Helvetica, Arial, sans-serif, 'Apple Color Emoji', 'Segoe UI Emoji',
    'Segoe UI Symbol';

  /*
   * Code Fonts
   *
   * Code font variables are used for typography of code and other monospaces content.
   */

  --jp-code-font-size: 13px;
  --jp-code-line-height: 1.3077; /* 17px for 13px base */
  --jp-code-padding: 5px; /* 5px for 13px base, codemirror highlighting needs integer px value */
  --jp-code-font-family-default: Menlo, Consolas, 'DejaVu Sans Mono', monospace;
  --jp-code-font-family: var(--jp-code-font-family-default);

  /* This gives a magnification of about 125% in presentation mode over normal. */
  --jp-code-presentation-font-size: 16px;

  /* may need to tweak cursor width if you change font size */
  --jp-code-cursor-width0: 1.4px;
  --jp-code-cursor-width1: 2px;
  --jp-code-cursor-width2: 4px;

  /* Layout
   *
   * The following are the main layout colors use in JupyterLab. In a light
   * theme these would go from light to dark.
   */

  --jp-layout-color0: white;
  --jp-layout-color1: white;
  --jp-layout-color2: var(--md-grey-200);
  --jp-layout-color3: var(--md-grey-400);
  --jp-layout-color4: var(--md-grey-600);

  /* Inverse Layout
   *
   * The following are the inverse layout colors use in JupyterLab. In a light
   * theme these would go from dark to light.
   */

  --jp-inverse-layout-color0: #111111;
  --jp-inverse-layout-color1: var(--md-grey-900);
  --jp-inverse-layout-color2: var(--md-grey-800);
  --jp-inverse-layout-color3: var(--md-grey-700);
  --jp-inverse-layout-color4: var(--md-grey-600);

  /* Brand/accent */

  --jp-brand-color0: var(--md-blue-700);
  --jp-brand-color1: var(--md-blue-500);
  --jp-brand-color2: var(--md-blue-300);
  --jp-brand-color3: var(--md-blue-100);
  --jp-brand-color4: var(--md-blue-50);

  --jp-accent-color0: var(--md-green-700);
  --jp-accent-color1: var(--md-green-500);
  --jp-accent-color2: var(--md-green-300);
  --jp-accent-color3: var(--md-green-100);

  /* State colors (warn, error, success, info) */

  --jp-warn-color0: var(--md-orange-700);
  --jp-warn-color1: var(--md-orange-500);
  --jp-warn-color2: var(--md-orange-300);
  --jp-warn-color3: var(--md-orange-100);

  --jp-error-color0: var(--md-red-700);
  --jp-error-color1: var(--md-red-500);
  --jp-error-color2: var(--md-red-300);
  --jp-error-color3: var(--md-red-100);

  --jp-success-color0: var(--md-green-700);
  --jp-success-color1: var(--md-green-500);
  --jp-success-color2: var(--md-green-300);
  --jp-success-color3: var(--md-green-100);

  --jp-info-color0: var(--md-cyan-700);
  --jp-info-color1: var(--md-cyan-500);
  --jp-info-color2: var(--md-cyan-300);
  --jp-info-color3: var(--md-cyan-100);

  /* Cell specific styles */

  --jp-cell-padding: 5px;

  --jp-cell-collapser-width: 8px;
  --jp-cell-collapser-min-height: 20px;
  --jp-cell-collapser-not-active-hover-opacity: 0.6;

  --jp-cell-editor-background: var(--md-grey-100);
  --jp-cell-editor-border-color: var(--md-grey-300);
  --jp-cell-editor-box-shadow: inset 0 0 2px var(--md-blue-300);
  --jp-cell-editor-active-background: var(--jp-layout-color0);
  --jp-cell-editor-active-border-color: var(--jp-brand-color1);

  --jp-cell-prompt-width: 64px;
  --jp-cell-prompt-font-family: 'Source Code Pro', monospace;
  --jp-cell-prompt-letter-spacing: 0px;
  --jp-cell-prompt-opacity: 1;
  --jp-cell-prompt-not-active-opacity: 0.5;
  --jp-cell-prompt-not-active-font-color: var(--md-grey-700);
  /* A custom blend of MD grey and blue 600
   * See https://meyerweb.com/eric/tools/color-blend/#546E7A:1E88E5:5:hex */
  --jp-cell-inprompt-font-color: #307fc1;
  /* A custom blend of MD grey and orange 600
   * https://meyerweb.com/eric/tools/color-blend/#546E7A:F4511E:5:hex */
  --jp-cell-outprompt-font-color: #bf5b3d;

  /* Notebook specific styles */

  --jp-notebook-padding: 10px;
  --jp-notebook-select-background: var(--jp-layout-color1);
  --jp-notebook-multiselected-color: var(--md-blue-50);

  /* The scroll padding is calculated to fill enough space at the bottom of the
  notebook to show one single-line cell (with appropriate padding) at the top
  when the notebook is scrolled all the way to the bottom. We also subtract one
  pixel so that no scrollbar appears if we have just one single-line cell in the
  notebook. This padding is to enable a 'scroll past end' feature in a notebook.
  */
  --jp-notebook-scroll-padding: calc(
    100% - var(--jp-code-font-size) * var(--jp-code-line-height) -
      var(--jp-code-padding) - var(--jp-cell-padding) - 1px
  );

  /* Rendermime styles */

  --jp-rendermime-error-background: #fdd;
  --jp-rendermime-table-row-background: var(--md-grey-100);
  --jp-rendermime-table-row-hover-background: var(--md-light-blue-50);

  /* Dialog specific styles */

  --jp-dialog-background: rgba(0, 0, 0, 0.25);

  /* Console specific styles */

  --jp-console-padding: 10px;

  /* Toolbar specific styles */

  --jp-toolbar-border-color: var(--jp-border-color1);
  --jp-toolbar-micro-height: 8px;
  --jp-toolbar-background: var(--jp-layout-color1);
  --jp-toolbar-box-shadow: 0px 0px 2px 0px rgba(0, 0, 0, 0.24);
  --jp-toolbar-header-margin: 4px 4px 0px 4px;
  --jp-toolbar-active-background: var(--md-grey-300);

  /* Input field styles */

  --jp-input-box-shadow: inset 0 0 2px var(--md-blue-300);
  --jp-input-active-background: var(--jp-layout-color1);
  --jp-input-hover-background: var(--jp-layout-color1);
  --jp-input-background: var(--md-grey-100);
  --jp-input-border-color: var(--jp-border-color1);
  --jp-input-active-border-color: var(--jp-brand-color1);
  --jp-input-active-box-shadow-color: rgba(19, 124, 189, 0.3);

  /* General editor styles */

  --jp-editor-selected-background: #d9d9d9;
  --jp-editor-selected-focused-background: #d7d4f0;
  --jp-editor-cursor-color: var(--jp-ui-font-color0);

  /* Code mirror specific styles */

  --jp-mirror-editor-keyword-color: #008000;
  --jp-mirror-editor-atom-color: #88f;
  --jp-mirror-editor-number-color: #080;
  --jp-mirror-editor-def-color: #00f;
  --jp-mirror-editor-variable-color: var(--md-grey-900);
  --jp-mirror-editor-variable-2-color: #05a;
  --jp-mirror-editor-variable-3-color: #085;
  --jp-mirror-editor-punctuation-color: #05a;
  --jp-mirror-editor-property-color: #05a;
  --jp-mirror-editor-operator-color: #aa22ff;
  --jp-mirror-editor-comment-color: #408080;
  --jp-mirror-editor-string-color: #ba2121;
  --jp-mirror-editor-string-2-color: #708;
  --jp-mirror-editor-meta-color: #aa22ff;
  --jp-mirror-editor-qualifier-color: #555;
  --jp-mirror-editor-builtin-color: #008000;
  --jp-mirror-editor-bracket-color: #997;
  --jp-mirror-editor-tag-color: #170;
  --jp-mirror-editor-attribute-color: #00c;
  --jp-mirror-editor-header-color: blue;
  --jp-mirror-editor-quote-color: #090;
  --jp-mirror-editor-link-color: #00c;
  --jp-mirror-editor-error-color: #f00;
  --jp-mirror-editor-hr-color: #999;

  /* Vega extension styles */

  --jp-vega-background: white;

  /* Sidebar-related styles */

  --jp-sidebar-min-width: 180px;

  /* Search-related styles */

  --jp-search-toggle-off-opacity: 0.5;
  --jp-search-toggle-hover-opacity: 0.8;
  --jp-search-toggle-on-opacity: 1;
  --jp-search-selected-match-background-color: rgb(245, 200, 0);
  --jp-search-selected-match-color: black;
  --jp-search-unselected-match-background-color: var(
    --jp-inverse-layout-color0
  );
  --jp-search-unselected-match-color: var(--jp-ui-inverse-font-color0);

  /* Icon colors that work well with light or dark backgrounds */
  --jp-icon-contrast-color0: var(--md-purple-600);
  --jp-icon-contrast-color1: var(--md-green-600);
  --jp-icon-contrast-color2: var(--md-pink-600);
  --jp-icon-contrast-color3: var(--md-blue-600);
}
</style>

<style type="text/css">
a.anchor-link {
   display: none;
}
.highlight  {
    margin: 0.4em;
}

/* Input area styling */
.jp-InputArea {
    overflow: hidden;
}

.jp-InputArea-editor {
    overflow: hidden;
}

@media print {
  body {
    margin: 0;
  }
}
</style>



<!-- Load mathjax -->
    <script src="https://cdnjs.cloudflare.com/ajax/libs/mathjax/2.7.7/latest.js?config=TeX-MML-AM_CHTML-full,Safe"> </script>
    <!-- MathJax configuration -->
    <script type="text/x-mathjax-config">
    init_mathjax = function() {
        if (window.MathJax) {
        // MathJax loaded
            MathJax.Hub.Config({
                TeX: {
                    equationNumbers: {
                    autoNumber: "AMS",
                    useLabelIds: true
                    }
                },
                tex2jax: {
                    inlineMath: [ ['$','$'], ["\\(","\\)"] ],
                    displayMath: [ ['$$','$$'], ["\\[","\\]"] ],
                    processEscapes: true,
                    processEnvironments: true
                },
                displayAlign: 'center',
                CommonHTML: {
                    linebreaks: { 
                    automatic: true 
                    }
                },
                "HTML-CSS": {
                    linebreaks: { 
                    automatic: true 
                    }
                }
            });
        
            MathJax.Hub.Queue(["Typeset", MathJax.Hub]);
        }
    }
    init_mathjax();
    </script>
    <!-- End of mathjax configuration --></head>
<body class="jp-Notebook" data-jp-theme-light="true" data-jp-theme-name="JupyterLab Light">
<div class="jp-Cell jp-CodeCell jp-Notebook-cell jp-mod-noOutputs  ">
<div class="jp-Cell-inputWrapper">
<div class="jp-InputArea jp-Cell-inputArea">
<div class="jp-InputPrompt jp-InputArea-prompt">In&nbsp;[171]:</div>
<div class="jp-CodeMirrorEditor jp-Editor jp-InputArea-editor" data-type="inline">
     <div class="CodeMirror cm-s-jupyter">
<div class=" highlight hl-ipython3"><pre><span></span><span class="kn">import</span> <span class="nn">pandas</span> <span class="k">as</span> <span class="nn">pd</span>
<span class="kn">import</span> <span class="nn">numpy</span> <span class="k">as</span> <span class="nn">np</span>
</pre></div>

     </div>
</div>
</div>
</div>

</div><div class="jp-Cell jp-CodeCell jp-Notebook-cell jp-mod-noOutputs  ">
<div class="jp-Cell-inputWrapper">
<div class="jp-InputArea jp-Cell-inputArea">
<div class="jp-InputPrompt jp-InputArea-prompt">In&nbsp;[172]:</div>
<div class="jp-CodeMirrorEditor jp-Editor jp-InputArea-editor" data-type="inline">
     <div class="CodeMirror cm-s-jupyter">
<div class=" highlight hl-ipython3"><pre><span></span><span class="kn">import</span> <span class="nn">torch</span>
<span class="kn">import</span> <span class="nn">random</span>
<span class="kn">import</span> <span class="nn">torch.backends.cudnn</span> <span class="k">as</span> <span class="nn">cudnn</span>
<span class="kn">import</span> <span class="nn">numpy</span> <span class="k">as</span> <span class="nn">np</span>
<span class="kn">import</span> <span class="nn">os</span>
<span class="n">seed</span><span class="o">=</span> <span class="mi">0</span>
<span class="n">random</span><span class="o">.</span><span class="n">seed</span><span class="p">(</span><span class="n">seed</span><span class="p">)</span>
<span class="n">np</span><span class="o">.</span><span class="n">random</span><span class="o">.</span><span class="n">seed</span><span class="p">(</span><span class="n">seed</span><span class="p">)</span>
<span class="n">os</span><span class="o">.</span><span class="n">environ</span><span class="p">[</span><span class="s2">&quot;PYTHONHASHSEED&quot;</span><span class="p">]</span> <span class="o">=</span> <span class="nb">str</span><span class="p">(</span><span class="n">seed</span><span class="p">)</span>
<span class="n">torch</span><span class="o">.</span><span class="n">manual_seed</span><span class="p">(</span><span class="n">seed</span><span class="p">)</span>
<span class="n">torch</span><span class="o">.</span><span class="n">cuda</span><span class="o">.</span><span class="n">manual_seed</span><span class="p">(</span><span class="n">seed</span><span class="p">)</span>  <span class="c1"># type: ignore</span>
<span class="n">torch</span><span class="o">.</span><span class="n">backends</span><span class="o">.</span><span class="n">cudnn</span><span class="o">.</span><span class="n">deterministic</span> <span class="o">=</span> <span class="kc">True</span>  <span class="c1"># type: ignore</span>
<span class="n">torch</span><span class="o">.</span><span class="n">backends</span><span class="o">.</span><span class="n">cudnn</span><span class="o">.</span><span class="n">benchmark</span> <span class="o">=</span> <span class="kc">False</span>  <span class="c1"># type: ignore</span>
</pre></div>

     </div>
</div>
</div>
</div>

</div><div class="jp-Cell jp-CodeCell jp-Notebook-cell jp-mod-noOutputs  ">
<div class="jp-Cell-inputWrapper">
<div class="jp-InputArea jp-Cell-inputArea">
<div class="jp-InputPrompt jp-InputArea-prompt">In&nbsp;[173]:</div>
<div class="jp-CodeMirrorEditor jp-Editor jp-InputArea-editor" data-type="inline">
     <div class="CodeMirror cm-s-jupyter">
<div class=" highlight hl-ipython3"><pre><span></span><span class="n">train_1</span><span class="o">=</span><span class="n">pd</span><span class="o">.</span><span class="n">read_csv</span><span class="p">(</span><span class="sa">r</span><span class="s1">&#39;C:\Users\yuntaeyang\Desktop\w_train_1_group.csv&#39;</span><span class="p">)</span>
</pre></div>

     </div>
</div>
</div>
</div>

</div><div class="jp-Cell jp-CodeCell jp-Notebook-cell jp-mod-noOutputs  ">
<div class="jp-Cell-inputWrapper">
<div class="jp-InputArea jp-Cell-inputArea">
<div class="jp-InputPrompt jp-InputArea-prompt">In&nbsp;[174]:</div>
<div class="jp-CodeMirrorEditor jp-Editor jp-InputArea-editor" data-type="inline">
     <div class="CodeMirror cm-s-jupyter">
<div class=" highlight hl-ipython3"><pre><span></span><span class="n">test_1</span><span class="o">=</span><span class="n">pd</span><span class="o">.</span><span class="n">read_csv</span><span class="p">(</span><span class="sa">r</span><span class="s1">&#39;C:\Users\yuntaeyang\Desktop\w_test_1_group.csv&#39;</span><span class="p">)</span>
</pre></div>

     </div>
</div>
</div>
</div>

</div><div class="jp-Cell jp-CodeCell jp-Notebook-cell jp-mod-noOutputs  ">
<div class="jp-Cell-inputWrapper">
<div class="jp-InputArea jp-Cell-inputArea">
<div class="jp-InputPrompt jp-InputArea-prompt">In&nbsp;[175]:</div>
<div class="jp-CodeMirrorEditor jp-Editor jp-InputArea-editor" data-type="inline">
     <div class="CodeMirror cm-s-jupyter">
<div class=" highlight hl-ipython3"><pre><span></span><span class="n">train_1</span><span class="p">[</span><span class="s1">&#39;TPTP&#39;</span><span class="p">]</span> <span class="o">=</span> <span class="n">train_1</span><span class="p">[</span><span class="s1">&#39;TPGRP_TPCD&#39;</span><span class="p">]</span><span class="o">.</span><span class="n">astype</span><span class="p">(</span><span class="nb">str</span><span class="p">)</span>  <span class="o">+</span> <span class="n">train_1</span><span class="p">[</span><span class="s1">&#39;PRDN_FOM_C&#39;</span><span class="p">]</span><span class="o">.</span><span class="n">astype</span><span class="p">(</span><span class="nb">str</span><span class="p">)</span>  
</pre></div>

     </div>
</div>
</div>
</div>

</div><div class="jp-Cell jp-CodeCell jp-Notebook-cell jp-mod-noOutputs  ">
<div class="jp-Cell-inputWrapper">
<div class="jp-InputArea jp-Cell-inputArea">
<div class="jp-InputPrompt jp-InputArea-prompt">In&nbsp;[176]:</div>
<div class="jp-CodeMirrorEditor jp-Editor jp-InputArea-editor" data-type="inline">
     <div class="CodeMirror cm-s-jupyter">
<div class=" highlight hl-ipython3"><pre><span></span><span class="n">train_1</span><span class="p">[</span><span class="s1">&#39;target_1&#39;</span><span class="p">]</span> <span class="o">=</span> <span class="n">train_1</span><span class="p">[</span><span class="s1">&#39;target&#39;</span><span class="p">]</span>
<span class="n">train_1</span><span class="o">=</span><span class="n">train_1</span><span class="o">.</span><span class="n">drop</span><span class="p">([</span><span class="s1">&#39;date&#39;</span><span class="p">,</span> <span class="s1">&#39;umd&#39;</span><span class="p">,</span> <span class="s1">&#39;target&#39;</span><span class="p">],</span> <span class="n">axis</span><span class="o">=</span><span class="mi">1</span><span class="p">)</span>
</pre></div>

     </div>
</div>
</div>
</div>

</div><div class="jp-Cell jp-CodeCell jp-Notebook-cell jp-mod-noOutputs  ">
<div class="jp-Cell-inputWrapper">
<div class="jp-InputArea jp-Cell-inputArea">
<div class="jp-InputPrompt jp-InputArea-prompt">In&nbsp;[177]:</div>
<div class="jp-CodeMirrorEditor jp-Editor jp-InputArea-editor" data-type="inline">
     <div class="CodeMirror cm-s-jupyter">
<div class=" highlight hl-ipython3"><pre><span></span><span class="n">train_1_array</span><span class="o">=</span><span class="n">np</span><span class="o">.</span><span class="n">array</span><span class="p">(</span><span class="n">train_1</span><span class="p">)</span>
</pre></div>

     </div>
</div>
</div>
</div>

</div><div class="jp-Cell jp-CodeCell jp-Notebook-cell jp-mod-noOutputs  ">
<div class="jp-Cell-inputWrapper">
<div class="jp-InputArea jp-Cell-inputArea">
<div class="jp-InputPrompt jp-InputArea-prompt">In&nbsp;[178]:</div>
<div class="jp-CodeMirrorEditor jp-Editor jp-InputArea-editor" data-type="inline">
     <div class="CodeMirror cm-s-jupyter">
<div class=" highlight hl-ipython3"><pre><span></span><span class="kn">from</span> <span class="nn">sklearn.preprocessing</span> <span class="kn">import</span> <span class="n">LabelEncoder</span>
<span class="n">le</span> <span class="o">=</span> <span class="n">LabelEncoder</span><span class="p">()</span>
<span class="n">train_1_array</span><span class="p">[:,</span> <span class="mi">64</span><span class="p">]</span><span class="o">=</span><span class="n">le</span><span class="o">.</span><span class="n">fit_transform</span><span class="p">(</span><span class="n">train_1_array</span><span class="p">[:,</span><span class="mi">64</span><span class="p">])</span>
</pre></div>

     </div>
</div>
</div>
</div>

</div><div class="jp-Cell jp-CodeCell jp-Notebook-cell jp-mod-noOutputs  ">
<div class="jp-Cell-inputWrapper">
<div class="jp-InputArea jp-Cell-inputArea">
<div class="jp-InputPrompt jp-InputArea-prompt">In&nbsp;[179]:</div>
<div class="jp-CodeMirrorEditor jp-Editor jp-InputArea-editor" data-type="inline">
     <div class="CodeMirror cm-s-jupyter">
<div class=" highlight hl-ipython3"><pre><span></span><span class="n">train_1_array</span><span class="p">[:,</span> <span class="mi">6</span><span class="p">]</span><span class="o">=</span><span class="n">le</span><span class="o">.</span><span class="n">fit_transform</span><span class="p">(</span><span class="n">train_1_array</span><span class="p">[:,</span><span class="mi">6</span><span class="p">])</span>
</pre></div>

     </div>
</div>
</div>
</div>

</div><div class="jp-Cell jp-CodeCell jp-Notebook-cell jp-mod-noOutputs  ">
<div class="jp-Cell-inputWrapper">
<div class="jp-InputArea jp-Cell-inputArea">
<div class="jp-InputPrompt jp-InputArea-prompt">In&nbsp;[180]:</div>
<div class="jp-CodeMirrorEditor jp-Editor jp-InputArea-editor" data-type="inline">
     <div class="CodeMirror cm-s-jupyter">
<div class=" highlight hl-ipython3"><pre><span></span><span class="n">train_1</span><span class="o">=</span> <span class="n">pd</span><span class="o">.</span><span class="n">DataFrame</span><span class="p">(</span><span class="n">train_1_array</span><span class="p">,</span> <span class="n">columns</span><span class="o">=</span><span class="n">train_1</span><span class="o">.</span><span class="n">columns</span><span class="p">)</span>
</pre></div>

     </div>
</div>
</div>
</div>

</div><div class="jp-Cell jp-CodeCell jp-Notebook-cell jp-mod-noOutputs  ">
<div class="jp-Cell-inputWrapper">
<div class="jp-InputArea jp-Cell-inputArea">
<div class="jp-InputPrompt jp-InputArea-prompt">In&nbsp;[181]:</div>
<div class="jp-CodeMirrorEditor jp-Editor jp-InputArea-editor" data-type="inline">
     <div class="CodeMirror cm-s-jupyter">
<div class=" highlight hl-ipython3"><pre><span></span><span class="n">train_1</span><span class="o">=</span><span class="n">train_1</span><span class="o">.</span><span class="n">astype</span><span class="p">(</span><span class="nb">float</span><span class="p">)</span>
</pre></div>

     </div>
</div>
</div>
</div>

</div><div class="jp-Cell jp-CodeCell jp-Notebook-cell jp-mod-noOutputs  ">
<div class="jp-Cell-inputWrapper">
<div class="jp-InputArea jp-Cell-inputArea">
<div class="jp-InputPrompt jp-InputArea-prompt">In&nbsp;[182]:</div>
<div class="jp-CodeMirrorEditor jp-Editor jp-InputArea-editor" data-type="inline">
     <div class="CodeMirror cm-s-jupyter">
<div class=" highlight hl-ipython3"><pre><span></span><span class="n">test_1</span><span class="p">[</span><span class="s1">&#39;TPTP&#39;</span><span class="p">]</span> <span class="o">=</span> <span class="n">test_1</span><span class="p">[</span><span class="s1">&#39;TPGRP_TPCD&#39;</span><span class="p">]</span><span class="o">.</span><span class="n">astype</span><span class="p">(</span><span class="nb">str</span><span class="p">)</span>  <span class="o">+</span> <span class="n">test_1</span><span class="p">[</span><span class="s1">&#39;PRDN_FOM_C&#39;</span><span class="p">]</span><span class="o">.</span><span class="n">astype</span><span class="p">(</span><span class="nb">str</span><span class="p">)</span> 
</pre></div>

     </div>
</div>
</div>
</div>

</div><div class="jp-Cell jp-CodeCell jp-Notebook-cell jp-mod-noOutputs  ">
<div class="jp-Cell-inputWrapper">
<div class="jp-InputArea jp-Cell-inputArea">
<div class="jp-InputPrompt jp-InputArea-prompt">In&nbsp;[183]:</div>
<div class="jp-CodeMirrorEditor jp-Editor jp-InputArea-editor" data-type="inline">
     <div class="CodeMirror cm-s-jupyter">
<div class=" highlight hl-ipython3"><pre><span></span><span class="n">test_1</span><span class="o">=</span><span class="n">test_1</span><span class="o">.</span><span class="n">sort_values</span><span class="p">(</span><span class="n">by</span><span class="o">=</span><span class="p">[</span><span class="s1">&#39;index&#39;</span><span class="p">])</span>
</pre></div>

     </div>
</div>
</div>
</div>

</div><div class="jp-Cell jp-CodeCell jp-Notebook-cell jp-mod-noOutputs  ">
<div class="jp-Cell-inputWrapper">
<div class="jp-InputArea jp-Cell-inputArea">
<div class="jp-InputPrompt jp-InputArea-prompt">In&nbsp;[184]:</div>
<div class="jp-CodeMirrorEditor jp-Editor jp-InputArea-editor" data-type="inline">
     <div class="CodeMirror cm-s-jupyter">
<div class=" highlight hl-ipython3"><pre><span></span><span class="n">test_id_1</span><span class="o">=</span><span class="n">test_1</span><span class="p">[[</span><span class="s1">&#39;index&#39;</span><span class="p">,</span> <span class="s1">&#39;date&#39;</span><span class="p">,</span> <span class="s1">&#39;umd&#39;</span><span class="p">]]</span>
</pre></div>

     </div>
</div>
</div>
</div>

</div><div class="jp-Cell jp-CodeCell jp-Notebook-cell jp-mod-noOutputs  ">
<div class="jp-Cell-inputWrapper">
<div class="jp-InputArea jp-Cell-inputArea">
<div class="jp-InputPrompt jp-InputArea-prompt">In&nbsp;[185]:</div>
<div class="jp-CodeMirrorEditor jp-Editor jp-InputArea-editor" data-type="inline">
     <div class="CodeMirror cm-s-jupyter">
<div class=" highlight hl-ipython3"><pre><span></span><span class="n">test_1</span><span class="o">=</span><span class="n">test_1</span><span class="o">.</span><span class="n">drop</span><span class="p">([</span><span class="s1">&#39;index&#39;</span><span class="p">,</span> <span class="s1">&#39;date&#39;</span><span class="p">,</span> <span class="s1">&#39;umd&#39;</span><span class="p">],</span> <span class="n">axis</span><span class="o">=</span><span class="mi">1</span><span class="p">)</span>
<span class="n">test_1_array</span><span class="o">=</span><span class="n">np</span><span class="o">.</span><span class="n">array</span><span class="p">(</span><span class="n">test_1</span><span class="p">)</span>
</pre></div>

     </div>
</div>
</div>
</div>

</div><div class="jp-Cell jp-CodeCell jp-Notebook-cell jp-mod-noOutputs  ">
<div class="jp-Cell-inputWrapper">
<div class="jp-InputArea jp-Cell-inputArea">
<div class="jp-InputPrompt jp-InputArea-prompt">In&nbsp;[186]:</div>
<div class="jp-CodeMirrorEditor jp-Editor jp-InputArea-editor" data-type="inline">
     <div class="CodeMirror cm-s-jupyter">
<div class=" highlight hl-ipython3"><pre><span></span><span class="kn">from</span> <span class="nn">sklearn.preprocessing</span> <span class="kn">import</span> <span class="n">LabelEncoder</span>
<span class="n">le</span> <span class="o">=</span> <span class="n">LabelEncoder</span><span class="p">()</span>
<span class="n">test_1_array</span><span class="p">[:,</span> <span class="mi">64</span><span class="p">]</span><span class="o">=</span><span class="n">le</span><span class="o">.</span><span class="n">fit_transform</span><span class="p">(</span><span class="n">test_1_array</span><span class="p">[:,</span><span class="mi">64</span><span class="p">])</span>
</pre></div>

     </div>
</div>
</div>
</div>

</div><div class="jp-Cell jp-CodeCell jp-Notebook-cell jp-mod-noOutputs  ">
<div class="jp-Cell-inputWrapper">
<div class="jp-InputArea jp-Cell-inputArea">
<div class="jp-InputPrompt jp-InputArea-prompt">In&nbsp;[187]:</div>
<div class="jp-CodeMirrorEditor jp-Editor jp-InputArea-editor" data-type="inline">
     <div class="CodeMirror cm-s-jupyter">
<div class=" highlight hl-ipython3"><pre><span></span><span class="n">test_1_array</span><span class="p">[:,</span> <span class="mi">6</span><span class="p">]</span><span class="o">=</span><span class="n">le</span><span class="o">.</span><span class="n">fit_transform</span><span class="p">(</span><span class="n">test_1_array</span><span class="p">[:,</span><span class="mi">6</span><span class="p">])</span>
</pre></div>

     </div>
</div>
</div>
</div>

</div><div class="jp-Cell jp-CodeCell jp-Notebook-cell jp-mod-noOutputs  ">
<div class="jp-Cell-inputWrapper">
<div class="jp-InputArea jp-Cell-inputArea">
<div class="jp-InputPrompt jp-InputArea-prompt">In&nbsp;[188]:</div>
<div class="jp-CodeMirrorEditor jp-Editor jp-InputArea-editor" data-type="inline">
     <div class="CodeMirror cm-s-jupyter">
<div class=" highlight hl-ipython3"><pre><span></span><span class="n">test_1</span><span class="o">=</span> <span class="n">pd</span><span class="o">.</span><span class="n">DataFrame</span><span class="p">(</span><span class="n">test_1_array</span><span class="p">,</span> <span class="n">columns</span><span class="o">=</span><span class="n">test_1</span><span class="o">.</span><span class="n">columns</span><span class="p">)</span>
</pre></div>

     </div>
</div>
</div>
</div>

</div><div class="jp-Cell jp-CodeCell jp-Notebook-cell jp-mod-noOutputs  ">
<div class="jp-Cell-inputWrapper">
<div class="jp-InputArea jp-Cell-inputArea">
<div class="jp-InputPrompt jp-InputArea-prompt">In&nbsp;[189]:</div>
<div class="jp-CodeMirrorEditor jp-Editor jp-InputArea-editor" data-type="inline">
     <div class="CodeMirror cm-s-jupyter">
<div class=" highlight hl-ipython3"><pre><span></span><span class="n">test_1</span><span class="o">=</span><span class="n">test_1</span><span class="o">.</span><span class="n">astype</span><span class="p">(</span><span class="nb">float</span><span class="p">)</span>
</pre></div>

     </div>
</div>
</div>
</div>

</div><div class="jp-Cell jp-CodeCell jp-Notebook-cell jp-mod-noOutputs  ">
<div class="jp-Cell-inputWrapper">
<div class="jp-InputArea jp-Cell-inputArea">
<div class="jp-InputPrompt jp-InputArea-prompt">In&nbsp;[190]:</div>
<div class="jp-CodeMirrorEditor jp-Editor jp-InputArea-editor" data-type="inline">
     <div class="CodeMirror cm-s-jupyter">
<div class=" highlight hl-ipython3"><pre><span></span><span class="kn">from</span> <span class="nn">sklearn.model_selection</span> <span class="kn">import</span> <span class="n">train_test_split</span>
<span class="kn">import</span> <span class="nn">warnings</span>
<span class="n">warnings</span><span class="o">.</span><span class="n">filterwarnings</span><span class="p">(</span><span class="s1">&#39;ignore&#39;</span><span class="p">)</span>

<span class="n">X_features</span> <span class="o">=</span> <span class="n">train_1</span><span class="o">.</span><span class="n">iloc</span><span class="p">[:,</span> <span class="p">:</span><span class="o">-</span><span class="mi">1</span><span class="p">]</span>
<span class="n">y_label</span> <span class="o">=</span> <span class="n">train_1</span><span class="o">.</span><span class="n">iloc</span><span class="p">[:,</span> <span class="o">-</span><span class="mi">1</span><span class="p">]</span>
</pre></div>

     </div>
</div>
</div>
</div>

</div><div class="jp-Cell jp-CodeCell jp-Notebook-cell jp-mod-noOutputs  ">
<div class="jp-Cell-inputWrapper">
<div class="jp-InputArea jp-Cell-inputArea">
<div class="jp-InputPrompt jp-InputArea-prompt">In&nbsp;[191]:</div>
<div class="jp-CodeMirrorEditor jp-Editor jp-InputArea-editor" data-type="inline">
     <div class="CodeMirror cm-s-jupyter">
<div class=" highlight hl-ipython3"><pre><span></span><span class="kn">import</span> <span class="nn">numpy</span> <span class="k">as</span> <span class="nn">np</span>
<span class="kn">import</span> <span class="nn">matplotlib.pyplot</span> <span class="k">as</span> <span class="nn">plt</span>
<span class="kn">from</span> <span class="nn">sklearn.ensemble</span> <span class="kn">import</span> <span class="n">IsolationForest</span>
</pre></div>

     </div>
</div>
</div>
</div>

</div><div class="jp-Cell jp-CodeCell jp-Notebook-cell jp-mod-noOutputs  ">
<div class="jp-Cell-inputWrapper">
<div class="jp-InputArea jp-Cell-inputArea">
<div class="jp-InputPrompt jp-InputArea-prompt">In&nbsp;[192]:</div>
<div class="jp-CodeMirrorEditor jp-Editor jp-InputArea-editor" data-type="inline">
     <div class="CodeMirror cm-s-jupyter">
<div class=" highlight hl-ipython3"><pre><span></span><span class="c1"># IsolationForest 모델 만들기</span>
<span class="n">isol</span> <span class="o">=</span> <span class="n">IsolationForest</span><span class="p">(</span><span class="n">max_samples</span><span class="o">=</span><span class="mi">100</span><span class="p">,</span> <span class="n">random_state</span><span class="o">=</span><span class="mi">200</span><span class="p">)</span> 

<span class="c1"># 만들어 둔 데이터셋에 알고리즘 피팅시키기</span>
<span class="n">isol</span><span class="o">.</span><span class="n">fit</span><span class="p">(</span><span class="n">X_features</span><span class="p">)</span>
<span class="n">y_pred</span><span class="o">=</span> <span class="n">isol</span><span class="o">.</span><span class="n">predict</span><span class="p">(</span><span class="n">X_features</span><span class="p">)</span>
</pre></div>

     </div>
</div>
</div>
</div>

</div><div class="jp-Cell jp-CodeCell jp-Notebook-cell jp-mod-noOutputs  ">
<div class="jp-Cell-inputWrapper">
<div class="jp-InputArea jp-Cell-inputArea">
<div class="jp-InputPrompt jp-InputArea-prompt">In&nbsp;[193]:</div>
<div class="jp-CodeMirrorEditor jp-Editor jp-InputArea-editor" data-type="inline">
     <div class="CodeMirror cm-s-jupyter">
<div class=" highlight hl-ipython3"><pre><span></span><span class="n">isola</span><span class="o">=</span><span class="n">pd</span><span class="o">.</span><span class="n">DataFrame</span><span class="p">(</span><span class="n">y_pred</span><span class="p">,</span> <span class="n">columns</span><span class="o">=</span> <span class="p">[</span><span class="s1">&#39;isal&#39;</span><span class="p">])</span>
</pre></div>

     </div>
</div>
</div>
</div>

</div><div class="jp-Cell jp-CodeCell jp-Notebook-cell jp-mod-noOutputs  ">
<div class="jp-Cell-inputWrapper">
<div class="jp-InputArea jp-Cell-inputArea">
<div class="jp-InputPrompt jp-InputArea-prompt">In&nbsp;[194]:</div>
<div class="jp-CodeMirrorEditor jp-Editor jp-InputArea-editor" data-type="inline">
     <div class="CodeMirror cm-s-jupyter">
<div class=" highlight hl-ipython3"><pre><span></span><span class="n">train_1</span><span class="o">=</span><span class="n">train_1</span><span class="o">.</span><span class="n">join</span><span class="p">(</span><span class="n">isola</span><span class="p">,</span> <span class="n">how</span><span class="o">=</span><span class="s1">&#39;inner&#39;</span><span class="p">)</span>
</pre></div>

     </div>
</div>
</div>
</div>

</div><div class="jp-Cell jp-CodeCell jp-Notebook-cell jp-mod-noOutputs  ">
<div class="jp-Cell-inputWrapper">
<div class="jp-InputArea jp-Cell-inputArea">
<div class="jp-InputPrompt jp-InputArea-prompt">In&nbsp;[195]:</div>
<div class="jp-CodeMirrorEditor jp-Editor jp-InputArea-editor" data-type="inline">
     <div class="CodeMirror cm-s-jupyter">
<div class=" highlight hl-ipython3"><pre><span></span><span class="n">train_1</span><span class="o">=</span><span class="n">train_1</span><span class="p">[</span><span class="n">train_1</span><span class="p">[</span><span class="s1">&#39;isal&#39;</span><span class="p">]</span><span class="o">==</span> <span class="mi">1</span><span class="p">]</span>
</pre></div>

     </div>
</div>
</div>
</div>

</div><div class="jp-Cell jp-CodeCell jp-Notebook-cell jp-mod-noOutputs  ">
<div class="jp-Cell-inputWrapper">
<div class="jp-InputArea jp-Cell-inputArea">
<div class="jp-InputPrompt jp-InputArea-prompt">In&nbsp;[196]:</div>
<div class="jp-CodeMirrorEditor jp-Editor jp-InputArea-editor" data-type="inline">
     <div class="CodeMirror cm-s-jupyter">
<div class=" highlight hl-ipython3"><pre><span></span><span class="n">train_1</span><span class="o">=</span><span class="n">train_1</span><span class="o">.</span><span class="n">drop</span><span class="p">([</span><span class="s1">&#39;isal&#39;</span><span class="p">],</span> <span class="n">axis</span><span class="o">=</span><span class="mi">1</span><span class="p">)</span>
</pre></div>

     </div>
</div>
</div>
</div>

</div><div class="jp-Cell jp-CodeCell jp-Notebook-cell jp-mod-noOutputs  ">
<div class="jp-Cell-inputWrapper">
<div class="jp-InputArea jp-Cell-inputArea">
<div class="jp-InputPrompt jp-InputArea-prompt">In&nbsp;[197]:</div>
<div class="jp-CodeMirrorEditor jp-Editor jp-InputArea-editor" data-type="inline">
     <div class="CodeMirror cm-s-jupyter">
<div class=" highlight hl-ipython3"><pre><span></span><span class="n">X_features</span> <span class="o">=</span> <span class="n">train_1</span><span class="o">.</span><span class="n">iloc</span><span class="p">[:,</span> <span class="p">:</span><span class="o">-</span><span class="mi">1</span><span class="p">]</span>
<span class="n">y_label</span> <span class="o">=</span> <span class="n">train_1</span><span class="o">.</span><span class="n">iloc</span><span class="p">[:,</span> <span class="o">-</span><span class="mi">1</span><span class="p">]</span>
</pre></div>

     </div>
</div>
</div>
</div>

</div><div class="jp-Cell jp-CodeCell jp-Notebook-cell   ">
<div class="jp-Cell-inputWrapper">
<div class="jp-InputArea jp-Cell-inputArea">
<div class="jp-InputPrompt jp-InputArea-prompt">In&nbsp;[198]:</div>
<div class="jp-CodeMirrorEditor jp-Editor jp-InputArea-editor" data-type="inline">
     <div class="CodeMirror cm-s-jupyter">
<div class=" highlight hl-ipython3"><pre><span></span><span class="c1"># shuffle1</span>
<span class="kn">import</span> <span class="nn">sklearn</span>
<span class="n">x_shuffled</span> <span class="o">=</span> <span class="n">sklearn</span><span class="o">.</span><span class="n">utils</span><span class="o">.</span><span class="n">shuffle</span><span class="p">(</span><span class="n">X_features</span><span class="p">,</span> <span class="n">random_state</span><span class="o">=</span><span class="mi">3217</span><span class="p">)</span>
<span class="n">y_shuffled</span> <span class="o">=</span><span class="n">sklearn</span><span class="o">.</span><span class="n">utils</span><span class="o">.</span><span class="n">shuffle</span><span class="p">(</span><span class="n">y_label</span><span class="p">,</span> <span class="n">random_state</span><span class="o">=</span><span class="mi">3217</span><span class="p">)</span>
<span class="n">X_train</span><span class="p">,</span> <span class="n">X_test</span><span class="p">,</span> <span class="n">y_train</span><span class="p">,</span> <span class="n">y_test</span><span class="o">=</span><span class="n">train_test_split</span><span class="p">(</span><span class="n">x_shuffled</span><span class="p">,</span> <span class="n">y_shuffled</span><span class="p">,</span> <span class="n">test_size</span><span class="o">=</span><span class="mf">0.3</span><span class="p">,</span> <span class="n">random_state</span><span class="o">=</span><span class="mi">2021</span><span class="p">,</span> <span class="n">stratify</span><span class="o">=</span><span class="n">y_label</span><span class="p">)</span>
<span class="nb">print</span><span class="p">(</span><span class="n">X_train</span><span class="o">.</span><span class="n">shape</span><span class="p">,</span> <span class="n">X_test</span><span class="o">.</span><span class="n">shape</span><span class="p">)</span>
</pre></div>

     </div>
</div>
</div>
</div>

<div class="jp-Cell-outputWrapper">


<div class="jp-OutputArea jp-Cell-outputArea">

<div class="jp-OutputArea-child">

    
    <div class="jp-OutputPrompt jp-OutputArea-prompt"></div>


<div class="jp-RenderedText jp-OutputArea-output" data-mime-type="text/plain">
<pre>(3416, 65) (1464, 65)
</pre>
</div>
</div>

</div>

</div>

</div><div class="jp-Cell jp-CodeCell jp-Notebook-cell jp-mod-noOutputs  ">
<div class="jp-Cell-inputWrapper">
<div class="jp-InputArea jp-Cell-inputArea">
<div class="jp-InputPrompt jp-InputArea-prompt">In&nbsp;[199]:</div>
<div class="jp-CodeMirrorEditor jp-Editor jp-InputArea-editor" data-type="inline">
     <div class="CodeMirror cm-s-jupyter">
<div class=" highlight hl-ipython3"><pre><span></span><span class="kn">from</span> <span class="nn">imblearn.over_sampling</span> <span class="kn">import</span> <span class="n">SMOTENC</span>
<span class="n">smote_nc</span> <span class="o">=</span> <span class="n">SMOTENC</span><span class="p">(</span><span class="n">categorical_features</span><span class="o">=</span><span class="p">[</span><span class="mi">0</span><span class="p">,</span> <span class="mi">1</span><span class="p">,</span> <span class="mi">2</span><span class="p">,</span> <span class="mi">3</span><span class="p">,</span> <span class="mi">4</span><span class="p">,</span> <span class="mi">5</span><span class="p">,</span> <span class="mi">6</span><span class="p">,</span> <span class="mi">7</span><span class="p">,</span> <span class="mi">8</span><span class="p">,</span> <span class="mi">9</span><span class="p">,</span> <span class="mi">10</span><span class="p">,</span> <span class="mi">11</span><span class="p">,</span> <span class="mi">12</span><span class="p">,</span> <span class="mi">13</span><span class="p">,</span> <span class="mi">14</span><span class="p">,</span> <span class="mi">15</span><span class="p">,</span> <span class="mi">16</span><span class="p">],</span> <span class="n">random_state</span><span class="o">=</span><span class="mi">0</span><span class="p">)</span>
<span class="n">X_resampled1</span><span class="p">,</span> <span class="n">y_resampled1</span> <span class="o">=</span> <span class="n">smote_nc</span><span class="o">.</span><span class="n">fit_resample</span><span class="p">(</span><span class="n">X_train</span><span class="p">,</span> <span class="n">y_train</span><span class="p">)</span>
</pre></div>

     </div>
</div>
</div>
</div>

</div><div class="jp-Cell jp-CodeCell jp-Notebook-cell jp-mod-noOutputs  ">
<div class="jp-Cell-inputWrapper">
<div class="jp-InputArea jp-Cell-inputArea">
<div class="jp-InputPrompt jp-InputArea-prompt">In&nbsp;[200]:</div>
<div class="jp-CodeMirrorEditor jp-Editor jp-InputArea-editor" data-type="inline">
     <div class="CodeMirror cm-s-jupyter">
<div class=" highlight hl-ipython3"><pre><span></span><span class="n">X_train1</span> <span class="o">=</span> <span class="n">np</span><span class="o">.</span><span class="n">array</span><span class="p">(</span><span class="n">X_resampled1</span><span class="p">)</span>
<span class="n">y_train1</span> <span class="o">=</span> <span class="n">np</span><span class="o">.</span><span class="n">array</span><span class="p">(</span><span class="n">y_resampled1</span><span class="p">)</span><span class="o">.</span><span class="n">squeeze</span><span class="p">()</span>
<span class="n">X_test</span>  <span class="o">=</span> <span class="n">np</span><span class="o">.</span><span class="n">array</span><span class="p">(</span><span class="n">X_test</span><span class="p">)</span>
<span class="n">y_test</span>  <span class="o">=</span> <span class="n">np</span><span class="o">.</span><span class="n">array</span><span class="p">(</span><span class="n">y_test</span><span class="p">)</span><span class="o">.</span><span class="n">squeeze</span><span class="p">()</span>
</pre></div>

     </div>
</div>
</div>
</div>

</div><div class="jp-Cell jp-CodeCell jp-Notebook-cell   ">
<div class="jp-Cell-inputWrapper">
<div class="jp-InputArea jp-Cell-inputArea">
<div class="jp-InputPrompt jp-InputArea-prompt">In&nbsp;[201]:</div>
<div class="jp-CodeMirrorEditor jp-Editor jp-InputArea-editor" data-type="inline">
     <div class="CodeMirror cm-s-jupyter">
<div class=" highlight hl-ipython3"><pre><span></span><span class="c1"># shuffle2</span>
<span class="n">x_shuffled2</span> <span class="o">=</span> <span class="n">sklearn</span><span class="o">.</span><span class="n">utils</span><span class="o">.</span><span class="n">shuffle</span><span class="p">(</span><span class="n">X_features</span><span class="p">,</span> <span class="n">random_state</span><span class="o">=</span><span class="mi">3067</span><span class="p">)</span>
<span class="n">y_shuffled2</span> <span class="o">=</span><span class="n">sklearn</span><span class="o">.</span><span class="n">utils</span><span class="o">.</span><span class="n">shuffle</span><span class="p">(</span><span class="n">y_label</span><span class="p">,</span> <span class="n">random_state</span><span class="o">=</span><span class="mi">3067</span><span class="p">)</span>
<span class="n">X_train2</span><span class="p">,</span> <span class="n">X_test2</span><span class="p">,</span> <span class="n">y_train2</span><span class="p">,</span> <span class="n">y_test2</span><span class="o">=</span><span class="n">train_test_split</span><span class="p">(</span><span class="n">x_shuffled2</span><span class="p">,</span> <span class="n">y_shuffled2</span><span class="p">,</span> <span class="n">test_size</span><span class="o">=</span><span class="mf">0.3</span><span class="p">,</span> <span class="n">random_state</span><span class="o">=</span><span class="mi">2021</span><span class="p">,</span> <span class="n">stratify</span><span class="o">=</span><span class="n">y_label</span><span class="p">)</span>
<span class="nb">print</span><span class="p">(</span><span class="n">X_train2</span><span class="o">.</span><span class="n">shape</span><span class="p">,</span> <span class="n">X_test2</span><span class="o">.</span><span class="n">shape</span><span class="p">)</span>
</pre></div>

     </div>
</div>
</div>
</div>

<div class="jp-Cell-outputWrapper">


<div class="jp-OutputArea jp-Cell-outputArea">

<div class="jp-OutputArea-child">

    
    <div class="jp-OutputPrompt jp-OutputArea-prompt"></div>


<div class="jp-RenderedText jp-OutputArea-output" data-mime-type="text/plain">
<pre>(3416, 65) (1464, 65)
</pre>
</div>
</div>

</div>

</div>

</div><div class="jp-Cell jp-CodeCell jp-Notebook-cell jp-mod-noOutputs  ">
<div class="jp-Cell-inputWrapper">
<div class="jp-InputArea jp-Cell-inputArea">
<div class="jp-InputPrompt jp-InputArea-prompt">In&nbsp;[202]:</div>
<div class="jp-CodeMirrorEditor jp-Editor jp-InputArea-editor" data-type="inline">
     <div class="CodeMirror cm-s-jupyter">
<div class=" highlight hl-ipython3"><pre><span></span><span class="kn">from</span> <span class="nn">imblearn.over_sampling</span> <span class="kn">import</span> <span class="n">SMOTENC</span>
<span class="n">smote_nc</span> <span class="o">=</span> <span class="n">SMOTENC</span><span class="p">(</span><span class="n">categorical_features</span><span class="o">=</span><span class="p">[</span><span class="mi">0</span><span class="p">,</span> <span class="mi">1</span><span class="p">,</span> <span class="mi">2</span><span class="p">,</span> <span class="mi">3</span><span class="p">,</span> <span class="mi">4</span><span class="p">,</span> <span class="mi">5</span><span class="p">,</span> <span class="mi">6</span><span class="p">,</span> <span class="mi">7</span><span class="p">,</span> <span class="mi">8</span><span class="p">,</span> <span class="mi">9</span><span class="p">,</span> <span class="mi">10</span><span class="p">,</span> <span class="mi">11</span><span class="p">,</span> <span class="mi">12</span><span class="p">,</span> <span class="mi">13</span><span class="p">,</span> <span class="mi">14</span><span class="p">,</span> <span class="mi">15</span><span class="p">,</span> <span class="mi">16</span><span class="p">],</span> <span class="n">random_state</span><span class="o">=</span><span class="mi">0</span><span class="p">)</span>
<span class="n">X_resampled2</span><span class="p">,</span> <span class="n">y_resampled2</span> <span class="o">=</span> <span class="n">smote_nc</span><span class="o">.</span><span class="n">fit_resample</span><span class="p">(</span><span class="n">X_train2</span><span class="p">,</span> <span class="n">y_train2</span><span class="p">)</span>
</pre></div>

     </div>
</div>
</div>
</div>

</div><div class="jp-Cell jp-CodeCell jp-Notebook-cell jp-mod-noOutputs  ">
<div class="jp-Cell-inputWrapper">
<div class="jp-InputArea jp-Cell-inputArea">
<div class="jp-InputPrompt jp-InputArea-prompt">In&nbsp;[203]:</div>
<div class="jp-CodeMirrorEditor jp-Editor jp-InputArea-editor" data-type="inline">
     <div class="CodeMirror cm-s-jupyter">
<div class=" highlight hl-ipython3"><pre><span></span><span class="n">X_train2</span> <span class="o">=</span> <span class="n">np</span><span class="o">.</span><span class="n">array</span><span class="p">(</span><span class="n">X_resampled2</span><span class="p">)</span>
<span class="n">y_train2</span> <span class="o">=</span> <span class="n">np</span><span class="o">.</span><span class="n">array</span><span class="p">(</span><span class="n">y_resampled2</span><span class="p">)</span><span class="o">.</span><span class="n">squeeze</span><span class="p">()</span>
<span class="n">X_test2</span>  <span class="o">=</span> <span class="n">np</span><span class="o">.</span><span class="n">array</span><span class="p">(</span><span class="n">X_test2</span><span class="p">)</span>
<span class="n">y_test2</span>  <span class="o">=</span> <span class="n">np</span><span class="o">.</span><span class="n">array</span><span class="p">(</span><span class="n">y_test2</span><span class="p">)</span><span class="o">.</span><span class="n">squeeze</span><span class="p">()</span>
</pre></div>

     </div>
</div>
</div>
</div>

</div><div class="jp-Cell jp-CodeCell jp-Notebook-cell   ">
<div class="jp-Cell-inputWrapper">
<div class="jp-InputArea jp-Cell-inputArea">
<div class="jp-InputPrompt jp-InputArea-prompt">In&nbsp;[204]:</div>
<div class="jp-CodeMirrorEditor jp-Editor jp-InputArea-editor" data-type="inline">
     <div class="CodeMirror cm-s-jupyter">
<div class=" highlight hl-ipython3"><pre><span></span><span class="c1"># shuffle3</span>
<span class="n">x_shuffled3</span> <span class="o">=</span> <span class="n">sklearn</span><span class="o">.</span><span class="n">utils</span><span class="o">.</span><span class="n">shuffle</span><span class="p">(</span><span class="n">X_features</span><span class="p">,</span> <span class="n">random_state</span><span class="o">=</span><span class="mi">3415</span><span class="p">)</span>
<span class="n">y_shuffled3</span> <span class="o">=</span><span class="n">sklearn</span><span class="o">.</span><span class="n">utils</span><span class="o">.</span><span class="n">shuffle</span><span class="p">(</span><span class="n">y_label</span><span class="p">,</span> <span class="n">random_state</span><span class="o">=</span><span class="mi">3415</span><span class="p">)</span>
<span class="n">X_train3</span><span class="p">,</span> <span class="n">X_test3</span><span class="p">,</span> <span class="n">y_train3</span><span class="p">,</span> <span class="n">y_test3</span><span class="o">=</span><span class="n">train_test_split</span><span class="p">(</span><span class="n">x_shuffled3</span><span class="p">,</span> <span class="n">y_shuffled3</span><span class="p">,</span> <span class="n">test_size</span><span class="o">=</span><span class="mf">0.3</span><span class="p">,</span> <span class="n">random_state</span><span class="o">=</span><span class="mi">2021</span><span class="p">,</span> <span class="n">stratify</span><span class="o">=</span><span class="n">y_label</span><span class="p">)</span>
<span class="nb">print</span><span class="p">(</span><span class="n">X_train3</span><span class="o">.</span><span class="n">shape</span><span class="p">,</span> <span class="n">X_test3</span><span class="o">.</span><span class="n">shape</span><span class="p">)</span>
</pre></div>

     </div>
</div>
</div>
</div>

<div class="jp-Cell-outputWrapper">


<div class="jp-OutputArea jp-Cell-outputArea">

<div class="jp-OutputArea-child">

    
    <div class="jp-OutputPrompt jp-OutputArea-prompt"></div>


<div class="jp-RenderedText jp-OutputArea-output" data-mime-type="text/plain">
<pre>(3416, 65) (1464, 65)
</pre>
</div>
</div>

</div>

</div>

</div><div class="jp-Cell jp-CodeCell jp-Notebook-cell jp-mod-noOutputs  ">
<div class="jp-Cell-inputWrapper">
<div class="jp-InputArea jp-Cell-inputArea">
<div class="jp-InputPrompt jp-InputArea-prompt">In&nbsp;[205]:</div>
<div class="jp-CodeMirrorEditor jp-Editor jp-InputArea-editor" data-type="inline">
     <div class="CodeMirror cm-s-jupyter">
<div class=" highlight hl-ipython3"><pre><span></span><span class="kn">from</span> <span class="nn">imblearn.over_sampling</span> <span class="kn">import</span> <span class="n">SMOTENC</span>
<span class="n">smote_nc</span> <span class="o">=</span> <span class="n">SMOTENC</span><span class="p">(</span><span class="n">categorical_features</span><span class="o">=</span><span class="p">[</span><span class="mi">0</span><span class="p">,</span> <span class="mi">1</span><span class="p">,</span> <span class="mi">2</span><span class="p">,</span> <span class="mi">3</span><span class="p">,</span> <span class="mi">4</span><span class="p">,</span> <span class="mi">5</span><span class="p">,</span> <span class="mi">6</span><span class="p">,</span> <span class="mi">7</span><span class="p">,</span> <span class="mi">8</span><span class="p">,</span> <span class="mi">9</span><span class="p">,</span> <span class="mi">10</span><span class="p">,</span> <span class="mi">11</span><span class="p">,</span> <span class="mi">12</span><span class="p">,</span> <span class="mi">13</span><span class="p">,</span> <span class="mi">14</span><span class="p">,</span> <span class="mi">15</span><span class="p">,</span> <span class="mi">16</span><span class="p">],</span> <span class="n">random_state</span><span class="o">=</span><span class="mi">0</span><span class="p">)</span>
<span class="n">X_resampled3</span><span class="p">,</span> <span class="n">y_resampled3</span> <span class="o">=</span> <span class="n">smote_nc</span><span class="o">.</span><span class="n">fit_resample</span><span class="p">(</span><span class="n">X_train3</span><span class="p">,</span> <span class="n">y_train3</span><span class="p">)</span>
</pre></div>

     </div>
</div>
</div>
</div>

</div><div class="jp-Cell jp-CodeCell jp-Notebook-cell jp-mod-noOutputs  ">
<div class="jp-Cell-inputWrapper">
<div class="jp-InputArea jp-Cell-inputArea">
<div class="jp-InputPrompt jp-InputArea-prompt">In&nbsp;[206]:</div>
<div class="jp-CodeMirrorEditor jp-Editor jp-InputArea-editor" data-type="inline">
     <div class="CodeMirror cm-s-jupyter">
<div class=" highlight hl-ipython3"><pre><span></span><span class="n">X_train3</span> <span class="o">=</span> <span class="n">np</span><span class="o">.</span><span class="n">array</span><span class="p">(</span><span class="n">X_resampled3</span><span class="p">)</span>
<span class="n">y_train3</span> <span class="o">=</span> <span class="n">np</span><span class="o">.</span><span class="n">array</span><span class="p">(</span><span class="n">y_resampled3</span><span class="p">)</span><span class="o">.</span><span class="n">squeeze</span><span class="p">()</span>
<span class="n">X_test3</span>  <span class="o">=</span> <span class="n">np</span><span class="o">.</span><span class="n">array</span><span class="p">(</span><span class="n">X_test3</span><span class="p">)</span>
<span class="n">y_test3</span>  <span class="o">=</span> <span class="n">np</span><span class="o">.</span><span class="n">array</span><span class="p">(</span><span class="n">y_test3</span><span class="p">)</span><span class="o">.</span><span class="n">squeeze</span><span class="p">()</span>
</pre></div>

     </div>
</div>
</div>
</div>

</div><div class="jp-Cell jp-CodeCell jp-Notebook-cell   ">
<div class="jp-Cell-inputWrapper">
<div class="jp-InputArea jp-Cell-inputArea">
<div class="jp-InputPrompt jp-InputArea-prompt">In&nbsp;[207]:</div>
<div class="jp-CodeMirrorEditor jp-Editor jp-InputArea-editor" data-type="inline">
     <div class="CodeMirror cm-s-jupyter">
<div class=" highlight hl-ipython3"><pre><span></span><span class="c1"># shuffle4</span>
<span class="n">x_shuffled4</span> <span class="o">=</span> <span class="n">sklearn</span><span class="o">.</span><span class="n">utils</span><span class="o">.</span><span class="n">shuffle</span><span class="p">(</span><span class="n">X_features</span><span class="p">,</span> <span class="n">random_state</span><span class="o">=</span><span class="mi">3563</span><span class="p">)</span>
<span class="n">y_shuffled4</span> <span class="o">=</span><span class="n">sklearn</span><span class="o">.</span><span class="n">utils</span><span class="o">.</span><span class="n">shuffle</span><span class="p">(</span><span class="n">y_label</span><span class="p">,</span> <span class="n">random_state</span><span class="o">=</span><span class="mi">3563</span><span class="p">)</span>
<span class="n">X_train4</span><span class="p">,</span> <span class="n">X_test4</span><span class="p">,</span> <span class="n">y_train4</span><span class="p">,</span> <span class="n">y_test4</span><span class="o">=</span><span class="n">train_test_split</span><span class="p">(</span><span class="n">x_shuffled4</span><span class="p">,</span> <span class="n">y_shuffled4</span><span class="p">,</span> <span class="n">test_size</span><span class="o">=</span><span class="mf">0.3</span><span class="p">,</span> <span class="n">random_state</span><span class="o">=</span><span class="mi">2021</span><span class="p">,</span> <span class="n">stratify</span><span class="o">=</span><span class="n">y_label</span><span class="p">)</span>
<span class="nb">print</span><span class="p">(</span><span class="n">X_train4</span><span class="o">.</span><span class="n">shape</span><span class="p">,</span> <span class="n">X_test4</span><span class="o">.</span><span class="n">shape</span><span class="p">)</span>
</pre></div>

     </div>
</div>
</div>
</div>

<div class="jp-Cell-outputWrapper">


<div class="jp-OutputArea jp-Cell-outputArea">

<div class="jp-OutputArea-child">

    
    <div class="jp-OutputPrompt jp-OutputArea-prompt"></div>


<div class="jp-RenderedText jp-OutputArea-output" data-mime-type="text/plain">
<pre>(3416, 65) (1464, 65)
</pre>
</div>
</div>

</div>

</div>

</div><div class="jp-Cell jp-CodeCell jp-Notebook-cell jp-mod-noOutputs  ">
<div class="jp-Cell-inputWrapper">
<div class="jp-InputArea jp-Cell-inputArea">
<div class="jp-InputPrompt jp-InputArea-prompt">In&nbsp;[208]:</div>
<div class="jp-CodeMirrorEditor jp-Editor jp-InputArea-editor" data-type="inline">
     <div class="CodeMirror cm-s-jupyter">
<div class=" highlight hl-ipython3"><pre><span></span><span class="kn">from</span> <span class="nn">imblearn.over_sampling</span> <span class="kn">import</span> <span class="n">SMOTENC</span>
<span class="n">smote_nc</span> <span class="o">=</span> <span class="n">SMOTENC</span><span class="p">(</span><span class="n">categorical_features</span><span class="o">=</span><span class="p">[</span><span class="mi">0</span><span class="p">,</span> <span class="mi">1</span><span class="p">,</span> <span class="mi">2</span><span class="p">,</span> <span class="mi">3</span><span class="p">,</span> <span class="mi">4</span><span class="p">,</span> <span class="mi">5</span><span class="p">,</span> <span class="mi">6</span><span class="p">,</span> <span class="mi">7</span><span class="p">,</span> <span class="mi">8</span><span class="p">,</span> <span class="mi">9</span><span class="p">,</span> <span class="mi">10</span><span class="p">,</span> <span class="mi">11</span><span class="p">,</span> <span class="mi">12</span><span class="p">,</span> <span class="mi">13</span><span class="p">,</span> <span class="mi">14</span><span class="p">,</span> <span class="mi">15</span><span class="p">,</span> <span class="mi">16</span><span class="p">],</span> <span class="n">random_state</span><span class="o">=</span><span class="mi">0</span><span class="p">)</span>
<span class="n">X_resampled4</span><span class="p">,</span> <span class="n">y_resampled4</span> <span class="o">=</span> <span class="n">smote_nc</span><span class="o">.</span><span class="n">fit_resample</span><span class="p">(</span><span class="n">X_train4</span><span class="p">,</span> <span class="n">y_train4</span><span class="p">)</span>
</pre></div>

     </div>
</div>
</div>
</div>

</div><div class="jp-Cell jp-CodeCell jp-Notebook-cell jp-mod-noOutputs  ">
<div class="jp-Cell-inputWrapper">
<div class="jp-InputArea jp-Cell-inputArea">
<div class="jp-InputPrompt jp-InputArea-prompt">In&nbsp;[209]:</div>
<div class="jp-CodeMirrorEditor jp-Editor jp-InputArea-editor" data-type="inline">
     <div class="CodeMirror cm-s-jupyter">
<div class=" highlight hl-ipython3"><pre><span></span><span class="n">X_train4</span> <span class="o">=</span> <span class="n">np</span><span class="o">.</span><span class="n">array</span><span class="p">(</span><span class="n">X_resampled4</span><span class="p">)</span>
<span class="n">y_train4</span> <span class="o">=</span> <span class="n">np</span><span class="o">.</span><span class="n">array</span><span class="p">(</span><span class="n">y_resampled4</span><span class="p">)</span><span class="o">.</span><span class="n">squeeze</span><span class="p">()</span>
<span class="n">X_test4</span>  <span class="o">=</span> <span class="n">np</span><span class="o">.</span><span class="n">array</span><span class="p">(</span><span class="n">X_test4</span><span class="p">)</span>
<span class="n">y_test4</span>  <span class="o">=</span> <span class="n">np</span><span class="o">.</span><span class="n">array</span><span class="p">(</span><span class="n">y_test4</span><span class="p">)</span><span class="o">.</span><span class="n">squeeze</span><span class="p">()</span>
</pre></div>

     </div>
</div>
</div>
</div>

</div><div class="jp-Cell jp-CodeCell jp-Notebook-cell   ">
<div class="jp-Cell-inputWrapper">
<div class="jp-InputArea jp-Cell-inputArea">
<div class="jp-InputPrompt jp-InputArea-prompt">In&nbsp;[210]:</div>
<div class="jp-CodeMirrorEditor jp-Editor jp-InputArea-editor" data-type="inline">
     <div class="CodeMirror cm-s-jupyter">
<div class=" highlight hl-ipython3"><pre><span></span><span class="c1"># shuffle5</span>
<span class="n">x_shuffled5</span> <span class="o">=</span> <span class="n">sklearn</span><span class="o">.</span><span class="n">utils</span><span class="o">.</span><span class="n">shuffle</span><span class="p">(</span><span class="n">X_features</span><span class="p">,</span> <span class="n">random_state</span><span class="o">=</span><span class="mi">3528</span><span class="p">)</span>
<span class="n">y_shuffled5</span> <span class="o">=</span><span class="n">sklearn</span><span class="o">.</span><span class="n">utils</span><span class="o">.</span><span class="n">shuffle</span><span class="p">(</span><span class="n">y_label</span><span class="p">,</span> <span class="n">random_state</span><span class="o">=</span><span class="mi">3528</span><span class="p">)</span>
<span class="n">X_train5</span><span class="p">,</span> <span class="n">X_test5</span><span class="p">,</span> <span class="n">y_train5</span><span class="p">,</span> <span class="n">y_test5</span><span class="o">=</span><span class="n">train_test_split</span><span class="p">(</span><span class="n">x_shuffled5</span><span class="p">,</span> <span class="n">y_shuffled5</span><span class="p">,</span> <span class="n">test_size</span><span class="o">=</span><span class="mf">0.3</span><span class="p">,</span> <span class="n">random_state</span><span class="o">=</span><span class="mi">2021</span><span class="p">,</span> <span class="n">stratify</span><span class="o">=</span><span class="n">y_label</span><span class="p">)</span>
<span class="nb">print</span><span class="p">(</span><span class="n">X_train5</span><span class="o">.</span><span class="n">shape</span><span class="p">,</span> <span class="n">X_test5</span><span class="o">.</span><span class="n">shape</span><span class="p">)</span>
</pre></div>

     </div>
</div>
</div>
</div>

<div class="jp-Cell-outputWrapper">


<div class="jp-OutputArea jp-Cell-outputArea">

<div class="jp-OutputArea-child">

    
    <div class="jp-OutputPrompt jp-OutputArea-prompt"></div>


<div class="jp-RenderedText jp-OutputArea-output" data-mime-type="text/plain">
<pre>(3416, 65) (1464, 65)
</pre>
</div>
</div>

</div>

</div>

</div><div class="jp-Cell jp-CodeCell jp-Notebook-cell jp-mod-noOutputs  ">
<div class="jp-Cell-inputWrapper">
<div class="jp-InputArea jp-Cell-inputArea">
<div class="jp-InputPrompt jp-InputArea-prompt">In&nbsp;[211]:</div>
<div class="jp-CodeMirrorEditor jp-Editor jp-InputArea-editor" data-type="inline">
     <div class="CodeMirror cm-s-jupyter">
<div class=" highlight hl-ipython3"><pre><span></span><span class="kn">from</span> <span class="nn">imblearn.over_sampling</span> <span class="kn">import</span> <span class="n">SMOTENC</span>
<span class="n">smote_nc</span> <span class="o">=</span> <span class="n">SMOTENC</span><span class="p">(</span><span class="n">categorical_features</span><span class="o">=</span><span class="p">[</span><span class="mi">0</span><span class="p">,</span> <span class="mi">1</span><span class="p">,</span> <span class="mi">2</span><span class="p">,</span> <span class="mi">3</span><span class="p">,</span> <span class="mi">4</span><span class="p">,</span> <span class="mi">5</span><span class="p">,</span> <span class="mi">6</span><span class="p">,</span> <span class="mi">7</span><span class="p">,</span> <span class="mi">8</span><span class="p">,</span> <span class="mi">9</span><span class="p">,</span> <span class="mi">10</span><span class="p">,</span> <span class="mi">11</span><span class="p">,</span> <span class="mi">12</span><span class="p">,</span> <span class="mi">13</span><span class="p">,</span> <span class="mi">14</span><span class="p">,</span> <span class="mi">15</span><span class="p">,</span> <span class="mi">16</span><span class="p">],</span> <span class="n">random_state</span><span class="o">=</span><span class="mi">0</span><span class="p">)</span>
<span class="n">X_resampled5</span><span class="p">,</span> <span class="n">y_resampled5</span> <span class="o">=</span> <span class="n">smote_nc</span><span class="o">.</span><span class="n">fit_resample</span><span class="p">(</span><span class="n">X_train5</span><span class="p">,</span> <span class="n">y_train5</span><span class="p">)</span>
</pre></div>

     </div>
</div>
</div>
</div>

</div><div class="jp-Cell jp-CodeCell jp-Notebook-cell jp-mod-noOutputs  ">
<div class="jp-Cell-inputWrapper">
<div class="jp-InputArea jp-Cell-inputArea">
<div class="jp-InputPrompt jp-InputArea-prompt">In&nbsp;[212]:</div>
<div class="jp-CodeMirrorEditor jp-Editor jp-InputArea-editor" data-type="inline">
     <div class="CodeMirror cm-s-jupyter">
<div class=" highlight hl-ipython3"><pre><span></span><span class="n">X_train5</span> <span class="o">=</span> <span class="n">np</span><span class="o">.</span><span class="n">array</span><span class="p">(</span><span class="n">X_resampled5</span><span class="p">)</span>
<span class="n">y_train5</span> <span class="o">=</span> <span class="n">np</span><span class="o">.</span><span class="n">array</span><span class="p">(</span><span class="n">y_resampled5</span><span class="p">)</span><span class="o">.</span><span class="n">squeeze</span><span class="p">()</span>
<span class="n">X_test5</span>  <span class="o">=</span> <span class="n">np</span><span class="o">.</span><span class="n">array</span><span class="p">(</span><span class="n">X_test5</span><span class="p">)</span>
<span class="n">y_test5</span>  <span class="o">=</span> <span class="n">np</span><span class="o">.</span><span class="n">array</span><span class="p">(</span><span class="n">y_test5</span><span class="p">)</span><span class="o">.</span><span class="n">squeeze</span><span class="p">()</span>
</pre></div>

     </div>
</div>
</div>
</div>

</div><div class="jp-Cell jp-CodeCell jp-Notebook-cell   ">
<div class="jp-Cell-inputWrapper">
<div class="jp-InputArea jp-Cell-inputArea">
<div class="jp-InputPrompt jp-InputArea-prompt">In&nbsp;[213]:</div>
<div class="jp-CodeMirrorEditor jp-Editor jp-InputArea-editor" data-type="inline">
     <div class="CodeMirror cm-s-jupyter">
<div class=" highlight hl-ipython3"><pre><span></span><span class="c1"># shuffle6</span>
<span class="n">x_shuffled6</span> <span class="o">=</span> <span class="n">sklearn</span><span class="o">.</span><span class="n">utils</span><span class="o">.</span><span class="n">shuffle</span><span class="p">(</span><span class="n">X_features</span><span class="p">,</span> <span class="n">random_state</span><span class="o">=</span><span class="mi">3006</span><span class="p">)</span>
<span class="n">y_shuffled6</span> <span class="o">=</span><span class="n">sklearn</span><span class="o">.</span><span class="n">utils</span><span class="o">.</span><span class="n">shuffle</span><span class="p">(</span><span class="n">y_label</span><span class="p">,</span> <span class="n">random_state</span><span class="o">=</span><span class="mi">3006</span><span class="p">)</span>
<span class="n">X_train6</span><span class="p">,</span> <span class="n">X_test6</span><span class="p">,</span> <span class="n">y_train6</span><span class="p">,</span> <span class="n">y_test6</span><span class="o">=</span><span class="n">train_test_split</span><span class="p">(</span><span class="n">x_shuffled6</span><span class="p">,</span> <span class="n">y_shuffled6</span><span class="p">,</span> <span class="n">test_size</span><span class="o">=</span><span class="mf">0.3</span><span class="p">,</span> <span class="n">random_state</span><span class="o">=</span><span class="mi">2021</span><span class="p">,</span> <span class="n">stratify</span><span class="o">=</span><span class="n">y_label</span><span class="p">)</span>
<span class="nb">print</span><span class="p">(</span><span class="n">X_train6</span><span class="o">.</span><span class="n">shape</span><span class="p">,</span> <span class="n">X_test6</span><span class="o">.</span><span class="n">shape</span><span class="p">)</span>
</pre></div>

     </div>
</div>
</div>
</div>

<div class="jp-Cell-outputWrapper">


<div class="jp-OutputArea jp-Cell-outputArea">

<div class="jp-OutputArea-child">

    
    <div class="jp-OutputPrompt jp-OutputArea-prompt"></div>


<div class="jp-RenderedText jp-OutputArea-output" data-mime-type="text/plain">
<pre>(3416, 65) (1464, 65)
</pre>
</div>
</div>

</div>

</div>

</div><div class="jp-Cell jp-CodeCell jp-Notebook-cell jp-mod-noOutputs  ">
<div class="jp-Cell-inputWrapper">
<div class="jp-InputArea jp-Cell-inputArea">
<div class="jp-InputPrompt jp-InputArea-prompt">In&nbsp;[214]:</div>
<div class="jp-CodeMirrorEditor jp-Editor jp-InputArea-editor" data-type="inline">
     <div class="CodeMirror cm-s-jupyter">
<div class=" highlight hl-ipython3"><pre><span></span><span class="kn">from</span> <span class="nn">imblearn.over_sampling</span> <span class="kn">import</span> <span class="n">SMOTENC</span>
<span class="n">smote_nc</span> <span class="o">=</span> <span class="n">SMOTENC</span><span class="p">(</span><span class="n">categorical_features</span><span class="o">=</span><span class="p">[</span><span class="mi">0</span><span class="p">,</span> <span class="mi">1</span><span class="p">,</span> <span class="mi">2</span><span class="p">,</span> <span class="mi">3</span><span class="p">,</span> <span class="mi">4</span><span class="p">,</span> <span class="mi">5</span><span class="p">,</span> <span class="mi">6</span><span class="p">,</span> <span class="mi">7</span><span class="p">,</span> <span class="mi">8</span><span class="p">,</span> <span class="mi">9</span><span class="p">,</span> <span class="mi">10</span><span class="p">,</span> <span class="mi">11</span><span class="p">,</span> <span class="mi">12</span><span class="p">,</span> <span class="mi">13</span><span class="p">,</span> <span class="mi">14</span><span class="p">,</span> <span class="mi">15</span><span class="p">,</span> <span class="mi">16</span><span class="p">],</span> <span class="n">random_state</span><span class="o">=</span><span class="mi">0</span><span class="p">)</span>
<span class="n">X_resampled6</span><span class="p">,</span> <span class="n">y_resampled6</span> <span class="o">=</span> <span class="n">smote_nc</span><span class="o">.</span><span class="n">fit_resample</span><span class="p">(</span><span class="n">X_train6</span><span class="p">,</span> <span class="n">y_train6</span><span class="p">)</span>
</pre></div>

     </div>
</div>
</div>
</div>

</div><div class="jp-Cell jp-CodeCell jp-Notebook-cell jp-mod-noOutputs  ">
<div class="jp-Cell-inputWrapper">
<div class="jp-InputArea jp-Cell-inputArea">
<div class="jp-InputPrompt jp-InputArea-prompt">In&nbsp;[215]:</div>
<div class="jp-CodeMirrorEditor jp-Editor jp-InputArea-editor" data-type="inline">
     <div class="CodeMirror cm-s-jupyter">
<div class=" highlight hl-ipython3"><pre><span></span><span class="n">X_train6</span> <span class="o">=</span> <span class="n">np</span><span class="o">.</span><span class="n">array</span><span class="p">(</span><span class="n">X_resampled6</span><span class="p">)</span>
<span class="n">y_train6</span> <span class="o">=</span> <span class="n">np</span><span class="o">.</span><span class="n">array</span><span class="p">(</span><span class="n">y_resampled6</span><span class="p">)</span><span class="o">.</span><span class="n">squeeze</span><span class="p">()</span>
<span class="n">X_test6</span>  <span class="o">=</span> <span class="n">np</span><span class="o">.</span><span class="n">array</span><span class="p">(</span><span class="n">X_test6</span><span class="p">)</span>
<span class="n">y_test6</span>  <span class="o">=</span> <span class="n">np</span><span class="o">.</span><span class="n">array</span><span class="p">(</span><span class="n">y_test6</span><span class="p">)</span><span class="o">.</span><span class="n">squeeze</span><span class="p">()</span>
</pre></div>

     </div>
</div>
</div>
</div>

</div><div class="jp-Cell jp-CodeCell jp-Notebook-cell jp-mod-noOutputs  ">
<div class="jp-Cell-inputWrapper">
<div class="jp-InputArea jp-Cell-inputArea">
<div class="jp-InputPrompt jp-InputArea-prompt">In&nbsp;[216]:</div>
<div class="jp-CodeMirrorEditor jp-Editor jp-InputArea-editor" data-type="inline">
     <div class="CodeMirror cm-s-jupyter">
<div class=" highlight hl-ipython3"><pre><span></span><span class="kn">from</span> <span class="nn">pytorch_tabnet.tab_model</span> <span class="kn">import</span> <span class="n">TabNetClassifier</span>
</pre></div>

     </div>
</div>
</div>
</div>

</div><div class="jp-Cell jp-CodeCell jp-Notebook-cell jp-mod-noOutputs  ">
<div class="jp-Cell-inputWrapper">
<div class="jp-InputArea jp-Cell-inputArea">
<div class="jp-InputPrompt jp-InputArea-prompt">In&nbsp;[217]:</div>
<div class="jp-CodeMirrorEditor jp-Editor jp-InputArea-editor" data-type="inline">
     <div class="CodeMirror cm-s-jupyter">
<div class=" highlight hl-ipython3"><pre><span></span><span class="kn">import</span> <span class="nn">torch</span>
</pre></div>

     </div>
</div>
</div>
</div>

</div><div class="jp-Cell jp-CodeCell jp-Notebook-cell   ">
<div class="jp-Cell-inputWrapper">
<div class="jp-InputArea jp-Cell-inputArea">
<div class="jp-InputPrompt jp-InputArea-prompt">In&nbsp;[218]:</div>
<div class="jp-CodeMirrorEditor jp-Editor jp-InputArea-editor" data-type="inline">
     <div class="CodeMirror cm-s-jupyter">
<div class=" highlight hl-ipython3"><pre><span></span><span class="c1"># model1</span>
<span class="n">clf1</span> <span class="o">=</span> <span class="n">TabNetClassifier</span><span class="p">(</span><span class="n">seed</span><span class="o">=</span><span class="mi">0</span><span class="p">)</span>
<span class="n">clf1</span><span class="o">.</span><span class="n">fit</span><span class="p">(</span>
    <span class="n">X_train1</span><span class="p">,</span> <span class="n">y_train1</span><span class="p">,</span>
    <span class="n">eval_set</span><span class="o">=</span><span class="p">[(</span><span class="n">X_test</span><span class="p">,</span> <span class="n">y_test</span><span class="p">)],</span>
    <span class="n">patience</span><span class="o">=</span><span class="mi">30</span><span class="p">,</span><span class="n">max_epochs</span><span class="o">=</span><span class="mi">500</span><span class="p">,</span>
    <span class="n">eval_metric</span><span class="o">=</span><span class="p">[</span><span class="s1">&#39;auc&#39;</span><span class="p">]</span>
<span class="p">)</span>
</pre></div>

     </div>
</div>
</div>
</div>

<div class="jp-Cell-outputWrapper">


<div class="jp-OutputArea jp-Cell-outputArea">

<div class="jp-OutputArea-child">

    
    <div class="jp-OutputPrompt jp-OutputArea-prompt"></div>


<div class="jp-RenderedText jp-OutputArea-output" data-mime-type="text/plain">
<pre>Device used : cpu
epoch 0  | loss: 0.83    | val_0_auc: 0.47246 |  0:00:01s
epoch 1  | loss: 0.61081 | val_0_auc: 0.45552 |  0:00:03s
epoch 2  | loss: 0.54635 | val_0_auc: 0.44497 |  0:00:05s
epoch 3  | loss: 0.4728  | val_0_auc: 0.49626 |  0:00:06s
epoch 4  | loss: 0.41302 | val_0_auc: 0.56652 |  0:00:08s
epoch 5  | loss: 0.35993 | val_0_auc: 0.5495  |  0:00:10s
epoch 6  | loss: 0.33269 | val_0_auc: 0.5461  |  0:00:12s
epoch 7  | loss: 0.31894 | val_0_auc: 0.54394 |  0:00:14s
epoch 8  | loss: 0.30716 | val_0_auc: 0.57244 |  0:00:16s
epoch 9  | loss: 0.28638 | val_0_auc: 0.55515 |  0:00:18s
epoch 10 | loss: 0.27082 | val_0_auc: 0.64758 |  0:00:20s
epoch 11 | loss: 0.25646 | val_0_auc: 0.64037 |  0:00:22s
epoch 12 | loss: 0.25145 | val_0_auc: 0.59299 |  0:00:24s
epoch 13 | loss: 0.23775 | val_0_auc: 0.586   |  0:00:26s
epoch 14 | loss: 0.22458 | val_0_auc: 0.57606 |  0:00:27s
epoch 15 | loss: 0.22457 | val_0_auc: 0.55548 |  0:00:29s
epoch 16 | loss: 0.21792 | val_0_auc: 0.56652 |  0:00:31s
epoch 17 | loss: 0.21365 | val_0_auc: 0.5581  |  0:00:33s
epoch 18 | loss: 0.2084  | val_0_auc: 0.56792 |  0:00:34s
epoch 19 | loss: 0.19942 | val_0_auc: 0.58789 |  0:00:36s
epoch 20 | loss: 0.20346 | val_0_auc: 0.62034 |  0:00:38s
epoch 21 | loss: 0.19152 | val_0_auc: 0.63462 |  0:00:39s
epoch 22 | loss: 0.18588 | val_0_auc: 0.6381  |  0:00:41s
epoch 23 | loss: 0.17797 | val_0_auc: 0.67036 |  0:00:42s
epoch 24 | loss: 0.17628 | val_0_auc: 0.69656 |  0:00:44s
epoch 25 | loss: 0.17769 | val_0_auc: 0.70678 |  0:00:45s
epoch 26 | loss: 0.16807 | val_0_auc: 0.71946 |  0:00:47s
epoch 27 | loss: 0.18336 | val_0_auc: 0.71457 |  0:00:48s
epoch 28 | loss: 0.16445 | val_0_auc: 0.73029 |  0:00:50s
epoch 29 | loss: 0.15944 | val_0_auc: 0.7367  |  0:00:51s
epoch 30 | loss: 0.15844 | val_0_auc: 0.7431  |  0:00:53s
epoch 31 | loss: 0.15545 | val_0_auc: 0.75631 |  0:00:55s
epoch 32 | loss: 0.14865 | val_0_auc: 0.77329 |  0:00:56s
epoch 33 | loss: 0.15335 | val_0_auc: 0.78981 |  0:00:58s
epoch 34 | loss: 0.14807 | val_0_auc: 0.79204 |  0:00:59s
epoch 35 | loss: 0.1366  | val_0_auc: 0.83048 |  0:01:01s
epoch 36 | loss: 0.14279 | val_0_auc: 0.82793 |  0:01:02s
epoch 37 | loss: 0.13518 | val_0_auc: 0.81364 |  0:01:04s
epoch 38 | loss: 0.13771 | val_0_auc: 0.81387 |  0:01:05s
epoch 39 | loss: 0.13901 | val_0_auc: 0.81281 |  0:01:07s
epoch 40 | loss: 0.13173 | val_0_auc: 0.82047 |  0:01:08s
epoch 41 | loss: 0.12193 | val_0_auc: 0.82341 |  0:01:10s
epoch 42 | loss: 0.12715 | val_0_auc: 0.82213 |  0:01:11s
epoch 43 | loss: 0.12753 | val_0_auc: 0.84482 |  0:01:13s
epoch 44 | loss: 0.1206  | val_0_auc: 0.85399 |  0:01:14s
epoch 45 | loss: 0.13816 | val_0_auc: 0.86108 |  0:01:16s
epoch 46 | loss: 0.13949 | val_0_auc: 0.85408 |  0:01:17s
epoch 47 | loss: 0.14367 | val_0_auc: 0.85327 |  0:01:19s
epoch 48 | loss: 0.13062 | val_0_auc: 0.80467 |  0:01:20s
epoch 49 | loss: 0.12872 | val_0_auc: 0.84833 |  0:01:22s
epoch 50 | loss: 0.13404 | val_0_auc: 0.88606 |  0:01:24s
epoch 51 | loss: 0.12875 | val_0_auc: 0.87307 |  0:01:25s
epoch 52 | loss: 0.11314 | val_0_auc: 0.86933 |  0:01:27s
epoch 53 | loss: 0.10864 | val_0_auc: 0.87215 |  0:01:28s
epoch 54 | loss: 0.12192 | val_0_auc: 0.85734 |  0:01:30s
epoch 55 | loss: 0.12262 | val_0_auc: 0.86248 |  0:01:31s
epoch 56 | loss: 0.11878 | val_0_auc: 0.8538  |  0:01:33s
epoch 57 | loss: 0.12397 | val_0_auc: 0.87546 |  0:01:35s
epoch 58 | loss: 0.12222 | val_0_auc: 0.86157 |  0:01:36s
epoch 59 | loss: 0.12861 | val_0_auc: 0.87001 |  0:01:37s
epoch 60 | loss: 0.12145 | val_0_auc: 0.87786 |  0:01:39s
epoch 61 | loss: 0.13163 | val_0_auc: 0.88452 |  0:01:41s
epoch 62 | loss: 0.11291 | val_0_auc: 0.88278 |  0:01:42s
epoch 63 | loss: 0.10304 | val_0_auc: 0.88584 |  0:01:44s
epoch 64 | loss: 0.10276 | val_0_auc: 0.88074 |  0:01:45s
epoch 65 | loss: 0.09327 | val_0_auc: 0.88778 |  0:01:47s
epoch 66 | loss: 0.08908 | val_0_auc: 0.88316 |  0:01:48s
epoch 67 | loss: 0.08403 | val_0_auc: 0.89575 |  0:01:50s
epoch 68 | loss: 0.08134 | val_0_auc: 0.89338 |  0:01:51s
epoch 69 | loss: 0.07615 | val_0_auc: 0.8776  |  0:01:53s
epoch 70 | loss: 0.07709 | val_0_auc: 0.88499 |  0:01:54s
epoch 71 | loss: 0.07642 | val_0_auc: 0.88372 |  0:01:56s
epoch 72 | loss: 0.08689 | val_0_auc: 0.88207 |  0:01:57s
epoch 73 | loss: 0.08335 | val_0_auc: 0.87501 |  0:01:59s
epoch 74 | loss: 0.08144 | val_0_auc: 0.88146 |  0:02:00s
epoch 75 | loss: 0.07745 | val_0_auc: 0.88612 |  0:02:02s
epoch 76 | loss: 0.08728 | val_0_auc: 0.89274 |  0:02:03s
epoch 77 | loss: 0.09781 | val_0_auc: 0.89486 |  0:02:05s
epoch 78 | loss: 0.09639 | val_0_auc: 0.88672 |  0:02:06s
epoch 79 | loss: 0.08278 | val_0_auc: 0.88384 |  0:02:08s
epoch 80 | loss: 0.07163 | val_0_auc: 0.87998 |  0:02:09s
epoch 81 | loss: 0.07259 | val_0_auc: 0.87958 |  0:02:11s
epoch 82 | loss: 0.06412 | val_0_auc: 0.8777  |  0:02:12s
epoch 83 | loss: 0.07625 | val_0_auc: 0.88701 |  0:02:14s
epoch 84 | loss: 0.07164 | val_0_auc: 0.88443 |  0:02:15s
epoch 85 | loss: 0.06242 | val_0_auc: 0.89017 |  0:02:17s
epoch 86 | loss: 0.06694 | val_0_auc: 0.87722 |  0:02:18s
epoch 87 | loss: 0.0624  | val_0_auc: 0.8864  |  0:02:20s
epoch 88 | loss: 0.06338 | val_0_auc: 0.89798 |  0:02:24s
epoch 89 | loss: 0.06372 | val_0_auc: 0.88662 |  0:02:26s
epoch 90 | loss: 0.06622 | val_0_auc: 0.88842 |  0:02:30s
epoch 91 | loss: 0.06427 | val_0_auc: 0.88614 |  0:02:32s
epoch 92 | loss: 0.06104 | val_0_auc: 0.88959 |  0:02:34s
epoch 93 | loss: 0.05782 | val_0_auc: 0.89491 |  0:02:36s
epoch 94 | loss: 0.05941 | val_0_auc: 0.89279 |  0:02:38s
epoch 95 | loss: 0.0629  | val_0_auc: 0.87803 |  0:02:40s
epoch 96 | loss: 0.06479 | val_0_auc: 0.89184 |  0:02:41s
epoch 97 | loss: 0.06363 | val_0_auc: 0.88724 |  0:02:43s
epoch 98 | loss: 0.05947 | val_0_auc: 0.88375 |  0:02:45s
epoch 99 | loss: 0.0644  | val_0_auc: 0.89402 |  0:02:47s
epoch 100| loss: 0.06269 | val_0_auc: 0.88207 |  0:02:48s
epoch 101| loss: 0.07291 | val_0_auc: 0.87271 |  0:02:50s
epoch 102| loss: 0.09144 | val_0_auc: 0.87898 |  0:02:52s
epoch 103| loss: 0.09087 | val_0_auc: 0.87727 |  0:02:53s
epoch 104| loss: 0.08536 | val_0_auc: 0.88221 |  0:02:55s
epoch 105| loss: 0.08657 | val_0_auc: 0.86013 |  0:02:57s
epoch 106| loss: 0.08771 | val_0_auc: 0.86381 |  0:02:58s
epoch 107| loss: 0.08117 | val_0_auc: 0.86131 |  0:03:00s
epoch 108| loss: 0.07074 | val_0_auc: 0.86661 |  0:03:02s
epoch 109| loss: 0.06694 | val_0_auc: 0.86219 |  0:03:04s
epoch 110| loss: 0.062   | val_0_auc: 0.87207 |  0:03:07s
epoch 111| loss: 0.05884 | val_0_auc: 0.87472 |  0:03:10s
epoch 112| loss: 0.05775 | val_0_auc: 0.87519 |  0:03:12s
epoch 113| loss: 0.0593  | val_0_auc: 0.87568 |  0:03:14s
epoch 114| loss: 0.0627  | val_0_auc: 0.87954 |  0:03:16s
epoch 115| loss: 0.05763 | val_0_auc: 0.86999 |  0:03:18s
epoch 116| loss: 0.06331 | val_0_auc: 0.8665  |  0:03:19s
epoch 117| loss: 0.06133 | val_0_auc: 0.87452 |  0:03:21s
epoch 118| loss: 0.06186 | val_0_auc: 0.87857 |  0:03:22s

Early stopping occurred at epoch 118 with best_epoch = 88 and best_val_0_auc = 0.89798
Best weights from best epoch are automatically used!
</pre>
</div>
</div>

</div>

</div>

</div><div class="jp-Cell jp-CodeCell jp-Notebook-cell   ">
<div class="jp-Cell-inputWrapper">
<div class="jp-InputArea jp-Cell-inputArea">
<div class="jp-InputPrompt jp-InputArea-prompt">In&nbsp;[219]:</div>
<div class="jp-CodeMirrorEditor jp-Editor jp-InputArea-editor" data-type="inline">
     <div class="CodeMirror cm-s-jupyter">
<div class=" highlight hl-ipython3"><pre><span></span><span class="c1"># model2</span>
<span class="n">clf2</span> <span class="o">=</span> <span class="n">TabNetClassifier</span><span class="p">(</span><span class="n">seed</span><span class="o">=</span><span class="mi">0</span><span class="p">)</span>
<span class="n">clf2</span><span class="o">.</span><span class="n">fit</span><span class="p">(</span>
    <span class="n">X_train2</span><span class="p">,</span> <span class="n">y_train2</span><span class="p">,</span>
    <span class="n">eval_set</span><span class="o">=</span><span class="p">[(</span><span class="n">X_test2</span><span class="p">,</span> <span class="n">y_test2</span><span class="p">)],</span>
    <span class="n">patience</span><span class="o">=</span><span class="mi">30</span><span class="p">,</span><span class="n">max_epochs</span><span class="o">=</span><span class="mi">500</span><span class="p">,</span>
    <span class="n">eval_metric</span><span class="o">=</span><span class="p">[</span><span class="s1">&#39;auc&#39;</span><span class="p">]</span>
<span class="p">)</span>
</pre></div>

     </div>
</div>
</div>
</div>

<div class="jp-Cell-outputWrapper">


<div class="jp-OutputArea jp-Cell-outputArea">

<div class="jp-OutputArea-child">

    
    <div class="jp-OutputPrompt jp-OutputArea-prompt"></div>


<div class="jp-RenderedText jp-OutputArea-output" data-mime-type="text/plain">
<pre>Device used : cpu
epoch 0  | loss: 0.8441  | val_0_auc: 0.43387 |  0:00:01s
epoch 1  | loss: 0.66211 | val_0_auc: 0.48536 |  0:00:03s
epoch 2  | loss: 0.6036  | val_0_auc: 0.61214 |  0:00:04s
epoch 3  | loss: 0.55172 | val_0_auc: 0.58561 |  0:00:06s
epoch 4  | loss: 0.4858  | val_0_auc: 0.5201  |  0:00:07s
epoch 5  | loss: 0.45048 | val_0_auc: 0.5459  |  0:00:09s
epoch 6  | loss: 0.40448 | val_0_auc: 0.52664 |  0:00:11s
epoch 7  | loss: 0.36425 | val_0_auc: 0.66033 |  0:00:13s
epoch 8  | loss: 0.34325 | val_0_auc: 0.5239  |  0:00:14s
epoch 9  | loss: 0.31978 | val_0_auc: 0.53089 |  0:00:16s
epoch 10 | loss: 0.31105 | val_0_auc: 0.59083 |  0:00:17s
epoch 11 | loss: 0.29223 | val_0_auc: 0.54943 |  0:00:19s
epoch 12 | loss: 0.27879 | val_0_auc: 0.55379 |  0:00:20s
epoch 13 | loss: 0.26986 | val_0_auc: 0.50793 |  0:00:22s
epoch 14 | loss: 0.25867 | val_0_auc: 0.57093 |  0:00:23s
epoch 15 | loss: 0.24988 | val_0_auc: 0.58875 |  0:00:25s
epoch 16 | loss: 0.24282 | val_0_auc: 0.59041 |  0:00:26s
epoch 17 | loss: 0.24539 | val_0_auc: 0.5867  |  0:00:28s
epoch 18 | loss: 0.23796 | val_0_auc: 0.61034 |  0:00:30s
epoch 19 | loss: 0.23018 | val_0_auc: 0.61145 |  0:00:31s
epoch 20 | loss: 0.21735 | val_0_auc: 0.6442  |  0:00:33s
epoch 21 | loss: 0.2107  | val_0_auc: 0.63308 |  0:00:34s
epoch 22 | loss: 0.19906 | val_0_auc: 0.61336 |  0:00:36s
epoch 23 | loss: 0.20129 | val_0_auc: 0.63283 |  0:00:38s
epoch 24 | loss: 0.19286 | val_0_auc: 0.66475 |  0:00:40s
epoch 25 | loss: 0.18576 | val_0_auc: 0.70783 |  0:00:41s
epoch 26 | loss: 0.18831 | val_0_auc: 0.71893 |  0:00:43s
epoch 27 | loss: 0.1787  | val_0_auc: 0.70127 |  0:00:44s
epoch 28 | loss: 0.17561 | val_0_auc: 0.74771 |  0:00:47s
epoch 29 | loss: 0.16581 | val_0_auc: 0.77376 |  0:00:48s
epoch 30 | loss: 0.17386 | val_0_auc: 0.76289 |  0:00:50s
epoch 31 | loss: 0.17696 | val_0_auc: 0.79483 |  0:00:51s
epoch 32 | loss: 0.16437 | val_0_auc: 0.80105 |  0:00:53s
epoch 33 | loss: 0.1591  | val_0_auc: 0.79151 |  0:00:55s
epoch 34 | loss: 0.15506 | val_0_auc: 0.79689 |  0:00:57s
epoch 35 | loss: 0.14984 | val_0_auc: 0.77398 |  0:00:58s
epoch 36 | loss: 0.14887 | val_0_auc: 0.78152 |  0:01:00s
epoch 37 | loss: 0.14486 | val_0_auc: 0.80567 |  0:01:01s
epoch 38 | loss: 0.14664 | val_0_auc: 0.81582 |  0:01:03s
epoch 39 | loss: 0.14277 | val_0_auc: 0.82292 |  0:01:04s
epoch 40 | loss: 0.14527 | val_0_auc: 0.83002 |  0:01:06s
epoch 41 | loss: 0.14391 | val_0_auc: 0.82526 |  0:01:08s
epoch 42 | loss: 0.13554 | val_0_auc: 0.82986 |  0:01:09s
epoch 43 | loss: 0.13443 | val_0_auc: 0.81992 |  0:01:11s
epoch 44 | loss: 0.13518 | val_0_auc: 0.78196 |  0:01:12s
epoch 45 | loss: 0.12698 | val_0_auc: 0.81378 |  0:01:14s
epoch 46 | loss: 0.12655 | val_0_auc: 0.78695 |  0:01:15s
epoch 47 | loss: 0.12178 | val_0_auc: 0.83288 |  0:01:17s
epoch 48 | loss: 0.12117 | val_0_auc: 0.84103 |  0:01:19s
epoch 49 | loss: 0.11509 | val_0_auc: 0.86368 |  0:01:20s
epoch 50 | loss: 0.11433 | val_0_auc: 0.86773 |  0:01:22s
epoch 51 | loss: 0.10809 | val_0_auc: 0.86005 |  0:01:23s
epoch 52 | loss: 0.10769 | val_0_auc: 0.87491 |  0:01:25s
epoch 53 | loss: 0.10271 | val_0_auc: 0.86941 |  0:01:27s
epoch 54 | loss: 0.10502 | val_0_auc: 0.85998 |  0:01:28s
epoch 55 | loss: 0.10644 | val_0_auc: 0.88318 |  0:01:30s
epoch 56 | loss: 0.10152 | val_0_auc: 0.8854  |  0:01:31s
epoch 57 | loss: 0.10568 | val_0_auc: 0.8978  |  0:01:33s
epoch 58 | loss: 0.10026 | val_0_auc: 0.89739 |  0:01:34s
epoch 59 | loss: 0.09823 | val_0_auc: 0.88447 |  0:01:36s
epoch 60 | loss: 0.09407 | val_0_auc: 0.88689 |  0:01:37s
epoch 61 | loss: 0.09823 | val_0_auc: 0.8969  |  0:01:39s
epoch 62 | loss: 0.09339 | val_0_auc: 0.88453 |  0:01:40s
epoch 63 | loss: 0.1037  | val_0_auc: 0.89649 |  0:01:42s
epoch 64 | loss: 0.10351 | val_0_auc: 0.89215 |  0:01:44s
epoch 65 | loss: 0.08935 | val_0_auc: 0.88491 |  0:01:46s
epoch 66 | loss: 0.08948 | val_0_auc: 0.89283 |  0:01:48s
epoch 67 | loss: 0.08463 | val_0_auc: 0.89671 |  0:01:50s
epoch 68 | loss: 0.08813 | val_0_auc: 0.90017 |  0:01:53s
epoch 69 | loss: 0.08838 | val_0_auc: 0.89528 |  0:01:54s
epoch 70 | loss: 0.0892  | val_0_auc: 0.9011  |  0:01:56s
epoch 71 | loss: 0.08578 | val_0_auc: 0.88546 |  0:01:58s
epoch 72 | loss: 0.0861  | val_0_auc: 0.87719 |  0:02:00s
epoch 73 | loss: 0.08153 | val_0_auc: 0.89353 |  0:02:01s
epoch 74 | loss: 0.08403 | val_0_auc: 0.90689 |  0:02:03s
epoch 75 | loss: 0.07896 | val_0_auc: 0.90335 |  0:02:05s
epoch 76 | loss: 0.08187 | val_0_auc: 0.90223 |  0:02:06s
epoch 77 | loss: 0.07991 | val_0_auc: 0.90435 |  0:02:08s
epoch 78 | loss: 0.07763 | val_0_auc: 0.90169 |  0:02:09s
epoch 79 | loss: 0.07801 | val_0_auc: 0.9064  |  0:02:11s
epoch 80 | loss: 0.07496 | val_0_auc: 0.90153 |  0:02:13s
epoch 81 | loss: 0.07611 | val_0_auc: 0.90047 |  0:02:15s
epoch 82 | loss: 0.07991 | val_0_auc: 0.90299 |  0:02:17s
epoch 83 | loss: 0.07386 | val_0_auc: 0.88971 |  0:02:19s
epoch 84 | loss: 0.06583 | val_0_auc: 0.89372 |  0:02:21s
epoch 85 | loss: 0.0714  | val_0_auc: 0.89213 |  0:02:23s
epoch 86 | loss: 0.07015 | val_0_auc: 0.88766 |  0:02:25s
epoch 87 | loss: 0.06626 | val_0_auc: 0.90797 |  0:02:27s
epoch 88 | loss: 0.07219 | val_0_auc: 0.89539 |  0:02:28s
epoch 89 | loss: 0.07314 | val_0_auc: 0.89851 |  0:02:30s
epoch 90 | loss: 0.07323 | val_0_auc: 0.91177 |  0:02:31s
epoch 91 | loss: 0.06792 | val_0_auc: 0.91278 |  0:02:33s
epoch 92 | loss: 0.07017 | val_0_auc: 0.90593 |  0:02:34s
epoch 93 | loss: 0.07315 | val_0_auc: 0.90423 |  0:02:36s
epoch 94 | loss: 0.07033 | val_0_auc: 0.90461 |  0:02:38s
epoch 95 | loss: 0.06842 | val_0_auc: 0.90394 |  0:02:39s
epoch 96 | loss: 0.07389 | val_0_auc: 0.89478 |  0:02:41s
epoch 97 | loss: 0.06907 | val_0_auc: 0.8919  |  0:02:42s
epoch 98 | loss: 0.07558 | val_0_auc: 0.88973 |  0:02:44s
epoch 99 | loss: 0.06819 | val_0_auc: 0.89008 |  0:02:45s
epoch 100| loss: 0.06635 | val_0_auc: 0.89834 |  0:02:47s
epoch 101| loss: 0.07186 | val_0_auc: 0.89749 |  0:02:48s
epoch 102| loss: 0.06004 | val_0_auc: 0.89477 |  0:02:50s
epoch 103| loss: 0.06707 | val_0_auc: 0.89793 |  0:02:51s
epoch 104| loss: 0.07124 | val_0_auc: 0.89718 |  0:02:53s
epoch 105| loss: 0.07076 | val_0_auc: 0.90667 |  0:02:54s
epoch 106| loss: 0.0698  | val_0_auc: 0.89986 |  0:02:56s
epoch 107| loss: 0.06347 | val_0_auc: 0.90849 |  0:02:57s
epoch 108| loss: 0.07156 | val_0_auc: 0.90267 |  0:02:59s
epoch 109| loss: 0.0651  | val_0_auc: 0.90223 |  0:03:00s
epoch 110| loss: 0.06723 | val_0_auc: 0.90094 |  0:03:02s
epoch 111| loss: 0.05765 | val_0_auc: 0.8934  |  0:03:03s
epoch 112| loss: 0.05848 | val_0_auc: 0.90518 |  0:03:05s
epoch 113| loss: 0.05633 | val_0_auc: 0.89615 |  0:03:07s
epoch 114| loss: 0.05553 | val_0_auc: 0.91304 |  0:03:08s
epoch 115| loss: 0.06121 | val_0_auc: 0.89888 |  0:03:10s
epoch 116| loss: 0.05852 | val_0_auc: 0.9087  |  0:03:11s
epoch 117| loss: 0.05932 | val_0_auc: 0.90713 |  0:03:13s
epoch 118| loss: 0.05783 | val_0_auc: 0.8944  |  0:03:15s
epoch 119| loss: 0.05688 | val_0_auc: 0.90922 |  0:03:16s
epoch 120| loss: 0.07272 | val_0_auc: 0.91147 |  0:03:18s
epoch 121| loss: 0.07171 | val_0_auc: 0.90666 |  0:03:19s
epoch 122| loss: 0.0714  | val_0_auc: 0.90145 |  0:03:21s
epoch 123| loss: 0.06897 | val_0_auc: 0.897   |  0:03:22s
epoch 124| loss: 0.0674  | val_0_auc: 0.89307 |  0:03:24s
epoch 125| loss: 0.06424 | val_0_auc: 0.90782 |  0:03:25s
epoch 126| loss: 0.06654 | val_0_auc: 0.92056 |  0:03:27s
epoch 127| loss: 0.06477 | val_0_auc: 0.91267 |  0:03:29s
epoch 128| loss: 0.06335 | val_0_auc: 0.91088 |  0:03:30s
epoch 129| loss: 0.06097 | val_0_auc: 0.9188  |  0:03:32s
epoch 130| loss: 0.05364 | val_0_auc: 0.91628 |  0:03:33s
epoch 131| loss: 0.05131 | val_0_auc: 0.91598 |  0:03:35s
epoch 132| loss: 0.05214 | val_0_auc: 0.90514 |  0:03:37s
epoch 133| loss: 0.06413 | val_0_auc: 0.90257 |  0:03:38s
epoch 134| loss: 0.06426 | val_0_auc: 0.90955 |  0:03:40s
epoch 135| loss: 0.06135 | val_0_auc: 0.92054 |  0:03:41s
epoch 136| loss: 0.05384 | val_0_auc: 0.92524 |  0:03:43s
epoch 137| loss: 0.05527 | val_0_auc: 0.91545 |  0:03:44s
epoch 138| loss: 0.05042 | val_0_auc: 0.90687 |  0:03:46s
epoch 139| loss: 0.05091 | val_0_auc: 0.91001 |  0:03:47s
epoch 140| loss: 0.04644 | val_0_auc: 0.91329 |  0:03:49s
epoch 141| loss: 0.04504 | val_0_auc: 0.91064 |  0:03:50s
epoch 142| loss: 0.03859 | val_0_auc: 0.90525 |  0:03:52s
epoch 143| loss: 0.04711 | val_0_auc: 0.91045 |  0:03:54s
epoch 144| loss: 0.05857 | val_0_auc: 0.91406 |  0:03:55s
epoch 145| loss: 0.05153 | val_0_auc: 0.9115  |  0:03:58s
epoch 146| loss: 0.06012 | val_0_auc: 0.90219 |  0:04:00s
epoch 147| loss: 0.0752  | val_0_auc: 0.89715 |  0:04:02s
epoch 148| loss: 0.06672 | val_0_auc: 0.89755 |  0:04:04s
epoch 149| loss: 0.06492 | val_0_auc: 0.9137  |  0:04:06s
epoch 150| loss: 0.05556 | val_0_auc: 0.90723 |  0:04:09s
epoch 151| loss: 0.05427 | val_0_auc: 0.90892 |  0:04:11s
epoch 152| loss: 0.04898 | val_0_auc: 0.91781 |  0:04:13s
epoch 153| loss: 0.05878 | val_0_auc: 0.92332 |  0:04:15s
epoch 154| loss: 0.05366 | val_0_auc: 0.91072 |  0:04:16s
epoch 155| loss: 0.05347 | val_0_auc: 0.89025 |  0:04:18s
epoch 156| loss: 0.04945 | val_0_auc: 0.90714 |  0:04:20s
epoch 157| loss: 0.05751 | val_0_auc: 0.91902 |  0:04:22s
epoch 158| loss: 0.05715 | val_0_auc: 0.91384 |  0:04:23s
epoch 159| loss: 0.04465 | val_0_auc: 0.90825 |  0:04:25s
epoch 160| loss: 0.05091 | val_0_auc: 0.91113 |  0:04:27s
epoch 161| loss: 0.0528  | val_0_auc: 0.9306  |  0:04:28s
epoch 162| loss: 0.04306 | val_0_auc: 0.91112 |  0:04:31s
epoch 163| loss: 0.04339 | val_0_auc: 0.90469 |  0:04:32s
epoch 164| loss: 0.0481  | val_0_auc: 0.92023 |  0:04:34s
epoch 165| loss: 0.03828 | val_0_auc: 0.91989 |  0:04:37s
epoch 166| loss: 0.04657 | val_0_auc: 0.92022 |  0:04:39s
epoch 167| loss: 0.04779 | val_0_auc: 0.91847 |  0:04:40s
epoch 168| loss: 0.04476 | val_0_auc: 0.92476 |  0:04:42s
epoch 169| loss: 0.04355 | val_0_auc: 0.92198 |  0:04:43s
epoch 170| loss: 0.04349 | val_0_auc: 0.91119 |  0:04:45s
epoch 171| loss: 0.04162 | val_0_auc: 0.9123  |  0:04:46s
epoch 172| loss: 0.04215 | val_0_auc: 0.91438 |  0:04:48s
epoch 173| loss: 0.03974 | val_0_auc: 0.92292 |  0:04:49s
epoch 174| loss: 0.03916 | val_0_auc: 0.92198 |  0:04:51s
epoch 175| loss: 0.04154 | val_0_auc: 0.91013 |  0:04:52s
epoch 176| loss: 0.03926 | val_0_auc: 0.90904 |  0:04:54s
epoch 177| loss: 0.03825 | val_0_auc: 0.91303 |  0:04:55s
epoch 178| loss: 0.03699 | val_0_auc: 0.91022 |  0:04:57s
epoch 179| loss: 0.04369 | val_0_auc: 0.90959 |  0:04:58s
epoch 180| loss: 0.04178 | val_0_auc: 0.91083 |  0:05:00s
epoch 181| loss: 0.03576 | val_0_auc: 0.90597 |  0:05:02s
epoch 182| loss: 0.03632 | val_0_auc: 0.89367 |  0:05:03s
epoch 183| loss: 0.0377  | val_0_auc: 0.89133 |  0:05:05s
epoch 184| loss: 0.03803 | val_0_auc: 0.90497 |  0:05:06s
epoch 185| loss: 0.04032 | val_0_auc: 0.9131  |  0:05:09s
epoch 186| loss: 0.04105 | val_0_auc: 0.9131  |  0:05:11s
epoch 187| loss: 0.04431 | val_0_auc: 0.91069 |  0:05:13s
epoch 188| loss: 0.0418  | val_0_auc: 0.91231 |  0:05:15s
epoch 189| loss: 0.03698 | val_0_auc: 0.90574 |  0:05:17s
epoch 190| loss: 0.04008 | val_0_auc: 0.91172 |  0:05:18s
epoch 191| loss: 0.03849 | val_0_auc: 0.91259 |  0:05:20s

Early stopping occurred at epoch 191 with best_epoch = 161 and best_val_0_auc = 0.9306
Best weights from best epoch are automatically used!
</pre>
</div>
</div>

</div>

</div>

</div><div class="jp-Cell jp-CodeCell jp-Notebook-cell   ">
<div class="jp-Cell-inputWrapper">
<div class="jp-InputArea jp-Cell-inputArea">
<div class="jp-InputPrompt jp-InputArea-prompt">In&nbsp;[220]:</div>
<div class="jp-CodeMirrorEditor jp-Editor jp-InputArea-editor" data-type="inline">
     <div class="CodeMirror cm-s-jupyter">
<div class=" highlight hl-ipython3"><pre><span></span><span class="c1"># model3</span>
<span class="n">clf3</span> <span class="o">=</span> <span class="n">TabNetClassifier</span><span class="p">(</span><span class="n">seed</span><span class="o">=</span><span class="mi">0</span><span class="p">)</span>
<span class="n">clf3</span><span class="o">.</span><span class="n">fit</span><span class="p">(</span>
    <span class="n">X_train3</span><span class="p">,</span> <span class="n">y_train3</span><span class="p">,</span>
    <span class="n">eval_set</span><span class="o">=</span><span class="p">[(</span><span class="n">X_test3</span><span class="p">,</span> <span class="n">y_test3</span><span class="p">)],</span>
    <span class="n">patience</span><span class="o">=</span><span class="mi">30</span><span class="p">,</span><span class="n">max_epochs</span><span class="o">=</span><span class="mi">500</span><span class="p">,</span>
    <span class="n">eval_metric</span><span class="o">=</span><span class="p">[</span><span class="s1">&#39;auc&#39;</span><span class="p">]</span>
<span class="p">)</span>
</pre></div>

     </div>
</div>
</div>
</div>

<div class="jp-Cell-outputWrapper">


<div class="jp-OutputArea jp-Cell-outputArea">

<div class="jp-OutputArea-child">

    
    <div class="jp-OutputPrompt jp-OutputArea-prompt"></div>


<div class="jp-RenderedText jp-OutputArea-output" data-mime-type="text/plain">
<pre>Device used : cpu
epoch 0  | loss: 0.81977 | val_0_auc: 0.4318  |  0:00:01s
epoch 1  | loss: 0.65499 | val_0_auc: 0.45938 |  0:00:03s
epoch 2  | loss: 0.57744 | val_0_auc: 0.5542  |  0:00:05s
epoch 3  | loss: 0.5143  | val_0_auc: 0.59091 |  0:00:07s
epoch 4  | loss: 0.44415 | val_0_auc: 0.59978 |  0:00:09s
epoch 5  | loss: 0.40495 | val_0_auc: 0.52361 |  0:00:10s
epoch 6  | loss: 0.33702 | val_0_auc: 0.53329 |  0:00:13s
epoch 7  | loss: 0.28309 | val_0_auc: 0.5414  |  0:00:14s
epoch 8  | loss: 0.25684 | val_0_auc: 0.54431 |  0:00:16s
epoch 9  | loss: 0.23359 | val_0_auc: 0.45833 |  0:00:18s
epoch 10 | loss: 0.22764 | val_0_auc: 0.53645 |  0:00:21s
epoch 11 | loss: 0.20666 | val_0_auc: 0.62937 |  0:00:22s
epoch 12 | loss: 0.20882 | val_0_auc: 0.49986 |  0:00:24s
epoch 13 | loss: 0.21595 | val_0_auc: 0.51613 |  0:00:25s
epoch 14 | loss: 0.19747 | val_0_auc: 0.4588  |  0:00:27s
epoch 15 | loss: 0.17588 | val_0_auc: 0.46893 |  0:00:28s
epoch 16 | loss: 0.17675 | val_0_auc: 0.65986 |  0:00:30s
epoch 17 | loss: 0.17556 | val_0_auc: 0.58126 |  0:00:31s
epoch 18 | loss: 0.17042 | val_0_auc: 0.48005 |  0:00:33s
epoch 19 | loss: 0.17705 | val_0_auc: 0.49387 |  0:00:34s
epoch 20 | loss: 0.16613 | val_0_auc: 0.58958 |  0:00:36s
epoch 21 | loss: 0.16183 | val_0_auc: 0.63138 |  0:00:37s
epoch 22 | loss: 0.15198 | val_0_auc: 0.72472 |  0:00:39s
epoch 23 | loss: 0.1441  | val_0_auc: 0.73081 |  0:00:40s
epoch 24 | loss: 0.14585 | val_0_auc: 0.72    |  0:00:42s
epoch 25 | loss: 0.13701 | val_0_auc: 0.71541 |  0:00:43s
epoch 26 | loss: 0.13647 | val_0_auc: 0.70392 |  0:00:45s
epoch 27 | loss: 0.13059 | val_0_auc: 0.71157 |  0:00:46s
epoch 28 | loss: 0.12404 | val_0_auc: 0.77858 |  0:00:48s
epoch 29 | loss: 0.12206 | val_0_auc: 0.77599 |  0:00:49s
epoch 30 | loss: 0.12264 | val_0_auc: 0.79426 |  0:00:51s
epoch 31 | loss: 0.11582 | val_0_auc: 0.80149 |  0:00:53s
epoch 32 | loss: 0.10996 | val_0_auc: 0.79475 |  0:00:54s
epoch 33 | loss: 0.11003 | val_0_auc: 0.82184 |  0:00:56s
epoch 34 | loss: 0.1093  | val_0_auc: 0.82559 |  0:00:58s
epoch 35 | loss: 0.10297 | val_0_auc: 0.81867 |  0:01:00s
epoch 36 | loss: 0.10898 | val_0_auc: 0.83151 |  0:01:02s
epoch 37 | loss: 0.09471 | val_0_auc: 0.84386 |  0:01:03s
epoch 38 | loss: 0.106   | val_0_auc: 0.85515 |  0:01:05s
epoch 39 | loss: 0.10098 | val_0_auc: 0.86208 |  0:01:07s
epoch 40 | loss: 0.08978 | val_0_auc: 0.8683  |  0:01:09s
epoch 41 | loss: 0.09119 | val_0_auc: 0.8648  |  0:01:10s
epoch 42 | loss: 0.08704 | val_0_auc: 0.86323 |  0:01:12s
epoch 43 | loss: 0.08413 | val_0_auc: 0.86957 |  0:01:14s
epoch 44 | loss: 0.09414 | val_0_auc: 0.86261 |  0:01:15s
epoch 45 | loss: 0.09164 | val_0_auc: 0.86419 |  0:01:17s
epoch 46 | loss: 0.09513 | val_0_auc: 0.86915 |  0:01:18s
epoch 47 | loss: 0.089   | val_0_auc: 0.8831  |  0:01:20s
epoch 48 | loss: 0.08153 | val_0_auc: 0.87324 |  0:01:21s
epoch 49 | loss: 0.08208 | val_0_auc: 0.87651 |  0:01:23s
epoch 50 | loss: 0.07789 | val_0_auc: 0.87815 |  0:01:25s
epoch 51 | loss: 0.0799  | val_0_auc: 0.87872 |  0:01:27s
epoch 52 | loss: 0.08207 | val_0_auc: 0.88325 |  0:01:28s
epoch 53 | loss: 0.0893  | val_0_auc: 0.89049 |  0:01:30s
epoch 54 | loss: 0.08292 | val_0_auc: 0.89946 |  0:01:32s
epoch 55 | loss: 0.0809  | val_0_auc: 0.89233 |  0:01:34s
epoch 56 | loss: 0.07341 | val_0_auc: 0.89873 |  0:01:35s
epoch 57 | loss: 0.08218 | val_0_auc: 0.88676 |  0:01:37s
epoch 58 | loss: 0.07766 | val_0_auc: 0.8923  |  0:01:39s
epoch 59 | loss: 0.07718 | val_0_auc: 0.90061 |  0:01:40s
epoch 60 | loss: 0.07094 | val_0_auc: 0.88332 |  0:01:42s
epoch 61 | loss: 0.07481 | val_0_auc: 0.8802  |  0:01:43s
epoch 62 | loss: 0.06454 | val_0_auc: 0.88399 |  0:01:45s
epoch 63 | loss: 0.07038 | val_0_auc: 0.89362 |  0:01:47s
epoch 64 | loss: 0.07082 | val_0_auc: 0.89321 |  0:01:49s
epoch 65 | loss: 0.075   | val_0_auc: 0.88116 |  0:01:51s
epoch 66 | loss: 0.0697  | val_0_auc: 0.89212 |  0:01:53s
epoch 67 | loss: 0.05921 | val_0_auc: 0.89731 |  0:01:54s
epoch 68 | loss: 0.05928 | val_0_auc: 0.89873 |  0:01:56s
epoch 69 | loss: 0.06703 | val_0_auc: 0.87742 |  0:01:58s
epoch 70 | loss: 0.06832 | val_0_auc: 0.8798  |  0:02:00s
epoch 71 | loss: 0.07661 | val_0_auc: 0.88315 |  0:02:02s
epoch 72 | loss: 0.05969 | val_0_auc: 0.88372 |  0:02:03s
epoch 73 | loss: 0.06126 | val_0_auc: 0.88819 |  0:02:05s
epoch 74 | loss: 0.05916 | val_0_auc: 0.87844 |  0:02:07s
epoch 75 | loss: 0.05578 | val_0_auc: 0.87903 |  0:02:09s
epoch 76 | loss: 0.06098 | val_0_auc: 0.88974 |  0:02:10s
epoch 77 | loss: 0.06067 | val_0_auc: 0.88953 |  0:02:12s
epoch 78 | loss: 0.05362 | val_0_auc: 0.88271 |  0:02:14s
epoch 79 | loss: 0.05569 | val_0_auc: 0.87056 |  0:02:15s
epoch 80 | loss: 0.05213 | val_0_auc: 0.87925 |  0:02:17s
epoch 81 | loss: 0.05168 | val_0_auc: 0.88074 |  0:02:19s
epoch 82 | loss: 0.05035 | val_0_auc: 0.88381 |  0:02:20s
epoch 83 | loss: 0.05083 | val_0_auc: 0.87098 |  0:02:22s
epoch 84 | loss: 0.05603 | val_0_auc: 0.87762 |  0:02:23s
epoch 85 | loss: 0.05014 | val_0_auc: 0.85456 |  0:02:25s
epoch 86 | loss: 0.05691 | val_0_auc: 0.87989 |  0:02:27s
epoch 87 | loss: 0.05331 | val_0_auc: 0.88196 |  0:02:29s
epoch 88 | loss: 0.06045 | val_0_auc: 0.89251 |  0:02:30s
epoch 89 | loss: 0.05459 | val_0_auc: 0.9011  |  0:02:32s
epoch 90 | loss: 0.05204 | val_0_auc: 0.88192 |  0:02:34s
epoch 91 | loss: 0.04563 | val_0_auc: 0.8704  |  0:02:36s
epoch 92 | loss: 0.0544  | val_0_auc: 0.88007 |  0:02:38s
epoch 93 | loss: 0.05713 | val_0_auc: 0.88438 |  0:02:40s
epoch 94 | loss: 0.05258 | val_0_auc: 0.8829  |  0:02:42s
epoch 95 | loss: 0.04488 | val_0_auc: 0.87674 |  0:02:43s
epoch 96 | loss: 0.0577  | val_0_auc: 0.87434 |  0:02:45s
epoch 97 | loss: 0.06786 | val_0_auc: 0.87156 |  0:02:47s
epoch 98 | loss: 0.07223 | val_0_auc: 0.86361 |  0:02:48s
epoch 99 | loss: 0.0633  | val_0_auc: 0.88382 |  0:02:50s
epoch 100| loss: 0.0743  | val_0_auc: 0.89409 |  0:02:52s
epoch 101| loss: 0.06431 | val_0_auc: 0.90262 |  0:02:53s
epoch 102| loss: 0.06777 | val_0_auc: 0.90015 |  0:02:55s
epoch 103| loss: 0.05311 | val_0_auc: 0.89618 |  0:02:57s
epoch 104| loss: 0.05738 | val_0_auc: 0.88533 |  0:02:59s
epoch 105| loss: 0.05766 | val_0_auc: 0.88744 |  0:03:00s
epoch 106| loss: 0.06002 | val_0_auc: 0.88496 |  0:03:02s
epoch 107| loss: 0.05127 | val_0_auc: 0.87449 |  0:03:04s
epoch 108| loss: 0.05482 | val_0_auc: 0.87919 |  0:03:05s
epoch 109| loss: 0.05215 | val_0_auc: 0.88316 |  0:03:07s
epoch 110| loss: 0.05502 | val_0_auc: 0.8681  |  0:03:09s
epoch 111| loss: 0.0499  | val_0_auc: 0.868   |  0:03:10s
epoch 112| loss: 0.05212 | val_0_auc: 0.88547 |  0:03:12s
epoch 113| loss: 0.05192 | val_0_auc: 0.88444 |  0:03:14s
epoch 114| loss: 0.04762 | val_0_auc: 0.86778 |  0:03:16s
epoch 115| loss: 0.04733 | val_0_auc: 0.87105 |  0:03:17s
epoch 116| loss: 0.04226 | val_0_auc: 0.87822 |  0:03:19s
epoch 117| loss: 0.04221 | val_0_auc: 0.87735 |  0:03:21s
epoch 118| loss: 0.04683 | val_0_auc: 0.88057 |  0:03:22s
epoch 119| loss: 0.04432 | val_0_auc: 0.88458 |  0:03:24s
epoch 120| loss: 0.05205 | val_0_auc: 0.87536 |  0:03:26s
epoch 121| loss: 0.07066 | val_0_auc: 0.88125 |  0:03:27s
epoch 122| loss: 0.08033 | val_0_auc: 0.89409 |  0:03:29s
epoch 123| loss: 0.06406 | val_0_auc: 0.90254 |  0:03:31s
epoch 124| loss: 0.05436 | val_0_auc: 0.88379 |  0:03:33s
epoch 125| loss: 0.05574 | val_0_auc: 0.883   |  0:03:34s
epoch 126| loss: 0.05364 | val_0_auc: 0.87864 |  0:03:36s
epoch 127| loss: 0.04659 | val_0_auc: 0.87646 |  0:03:38s
epoch 128| loss: 0.04819 | val_0_auc: 0.88619 |  0:03:40s
epoch 129| loss: 0.04232 | val_0_auc: 0.89071 |  0:03:41s
epoch 130| loss: 0.0395  | val_0_auc: 0.89016 |  0:03:43s
epoch 131| loss: 0.04044 | val_0_auc: 0.89025 |  0:03:45s

Early stopping occurred at epoch 131 with best_epoch = 101 and best_val_0_auc = 0.90262
Best weights from best epoch are automatically used!
</pre>
</div>
</div>

</div>

</div>

</div><div class="jp-Cell jp-CodeCell jp-Notebook-cell   ">
<div class="jp-Cell-inputWrapper">
<div class="jp-InputArea jp-Cell-inputArea">
<div class="jp-InputPrompt jp-InputArea-prompt">In&nbsp;[221]:</div>
<div class="jp-CodeMirrorEditor jp-Editor jp-InputArea-editor" data-type="inline">
     <div class="CodeMirror cm-s-jupyter">
<div class=" highlight hl-ipython3"><pre><span></span><span class="c1"># model4</span>
<span class="n">clf4</span> <span class="o">=</span> <span class="n">TabNetClassifier</span><span class="p">(</span><span class="n">seed</span><span class="o">=</span><span class="mi">0</span><span class="p">)</span>
<span class="n">clf4</span><span class="o">.</span><span class="n">fit</span><span class="p">(</span>
    <span class="n">X_train4</span><span class="p">,</span> <span class="n">y_train4</span><span class="p">,</span>
    <span class="n">eval_set</span><span class="o">=</span><span class="p">[(</span><span class="n">X_test4</span><span class="p">,</span> <span class="n">y_test4</span><span class="p">)],</span>
    <span class="n">patience</span><span class="o">=</span><span class="mi">30</span><span class="p">,</span><span class="n">max_epochs</span><span class="o">=</span><span class="mi">500</span><span class="p">,</span>
    <span class="n">eval_metric</span><span class="o">=</span><span class="p">[</span><span class="s1">&#39;auc&#39;</span><span class="p">]</span>
<span class="p">)</span>
</pre></div>

     </div>
</div>
</div>
</div>

<div class="jp-Cell-outputWrapper">


<div class="jp-OutputArea jp-Cell-outputArea">

<div class="jp-OutputArea-child">

    
    <div class="jp-OutputPrompt jp-OutputArea-prompt"></div>


<div class="jp-RenderedText jp-OutputArea-output" data-mime-type="text/plain">
<pre>Device used : cpu
epoch 0  | loss: 0.81672 | val_0_auc: 0.36688 |  0:00:01s
epoch 1  | loss: 0.60162 | val_0_auc: 0.46427 |  0:00:03s
epoch 2  | loss: 0.53015 | val_0_auc: 0.48599 |  0:00:04s
epoch 3  | loss: 0.4537  | val_0_auc: 0.42238 |  0:00:06s
epoch 4  | loss: 0.374   | val_0_auc: 0.42778 |  0:00:08s
epoch 5  | loss: 0.33458 | val_0_auc: 0.54379 |  0:00:10s
epoch 6  | loss: 0.30104 | val_0_auc: 0.56806 |  0:00:11s
epoch 7  | loss: 0.29285 | val_0_auc: 0.59955 |  0:00:13s
epoch 8  | loss: 0.27739 | val_0_auc: 0.56952 |  0:00:15s
epoch 9  | loss: 0.25535 | val_0_auc: 0.57003 |  0:00:16s
epoch 10 | loss: 0.24386 | val_0_auc: 0.59304 |  0:00:18s
epoch 11 | loss: 0.23597 | val_0_auc: 0.61202 |  0:00:20s
epoch 12 | loss: 0.22412 | val_0_auc: 0.5982  |  0:00:22s
epoch 13 | loss: 0.20384 | val_0_auc: 0.63268 |  0:00:23s
epoch 14 | loss: 0.20398 | val_0_auc: 0.62113 |  0:00:25s
epoch 15 | loss: 0.20014 | val_0_auc: 0.63155 |  0:00:27s
epoch 16 | loss: 0.19541 | val_0_auc: 0.55624 |  0:00:28s
epoch 17 | loss: 0.19373 | val_0_auc: 0.54315 |  0:00:30s
epoch 18 | loss: 0.1829  | val_0_auc: 0.53387 |  0:00:32s
epoch 19 | loss: 0.18109 | val_0_auc: 0.64053 |  0:00:33s
epoch 20 | loss: 0.18123 | val_0_auc: 0.69186 |  0:00:35s
epoch 21 | loss: 0.17742 | val_0_auc: 0.69995 |  0:00:38s
epoch 22 | loss: 0.16431 | val_0_auc: 0.73068 |  0:00:40s
epoch 23 | loss: 0.15876 | val_0_auc: 0.78719 |  0:00:41s
epoch 24 | loss: 0.1524  | val_0_auc: 0.78902 |  0:00:43s
epoch 25 | loss: 0.15234 | val_0_auc: 0.79404 |  0:00:45s
epoch 26 | loss: 0.15012 | val_0_auc: 0.80324 |  0:00:46s
epoch 27 | loss: 0.14639 | val_0_auc: 0.83668 |  0:00:48s
epoch 28 | loss: 0.13576 | val_0_auc: 0.83948 |  0:00:50s
epoch 29 | loss: 0.13605 | val_0_auc: 0.83692 |  0:00:51s
epoch 30 | loss: 0.13842 | val_0_auc: 0.85209 |  0:00:53s
epoch 31 | loss: 0.13603 | val_0_auc: 0.84113 |  0:00:55s
epoch 32 | loss: 0.13166 | val_0_auc: 0.84106 |  0:00:57s
epoch 33 | loss: 0.13031 | val_0_auc: 0.84164 |  0:00:58s
epoch 34 | loss: 0.12999 | val_0_auc: 0.86073 |  0:01:00s
epoch 35 | loss: 0.12848 | val_0_auc: 0.84308 |  0:01:02s
epoch 36 | loss: 0.12814 | val_0_auc: 0.86518 |  0:01:03s
epoch 37 | loss: 0.13058 | val_0_auc: 0.86841 |  0:01:05s
epoch 38 | loss: 0.12584 | val_0_auc: 0.86478 |  0:01:07s
epoch 39 | loss: 0.1163  | val_0_auc: 0.88196 |  0:01:08s
epoch 40 | loss: 0.11946 | val_0_auc: 0.87546 |  0:01:10s
epoch 41 | loss: 0.12582 | val_0_auc: 0.86439 |  0:01:12s
epoch 42 | loss: 0.11126 | val_0_auc: 0.86163 |  0:01:13s
epoch 43 | loss: 0.1125  | val_0_auc: 0.87708 |  0:01:15s
epoch 44 | loss: 0.11964 | val_0_auc: 0.86965 |  0:01:16s
epoch 45 | loss: 0.11629 | val_0_auc: 0.86466 |  0:01:18s
epoch 46 | loss: 0.11401 | val_0_auc: 0.86693 |  0:01:20s
epoch 47 | loss: 0.11858 | val_0_auc: 0.86085 |  0:01:21s
epoch 48 | loss: 0.11241 | val_0_auc: 0.87223 |  0:01:23s
epoch 49 | loss: 0.11214 | val_0_auc: 0.8716  |  0:01:24s
epoch 50 | loss: 0.11559 | val_0_auc: 0.88029 |  0:01:26s
epoch 51 | loss: 0.10889 | val_0_auc: 0.88697 |  0:01:28s
epoch 52 | loss: 0.10773 | val_0_auc: 0.88678 |  0:01:30s
epoch 53 | loss: 0.09824 | val_0_auc: 0.88323 |  0:01:32s
epoch 54 | loss: 0.09824 | val_0_auc: 0.87564 |  0:01:35s
epoch 55 | loss: 0.10142 | val_0_auc: 0.88699 |  0:01:37s
epoch 56 | loss: 0.09961 | val_0_auc: 0.88644 |  0:01:39s
epoch 57 | loss: 0.1023  | val_0_auc: 0.88616 |  0:01:41s
epoch 58 | loss: 0.09746 | val_0_auc: 0.8856  |  0:01:43s
epoch 59 | loss: 0.08613 | val_0_auc: 0.87903 |  0:01:45s
epoch 60 | loss: 0.08413 | val_0_auc: 0.88106 |  0:01:46s
epoch 61 | loss: 0.09263 | val_0_auc: 0.87854 |  0:01:48s
epoch 62 | loss: 0.09123 | val_0_auc: 0.86435 |  0:01:50s
epoch 63 | loss: 0.08802 | val_0_auc: 0.87007 |  0:01:52s
epoch 64 | loss: 0.07981 | val_0_auc: 0.86536 |  0:01:53s
epoch 65 | loss: 0.07771 | val_0_auc: 0.86973 |  0:01:55s
epoch 66 | loss: 0.07715 | val_0_auc: 0.87123 |  0:01:56s
epoch 67 | loss: 0.07759 | val_0_auc: 0.87213 |  0:01:58s
epoch 68 | loss: 0.08219 | val_0_auc: 0.86326 |  0:02:00s
epoch 69 | loss: 0.08382 | val_0_auc: 0.86238 |  0:02:02s
epoch 70 | loss: 0.08198 | val_0_auc: 0.86961 |  0:02:03s
epoch 71 | loss: 0.0765  | val_0_auc: 0.88153 |  0:02:05s
epoch 72 | loss: 0.07008 | val_0_auc: 0.89093 |  0:02:07s
epoch 73 | loss: 0.07518 | val_0_auc: 0.87293 |  0:02:08s
epoch 74 | loss: 0.06931 | val_0_auc: 0.87559 |  0:02:10s
epoch 75 | loss: 0.07577 | val_0_auc: 0.86331 |  0:02:12s
epoch 76 | loss: 0.07601 | val_0_auc: 0.87345 |  0:02:13s
epoch 77 | loss: 0.0702  | val_0_auc: 0.87471 |  0:02:15s
epoch 78 | loss: 0.07723 | val_0_auc: 0.88639 |  0:02:17s
epoch 79 | loss: 0.08163 | val_0_auc: 0.88174 |  0:02:19s
epoch 80 | loss: 0.07233 | val_0_auc: 0.86618 |  0:02:20s
epoch 81 | loss: 0.06626 | val_0_auc: 0.86875 |  0:02:22s
epoch 82 | loss: 0.06471 | val_0_auc: 0.8643  |  0:02:24s
epoch 83 | loss: 0.06249 | val_0_auc: 0.85738 |  0:02:26s
epoch 84 | loss: 0.06372 | val_0_auc: 0.8561  |  0:02:28s
epoch 85 | loss: 0.06071 | val_0_auc: 0.86978 |  0:02:29s
epoch 86 | loss: 0.05746 | val_0_auc: 0.86743 |  0:02:31s
epoch 87 | loss: 0.05126 | val_0_auc: 0.84688 |  0:02:33s
epoch 88 | loss: 0.06195 | val_0_auc: 0.84789 |  0:02:35s
epoch 89 | loss: 0.06109 | val_0_auc: 0.86497 |  0:02:36s
epoch 90 | loss: 0.06119 | val_0_auc: 0.8585  |  0:02:38s
epoch 91 | loss: 0.05888 | val_0_auc: 0.86691 |  0:02:40s
epoch 92 | loss: 0.05512 | val_0_auc: 0.87551 |  0:02:42s
epoch 93 | loss: 0.05907 | val_0_auc: 0.86421 |  0:02:45s
epoch 94 | loss: 0.06687 | val_0_auc: 0.85456 |  0:02:47s
epoch 95 | loss: 0.06838 | val_0_auc: 0.84942 |  0:02:49s
epoch 96 | loss: 0.06244 | val_0_auc: 0.84119 |  0:02:51s
epoch 97 | loss: 0.05472 | val_0_auc: 0.85909 |  0:02:53s
epoch 98 | loss: 0.05635 | val_0_auc: 0.85499 |  0:02:55s
epoch 99 | loss: 0.05535 | val_0_auc: 0.8548  |  0:02:57s
epoch 100| loss: 0.0594  | val_0_auc: 0.86928 |  0:02:59s
epoch 101| loss: 0.05452 | val_0_auc: 0.86134 |  0:03:01s
epoch 102| loss: 0.0549  | val_0_auc: 0.86565 |  0:03:03s

Early stopping occurred at epoch 102 with best_epoch = 72 and best_val_0_auc = 0.89093
Best weights from best epoch are automatically used!
</pre>
</div>
</div>

</div>

</div>

</div><div class="jp-Cell jp-CodeCell jp-Notebook-cell   ">
<div class="jp-Cell-inputWrapper">
<div class="jp-InputArea jp-Cell-inputArea">
<div class="jp-InputPrompt jp-InputArea-prompt">In&nbsp;[222]:</div>
<div class="jp-CodeMirrorEditor jp-Editor jp-InputArea-editor" data-type="inline">
     <div class="CodeMirror cm-s-jupyter">
<div class=" highlight hl-ipython3"><pre><span></span><span class="c1"># model5</span>
<span class="n">clf5</span> <span class="o">=</span> <span class="n">TabNetClassifier</span><span class="p">(</span><span class="n">seed</span><span class="o">=</span><span class="mi">0</span><span class="p">)</span>
<span class="n">clf5</span><span class="o">.</span><span class="n">fit</span><span class="p">(</span>
    <span class="n">X_train5</span><span class="p">,</span> <span class="n">y_train5</span><span class="p">,</span>
    <span class="n">eval_set</span><span class="o">=</span><span class="p">[(</span><span class="n">X_test5</span><span class="p">,</span> <span class="n">y_test5</span><span class="p">)],</span>
    <span class="n">patience</span><span class="o">=</span><span class="mi">30</span><span class="p">,</span><span class="n">max_epochs</span><span class="o">=</span><span class="mi">500</span><span class="p">,</span>
    <span class="n">eval_metric</span><span class="o">=</span><span class="p">[</span><span class="s1">&#39;auc&#39;</span><span class="p">]</span>
<span class="p">)</span>
</pre></div>

     </div>
</div>
</div>
</div>

<div class="jp-Cell-outputWrapper">


<div class="jp-OutputArea jp-Cell-outputArea">

<div class="jp-OutputArea-child">

    
    <div class="jp-OutputPrompt jp-OutputArea-prompt"></div>


<div class="jp-RenderedText jp-OutputArea-output" data-mime-type="text/plain">
<pre>Device used : cpu
epoch 0  | loss: 0.84441 | val_0_auc: 0.40284 |  0:00:02s
epoch 1  | loss: 0.64969 | val_0_auc: 0.38032 |  0:00:04s
epoch 2  | loss: 0.59879 | val_0_auc: 0.32805 |  0:00:06s
epoch 3  | loss: 0.54072 | val_0_auc: 0.48081 |  0:00:08s
epoch 4  | loss: 0.46718 | val_0_auc: 0.46775 |  0:00:10s
epoch 5  | loss: 0.41307 | val_0_auc: 0.48896 |  0:00:12s
epoch 6  | loss: 0.35606 | val_0_auc: 0.52397 |  0:00:14s
epoch 7  | loss: 0.3241  | val_0_auc: 0.58644 |  0:00:16s
epoch 8  | loss: 0.29134 | val_0_auc: 0.63834 |  0:00:18s
epoch 9  | loss: 0.26053 | val_0_auc: 0.65544 |  0:00:20s
epoch 10 | loss: 0.24545 | val_0_auc: 0.675   |  0:00:21s
epoch 11 | loss: 0.23849 | val_0_auc: 0.6714  |  0:00:22s
epoch 12 | loss: 0.22953 | val_0_auc: 0.69614 |  0:00:23s
epoch 13 | loss: 0.22087 | val_0_auc: 0.699   |  0:00:24s
epoch 14 | loss: 0.20683 | val_0_auc: 0.689   |  0:00:26s
epoch 15 | loss: 0.20266 | val_0_auc: 0.68166 |  0:00:27s
epoch 16 | loss: 0.18664 | val_0_auc: 0.63428 |  0:00:28s
epoch 17 | loss: 0.18903 | val_0_auc: 0.65891 |  0:00:29s
epoch 18 | loss: 0.17823 | val_0_auc: 0.72373 |  0:00:31s
epoch 19 | loss: 0.18408 | val_0_auc: 0.72899 |  0:00:32s
epoch 20 | loss: 0.18019 | val_0_auc: 0.69539 |  0:00:33s
epoch 21 | loss: 0.18339 | val_0_auc: 0.7272  |  0:00:35s
epoch 22 | loss: 0.18996 | val_0_auc: 0.77057 |  0:00:36s
epoch 23 | loss: 0.17872 | val_0_auc: 0.78134 |  0:00:38s
epoch 24 | loss: 0.18612 | val_0_auc: 0.77355 |  0:00:39s
epoch 25 | loss: 0.18144 | val_0_auc: 0.77476 |  0:00:40s
epoch 26 | loss: 0.19304 | val_0_auc: 0.77129 |  0:00:42s
epoch 27 | loss: 0.17245 | val_0_auc: 0.8066  |  0:00:43s
epoch 28 | loss: 0.1628  | val_0_auc: 0.82483 |  0:00:44s
epoch 29 | loss: 0.15983 | val_0_auc: 0.80897 |  0:00:46s
epoch 30 | loss: 0.15228 | val_0_auc: 0.84223 |  0:00:47s
epoch 31 | loss: 0.14621 | val_0_auc: 0.85616 |  0:00:49s
epoch 32 | loss: 0.14001 | val_0_auc: 0.857   |  0:00:50s
epoch 33 | loss: 0.13976 | val_0_auc: 0.86664 |  0:00:52s
epoch 34 | loss: 0.13148 | val_0_auc: 0.87981 |  0:00:53s
epoch 35 | loss: 0.13432 | val_0_auc: 0.85577 |  0:00:55s
epoch 36 | loss: 0.12193 | val_0_auc: 0.85886 |  0:00:56s
epoch 37 | loss: 0.12504 | val_0_auc: 0.88272 |  0:00:58s
epoch 38 | loss: 0.12509 | val_0_auc: 0.89221 |  0:00:59s
epoch 39 | loss: 0.11881 | val_0_auc: 0.88465 |  0:01:00s
epoch 40 | loss: 0.11709 | val_0_auc: 0.89119 |  0:01:01s
epoch 41 | loss: 0.11758 | val_0_auc: 0.89227 |  0:01:02s
epoch 42 | loss: 0.12128 | val_0_auc: 0.893   |  0:01:03s
epoch 43 | loss: 0.12786 | val_0_auc: 0.87436 |  0:01:04s
epoch 44 | loss: 0.11635 | val_0_auc: 0.89588 |  0:01:05s
epoch 45 | loss: 0.11423 | val_0_auc: 0.90568 |  0:01:08s
epoch 46 | loss: 0.1112  | val_0_auc: 0.90026 |  0:01:10s
epoch 47 | loss: 0.11643 | val_0_auc: 0.89672 |  0:01:12s
epoch 48 | loss: 0.11408 | val_0_auc: 0.91627 |  0:01:13s
epoch 49 | loss: 0.10869 | val_0_auc: 0.92618 |  0:01:15s
epoch 50 | loss: 0.11398 | val_0_auc: 0.91675 |  0:01:17s
epoch 51 | loss: 0.11152 | val_0_auc: 0.92454 |  0:01:18s
epoch 52 | loss: 0.10718 | val_0_auc: 0.9205  |  0:01:20s
epoch 53 | loss: 0.09982 | val_0_auc: 0.916   |  0:01:21s
epoch 54 | loss: 0.09698 | val_0_auc: 0.90747 |  0:01:23s
epoch 55 | loss: 0.0955  | val_0_auc: 0.91858 |  0:01:24s
epoch 56 | loss: 0.09841 | val_0_auc: 0.92274 |  0:01:25s
epoch 57 | loss: 0.09347 | val_0_auc: 0.91871 |  0:01:27s
epoch 58 | loss: 0.09524 | val_0_auc: 0.91803 |  0:01:28s
epoch 59 | loss: 0.10672 | val_0_auc: 0.91456 |  0:01:29s
epoch 60 | loss: 0.10267 | val_0_auc: 0.89851 |  0:01:31s
epoch 61 | loss: 0.10196 | val_0_auc: 0.9103  |  0:01:32s
epoch 62 | loss: 0.09471 | val_0_auc: 0.92238 |  0:01:33s
epoch 63 | loss: 0.09033 | val_0_auc: 0.92045 |  0:01:34s
epoch 64 | loss: 0.09289 | val_0_auc: 0.91607 |  0:01:35s
epoch 65 | loss: 0.09076 | val_0_auc: 0.91927 |  0:01:36s
epoch 66 | loss: 0.08722 | val_0_auc: 0.91831 |  0:01:38s
epoch 67 | loss: 0.08127 | val_0_auc: 0.93662 |  0:01:39s
epoch 68 | loss: 0.08629 | val_0_auc: 0.92512 |  0:01:40s
epoch 69 | loss: 0.07848 | val_0_auc: 0.93062 |  0:01:41s
epoch 70 | loss: 0.07944 | val_0_auc: 0.92992 |  0:01:43s
epoch 71 | loss: 0.08373 | val_0_auc: 0.9325  |  0:01:44s
epoch 72 | loss: 0.09443 | val_0_auc: 0.91954 |  0:01:46s
epoch 73 | loss: 0.09665 | val_0_auc: 0.91536 |  0:01:47s
epoch 74 | loss: 0.0955  | val_0_auc: 0.92026 |  0:01:49s
epoch 75 | loss: 0.0866  | val_0_auc: 0.92346 |  0:01:51s
epoch 76 | loss: 0.07669 | val_0_auc: 0.92159 |  0:01:52s
epoch 77 | loss: 0.07628 | val_0_auc: 0.91634 |  0:01:54s
epoch 78 | loss: 0.07477 | val_0_auc: 0.92152 |  0:01:55s
epoch 79 | loss: 0.0674  | val_0_auc: 0.91771 |  0:01:56s
epoch 80 | loss: 0.06695 | val_0_auc: 0.91902 |  0:01:57s
epoch 81 | loss: 0.07192 | val_0_auc: 0.9149  |  0:01:59s
epoch 82 | loss: 0.06842 | val_0_auc: 0.92156 |  0:02:00s
epoch 83 | loss: 0.06881 | val_0_auc: 0.9313  |  0:02:01s
epoch 84 | loss: 0.06637 | val_0_auc: 0.91579 |  0:02:03s
epoch 85 | loss: 0.06949 | val_0_auc: 0.91484 |  0:02:04s
epoch 86 | loss: 0.07306 | val_0_auc: 0.91035 |  0:02:06s
epoch 87 | loss: 0.06328 | val_0_auc: 0.91945 |  0:02:07s
epoch 88 | loss: 0.07569 | val_0_auc: 0.91286 |  0:02:09s
epoch 89 | loss: 0.07166 | val_0_auc: 0.91004 |  0:02:11s
epoch 90 | loss: 0.06754 | val_0_auc: 0.91727 |  0:02:13s
epoch 91 | loss: 0.07199 | val_0_auc: 0.91112 |  0:02:14s
epoch 92 | loss: 0.07446 | val_0_auc: 0.91461 |  0:02:16s
epoch 93 | loss: 0.07353 | val_0_auc: 0.90932 |  0:02:17s
epoch 94 | loss: 0.08055 | val_0_auc: 0.91548 |  0:02:18s
epoch 95 | loss: 0.0723  | val_0_auc: 0.91062 |  0:02:19s
epoch 96 | loss: 0.06856 | val_0_auc: 0.92899 |  0:02:21s
epoch 97 | loss: 0.06154 | val_0_auc: 0.92671 |  0:02:22s

Early stopping occurred at epoch 97 with best_epoch = 67 and best_val_0_auc = 0.93662
Best weights from best epoch are automatically used!
</pre>
</div>
</div>

</div>

</div>

</div><div class="jp-Cell jp-CodeCell jp-Notebook-cell   ">
<div class="jp-Cell-inputWrapper">
<div class="jp-InputArea jp-Cell-inputArea">
<div class="jp-InputPrompt jp-InputArea-prompt">In&nbsp;[223]:</div>
<div class="jp-CodeMirrorEditor jp-Editor jp-InputArea-editor" data-type="inline">
     <div class="CodeMirror cm-s-jupyter">
<div class=" highlight hl-ipython3"><pre><span></span><span class="c1"># model6</span>
<span class="n">clf6</span> <span class="o">=</span> <span class="n">TabNetClassifier</span><span class="p">(</span><span class="n">seed</span><span class="o">=</span><span class="mi">0</span><span class="p">)</span>
<span class="n">clf6</span><span class="o">.</span><span class="n">fit</span><span class="p">(</span>
    <span class="n">X_train6</span><span class="p">,</span> <span class="n">y_train6</span><span class="p">,</span>
    <span class="n">eval_set</span><span class="o">=</span><span class="p">[(</span><span class="n">X_test6</span><span class="p">,</span> <span class="n">y_test6</span><span class="p">)],</span>
    <span class="n">patience</span><span class="o">=</span><span class="mi">30</span><span class="p">,</span><span class="n">max_epochs</span><span class="o">=</span><span class="mi">500</span><span class="p">,</span>
    <span class="n">eval_metric</span><span class="o">=</span><span class="p">[</span><span class="s1">&#39;auc&#39;</span><span class="p">]</span>
<span class="p">)</span>
</pre></div>

     </div>
</div>
</div>
</div>

<div class="jp-Cell-outputWrapper">


<div class="jp-OutputArea jp-Cell-outputArea">

<div class="jp-OutputArea-child">

    
    <div class="jp-OutputPrompt jp-OutputArea-prompt"></div>


<div class="jp-RenderedText jp-OutputArea-output" data-mime-type="text/plain">
<pre>Device used : cpu
epoch 0  | loss: 0.82432 | val_0_auc: 0.58022 |  0:00:01s
epoch 1  | loss: 0.62739 | val_0_auc: 0.51999 |  0:00:03s
epoch 2  | loss: 0.58068 | val_0_auc: 0.58635 |  0:00:04s
epoch 3  | loss: 0.52757 | val_0_auc: 0.58251 |  0:00:06s
epoch 4  | loss: 0.46328 | val_0_auc: 0.51803 |  0:00:08s
epoch 5  | loss: 0.39904 | val_0_auc: 0.50532 |  0:00:09s
epoch 6  | loss: 0.35405 | val_0_auc: 0.51855 |  0:00:10s
epoch 7  | loss: 0.30944 | val_0_auc: 0.61903 |  0:00:12s
epoch 8  | loss: 0.27765 | val_0_auc: 0.60863 |  0:00:13s
epoch 9  | loss: 0.25758 | val_0_auc: 0.51575 |  0:00:14s
epoch 10 | loss: 0.2393  | val_0_auc: 0.5342  |  0:00:15s
epoch 11 | loss: 0.23795 | val_0_auc: 0.60672 |  0:00:17s
epoch 12 | loss: 0.23018 | val_0_auc: 0.67035 |  0:00:18s
epoch 13 | loss: 0.21505 | val_0_auc: 0.66763 |  0:00:20s
epoch 14 | loss: 0.21861 | val_0_auc: 0.59795 |  0:00:21s
epoch 15 | loss: 0.2012  | val_0_auc: 0.68067 |  0:00:22s
epoch 16 | loss: 0.19761 | val_0_auc: 0.6974  |  0:00:24s
epoch 17 | loss: 0.18675 | val_0_auc: 0.69111 |  0:00:25s
epoch 18 | loss: 0.17795 | val_0_auc: 0.68833 |  0:00:26s
epoch 19 | loss: 0.17247 | val_0_auc: 0.69426 |  0:00:28s
epoch 20 | loss: 0.16188 | val_0_auc: 0.72398 |  0:00:29s
epoch 21 | loss: 0.16581 | val_0_auc: 0.76404 |  0:00:30s
epoch 22 | loss: 0.16252 | val_0_auc: 0.76721 |  0:00:32s
epoch 23 | loss: 0.17015 | val_0_auc: 0.77767 |  0:00:33s
epoch 24 | loss: 0.17046 | val_0_auc: 0.75503 |  0:00:34s
epoch 25 | loss: 0.15948 | val_0_auc: 0.77853 |  0:00:36s
epoch 26 | loss: 0.16245 | val_0_auc: 0.78066 |  0:00:37s
epoch 27 | loss: 0.15635 | val_0_auc: 0.80074 |  0:00:38s
epoch 28 | loss: 0.15682 | val_0_auc: 0.8164  |  0:00:40s
epoch 29 | loss: 0.15212 | val_0_auc: 0.82806 |  0:00:41s
epoch 30 | loss: 0.14101 | val_0_auc: 0.83249 |  0:00:42s
epoch 31 | loss: 0.14773 | val_0_auc: 0.82166 |  0:00:44s
epoch 32 | loss: 0.14872 | val_0_auc: 0.82423 |  0:00:45s
epoch 33 | loss: 0.13895 | val_0_auc: 0.84181 |  0:00:46s
epoch 34 | loss: 0.149   | val_0_auc: 0.84196 |  0:00:48s
epoch 35 | loss: 0.15375 | val_0_auc: 0.84508 |  0:00:49s
epoch 36 | loss: 0.16036 | val_0_auc: 0.84217 |  0:00:50s
epoch 37 | loss: 0.14448 | val_0_auc: 0.85194 |  0:00:52s
epoch 38 | loss: 0.14955 | val_0_auc: 0.84669 |  0:00:53s
epoch 39 | loss: 0.15418 | val_0_auc: 0.86007 |  0:00:54s
epoch 40 | loss: 0.14483 | val_0_auc: 0.87185 |  0:00:55s
epoch 41 | loss: 0.13822 | val_0_auc: 0.88177 |  0:00:57s
epoch 42 | loss: 0.13549 | val_0_auc: 0.87762 |  0:00:59s
epoch 43 | loss: 0.12583 | val_0_auc: 0.86771 |  0:01:00s
epoch 44 | loss: 0.13048 | val_0_auc: 0.8624  |  0:01:01s
epoch 45 | loss: 0.12664 | val_0_auc: 0.85622 |  0:01:02s
epoch 46 | loss: 0.12788 | val_0_auc: 0.86249 |  0:01:03s
epoch 47 | loss: 0.11519 | val_0_auc: 0.86738 |  0:01:04s
epoch 48 | loss: 0.10284 | val_0_auc: 0.87658 |  0:01:06s
epoch 49 | loss: 0.10407 | val_0_auc: 0.87414 |  0:01:07s
epoch 50 | loss: 0.10493 | val_0_auc: 0.88184 |  0:01:08s
epoch 51 | loss: 0.11019 | val_0_auc: 0.88    |  0:01:10s
epoch 52 | loss: 0.1157  | val_0_auc: 0.87871 |  0:01:11s
epoch 53 | loss: 0.11129 | val_0_auc: 0.87701 |  0:01:12s
epoch 54 | loss: 0.11342 | val_0_auc: 0.87635 |  0:01:13s
epoch 55 | loss: 0.11754 | val_0_auc: 0.87391 |  0:01:14s
epoch 56 | loss: 0.12185 | val_0_auc: 0.86912 |  0:01:15s
epoch 57 | loss: 0.12551 | val_0_auc: 0.85936 |  0:01:17s
epoch 58 | loss: 0.10841 | val_0_auc: 0.85853 |  0:01:18s
epoch 59 | loss: 0.09861 | val_0_auc: 0.86178 |  0:01:19s
epoch 60 | loss: 0.09715 | val_0_auc: 0.87057 |  0:01:20s
epoch 61 | loss: 0.09371 | val_0_auc: 0.88208 |  0:01:22s
epoch 62 | loss: 0.08438 | val_0_auc: 0.87144 |  0:01:23s
epoch 63 | loss: 0.08335 | val_0_auc: 0.86631 |  0:01:24s
epoch 64 | loss: 0.08343 | val_0_auc: 0.86096 |  0:01:25s
epoch 65 | loss: 0.08115 | val_0_auc: 0.86541 |  0:01:27s
epoch 66 | loss: 0.08391 | val_0_auc: 0.87304 |  0:01:28s
epoch 67 | loss: 0.07684 | val_0_auc: 0.88228 |  0:01:29s
epoch 68 | loss: 0.08068 | val_0_auc: 0.89042 |  0:01:30s
epoch 69 | loss: 0.08263 | val_0_auc: 0.88664 |  0:01:32s
epoch 70 | loss: 0.07769 | val_0_auc: 0.87574 |  0:01:33s
epoch 71 | loss: 0.08717 | val_0_auc: 0.87246 |  0:01:34s
epoch 72 | loss: 0.0838  | val_0_auc: 0.85711 |  0:01:35s
epoch 73 | loss: 0.07508 | val_0_auc: 0.87685 |  0:01:37s
epoch 74 | loss: 0.08034 | val_0_auc: 0.86048 |  0:01:39s
epoch 75 | loss: 0.08393 | val_0_auc: 0.87775 |  0:01:40s
epoch 76 | loss: 0.08069 | val_0_auc: 0.86608 |  0:01:42s
epoch 77 | loss: 0.09734 | val_0_auc: 0.88194 |  0:01:44s
epoch 78 | loss: 0.08785 | val_0_auc: 0.86682 |  0:01:46s
epoch 79 | loss: 0.0834  | val_0_auc: 0.85309 |  0:01:47s
epoch 80 | loss: 0.0957  | val_0_auc: 0.86852 |  0:01:49s
epoch 81 | loss: 0.08796 | val_0_auc: 0.8635  |  0:01:51s
epoch 82 | loss: 0.08441 | val_0_auc: 0.85758 |  0:01:52s
epoch 83 | loss: 0.09491 | val_0_auc: 0.87801 |  0:01:54s
epoch 84 | loss: 0.08309 | val_0_auc: 0.87669 |  0:01:56s
epoch 85 | loss: 0.08352 | val_0_auc: 0.87407 |  0:01:57s
epoch 86 | loss: 0.07457 | val_0_auc: 0.86316 |  0:01:59s
epoch 87 | loss: 0.0737  | val_0_auc: 0.84824 |  0:02:02s
epoch 88 | loss: 0.0653  | val_0_auc: 0.84198 |  0:02:04s
epoch 89 | loss: 0.06528 | val_0_auc: 0.86673 |  0:02:06s
epoch 90 | loss: 0.06897 | val_0_auc: 0.87115 |  0:02:08s
epoch 91 | loss: 0.06194 | val_0_auc: 0.86865 |  0:02:10s
epoch 92 | loss: 0.07494 | val_0_auc: 0.86177 |  0:02:11s
epoch 93 | loss: 0.06684 | val_0_auc: 0.8636  |  0:02:12s
epoch 94 | loss: 0.07155 | val_0_auc: 0.87336 |  0:02:13s
epoch 95 | loss: 0.08141 | val_0_auc: 0.86692 |  0:02:15s
epoch 96 | loss: 0.0731  | val_0_auc: 0.87106 |  0:02:16s
epoch 97 | loss: 0.07267 | val_0_auc: 0.86529 |  0:02:18s
epoch 98 | loss: 0.07069 | val_0_auc: 0.85195 |  0:02:19s

Early stopping occurred at epoch 98 with best_epoch = 68 and best_val_0_auc = 0.89042
Best weights from best epoch are automatically used!
</pre>
</div>
</div>

</div>

</div>

</div><div class="jp-Cell jp-CodeCell jp-Notebook-cell jp-mod-noOutputs  ">
<div class="jp-Cell-inputWrapper">
<div class="jp-InputArea jp-Cell-inputArea">
<div class="jp-InputPrompt jp-InputArea-prompt">In&nbsp;[224]:</div>
<div class="jp-CodeMirrorEditor jp-Editor jp-InputArea-editor" data-type="inline">
     <div class="CodeMirror cm-s-jupyter">
<div class=" highlight hl-ipython3"><pre><span></span><span class="n">test_1</span> <span class="o">=</span> <span class="n">np</span><span class="o">.</span><span class="n">array</span><span class="p">(</span><span class="n">test_1</span><span class="p">)</span>
</pre></div>

     </div>
</div>
</div>
</div>

</div><div class="jp-Cell jp-CodeCell jp-Notebook-cell jp-mod-noOutputs  ">
<div class="jp-Cell-inputWrapper">
<div class="jp-InputArea jp-Cell-inputArea">
<div class="jp-InputPrompt jp-InputArea-prompt">In&nbsp;[225]:</div>
<div class="jp-CodeMirrorEditor jp-Editor jp-InputArea-editor" data-type="inline">
     <div class="CodeMirror cm-s-jupyter">
<div class=" highlight hl-ipython3"><pre><span></span><span class="n">predictions1</span> <span class="o">=</span> <span class="n">clf1</span><span class="o">.</span><span class="n">predict_proba</span><span class="p">(</span><span class="n">test_1</span><span class="p">)[:,</span><span class="mi">1</span><span class="p">]</span>
</pre></div>

     </div>
</div>
</div>
</div>

</div><div class="jp-Cell jp-CodeCell jp-Notebook-cell jp-mod-noOutputs  ">
<div class="jp-Cell-inputWrapper">
<div class="jp-InputArea jp-Cell-inputArea">
<div class="jp-InputPrompt jp-InputArea-prompt">In&nbsp;[226]:</div>
<div class="jp-CodeMirrorEditor jp-Editor jp-InputArea-editor" data-type="inline">
     <div class="CodeMirror cm-s-jupyter">
<div class=" highlight hl-ipython3"><pre><span></span><span class="n">predictions2</span> <span class="o">=</span> <span class="n">clf2</span><span class="o">.</span><span class="n">predict_proba</span><span class="p">(</span><span class="n">test_1</span><span class="p">)[:,</span><span class="mi">1</span><span class="p">]</span>
</pre></div>

     </div>
</div>
</div>
</div>

</div><div class="jp-Cell jp-CodeCell jp-Notebook-cell jp-mod-noOutputs  ">
<div class="jp-Cell-inputWrapper">
<div class="jp-InputArea jp-Cell-inputArea">
<div class="jp-InputPrompt jp-InputArea-prompt">In&nbsp;[227]:</div>
<div class="jp-CodeMirrorEditor jp-Editor jp-InputArea-editor" data-type="inline">
     <div class="CodeMirror cm-s-jupyter">
<div class=" highlight hl-ipython3"><pre><span></span><span class="n">predictions3</span> <span class="o">=</span> <span class="n">clf3</span><span class="o">.</span><span class="n">predict_proba</span><span class="p">(</span><span class="n">test_1</span><span class="p">)[:,</span><span class="mi">1</span><span class="p">]</span>
</pre></div>

     </div>
</div>
</div>
</div>

</div><div class="jp-Cell jp-CodeCell jp-Notebook-cell jp-mod-noOutputs  ">
<div class="jp-Cell-inputWrapper">
<div class="jp-InputArea jp-Cell-inputArea">
<div class="jp-InputPrompt jp-InputArea-prompt">In&nbsp;[228]:</div>
<div class="jp-CodeMirrorEditor jp-Editor jp-InputArea-editor" data-type="inline">
     <div class="CodeMirror cm-s-jupyter">
<div class=" highlight hl-ipython3"><pre><span></span><span class="n">predictions4</span> <span class="o">=</span> <span class="n">clf4</span><span class="o">.</span><span class="n">predict_proba</span><span class="p">(</span><span class="n">test_1</span><span class="p">)[:,</span><span class="mi">1</span><span class="p">]</span>
</pre></div>

     </div>
</div>
</div>
</div>

</div><div class="jp-Cell jp-CodeCell jp-Notebook-cell jp-mod-noOutputs  ">
<div class="jp-Cell-inputWrapper">
<div class="jp-InputArea jp-Cell-inputArea">
<div class="jp-InputPrompt jp-InputArea-prompt">In&nbsp;[229]:</div>
<div class="jp-CodeMirrorEditor jp-Editor jp-InputArea-editor" data-type="inline">
     <div class="CodeMirror cm-s-jupyter">
<div class=" highlight hl-ipython3"><pre><span></span><span class="n">predictions5</span> <span class="o">=</span> <span class="n">clf5</span><span class="o">.</span><span class="n">predict_proba</span><span class="p">(</span><span class="n">test_1</span><span class="p">)[:,</span><span class="mi">1</span><span class="p">]</span>
</pre></div>

     </div>
</div>
</div>
</div>

</div><div class="jp-Cell jp-CodeCell jp-Notebook-cell jp-mod-noOutputs  ">
<div class="jp-Cell-inputWrapper">
<div class="jp-InputArea jp-Cell-inputArea">
<div class="jp-InputPrompt jp-InputArea-prompt">In&nbsp;[230]:</div>
<div class="jp-CodeMirrorEditor jp-Editor jp-InputArea-editor" data-type="inline">
     <div class="CodeMirror cm-s-jupyter">
<div class=" highlight hl-ipython3"><pre><span></span><span class="n">predictions6</span> <span class="o">=</span> <span class="n">clf6</span><span class="o">.</span><span class="n">predict_proba</span><span class="p">(</span><span class="n">test_1</span><span class="p">)[:,</span><span class="mi">1</span><span class="p">]</span>
</pre></div>

     </div>
</div>
</div>
</div>

</div><div class="jp-Cell jp-CodeCell jp-Notebook-cell jp-mod-noOutputs  ">
<div class="jp-Cell-inputWrapper">
<div class="jp-InputArea jp-Cell-inputArea">
<div class="jp-InputPrompt jp-InputArea-prompt">In&nbsp;[231]:</div>
<div class="jp-CodeMirrorEditor jp-Editor jp-InputArea-editor" data-type="inline">
     <div class="CodeMirror cm-s-jupyter">
<div class=" highlight hl-ipython3"><pre><span></span><span class="n">preds1</span> <span class="o">=</span> <span class="p">[</span> <span class="mi">1</span> <span class="k">if</span> <span class="n">x</span> <span class="o">&gt;</span> <span class="mf">0.55</span> <span class="k">else</span> <span class="mi">0</span> <span class="k">for</span> <span class="n">x</span> <span class="ow">in</span> <span class="n">predictions1</span> <span class="p">]</span>
</pre></div>

     </div>
</div>
</div>
</div>

</div><div class="jp-Cell jp-CodeCell jp-Notebook-cell jp-mod-noOutputs  ">
<div class="jp-Cell-inputWrapper">
<div class="jp-InputArea jp-Cell-inputArea">
<div class="jp-InputPrompt jp-InputArea-prompt">In&nbsp;[232]:</div>
<div class="jp-CodeMirrorEditor jp-Editor jp-InputArea-editor" data-type="inline">
     <div class="CodeMirror cm-s-jupyter">
<div class=" highlight hl-ipython3"><pre><span></span><span class="n">preds2</span> <span class="o">=</span> <span class="p">[</span> <span class="mi">1</span> <span class="k">if</span> <span class="n">x</span> <span class="o">&gt;</span> <span class="mf">0.523</span> <span class="k">else</span> <span class="mi">0</span> <span class="k">for</span> <span class="n">x</span> <span class="ow">in</span> <span class="n">predictions2</span> <span class="p">]</span>
</pre></div>

     </div>
</div>
</div>
</div>

</div><div class="jp-Cell jp-CodeCell jp-Notebook-cell jp-mod-noOutputs  ">
<div class="jp-Cell-inputWrapper">
<div class="jp-InputArea jp-Cell-inputArea">
<div class="jp-InputPrompt jp-InputArea-prompt">In&nbsp;[233]:</div>
<div class="jp-CodeMirrorEditor jp-Editor jp-InputArea-editor" data-type="inline">
     <div class="CodeMirror cm-s-jupyter">
<div class=" highlight hl-ipython3"><pre><span></span><span class="n">preds3</span> <span class="o">=</span> <span class="p">[</span> <span class="mi">1</span> <span class="k">if</span> <span class="n">x</span> <span class="o">&gt;</span> <span class="mf">0.508</span> <span class="k">else</span> <span class="mi">0</span> <span class="k">for</span> <span class="n">x</span> <span class="ow">in</span> <span class="n">predictions3</span> <span class="p">]</span>
</pre></div>

     </div>
</div>
</div>
</div>

</div><div class="jp-Cell jp-CodeCell jp-Notebook-cell jp-mod-noOutputs  ">
<div class="jp-Cell-inputWrapper">
<div class="jp-InputArea jp-Cell-inputArea">
<div class="jp-InputPrompt jp-InputArea-prompt">In&nbsp;[234]:</div>
<div class="jp-CodeMirrorEditor jp-Editor jp-InputArea-editor" data-type="inline">
     <div class="CodeMirror cm-s-jupyter">
<div class=" highlight hl-ipython3"><pre><span></span><span class="n">preds4</span> <span class="o">=</span> <span class="p">[</span> <span class="mi">1</span> <span class="k">if</span> <span class="n">x</span> <span class="o">&gt;</span> <span class="mf">0.57</span> <span class="k">else</span> <span class="mi">0</span> <span class="k">for</span> <span class="n">x</span> <span class="ow">in</span> <span class="n">predictions4</span> <span class="p">]</span>
</pre></div>

     </div>
</div>
</div>
</div>

</div><div class="jp-Cell jp-CodeCell jp-Notebook-cell jp-mod-noOutputs  ">
<div class="jp-Cell-inputWrapper">
<div class="jp-InputArea jp-Cell-inputArea">
<div class="jp-InputPrompt jp-InputArea-prompt">In&nbsp;[235]:</div>
<div class="jp-CodeMirrorEditor jp-Editor jp-InputArea-editor" data-type="inline">
     <div class="CodeMirror cm-s-jupyter">
<div class=" highlight hl-ipython3"><pre><span></span><span class="n">preds5</span> <span class="o">=</span> <span class="p">[</span> <span class="mi">1</span> <span class="k">if</span> <span class="n">x</span> <span class="o">&gt;</span> <span class="mf">0.5</span> <span class="k">else</span> <span class="mi">0</span> <span class="k">for</span> <span class="n">x</span> <span class="ow">in</span> <span class="n">predictions5</span> <span class="p">]</span>
</pre></div>

     </div>
</div>
</div>
</div>

</div><div class="jp-Cell jp-CodeCell jp-Notebook-cell jp-mod-noOutputs  ">
<div class="jp-Cell-inputWrapper">
<div class="jp-InputArea jp-Cell-inputArea">
<div class="jp-InputPrompt jp-InputArea-prompt">In&nbsp;[236]:</div>
<div class="jp-CodeMirrorEditor jp-Editor jp-InputArea-editor" data-type="inline">
     <div class="CodeMirror cm-s-jupyter">
<div class=" highlight hl-ipython3"><pre><span></span><span class="n">preds6</span> <span class="o">=</span> <span class="p">[</span> <span class="mi">1</span> <span class="k">if</span> <span class="n">x</span> <span class="o">&gt;</span> <span class="mf">0.55</span> <span class="k">else</span> <span class="mi">0</span> <span class="k">for</span> <span class="n">x</span> <span class="ow">in</span> <span class="n">predictions6</span> <span class="p">]</span>
</pre></div>

     </div>
</div>
</div>
</div>

</div><div class="jp-Cell jp-CodeCell jp-Notebook-cell jp-mod-noOutputs  ">
<div class="jp-Cell-inputWrapper">
<div class="jp-InputArea jp-Cell-inputArea">
<div class="jp-InputPrompt jp-InputArea-prompt">In&nbsp;[237]:</div>
<div class="jp-CodeMirrorEditor jp-Editor jp-InputArea-editor" data-type="inline">
     <div class="CodeMirror cm-s-jupyter">
<div class=" highlight hl-ipython3"><pre><span></span><span class="n">tab_pred1</span><span class="o">=</span><span class="n">pd</span><span class="o">.</span><span class="n">DataFrame</span><span class="p">(</span><span class="n">preds1</span><span class="p">,</span> <span class="n">columns</span><span class="o">=</span> <span class="p">[</span><span class="s1">&#39;col1&#39;</span><span class="p">])</span>
<span class="n">tab_pred2</span><span class="o">=</span><span class="n">pd</span><span class="o">.</span><span class="n">DataFrame</span><span class="p">(</span><span class="n">preds2</span><span class="p">,</span> <span class="n">columns</span><span class="o">=</span> <span class="p">[</span><span class="s1">&#39;col2&#39;</span><span class="p">])</span>
<span class="n">tab_pred3</span><span class="o">=</span><span class="n">pd</span><span class="o">.</span><span class="n">DataFrame</span><span class="p">(</span><span class="n">preds3</span><span class="p">,</span> <span class="n">columns</span><span class="o">=</span> <span class="p">[</span><span class="s1">&#39;col3&#39;</span><span class="p">])</span>
<span class="n">tab_pred4</span><span class="o">=</span><span class="n">pd</span><span class="o">.</span><span class="n">DataFrame</span><span class="p">(</span><span class="n">preds4</span><span class="p">,</span> <span class="n">columns</span><span class="o">=</span> <span class="p">[</span><span class="s1">&#39;col4&#39;</span><span class="p">])</span>
<span class="n">tab_pred5</span><span class="o">=</span><span class="n">pd</span><span class="o">.</span><span class="n">DataFrame</span><span class="p">(</span><span class="n">preds5</span><span class="p">,</span> <span class="n">columns</span><span class="o">=</span> <span class="p">[</span><span class="s1">&#39;col5&#39;</span><span class="p">])</span>
<span class="n">tab_pred6</span><span class="o">=</span><span class="n">pd</span><span class="o">.</span><span class="n">DataFrame</span><span class="p">(</span><span class="n">preds6</span><span class="p">,</span> <span class="n">columns</span><span class="o">=</span> <span class="p">[</span><span class="s1">&#39;col6&#39;</span><span class="p">])</span>
</pre></div>

     </div>
</div>
</div>
</div>

</div><div class="jp-Cell jp-CodeCell jp-Notebook-cell   ">
<div class="jp-Cell-inputWrapper">
<div class="jp-InputArea jp-Cell-inputArea">
<div class="jp-InputPrompt jp-InputArea-prompt">In&nbsp;[238]:</div>
<div class="jp-CodeMirrorEditor jp-Editor jp-InputArea-editor" data-type="inline">
     <div class="CodeMirror cm-s-jupyter">
<div class=" highlight hl-ipython3"><pre><span></span><span class="n">tab_pred1</span><span class="p">[</span><span class="s1">&#39;col1&#39;</span><span class="p">]</span><span class="o">.</span><span class="n">value_counts</span><span class="p">()</span>
</pre></div>

     </div>
</div>
</div>
</div>

<div class="jp-Cell-outputWrapper">


<div class="jp-OutputArea jp-Cell-outputArea">

<div class="jp-OutputArea-child">

    
    <div class="jp-OutputPrompt jp-OutputArea-prompt">Out[238]:</div>




<div class="jp-RenderedText jp-OutputArea-output jp-OutputArea-executeResult" data-mime-type="text/plain">
<pre>0    3239
1     171
Name: col1, dtype: int64</pre>
</div>

</div>

</div>

</div>

</div><div class="jp-Cell jp-CodeCell jp-Notebook-cell   ">
<div class="jp-Cell-inputWrapper">
<div class="jp-InputArea jp-Cell-inputArea">
<div class="jp-InputPrompt jp-InputArea-prompt">In&nbsp;[239]:</div>
<div class="jp-CodeMirrorEditor jp-Editor jp-InputArea-editor" data-type="inline">
     <div class="CodeMirror cm-s-jupyter">
<div class=" highlight hl-ipython3"><pre><span></span><span class="n">tab_pred2</span><span class="p">[</span><span class="s1">&#39;col2&#39;</span><span class="p">]</span><span class="o">.</span><span class="n">value_counts</span><span class="p">()</span>
</pre></div>

     </div>
</div>
</div>
</div>

<div class="jp-Cell-outputWrapper">


<div class="jp-OutputArea jp-Cell-outputArea">

<div class="jp-OutputArea-child">

    
    <div class="jp-OutputPrompt jp-OutputArea-prompt">Out[239]:</div>




<div class="jp-RenderedText jp-OutputArea-output jp-OutputArea-executeResult" data-mime-type="text/plain">
<pre>0    3221
1     189
Name: col2, dtype: int64</pre>
</div>

</div>

</div>

</div>

</div><div class="jp-Cell jp-CodeCell jp-Notebook-cell   ">
<div class="jp-Cell-inputWrapper">
<div class="jp-InputArea jp-Cell-inputArea">
<div class="jp-InputPrompt jp-InputArea-prompt">In&nbsp;[240]:</div>
<div class="jp-CodeMirrorEditor jp-Editor jp-InputArea-editor" data-type="inline">
     <div class="CodeMirror cm-s-jupyter">
<div class=" highlight hl-ipython3"><pre><span></span><span class="n">tab_pred3</span><span class="p">[</span><span class="s1">&#39;col3&#39;</span><span class="p">]</span><span class="o">.</span><span class="n">value_counts</span><span class="p">()</span>
</pre></div>

     </div>
</div>
</div>
</div>

<div class="jp-Cell-outputWrapper">


<div class="jp-OutputArea jp-Cell-outputArea">

<div class="jp-OutputArea-child">

    
    <div class="jp-OutputPrompt jp-OutputArea-prompt">Out[240]:</div>




<div class="jp-RenderedText jp-OutputArea-output jp-OutputArea-executeResult" data-mime-type="text/plain">
<pre>0    3130
1     280
Name: col3, dtype: int64</pre>
</div>

</div>

</div>

</div>

</div><div class="jp-Cell jp-CodeCell jp-Notebook-cell   ">
<div class="jp-Cell-inputWrapper">
<div class="jp-InputArea jp-Cell-inputArea">
<div class="jp-InputPrompt jp-InputArea-prompt">In&nbsp;[241]:</div>
<div class="jp-CodeMirrorEditor jp-Editor jp-InputArea-editor" data-type="inline">
     <div class="CodeMirror cm-s-jupyter">
<div class=" highlight hl-ipython3"><pre><span></span><span class="n">tab_pred4</span><span class="p">[</span><span class="s1">&#39;col4&#39;</span><span class="p">]</span><span class="o">.</span><span class="n">value_counts</span><span class="p">()</span>
</pre></div>

     </div>
</div>
</div>
</div>

<div class="jp-Cell-outputWrapper">


<div class="jp-OutputArea jp-Cell-outputArea">

<div class="jp-OutputArea-child">

    
    <div class="jp-OutputPrompt jp-OutputArea-prompt">Out[241]:</div>




<div class="jp-RenderedText jp-OutputArea-output jp-OutputArea-executeResult" data-mime-type="text/plain">
<pre>0    3286
1     124
Name: col4, dtype: int64</pre>
</div>

</div>

</div>

</div>

</div><div class="jp-Cell jp-CodeCell jp-Notebook-cell   ">
<div class="jp-Cell-inputWrapper">
<div class="jp-InputArea jp-Cell-inputArea">
<div class="jp-InputPrompt jp-InputArea-prompt">In&nbsp;[242]:</div>
<div class="jp-CodeMirrorEditor jp-Editor jp-InputArea-editor" data-type="inline">
     <div class="CodeMirror cm-s-jupyter">
<div class=" highlight hl-ipython3"><pre><span></span><span class="n">tab_pred5</span><span class="p">[</span><span class="s1">&#39;col5&#39;</span><span class="p">]</span><span class="o">.</span><span class="n">value_counts</span><span class="p">()</span>
</pre></div>

     </div>
</div>
</div>
</div>

<div class="jp-Cell-outputWrapper">


<div class="jp-OutputArea jp-Cell-outputArea">

<div class="jp-OutputArea-child">

    
    <div class="jp-OutputPrompt jp-OutputArea-prompt">Out[242]:</div>




<div class="jp-RenderedText jp-OutputArea-output jp-OutputArea-executeResult" data-mime-type="text/plain">
<pre>0    3160
1     250
Name: col5, dtype: int64</pre>
</div>

</div>

</div>

</div>

</div><div class="jp-Cell jp-CodeCell jp-Notebook-cell   ">
<div class="jp-Cell-inputWrapper">
<div class="jp-InputArea jp-Cell-inputArea">
<div class="jp-InputPrompt jp-InputArea-prompt">In&nbsp;[243]:</div>
<div class="jp-CodeMirrorEditor jp-Editor jp-InputArea-editor" data-type="inline">
     <div class="CodeMirror cm-s-jupyter">
<div class=" highlight hl-ipython3"><pre><span></span><span class="n">tab_pred6</span><span class="p">[</span><span class="s1">&#39;col6&#39;</span><span class="p">]</span><span class="o">.</span><span class="n">value_counts</span><span class="p">()</span>
</pre></div>

     </div>
</div>
</div>
</div>

<div class="jp-Cell-outputWrapper">


<div class="jp-OutputArea jp-Cell-outputArea">

<div class="jp-OutputArea-child">

    
    <div class="jp-OutputPrompt jp-OutputArea-prompt">Out[243]:</div>




<div class="jp-RenderedText jp-OutputArea-output jp-OutputArea-executeResult" data-mime-type="text/plain">
<pre>0    3244
1     166
Name: col6, dtype: int64</pre>
</div>

</div>

</div>

</div>

</div><div class="jp-Cell jp-CodeCell jp-Notebook-cell jp-mod-noOutputs  ">
<div class="jp-Cell-inputWrapper">
<div class="jp-InputArea jp-Cell-inputArea">
<div class="jp-InputPrompt jp-InputArea-prompt">In&nbsp;[244]:</div>
<div class="jp-CodeMirrorEditor jp-Editor jp-InputArea-editor" data-type="inline">
     <div class="CodeMirror cm-s-jupyter">
<div class=" highlight hl-ipython3"><pre><span></span><span class="n">tab_pred</span><span class="o">=</span><span class="n">tab_pred1</span><span class="o">.</span><span class="n">join</span><span class="p">(</span><span class="n">tab_pred2</span><span class="p">,</span> <span class="n">how</span><span class="o">=</span> <span class="s1">&#39;inner&#39;</span><span class="p">)</span>
<span class="n">tab_pred</span><span class="o">=</span><span class="n">tab_pred</span><span class="o">.</span><span class="n">join</span><span class="p">(</span><span class="n">tab_pred3</span><span class="p">,</span> <span class="n">how</span><span class="o">=</span> <span class="s1">&#39;inner&#39;</span><span class="p">)</span>
<span class="n">tab_pred</span><span class="o">=</span><span class="n">tab_pred</span><span class="o">.</span><span class="n">join</span><span class="p">(</span><span class="n">tab_pred4</span><span class="p">,</span> <span class="n">how</span><span class="o">=</span> <span class="s1">&#39;inner&#39;</span><span class="p">)</span>
<span class="n">tab_pred</span><span class="o">=</span><span class="n">tab_pred</span><span class="o">.</span><span class="n">join</span><span class="p">(</span><span class="n">tab_pred5</span><span class="p">,</span> <span class="n">how</span><span class="o">=</span> <span class="s1">&#39;inner&#39;</span><span class="p">)</span>
<span class="n">tab_pred</span><span class="o">=</span><span class="n">tab_pred</span><span class="o">.</span><span class="n">join</span><span class="p">(</span><span class="n">tab_pred6</span><span class="p">,</span> <span class="n">how</span><span class="o">=</span> <span class="s1">&#39;inner&#39;</span><span class="p">)</span>
<span class="n">tab_pred</span><span class="p">[</span><span class="s1">&#39;sum&#39;</span><span class="p">]</span><span class="o">=</span><span class="p">(</span><span class="mf">1.1</span><span class="o">*</span><span class="n">tab_pred</span><span class="p">[</span><span class="s1">&#39;col1&#39;</span><span class="p">])</span><span class="o">+</span><span class="p">(</span><span class="mf">1.1</span><span class="o">*</span><span class="n">tab_pred</span><span class="p">[</span><span class="s1">&#39;col2&#39;</span><span class="p">])</span><span class="o">+</span><span class="p">(</span><span class="mf">0.9</span><span class="o">*</span><span class="n">tab_pred</span><span class="p">[</span><span class="s1">&#39;col3&#39;</span><span class="p">])</span><span class="o">+</span><span class="p">(</span><span class="mf">1.1</span><span class="o">*</span><span class="n">tab_pred</span><span class="p">[</span><span class="s1">&#39;col4&#39;</span><span class="p">])</span><span class="o">+</span><span class="p">(</span><span class="mf">0.9</span><span class="o">*</span><span class="n">tab_pred</span><span class="p">[</span><span class="s1">&#39;col5&#39;</span><span class="p">])</span><span class="o">+</span><span class="p">(</span><span class="mf">0.9</span><span class="o">*</span><span class="n">tab_pred</span><span class="p">[</span><span class="s1">&#39;col6&#39;</span><span class="p">])</span>
</pre></div>

     </div>
</div>
</div>
</div>

</div><div class="jp-Cell jp-CodeCell jp-Notebook-cell jp-mod-noOutputs  ">
<div class="jp-Cell-inputWrapper">
<div class="jp-InputArea jp-Cell-inputArea">
<div class="jp-InputPrompt jp-InputArea-prompt">In&nbsp;[245]:</div>
<div class="jp-CodeMirrorEditor jp-Editor jp-InputArea-editor" data-type="inline">
     <div class="CodeMirror cm-s-jupyter">
<div class=" highlight hl-ipython3"><pre><span></span><span class="n">tab_pred</span><span class="p">[</span><span class="s1">&#39;1day_yn&#39;</span><span class="p">]</span> <span class="o">=</span> <span class="n">np</span><span class="o">.</span><span class="n">where</span><span class="p">((</span><span class="n">tab_pred</span><span class="p">[</span><span class="s1">&#39;sum&#39;</span><span class="p">]</span><span class="o">&gt;=</span><span class="mi">2</span><span class="p">),</span> <span class="mi">1</span><span class="p">,</span><span class="mi">0</span><span class="p">)</span>
</pre></div>

     </div>
</div>
</div>
</div>

</div><div class="jp-Cell jp-CodeCell jp-Notebook-cell   ">
<div class="jp-Cell-inputWrapper">
<div class="jp-InputArea jp-Cell-inputArea">
<div class="jp-InputPrompt jp-InputArea-prompt">In&nbsp;[246]:</div>
<div class="jp-CodeMirrorEditor jp-Editor jp-InputArea-editor" data-type="inline">
     <div class="CodeMirror cm-s-jupyter">
<div class=" highlight hl-ipython3"><pre><span></span><span class="n">tab_pred</span><span class="p">[</span><span class="s1">&#39;1day_yn&#39;</span><span class="p">]</span><span class="o">.</span><span class="n">value_counts</span><span class="p">()</span>
</pre></div>

     </div>
</div>
</div>
</div>

<div class="jp-Cell-outputWrapper">


<div class="jp-OutputArea jp-Cell-outputArea">

<div class="jp-OutputArea-child">

    
    <div class="jp-OutputPrompt jp-OutputArea-prompt">Out[246]:</div>




<div class="jp-RenderedText jp-OutputArea-output jp-OutputArea-executeResult" data-mime-type="text/plain">
<pre>0    3184
1     226
Name: 1day_yn, dtype: int64</pre>
</div>

</div>

</div>

</div>

</div><div class="jp-Cell jp-CodeCell jp-Notebook-cell jp-mod-noOutputs  ">
<div class="jp-Cell-inputWrapper">
<div class="jp-InputArea jp-Cell-inputArea">
<div class="jp-InputPrompt jp-InputArea-prompt">In&nbsp;[247]:</div>
<div class="jp-CodeMirrorEditor jp-Editor jp-InputArea-editor" data-type="inline">
     <div class="CodeMirror cm-s-jupyter">
<div class=" highlight hl-ipython3"><pre><span></span><span class="n">sub_2</span><span class="o">=</span><span class="n">test_id_1</span><span class="o">.</span><span class="n">join</span><span class="p">(</span><span class="n">tab_pred</span><span class="p">,</span> <span class="n">how</span><span class="o">=</span> <span class="s1">&#39;inner&#39;</span><span class="p">)</span>
</pre></div>

     </div>
</div>
</div>
</div>

</div><div class="jp-Cell jp-CodeCell jp-Notebook-cell   ">
<div class="jp-Cell-inputWrapper">
<div class="jp-InputArea jp-Cell-inputArea">
<div class="jp-InputPrompt jp-InputArea-prompt">In&nbsp;[248]:</div>
<div class="jp-CodeMirrorEditor jp-Editor jp-InputArea-editor" data-type="inline">
     <div class="CodeMirror cm-s-jupyter">
<div class=" highlight hl-ipython3"><pre><span></span><span class="kn">import</span> <span class="nn">matplotlib.pyplot</span> <span class="k">as</span> <span class="nn">plt</span>
<span class="kn">import</span> <span class="nn">seaborn</span> <span class="k">as</span> <span class="nn">sns</span>
<span class="o">%</span><span class="k">matplotlib</span> inline

<span class="n">ftr_importance_values</span> <span class="o">=</span> <span class="n">clf1</span><span class="o">.</span><span class="n">feature_importances_</span>
<span class="n">importance</span> <span class="o">=</span> <span class="n">pd</span><span class="o">.</span><span class="n">Series</span><span class="p">(</span><span class="n">ftr_importance_values</span><span class="p">,</span> <span class="n">index</span><span class="o">=</span><span class="n">X_resampled1</span><span class="o">.</span><span class="n">columns</span><span class="p">)</span>
<span class="n">top20</span><span class="o">=</span><span class="n">importance</span><span class="o">.</span><span class="n">sort_values</span><span class="p">(</span><span class="n">ascending</span><span class="o">=</span><span class="kc">False</span><span class="p">)[:</span><span class="mi">20</span><span class="p">]</span>

<span class="n">plt</span><span class="o">.</span><span class="n">figure</span><span class="p">(</span><span class="n">figsize</span><span class="o">=</span><span class="p">(</span><span class="mi">8</span><span class="p">,</span> <span class="mi">6</span><span class="p">))</span>
<span class="n">sns</span><span class="o">.</span><span class="n">barplot</span><span class="p">(</span><span class="n">x</span><span class="o">=</span><span class="n">top20</span><span class="p">,</span> <span class="n">y</span> <span class="o">=</span> <span class="n">top20</span><span class="o">.</span><span class="n">index</span><span class="p">)</span>
<span class="n">plt</span><span class="o">.</span><span class="n">show</span><span class="p">()</span>
</pre></div>

     </div>
</div>
</div>
</div>

<div class="jp-Cell-outputWrapper">


<div class="jp-OutputArea jp-Cell-outputArea">

<div class="jp-OutputArea-child">

    
    <div class="jp-OutputPrompt jp-OutputArea-prompt"></div>




<div class="jp-RenderedImage jp-OutputArea-output ">
<img src="data:image/png;base64,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
"
>
</div>

</div>

</div>

</div>

</div><div class="jp-Cell jp-CodeCell jp-Notebook-cell   ">
<div class="jp-Cell-inputWrapper">
<div class="jp-InputArea jp-Cell-inputArea">
<div class="jp-InputPrompt jp-InputArea-prompt">In&nbsp;[249]:</div>
<div class="jp-CodeMirrorEditor jp-Editor jp-InputArea-editor" data-type="inline">
     <div class="CodeMirror cm-s-jupyter">
<div class=" highlight hl-ipython3"><pre><span></span><span class="n">ftr_importance_values</span> <span class="o">=</span> <span class="n">clf2</span><span class="o">.</span><span class="n">feature_importances_</span>
<span class="n">importance</span> <span class="o">=</span> <span class="n">pd</span><span class="o">.</span><span class="n">Series</span><span class="p">(</span><span class="n">ftr_importance_values</span><span class="p">,</span> <span class="n">index</span><span class="o">=</span><span class="n">X_resampled2</span><span class="o">.</span><span class="n">columns</span><span class="p">)</span>
<span class="n">top20</span><span class="o">=</span><span class="n">importance</span><span class="o">.</span><span class="n">sort_values</span><span class="p">(</span><span class="n">ascending</span><span class="o">=</span><span class="kc">False</span><span class="p">)[:</span><span class="mi">20</span><span class="p">]</span>

<span class="n">plt</span><span class="o">.</span><span class="n">figure</span><span class="p">(</span><span class="n">figsize</span><span class="o">=</span><span class="p">(</span><span class="mi">8</span><span class="p">,</span> <span class="mi">6</span><span class="p">))</span>
<span class="n">sns</span><span class="o">.</span><span class="n">barplot</span><span class="p">(</span><span class="n">x</span><span class="o">=</span><span class="n">top20</span><span class="p">,</span> <span class="n">y</span> <span class="o">=</span> <span class="n">top20</span><span class="o">.</span><span class="n">index</span><span class="p">)</span>
<span class="n">plt</span><span class="o">.</span><span class="n">show</span><span class="p">()</span>
</pre></div>

     </div>
</div>
</div>
</div>

<div class="jp-Cell-outputWrapper">


<div class="jp-OutputArea jp-Cell-outputArea">

<div class="jp-OutputArea-child">

    
    <div class="jp-OutputPrompt jp-OutputArea-prompt"></div>




<div class="jp-RenderedImage jp-OutputArea-output ">
<img src="data:image/png;base64,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
"
>
</div>

</div>

</div>

</div>

</div><div class="jp-Cell jp-CodeCell jp-Notebook-cell   ">
<div class="jp-Cell-inputWrapper">
<div class="jp-InputArea jp-Cell-inputArea">
<div class="jp-InputPrompt jp-InputArea-prompt">In&nbsp;[250]:</div>
<div class="jp-CodeMirrorEditor jp-Editor jp-InputArea-editor" data-type="inline">
     <div class="CodeMirror cm-s-jupyter">
<div class=" highlight hl-ipython3"><pre><span></span><span class="n">ftr_importance_values</span> <span class="o">=</span> <span class="n">clf3</span><span class="o">.</span><span class="n">feature_importances_</span>
<span class="n">importance</span> <span class="o">=</span> <span class="n">pd</span><span class="o">.</span><span class="n">Series</span><span class="p">(</span><span class="n">ftr_importance_values</span><span class="p">,</span> <span class="n">index</span><span class="o">=</span><span class="n">X_resampled3</span><span class="o">.</span><span class="n">columns</span><span class="p">)</span>
<span class="n">top20</span><span class="o">=</span><span class="n">importance</span><span class="o">.</span><span class="n">sort_values</span><span class="p">(</span><span class="n">ascending</span><span class="o">=</span><span class="kc">False</span><span class="p">)[:</span><span class="mi">20</span><span class="p">]</span>

<span class="n">plt</span><span class="o">.</span><span class="n">figure</span><span class="p">(</span><span class="n">figsize</span><span class="o">=</span><span class="p">(</span><span class="mi">8</span><span class="p">,</span> <span class="mi">6</span><span class="p">))</span>
<span class="n">sns</span><span class="o">.</span><span class="n">barplot</span><span class="p">(</span><span class="n">x</span><span class="o">=</span><span class="n">top20</span><span class="p">,</span> <span class="n">y</span> <span class="o">=</span> <span class="n">top20</span><span class="o">.</span><span class="n">index</span><span class="p">)</span>
<span class="n">plt</span><span class="o">.</span><span class="n">show</span><span class="p">()</span>
</pre></div>

     </div>
</div>
</div>
</div>

<div class="jp-Cell-outputWrapper">


<div class="jp-OutputArea jp-Cell-outputArea">

<div class="jp-OutputArea-child">

    
    <div class="jp-OutputPrompt jp-OutputArea-prompt"></div>




<div class="jp-RenderedImage jp-OutputArea-output ">
<img src="data:image/png;base64,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
"
>
</div>

</div>

</div>

</div>

</div><div class="jp-Cell jp-CodeCell jp-Notebook-cell   ">
<div class="jp-Cell-inputWrapper">
<div class="jp-InputArea jp-Cell-inputArea">
<div class="jp-InputPrompt jp-InputArea-prompt">In&nbsp;[252]:</div>
<div class="jp-CodeMirrorEditor jp-Editor jp-InputArea-editor" data-type="inline">
     <div class="CodeMirror cm-s-jupyter">
<div class=" highlight hl-ipython3"><pre><span></span><span class="n">ftr_importance_values</span> <span class="o">=</span> <span class="n">clf4</span><span class="o">.</span><span class="n">feature_importances_</span>
<span class="n">importance</span> <span class="o">=</span> <span class="n">pd</span><span class="o">.</span><span class="n">Series</span><span class="p">(</span><span class="n">ftr_importance_values</span><span class="p">,</span> <span class="n">index</span><span class="o">=</span><span class="n">X_resampled4</span><span class="o">.</span><span class="n">columns</span><span class="p">)</span>
<span class="n">top20</span><span class="o">=</span><span class="n">importance</span><span class="o">.</span><span class="n">sort_values</span><span class="p">(</span><span class="n">ascending</span><span class="o">=</span><span class="kc">False</span><span class="p">)[:</span><span class="mi">20</span><span class="p">]</span>

<span class="n">plt</span><span class="o">.</span><span class="n">figure</span><span class="p">(</span><span class="n">figsize</span><span class="o">=</span><span class="p">(</span><span class="mi">8</span><span class="p">,</span> <span class="mi">6</span><span class="p">))</span>
<span class="n">sns</span><span class="o">.</span><span class="n">barplot</span><span class="p">(</span><span class="n">x</span><span class="o">=</span><span class="n">top20</span><span class="p">,</span> <span class="n">y</span> <span class="o">=</span> <span class="n">top20</span><span class="o">.</span><span class="n">index</span><span class="p">)</span>
<span class="n">plt</span><span class="o">.</span><span class="n">show</span><span class="p">()</span>
</pre></div>

     </div>
</div>
</div>
</div>

<div class="jp-Cell-outputWrapper">


<div class="jp-OutputArea jp-Cell-outputArea">

<div class="jp-OutputArea-child">

    
    <div class="jp-OutputPrompt jp-OutputArea-prompt"></div>




<div class="jp-RenderedImage jp-OutputArea-output ">
<img src="data:image/png;base64,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
"
>
</div>

</div>

</div>

</div>

</div><div class="jp-Cell jp-CodeCell jp-Notebook-cell   ">
<div class="jp-Cell-inputWrapper">
<div class="jp-InputArea jp-Cell-inputArea">
<div class="jp-InputPrompt jp-InputArea-prompt">In&nbsp;[253]:</div>
<div class="jp-CodeMirrorEditor jp-Editor jp-InputArea-editor" data-type="inline">
     <div class="CodeMirror cm-s-jupyter">
<div class=" highlight hl-ipython3"><pre><span></span><span class="n">ftr_importance_values</span> <span class="o">=</span> <span class="n">clf5</span><span class="o">.</span><span class="n">feature_importances_</span>
<span class="n">importance</span> <span class="o">=</span> <span class="n">pd</span><span class="o">.</span><span class="n">Series</span><span class="p">(</span><span class="n">ftr_importance_values</span><span class="p">,</span> <span class="n">index</span><span class="o">=</span><span class="n">X_resampled5</span><span class="o">.</span><span class="n">columns</span><span class="p">)</span>
<span class="n">top20</span><span class="o">=</span><span class="n">importance</span><span class="o">.</span><span class="n">sort_values</span><span class="p">(</span><span class="n">ascending</span><span class="o">=</span><span class="kc">False</span><span class="p">)[:</span><span class="mi">20</span><span class="p">]</span>

<span class="n">plt</span><span class="o">.</span><span class="n">figure</span><span class="p">(</span><span class="n">figsize</span><span class="o">=</span><span class="p">(</span><span class="mi">8</span><span class="p">,</span> <span class="mi">6</span><span class="p">))</span>
<span class="n">sns</span><span class="o">.</span><span class="n">barplot</span><span class="p">(</span><span class="n">x</span><span class="o">=</span><span class="n">top20</span><span class="p">,</span> <span class="n">y</span> <span class="o">=</span> <span class="n">top20</span><span class="o">.</span><span class="n">index</span><span class="p">)</span>
<span class="n">plt</span><span class="o">.</span><span class="n">show</span><span class="p">()</span>
</pre></div>

     </div>
</div>
</div>
</div>

<div class="jp-Cell-outputWrapper">


<div class="jp-OutputArea jp-Cell-outputArea">

<div class="jp-OutputArea-child">

    
    <div class="jp-OutputPrompt jp-OutputArea-prompt"></div>




<div class="jp-RenderedImage jp-OutputArea-output ">
<img src="data:image/png;base64,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
"
>
</div>

</div>

</div>

</div>

</div><div class="jp-Cell jp-CodeCell jp-Notebook-cell   ">
<div class="jp-Cell-inputWrapper">
<div class="jp-InputArea jp-Cell-inputArea">
<div class="jp-InputPrompt jp-InputArea-prompt">In&nbsp;[254]:</div>
<div class="jp-CodeMirrorEditor jp-Editor jp-InputArea-editor" data-type="inline">
     <div class="CodeMirror cm-s-jupyter">
<div class=" highlight hl-ipython3"><pre><span></span><span class="n">ftr_importance_values</span> <span class="o">=</span> <span class="n">clf6</span><span class="o">.</span><span class="n">feature_importances_</span>
<span class="n">importance</span> <span class="o">=</span> <span class="n">pd</span><span class="o">.</span><span class="n">Series</span><span class="p">(</span><span class="n">ftr_importance_values</span><span class="p">,</span> <span class="n">index</span><span class="o">=</span><span class="n">X_resampled6</span><span class="o">.</span><span class="n">columns</span><span class="p">)</span>
<span class="n">top20</span><span class="o">=</span><span class="n">importance</span><span class="o">.</span><span class="n">sort_values</span><span class="p">(</span><span class="n">ascending</span><span class="o">=</span><span class="kc">False</span><span class="p">)[:</span><span class="mi">20</span><span class="p">]</span>

<span class="n">plt</span><span class="o">.</span><span class="n">figure</span><span class="p">(</span><span class="n">figsize</span><span class="o">=</span><span class="p">(</span><span class="mi">8</span><span class="p">,</span> <span class="mi">6</span><span class="p">))</span>
<span class="n">sns</span><span class="o">.</span><span class="n">barplot</span><span class="p">(</span><span class="n">x</span><span class="o">=</span><span class="n">top20</span><span class="p">,</span> <span class="n">y</span> <span class="o">=</span> <span class="n">top20</span><span class="o">.</span><span class="n">index</span><span class="p">)</span>
<span class="n">plt</span><span class="o">.</span><span class="n">show</span><span class="p">()</span>
</pre></div>

     </div>
</div>
</div>
</div>

<div class="jp-Cell-outputWrapper">


<div class="jp-OutputArea jp-Cell-outputArea">

<div class="jp-OutputArea-child">

    
    <div class="jp-OutputPrompt jp-OutputArea-prompt"></div>




<div class="jp-RenderedImage jp-OutputArea-output ">
<img src="data:image/png;base64,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
"
>
</div>

</div>

</div>

</div>

</div><div class="jp-Cell jp-CodeCell jp-Notebook-cell jp-mod-noOutputs  ">
<div class="jp-Cell-inputWrapper">
<div class="jp-InputArea jp-Cell-inputArea">
<div class="jp-InputPrompt jp-InputArea-prompt">In&nbsp;[251]:</div>
<div class="jp-CodeMirrorEditor jp-Editor jp-InputArea-editor" data-type="inline">
     <div class="CodeMirror cm-s-jupyter">
<div class=" highlight hl-ipython3"><pre><span></span><span class="n">sub_2</span><span class="o">.</span><span class="n">to_csv</span><span class="p">(</span><span class="s1">&#39;tab_101.csv&#39;</span><span class="p">,</span> <span class="n">index</span><span class="o">=</span><span class="kc">False</span><span class="p">,</span> <span class="n">encoding</span><span class="o">=</span><span class="s1">&#39;CP949&#39;</span><span class="p">)</span>
</pre></div>

     </div>
</div>
</div>
</div>

</div><div class="jp-Cell jp-CodeCell jp-Notebook-cell jp-mod-noOutputs  ">
<div class="jp-Cell-inputWrapper">
<div class="jp-InputArea jp-Cell-inputArea">
<div class="jp-InputPrompt jp-InputArea-prompt">In&nbsp;[&nbsp;]:</div>
<div class="jp-CodeMirrorEditor jp-Editor jp-InputArea-editor" data-type="inline">
     <div class="CodeMirror cm-s-jupyter">
<div class=" highlight hl-ipython3"><pre><span></span> 
</pre></div>

     </div>
</div>
</div>
</div>

</div><div class="jp-Cell jp-CodeCell jp-Notebook-cell jp-mod-noOutputs  ">
<div class="jp-Cell-inputWrapper">
<div class="jp-InputArea jp-Cell-inputArea">
<div class="jp-InputPrompt jp-InputArea-prompt">In&nbsp;[&nbsp;]:</div>
<div class="jp-CodeMirrorEditor jp-Editor jp-InputArea-editor" data-type="inline">
     <div class="CodeMirror cm-s-jupyter">
<div class=" highlight hl-ipython3"><pre><span></span> 
</pre></div>

     </div>
</div>
</div>
</div>

</div>
</body>







</html>
